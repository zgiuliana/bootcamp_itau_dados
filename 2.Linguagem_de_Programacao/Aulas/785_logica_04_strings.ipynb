{
 "cells": [
  {
   "cell_type": "markdown",
   "id": "15d0ee50",
   "metadata": {},
   "source": [
    "# ~~Revisão~~ Continuação da aula anterior..."
   ]
  },
  {
   "cell_type": "markdown",
   "id": "d21a4090",
   "metadata": {},
   "source": [
    "Vamos abordar os últimos tópicos e rever os conceitos!"
   ]
  },
  {
   "cell_type": "markdown",
   "id": "e905baae",
   "metadata": {},
   "source": [
    "# Recados importantes"
   ]
  },
  {
   "cell_type": "markdown",
   "id": "8f3eebb0",
   "metadata": {},
   "source": [
    "1. A partir de amanhã, aulas de Lógica de Programação com o Walisson no período da manhã!\n",
    "1. Começaremos Bancos de Dados e SQL no período da tarde!  \n",
    "1. Seja em-vindo, Jefferson!"
   ]
  },
  {
   "cell_type": "markdown",
   "id": "58ec22fd",
   "metadata": {},
   "source": [
    "# Aula 4 - strings"
   ]
  },
  {
   "cell_type": "markdown",
   "id": "708b005c",
   "metadata": {},
   "source": [
    "Na aula de hoje, vamos explorar os seguintes tópicos em Python:\n",
    "\n",
    "- 1) Strings\n",
    "- 2) Funções de Strings\n",
    "    - 2.1) Formatação de strings"
   ]
  },
  {
   "cell_type": "markdown",
   "id": "4780c4df",
   "metadata": {},
   "source": [
    "# Habilidades a serem desenvolvidas"
   ]
  },
  {
   "cell_type": "markdown",
   "id": "d2b8dcd8",
   "metadata": {},
   "source": [
    "\n",
    "Ao final da aula o aluno deve:\n",
    "\n",
    "- Reconhecer strings como coleções de caracteres;\n",
    "- Saber acessar elementos individuas e slices de strings;\n",
    "- Saber iterar sobre strings;\n",
    "- Conhecer os principais métodos e funções que atuam sobre strings;\n",
    "- Entender a inportância de processar strings;\n",
    "- Saber formatar strings com o `format()`"
   ]
  },
  {
   "cell_type": "markdown",
   "id": "a89fdbcb",
   "metadata": {},
   "source": [
    "# Strings"
   ]
  },
  {
   "cell_type": "markdown",
   "id": "d2fe89df",
   "metadata": {},
   "source": [
    "\n",
    "Desde a primeira aula, temos trabalhado com strings, que, como vimos, representam **dados textuais**.\n",
    "\n",
    "Vamos, agora, olhar pra strings um pouco mais a fundo, e aprender algumas funções para trabalharmos com strings."
   ]
  },
  {
   "cell_type": "markdown",
   "id": "b6dfe865",
   "metadata": {},
   "source": [
    "Uma string nada mais é do que uma **coleção de caracteres**!\n",
    "\n",
    "Assim, podemos acessar caracteres específicos ou então um intervalo de caracteres de uma string, como se fosse uma lista!\n",
    "\n",
    "**OBS.: Para strings também, o índice começa em 0, e podemos usar índices negativos!**"
   ]
  },
  {
   "cell_type": "code",
   "execution_count": 20,
   "id": "bc2787a4",
   "metadata": {
    "ExecuteTime": {
     "end_time": "2021-07-12T20:05:36.717337Z",
     "start_time": "2021-07-12T20:05:36.703303Z"
    }
   },
   "outputs": [],
   "source": [
    "nome = 'Jefferson'"
   ]
  },
  {
   "cell_type": "code",
   "execution_count": 24,
   "id": "722fa0ce",
   "metadata": {
    "ExecuteTime": {
     "end_time": "2021-07-12T20:06:02.810965Z",
     "start_time": "2021-07-12T20:06:02.806940Z"
    }
   },
   "outputs": [
    {
     "data": {
      "text/plain": [
       "'J'"
      ]
     },
     "execution_count": 24,
     "metadata": {},
     "output_type": "execute_result"
    }
   ],
   "source": [
    "nome[0]"
   ]
  },
  {
   "cell_type": "markdown",
   "id": "4d4a7ea1",
   "metadata": {},
   "source": [
    "Para saber o comprimento de uma string (quantos caracteres ela tem, incluindo espaços e pontuações), use a função len():"
   ]
  },
  {
   "cell_type": "code",
   "execution_count": 25,
   "id": "0730ef48",
   "metadata": {
    "ExecuteTime": {
     "end_time": "2021-07-12T20:06:24.295113Z",
     "start_time": "2021-07-12T20:06:24.284112Z"
    }
   },
   "outputs": [
    {
     "data": {
      "text/plain": [
       "9"
      ]
     },
     "execution_count": 25,
     "metadata": {},
     "output_type": "execute_result"
    }
   ],
   "source": [
    "len(nome)"
   ]
  },
  {
   "cell_type": "markdown",
   "id": "93694eae",
   "metadata": {},
   "source": [
    "Podemos também percorrer cada caractere da string com o `for` -- strings são objetos **iteráveis**:"
   ]
  },
  {
   "cell_type": "code",
   "execution_count": 26,
   "id": "4cde13bd",
   "metadata": {
    "ExecuteTime": {
     "end_time": "2021-07-12T20:07:12.766623Z",
     "start_time": "2021-07-12T20:07:12.756594Z"
    }
   },
   "outputs": [
    {
     "name": "stdout",
     "output_type": "stream",
     "text": [
      "J\n",
      "e\n",
      "f\n",
      "f\n",
      "e\n",
      "r\n",
      "s\n",
      "o\n",
      "n\n"
     ]
    }
   ],
   "source": [
    "for letra in nome:\n",
    "    print(letra)"
   ]
  },
  {
   "cell_type": "markdown",
   "id": "71685a17",
   "metadata": {},
   "source": [
    "Dá pra fazer o mesmo com o range() e o len():"
   ]
  },
  {
   "cell_type": "code",
   "execution_count": 27,
   "id": "298107e7",
   "metadata": {
    "ExecuteTime": {
     "end_time": "2021-07-12T20:09:11.343925Z",
     "start_time": "2021-07-12T20:09:11.331360Z"
    }
   },
   "outputs": [
    {
     "name": "stdout",
     "output_type": "stream",
     "text": [
      "J\n",
      "e\n",
      "f\n",
      "f\n",
      "e\n",
      "r\n",
      "s\n",
      "o\n",
      "n\n"
     ]
    }
   ],
   "source": [
    "for i in range(len(nome)):\n",
    "    print(nome[i])"
   ]
  },
  {
   "cell_type": "markdown",
   "id": "8ae3345a",
   "metadata": {},
   "source": [
    "Apesar de se parecer com uma lista, a string não tem exatamente as propriedades de uma lista. Por exemplo, **não podemos alterar** caracteres individualmente:"
   ]
  },
  {
   "cell_type": "code",
   "execution_count": 28,
   "id": "1b53ff0c",
   "metadata": {
    "ExecuteTime": {
     "end_time": "2021-07-12T20:09:54.352932Z",
     "start_time": "2021-07-12T20:09:54.338674Z"
    }
   },
   "outputs": [],
   "source": [
    "nome = 'Jefferson'"
   ]
  },
  {
   "cell_type": "code",
   "execution_count": 29,
   "id": "593a0f69",
   "metadata": {
    "ExecuteTime": {
     "end_time": "2021-07-12T20:10:24.306778Z",
     "start_time": "2021-07-12T20:10:24.275200Z"
    }
   },
   "outputs": [
    {
     "ename": "TypeError",
     "evalue": "'str' object does not support item assignment",
     "output_type": "error",
     "traceback": [
      "\u001b[1;31m---------------------------------------------------------------------------\u001b[0m",
      "\u001b[1;31mTypeError\u001b[0m                                 Traceback (most recent call last)",
      "\u001b[1;32m<ipython-input-29-dab00baa68ae>\u001b[0m in \u001b[0;36m<module>\u001b[1;34m\u001b[0m\n\u001b[1;32m----> 1\u001b[1;33m \u001b[0mnome\u001b[0m\u001b[1;33m[\u001b[0m\u001b[1;33m-\u001b[0m\u001b[1;36m1\u001b[0m\u001b[1;33m]\u001b[0m \u001b[1;33m=\u001b[0m \u001b[1;34m'M'\u001b[0m\u001b[1;33m\u001b[0m\u001b[1;33m\u001b[0m\u001b[0m\n\u001b[0m",
      "\u001b[1;31mTypeError\u001b[0m: 'str' object does not support item assignment"
     ]
    }
   ],
   "source": [
    "nome[-1] = 'M'"
   ]
  },
  {
   "cell_type": "markdown",
   "id": "e78054d1",
   "metadata": {},
   "source": [
    "Mas nós conseguimos **alterar caracteres (ou palavras)** com o método \"replace()\":"
   ]
  },
  {
   "cell_type": "code",
   "execution_count": 30,
   "id": "dffbe064",
   "metadata": {
    "ExecuteTime": {
     "end_time": "2021-07-12T20:10:57.424761Z",
     "start_time": "2021-07-12T20:10:57.417756Z"
    }
   },
   "outputs": [],
   "source": [
    "nome = \"André Picolé, é é\""
   ]
  },
  {
   "cell_type": "code",
   "execution_count": 31,
   "id": "01653983",
   "metadata": {
    "ExecuteTime": {
     "end_time": "2021-07-12T20:11:16.321906Z",
     "start_time": "2021-07-12T20:11:16.301948Z"
    }
   },
   "outputs": [
    {
     "data": {
      "text/plain": [
       "'Andre... Picole..., e... e...'"
      ]
     },
     "execution_count": 31,
     "metadata": {},
     "output_type": "execute_result"
    }
   ],
   "source": [
    "nome.replace('é', 'e...')"
   ]
  },
  {
   "cell_type": "code",
   "execution_count": 37,
   "id": "430d67fd",
   "metadata": {
    "ExecuteTime": {
     "end_time": "2021-07-12T20:12:26.113215Z",
     "start_time": "2021-07-12T20:12:26.104772Z"
    }
   },
   "outputs": [
    {
     "data": {
      "text/plain": [
       "'Andre... Picole..., é é'"
      ]
     },
     "execution_count": 37,
     "metadata": {},
     "output_type": "execute_result"
    }
   ],
   "source": [
    "# ultimo parametro: quantidade de primeiras aparições do caractere a ser substituido\n",
    "nome.replace('é', 'e...', 2)"
   ]
  },
  {
   "cell_type": "markdown",
   "id": "9b3ca8f2",
   "metadata": {},
   "source": [
    "Podemos **transformar uma string em uma lista de caracteres**, explicitamente, usando a fução \"list()\""
   ]
  },
  {
   "cell_type": "code",
   "execution_count": 39,
   "id": "08014fa0",
   "metadata": {
    "ExecuteTime": {
     "end_time": "2021-07-12T20:12:53.737312Z",
     "start_time": "2021-07-12T20:12:53.721806Z"
    }
   },
   "outputs": [
    {
     "data": {
      "text/plain": [
       "['A',\n",
       " 'n',\n",
       " 'd',\n",
       " 'r',\n",
       " 'é',\n",
       " ' ',\n",
       " 'P',\n",
       " 'i',\n",
       " 'c',\n",
       " 'o',\n",
       " 'l',\n",
       " 'é',\n",
       " ',',\n",
       " ' ',\n",
       " 'é',\n",
       " ' ',\n",
       " 'é']"
      ]
     },
     "execution_count": 39,
     "metadata": {},
     "output_type": "execute_result"
    }
   ],
   "source": [
    "lista_nome = list(nome)\n",
    "lista_nome"
   ]
  },
  {
   "cell_type": "markdown",
   "id": "301078c6",
   "metadata": {},
   "source": [
    "Agora sim, podemos alterar um elemento da lista:"
   ]
  },
  {
   "cell_type": "code",
   "execution_count": 40,
   "id": "fffa7ab0",
   "metadata": {
    "ExecuteTime": {
     "end_time": "2021-07-12T20:13:14.957934Z",
     "start_time": "2021-07-12T20:13:14.941965Z"
    }
   },
   "outputs": [
    {
     "data": {
      "text/plain": [
       "['A',\n",
       " 'n',\n",
       " 'd',\n",
       " 'r',\n",
       " 'é',\n",
       " ' ',\n",
       " 'P',\n",
       " 'i',\n",
       " 'c',\n",
       " 'o',\n",
       " 'l',\n",
       " 'é',\n",
       " ',',\n",
       " ' ',\n",
       " 'é',\n",
       " ' ',\n",
       " 'e...']"
      ]
     },
     "execution_count": 40,
     "metadata": {},
     "output_type": "execute_result"
    }
   ],
   "source": [
    "lista_nome[-1] = 'e...'\n",
    "lista_nome"
   ]
  },
  {
   "cell_type": "markdown",
   "id": "0241f7c9",
   "metadata": {},
   "source": [
    "E, pra trasnformar a lista de volta pra string, usamos a função \"join()\":"
   ]
  },
  {
   "cell_type": "code",
   "execution_count": 42,
   "id": "6e7be48d",
   "metadata": {
    "ExecuteTime": {
     "end_time": "2021-07-12T20:16:02.059889Z",
     "start_time": "2021-07-12T20:16:02.051888Z"
    }
   },
   "outputs": [
    {
     "data": {
      "text/plain": [
       "'André Picolé, é e...'"
      ]
     },
     "execution_count": 42,
     "metadata": {},
     "output_type": "execute_result"
    }
   ],
   "source": [
    "nome_novo = \"\".join(lista_nome)\n",
    "nome_novo"
   ]
  },
  {
   "cell_type": "markdown",
   "id": "266a7f15",
   "metadata": {},
   "source": [
    "Um exemplo do uso do .join() pra juntar os números de uma lista em um único numero"
   ]
  },
  {
   "cell_type": "code",
   "execution_count": 46,
   "id": "23e8c0e3",
   "metadata": {
    "ExecuteTime": {
     "end_time": "2021-07-12T20:18:55.483362Z",
     "start_time": "2021-07-12T20:18:55.463782Z"
    }
   },
   "outputs": [
    {
     "data": {
      "text/plain": [
       "2123"
      ]
     },
     "execution_count": 46,
     "metadata": {},
     "output_type": "execute_result"
    }
   ],
   "source": [
    "lista_num = [2, 1, 2, 3]\n",
    "\n",
    "lista_num_text = [str(x) for x in lista_num]\n",
    "\n",
    "int(\"\".join(lista_num_text))"
   ]
  },
  {
   "cell_type": "code",
   "execution_count": 47,
   "id": "52b0a725",
   "metadata": {
    "ExecuteTime": {
     "end_time": "2021-07-12T20:20:18.580015Z",
     "start_time": "2021-07-12T20:20:18.566470Z"
    }
   },
   "outputs": [
    {
     "data": {
      "text/plain": [
       "2123"
      ]
     },
     "execution_count": 47,
     "metadata": {},
     "output_type": "execute_result"
    }
   ],
   "source": [
    "# em uma única linha\n",
    "int(\"\".join([str(x) for x in lista_num]))"
   ]
  },
  {
   "cell_type": "markdown",
   "id": "3a03f80b",
   "metadata": {},
   "source": [
    "Como já vimos, podemos fazer **operações com strings**:"
   ]
  },
  {
   "cell_type": "markdown",
   "id": "7e30a60a",
   "metadata": {},
   "source": [
    "Soma de strings: ao somar duas strings, elas são concatenadas:"
   ]
  },
  {
   "cell_type": "code",
   "execution_count": 49,
   "id": "d3e834b3",
   "metadata": {
    "ExecuteTime": {
     "end_time": "2021-07-12T20:20:48.571729Z",
     "start_time": "2021-07-12T20:20:48.559218Z"
    }
   },
   "outputs": [
    {
     "data": {
      "text/plain": [
       "'André Picolé'"
      ]
     },
     "execution_count": 49,
     "metadata": {},
     "output_type": "execute_result"
    }
   ],
   "source": [
    "'André ' + 'Picolé'"
   ]
  },
  {
   "cell_type": "markdown",
   "id": "3a7de61e",
   "metadata": {},
   "source": [
    "Multiplicação de string por inteiro: ao multiplicar uma string por um número inteiro, a string é repetida:"
   ]
  },
  {
   "cell_type": "code",
   "execution_count": 50,
   "id": "add9ea8b",
   "metadata": {
    "ExecuteTime": {
     "end_time": "2021-07-12T20:20:58.489390Z",
     "start_time": "2021-07-12T20:20:58.474737Z"
    }
   },
   "outputs": [
    {
     "data": {
      "text/plain": [
       "'André André André '"
      ]
     },
     "execution_count": 50,
     "metadata": {},
     "output_type": "execute_result"
    }
   ],
   "source": [
    "'André ' * 3"
   ]
  },
  {
   "cell_type": "markdown",
   "id": "402ff2f8",
   "metadata": {},
   "source": [
    "## Funções de strings"
   ]
  },
  {
   "cell_type": "markdown",
   "id": "f3ab6499",
   "metadata": {},
   "source": [
    "Como listas, strings também têm algumas funções específicas. Algumas delas são:\n",
    "\n",
    "### upper\n",
    ".upper(): transforma todos os caracteres em maiúscula"
   ]
  },
  {
   "cell_type": "code",
   "execution_count": 52,
   "id": "a5c57a80",
   "metadata": {
    "ExecuteTime": {
     "end_time": "2021-07-12T20:22:39.865791Z",
     "start_time": "2021-07-12T20:22:39.856792Z"
    }
   },
   "outputs": [],
   "source": [
    "nome = 'Patricia'"
   ]
  },
  {
   "cell_type": "code",
   "execution_count": 53,
   "id": "e481842c",
   "metadata": {
    "ExecuteTime": {
     "end_time": "2021-07-12T20:22:40.345087Z",
     "start_time": "2021-07-12T20:22:40.338556Z"
    }
   },
   "outputs": [
    {
     "data": {
      "text/plain": [
       "'PATRICIA'"
      ]
     },
     "execution_count": 53,
     "metadata": {},
     "output_type": "execute_result"
    }
   ],
   "source": [
    "nome.upper() # equivalente a upper(nome)"
   ]
  },
  {
   "cell_type": "markdown",
   "id": "47883ce5",
   "metadata": {},
   "source": [
    "### lower"
   ]
  },
  {
   "cell_type": "markdown",
   "id": "6d3c6dad",
   "metadata": {},
   "source": [
    ".lower(): trasnforma todos os caracteres em minúscula"
   ]
  },
  {
   "cell_type": "code",
   "execution_count": 54,
   "id": "9fc8e181",
   "metadata": {
    "ExecuteTime": {
     "end_time": "2021-07-12T20:24:03.765220Z",
     "start_time": "2021-07-12T20:24:03.752099Z"
    }
   },
   "outputs": [
    {
     "data": {
      "text/plain": [
       "'patricia'"
      ]
     },
     "execution_count": 54,
     "metadata": {},
     "output_type": "execute_result"
    }
   ],
   "source": [
    "nome.lower()"
   ]
  },
  {
   "cell_type": "code",
   "execution_count": 55,
   "id": "dff74937",
   "metadata": {
    "ExecuteTime": {
     "end_time": "2021-07-12T20:24:37.887438Z",
     "start_time": "2021-07-12T20:24:37.881354Z"
    }
   },
   "outputs": [
    {
     "data": {
      "text/plain": [
       "'Patricia'"
      ]
     },
     "execution_count": 55,
     "metadata": {},
     "output_type": "execute_result"
    }
   ],
   "source": [
    "nome"
   ]
  },
  {
   "cell_type": "markdown",
   "id": "878fe045",
   "metadata": {},
   "source": [
    "### title"
   ]
  },
  {
   "cell_type": "markdown",
   "id": "9e2971c2",
   "metadata": {},
   "source": [
    ".title(): deixa a primeira letra de cada palavra em maiúscula"
   ]
  },
  {
   "cell_type": "code",
   "execution_count": 60,
   "id": "c4a8896b",
   "metadata": {
    "ExecuteTime": {
     "end_time": "2021-07-12T20:26:49.331365Z",
     "start_time": "2021-07-12T20:26:49.314746Z"
    }
   },
   "outputs": [
    {
     "data": {
      "text/plain": [
       "'Lets Code De Sao Paulo. O Que Acontece Aqui? Nada'"
      ]
     },
     "execution_count": 60,
     "metadata": {},
     "output_type": "execute_result"
    }
   ],
   "source": [
    "escola = \"lets code de sao paulo. o que acontece aqui? nada\"\n",
    "\n",
    "escola.title()"
   ]
  },
  {
   "cell_type": "markdown",
   "id": "7cb60bf6",
   "metadata": {},
   "source": [
    "### capitalize"
   ]
  },
  {
   "cell_type": "markdown",
   "id": "703078c0",
   "metadata": {},
   "source": [
    ".capitalize(): deixa a primeira letra da primeira palavra em maiúscula"
   ]
  },
  {
   "cell_type": "code",
   "execution_count": 61,
   "id": "ed3a4159",
   "metadata": {
    "ExecuteTime": {
     "end_time": "2021-07-12T20:26:50.062451Z",
     "start_time": "2021-07-12T20:26:50.043420Z"
    }
   },
   "outputs": [
    {
     "data": {
      "text/plain": [
       "'Lets code de sao paulo. o que acontece aqui? nada'"
      ]
     },
     "execution_count": 61,
     "metadata": {},
     "output_type": "execute_result"
    }
   ],
   "source": [
    "escola.capitalize()"
   ]
  },
  {
   "cell_type": "markdown",
   "id": "282e64eb",
   "metadata": {},
   "source": [
    "### split"
   ]
  },
  {
   "cell_type": "markdown",
   "id": "082d48c2",
   "metadata": {},
   "source": [
    "É possível quebrar uma string em determinado caractere, tendo como resultado uma **lista com os caracteres além da quebra**.\n",
    "\n",
    "- Para quebrar nos espaços, use a função \".split()\", sem argumento"
   ]
  },
  {
   "cell_type": "code",
   "execution_count": 62,
   "id": "85938366",
   "metadata": {
    "ExecuteTime": {
     "end_time": "2021-07-12T20:27:26.347097Z",
     "start_time": "2021-07-12T20:27:26.343098Z"
    }
   },
   "outputs": [],
   "source": [
    "oi = \"oi, tudo bem?\""
   ]
  },
  {
   "cell_type": "code",
   "execution_count": 63,
   "id": "8ec0d479",
   "metadata": {
    "ExecuteTime": {
     "end_time": "2021-07-12T20:27:30.500518Z",
     "start_time": "2021-07-12T20:27:30.491010Z"
    }
   },
   "outputs": [
    {
     "data": {
      "text/plain": [
       "['oi,', 'tudo', 'bem?']"
      ]
     },
     "execution_count": 63,
     "metadata": {},
     "output_type": "execute_result"
    }
   ],
   "source": [
    "oi.split()"
   ]
  },
  {
   "cell_type": "markdown",
   "id": "501038cb",
   "metadata": {},
   "source": [
    "- Para quebrar em algum caracter, use o caractere como argumento:"
   ]
  },
  {
   "cell_type": "code",
   "execution_count": 66,
   "id": "f44fc959",
   "metadata": {
    "ExecuteTime": {
     "end_time": "2021-07-12T20:28:28.477352Z",
     "start_time": "2021-07-12T20:28:28.462389Z"
    }
   },
   "outputs": [
    {
     "data": {
      "text/plain": [
       "['oi', ' tudo bem?']"
      ]
     },
     "execution_count": 66,
     "metadata": {},
     "output_type": "execute_result"
    }
   ],
   "source": [
    "oi.split(',')"
   ]
  },
  {
   "cell_type": "markdown",
   "id": "515deb64",
   "metadata": {},
   "source": [
    "### strip"
   ]
  },
  {
   "cell_type": "markdown",
   "id": "aacaa1fe",
   "metadata": {},
   "source": [
    "__Tirar espaços que tão sobrando no fim e no início da string__\n",
    "\n",
    "Utilize a função strip()"
   ]
  },
  {
   "cell_type": "code",
   "execution_count": 70,
   "id": "aee591e5",
   "metadata": {
    "ExecuteTime": {
     "end_time": "2021-07-12T20:30:01.362791Z",
     "start_time": "2021-07-12T20:30:01.352822Z"
    }
   },
   "outputs": [
    {
     "data": {
      "text/plain": [
       "'vermelho'"
      ]
     },
     "execution_count": 70,
     "metadata": {},
     "output_type": "execute_result"
    }
   ],
   "source": [
    "cor = \"  vermelho      \"\n",
    "cor.strip()"
   ]
  },
  {
   "cell_type": "code",
   "execution_count": 71,
   "id": "d6c75199",
   "metadata": {
    "ExecuteTime": {
     "end_time": "2021-07-12T20:30:38.295265Z",
     "start_time": "2021-07-12T20:30:38.281265Z"
    }
   },
   "outputs": [
    {
     "data": {
      "text/plain": [
       "'vermelho      '"
      ]
     },
     "execution_count": 71,
     "metadata": {},
     "output_type": "execute_result"
    }
   ],
   "source": [
    "cor.lstrip()"
   ]
  },
  {
   "cell_type": "code",
   "execution_count": 72,
   "id": "bd34cbd0",
   "metadata": {
    "ExecuteTime": {
     "end_time": "2021-07-12T20:30:49.412312Z",
     "start_time": "2021-07-12T20:30:49.397947Z"
    }
   },
   "outputs": [
    {
     "data": {
      "text/plain": [
       "'  vermelho'"
      ]
     },
     "execution_count": 72,
     "metadata": {},
     "output_type": "execute_result"
    }
   ],
   "source": [
    "cor.rstrip()"
   ]
  },
  {
   "cell_type": "markdown",
   "id": "80332595",
   "metadata": {},
   "source": [
    "Mas essa função não elimina espaços extrar no \"meio\" da string -- apenas no início e no fim!"
   ]
  },
  {
   "cell_type": "code",
   "execution_count": 73,
   "id": "0054bfca",
   "metadata": {
    "ExecuteTime": {
     "end_time": "2021-07-12T20:31:14.094647Z",
     "start_time": "2021-07-12T20:31:14.078076Z"
    }
   },
   "outputs": [
    {
     "data": {
      "text/plain": [
       "'vermelho            rosa'"
      ]
     },
     "execution_count": 73,
     "metadata": {},
     "output_type": "execute_result"
    }
   ],
   "source": [
    "cor = \"vermelho            rosa\"\n",
    "cor.strip()"
   ]
  },
  {
   "cell_type": "markdown",
   "id": "395231aa",
   "metadata": {},
   "source": [
    "__Pra tirar espaços do meio, podemos fazer:__"
   ]
  },
  {
   "cell_type": "code",
   "execution_count": 84,
   "id": "fe6097db",
   "metadata": {
    "ExecuteTime": {
     "end_time": "2021-07-12T20:35:14.189572Z",
     "start_time": "2021-07-12T20:35:14.180995Z"
    }
   },
   "outputs": [
    {
     "data": {
      "text/plain": [
       "'vermelho/rosa/verde'"
      ]
     },
     "execution_count": 84,
     "metadata": {},
     "output_type": "execute_result"
    }
   ],
   "source": [
    "cor = \"vermelho            rosa     verde\"\n",
    "\"/\".join(cor.split())"
   ]
  },
  {
   "cell_type": "code",
   "execution_count": 79,
   "id": "1ea6ce81",
   "metadata": {
    "ExecuteTime": {
     "end_time": "2021-07-12T20:33:58.257442Z",
     "start_time": "2021-07-12T20:33:58.252445Z"
    }
   },
   "outputs": [
    {
     "data": {
      "text/plain": [
       "['vermelho', 'rosa', 'verde']"
      ]
     },
     "execution_count": 79,
     "metadata": {},
     "output_type": "execute_result"
    }
   ],
   "source": [
    "cor.split()"
   ]
  },
  {
   "cell_type": "markdown",
   "id": "654e9519",
   "metadata": {},
   "source": [
    "### outras"
   ]
  },
  {
   "cell_type": "markdown",
   "id": "25df1296",
   "metadata": {},
   "source": [
    "Outras funções interessantes...\n",
    "\n",
    "- isdigit()\n",
    "- isalpha()\n",
    "- isalnum()\n",
    "- isspace()"
   ]
  },
  {
   "cell_type": "code",
   "execution_count": 93,
   "id": "fbdb05bc",
   "metadata": {
    "ExecuteTime": {
     "end_time": "2021-07-12T20:43:10.222910Z",
     "start_time": "2021-07-12T20:43:10.214383Z"
    }
   },
   "outputs": [
    {
     "data": {
      "text/plain": [
       "False"
      ]
     },
     "execution_count": 93,
     "metadata": {},
     "output_type": "execute_result"
    }
   ],
   "source": [
    "' '.isdigit()"
   ]
  },
  {
   "cell_type": "code",
   "execution_count": 94,
   "id": "c9e37bf2",
   "metadata": {
    "ExecuteTime": {
     "end_time": "2021-07-12T20:43:14.401451Z",
     "start_time": "2021-07-12T20:43:14.382968Z"
    }
   },
   "outputs": [
    {
     "data": {
      "text/plain": [
       "False"
      ]
     },
     "execution_count": 94,
     "metadata": {},
     "output_type": "execute_result"
    }
   ],
   "source": [
    "' '.isalpha()"
   ]
  },
  {
   "cell_type": "code",
   "execution_count": 96,
   "id": "19c6e2c8",
   "metadata": {
    "ExecuteTime": {
     "end_time": "2021-07-12T20:44:50.795362Z",
     "start_time": "2021-07-12T20:44:50.780354Z"
    }
   },
   "outputs": [
    {
     "name": "stdout",
     "output_type": "stream",
     "text": [
      "lista numeros:  ['1', '3', '0', '0']\n",
      "lista letras:  ['e', 'l', 'e', 'd', 'i', 's', 's', 'e', 'v', 'a', 'm', 'o', 's', 'n', 'o', 's', 'e', 'n', 'c', 'o', 'n', 't', 'r', 'a', 'r', 'à', 's']\n",
      "lista pontos [' ', ':', ' ', ' ', ' ', ' ', ' ', ':']\n"
     ]
    }
   ],
   "source": [
    "# crie três listas somente com numeros, letras e pontos\n",
    "\n",
    "numeros = []\n",
    "letras = []\n",
    "pontos = []\n",
    "\n",
    "frase = \"ele disse: vamos nos encontrar às 13:00\"\n",
    "\n",
    "for caractere in frase:\n",
    "    if caractere.isdigit() == True:  # equivalente a -> if caractere.isdigit():\n",
    "        numeros.append(caractere)\n",
    "    elif caractere.isalpha():        # equivalente a -> elif caractere.isalpha() == True: \n",
    "        letras.append(caractere)\n",
    "    else:\n",
    "        pontos.append(caractere)\n",
    "\n",
    "print('lista numeros: ', numeros)\n",
    "print('lista letras: ', letras)\n",
    "print('lista pontos', pontos)"
   ]
  },
  {
   "cell_type": "markdown",
   "id": "3f5c8fe7",
   "metadata": {},
   "source": [
    "Podemos usar as funções acima para padronizar a resposta de um usuário!\n",
    "\n",
    "Utilizamos a função \n",
    "\n",
    "```unicodedata.normalize(\"NFD\", minha_string).encode(\"ascii\", \"ignore\").decode(\"utf-8\")```\n",
    "\n",
    "Para tirar acentos da string \"minha_string\"\n",
    "\n",
    "E o ```strip()``` é usado pra tirar espaços desnecessários do início e do fim de uma string"
   ]
  },
  {
   "cell_type": "code",
   "execution_count": 108,
   "id": "79973971",
   "metadata": {
    "ExecuteTime": {
     "end_time": "2021-07-12T20:49:44.712890Z",
     "start_time": "2021-07-12T20:49:44.694895Z"
    }
   },
   "outputs": [
    {
     "data": {
      "text/plain": [
       "'CORACAO'"
      ]
     },
     "execution_count": 108,
     "metadata": {},
     "output_type": "execute_result"
    }
   ],
   "source": [
    "import unicodedata\n",
    "\n",
    "minha_string = \"Coração   \"\n",
    "\n",
    "unicodedata.normalize(\"NFD\", minha_string).encode(\"ascii\", \"ignore\").decode(\"utf-8\").strip().upper() ## upper(strip(normalize(...)))"
   ]
  },
  {
   "cell_type": "markdown",
   "id": "382c51f6",
   "metadata": {},
   "source": [
    "Como pudemos ver acima, processar a string para que ela esteja em **determinado padrão** (por exemplo: em letras maiúsculas e sem acentos) é um passo muito importante para que operações de comparação entre strings funcionem perfeitamente sem erros!"
   ]
  },
  {
   "cell_type": "code",
   "execution_count": 114,
   "id": "92089660",
   "metadata": {
    "ExecuteTime": {
     "end_time": "2021-07-12T20:52:59.343170Z",
     "start_time": "2021-07-12T20:52:56.156166Z"
    }
   },
   "outputs": [
    {
     "name": "stdout",
     "output_type": "stream",
     "text": [
      "Você trabalhava com ele? Não\n"
     ]
    },
    {
     "data": {
      "text/plain": [
       "'NAO'"
      ]
     },
     "execution_count": 114,
     "metadata": {},
     "output_type": "execute_result"
    }
   ],
   "source": [
    "# modificando a solução de um dos exercícios pra deixá-la mais robusta...\n",
    "\n",
    "resposta = input(\"Você trabalhava com ele? \")\n",
    "\n",
    "resposta_fix = unicodedata.normalize(\"NFD\", resposta).encode(\"ascii\", \"ignore\").decode(\"utf-8\").strip().upper()\n",
    "\n",
    "resposta_fix"
   ]
  },
  {
   "cell_type": "markdown",
   "id": "f6029073",
   "metadata": {},
   "source": [
    "## Formatação de strings"
   ]
  },
  {
   "cell_type": "markdown",
   "id": "c548e525",
   "metadata": {},
   "source": [
    "Também podemos **formatar strings**. Isso pode ser super útil tanto ao receber dados do usuário (input) quando ao exbibir dados pro usuário (print)"
   ]
  },
  {
   "cell_type": "markdown",
   "id": "f3e7c9fe",
   "metadata": {},
   "source": [
    "Um dos usos mais legal do format é para **exibir** strings formatadas.\n",
    "\n",
    "Imagine que você queira exibir uma data no formato dd/mm/aaaa.\n",
    "\n",
    "Em situações normais, dias e meses inferiores a 10 apareceriam com apenas 1 dígito (int não é representado com zeros à esquerda). Porém, podemos especificar no format que gostaríamos de representar um inteiro com 2 dígitos, preenchendo com zero dígitos em branco (à esquerda): \n",
    "\n",
    "```python\n",
    "\n",
    "dia = 1\n",
    "mes = 2\n",
    "ano = 2020\n",
    "data = '{:02d}/{:02d}/{:04d}'.format(dia, mes, ano)\n",
    "print(data) # resultado: 01/02/2020\n",
    "```\n",
    "\n",
    "O símbolo 'd' indica que estamos representando números **inteiros** em base decimal (dígitos de 0 a 9). \n",
    "\n",
    "Os símbolos '2' e '4' indicam, respectivamente, 2 dígitos ou 4 dígitos. \n",
    "\n",
    "o símbolo '0' indica que se faltar dígitos, os espaços devem ser preenchidos com zero\n",
    "\n",
    "Mais formatos [aqui](https://docs.python.org/2/library/string.html#formatspec)."
   ]
  },
  {
   "cell_type": "code",
   "execution_count": 123,
   "id": "d161a59e",
   "metadata": {
    "ExecuteTime": {
     "end_time": "2021-07-12T20:57:48.927773Z",
     "start_time": "2021-07-12T20:57:48.914554Z"
    }
   },
   "outputs": [
    {
     "name": "stdout",
     "output_type": "stream",
     "text": [
      "1/2/2021\n",
      "01/02/2021\n"
     ]
    }
   ],
   "source": [
    "dia = 1\n",
    "mes = 2\n",
    "ano = 2021\n",
    "\n",
    "data_simples = '{}/{}/{}'.format(dia, mes, ano)\n",
    "data = \"{:02d}/{:02d}/{:04d}\".format(dia, mes, ano)\n",
    "\n",
    "print(data_simples)\n",
    "print(data)"
   ]
  },
  {
   "cell_type": "markdown",
   "id": "32d9fd44",
   "metadata": {},
   "source": [
    "Imagina que você queira exibir algum valor monetário, por exemplo, o preço de alguma coisa.\n",
    "\n",
    "Utilizando float, pode ser que seu resultado tenha apenas uma casa decimal.\n",
    "\n",
    "Mas, se tratando de dinheito, sempre queremos mostrar duas casas decimais!\n",
    "\n",
    "Usaremos o format para representar com apenas 2 casas.\n",
    "\n",
    "```python\n",
    "preco = 1500.5\n",
    "\n",
    "print(preco) \n",
    "\n",
    "precoFinal = 'R$ {:.2f}'.format(preco)\n",
    "\n",
    "print(precoFinal)\n",
    "```\n",
    "\n",
    "Neste caso, o 'f' indica que o número é float. \n",
    "\n",
    "Já o '.2' indica que queremos 2 casas após o ponto decimal. \n",
    "\n",
    "Note que a função não apenas descarta as casas excedentes, e sim arredonda corretamente o número."
   ]
  },
  {
   "cell_type": "code",
   "execution_count": 136,
   "id": "d4b6dd51",
   "metadata": {
    "ExecuteTime": {
     "end_time": "2021-07-12T21:00:14.468641Z",
     "start_time": "2021-07-12T21:00:14.458639Z"
    }
   },
   "outputs": [
    {
     "data": {
      "text/plain": [
       "'R$ 1500.57'"
      ]
     },
     "execution_count": 136,
     "metadata": {},
     "output_type": "execute_result"
    }
   ],
   "source": [
    "preco = 1500.5678\n",
    "\n",
    "precoFinal = 'R$ {:.2f}'.format(preco)\n",
    "\n",
    "precoFinal"
   ]
  },
  {
   "cell_type": "code",
   "execution_count": 140,
   "id": "feb8adea",
   "metadata": {
    "ExecuteTime": {
     "end_time": "2021-07-12T21:01:42.165612Z",
     "start_time": "2021-07-12T21:01:42.148054Z"
    }
   },
   "outputs": [
    {
     "data": {
      "text/plain": [
       "'!!alo alo###!!!'"
      ]
     },
     "execution_count": 140,
     "metadata": {},
     "output_type": "execute_result"
    }
   ],
   "source": [
    "texto = '!!###!!alo alo###!!!##'\n",
    "texto.strip('!').strip('#')"
   ]
  },
  {
   "cell_type": "code",
   "execution_count": null,
   "id": "40fdd5b5",
   "metadata": {},
   "outputs": [],
   "source": []
  }
 ],
 "metadata": {
  "kernelspec": {
   "display_name": "Python 3",
   "language": "python",
   "name": "python3"
  },
  "language_info": {
   "codemirror_mode": {
    "name": "ipython",
    "version": 3
   },
   "file_extension": ".py",
   "mimetype": "text/x-python",
   "name": "python",
   "nbconvert_exporter": "python",
   "pygments_lexer": "ipython3",
   "version": "3.8.8"
  },
  "toc": {
   "base_numbering": 1,
   "nav_menu": {},
   "number_sections": true,
   "sideBar": true,
   "skip_h1_title": false,
   "title_cell": "Table of Contents",
   "title_sidebar": "Contents",
   "toc_cell": false,
   "toc_position": {},
   "toc_section_display": true,
   "toc_window_display": true
  },
  "varInspector": {
   "cols": {
    "lenName": 16,
    "lenType": 16,
    "lenVar": 40
   },
   "kernels_config": {
    "python": {
     "delete_cmd_postfix": "",
     "delete_cmd_prefix": "del ",
     "library": "var_list.py",
     "varRefreshCmd": "print(var_dic_list())"
    },
    "r": {
     "delete_cmd_postfix": ") ",
     "delete_cmd_prefix": "rm(",
     "library": "var_list.r",
     "varRefreshCmd": "cat(var_dic_list()) "
    }
   },
   "types_to_exclude": [
    "module",
    "function",
    "builtin_function_or_method",
    "instance",
    "_Feature"
   ],
   "window_display": false
  }
 },
 "nbformat": 4,
 "nbformat_minor": 5
}

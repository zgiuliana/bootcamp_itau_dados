{
 "cells": [
  {
   "cell_type": "markdown",
   "id": "ddb1f5f9",
   "metadata": {},
   "source": [
    "# Revisão"
   ]
  },
  {
   "cell_type": "markdown",
   "id": "d0536808",
   "metadata": {},
   "source": [
    "**Questão 13:** Faça um programa que peça um valor monetário e diminua-o em 15%. Seu programa deve imprimir a mensagem “O novo valor é [valor]”."
   ]
  },
  {
   "cell_type": "code",
   "execution_count": 1,
   "id": "dea877f1",
   "metadata": {
    "ExecuteTime": {
     "end_time": "2021-07-07T19:07:36.979754Z",
     "start_time": "2021-07-07T19:07:34.007712Z"
    }
   },
   "outputs": [
    {
     "name": "stdout",
     "output_type": "stream",
     "text": [
      "Coloque um valor10\n",
      "O novo vaor é:  8.5\n"
     ]
    }
   ],
   "source": [
    "vlr=float(input(\"Coloque um valor\"))\n",
    "print(\"O novo valor é: \",(vlr-0.15*vlr))"
   ]
  },
  {
   "cell_type": "markdown",
   "id": "48a1802e",
   "metadata": {},
   "source": [
    "**Questão 14:** Peça para o usuário digitar uma velocidade inicial (em m/s), uma posição inicial (em m) e um instante de tempo (em s) e imprima a posição de um projétil nesse instante de tempo.\n",
    "\n",
    "Use a fórmula matemática:\n",
    "\n",
    "y(t) = y(0) + v(0)*t + (g*(t**2)/2)\n",
    "\n",
    "Onde, g é a aceleração da gravidade (-10m/s²), y(t) é a posição final, y(0) é a posição inicial, v(0) é a velocidade inicial e t é o instante de tempo. "
   ]
  },
  {
   "cell_type": "code",
   "execution_count": 8,
   "id": "c0b992a4",
   "metadata": {
    "ExecuteTime": {
     "end_time": "2021-07-07T19:15:00.255169Z",
     "start_time": "2021-07-07T19:14:56.295077Z"
    }
   },
   "outputs": [
    {
     "name": "stdout",
     "output_type": "stream",
     "text": [
      "Insira a velocidade15\n",
      "Insira a posição inicial2\n",
      "Insira o tempo3\n"
     ]
    },
    {
     "data": {
      "text/plain": [
       "2.0"
      ]
     },
     "execution_count": 8,
     "metadata": {},
     "output_type": "execute_result"
    }
   ],
   "source": [
    "v=float(input(\"Insira a velocidade\"))\n",
    "y0=float(input(\"Insira a posição inicial\"))\n",
    "t=float(input(\"Insira o tempo\"))\n",
    "g=-10\n",
    "y=y0+v*t+(g*(t**2)/2)\n",
    "y"
   ]
  },
  {
   "cell_type": "markdown",
   "id": "7d9d1974",
   "metadata": {},
   "source": [
    "**Questão 15:** Faça um programa que informe a data e a hora para o usuário. Para isso use a função datetime.now() do módulo datetime."
   ]
  },
  {
   "cell_type": "code",
   "execution_count": 27,
   "id": "132110eb",
   "metadata": {
    "ExecuteTime": {
     "end_time": "2021-07-07T19:34:09.194091Z",
     "start_time": "2021-07-07T19:34:09.174143Z"
    }
   },
   "outputs": [
    {
     "name": "stdout",
     "output_type": "stream",
     "text": [
      "Hoje é 7/7/2021 e são 16:34:9\n"
     ]
    },
    {
     "data": {
      "text/plain": [
       "'07/07/21 - 16:34:09'"
      ]
     },
     "execution_count": 27,
     "metadata": {},
     "output_type": "execute_result"
    }
   ],
   "source": [
    "import datetime\n",
    "agora=(datetime.datetime.now())\n",
    "dia=agora.day\n",
    "mes=agora.month\n",
    "ano=agora.year\n",
    "hor=agora.hour\n",
    "minu=agora.minute\n",
    "seg=agora.second\n",
    "print(f'Hoje é {dia}/{mes}/{ano} e são {hor}:{minu}:{seg}')\n",
    "\n",
    "formato = '%d/%b/%y - %H:%M:%S'\n",
    "datetime.datetime.strftime(agora,formato)\n",
    "formato2 = '%d/%m/%y - %H:%M:%S'\n",
    "datetime.datetime.strftime(agora,formato2)"
   ]
  },
  {
   "cell_type": "markdown",
   "id": "024b731d",
   "metadata": {
    "heading_collapsed": true
   },
   "source": [
    "# Aula 2 - operadores lógicos e estruturas condicionais"
   ]
  },
  {
   "cell_type": "markdown",
   "id": "f7e4df17",
   "metadata": {
    "hidden": true
   },
   "source": [
    "Na aula de hoje, vamos explorar os seguintes tópicos em Python:\n",
    "\n",
    "- 1) Operadores lógicos;\n",
    "- 2) Estruturas condicionais."
   ]
  },
  {
   "cell_type": "markdown",
   "id": "c38644f2",
   "metadata": {
    "heading_collapsed": true
   },
   "source": [
    "# Habilidades a serem desenvolvidas"
   ]
  },
  {
   "cell_type": "markdown",
   "id": "efba729e",
   "metadata": {
    "hidden": true
   },
   "source": [
    "Ao final da aula o aluno deve:\n",
    "\n",
    "- Saber o conceito de operações lógicas e o seu resultado (True/False);\n",
    "- Saber interpretar e utilizar os operadores de comparação;\n",
    "- Saber interpretar e uitlizar os operadores de conjunção;\n",
    "- Saber formular expressões lógicas;\n",
    "- Saber formular expressões condicionais, articulando corretamente as expressões lógicas."
   ]
  },
  {
   "cell_type": "markdown",
   "id": "7bbe923d",
   "metadata": {
    "heading_collapsed": true
   },
   "source": [
    "# Operadores lógicos"
   ]
  },
  {
   "cell_type": "markdown",
   "id": "047a1ba5",
   "metadata": {
    "hidden": true
   },
   "source": [
    "## Comparação\n",
    "\n",
    "Em muitos problemas de programação, há necessidade de se fazer **comparações** entre variáveis.\n",
    "\n",
    "Por exemplo:\n",
    "\n",
    "- checar se um número é maior que outro;\n",
    "- checar se uma variável é igual a outra;\n",
    "- checar se há números diferentes; etc.\n",
    "\n",
    "Para fazer essas comparações, utilizamos os **operadores lógicos de comparação**. Em Python, há 6 desses operadores:\n",
    "\n",
    "- Maior que: >\n",
    "- Maior ou igual: >=\n",
    "- Menor que: <\n",
    "- Menor ou igual: <=\n",
    "- Igual: ==\n",
    "- Diferente: !=\n",
    "\n",
    "O resultado de uma comparação sempre vai ser um booleano, isto é, **True** ou **False**!\n",
    "\n",
    "Dica: sempre leia as comparações como uma **pergunta**\n",
    "\n",
    "- Ex: \"numero < 100\", leia: \"o valor na variável numero é menor que 100?\"\n",
    "\n",
    "Os operadores de comparação são destacados em **roxo** no Jupyter"
   ]
  },
  {
   "cell_type": "code",
   "execution_count": null,
   "id": "7c81ce70",
   "metadata": {
    "ExecuteTime": {
     "end_time": "2021-07-07T18:00:11.983737Z",
     "start_time": "2021-07-07T18:00:11.964419Z"
    },
    "hidden": true
   },
   "outputs": [],
   "source": [
    "# definindo a variável \"numero\" que recebe o inteiro \"10\"\n"
   ]
  },
  {
   "cell_type": "code",
   "execution_count": null,
   "id": "da260a74",
   "metadata": {
    "ExecuteTime": {
     "end_time": "2021-07-07T18:00:12.007639Z",
     "start_time": "2021-07-07T18:00:11.989333Z"
    },
    "hidden": true
   },
   "outputs": [],
   "source": [
    "# checar se um número é maior que outro\n"
   ]
  },
  {
   "cell_type": "code",
   "execution_count": null,
   "id": "0549f793",
   "metadata": {
    "ExecuteTime": {
     "end_time": "2021-07-07T18:00:12.023545Z",
     "start_time": "2021-07-07T18:00:12.012877Z"
    },
    "hidden": true
   },
   "outputs": [],
   "source": [
    "# checar se uma variável é igual a outra\n"
   ]
  },
  {
   "cell_type": "code",
   "execution_count": null,
   "id": "be99988f",
   "metadata": {
    "ExecuteTime": {
     "end_time": "2021-07-07T18:00:12.038930Z",
     "start_time": "2021-07-07T18:00:12.026713Z"
    },
    "hidden": true
   },
   "outputs": [],
   "source": [
    "#checar se há números diferentes\n"
   ]
  },
  {
   "cell_type": "markdown",
   "id": "71bdb5ff",
   "metadata": {
    "hidden": true
   },
   "source": [
    "A comparação pode ser feita entre duas variáveis, também:"
   ]
  },
  {
   "cell_type": "code",
   "execution_count": null,
   "id": "b3aaf07a",
   "metadata": {
    "ExecuteTime": {
     "end_time": "2021-07-07T18:00:12.054321Z",
     "start_time": "2021-07-07T18:00:12.040929Z"
    },
    "hidden": true
   },
   "outputs": [],
   "source": [
    "# definindo uma nova variável\n",
    "\n",
    "# o valor na variavel \"numero\" é menor que o valor na variavel \"numero2\"?\n",
    "# ou seja, 10 é menor que 100?\n",
    "\n"
   ]
  },
  {
   "cell_type": "code",
   "execution_count": null,
   "id": "4c96b236",
   "metadata": {
    "hidden": true
   },
   "outputs": [],
   "source": []
  },
  {
   "cell_type": "markdown",
   "id": "8355fedc",
   "metadata": {
    "hidden": true
   },
   "source": [
    "Podemos também comparar strings!"
   ]
  },
  {
   "cell_type": "code",
   "execution_count": null,
   "id": "02bfe791",
   "metadata": {
    "ExecuteTime": {
     "end_time": "2021-07-07T18:00:12.063738Z",
     "start_time": "2021-07-07T18:00:12.056676Z"
    },
    "hidden": true
   },
   "outputs": [],
   "source": [
    "# definia variável uma string\n"
   ]
  },
  {
   "cell_type": "code",
   "execution_count": null,
   "id": "41e8e121",
   "metadata": {
    "ExecuteTime": {
     "end_time": "2021-07-07T18:00:12.078938Z",
     "start_time": "2021-07-07T18:00:12.065736Z"
    },
    "hidden": true
   },
   "outputs": [],
   "source": [
    "# pra igualdade existir, tem que haver uma correspondência EXATA entre as strings!\n"
   ]
  },
  {
   "cell_type": "code",
   "execution_count": null,
   "id": "830bffea",
   "metadata": {
    "ExecuteTime": {
     "end_time": "2021-07-07T18:00:12.088002Z",
     "start_time": "2021-07-07T18:00:12.083001Z"
    },
    "hidden": true
   },
   "outputs": [],
   "source": [
    "# qualquer diferença, por mínima que seja, torna a igualdade falsa!\n"
   ]
  },
  {
   "cell_type": "markdown",
   "id": "074fc7d8",
   "metadata": {
    "hidden": true
   },
   "source": [
    "Os operadores >, >=, <, <= atuam comparando **ordem alfabética** quando aplicados a strings.\n",
    "\n",
    "(Obs.: se surgir interesse, mencionar aqui sobre a tabela ASCII e como de fato ocorre a comparação de ordem entre strings)"
   ]
  },
  {
   "cell_type": "code",
   "execution_count": null,
   "id": "acfbc606",
   "metadata": {
    "hidden": true
   },
   "outputs": [],
   "source": []
  },
  {
   "cell_type": "code",
   "execution_count": null,
   "id": "b5e15a8c",
   "metadata": {
    "hidden": true
   },
   "outputs": [],
   "source": []
  },
  {
   "cell_type": "code",
   "execution_count": null,
   "id": "dd2f4bf6",
   "metadata": {
    "hidden": true
   },
   "outputs": [],
   "source": []
  },
  {
   "cell_type": "markdown",
   "id": "170451be",
   "metadata": {
    "hidden": true
   },
   "source": [
    "Podemos fazer comparação entre **tipos numéricos** diferentes (int e float):"
   ]
  },
  {
   "cell_type": "code",
   "execution_count": null,
   "id": "4a5f2c59",
   "metadata": {
    "ExecuteTime": {
     "end_time": "2021-07-07T18:00:12.104659Z",
     "start_time": "2021-07-07T18:00:12.092519Z"
    },
    "hidden": true
   },
   "outputs": [],
   "source": [
    "# definindo dois numeros\n",
    "\n",
    "# o num1 é menor que num2?\n",
    "# ou seja, 3 é menor que 3.14?\n",
    "\n",
    "# o num1 é maior que num2?\n",
    "# ou seja, 3 é maior que 3.14?\n",
    "\n",
    "# as variáveis são diferentes?\n"
   ]
  },
  {
   "cell_type": "markdown",
   "id": "d0466468",
   "metadata": {
    "hidden": true
   },
   "source": [
    "Mas comparações entre string e tipos numéricos são possíveis **apenas para == e !=**:\n"
   ]
  },
  {
   "cell_type": "code",
   "execution_count": null,
   "id": "8cd70ba4",
   "metadata": {
    "ExecuteTime": {
     "end_time": "2021-07-07T18:00:12.119376Z",
     "start_time": "2021-07-07T18:00:12.107019Z"
    },
    "hidden": true
   },
   "outputs": [],
   "source": [
    "# definindo uma string e um int\n"
   ]
  },
  {
   "cell_type": "code",
   "execution_count": null,
   "id": "aa91f182",
   "metadata": {
    "hidden": true
   },
   "outputs": [],
   "source": []
  },
  {
   "cell_type": "code",
   "execution_count": null,
   "id": "d5833010",
   "metadata": {
    "hidden": true
   },
   "outputs": [],
   "source": []
  },
  {
   "cell_type": "code",
   "execution_count": null,
   "id": "3a6a9223",
   "metadata": {
    "hidden": true
   },
   "outputs": [],
   "source": []
  },
  {
   "cell_type": "code",
   "execution_count": null,
   "id": "aa65df48",
   "metadata": {
    "ExecuteTime": {
     "end_time": "2021-07-07T17:51:16.508646Z",
     "start_time": "2021-07-07T17:51:16.490393Z"
    },
    "hidden": true
   },
   "outputs": [],
   "source": []
  },
  {
   "cell_type": "code",
   "execution_count": null,
   "id": "db01c7f2",
   "metadata": {
    "ExecuteTime": {
     "end_time": "2021-07-07T18:00:12.135222Z",
     "start_time": "2021-07-07T18:00:12.121377Z"
    },
    "hidden": true
   },
   "outputs": [],
   "source": [
    "# para operadores > e < "
   ]
  },
  {
   "cell_type": "markdown",
   "id": "b91e3611",
   "metadata": {
    "hidden": true
   },
   "source": [
    "O erro acima aconteceu porque **não é possível comparar a orderm (usando >, >=, <, <=)** de variáveis numéricas e strings!"
   ]
  },
  {
   "cell_type": "markdown",
   "id": "3effcc0e",
   "metadata": {
    "hidden": true
   },
   "source": [
    "## Conjunção \n",
    "\n",
    "Além dos operadores lógicos de comparação, também temos os **operadores lógicos de conjunção**, que são utilizados pra fazer uma **combinação** entre comparações. \n",
    "\n",
    "Os operadores de conjunção são: **and** e **or**, e eles seguem a seguinte regra:\n",
    "\n",
    "- **and** só é True se **ambas** as comparações forem True:\n",
    "    - False and True resulta em \"False\"\n",
    "    - False and False resulta em \"False\"\n",
    "    - True and True resulta em \"True\"\n",
    "- **or** é True se **pelo menos uma** das comparações for True:\n",
    "    - False or True resulta em \"True\"\n",
    "    - True or True resulta em \"True\"\n",
    "    - False or False resulta em \"False\"\n",
    "\n",
    "Os operadores de conjunção são destacados em **verde escuro** no Jupyter"
   ]
  },
  {
   "cell_type": "code",
   "execution_count": null,
   "id": "52314e1d",
   "metadata": {
    "ExecuteTime": {
     "end_time": "2021-07-07T18:00:12.151310Z",
     "start_time": "2021-07-07T18:00:12.138225Z"
    },
    "hidden": true
   },
   "outputs": [],
   "source": [
    "print(\"Operador and:\")"
   ]
  },
  {
   "cell_type": "code",
   "execution_count": null,
   "id": "14fc4af3",
   "metadata": {
    "ExecuteTime": {
     "end_time": "2021-07-07T18:00:12.160260Z",
     "start_time": "2021-07-07T18:00:12.153310Z"
    },
    "hidden": true
   },
   "outputs": [],
   "source": [
    "# True and False, resulta em False\n"
   ]
  },
  {
   "cell_type": "code",
   "execution_count": null,
   "id": "09f52591",
   "metadata": {
    "ExecuteTime": {
     "end_time": "2021-07-07T18:00:12.175655Z",
     "start_time": "2021-07-07T18:00:12.161791Z"
    },
    "hidden": true
   },
   "outputs": [],
   "source": [
    "# True and True, resulta em True\n"
   ]
  },
  {
   "cell_type": "code",
   "execution_count": null,
   "id": "de550acc",
   "metadata": {
    "ExecuteTime": {
     "end_time": "2021-07-07T18:00:12.191432Z",
     "start_time": "2021-07-07T18:00:12.178654Z"
    },
    "hidden": true
   },
   "outputs": [],
   "source": [
    "print(\"Operador or:\")\n"
   ]
  },
  {
   "cell_type": "code",
   "execution_count": null,
   "id": "38397514",
   "metadata": {
    "ExecuteTime": {
     "end_time": "2021-07-07T18:00:12.206969Z",
     "start_time": "2021-07-07T18:00:12.193491Z"
    },
    "hidden": true
   },
   "outputs": [],
   "source": [
    "# True or False, resulta em True\n"
   ]
  },
  {
   "cell_type": "code",
   "execution_count": null,
   "id": "5b9f3cdf",
   "metadata": {
    "ExecuteTime": {
     "end_time": "2021-07-07T18:00:12.215969Z",
     "start_time": "2021-07-07T18:00:12.208968Z"
    },
    "hidden": true
   },
   "outputs": [],
   "source": [
    "# False or False, resulta em False\n"
   ]
  },
  {
   "cell_type": "markdown",
   "id": "b2e31360",
   "metadata": {
    "hidden": true
   },
   "source": [
    "Se tivermos mais de duas comparações pra fazer conjunção, é melhor usarmos parênteses.\n",
    "\n",
    "Primeiro a conjunção entre parênteses é feita, e depois o resultado é usado pra avaliar a conjunção total"
   ]
  },
  {
   "cell_type": "code",
   "execution_count": null,
   "id": "240d8372",
   "metadata": {
    "ExecuteTime": {
     "end_time": "2021-07-07T18:00:12.231351Z",
     "start_time": "2021-07-07T18:00:12.218610Z"
    },
    "hidden": true
   },
   "outputs": [],
   "source": [
    "# exemplo"
   ]
  },
  {
   "cell_type": "markdown",
   "id": "df2f027b",
   "metadata": {},
   "source": [
    "# Estruturas condicionais\n"
   ]
  },
  {
   "cell_type": "markdown",
   "id": "2f7f2325",
   "metadata": {},
   "source": [
    "\n",
    "O principal uso dos operadores lógicos é em **estruturas condicionais**\n",
    "\n",
    "Esse tipo de estrutura é utilizada para tratar casos diferentes dentro do código\n",
    "\n",
    "Os **operadores condicionais** são: **if**, **elif** e **else**\n",
    "\n",
    "- **if**: Se uma condição for verdadeira, faça determinada operação.\n",
    "- **elif**: Se a condição acima for falsa, avalie uma próxima condição, e se essa for verdadeira, faça outra operação\n",
    "- **else**: Se nenhuma das condições acima for verdadeira, faça outra coisa\n",
    "\n",
    "O uso de elif e else **não** é obrigatório! (Mas é muitas vezes conveniente!)\n",
    "\n",
    "As estruturas de repetição aparecem em **blocos identados (com \"tab\") após dois pontos**, na seguinte estrutura:\n",
    "\n",
    "```python\n",
    "if (condicao é True):\n",
    "    operacoes\n",
    "elif (condicao é True):\n",
    "    operacoes\n",
    "else:\n",
    "    operacoes\n",
    "```\n",
    "\n",
    "- Se alguma condição no if ou elif for verdadeira, todo o resto é ignorado!\n",
    "- Por isso, as condições no if e os diferentes elifs sempre são **excludentes**\n",
    "\n",
    "Os operadores condicionais são destacados em **verde escuro** no Jupyter\n"
   ]
  },
  {
   "cell_type": "markdown",
   "id": "79f908b5",
   "metadata": {},
   "source": [
    "**Exemplo**: imagine que uma escola tem o seguinte critério de avaliação baseado na média do aluno:\n",
    "\n",
    "- se a média for maior ou igual a 5, o aluno é aprovado;\n",
    "- caso contrário, o aluno é reptrovado\n"
   ]
  },
  {
   "cell_type": "code",
   "execution_count": null,
   "id": "c7d37823",
   "metadata": {
    "ExecuteTime": {
     "end_time": "2021-07-07T18:00:12.240355Z",
     "start_time": "2021-07-07T18:00:12.234353Z"
    }
   },
   "outputs": [],
   "source": [
    "# defina a media\n",
    "\n",
    "# determina a lógica para aprovação ou reprovação\n"
   ]
  },
  {
   "cell_type": "markdown",
   "id": "683a024d",
   "metadata": {},
   "source": [
    "Também podemos usar o elif, embora não seja necessário, dado que a condição `media >= 5` é única"
   ]
  },
  {
   "cell_type": "code",
   "execution_count": null,
   "id": "65a27316",
   "metadata": {
    "ExecuteTime": {
     "end_time": "2021-07-07T18:00:12.255992Z",
     "start_time": "2021-07-07T18:00:12.243351Z"
    }
   },
   "outputs": [],
   "source": [
    "# mesmo código usando elif\n",
    "\n"
   ]
  },
  {
   "cell_type": "markdown",
   "id": "17f2fd02",
   "metadata": {},
   "source": [
    "**Exemplo**: imagine que uma escola tem o seguinte critério de avaliação baseado na **media** do aluno e em sua **frequência**\n",
    "\n",
    "- regra 1: se a média for maior ou igal a 9, o aluno é aprovado, independente da frequencia;\n",
    "- regra 2: se a média estiver entre 6 e 9, o aluno só é aprovado se a frequencia for maior ou igual a 75%\n",
    "- regra 3: se a média estiver entre 6 e 9, mas a frequencia for menor que 75%, ele vai pra recuperação\n",
    "- regra 4: se a média for menor que 6 e a frequencia do aluno for maior ou igual a 75%, ele pode fazer recuperação\n",
    "- regra 5: se a média for menor que 6 e a frequência do aluno for menor que a 75%, ele é automaticamente reprovado\n",
    "\n",
    "Como implementamos este algoritmo?"
   ]
  },
  {
   "cell_type": "code",
   "execution_count": 37,
   "id": "2895dd1c",
   "metadata": {
    "ExecuteTime": {
     "end_time": "2021-07-07T20:44:32.881268Z",
     "start_time": "2021-07-07T20:44:24.611463Z"
    }
   },
   "outputs": [
    {
     "name": "stdout",
     "output_type": "stream",
     "text": [
      "Digite a frequencia do aluno (em %): 60\n",
      "Digite a media do aluno: 7\n",
      "Recuperação\n"
     ]
    }
   ],
   "source": [
    "freq=float(input('Digite a frequencia do aluno (em %): '))\n",
    "media=float(input('Digite a media do aluno: '))\n",
    "\n",
    "if media>=9:\n",
    "    print('Aprovado')\n",
    "elif media>=6 and freq>=75:\n",
    "    print('Aprovado')\n",
    "elif media>=6:\n",
    "    print('Recuperação')\n",
    "elif freq>=75:\n",
    "    print('Recuperação')\n",
    "else:\n",
    "    print('Reprovado')\n",
    "\n"
   ]
  },
  {
   "cell_type": "markdown",
   "id": "789ec587",
   "metadata": {},
   "source": [
    "# Exercício"
   ]
  },
  {
   "cell_type": "markdown",
   "id": "26323858",
   "metadata": {},
   "source": [
    "Faça um programa que peça dois números e mostre o maior deles."
   ]
  },
  {
   "cell_type": "code",
   "execution_count": 30,
   "id": "ec18ad52",
   "metadata": {
    "ExecuteTime": {
     "end_time": "2021-07-07T20:25:00.472313Z",
     "start_time": "2021-07-07T20:24:58.990716Z"
    }
   },
   "outputs": [
    {
     "name": "stdout",
     "output_type": "stream",
     "text": [
      "Insira um número5\n",
      "Insira outro número2\n",
      "5.0\n"
     ]
    }
   ],
   "source": [
    "num1=float(input('Insira um número '))\n",
    "num2=float(input('Insira outro número '))\n",
    "if num1>num2:\n",
    "    print(num1)\n",
    "else:\n",
    "    print(num2)"
   ]
  }
 ],
 "metadata": {
  "kernelspec": {
   "display_name": "Python 3",
   "language": "python",
   "name": "python3"
  },
  "language_info": {
   "codemirror_mode": {
    "name": "ipython",
    "version": 3
   },
   "file_extension": ".py",
   "mimetype": "text/x-python",
   "name": "python",
   "nbconvert_exporter": "python",
   "pygments_lexer": "ipython3",
   "version": "3.8.8"
  },
  "toc": {
   "base_numbering": 1,
   "nav_menu": {},
   "number_sections": true,
   "sideBar": true,
   "skip_h1_title": false,
   "title_cell": "Table of Contents",
   "title_sidebar": "Contents",
   "toc_cell": false,
   "toc_position": {},
   "toc_section_display": true,
   "toc_window_display": true
  },
  "varInspector": {
   "cols": {
    "lenName": 16,
    "lenType": 16,
    "lenVar": 40
   },
   "kernels_config": {
    "python": {
     "delete_cmd_postfix": "",
     "delete_cmd_prefix": "del ",
     "library": "var_list.py",
     "varRefreshCmd": "print(var_dic_list())"
    },
    "r": {
     "delete_cmd_postfix": ") ",
     "delete_cmd_prefix": "rm(",
     "library": "var_list.r",
     "varRefreshCmd": "cat(var_dic_list()) "
    }
   },
   "types_to_exclude": [
    "module",
    "function",
    "builtin_function_or_method",
    "instance",
    "_Feature"
   ],
   "window_display": false
  }
 },
 "nbformat": 4,
 "nbformat_minor": 5
}

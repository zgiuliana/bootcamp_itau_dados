{
 "cells": [
  {
   "cell_type": "markdown",
   "id": "d6179b38",
   "metadata": {},
   "source": [
    "# Revisão"
   ]
  },
  {
   "cell_type": "markdown",
   "id": "aeab757f",
   "metadata": {},
   "source": [
    "Como fechar um notebook?"
   ]
  },
  {
   "cell_type": "markdown",
   "id": "30c9afe2",
   "metadata": {},
   "source": [
    "> Home page do jupyter -> Running -> Shutdown "
   ]
  },
  {
   "cell_type": "markdown",
   "id": "51413d3a",
   "metadata": {},
   "source": [
    "Instalar as extensões!"
   ]
  },
  {
   "cell_type": "markdown",
   "id": "29060877",
   "metadata": {},
   "source": [
    "> pip install jupyter_contrib_nbextensions\n",
    "\n",
    "> !jupyter contrib nbextensions install"
   ]
  },
  {
   "cell_type": "markdown",
   "id": "2b281c6d",
   "metadata": {},
   "source": [
    "# Aula 1 - Introdução ao Python e variáveis"
   ]
  },
  {
   "cell_type": "markdown",
   "id": "628b72d8",
   "metadata": {},
   "source": [
    "Na aula de hoje, vamos explorar os seguintes tópicos em Python:\n",
    "\n",
    "- 1) Introdução: Python;\n",
    "- 2) Variáveis.\n",
    "- 3) Tipos básicos de dados/variáveis;\n",
    "- 4) Comentários;\n",
    "- 5) Saída (output);\n",
    "- 6) Entrada (input);\n",
    "- 7) Operadores Matemáticos;"
   ]
  },
  {
   "cell_type": "markdown",
   "id": "87734bcc",
   "metadata": {},
   "source": [
    "# Habilidades a serem desenvolvidas"
   ]
  },
  {
   "cell_type": "markdown",
   "id": "b1224267",
   "metadata": {},
   "source": [
    "Ao final da aula, o aluno dever saber:\n",
    "\n",
    "\n",
    "- Primeiro programa em Python;\n",
    "    - No Jupyter, mostrar como as células de código são executadas;\n",
    "- Variáveis: conceito, criação e boas práticas;\n",
    "- Saber dos diferentes tipos de dados básicos em Python, e em que situação utilizar cada um;\n",
    "- Saber definir comentários em meio ao código;\n",
    "- Saber fazer a saída de dados através do print;\n",
    "- Saber fazer a entrada de dados através do input:\n",
    "    - Saber converter entre diferentes tipos de dados;\n",
    "    - Fazer as conversões necessárias na entrada de dados.\n",
    "- Conhecer as operações matemáticas e seus símbolos em Python."
   ]
  },
  {
   "cell_type": "markdown",
   "id": "acce995a",
   "metadata": {},
   "source": [
    "# Introdução: Python"
   ]
  },
  {
   "cell_type": "markdown",
   "id": "87434691",
   "metadata": {},
   "source": [
    "Tradicionalmente, o primeiro programa feito em uma nova linguagem de programação consiste em exibir a frase \"Olá, mundo!\" na tela.\n",
    "\n",
    "Vamos fazer isso em Python?\n",
    "\n",
    "Para isso, basta utilizar a função `print()`, e indicar o texto a ser exibido entre aspas: \"Olá, mundo!\""
   ]
  },
  {
   "cell_type": "code",
   "execution_count": null,
   "id": "550d9870",
   "metadata": {},
   "outputs": [],
   "source": []
  },
  {
   "cell_type": "markdown",
   "id": "4fb2ada3",
   "metadata": {},
   "source": [
    "Parabéns! Seu primeiro programa em Python foi executado com sucesso!"
   ]
  },
  {
   "cell_type": "markdown",
   "id": "69cf07f7",
   "metadata": {},
   "source": [
    "# Variáveis"
   ]
  },
  {
   "cell_type": "markdown",
   "id": "a8e337d1",
   "metadata": {},
   "source": [
    "Seria legal se pudéssemos **guardar** qualquer valor para utlizarmos no futuro, não é mesmo?\n",
    "\n",
    "Isso é possível com o uso das **variáveis**, que são um pedacinho da memória onde armazenamos as operações do Python.\n",
    "\n",
    "\n",
    "Uma variável pode legar qualquer nome, mas existem algumas regras:\n",
    "\n",
    "- O Python **diferencia** maiúscula de minúscula (ex: \"variavel\" é diferente de \"Variavel\", \"VaRiAvEl\" ou \"VARIAVEL\")\n",
    "    - Dica: melhor usar letras minúsculas pra nomes de variáveis\n",
    "- O nome das variáveis **não** pode ter espaço! Use um underline ao invés de espaço: \"minha_variavel\" ao invés de \"minha variavel\"\n",
    "- É melhor que o nome da variável **não** tenha acento (ex: não usar o nome \"variável\")\n",
    "- Existem algumas palavras reservadas do Python, que **não** podem ser usadas como nome de variável, ex: and, or, if, else, lambda, etc.\n",
    "- Também **não** use nome de funções para variáveis (ex: print)\n",
    "- Dica geral: o nome de variavel fica preto em python!\n",
    "    - Se o nome que você for dar ficar colorido, melhor escolher outro nome!"
   ]
  },
  {
   "cell_type": "markdown",
   "id": "232e15f4",
   "metadata": {
    "heading_collapsed": true
   },
   "source": [
    "## Criando três variaveis\n",
    "\n",
    "Agora, vamos criar três variáveis para armazenar os calores dos cálculos matemáticos\n",
    "\n",
    "__IMPORTANTE (dica): O sinal \"=\" é lido como \"recebe\", pois o que estamos fazendo é guardando o valor da operação matemática no pedacinho de memória com o nome da variável, então o pedacinho de memória recebe o valor indicado depois do sinal de \"=\"__\n",
    "\n",
    "Ou seja, lemos o código a seguir como:\n",
    "\n",
    "- A variável que demos o nome de \"meu_numero\", **recebe** o valor da operação \"2+3\" (que é 5);\n",
    "- A variável que demos o nome de \"variavel\", **recebe** o valor da operação \"1+1\" (que é 2);\n",
    "- A variável que demos o nome de \"x\", **recebe** o valor da operação \"2*3\" (que é 6);\n",
    "\n",
    "O código a seguir apenas cria as variáveis: note que não há nenhum output!"
   ]
  },
  {
   "cell_type": "code",
   "execution_count": null,
   "id": "9e1d4d7f",
   "metadata": {
    "hidden": true
   },
   "outputs": [],
   "source": []
  },
  {
   "cell_type": "markdown",
   "id": "b46b8416",
   "metadata": {
    "hidden": true
   },
   "source": [
    "Para examinarmos o valor armazenado nas variáveis, podemos, individualmente, \"chamar\" a variável na célula:"
   ]
  },
  {
   "cell_type": "code",
   "execution_count": null,
   "id": "2a62d201",
   "metadata": {
    "hidden": true
   },
   "outputs": [],
   "source": []
  },
  {
   "cell_type": "code",
   "execution_count": null,
   "id": "c0b9217f",
   "metadata": {
    "hidden": true
   },
   "outputs": [],
   "source": []
  },
  {
   "cell_type": "code",
   "execution_count": null,
   "id": "08029f79",
   "metadata": {
    "hidden": true
   },
   "outputs": [],
   "source": []
  },
  {
   "cell_type": "markdown",
   "id": "1233af25",
   "metadata": {
    "hidden": true
   },
   "source": [
    "Se quisermos exibir o valor das 3 variáveis em seguida, podemos usar o print\n",
    "\n",
    "Note que de fato são exibidos os **valores armazenados nas variáveis!!**"
   ]
  },
  {
   "cell_type": "code",
   "execution_count": null,
   "id": "a9913489",
   "metadata": {
    "hidden": true
   },
   "outputs": [],
   "source": []
  },
  {
   "cell_type": "markdown",
   "id": "fabbc72e",
   "metadata": {
    "hidden": true
   },
   "source": [
    "Como o próprio nome diz, variáveis podem variar, ou seja, eu posso mudar o valor que tá armazenado na variável.\n",
    "\n",
    "Se, por exemplo, eu quiser que a variável \"x\" passe a receber o valor \"42\", eu faço simplesmente o código a seguir, que é lido como \"a variável x recebe o valor 42\"."
   ]
  },
  {
   "cell_type": "code",
   "execution_count": null,
   "id": "f2afe8b8",
   "metadata": {
    "hidden": true
   },
   "outputs": [],
   "source": []
  },
  {
   "cell_type": "markdown",
   "id": "1abe64da",
   "metadata": {
    "hidden": true
   },
   "source": [
    "Após fazer isso, o valor anterior (acima), é completamente esquecido, e a variável x agora tem apenas o valor 42.\n",
    "\n",
    "Chamando a variável:"
   ]
  },
  {
   "cell_type": "code",
   "execution_count": null,
   "id": "1767cc91",
   "metadata": {
    "hidden": true
   },
   "outputs": [],
   "source": []
  },
  {
   "cell_type": "markdown",
   "id": "8c923b82",
   "metadata": {},
   "source": [
    "## Tipos de dados/variáveis"
   ]
  },
  {
   "cell_type": "markdown",
   "id": "499471f7",
   "metadata": {},
   "source": [
    "Em python, temos 4 **tipos** principais de dados básicos\n",
    "\n",
    "### Tipo **inteiros** (int): são números inteiros, isto é, sem casas decimais.\n",
    "\n",
    "- Ex:\n",
    "    - 1 \n",
    "    - 456\n",
    "    - 124023\n",
    "    - 0\n",
    "    - -2 (números to tipo int podem ser negativos!)\n",
    "\n",
    "No Jupyter, números inteiros são destacados em cor verde clara"
   ]
  },
  {
   "cell_type": "markdown",
   "id": "0dceab9f",
   "metadata": {},
   "source": [
    "Exemplo: a idade de uma pessoa em anos, número de filhos de uma pessoa, etc."
   ]
  },
  {
   "cell_type": "code",
   "execution_count": null,
   "id": "217a535a",
   "metadata": {},
   "outputs": [],
   "source": []
  },
  {
   "cell_type": "code",
   "execution_count": null,
   "id": "c35b4d41",
   "metadata": {},
   "outputs": [],
   "source": []
  },
  {
   "cell_type": "markdown",
   "id": "31c58656",
   "metadata": {},
   "source": [
    "### Tipo **float** (float): são números com casas decimais (**em python usamos ponto ao invés de vírgula para indicar cadas decimais!**)\n",
    "\n",
    "- Ex:\n",
    "    - 3.1415\n",
    "    - 1.78\n",
    "    - 10.0 (essa é a representação float de um número inteiro, 10) \n",
    "    - -42.73 (números do tipo float podem ser negativos!)\n",
    "\n",
    "No Jupyter, números float também são destacados em cor verde clara"
   ]
  },
  {
   "cell_type": "markdown",
   "id": "cae97b27",
   "metadata": {},
   "source": [
    "Exemplo: a altura de uma pessoa em metros"
   ]
  },
  {
   "cell_type": "code",
   "execution_count": null,
   "id": "50fe6227",
   "metadata": {},
   "outputs": [],
   "source": []
  },
  {
   "cell_type": "markdown",
   "id": "1d69465e",
   "metadata": {},
   "source": [
    "### Tipo **string** (str): são textos, que devem ser indicados entre aspas duplas \" \" ou aspas simples ' ' \n",
    "\n",
    "- Ex:\n",
    "    - \"Olá, mundo!\" (para strings, podemos usar pontuação e acentuação sem problemas!)\n",
    "    - \"Nos encontramos às 9h30 amanhã?\" (strings podem conter numeros!)\n",
    "    - \"100\" (neste caso, é uma string que representa um numero inteiro)\n",
    "    - \"3.1415\" (neste caso, é uma string que representa um numero float)\n",
    "\n",
    "No Jupyter, strings são destacadas em cor vermelha"
   ]
  },
  {
   "cell_type": "markdown",
   "id": "42a4e1fd",
   "metadata": {},
   "source": [
    "Exemplo: uma frase de despedida e um encontro marcado"
   ]
  },
  {
   "cell_type": "code",
   "execution_count": null,
   "id": "e6a374b2",
   "metadata": {},
   "outputs": [],
   "source": []
  },
  {
   "cell_type": "markdown",
   "id": "6e06e860",
   "metadata": {},
   "source": [
    "### Tipo **booleanos** (bool): Verdadeiro (True) ou Falso (False)\n",
    "\n",
    "- Únicos dois valores possíveis: **True** ou **False**\n",
    "\n",
    "Vamos entender a enorme importância deste tipo de dado mais a frente no curso (operações lógicas, estruturas condicionais, etc.)\n",
    "\n",
    "No Jupyter, bools são destacados em cor verde escuro"
   ]
  },
  {
   "cell_type": "code",
   "execution_count": null,
   "id": "0d5493c9",
   "metadata": {},
   "outputs": [],
   "source": []
  },
  {
   "cell_type": "markdown",
   "id": "56cb9bc2",
   "metadata": {},
   "source": [
    "# Comentários"
   ]
  },
  {
   "cell_type": "markdown",
   "id": "dece415b",
   "metadata": {},
   "source": [
    "\n",
    "São utilizados para melhor explicar um trecho de código.\n",
    "\n",
    "Os comentários não são executados pelo Python. \n",
    "\n",
    "Tudo o que está comentado é ignorado, serve apenas para guiar o usuário.\n",
    "\n",
    "É indicado com o uso da #, e em cor azul marinho no Jupyter\n",
    "\n",
    "- Atalho: CTRL + / : A LINHA VIRA UM COMENTÁRIO"
   ]
  },
  {
   "cell_type": "code",
   "execution_count": null,
   "id": "b4ebb1ae",
   "metadata": {},
   "outputs": [],
   "source": []
  },
  {
   "cell_type": "markdown",
   "id": "7d1709d4",
   "metadata": {},
   "source": [
    "Embora você possa fazer comentários de várias linhas apenas colocando o # na frente de cada linha:"
   ]
  },
  {
   "cell_type": "code",
   "execution_count": null,
   "id": "934ccd2c",
   "metadata": {},
   "outputs": [],
   "source": [
    "# esse é um comentário muito grande, e por isso pode ser interessante\n",
    "# quebrar ele em várias linhas, para ficar mais fácil de ler\n",
    "# um comentário grande e complexo como esse no meio do código"
   ]
  },
  {
   "cell_type": "markdown",
   "id": "a6068518",
   "metadata": {},
   "source": [
    "Também é possível fazer comentários de várias linhas utilizando três aspas:"
   ]
  },
  {
   "cell_type": "code",
   "execution_count": null,
   "id": "a7d673ca",
   "metadata": {},
   "outputs": [],
   "source": [
    "\"\"\"\n",
    "esse é um comentário muito grande, e por isso pode ser interessante\n",
    "quebrar ele em várias linhas, para ficar mais fácil de ler\n",
    "um comentário grande e complexo como esse no meio do código\n",
    "\n",
    "\"\"\""
   ]
  },
  {
   "cell_type": "markdown",
   "id": "99ac8a8f",
   "metadata": {},
   "source": [
    "Note que estes \"comentários\" feitos com 3 aspas na verdade são strings de muitas linhas: mas o Python irá ignorá-las caso elas não sejá atribuídas a uma variável, funcionando, assim, como comentário.\n",
    "\n",
    "De qualquer forma, o modo acima, com um # em casa linha é preferível!"
   ]
  },
  {
   "cell_type": "markdown",
   "id": "861551bd",
   "metadata": {},
   "source": [
    "# Saída (output)"
   ]
  },
  {
   "cell_type": "markdown",
   "id": "028d2d47",
   "metadata": {},
   "source": [
    "É como o computador **apresenta dados de saída** para um usuário.\n",
    "\n",
    "Utilizamos a função print() para exibir o conteúdo na tela"
   ]
  },
  {
   "cell_type": "code",
   "execution_count": null,
   "id": "9fa347a0",
   "metadata": {},
   "outputs": [],
   "source": [
    "# definição de uma string\n",
    "\n",
    "# função que exibe para o usuário o que foi pedido\n"
   ]
  },
  {
   "cell_type": "markdown",
   "id": "56451492",
   "metadata": {},
   "source": [
    "Podemos imprimir diversas strings ou diversas variáveis em sequência, utilizando vírgula para separá-las dentro do print:"
   ]
  },
  {
   "cell_type": "code",
   "execution_count": null,
   "id": "0f52240b",
   "metadata": {},
   "outputs": [],
   "source": [
    "# definindo uma variavel do tipo inteiro\n",
    "\n",
    "# definindo uma string\n",
    "\n",
    "# exibindo as duas variáveis acima após uma outra string"
   ]
  },
  {
   "cell_type": "code",
   "execution_count": null,
   "id": "1f282895",
   "metadata": {},
   "outputs": [],
   "source": []
  },
  {
   "cell_type": "markdown",
   "id": "898a8991",
   "metadata": {},
   "source": [
    "Um caractere especial do print é o \"\\n\", que serve para fazer a quebra de linha:"
   ]
  },
  {
   "cell_type": "code",
   "execution_count": null,
   "id": "35485a11",
   "metadata": {},
   "outputs": [],
   "source": []
  },
  {
   "cell_type": "markdown",
   "id": "bb25c42c",
   "metadata": {},
   "source": [
    "Depois vamos falar melhor sobre operações matemáticas em Python, mas podemos exibir o resultado de algumas operações simples usando a funçao print()\n",
    "\n",
    "Note que as instruções são executadas __na ordem em que aparecem!__"
   ]
  },
  {
   "cell_type": "code",
   "execution_count": null,
   "id": "49c7ba88",
   "metadata": {},
   "outputs": [],
   "source": []
  },
  {
   "cell_type": "markdown",
   "id": "c6c185fd",
   "metadata": {},
   "source": [
    "O jupyter nos permite também examinar o valor de uma expressão sem a necessidade de usar o print()\n",
    "\n",
    "Mas note que logo abaixo do código, aparece um \"Out[]\", o que não acontece quando usamos a função print()\n",
    "\n",
    "Esse é um jeito de \"espiar\" o output das operações do Python de forma direta!"
   ]
  },
  {
   "cell_type": "code",
   "execution_count": null,
   "id": "ccfc49d1",
   "metadata": {},
   "outputs": [],
   "source": []
  },
  {
   "cell_type": "markdown",
   "id": "047bb238",
   "metadata": {},
   "source": [
    "Outra coisa importante é que o Jupyter só permite examinar o valor da **última** expressão no código:"
   ]
  },
  {
   "cell_type": "code",
   "execution_count": null,
   "id": "4da04ff2",
   "metadata": {},
   "outputs": [],
   "source": []
  },
  {
   "cell_type": "markdown",
   "id": "7ec6de22",
   "metadata": {
    "heading_collapsed": true
   },
   "source": [
    "# Entrada (input)"
   ]
  },
  {
   "cell_type": "markdown",
   "id": "a8052f1a",
   "metadata": {
    "hidden": true
   },
   "source": [
    "É como o computador **coleta dados de entrada** de um usuário através do teclado.\n",
    "\n",
    "Utilizamos a função input() para receber os dados do usuário, que deve digitá-los\n",
    "\n",
    "Opcionalmente, podemos colocar uma frase de instrução ao usuário na função input, dentro dos parênteses"
   ]
  },
  {
   "cell_type": "code",
   "execution_count": null,
   "id": "6603d340",
   "metadata": {
    "hidden": true
   },
   "outputs": [],
   "source": [
    "# recebo os dados do usuário através da função input,\n",
    "# e armazeno o resultado na variável \"meu_nome\"\n"
   ]
  },
  {
   "cell_type": "markdown",
   "id": "7ca5bf23",
   "metadata": {
    "hidden": true
   },
   "source": [
    "__IMPORTANTE: a função input() toma o que o usuário digitou como uma string! Se o usuário digitar algum número, e algum cálculo for feito com esse número, o número deve ser transformado em int ou float!__\n",
    "\n",
    "A melhor forma de fazer isso, é já transformar o resultado da função input em float.\n",
    "\n",
    "Fazemos isso com uma espécie de sanduíche, colocando a função input() dentro da função float(), que transforma uma string em um float!\n",
    "\n",
    "OBS: é melhor transformar o input em float ao invés de int, pois o float é um tipo numérico mais genérico, apesar de ocupar (um pouco) mais memória"
   ]
  },
  {
   "cell_type": "code",
   "execution_count": null,
   "id": "431663ab",
   "metadata": {
    "hidden": true
   },
   "outputs": [],
   "source": []
  },
  {
   "cell_type": "code",
   "execution_count": null,
   "id": "9e359146",
   "metadata": {
    "hidden": true
   },
   "outputs": [],
   "source": [
    "# pede dois números ao usuário, e já os transforma em float\n",
    "\n",
    "# calcula a soma dos dois números\n"
   ]
  },
  {
   "cell_type": "code",
   "execution_count": null,
   "id": "6d98b425",
   "metadata": {
    "hidden": true
   },
   "outputs": [],
   "source": []
  },
  {
   "cell_type": "markdown",
   "id": "fab9953f",
   "metadata": {},
   "source": [
    "# Operadores Matemáticos"
   ]
  },
  {
   "cell_type": "markdown",
   "id": "04973a85",
   "metadata": {},
   "source": [
    "Em Python, temos as principais operações matemáticas, com os respectivos símbolos:\n",
    "\n",
    "- soma: (+)\n",
    "\n",
    "- subtração: (-)\n",
    "\n",
    "- multiplicação: (*)\n",
    "\n",
    "- divisão: (/)\n",
    "\n",
    "- potência: (**)\n",
    "\n",
    "Além disso, temos duas operações especiais:\n",
    "\n",
    "- divisão inteira: (//) retorna a parte inteira da divisão entre dois números\n",
    "\n",
    "- resto da divisão: (%) se lê \"mod\", e retorna o resto da divisão entre dois números"
   ]
  },
  {
   "cell_type": "code",
   "execution_count": null,
   "id": "432b2f57",
   "metadata": {},
   "outputs": [],
   "source": [
    "# faça alguns exemplos simples com os alunos sobre cada uma das operações acima\n"
   ]
  },
  {
   "cell_type": "code",
   "execution_count": null,
   "id": "6b86c77f",
   "metadata": {},
   "outputs": [],
   "source": []
  },
  {
   "cell_type": "markdown",
   "id": "76fc2834",
   "metadata": {},
   "source": [
    "OBS: o principal uso do operador resto da divisão (%) é para avaliar se um número é par ou impar:\n",
    "\n",
    "- se o resto da divisão de um número por 2 **É ZERO**, ele é par;\n",
    "- se o resto da divisão de um número por 2 **É UM**, ele é ímpar;\n"
   ]
  },
  {
   "cell_type": "markdown",
   "id": "d58d503e",
   "metadata": {},
   "source": [
    "# Exercícios"
   ]
  },
  {
   "cell_type": "markdown",
   "id": "8967d0cd",
   "metadata": {},
   "source": [
    "## Faça um programa que receba um valor monetário e eleve esse valor em 15%. "
   ]
  },
  {
   "cell_type": "code",
   "execution_count": 1,
   "id": "33d6211e",
   "metadata": {
    "ExecuteTime": {
     "end_time": "2021-07-06T20:57:46.242657Z",
     "start_time": "2021-07-06T20:57:43.651579Z"
    }
   },
   "outputs": [
    {
     "name": "stdout",
     "output_type": "stream",
     "text": [
      "Digite um Valor: R$100\n",
      "O Valor final com Juros é: R$ 115.0\n"
     ]
    }
   ],
   "source": [
    "#o usuário da o input no valor\n",
    "vlr=float(input('Digite um Valor: R$'))\n",
    "vlr_2=vlr+vlr*0.15 #Soma o valor com 15% dele\n",
    "print('O Valor final com Juros é: R$',vlr_2) #imprime na tela o valor final"
   ]
  },
  {
   "cell_type": "markdown",
   "id": "432e39a6",
   "metadata": {},
   "source": [
    "## Faça um programa que receba um valor monetário e diminua esse valor em 15%. "
   ]
  },
  {
   "cell_type": "code",
   "execution_count": 4,
   "id": "9dbe470b",
   "metadata": {
    "ExecuteTime": {
     "end_time": "2021-07-06T20:39:21.013387Z",
     "start_time": "2021-07-06T20:39:19.127599Z"
    }
   },
   "outputs": [
    {
     "name": "stdout",
     "output_type": "stream",
     "text": [
      "Digite um Valor: R$12\n",
      "O Valor final com Juros é: R$ 10.2\n"
     ]
    }
   ],
   "source": [
    "#o usuário da o input no valor\n",
    "vlr=float(input('Digite um Valor: R$'))\n",
    "vlr_2=vlr-vlr*0.15 #Subtrai o valor com 15% dele\n",
    "print('O Valor final com Juros é: R$',vlr_2) #imprime na tela o valor final"
   ]
  }
 ],
 "metadata": {
  "kernelspec": {
   "display_name": "Python 3",
   "language": "python",
   "name": "python3"
  },
  "language_info": {
   "codemirror_mode": {
    "name": "ipython",
    "version": 3
   },
   "file_extension": ".py",
   "mimetype": "text/x-python",
   "name": "python",
   "nbconvert_exporter": "python",
   "pygments_lexer": "ipython3",
   "version": "3.8.8"
  },
  "toc": {
   "base_numbering": 1,
   "nav_menu": {},
   "number_sections": true,
   "sideBar": false,
   "skip_h1_title": false,
   "title_cell": "Table of Contents",
   "title_sidebar": "Contents",
   "toc_cell": false,
   "toc_position": {
    "height": "47.6px",
    "left": "30px",
    "top": "164px",
    "width": "159px"
   },
   "toc_section_display": false,
   "toc_window_display": true
  },
  "varInspector": {
   "cols": {
    "lenName": 16,
    "lenType": 16,
    "lenVar": 40
   },
   "kernels_config": {
    "python": {
     "delete_cmd_postfix": "",
     "delete_cmd_prefix": "del ",
     "library": "var_list.py",
     "varRefreshCmd": "print(var_dic_list())"
    },
    "r": {
     "delete_cmd_postfix": ") ",
     "delete_cmd_prefix": "rm(",
     "library": "var_list.r",
     "varRefreshCmd": "cat(var_dic_list()) "
    }
   },
   "types_to_exclude": [
    "module",
    "function",
    "builtin_function_or_method",
    "instance",
    "_Feature"
   ],
   "window_display": false
  }
 },
 "nbformat": 4,
 "nbformat_minor": 5
}

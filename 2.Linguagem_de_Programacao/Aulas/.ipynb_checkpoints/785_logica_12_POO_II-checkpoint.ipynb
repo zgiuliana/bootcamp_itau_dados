{
 "cells": [
  {
   "cell_type": "markdown",
   "metadata": {},
   "source": [
    "# Aula 12 - Programação Orientada a Objetos - Parte II\n",
    "---\n",
    "\n",
    "<img src=\"https://lc-public-assets.s3.sa-east-1.amazonaws.com/images/Logos/logoLcPng.webp\" width=\"220px\" style=\"position: absolute; top: 15px; right: 20px; border-radius: 5px;\" />\n",
    "\n",
    "1. Revisão\n",
    "2. Métodos mágicos\n",
    "3. Métodos Estáticos\n",
    "4. Herança e Polimorfismo"
   ]
  },
  {
   "cell_type": "markdown",
   "metadata": {},
   "source": [
    "---\n",
    "### Para praticar\n",
    "\n",
    "Criar uma class chamada `Point`, que abstrai um ponto do plano cartesiano 2D. Esta classe deve conter três métodos:\n",
    "\n",
    "1. um método para atualizar as coordenadas do ponto;\n",
    "2. um método para calcular e retornar a distância para a origem;\n",
    "3. um método que recebe outro ponto e calcula a distância entre o objeto e o outro ponto recebido como parâmetro.\n",
    "\n",
    "\n",
    "![](https://media.tenor.com/images/56074b63a3b147fe7ac2ff71d3e9fc26/tenor.gif)"
   ]
  },
  {
   "cell_type": "code",
   "execution_count": 48,
   "metadata": {},
   "outputs": [],
   "source": [
    "from math import sqrt\n",
    "# Definindo a classe (Point)\n",
    "\n",
    "class Point:\n",
    "    def __init__(self, x, y):\n",
    "        self.x = x\n",
    "        self.y = y\n",
    "    \n",
    "    # método para atualizar as coordenadas do ponto\n",
    "    def updatePoint(self, **coordenadas):\n",
    "        if 'x' in coordenadas:\n",
    "            self.x = coordenadas['x']\n",
    "        if 'y' in coordenadas:\n",
    "            self.y = coordenadas['y']\n",
    "    \n",
    "    def distanceFromOrigin(self):\n",
    "        return sqrt(self.x**2 + self.y**2)\n",
    "    \n",
    "    # método para calcular a distância entre o ponto e outro ponto\n",
    "    def distanceFromAnotherPoint(self, ponto):\n",
    "        x1, y1 = self.x, self.y\n",
    "        x2, y2 = ponto.x, ponto.y\n",
    "        \n",
    "        return sqrt((x1 - x2)**2 + (y1 - y2)**2)"
   ]
  },
  {
   "cell_type": "markdown",
   "metadata": {},
   "source": [
    "$$\n",
    "d(p_1, p_2) = \\sqrt{(x_1 - x_2)^2 + (y_1 - y_2)^2}\n",
    "$$"
   ]
  },
  {
   "cell_type": "code",
   "execution_count": 49,
   "metadata": {},
   "outputs": [],
   "source": [
    "ponto1 = Point(1, 1) # instanciando um objeto"
   ]
  },
  {
   "cell_type": "code",
   "execution_count": 50,
   "metadata": {},
   "outputs": [
    {
     "data": {
      "text/plain": [
       "1"
      ]
     },
     "execution_count": 50,
     "metadata": {},
     "output_type": "execute_result"
    }
   ],
   "source": [
    "ponto1.x"
   ]
  },
  {
   "cell_type": "code",
   "execution_count": 51,
   "metadata": {},
   "outputs": [
    {
     "data": {
      "text/plain": [
       "1"
      ]
     },
     "execution_count": 51,
     "metadata": {},
     "output_type": "execute_result"
    }
   ],
   "source": [
    "ponto1.y"
   ]
  },
  {
   "cell_type": "code",
   "execution_count": 52,
   "metadata": {},
   "outputs": [
    {
     "data": {
      "text/plain": [
       "1.4142135623730951"
      ]
     },
     "execution_count": 52,
     "metadata": {},
     "output_type": "execute_result"
    }
   ],
   "source": [
    "ponto1.distanceFromOrigin()"
   ]
  },
  {
   "cell_type": "code",
   "execution_count": 46,
   "metadata": {},
   "outputs": [],
   "source": [
    "ponto1.updatePoint(x=0, y=10)"
   ]
  },
  {
   "cell_type": "code",
   "execution_count": 41,
   "metadata": {},
   "outputs": [
    {
     "data": {
      "text/plain": [
       "0"
      ]
     },
     "execution_count": 41,
     "metadata": {},
     "output_type": "execute_result"
    }
   ],
   "source": [
    "ponto1.x"
   ]
  },
  {
   "cell_type": "code",
   "execution_count": 42,
   "metadata": {},
   "outputs": [
    {
     "data": {
      "text/plain": [
       "10"
      ]
     },
     "execution_count": 42,
     "metadata": {},
     "output_type": "execute_result"
    }
   ],
   "source": [
    "ponto1.y"
   ]
  },
  {
   "cell_type": "code",
   "execution_count": 44,
   "metadata": {},
   "outputs": [
    {
     "data": {
      "text/plain": [
       "10.0"
      ]
     },
     "execution_count": 44,
     "metadata": {},
     "output_type": "execute_result"
    }
   ],
   "source": [
    "ponto1.distanceFromOrigin()"
   ]
  },
  {
   "cell_type": "code",
   "execution_count": null,
   "metadata": {},
   "outputs": [],
   "source": []
  },
  {
   "cell_type": "code",
   "execution_count": 57,
   "metadata": {},
   "outputs": [
    {
     "data": {
      "text/plain": [
       "1.4142135623730951"
      ]
     },
     "execution_count": 57,
     "metadata": {},
     "output_type": "execute_result"
    }
   ],
   "source": [
    "ponto1 = Point(0, 1)\n",
    "ponto2 = Point(1, 0)\n",
    "\n",
    "ponto1.distanceFromAnotherPoint(ponto2)"
   ]
  },
  {
   "cell_type": "code",
   "execution_count": null,
   "metadata": {},
   "outputs": [],
   "source": []
  },
  {
   "cell_type": "markdown",
   "metadata": {},
   "source": [
    "## Métodos Mágicos\n",
    "---\n",
    "\n",
    "1. Representação\n",
    "2. Operações Aritméticas\n",
    "3. Operações Lógicas"
   ]
  },
  {
   "cell_type": "code",
   "execution_count": 58,
   "metadata": {},
   "outputs": [],
   "source": [
    "lista = [1, 2]"
   ]
  },
  {
   "cell_type": "code",
   "execution_count": 59,
   "metadata": {},
   "outputs": [
    {
     "data": {
      "text/plain": [
       "[1, 2]"
      ]
     },
     "execution_count": 59,
     "metadata": {},
     "output_type": "execute_result"
    }
   ],
   "source": [
    "lista"
   ]
  },
  {
   "cell_type": "code",
   "execution_count": 60,
   "metadata": {},
   "outputs": [
    {
     "data": {
      "text/plain": [
       "<__main__.Point at 0x7f4299946550>"
      ]
     },
     "execution_count": 60,
     "metadata": {},
     "output_type": "execute_result"
    }
   ],
   "source": [
    "ponto1 # (1, 2)"
   ]
  },
  {
   "cell_type": "code",
   "execution_count": 61,
   "metadata": {},
   "outputs": [
    {
     "data": {
      "text/plain": [
       "[1, 2, 1, 2]"
      ]
     },
     "execution_count": 61,
     "metadata": {},
     "output_type": "execute_result"
    }
   ],
   "source": [
    "lista + lista"
   ]
  },
  {
   "cell_type": "code",
   "execution_count": 62,
   "metadata": {},
   "outputs": [
    {
     "ename": "TypeError",
     "evalue": "unsupported operand type(s) for +: 'Point' and 'Point'",
     "output_type": "error",
     "traceback": [
      "\u001b[0;31m---------------------------------------------------------------------------\u001b[0m",
      "\u001b[0;31mTypeError\u001b[0m                                 Traceback (most recent call last)",
      "\u001b[0;32m<ipython-input-62-33e77505652e>\u001b[0m in \u001b[0;36m<module>\u001b[0;34m\u001b[0m\n\u001b[0;32m----> 1\u001b[0;31m \u001b[0mponto1\u001b[0m \u001b[0;34m+\u001b[0m \u001b[0mponto2\u001b[0m\u001b[0;34m\u001b[0m\u001b[0;34m\u001b[0m\u001b[0m\n\u001b[0m",
      "\u001b[0;31mTypeError\u001b[0m: unsupported operand type(s) for +: 'Point' and 'Point'"
     ]
    }
   ],
   "source": [
    "ponto1 + ponto2"
   ]
  },
  {
   "cell_type": "markdown",
   "metadata": {},
   "source": [
    "### Aplicando o método mágico de representação na classe `Point`"
   ]
  },
  {
   "cell_type": "code",
   "execution_count": 75,
   "metadata": {},
   "outputs": [],
   "source": [
    "class Point:\n",
    "    def __init__(self, x, y):\n",
    "        self.x = x\n",
    "        self.y = y\n",
    "        \n",
    "    # esse método sempre retorna uma string com o template do que você deseja imprimir ao chamar o objeto\n",
    "    def __repr__(self):\n",
    "        return f'Point({self.x}, {self.y})'"
   ]
  },
  {
   "cell_type": "code",
   "execution_count": 76,
   "metadata": {},
   "outputs": [],
   "source": [
    "ponto = Point(4, 10)"
   ]
  },
  {
   "cell_type": "code",
   "execution_count": 77,
   "metadata": {},
   "outputs": [
    {
     "data": {
      "text/plain": [
       "Point(4, 10)"
      ]
     },
     "execution_count": 77,
     "metadata": {},
     "output_type": "execute_result"
    }
   ],
   "source": [
    "ponto"
   ]
  },
  {
   "cell_type": "markdown",
   "metadata": {},
   "source": [
    "### Classe de Horário"
   ]
  },
  {
   "cell_type": "code",
   "execution_count": 101,
   "metadata": {},
   "outputs": [],
   "source": [
    "class Horario:\n",
    "    def __init__(self, **horario):\n",
    "        if 'h' in horario:\n",
    "            self.h = horario['h']\n",
    "        else:\n",
    "            self.h = 0\n",
    "        \n",
    "        if 'm' in horario:\n",
    "            self.m = horario['m']\n",
    "        else:\n",
    "            self.m = 0\n",
    "        \n",
    "        if 's' in horario:\n",
    "            self.s = horario['s']\n",
    "        else:\n",
    "            self.s = 0\n",
    "            \n",
    "    def __repr__(self):\n",
    "        return '{:02d}:{:02d}:{:02d}'.format(self.h, self.m, self.s)"
   ]
  },
  {
   "cell_type": "code",
   "execution_count": 102,
   "metadata": {},
   "outputs": [],
   "source": [
    "hora_da_aula = Horario(h=11)"
   ]
  },
  {
   "cell_type": "code",
   "execution_count": 103,
   "metadata": {},
   "outputs": [
    {
     "data": {
      "text/plain": [
       "11:00:00"
      ]
     },
     "execution_count": 103,
     "metadata": {},
     "output_type": "execute_result"
    }
   ],
   "source": [
    "hora_da_aula"
   ]
  },
  {
   "cell_type": "code",
   "execution_count": 86,
   "metadata": {},
   "outputs": [
    {
     "data": {
      "text/plain": [
       "(11, 0, 0)"
      ]
     },
     "execution_count": 86,
     "metadata": {},
     "output_type": "execute_result"
    }
   ],
   "source": [
    "hora_da_aula.h, hora_da_aula.m, hora_da_aula.s"
   ]
  },
  {
   "cell_type": "code",
   "execution_count": 87,
   "metadata": {},
   "outputs": [],
   "source": [
    "outro_horario = Horario(h=13, m=45, s=30)"
   ]
  },
  {
   "cell_type": "code",
   "execution_count": 88,
   "metadata": {},
   "outputs": [
    {
     "data": {
      "text/plain": [
       "(13, 45, 30)"
      ]
     },
     "execution_count": 88,
     "metadata": {},
     "output_type": "execute_result"
    }
   ],
   "source": [
    "outro_horario.h, outro_horario.m, outro_horario.s"
   ]
  },
  {
   "cell_type": "code",
   "execution_count": 89,
   "metadata": {},
   "outputs": [
    {
     "data": {
      "text/plain": [
       "13:45:30"
      ]
     },
     "execution_count": 89,
     "metadata": {},
     "output_type": "execute_result"
    }
   ],
   "source": [
    "outro_horario"
   ]
  },
  {
   "cell_type": "code",
   "execution_count": 90,
   "metadata": {},
   "outputs": [
    {
     "data": {
      "text/plain": [
       "11:0:0"
      ]
     },
     "execution_count": 90,
     "metadata": {},
     "output_type": "execute_result"
    }
   ],
   "source": [
    "hora_da_aula"
   ]
  },
  {
   "cell_type": "code",
   "execution_count": null,
   "metadata": {},
   "outputs": [],
   "source": []
  },
  {
   "cell_type": "markdown",
   "metadata": {},
   "source": [
    "### 1. Adicionando o método `__repr__`"
   ]
  },
  {
   "cell_type": "code",
   "execution_count": 104,
   "metadata": {},
   "outputs": [],
   "source": [
    "class Horario:\n",
    "    def __init__(self, **horario):\n",
    "        if 'h' in horario:\n",
    "            self.h = horario['h']\n",
    "        else:\n",
    "            self.h = 0\n",
    "        \n",
    "        if 'm' in horario:\n",
    "            self.m = horario['m']\n",
    "        else:\n",
    "            self.m = 0\n",
    "        \n",
    "        if 's' in horario:\n",
    "            self.s = horario['s']\n",
    "        else:\n",
    "            self.s = 0\n",
    "            \n",
    "    def __repr__(self):\n",
    "        return '{:02d}:{:02d}:{:02d}'.format(self.h, self.m, self.s)"
   ]
  },
  {
   "cell_type": "code",
   "execution_count": 102,
   "metadata": {},
   "outputs": [],
   "source": [
    "hora_da_aula = Horario(h=11)"
   ]
  },
  {
   "cell_type": "code",
   "execution_count": 103,
   "metadata": {},
   "outputs": [
    {
     "data": {
      "text/plain": [
       "11:00:00"
      ]
     },
     "execution_count": 103,
     "metadata": {},
     "output_type": "execute_result"
    }
   ],
   "source": [
    "hora_da_aula"
   ]
  },
  {
   "cell_type": "markdown",
   "metadata": {},
   "source": [
    "### 2. Operadores Aritméticos\n",
    "\n",
    "#### Adicionando um método de soma (adição)"
   ]
  },
  {
   "cell_type": "code",
   "execution_count": 105,
   "metadata": {},
   "outputs": [
    {
     "data": {
      "text/plain": [
       "[1, 2, 1, 2]"
      ]
     },
     "execution_count": 105,
     "metadata": {},
     "output_type": "execute_result"
    }
   ],
   "source": [
    "lista + lista"
   ]
  },
  {
   "cell_type": "code",
   "execution_count": 106,
   "metadata": {},
   "outputs": [
    {
     "ename": "TypeError",
     "evalue": "unsupported operand type(s) for +: 'Horario' and 'Horario'",
     "output_type": "error",
     "traceback": [
      "\u001b[0;31m---------------------------------------------------------------------------\u001b[0m",
      "\u001b[0;31mTypeError\u001b[0m                                 Traceback (most recent call last)",
      "\u001b[0;32m<ipython-input-106-c624f156fa57>\u001b[0m in \u001b[0;36m<module>\u001b[0;34m\u001b[0m\n\u001b[0;32m----> 1\u001b[0;31m \u001b[0mhora_da_aula\u001b[0m \u001b[0;34m+\u001b[0m \u001b[0moutro_horario\u001b[0m\u001b[0;34m\u001b[0m\u001b[0;34m\u001b[0m\u001b[0m\n\u001b[0m",
      "\u001b[0;31mTypeError\u001b[0m: unsupported operand type(s) for +: 'Horario' and 'Horario'"
     ]
    }
   ],
   "source": [
    "hora_da_aula + outro_horario"
   ]
  },
  {
   "cell_type": "code",
   "execution_count": 121,
   "metadata": {},
   "outputs": [],
   "source": [
    "class Horario:\n",
    "    def __init__(self, **horario):\n",
    "        if 'h' in horario:\n",
    "            self.h = horario['h']\n",
    "        else:\n",
    "            self.h = 0\n",
    "        \n",
    "        if 'm' in horario:\n",
    "            self.m = horario['m']\n",
    "        else:\n",
    "            self.m = 0\n",
    "        \n",
    "        if 's' in horario:\n",
    "            self.s = horario['s']\n",
    "        else:\n",
    "            self.s = 0\n",
    "            \n",
    "    def __repr__(self):\n",
    "        return '{:02d}:{:02d}:{:02d}'.format(self.h, self.m, self.s)\n",
    "    \n",
    "    def __add__(self, outro):\n",
    "        horas = self.h + outro.h\n",
    "        minutos = self.m + outro.m\n",
    "        segundos = self.s + outro.s\n",
    "        \n",
    "        # Por que eu estou começando dos segundos?\n",
    "        if segundos >= 60:\n",
    "            minutos += 1\n",
    "            segundos -= 60\n",
    "        if minutos >= 60:\n",
    "            horas += 1\n",
    "            minutos -= 60\n",
    "        if horas >= 24:\n",
    "            horas -= 24\n",
    "        \n",
    "        return Horario(h=horas, m=minutos, s=segundos)"
   ]
  },
  {
   "cell_type": "code",
   "execution_count": 117,
   "metadata": {},
   "outputs": [],
   "source": [
    "horario1 = Horario(h=4, m=30, s=10)\n",
    "horario2 = Horario(h=12, m=13, s=40)"
   ]
  },
  {
   "cell_type": "code",
   "execution_count": 118,
   "metadata": {},
   "outputs": [
    {
     "data": {
      "text/plain": [
       "16:43:50"
      ]
     },
     "execution_count": 118,
     "metadata": {},
     "output_type": "execute_result"
    }
   ],
   "source": [
    "horario1 + horario2"
   ]
  },
  {
   "cell_type": "code",
   "execution_count": 147,
   "metadata": {},
   "outputs": [],
   "source": [
    "horario1 = Horario(h=21, s=50)\n",
    "horario2 = Horario(h=10, m=30, s=13)"
   ]
  },
  {
   "cell_type": "code",
   "execution_count": 148,
   "metadata": {},
   "outputs": [
    {
     "data": {
      "text/plain": [
       "07:31:03"
      ]
     },
     "execution_count": 148,
     "metadata": {},
     "output_type": "execute_result"
    }
   ],
   "source": [
    "horario1 + horario2"
   ]
  },
  {
   "cell_type": "markdown",
   "metadata": {},
   "source": [
    "#### Outros operadores aritméticos\n",
    "\n",
    "Temos os seguintes métodos mágicos aritméticos:\n",
    "* ```__add__``` soma: +\n",
    "* ```__sub__``` subtração: -\n",
    "* ```__mul__``` multiplicação: *\n",
    "* ```__truediv__``` divisão: /\n",
    "* ```__floordiv__``` divisão inteira: //\n",
    "* ```__mod__``` resto de divisão: % \n",
    "* ```__pow__``` potência: **\n",
    "  "
   ]
  },
  {
   "cell_type": "code",
   "execution_count": null,
   "metadata": {},
   "outputs": [],
   "source": []
  },
  {
   "cell_type": "code",
   "execution_count": null,
   "metadata": {},
   "outputs": [],
   "source": []
  },
  {
   "cell_type": "code",
   "execution_count": null,
   "metadata": {},
   "outputs": [],
   "source": []
  },
  {
   "cell_type": "code",
   "execution_count": null,
   "metadata": {},
   "outputs": [],
   "source": []
  },
  {
   "cell_type": "code",
   "execution_count": null,
   "metadata": {},
   "outputs": [],
   "source": []
  },
  {
   "cell_type": "markdown",
   "metadata": {},
   "source": [
    "### 3. Operadores Lógicos\n",
    "\n",
    "Os métodos lógicos são:\n",
    "\n",
    "* ```__gt__``` maior que (**g**reater **t**han): >\n",
    "* ```__ge__``` maior ou igual (**g**reater or **e**qual): >=\n",
    "* ```__lt__``` menor que (**l**ess **t**han): <\n",
    "* ```__le__``` menor ou igual (**l**ess  or **e**qual): <=\n",
    "* ```__eq__``` igual (**eq**ual): ==\n",
    "* ```__ne__``` diferente (**n**ot **e**qual): !=\n",
    "\n",
    "> Abordamos os métodos mágicos mais comuns. Temos vários outros, mas além de ser uma lista muito longa, alguns deles são para funcionalidades avançadas não abordadas no curso. Quem estiver interessado em se aprofundar para fazer projetos mais sofisticados pode conferir esse guia excelente: https://rszalski.github.io/magicmethods/"
   ]
  },
  {
   "cell_type": "code",
   "execution_count": 130,
   "metadata": {},
   "outputs": [],
   "source": [
    "class Horario:\n",
    "    def __init__(self, **horario):\n",
    "        if 'h' in horario:\n",
    "            self.h = horario['h']\n",
    "        else:\n",
    "            self.h = 0\n",
    "        \n",
    "        if 'm' in horario:\n",
    "            self.m = horario['m']\n",
    "        else:\n",
    "            self.m = 0\n",
    "        \n",
    "        if 's' in horario:\n",
    "            self.s = horario['s']\n",
    "        else:\n",
    "            self.s = 0\n",
    "            \n",
    "    def __repr__(self):\n",
    "        return '{:02d}:{:02d}:{:02d}'.format(self.h, self.m, self.s)\n",
    "    \n",
    "    def __add__(self, outro):\n",
    "        horas = self.h + outro.h\n",
    "        minutos = self.m + outro.m\n",
    "        segundos = self.s + outro.s\n",
    "        \n",
    "        # Por que eu estou começando dos segundos?\n",
    "        if segundos >= 60:\n",
    "            minutos += 1\n",
    "            segundos -= 60\n",
    "        if minutos >= 60:\n",
    "            horas += 1\n",
    "            minutos -= 60\n",
    "        if horas >= 24:\n",
    "            horas -= 24\n",
    "        \n",
    "        return Horario(h=horas, m=minutos, s=segundos)\n",
    "    \n",
    "    def __gt__(self, outro):\n",
    "        if self.h > outro.h:\n",
    "            return True\n",
    "        elif self.h == outro.h and self.m > outro.m:\n",
    "            return True\n",
    "        elif self.h == outro.h and self.m == outro.m and self.s > outro.s:\n",
    "            return True\n",
    "        \n",
    "        return False"
   ]
  },
  {
   "cell_type": "code",
   "execution_count": 143,
   "metadata": {},
   "outputs": [],
   "source": [
    "horario1 = Horario(h=12, m=45, s=41)\n",
    "horario2 = Horario(h=12, m=45, s=40)"
   ]
  },
  {
   "cell_type": "code",
   "execution_count": 144,
   "metadata": {},
   "outputs": [
    {
     "data": {
      "text/plain": [
       "12:45:41"
      ]
     },
     "execution_count": 144,
     "metadata": {},
     "output_type": "execute_result"
    }
   ],
   "source": [
    "horario1"
   ]
  },
  {
   "cell_type": "code",
   "execution_count": 145,
   "metadata": {},
   "outputs": [
    {
     "data": {
      "text/plain": [
       "12:45:40"
      ]
     },
     "execution_count": 145,
     "metadata": {},
     "output_type": "execute_result"
    }
   ],
   "source": [
    "horario2"
   ]
  },
  {
   "cell_type": "code",
   "execution_count": 146,
   "metadata": {},
   "outputs": [
    {
     "data": {
      "text/plain": [
       "True"
      ]
     },
     "execution_count": 146,
     "metadata": {},
     "output_type": "execute_result"
    }
   ],
   "source": [
    "horario1 > horario2"
   ]
  },
  {
   "cell_type": "code",
   "execution_count": null,
   "metadata": {},
   "outputs": [],
   "source": []
  },
  {
   "cell_type": "code",
   "execution_count": null,
   "metadata": {},
   "outputs": [],
   "source": []
  },
  {
   "cell_type": "code",
   "execution_count": null,
   "metadata": {},
   "outputs": [],
   "source": []
  },
  {
   "cell_type": "code",
   "execution_count": 149,
   "metadata": {},
   "outputs": [],
   "source": [
    "# Uma biblioteca do Python para trabalhar com Data e Hora\n",
    "import datetime"
   ]
  },
  {
   "cell_type": "code",
   "execution_count": 126,
   "metadata": {},
   "outputs": [
    {
     "data": {
      "text/plain": [
       "datetime.datetime(2021, 7, 22, 12, 52, 40, 866752)"
      ]
     },
     "execution_count": 126,
     "metadata": {},
     "output_type": "execute_result"
    }
   ],
   "source": [
    "datetime.datetime.now()"
   ]
  },
  {
   "cell_type": "code",
   "execution_count": 127,
   "metadata": {},
   "outputs": [
    {
     "data": {
      "text/plain": [
       "datetime.date(2021, 7, 22)"
      ]
     },
     "execution_count": 127,
     "metadata": {},
     "output_type": "execute_result"
    }
   ],
   "source": [
    "datetime.date.today()"
   ]
  },
  {
   "cell_type": "markdown",
   "metadata": {},
   "source": [
    "## Métodos Estáticos"
   ]
  },
  {
   "cell_type": "code",
   "execution_count": null,
   "metadata": {},
   "outputs": [],
   "source": []
  },
  {
   "cell_type": "code",
   "execution_count": null,
   "metadata": {},
   "outputs": [],
   "source": []
  },
  {
   "cell_type": "code",
   "execution_count": null,
   "metadata": {},
   "outputs": [],
   "source": []
  },
  {
   "cell_type": "code",
   "execution_count": null,
   "metadata": {},
   "outputs": [],
   "source": []
  },
  {
   "cell_type": "code",
   "execution_count": null,
   "metadata": {},
   "outputs": [],
   "source": []
  },
  {
   "cell_type": "code",
   "execution_count": null,
   "metadata": {},
   "outputs": [],
   "source": []
  },
  {
   "cell_type": "markdown",
   "metadata": {},
   "source": [
    "## Herança e Polimorfismo"
   ]
  },
  {
   "cell_type": "code",
   "execution_count": null,
   "metadata": {},
   "outputs": [],
   "source": []
  },
  {
   "cell_type": "code",
   "execution_count": null,
   "metadata": {},
   "outputs": [],
   "source": []
  },
  {
   "cell_type": "code",
   "execution_count": null,
   "metadata": {},
   "outputs": [],
   "source": []
  },
  {
   "cell_type": "code",
   "execution_count": null,
   "metadata": {},
   "outputs": [],
   "source": []
  },
  {
   "cell_type": "code",
   "execution_count": null,
   "metadata": {},
   "outputs": [],
   "source": []
  }
 ],
 "metadata": {
  "kernelspec": {
   "display_name": "Python 3",
   "language": "python",
   "name": "python3"
  },
  "language_info": {
   "codemirror_mode": {
    "name": "ipython",
    "version": 3
   },
   "file_extension": ".py",
   "mimetype": "text/x-python",
   "name": "python",
   "nbconvert_exporter": "python",
   "pygments_lexer": "ipython3",
   "version": "3.8.10"
  }
 },
 "nbformat": 4,
 "nbformat_minor": 4
}

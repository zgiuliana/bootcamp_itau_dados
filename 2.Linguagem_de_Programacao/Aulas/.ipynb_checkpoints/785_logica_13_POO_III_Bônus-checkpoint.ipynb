{
 "cells": [
  {
   "cell_type": "markdown",
   "metadata": {},
   "source": [
    "# Aula 13 - POO III + Tratamento de Exceção + Bônus\n",
    "---\n",
    "\n",
    "<img src=\"https://lc-public-assets.s3.sa-east-1.amazonaws.com/images/Logos/logoLcPng.webp\" width=\"220px\" style=\"position: absolute; top: 15px; right: 20px; border-radius: 5px;\" />\n",
    "\n",
    "1. Revisão\n",
    "2. Métodos Estáticos\n",
    "3. Herança e Polimorfismo\n",
    "4. Tratamento de Exceção\n",
    "5. Funções lambda"
   ]
  },
  {
   "cell_type": "markdown",
   "metadata": {},
   "source": [
    "## Exercícios\n",
    "\n",
    "### Classes e Objetos\n",
    "\n",
    "#### Questão 06\n",
    "\n",
    "O módulo time possui a função time.sleep(x), que faz seu programa “dormir” por x segundos. Utilizando essa função, crie uma classe Cronômetro e faça um programa que cronometre o tempo."
   ]
  },
  {
   "cell_type": "code",
   "execution_count": 1,
   "metadata": {},
   "outputs": [],
   "source": [
    "from time import sleep\n",
    "\n",
    "class Cronometro:\n",
    "    # max_time é um parâmetro que pode definir o tempo total do cronômetro (em segundos)\n",
    "    def __init__(self, max_time=None):\n",
    "        self.max_time = max_time\n",
    "        \n",
    "    def initStopwatch(self):\n",
    "        time = 0 # tempo do cronômetro em segundos\n",
    "        \n",
    "        if self.max_time != None:\n",
    "            while time <= self.max_time:\n",
    "                print('Time =', time)\n",
    "                sleep(1)\n",
    "                time += 1\n",
    "        else:\n",
    "            while True:\n",
    "                print('Time =', time)\n",
    "                sleep(1)\n",
    "                time += 1"
   ]
  },
  {
   "cell_type": "code",
   "execution_count": 4,
   "metadata": {},
   "outputs": [],
   "source": [
    "cronometro = Cronometro(20)"
   ]
  },
  {
   "cell_type": "code",
   "execution_count": 5,
   "metadata": {},
   "outputs": [
    {
     "name": "stdout",
     "output_type": "stream",
     "text": [
      "Time = 0\n",
      "Time = 1\n",
      "Time = 2\n",
      "Time = 3\n",
      "Time = 4\n",
      "Time = 5\n",
      "Time = 6\n",
      "Time = 7\n",
      "Time = 8\n",
      "Time = 9\n",
      "Time = 10\n",
      "Time = 11\n",
      "Time = 12\n",
      "Time = 13\n",
      "Time = 14\n",
      "Time = 15\n",
      "Time = 16\n",
      "Time = 17\n",
      "Time = 18\n",
      "Time = 19\n",
      "Time = 20\n"
     ]
    }
   ],
   "source": [
    "cronometro.initStopwatch()"
   ]
  },
  {
   "cell_type": "markdown",
   "metadata": {},
   "source": [
    "### Strings\n",
    "\n",
    "#### Questão 10\n",
    "\n",
    "Desafio - Faça uma função que receba uma string e uma letra e:\n",
    "\n",
    "a.\timprima quantas vezes a letra aparece na string;  \n",
    "b.\timprima todas as posições em que a letra aparece na string;  \n",
    "c.\tretorne a distância entre a primeira e a última aparição dessa letra na string.  "
   ]
  },
  {
   "cell_type": "code",
   "execution_count": 18,
   "metadata": {},
   "outputs": [
    {
     "name": "stdin",
     "output_type": "stream",
     "text": [
      "Informe o texto:  Eu amo Python\n",
      "Qual letra você deseja pesquisar no texto?  o\n"
     ]
    },
    {
     "name": "stdout",
     "output_type": "stream",
     "text": [
      "2\n",
      "[5, 11]\n",
      "6\n",
      "Total de ocorrências da letra 'o':  2\n",
      "Índices de aparição da letra: [5, 11]\n",
      "Distância entre a primeira e a última aparição: 6\n"
     ]
    }
   ],
   "source": [
    "texto = 'Eu amo Python!'\n",
    "texto2 = 'Não vejo a hora de começar o Happy Hour!'\n",
    "\n",
    "def find_letter_on_text(texto, letra_procurada):\n",
    "    texto = texto.lower()\n",
    "    letra_procurada = letra_procurada.lower()\n",
    "    \n",
    "    indices = [] # guardar os índices da aparição da letra pesquisada\n",
    "    total_ocorrencias = 0 # total de ocorrências da letra na frase\n",
    "\n",
    "    for idx in range(len(texto)):\n",
    "        if (texto[idx] == letra_procurada):\n",
    "            indices.append(idx)\n",
    "            total_ocorrencias += 1\n",
    "        \n",
    "    if total_ocorrencias > 0:\n",
    "        return total_ocorrencias, indices, (indices[-1] - indices[0])\n",
    "    else:\n",
    "        return 0, [], None\n",
    "\n",
    "texto = input('Informe o texto: ')\n",
    "letra_procurada = input('Qual letra você deseja pesquisar no texto? ')\n",
    "\n",
    "retornos = find_letter_on_text(texto, letra_procurada)\n",
    "\n",
    "print(retornos[0])\n",
    "print(retornos[1])\n",
    "print(retornos[2])\n",
    "\n",
    "total_aparicoes, lista_indices, distancia_maxima = find_letter_on_text(texto, letra_procurada)\n",
    "\n",
    "print(f\"Total de ocorrências da letra '{letra_procurada}': \", total_aparicoes)\n",
    "print('Índices de aparição da letra:', lista_indices)\n",
    "print('Distância entre a primeira e a última aparição:', distancia_maxima)\n",
    "\n",
    "# if (total_ocorrencias > 0):\n",
    "#     print(f\"Total de ocorrências da letra '{letra_procurada}': \", total_ocorrencias)\n",
    "#     print('Índices de aparição da letra:', indices)\n",
    "#     print('Distância entre a primeira e a última aparição:', indices[-1] - indices[0])\n",
    "# else:\n",
    "#     print(f\"Não foi encontrada nenhuma aparição da letra '{letra_procurada}' no texto.\")"
   ]
  },
  {
   "cell_type": "markdown",
   "metadata": {},
   "source": [
    "**Solução Alternativa**"
   ]
  },
  {
   "cell_type": "code",
   "execution_count": 25,
   "metadata": {},
   "outputs": [
    {
     "name": "stdin",
     "output_type": "stream",
     "text": [
      "Informe o texto:  Eu amo Python\n",
      "Qual letra você deseja pesquisar no texto?  o\n"
     ]
    },
    {
     "name": "stdout",
     "output_type": "stream",
     "text": [
      "2\n",
      "[5, 11]\n"
     ]
    }
   ],
   "source": [
    "texto = input('Informe o texto: ')\n",
    "letra_procurada = input('Qual letra você deseja pesquisar no texto? ')\n",
    "\n",
    "total_aparicoes = texto.count(letra_procurada)\n",
    "\n",
    "indices = []\n",
    "\n",
    "for aparicao in range(total_aparicoes):\n",
    "    if len(indices) == 0:\n",
    "        indice_aparicao = texto.index(letra_procurada)\n",
    "    else:\n",
    "        indice_aparicao = texto.index(letra_procurada, indices[-1] + 1)\n",
    "    \n",
    "    indices.append(indice_aparicao)\n",
    "    \n",
    "print(total_aparicoes)\n",
    "print(indices)"
   ]
  },
  {
   "cell_type": "code",
   "execution_count": 21,
   "metadata": {},
   "outputs": [
    {
     "data": {
      "text/plain": [
       "'Eu amo Python'"
      ]
     },
     "execution_count": 21,
     "metadata": {},
     "output_type": "execute_result"
    }
   ],
   "source": [
    "texto"
   ]
  },
  {
   "cell_type": "code",
   "execution_count": 22,
   "metadata": {},
   "outputs": [
    {
     "data": {
      "text/plain": [
       "'o'"
      ]
     },
     "execution_count": 22,
     "metadata": {},
     "output_type": "execute_result"
    }
   ],
   "source": [
    "letra_procurada"
   ]
  },
  {
   "cell_type": "code",
   "execution_count": 24,
   "metadata": {},
   "outputs": [
    {
     "data": {
      "text/plain": [
       "11"
      ]
     },
     "execution_count": 24,
     "metadata": {},
     "output_type": "execute_result"
    }
   ],
   "source": [
    "texto.index('o', 6)"
   ]
  },
  {
   "cell_type": "markdown",
   "metadata": {},
   "source": [
    "## 1. Métodos e Atributos Estáticos"
   ]
  },
  {
   "cell_type": "markdown",
   "metadata": {},
   "source": [
    "### Tipos de erros\n",
    "\n",
    "- `TypeError`\n",
    "- `NameError`\n",
    "- `KeyError`\n",
    "- `ZeroDivisionError`\n",
    "- `SyntaxError`\n",
    "- `Exception`"
   ]
  },
  {
   "cell_type": "code",
   "execution_count": 47,
   "metadata": {},
   "outputs": [],
   "source": [
    "class Aluno:\n",
    "    total_de_alunos = 0\n",
    "    matriculas = []\n",
    "    \n",
    "    def __init__(self, nome, matricula):\n",
    "        if matricula in Aluno.matriculas:\n",
    "            raise Exception('Matrícula já existente!')\n",
    "        \n",
    "        self.nome = nome\n",
    "        self.matricula = matricula\n",
    "        self.notas = []\n",
    "        \n",
    "        Aluno.total_de_alunos += 1\n",
    "        Aluno.matriculas.append(matricula)\n",
    "        \n",
    "    @staticmethod\n",
    "    def getTotalDeAlunos():\n",
    "        return Aluno.total_de_alunos"
   ]
  },
  {
   "cell_type": "code",
   "execution_count": 48,
   "metadata": {},
   "outputs": [],
   "source": [
    "aluno1 = Aluno('Anderson', 1)\n",
    "aluno2 = Aluno('Beatriz', 2)\n",
    "aluno3 = Aluno('Bruna', 3)"
   ]
  },
  {
   "cell_type": "code",
   "execution_count": 49,
   "metadata": {},
   "outputs": [
    {
     "data": {
      "text/plain": [
       "('Anderson', 1, [])"
      ]
     },
     "execution_count": 49,
     "metadata": {},
     "output_type": "execute_result"
    }
   ],
   "source": [
    "aluno1.nome, aluno1.matricula, aluno1.notas"
   ]
  },
  {
   "cell_type": "code",
   "execution_count": 50,
   "metadata": {},
   "outputs": [
    {
     "data": {
      "text/plain": [
       "3"
      ]
     },
     "execution_count": 50,
     "metadata": {},
     "output_type": "execute_result"
    }
   ],
   "source": [
    "Aluno.total_de_alunos"
   ]
  },
  {
   "cell_type": "code",
   "execution_count": 51,
   "metadata": {},
   "outputs": [
    {
     "data": {
      "text/plain": [
       "[1, 2, 3]"
      ]
     },
     "execution_count": 51,
     "metadata": {},
     "output_type": "execute_result"
    }
   ],
   "source": [
    "Aluno.matriculas"
   ]
  },
  {
   "cell_type": "code",
   "execution_count": 52,
   "metadata": {},
   "outputs": [
    {
     "ename": "Exception",
     "evalue": "Matrícula já existente!",
     "output_type": "error",
     "traceback": [
      "\u001b[0;31m---------------------------------------------------------------------------\u001b[0m",
      "\u001b[0;31mException\u001b[0m                                 Traceback (most recent call last)",
      "\u001b[0;32m<ipython-input-52-80d2746d9b5e>\u001b[0m in \u001b[0;36m<module>\u001b[0;34m\u001b[0m\n\u001b[0;32m----> 1\u001b[0;31m \u001b[0maluno4\u001b[0m \u001b[0;34m=\u001b[0m \u001b[0mAluno\u001b[0m\u001b[0;34m(\u001b[0m\u001b[0;34m'Brunna'\u001b[0m\u001b[0;34m,\u001b[0m \u001b[0;36m1\u001b[0m\u001b[0;34m)\u001b[0m\u001b[0;34m\u001b[0m\u001b[0;34m\u001b[0m\u001b[0m\n\u001b[0m",
      "\u001b[0;32m<ipython-input-47-79f64dc57379>\u001b[0m in \u001b[0;36m__init__\u001b[0;34m(self, nome, matricula)\u001b[0m\n\u001b[1;32m      5\u001b[0m     \u001b[0;32mdef\u001b[0m \u001b[0m__init__\u001b[0m\u001b[0;34m(\u001b[0m\u001b[0mself\u001b[0m\u001b[0;34m,\u001b[0m \u001b[0mnome\u001b[0m\u001b[0;34m,\u001b[0m \u001b[0mmatricula\u001b[0m\u001b[0;34m)\u001b[0m\u001b[0;34m:\u001b[0m\u001b[0;34m\u001b[0m\u001b[0;34m\u001b[0m\u001b[0m\n\u001b[1;32m      6\u001b[0m         \u001b[0;32mif\u001b[0m \u001b[0mmatricula\u001b[0m \u001b[0;32min\u001b[0m \u001b[0mAluno\u001b[0m\u001b[0;34m.\u001b[0m\u001b[0mmatriculas\u001b[0m\u001b[0;34m:\u001b[0m\u001b[0;34m\u001b[0m\u001b[0;34m\u001b[0m\u001b[0m\n\u001b[0;32m----> 7\u001b[0;31m             \u001b[0;32mraise\u001b[0m \u001b[0mException\u001b[0m\u001b[0;34m(\u001b[0m\u001b[0;34m'Matrícula já existente!'\u001b[0m\u001b[0;34m)\u001b[0m\u001b[0;34m\u001b[0m\u001b[0;34m\u001b[0m\u001b[0m\n\u001b[0m\u001b[1;32m      8\u001b[0m \u001b[0;34m\u001b[0m\u001b[0m\n\u001b[1;32m      9\u001b[0m         \u001b[0mself\u001b[0m\u001b[0;34m.\u001b[0m\u001b[0mnome\u001b[0m \u001b[0;34m=\u001b[0m \u001b[0mnome\u001b[0m\u001b[0;34m\u001b[0m\u001b[0;34m\u001b[0m\u001b[0m\n",
      "\u001b[0;31mException\u001b[0m: Matrícula já existente!"
     ]
    }
   ],
   "source": [
    "aluno4 = Aluno('Brunna', 1)"
   ]
  },
  {
   "cell_type": "code",
   "execution_count": 53,
   "metadata": {},
   "outputs": [
    {
     "data": {
      "text/plain": [
       "3"
      ]
     },
     "execution_count": 53,
     "metadata": {},
     "output_type": "execute_result"
    }
   ],
   "source": [
    "Aluno.getTotalDeAlunos()"
   ]
  },
  {
   "cell_type": "markdown",
   "metadata": {},
   "source": [
    "## 2. Herança e Polimorfismo"
   ]
  },
  {
   "cell_type": "code",
   "execution_count": 54,
   "metadata": {},
   "outputs": [],
   "source": [
    "class Animal:\n",
    "    def __init__(self, nome):\n",
    "        self.nome = nome\n",
    "    \n",
    "    def fala(self):\n",
    "        print(f'O animal {self.nome} emite algum som...')"
   ]
  },
  {
   "cell_type": "code",
   "execution_count": 55,
   "metadata": {},
   "outputs": [],
   "source": [
    "animal = Animal('Hamtaro')"
   ]
  },
  {
   "cell_type": "code",
   "execution_count": 56,
   "metadata": {},
   "outputs": [
    {
     "name": "stdout",
     "output_type": "stream",
     "text": [
      "O animal Hamtaro emite algum som...\n"
     ]
    }
   ],
   "source": [
    "animal.fala()"
   ]
  },
  {
   "cell_type": "code",
   "execution_count": 62,
   "metadata": {},
   "outputs": [],
   "source": [
    "class Cachorro(Animal):\n",
    "    def __init__(self, nome, raca):\n",
    "        super().__init__(nome)\n",
    "        self.raca = raca"
   ]
  },
  {
   "cell_type": "code",
   "execution_count": 64,
   "metadata": {},
   "outputs": [],
   "source": [
    "cachorro = Cachorro('Bethoven', 'São Bernardo')"
   ]
  },
  {
   "cell_type": "code",
   "execution_count": 65,
   "metadata": {},
   "outputs": [
    {
     "name": "stdout",
     "output_type": "stream",
     "text": [
      "O animal Bethoven emite algum som...\n"
     ]
    }
   ],
   "source": [
    "cachorro.fala()"
   ]
  },
  {
   "cell_type": "markdown",
   "metadata": {},
   "source": [
    "## 3. Tratamento de Exceção"
   ]
  },
  {
   "cell_type": "code",
   "execution_count": null,
   "metadata": {},
   "outputs": [],
   "source": []
  },
  {
   "cell_type": "code",
   "execution_count": null,
   "metadata": {},
   "outputs": [],
   "source": []
  },
  {
   "cell_type": "code",
   "execution_count": null,
   "metadata": {},
   "outputs": [],
   "source": []
  },
  {
   "cell_type": "code",
   "execution_count": null,
   "metadata": {},
   "outputs": [],
   "source": []
  },
  {
   "cell_type": "code",
   "execution_count": null,
   "metadata": {},
   "outputs": [],
   "source": []
  },
  {
   "cell_type": "code",
   "execution_count": null,
   "metadata": {},
   "outputs": [],
   "source": []
  },
  {
   "cell_type": "code",
   "execution_count": null,
   "metadata": {},
   "outputs": [],
   "source": []
  },
  {
   "cell_type": "markdown",
   "metadata": {},
   "source": [
    "## Bônus: Funções Lambda"
   ]
  },
  {
   "cell_type": "code",
   "execution_count": null,
   "metadata": {},
   "outputs": [],
   "source": []
  }
 ],
 "metadata": {
  "kernelspec": {
   "display_name": "Python 3",
   "language": "python",
   "name": "python3"
  },
  "language_info": {
   "codemirror_mode": {
    "name": "ipython",
    "version": 3
   },
   "file_extension": ".py",
   "mimetype": "text/x-python",
   "name": "python",
   "nbconvert_exporter": "python",
   "pygments_lexer": "ipython3",
   "version": "3.8.10"
  }
 },
 "nbformat": 4,
 "nbformat_minor": 4
}

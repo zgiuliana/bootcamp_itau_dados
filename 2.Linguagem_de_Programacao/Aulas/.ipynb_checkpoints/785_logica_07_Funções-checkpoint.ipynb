{
 "cells": [
  {
   "cell_type": "markdown",
   "metadata": {},
   "source": [
    "# Aula 07 - Funções e Recursividade\n",
    "---\n",
    "\n",
    "<img src=\"https://lc-public-assets.s3.sa-east-1.amazonaws.com/images/Logos/logoLcPng.webp\" width=\"220px\" style=\"position: absolute; top: 15px; right: 20px; border-radius: 5px;\" />"
   ]
  },
  {
   "cell_type": "markdown",
   "metadata": {},
   "source": [
    "### Antes de tudo, revisão..."
   ]
  },
  {
   "cell_type": "markdown",
   "metadata": {},
   "source": [
    "#### Strings\n",
    "\n",
    "6. Faça uma função que recebe uma string e retorna ela ao contrário.\n",
    "\n",
    "> Exemplo: Recebe \"teste\" e retorna \"etset\"."
   ]
  },
  {
   "cell_type": "markdown",
   "metadata": {},
   "source": [
    "**Método 01**"
   ]
  },
  {
   "cell_type": "code",
   "execution_count": 1,
   "metadata": {},
   "outputs": [],
   "source": [
    "palavra = 'teste'"
   ]
  },
  {
   "cell_type": "code",
   "execution_count": 2,
   "metadata": {},
   "outputs": [
    {
     "data": {
      "text/plain": [
       "'teste'"
      ]
     },
     "execution_count": 2,
     "metadata": {},
     "output_type": "execute_result"
    }
   ],
   "source": [
    "palavra"
   ]
  },
  {
   "cell_type": "code",
   "execution_count": 4,
   "metadata": {},
   "outputs": [
    {
     "data": {
      "text/plain": [
       "['t', 'e', 's', 't', 'e']"
      ]
     },
     "execution_count": 4,
     "metadata": {},
     "output_type": "execute_result"
    }
   ],
   "source": [
    "palavra_lista = list(palavra) # convertendo para lista\n",
    "\n",
    "palavra_lista"
   ]
  },
  {
   "cell_type": "code",
   "execution_count": 5,
   "metadata": {},
   "outputs": [],
   "source": [
    "palavra_lista.reverse() # inverte a lista"
   ]
  },
  {
   "cell_type": "code",
   "execution_count": 6,
   "metadata": {},
   "outputs": [
    {
     "data": {
      "text/plain": [
       "['e', 't', 's', 'e', 't']"
      ]
     },
     "execution_count": 6,
     "metadata": {},
     "output_type": "execute_result"
    }
   ],
   "source": [
    "palavra_lista"
   ]
  },
  {
   "cell_type": "code",
   "execution_count": 9,
   "metadata": {},
   "outputs": [
    {
     "data": {
      "text/plain": [
       "'etset'"
      ]
     },
     "execution_count": 9,
     "metadata": {},
     "output_type": "execute_result"
    }
   ],
   "source": [
    "''.join(palavra_lista) # junta os caracteres da lista para obter a string invertida"
   ]
  },
  {
   "cell_type": "markdown",
   "metadata": {},
   "source": [
    "**Método 02**"
   ]
  },
  {
   "cell_type": "code",
   "execution_count": 10,
   "metadata": {},
   "outputs": [],
   "source": [
    "lista = [1, 2, 3, 4, 5]"
   ]
  },
  {
   "cell_type": "code",
   "execution_count": 12,
   "metadata": {},
   "outputs": [
    {
     "data": {
      "text/plain": [
       "[1, 3]"
      ]
     },
     "execution_count": 12,
     "metadata": {},
     "output_type": "execute_result"
    }
   ],
   "source": [
    "lista[0:4:2]"
   ]
  },
  {
   "cell_type": "code",
   "execution_count": 14,
   "metadata": {},
   "outputs": [
    {
     "data": {
      "text/plain": [
       "[5, 4, 3, 2, 1]"
      ]
     },
     "execution_count": 14,
     "metadata": {},
     "output_type": "execute_result"
    }
   ],
   "source": [
    "lista[::-1]"
   ]
  },
  {
   "cell_type": "code",
   "execution_count": 15,
   "metadata": {},
   "outputs": [
    {
     "data": {
      "text/plain": [
       "'teste'"
      ]
     },
     "execution_count": 15,
     "metadata": {},
     "output_type": "execute_result"
    }
   ],
   "source": [
    "palavra"
   ]
  },
  {
   "cell_type": "code",
   "execution_count": 16,
   "metadata": {},
   "outputs": [
    {
     "data": {
      "text/plain": [
       "'etset'"
      ]
     },
     "execution_count": 16,
     "metadata": {},
     "output_type": "execute_result"
    }
   ],
   "source": [
    "palavra[::-1]"
   ]
  },
  {
   "cell_type": "markdown",
   "metadata": {},
   "source": [
    "#### Listas e For\n",
    "\n",
    "14. Faça um programa que sorteie 10 números entre 0 e 100 e imprima:\n",
    "\n",
    "\ta. o maior número sorteado;  \n",
    "\tb. o menor número sorteado;  \n",
    "\tc. a média dos números sorteados;  \n",
    "\td. a soma dos números sorteados.  "
   ]
  },
  {
   "cell_type": "code",
   "execution_count": 33,
   "metadata": {},
   "outputs": [],
   "source": [
    "from random import randint, seed"
   ]
  },
  {
   "cell_type": "code",
   "execution_count": 38,
   "metadata": {},
   "outputs": [
    {
     "name": "stdout",
     "output_type": "stream",
     "text": [
      "a. Maior número aleatório gerado: 98\n",
      "b. Menor número aleatório gerado: 18\n",
      "c. Média dos números gerados: 58.6\n",
      "c. Soma dos números gerados: 586\n"
     ]
    }
   ],
   "source": [
    "seed(100)\n",
    "\n",
    "lista_aleatorios = []\n",
    "\n",
    "for i in range(10):\n",
    "    numero_aleatorio = randint(0, 100)\n",
    "    \n",
    "    lista_aleatorios.append(numero_aleatorio)\n",
    "    \n",
    "print('a. Maior número aleatório gerado:', max(lista_aleatorios))\n",
    "print('b. Menor número aleatório gerado:', min(lista_aleatorios))\n",
    "print('c. Média dos números gerados:', sum(lista_aleatorios) / len(lista_aleatorios))\n",
    "print('c. Soma dos números gerados:', sum(lista_aleatorios))"
   ]
  },
  {
   "cell_type": "markdown",
   "metadata": {},
   "source": [
    "## 1. Funções\n",
    "\n",
    "Uma função é um pedaço de código que faz alguma tarefa específica e pode ser chamado de qualquer parte do programa quantas vezes desejarmos. Nós podemos dar um nome para nossa função, e toda vez que precisarmos que essa rotina do programa seja executada, nós a chamamos pelo nome.\n",
    "\n",
    "**Com isso, podemos evitar repetição de código, tornando nossos códigos mais enxutos e legíveis.**\n",
    "\n",
    "### Criando a primeira função"
   ]
  },
  {
   "cell_type": "code",
   "execution_count": 39,
   "metadata": {},
   "outputs": [],
   "source": [
    "def saudacao():\n",
    "    print('Bom dia! Seja bem-vinda(o) à Aula 07 do módulo de Lógica de Programação e POO!')"
   ]
  },
  {
   "cell_type": "code",
   "execution_count": 42,
   "metadata": {},
   "outputs": [
    {
     "name": "stdout",
     "output_type": "stream",
     "text": [
      "Bom dia! Seja bem-vinda(o) à Aula 07 do módulo de Lógica de Programação e POO!\n",
      "10\n"
     ]
    }
   ],
   "source": [
    "a = 10\n",
    "\n",
    "saudacao()\n",
    "\n",
    "print(a)"
   ]
  },
  {
   "cell_type": "markdown",
   "metadata": {},
   "source": [
    "### Enviando parâmetros para as funções\n",
    "\n",
    "Nossas funções devem ser tão genéricas quanto possível se quisermos reaproveitá-las ao máximo. \n",
    "\n",
    "Um dos pontos onde devemos tomar cuidado é na entrada de dados da função: se usarmos um _input_ dentro da função, teremos uma função que resolverá um certo problema _desde que o usuário vá digitar os dados do problema_. Mas e se quisermos usar a função em um trecho do programa onde o usuário digita os dados e em outro ponto onde os dados são lidos de um arquivo?\n",
    "\n",
    "Podemos resolver isso fazendo a leitura de dados no programa principal, fora de nossa função, e então **passaremos** os dados para a função. Dados passados para a função são chamados de _parâmetros_ ou _argumentos_ de uma função. Observe o exemplo abaixo:"
   ]
  },
  {
   "cell_type": "code",
   "execution_count": 48,
   "metadata": {},
   "outputs": [],
   "source": [
    "def saudacao(aula):\n",
    "    print('Bom dia! Seja bem-vinda(o) à Aula', aula, 'do módulo de Lógica de Programação e POO!')\n",
    "    print('Bom dia! Seja bem-vinda(o) à Aula {} do módulo de Lógica de Programação e POO!'.format(aula))\n",
    "    print(f'Bom dia! Seja bem-vinda(o) à Aula {aula} do módulo de Lógica de Programação e POO!')"
   ]
  },
  {
   "cell_type": "code",
   "execution_count": 49,
   "metadata": {},
   "outputs": [
    {
     "name": "stdout",
     "output_type": "stream",
     "text": [
      "Bom dia! Seja bem-vinda(o) à Aula 7 do módulo de Lógica de Programação e POO!\n",
      "Bom dia! Seja bem-vinda(o) à Aula 7 do módulo de Lógica de Programação e POO!\n",
      "Bom dia! Seja bem-vinda(o) à Aula 7 do módulo de Lógica de Programação e POO!\n"
     ]
    }
   ],
   "source": [
    "saudacao(7)"
   ]
  },
  {
   "cell_type": "code",
   "execution_count": 50,
   "metadata": {},
   "outputs": [],
   "source": [
    "def soma(numero1, numero2):\n",
    "    print('Soma =', numero1 + numero2)"
   ]
  },
  {
   "cell_type": "code",
   "execution_count": 53,
   "metadata": {},
   "outputs": [
    {
     "name": "stdout",
     "output_type": "stream",
     "text": [
      "Soma = 30\n"
     ]
    }
   ],
   "source": [
    "soma(10, 20)"
   ]
  },
  {
   "cell_type": "code",
   "execution_count": 54,
   "metadata": {},
   "outputs": [],
   "source": [
    "def inverter_string(palavra):\n",
    "    print(palavra[::-1])"
   ]
  },
  {
   "cell_type": "code",
   "execution_count": 57,
   "metadata": {},
   "outputs": [
    {
     "name": "stdout",
     "output_type": "stream",
     "text": [
      "arbadacarba\n"
     ]
    }
   ],
   "source": [
    "inverter_string('abracadabra')"
   ]
  },
  {
   "cell_type": "markdown",
   "metadata": {},
   "source": [
    "### Retorno de uma função\n",
    "\n",
    "Certas funções possuem uma \"resposta\": elas resolvem um problema (por exemplo, uma equação matemática) e nós estamos interessados no resultado. No exemplo anterior, tínhamos uma soma e nós imprimíamos a soma na tela.\n",
    "\n",
    "Porém, ainda pensando na questão da função ser genérica: será que nós sempre queremos o resultado na tela? Imagine que você esteja utilizando a fórmula de Bháskara para resolver uma equação de segundo grau. No meio da fórmula existe uma raiz quadrada. Nós não queremos o resultado da raiz quadrada na tela, nós queremos o resultado dentro do nosso programa em uma variável para jogar em outra equação."
   ]
  },
  {
   "cell_type": "code",
   "execution_count": 65,
   "metadata": {},
   "outputs": [],
   "source": [
    "def inverter_string(palavra):\n",
    "    print('Invertendo string...')\n",
    "    return palavra[::-1] # a função termina sua execução nesse ponto\n",
    "    print('String invertida!')"
   ]
  },
  {
   "cell_type": "code",
   "execution_count": 66,
   "metadata": {},
   "outputs": [
    {
     "name": "stdout",
     "output_type": "stream",
     "text": [
      "Invertendo string...\n"
     ]
    }
   ],
   "source": [
    "string_invertida = inverter_string('abracadabra')"
   ]
  },
  {
   "cell_type": "code",
   "execution_count": 67,
   "metadata": {},
   "outputs": [
    {
     "data": {
      "text/plain": [
       "'arbadacarba'"
      ]
     },
     "execution_count": 67,
     "metadata": {},
     "output_type": "execute_result"
    }
   ],
   "source": [
    "string_invertida"
   ]
  },
  {
   "cell_type": "code",
   "execution_count": null,
   "metadata": {},
   "outputs": [],
   "source": [
    "def dividir(numero1, numero2):\n",
    "    if numero2 == 0:\n",
    "        return None\n",
    "    \n",
    "    return numero1 / numero2"
   ]
  },
  {
   "cell_type": "code",
   "execution_count": 71,
   "metadata": {},
   "outputs": [],
   "source": [
    "def maior_que_100(numero):\n",
    "    if numero > 100:\n",
    "        return True\n",
    "    \n",
    "    return False"
   ]
  },
  {
   "cell_type": "code",
   "execution_count": 72,
   "metadata": {},
   "outputs": [
    {
     "data": {
      "text/plain": [
       "False"
      ]
     },
     "execution_count": 72,
     "metadata": {},
     "output_type": "execute_result"
    }
   ],
   "source": [
    "maior_que_100(20)"
   ]
  },
  {
   "cell_type": "code",
   "execution_count": 73,
   "metadata": {},
   "outputs": [
    {
     "data": {
      "text/plain": [
       "True"
      ]
     },
     "execution_count": 73,
     "metadata": {},
     "output_type": "execute_result"
    }
   ],
   "source": [
    "maior_que_100(200)"
   ]
  },
  {
   "cell_type": "markdown",
   "metadata": {},
   "source": [
    "### Retornando múltiplos valores"
   ]
  },
  {
   "cell_type": "markdown",
   "metadata": {},
   "source": [
    "$$\n",
    "    ax^2 + bx + c = 0\n",
    "$$"
   ]
  },
  {
   "cell_type": "code",
   "execution_count": 81,
   "metadata": {},
   "outputs": [],
   "source": [
    "def calcular_raizes(a, b, c):\n",
    "    # calculamos as raízes da equação\n",
    "    return 2, -5"
   ]
  },
  {
   "cell_type": "code",
   "execution_count": 82,
   "metadata": {},
   "outputs": [
    {
     "data": {
      "text/plain": [
       "(2, -5)"
      ]
     },
     "execution_count": 82,
     "metadata": {},
     "output_type": "execute_result"
    }
   ],
   "source": [
    "calcular_raizes(2, 3, 6)"
   ]
  },
  {
   "cell_type": "code",
   "execution_count": 83,
   "metadata": {},
   "outputs": [],
   "source": [
    "raizes = calcular_raizes(2, 3, 6)"
   ]
  },
  {
   "cell_type": "code",
   "execution_count": 84,
   "metadata": {},
   "outputs": [],
   "source": [
    "raiz1, raiz2 = calcular_raizes(2, 3, 6)"
   ]
  },
  {
   "cell_type": "code",
   "execution_count": 85,
   "metadata": {},
   "outputs": [
    {
     "data": {
      "text/plain": [
       "2"
      ]
     },
     "execution_count": 85,
     "metadata": {},
     "output_type": "execute_result"
    }
   ],
   "source": [
    "raiz1"
   ]
  },
  {
   "cell_type": "code",
   "execution_count": 86,
   "metadata": {},
   "outputs": [
    {
     "data": {
      "text/plain": [
       "-5"
      ]
     },
     "execution_count": 86,
     "metadata": {},
     "output_type": "execute_result"
    }
   ],
   "source": [
    "raiz2"
   ]
  },
  {
   "cell_type": "markdown",
   "metadata": {},
   "source": [
    "> O `return`, além de disponibilizar um valor, encerra a execução da função. Se a sua função possuir outras linhas após o return, elas serão ignoradas."
   ]
  },
  {
   "cell_type": "markdown",
   "metadata": {},
   "source": [
    "## 2. Recursividade\n",
    "---\n",
    "\n",
    "Recursividade é a propriedade de algo que é definido em termos de si mesmo, por exemplo, uma função que faz parte de sua própria definição. Em outras palavras, podemos dizer que uma função é recursiva quando, em algum ponto de sua definição, a função chama a si mesma.\n",
    "\n",
    "Como exemplo de definição recursiva, vamos utilizar o [fatorial](https://pt.wikipedia.org/wiki/Fatorial), que pode ser definido recursivamente da seguinte maneira:\n",
    "\n",
    "$$\n",
    "fatorial(n) = \\left\\{\\begin{array}{ll}1,\\ \\ se\\ \\ n = 1 \\\\ n \\cdot fatorial(n - 1),\\ \\ se\\ \\  n > 1\\end{array}\\right.\n",
    "$$\n",
    "\n",
    "Que pode ser traduzida em código Python como:"
   ]
  },
  {
   "cell_type": "code",
   "execution_count": null,
   "metadata": {},
   "outputs": [],
   "source": [
    "3! = 3 * 2 * 1 = 3 * 2!\n",
    "\n",
    "4! = 4 * 3 * 2 * 1 = 4 * 3!\n",
    "\n",
    "n! = n * (n - 1) * (n - 2) * ... * 2 * 1\n",
    "\n",
    "n! = n * (n - 1)!\n",
    "4! = 4 * 3!\n",
    "\n",
    "1! = 1\n",
    "0! = 1"
   ]
  },
  {
   "cell_type": "code",
   "execution_count": 78,
   "metadata": {},
   "outputs": [],
   "source": [
    "def fatorial(n):\n",
    "    # Caso base (ou final)\n",
    "    if n == 0 or n == 1:\n",
    "        return 1\n",
    "    \n",
    "    # Caso geral (recursividade)\n",
    "    return n * fatorial(n - 1)"
   ]
  },
  {
   "cell_type": "code",
   "execution_count": 79,
   "metadata": {},
   "outputs": [
    {
     "data": {
      "text/plain": [
       "24"
      ]
     },
     "execution_count": 79,
     "metadata": {},
     "output_type": "execute_result"
    }
   ],
   "source": [
    "fatorial(4)"
   ]
  },
  {
   "cell_type": "markdown",
   "metadata": {},
   "source": [
    "### Como definir uma função recursiva?\n",
    "\n",
    "A recursividade está essencialmente relacionada com o conceito de **repetição** e assim como nas estruturas de repetição (ou seja, `for` e `while`) precisamos tomar alguns cuidados para que a função não fique chamando a si mesma \"para sempre\" (numa espécie de loop infinito).\n",
    "Para definir uma função recursiva corretamente, ou seja, garantindo que ela não vai rodar para sempre, é necessário que ela possua as seguintes propriedades:\n",
    "\n",
    "1. Deve haver um caso base (caso final), no qual a função não chama a si própria, mas retorna um valor específico.\n",
    "2. O passo recursivo deve ser diferente da chamada atual, e deve caminhar para o caso base.\n",
    "\n",
    "O caso base indica quando a recursão irá \"parar\". Ou seja, ao atingir o caso base o programa não fará outra chamada recursiva.\n",
    "Veja a primeira linha da definição de fatorial acima, essa linha define o caso base. Para saber o fatorial de um número qualquer precisamos multiplicá-lo pelo fatorial do número anterior (passo recursivo), exceto para o elemento \"base\", o zero, para o qual temos o valor dado pela definição, fatorial(0) = 1.\n",
    "\n",
    "O passo recursivo é onde a função chama a si mesma. Na definição acima, trata-se da segunda linha. Essa chamada deve ser atualizada para que a função \"ande em direção ao caso base\". Por exemplo, imagine que na definição de fatorial(n) houvesse uma chamada para o próprio fatorial(n), ou seja, um passo recursivo exatamente igual à chamada atual. Nesse caso a função jamais chegaria ao caso base e portanto ficaria em execução sem nunca retornar um valor."
   ]
  },
  {
   "cell_type": "markdown",
   "metadata": {},
   "source": [
    "---\n",
    "### Para praticar\n",
    "\n",
    "A sequência de Fibonacci é composta por uma sucessão de números descrita pelo famoso matemático italiano Leonardo de Pisa (1170-1250), mais conhecido como Fibonacci, no final do século 12. Essa sequência inicia normalmente por 0 e 1, e cada termo subsequente corresponde à soma dos dois anteriores.\n",
    "\n",
    "\n",
    "Os 11 primeiros termos da sequência de Fibonacci são:\n",
    "\n",
    "> 0, 1, 1, 2, 3, 5, 8, 13, 21, 34, 55...\n",
    "\n",
    "Crie um script para informar qual seria o n-ésimo elemento dessa sequência. Por exemplo, se o usuário solicitar o 8º elemento da sequência, o resultado deve ser 13. Para isso, utilize uma:\n",
    "\n",
    "1. Abordagem iterativa (while ou for)\n",
    "2. Abordagem recursiva\n",
    "\n",
    "\n",
    "![](https://media.tenor.com/images/56074b63a3b147fe7ac2ff71d3e9fc26/tenor.gif)"
   ]
  },
  {
   "cell_type": "code",
   "execution_count": null,
   "metadata": {},
   "outputs": [],
   "source": []
  },
  {
   "cell_type": "code",
   "execution_count": null,
   "metadata": {},
   "outputs": [],
   "source": []
  },
  {
   "cell_type": "code",
   "execution_count": null,
   "metadata": {},
   "outputs": [],
   "source": []
  },
  {
   "cell_type": "code",
   "execution_count": null,
   "metadata": {},
   "outputs": [],
   "source": []
  },
  {
   "cell_type": "code",
   "execution_count": null,
   "metadata": {},
   "outputs": [],
   "source": []
  },
  {
   "cell_type": "code",
   "execution_count": null,
   "metadata": {},
   "outputs": [],
   "source": []
  },
  {
   "cell_type": "markdown",
   "metadata": {},
   "source": [
    "## 3. Funções com parâmetros variáveis"
   ]
  },
  {
   "cell_type": "markdown",
   "metadata": {},
   "source": [
    "### 3.1. Agrupando parâmetros"
   ]
  },
  {
   "cell_type": "code",
   "execution_count": 87,
   "metadata": {},
   "outputs": [],
   "source": [
    "def soma(num1, num2):\n",
    "    return num1 + num2"
   ]
  },
  {
   "cell_type": "code",
   "execution_count": 89,
   "metadata": {},
   "outputs": [
    {
     "ename": "TypeError",
     "evalue": "soma() takes 2 positional arguments but 3 were given",
     "output_type": "error",
     "traceback": [
      "\u001b[0;31m---------------------------------------------------------------------------\u001b[0m",
      "\u001b[0;31mTypeError\u001b[0m                                 Traceback (most recent call last)",
      "\u001b[0;32m<ipython-input-89-1b73083b9fa9>\u001b[0m in \u001b[0;36m<module>\u001b[0;34m\u001b[0m\n\u001b[0;32m----> 1\u001b[0;31m \u001b[0msoma\u001b[0m\u001b[0;34m(\u001b[0m\u001b[0;36m1\u001b[0m\u001b[0;34m,\u001b[0m \u001b[0;36m3\u001b[0m\u001b[0;34m,\u001b[0m \u001b[0;36m7\u001b[0m\u001b[0;34m)\u001b[0m\u001b[0;34m\u001b[0m\u001b[0;34m\u001b[0m\u001b[0m\n\u001b[0m",
      "\u001b[0;31mTypeError\u001b[0m: soma() takes 2 positional arguments but 3 were given"
     ]
    }
   ],
   "source": [
    "soma(1, 3, 7) # não é possível chamar a função dessa forma"
   ]
  },
  {
   "cell_type": "code",
   "execution_count": 99,
   "metadata": {},
   "outputs": [],
   "source": [
    "def soma(*numeros):\n",
    "    return sum(numeros)"
   ]
  },
  {
   "cell_type": "code",
   "execution_count": 101,
   "metadata": {},
   "outputs": [
    {
     "data": {
      "text/plain": [
       "6"
      ]
     },
     "execution_count": 101,
     "metadata": {},
     "output_type": "execute_result"
    }
   ],
   "source": [
    "soma(1, 2, 3)"
   ]
  },
  {
   "cell_type": "markdown",
   "metadata": {},
   "source": [
    "### 3.2. Parâmetros Opcionais"
   ]
  },
  {
   "cell_type": "code",
   "execution_count": 102,
   "metadata": {},
   "outputs": [],
   "source": [
    "def cadastro(**dados):\n",
    "    print(dados)"
   ]
  },
  {
   "cell_type": "code",
   "execution_count": 103,
   "metadata": {},
   "outputs": [
    {
     "name": "stdout",
     "output_type": "stream",
     "text": [
      "{'nome': 'Walisson', 'cpf': '111.222.333-00', 'email': 'walisson@gmail.com'}\n"
     ]
    }
   ],
   "source": [
    "cadastro(nome='Walisson', cpf='111.222.333-00', email='walisson@gmail.com')"
   ]
  },
  {
   "cell_type": "code",
   "execution_count": 104,
   "metadata": {},
   "outputs": [
    {
     "name": "stdout",
     "output_type": "stream",
     "text": [
      "{'cpf': '111.222.333-00', 'email': 'walisson@gmail.com', 'profissao': 'Professor'}\n"
     ]
    }
   ],
   "source": [
    "cadastro(cpf='111.222.333-00', email='walisson@gmail.com', profissao='Professor')"
   ]
  }
 ],
 "metadata": {
  "kernelspec": {
   "display_name": "Python 3",
   "language": "python",
   "name": "python3"
  },
  "language_info": {
   "codemirror_mode": {
    "name": "ipython",
    "version": 3
   },
   "file_extension": ".py",
   "mimetype": "text/x-python",
   "name": "python",
   "nbconvert_exporter": "python",
   "pygments_lexer": "ipython3",
   "version": "3.9.6"
  }
 },
 "nbformat": 4,
 "nbformat_minor": 4
}

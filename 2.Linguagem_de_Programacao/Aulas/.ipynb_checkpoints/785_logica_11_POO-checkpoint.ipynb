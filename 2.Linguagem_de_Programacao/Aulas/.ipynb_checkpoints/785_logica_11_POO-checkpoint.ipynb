{
 "cells": [
  {
   "cell_type": "markdown",
   "metadata": {},
   "source": [
    "# Aula 11 - POO\n",
    "---\n",
    "\n",
    "<img src=\"https://lc-public-assets.s3.sa-east-1.amazonaws.com/images/Logos/logoLcPng.webp\" width=\"220px\" style=\"position: absolute; top: 15px; right: 20px; border-radius: 5px;\" />\n",
    "\n",
    "1. Classes: Criação  \n",
    "2. Objetos  \n",
    "      2.1. Instanciando objetos  \n",
    "      2.2. Acessando atributos  \n",
    "      2.3. Executando métodos \n",
    "3. Métodos mágicos"
   ]
  },
  {
   "cell_type": "markdown",
   "metadata": {},
   "source": [
    "## Exercícios\n",
    "\n",
    "### Strings\n",
    "\n",
    "#### Questão 03\n",
    "\n",
    "Altere o exercício anterior para que a string copiada alterne entre letras maiúsculas e minúsculas.\n",
    "\n",
    "Exemplo: se o usuário digitar \"latex\" o programa deve imprimir \"LaTeX\"."
   ]
  },
  {
   "cell_type": "code",
   "execution_count": 1,
   "metadata": {},
   "outputs": [],
   "source": [
    "texto = 'latex'"
   ]
  },
  {
   "cell_type": "code",
   "execution_count": 8,
   "metadata": {},
   "outputs": [
    {
     "data": {
      "text/plain": [
       "'L'"
      ]
     },
     "execution_count": 8,
     "metadata": {},
     "output_type": "execute_result"
    }
   ],
   "source": [
    "texto[0].upper()"
   ]
  },
  {
   "cell_type": "code",
   "execution_count": 7,
   "metadata": {},
   "outputs": [
    {
     "name": "stdout",
     "output_type": "stream",
     "text": [
      "Falso\n"
     ]
    }
   ],
   "source": [
    "flag = False\n",
    "\n",
    "print('Verdadeiro') if flag else print('Falso')"
   ]
  },
  {
   "cell_type": "code",
   "execution_count": 15,
   "metadata": {},
   "outputs": [
    {
     "data": {
      "text/plain": [
       "'LaTeX'"
      ]
     },
     "execution_count": 15,
     "metadata": {},
     "output_type": "execute_result"
    }
   ],
   "source": [
    "novo_texto = []\n",
    "\n",
    "for idx in range(len(texto)):\n",
    "    if idx % 2 == 0: # índice par\n",
    "        novo_texto.append(texto[idx].upper())\n",
    "    else:\n",
    "        novo_texto.append(texto[idx].lower())\n",
    "\n",
    "''.join(novo_texto)"
   ]
  },
  {
   "cell_type": "code",
   "execution_count": 13,
   "metadata": {},
   "outputs": [
    {
     "data": {
      "text/plain": [
       "'LaTeX'"
      ]
     },
     "execution_count": 13,
     "metadata": {},
     "output_type": "execute_result"
    }
   ],
   "source": [
    "''.join([texto[idx].upper() if idx % 2 == 0 else texto[idx].lower() for idx in range(len(texto))])"
   ]
  },
  {
   "cell_type": "code",
   "execution_count": 16,
   "metadata": {},
   "outputs": [],
   "source": [
    "import string"
   ]
  },
  {
   "cell_type": "code",
   "execution_count": 19,
   "metadata": {},
   "outputs": [
    {
     "data": {
      "text/plain": [
       "'abcdefghijklmnopqrstuvwxyz'"
      ]
     },
     "execution_count": 19,
     "metadata": {},
     "output_type": "execute_result"
    }
   ],
   "source": [
    "string.ascii_lowercase"
   ]
  },
  {
   "cell_type": "code",
   "execution_count": 20,
   "metadata": {},
   "outputs": [
    {
     "data": {
      "text/plain": [
       "'ABCDEFGHIJKLMNOPQRSTUVWXYZ'"
      ]
     },
     "execution_count": 20,
     "metadata": {},
     "output_type": "execute_result"
    }
   ],
   "source": [
    "string.ascii_uppercase"
   ]
  },
  {
   "cell_type": "markdown",
   "metadata": {},
   "source": [
    "## Classes\n",
    "---"
   ]
  },
  {
   "cell_type": "markdown",
   "metadata": {},
   "source": [
    "### No Python, tudo é um objeto!"
   ]
  },
  {
   "cell_type": "code",
   "execution_count": 22,
   "metadata": {},
   "outputs": [],
   "source": [
    "numero = 10 # criando (instanciando) um objeto da classe 'int'"
   ]
  },
  {
   "cell_type": "code",
   "execution_count": 23,
   "metadata": {},
   "outputs": [
    {
     "name": "stdout",
     "output_type": "stream",
     "text": [
      "<class 'int'>\n"
     ]
    }
   ],
   "source": [
    "print(type(numero))"
   ]
  },
  {
   "cell_type": "code",
   "execution_count": 24,
   "metadata": {},
   "outputs": [],
   "source": [
    "texto = 'Aula 11'"
   ]
  },
  {
   "cell_type": "code",
   "execution_count": 25,
   "metadata": {},
   "outputs": [
    {
     "name": "stdout",
     "output_type": "stream",
     "text": [
      "<class 'str'>\n"
     ]
    }
   ],
   "source": [
    "print(type(texto))"
   ]
  },
  {
   "cell_type": "code",
   "execution_count": 26,
   "metadata": {},
   "outputs": [],
   "source": [
    "lista = [1, 2, 3, 4, 5]"
   ]
  },
  {
   "cell_type": "code",
   "execution_count": 27,
   "metadata": {},
   "outputs": [
    {
     "name": "stdout",
     "output_type": "stream",
     "text": [
      "<class 'list'>\n"
     ]
    }
   ],
   "source": [
    "print(type(lista))"
   ]
  },
  {
   "cell_type": "code",
   "execution_count": 28,
   "metadata": {},
   "outputs": [
    {
     "data": {
      "text/plain": [
       "list"
      ]
     },
     "execution_count": 28,
     "metadata": {},
     "output_type": "execute_result"
    }
   ],
   "source": [
    "type(lista)"
   ]
  },
  {
   "cell_type": "markdown",
   "metadata": {},
   "source": [
    "### Criando nossa primeira classe\n",
    "\n",
    "Vamos criar um classe que representa jogadores. Os jogadores possuem nome e pontuação, que inicia a zero. O jogador pode realizar a ação de lançar um dado; e nessa ação, o resultado pode ser um valor entre 1 e 6."
   ]
  },
  {
   "cell_type": "code",
   "execution_count": 42,
   "metadata": {},
   "outputs": [],
   "source": [
    "from random import randint\n",
    "\n",
    "class Jogador:\n",
    "    # Construtor (inicializa um objeto): Método obrigatório\n",
    "    def __init__(self, nome):\n",
    "        self.nome = nome     # atributo 1: nome\n",
    "        self.pontuacao = 0   # atributo 2: pontuacao (inicia em 0)\n",
    "        \n",
    "    def lancamento_de_dado(self):\n",
    "        valor_do_dado = randint(1, 6)\n",
    "        self.pontuacao += valor_do_dado\n",
    "        \n",
    "    def atualizar_nome(self, novo_nome):\n",
    "        self.nome = novo_nome"
   ]
  },
  {
   "cell_type": "code",
   "execution_count": 43,
   "metadata": {},
   "outputs": [],
   "source": [
    "jogador1 = Jogador('Mario') # criando (instanciando) um objeto da classe Jogador"
   ]
  },
  {
   "cell_type": "code",
   "execution_count": 44,
   "metadata": {},
   "outputs": [
    {
     "name": "stdout",
     "output_type": "stream",
     "text": [
      "<class '__main__.Jogador'>\n"
     ]
    }
   ],
   "source": [
    "print(type(jogador1))"
   ]
  },
  {
   "cell_type": "code",
   "execution_count": 45,
   "metadata": {},
   "outputs": [
    {
     "data": {
      "text/plain": [
       "'Mario'"
      ]
     },
     "execution_count": 45,
     "metadata": {},
     "output_type": "execute_result"
    }
   ],
   "source": [
    "jogador1.nome"
   ]
  },
  {
   "cell_type": "code",
   "execution_count": 46,
   "metadata": {},
   "outputs": [
    {
     "data": {
      "text/plain": [
       "0"
      ]
     },
     "execution_count": 46,
     "metadata": {},
     "output_type": "execute_result"
    }
   ],
   "source": [
    "jogador1.pontuacao"
   ]
  },
  {
   "cell_type": "code",
   "execution_count": 47,
   "metadata": {},
   "outputs": [],
   "source": [
    "jogador1.lancamento_de_dado()"
   ]
  },
  {
   "cell_type": "code",
   "execution_count": 48,
   "metadata": {},
   "outputs": [
    {
     "data": {
      "text/plain": [
       "3"
      ]
     },
     "execution_count": 48,
     "metadata": {},
     "output_type": "execute_result"
    }
   ],
   "source": [
    "jogador1.pontuacao"
   ]
  },
  {
   "cell_type": "code",
   "execution_count": 51,
   "metadata": {},
   "outputs": [],
   "source": [
    "jogador1.pontuacao = 6 # Não está certo!"
   ]
  },
  {
   "cell_type": "code",
   "execution_count": 49,
   "metadata": {},
   "outputs": [],
   "source": [
    "jogador2 = Jogador('Luigi')"
   ]
  },
  {
   "cell_type": "code",
   "execution_count": 50,
   "metadata": {},
   "outputs": [
    {
     "data": {
      "text/plain": [
       "0"
      ]
     },
     "execution_count": 50,
     "metadata": {},
     "output_type": "execute_result"
    }
   ],
   "source": [
    "jogador2.pontuacao"
   ]
  },
  {
   "cell_type": "code",
   "execution_count": 36,
   "metadata": {},
   "outputs": [],
   "source": [
    "lista = [jogador1, jogador2]"
   ]
  },
  {
   "cell_type": "code",
   "execution_count": 37,
   "metadata": {},
   "outputs": [
    {
     "data": {
      "text/plain": [
       "[<__main__.Jogador at 0x7fb8f2bf3100>, <__main__.Jogador at 0x7fb8f23d7e20>]"
      ]
     },
     "execution_count": 37,
     "metadata": {},
     "output_type": "execute_result"
    }
   ],
   "source": [
    "lista"
   ]
  },
  {
   "cell_type": "code",
   "execution_count": 39,
   "metadata": {},
   "outputs": [],
   "source": [
    "dicionario = { jogador1.nome: jogador1, jogador2.nome: jogador2 }"
   ]
  },
  {
   "cell_type": "code",
   "execution_count": 40,
   "metadata": {},
   "outputs": [
    {
     "data": {
      "text/plain": [
       "{'Mario': <__main__.Jogador at 0x7fb8f2bf3100>,\n",
       " 'Luigi': <__main__.Jogador at 0x7fb8f23d7e20>}"
      ]
     },
     "execution_count": 40,
     "metadata": {},
     "output_type": "execute_result"
    }
   ],
   "source": [
    "dicionario"
   ]
  },
  {
   "cell_type": "code",
   "execution_count": 41,
   "metadata": {},
   "outputs": [
    {
     "name": "stdin",
     "output_type": "stream",
     "text": [
      "Quantos jogadores irão participar?  3\n",
      "Informe o nome do jogador 1:  Mario\n",
      "Informe o nome do jogador 2:  Luigi\n",
      "Informe o nome do jogador 3:  Ryu\n"
     ]
    },
    {
     "data": {
      "text/plain": [
       "{'Mario': <__main__.Jogador at 0x7fb8f2be6bb0>,\n",
       " 'Luigi': <__main__.Jogador at 0x7fb8f2be6850>,\n",
       " 'Ryu': <__main__.Jogador at 0x7fb8f23477c0>}"
      ]
     },
     "execution_count": 41,
     "metadata": {},
     "output_type": "execute_result"
    }
   ],
   "source": [
    "qtd_jogadores = int( input('Quantos jogadores irão participar? ') )\n",
    "\n",
    "jogadores = {}\n",
    "\n",
    "for i in range(qtd_jogadores):\n",
    "    nome = input(f'Informe o nome do jogador {i + 1}: ')\n",
    "    \n",
    "    jogadores[nome] = Jogador(nome)\n",
    "    \n",
    "jogadores"
   ]
  },
  {
   "cell_type": "code",
   "execution_count": 53,
   "metadata": {},
   "outputs": [],
   "source": [
    "lista = [1, 2]"
   ]
  },
  {
   "cell_type": "code",
   "execution_count": 54,
   "metadata": {},
   "outputs": [
    {
     "data": {
      "text/plain": [
       "2"
      ]
     },
     "execution_count": 54,
     "metadata": {},
     "output_type": "execute_result"
    }
   ],
   "source": [
    "lista.pop()"
   ]
  },
  {
   "cell_type": "markdown",
   "metadata": {},
   "source": [
    "---\n",
    "### Para praticar\n",
    "\n",
    "Criar uma class chamada `Point`, que abstrai um ponto do plano cartesiano 2D. Esta classe deve conter três métodos:\n",
    "\n",
    "1. um método para atualizar as coordenadas do ponto;\n",
    "2. um método para calcular e retornar a distância para a origem;\n",
    "3. um método que recebe outro ponto e calcula a distância entre o objeto e o outro ponto recebido como parâmetro.\n",
    "\n",
    "\n",
    "![](https://media.tenor.com/images/56074b63a3b147fe7ac2ff71d3e9fc26/tenor.gif)"
   ]
  },
  {
   "cell_type": "code",
   "execution_count": 73,
   "metadata": {},
   "outputs": [],
   "source": [
    "from math import sqrt\n",
    "class Point:\n",
    "    # Construtor (inicializa um objeto): Método obrigatório\n",
    "    def __init__(self, x,y):\n",
    "        self.x = x     \n",
    "        self.y = y   \n",
    "    # método paraa atualizar as coordenadas dos pontos    \n",
    "    def updatePoint(self,**coordenada):\n",
    "        if 'x' in coordenada:\n",
    "            self.x=coordenada['x']\n",
    "        if 'y' in coordenada:\n",
    "            self.y=coordenada['y']\n",
    "    # método que calcula a dstância entre o ponto e a origem\n",
    "    def dist_origem(self):\n",
    "        #d² = (xb - xa)² + (yb - ya)².\n",
    "        d_0=sqrt((self.x**2)+(self.y**2))\n",
    "        return d_0\n",
    "    # método que calcula a distância entre dois pontos\n",
    "    def dist_point(self,ponto):\n",
    "        x1,y1=self.x,self.y\n",
    "        x2,y2=ponto.x,ponto.y\n",
    "        d_p=sqrt(((x1-x2)**2)+((y1-y2)**2))\n",
    "        return d_p\n",
    "        \n"
   ]
  },
  {
   "cell_type": "code",
   "execution_count": 74,
   "metadata": {},
   "outputs": [
    {
     "name": "stdout",
     "output_type": "stream",
     "text": [
      "<__main__.Point object at 0x7f9bc1d8f190>\n",
      "<__main__.Point object at 0x7f9bc1d8fed0>\n"
     ]
    }
   ],
   "source": [
    "ponto1=Point(2,2)\n",
    "print(ponto1)\n",
    "ponto2=Point(1,1)\n",
    "print(ponto2)"
   ]
  },
  {
   "cell_type": "code",
   "execution_count": 42,
   "metadata": {},
   "outputs": [
    {
     "name": "stdout",
     "output_type": "stream",
     "text": [
      "20\n",
      "5\n"
     ]
    }
   ],
   "source": [
    "ponto1.updatePoint(y=5)\n",
    "print(ponto1.x)\n",
    "print(ponto1.y)"
   ]
  },
  {
   "cell_type": "code",
   "execution_count": 75,
   "metadata": {},
   "outputs": [
    {
     "data": {
      "text/plain": [
       "2.8284271247461903"
      ]
     },
     "execution_count": 75,
     "metadata": {},
     "output_type": "execute_result"
    }
   ],
   "source": [
    "ponto1.dist_origem()"
   ]
  },
  {
   "cell_type": "code",
   "execution_count": 78,
   "metadata": {},
   "outputs": [
    {
     "data": {
      "text/plain": [
       "1.4142135623730951"
      ]
     },
     "execution_count": 78,
     "metadata": {},
     "output_type": "execute_result"
    }
   ],
   "source": [
    "ponto1.dist_point(ponto2)"
   ]
  },
  {
   "cell_type": "code",
   "execution_count": null,
   "metadata": {},
   "outputs": [],
   "source": []
  },
  {
   "cell_type": "code",
   "execution_count": null,
   "metadata": {},
   "outputs": [],
   "source": []
  },
  {
   "cell_type": "markdown",
   "metadata": {},
   "source": [
    "## Métodos Mágicos\n",
    "---\n",
    "\n",
    "1. Representação\n",
    "2. Operações Aritméticas\n",
    "3. Operações Lógicas"
   ]
  },
  {
   "cell_type": "markdown",
   "metadata": {},
   "source": [
    "### Aplicando o método mágico de representação na classe 'Point'"
   ]
  },
  {
   "cell_type": "code",
   "execution_count": 6,
   "metadata": {},
   "outputs": [],
   "source": [
    "class Point:\n",
    "    def __init__(self,x,y):\n",
    "        self.x=x\n",
    "        self.y=y\n",
    "    def __repr__(self):\n",
    "        return f'Point({self.x},{self.y})'"
   ]
  },
  {
   "cell_type": "code",
   "execution_count": 7,
   "metadata": {},
   "outputs": [
    {
     "data": {
      "text/plain": [
       "Point(4,10)"
      ]
     },
     "execution_count": 7,
     "metadata": {},
     "output_type": "execute_result"
    }
   ],
   "source": [
    "ponto=Point(4,10)\n",
    "ponto"
   ]
  },
  {
   "cell_type": "markdown",
   "metadata": {},
   "source": [
    "### Classe de Horário"
   ]
  },
  {
   "cell_type": "code",
   "execution_count": 37,
   "metadata": {},
   "outputs": [],
   "source": [
    "class Horario:\n",
    "    def __init__(self,**horario):\n",
    "        if 'h' in horario:\n",
    "            self.h=horario['h']\n",
    "        else:\n",
    "            self.h=0\n",
    "        if 'm' in horario:\n",
    "            self.m=horario['m']\n",
    "        else:\n",
    "            self.m=0\n",
    "        if 's' in horario:\n",
    "            self.s=horario['s']\n",
    "        else:\n",
    "            self.s=0\n",
    "    def __repr__(self):\n",
    "        return '{:02d}:{:02d}:{:02d}'.format(self.h,self.m,self.s)\n",
    "    def __add__(self,outro):\n",
    "        horas=self.h+outro.h\n",
    "        minutos=self.m+outro.m\n",
    "        segundos=self.s+outro.s\n",
    "        \n",
    "        if segundos>=60:\n",
    "            minutos +=1\n",
    "            segundos -= 60           \n",
    "        if minutos>=60:\n",
    "            horas +=1\n",
    "            minutos -= 60\n",
    "        if horas>=24:\n",
    "            horas -= 24\n",
    "\n",
    "        return Horario(h=horas,m=minutos,s=segundos)\n",
    "    def __sub__(self,outro):\n",
    "        horas=self.h-outro.h\n",
    "        minutos=self.m-outro.m\n",
    "        segundos=self.s-outro.s\n",
    "        if segundos<0:\n",
    "            minutos +=1\n",
    "            segundos -= 60           \n",
    "        if minutos>=60:\n",
    "            horas +=1\n",
    "            minutos -= 60\n",
    "        if horas>=24:\n",
    "            horas -= 24\n",
    "\n",
    "\n",
    "        return Horario(h=horas,m=minutos,s=segundos)"
   ]
  },
  {
   "cell_type": "code",
   "execution_count": 38,
   "metadata": {},
   "outputs": [
    {
     "data": {
      "text/plain": [
       "-1:-26:-30"
      ]
     },
     "execution_count": 38,
     "metadata": {},
     "output_type": "execute_result"
    }
   ],
   "source": [
    "horario1=Horario(h=12,m=19)\n",
    "hora_da_aula=Horario(h=11)\n",
    "horario2=Horario(h=13,m=45,s=30)\n",
    "horario1\n",
    "horario1+horario2\n",
    "horario1-horario2"
   ]
  },
  {
   "cell_type": "markdown",
   "metadata": {},
   "source": [
    "### 1. Adicionando o método `__repr__`"
   ]
  },
  {
   "cell_type": "markdown",
   "metadata": {},
   "source": [
    "### 2. Operadores Aritméticos\n",
    "\n",
    "#### Adicionando um método de soma (adição)"
   ]
  },
  {
   "cell_type": "markdown",
   "metadata": {},
   "source": [
    "#### Outros operadores aritméticos\n",
    "\n",
    "Temos os seguintes métodos mágicos aritméticos:\n",
    "* ```__add__``` soma: +\n",
    "* ```__sub__``` subtração: -\n",
    "* ```__mul__``` multiplicação: *\n",
    "* ```__truediv__``` divisão: /\n",
    "* ```__floordiv__``` divisão inteira: //\n",
    "* ```__mod__``` resto de divisão: % \n",
    "* ```__pow__``` potência: **\n",
    "  "
   ]
  },
  {
   "cell_type": "markdown",
   "metadata": {},
   "source": [
    "### 3. Operadores Lógicos\n",
    "\n",
    "Os métodos lógicos são:\n",
    "\n",
    "* ```__gt__``` maior que (**g**reater **t**han): >\n",
    "* ```__ge__``` maior ou igual (**g**reater or **e**qual): >=\n",
    "* ```__lt__``` menor que (**l**ess **t**han): <\n",
    "* ```__le__``` menor ou igual (**l**ess  or **e**qual): <=\n",
    "* ```__eq__``` igual (**eq**ual): ==\n",
    "* ```__ne__``` diferente (**n**ot **e**qual): !=\n",
    "\n",
    "> Abordamos os métodos mágicos mais comuns. Temos vários outros, mas além de ser uma lista muito longa, alguns deles são para funcionalidades avançadas não abordadas no curso. Quem estiver interessado em se aprofundar para fazer projetos mais sofisticados pode conferir esse guia excelente: https://rszalski.github.io/magicmethods/"
   ]
  },
  {
   "cell_type": "code",
   "execution_count": 59,
   "metadata": {},
   "outputs": [],
   "source": [
    "class Horario:\n",
    "    def __init__(self,**horario):\n",
    "        if 'h' in horario:\n",
    "            self.h=horario['h']\n",
    "        else:\n",
    "            self.h=0\n",
    "        if 'm' in horario:\n",
    "            self.m=horario['m']\n",
    "        else:\n",
    "            self.m=0\n",
    "        if 's' in horario:\n",
    "            self.s=horario['s']\n",
    "        else:\n",
    "            self.s=0\n",
    "    def __repr__(self):\n",
    "        return '{:02d}:{:02d}:{:02d}'.format(self.h,self.m,self.s)\n",
    "    def __gt__(self,outro):\n",
    "        if self.h>outro.h:\n",
    "            return True\n",
    "        elif self.h==self.h and self.m>outro.m:\n",
    "            return True\n",
    "        elif self.h==self.h and self.m==outro.m and self.s>outro.s:\n",
    "            return True\n",
    "        return False"
   ]
  },
  {
   "cell_type": "code",
   "execution_count": 62,
   "metadata": {},
   "outputs": [
    {
     "data": {
      "text/plain": [
       "False"
      ]
     },
     "execution_count": 62,
     "metadata": {},
     "output_type": "execute_result"
    }
   ],
   "source": [
    "horario1=Horario(h=12,m=50,s=45)\n",
    "horario2=Horario(h=12,m=50,s=55)\n",
    "horario1>horario2"
   ]
  },
  {
   "cell_type": "code",
   "execution_count": 43,
   "metadata": {},
   "outputs": [
    {
     "data": {
      "text/plain": [
       "datetime.date(2021, 7, 22)"
      ]
     },
     "execution_count": 43,
     "metadata": {},
     "output_type": "execute_result"
    }
   ],
   "source": [
    "import datetime\n",
    "datetime.datetime.now()\n",
    "datetime.date.today()"
   ]
  },
  {
   "cell_type": "code",
   "execution_count": null,
   "metadata": {},
   "outputs": [],
   "source": []
  },
  {
   "cell_type": "code",
   "execution_count": null,
   "metadata": {},
   "outputs": [],
   "source": []
  },
  {
   "cell_type": "code",
   "execution_count": null,
   "metadata": {},
   "outputs": [],
   "source": []
  }
 ],
 "metadata": {
  "kernelspec": {
   "display_name": "Python 3",
   "language": "python",
   "name": "python3"
  },
  "language_info": {
   "codemirror_mode": {
    "name": "ipython",
    "version": 3
   },
   "file_extension": ".py",
   "mimetype": "text/x-python",
   "name": "python",
   "nbconvert_exporter": "python",
   "pygments_lexer": "ipython3",
   "version": "3.7.6"
  }
 },
 "nbformat": 4,
 "nbformat_minor": 4
}

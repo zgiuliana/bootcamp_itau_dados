{
 "cells": [
  {
   "cell_type": "markdown",
   "metadata": {},
   "source": [
    "## Exercicio1"
   ]
  },
  {
   "cell_type": "code",
   "execution_count": null,
   "metadata": {
    "ExecuteTime": {
     "end_time": "2021-07-12T23:48:32.771976Z",
     "start_time": "2021-07-12T23:48:32.766121Z"
    }
   },
   "outputs": [],
   "source": [
    "%%time\n",
    "lista = [1, 2, 4, 6, 12.33, 109, -0.76]\n",
    "for item in lista: # item é o nome de uma variável\n",
    "    print(item)"
   ]
  },
  {
   "cell_type": "markdown",
   "metadata": {},
   "source": [
    "## Exercicio2"
   ]
  },
  {
   "cell_type": "code",
   "execution_count": null,
   "metadata": {
    "ExecuteTime": {
     "end_time": "2021-07-14T15:30:42.765767Z",
     "start_time": "2021-07-14T15:30:42.757789Z"
    }
   },
   "outputs": [],
   "source": [
    "%%time\n",
    "lista = [1, 2, 4, 6, 12.33, 109, -0.76]\n",
    "l=len(lista)\n",
    "i=0\n",
    "while i<l:\n",
    "    print(lista[i])\n",
    "    i=i+1\n"
   ]
  },
  {
   "cell_type": "markdown",
   "metadata": {},
   "source": [
    "## Exercicio3\n",
    "Faça um programa que peça para o usuário digitar um número n e imprima uma lista com todos os números de 0 a n-1.\n",
    "\n",
    "Exemplo: se o usuário digitar 5, o programa deve imprimir [0, 1, 2, 3, 4]"
   ]
  },
  {
   "cell_type": "code",
   "execution_count": null,
   "metadata": {
    "ExecuteTime": {
     "end_time": "2021-07-12T23:54:03.697850Z",
     "start_time": "2021-07-12T23:54:02.702807Z"
    }
   },
   "outputs": [],
   "source": [
    "n=int(input('Escolha um número: '))\n",
    "lista=list(range(n))\n",
    "print(list)"
   ]
  },
  {
   "cell_type": "markdown",
   "metadata": {},
   "source": [
    "## Exercicio4\n",
    "Faça um programa que olhe todos os itens de uma lista e diga quantos deles são pares."
   ]
  },
  {
   "cell_type": "code",
   "execution_count": null,
   "metadata": {
    "ExecuteTime": {
     "end_time": "2021-07-12T23:55:24.803130Z",
     "start_time": "2021-07-12T23:55:24.798250Z"
    }
   },
   "outputs": [],
   "source": [
    "lista = [1, 2, 4, 6, 12.33, 109, -0.76]\n",
    "lista_par= [x for x in lista if x % 2 ==0]\n",
    "print(lista_par)"
   ]
  },
  {
   "cell_type": "markdown",
   "metadata": {},
   "source": [
    "## Exercicio5\n",
    "Faça um programa que imprima o maior número de uma lista, sem usar a função max()."
   ]
  },
  {
   "cell_type": "code",
   "execution_count": null,
   "metadata": {
    "ExecuteTime": {
     "end_time": "2021-07-12T23:57:18.953630Z",
     "start_time": "2021-07-12T23:57:18.948751Z"
    }
   },
   "outputs": [],
   "source": [
    "lista = [1, 2, 4, 6, 12.33, 109, -0.76]\n",
    "lista_sort=sorted(lista)\n",
    "print(lista_sort[-1])"
   ]
  },
  {
   "cell_type": "markdown",
   "metadata": {},
   "source": [
    "## Exercicio6\n",
    "Agora usando a função max() faça um programa que imprima os três maiores números de uma lista.\n",
    "\n",
    "Dica: Use o método próprio de listas .remove()."
   ]
  },
  {
   "cell_type": "code",
   "execution_count": null,
   "metadata": {
    "ExecuteTime": {
     "end_time": "2021-07-13T00:00:33.991170Z",
     "start_time": "2021-07-13T00:00:33.984339Z"
    }
   },
   "outputs": [],
   "source": [
    "lista = [1, 2, 4, 6, 12.33, 109, -0.76]\n",
    "i=1\n",
    "while i<=3:\n",
    "    n=max(lista)\n",
    "    print(n)\n",
    "    lista.remove(n)\n",
    "    i=i+1"
   ]
  },
  {
   "cell_type": "markdown",
   "metadata": {},
   "source": [
    "## Exercicio7\n",
    "Faça um programa que, dadas duas listas de mesmo tamanho, crie uma nova lista com cada elemento igual a soma dos elementos da lista 1 com os da lista 2, na mesma posição.\n",
    "\n",
    "Exemplo:\n",
    "\n",
    "Dadas lista1 = [1, 4, 5] e lista2 = [2, 2, 3], então lista3 = [1+2, 4+2, 5+3] = [3, 6, 8]"
   ]
  },
  {
   "cell_type": "code",
   "execution_count": null,
   "metadata": {
    "ExecuteTime": {
     "end_time": "2021-07-13T00:15:26.990285Z",
     "start_time": "2021-07-13T00:15:26.971336Z"
    }
   },
   "outputs": [],
   "source": [
    "A = [1, 4, 5] \n",
    "B = [2, 2, 3] \n",
    "D = []\n",
    "for elemA, elemB in zip(A, B):\n",
    "    D.append(elemA + elemB) \n",
    "print(D)"
   ]
  },
  {
   "cell_type": "markdown",
   "metadata": {},
   "source": [
    "## Exercicio8\n",
    "Faça um programa que dadas duas listas de mesmo tamanho, imprima o produto escalar entre elas.\n",
    "\n",
    "OBS: produto escalar é a soma do resultado da multiplicação entre o número na posição i da lista1 pelo número na posição i da lista2, com i variando de 0 ao tamanho da lista."
   ]
  },
  {
   "cell_type": "code",
   "execution_count": null,
   "metadata": {
    "ExecuteTime": {
     "end_time": "2021-07-13T00:39:10.793178Z",
     "start_time": "2021-07-13T00:39:10.787320Z"
    }
   },
   "outputs": [],
   "source": [
    "A = [1, 4, 5] \n",
    "B = [2, 2, 3] \n",
    "D = []\n",
    "for elemA, elemB in zip(A, B):\n",
    "    (D.append(elemA*elemB))\n",
    "print(sum(D))"
   ]
  },
  {
   "cell_type": "markdown",
   "metadata": {},
   "source": [
    "## Exercício 9\n",
    "Faça um programa que pede para o usuário digitar 5 números e, ao final, imprime uma lista com os 5 números digitados pelo usuário (sem converter os números para int ou float).\n",
    "\n",
    "Exemplo: Se o usuário digitar 1, 5, 2, 3, 6, o programa deve imprimir a lista ['1','5','2','3','6']"
   ]
  },
  {
   "cell_type": "code",
   "execution_count": null,
   "metadata": {
    "ExecuteTime": {
     "end_time": "2021-07-13T00:43:41.710210Z",
     "start_time": "2021-07-13T00:43:38.280678Z"
    }
   },
   "outputs": [],
   "source": [
    "lista = []\n",
    "\n",
    "for i in range(5):\n",
    "    num = (input(f'Digite o número {i+1}: '))\n",
    "    lista.append(num)\n",
    "print(lista)\n"
   ]
  },
  {
   "cell_type": "markdown",
   "metadata": {},
   "source": [
    "## Exercício 10\n",
    "Pegue a lista gerada no exercício anterior e transforme cada um dos itens dessa lista em um float.\n",
    "\n",
    "OBS: Não é para alterar o programa anterior, mas sim a lista gerada por ele."
   ]
  },
  {
   "cell_type": "code",
   "execution_count": null,
   "metadata": {
    "ExecuteTime": {
     "end_time": "2021-07-13T00:48:28.407931Z",
     "start_time": "2021-07-13T00:48:28.395270Z"
    }
   },
   "outputs": [],
   "source": [
    "[int(elemento) for elemento in lista]\n"
   ]
  },
  {
   "cell_type": "markdown",
   "metadata": {},
   "source": [
    "## Exercicio 11\n",
    "Enunciado\n",
    "Faça um programa que peça as 4 notas bimestrais e mostre a média aritmética delas, usando listas.\n"
   ]
  },
  {
   "cell_type": "code",
   "execution_count": null,
   "metadata": {
    "ExecuteTime": {
     "end_time": "2021-07-13T00:54:08.888460Z",
     "start_time": "2021-07-13T00:54:06.104877Z"
    }
   },
   "outputs": [],
   "source": [
    "notas=[]\n",
    "for i in range(4):\n",
    "    nota=float(input(f'Digite sua nota do {i+1}º Bimestre:'))\n",
    "    while (nota<0 or nota>100):\n",
    "        nota= float(input(f'Não entendi, digite sua nota do {i+1}º Bimestre novamente: '))\n",
    "    notas.append(nota)\n",
    "media=sum(notas)/len(notas)\n",
    "print(f'Sua média é: {media:.2f}')\n"
   ]
  },
  {
   "cell_type": "markdown",
   "metadata": {},
   "source": [
    "## Exercicio 12\n",
    "Enunciado\n",
    "Sorteie uma lista de 10 números e imprima:\n",
    "\n",
    "a. uma lista com os 4 primeiros números;\n",
    "\n",
    "b. uma lista com os 5 últimos números;\n",
    "\n",
    "c. uma lista contendo apenas os elementos das posições pares;\n",
    "\n",
    "d. uma lista contendo apenas os elementos das posições ímpares;\n",
    "\n",
    "e. a lista inversa da lista sorteada (isto é, uma lista que começa com o último elemento da lista sorteada e termina com o primeiro);\n",
    "\n",
    "f. uma lista inversa dos 5 primeiros números;\n",
    "\n",
    "g. uma lista inversa dos 5 últimos números.\n",
    "\n",
    "\n",
    "[n for n, nt in notas2.items() if nt > 8]\n",
    " antes do for você coloca o que você quer como resposta"
   ]
  },
  {
   "cell_type": "code",
   "execution_count": 2,
   "metadata": {
    "ExecuteTime": {
     "end_time": "2021-07-14T16:02:08.015127Z",
     "start_time": "2021-07-14T16:02:08.004125Z"
    }
   },
   "outputs": [
    {
     "name": "stdout",
     "output_type": "stream",
     "text": [
      "[70, 77, 192, 83, 168, 80, 51, 111, 61, 173]\n",
      "[70, 77, 192, 83]\n",
      "[80, 51, 111, 61, 173]\n",
      "[70, 192, 168, 51, 61]\n",
      "[77, 83, 80, 111, 173]\n",
      "[173, 61, 111, 51, 80, 168, 83, 192, 77, 70]\n",
      "[168, 83, 192, 77, 70]\n",
      "[173, 61, 111, 51, 80]\n"
     ]
    }
   ],
   "source": [
    "from random import randint\n",
    "lista=[randint(1,200) for i in range(10)]\n",
    "print(lista)\n",
    "#letra a\n",
    "print(lista[:4])\n",
    "#letra b\n",
    "print(lista[5:])\n",
    "#letra c\n",
    "lista_par=[(indice) for indice in range(len(lista)) if (indice%2==0)]\n",
    "lista_par=[lista[ind] for ind in lista_par]\n",
    "print(lista_par)\n",
    "#letra d\n",
    "lista_impar=[(indice) for indice in range(len(lista)) if (indice%2!=0)]\n",
    "lista_impar=[lista[ind] for ind in lista_impar]\n",
    "print(lista_impar)   \n",
    "#letra e\n",
    "print(lista[::-1])\n",
    "#letra f\n",
    "lista_f=lista[:5]\n",
    "print(lista_f[::-1])\n",
    "#letra g\n",
    "lista_g=lista[5:]\n",
    "print(lista_g[::-1])"
   ]
  },
  {
   "cell_type": "markdown",
   "metadata": {},
   "source": [
    "## Exercicio 13\n",
    "Faça um programa que sorteia 10 números entre 0 e 100 e conte quantos números sorteados são maiores que 50."
   ]
  },
  {
   "cell_type": "code",
   "execution_count": null,
   "metadata": {
    "ExecuteTime": {
     "end_time": "2021-07-13T01:17:51.480948Z",
     "start_time": "2021-07-13T01:17:51.461003Z"
    }
   },
   "outputs": [],
   "source": [
    "import random\n",
    "#Cria a lista \n",
    "lista=[random.randint(1,100) for i in range(10)]\n",
    "#Cria uma lista com os elementos maiores que 50\n",
    "lista_2=[(elemento) for elemento in lista if elemento>50]\n",
    "#Imprime o tamanho da lista 2         \n",
    "print(f'Da lista {len(lista_2)} são maiores de 50')"
   ]
  },
  {
   "cell_type": "markdown",
   "metadata": {},
   "source": [
    "## Exercicio14\n",
    "Faça um programa que sorteie 10 números entre 0 e 100 e imprima:\n",
    "\n",
    "a. o maior número sorteado;\n",
    "\n",
    "b. o menor número sorteado;\n",
    "\n",
    "c. a média dos números sorteados;\n",
    "\n",
    "d. a soma dos números sorteados."
   ]
  },
  {
   "cell_type": "code",
   "execution_count": null,
   "metadata": {
    "ExecuteTime": {
     "end_time": "2021-07-13T01:20:06.104992Z",
     "start_time": "2021-07-13T01:20:06.089035Z"
    }
   },
   "outputs": [],
   "source": [
    "import random\n",
    "lista=[random.randint(1,100) for i in range(10)]\n",
    "print(lista)\n",
    "#Letra a\n",
    "print(max(lista))\n",
    "#Letra b\n",
    "print(min(lista))\n",
    "#Letra c\n",
    "print(sum(lista)/len(lista))\n",
    "#Letra d\n",
    "print(sum(lista))"
   ]
  },
  {
   "cell_type": "markdown",
   "metadata": {},
   "source": [
    "## Exercicio15\n",
    "Desafio 1 - Faça um programa que peça para o usuário digitar o nome e a idade de um aluno e o número de provas que esse aluno fez. Depois, o programa deve pedir para o usuário digitar as notas de cada prova do aluno. Ao final o programa deve imprimir uma lista contendo:\n",
    "\n",
    "a. Nome do aluno na posição 0;\n",
    "\n",
    "b. Idade do aluno na posição 1;\n",
    "\n",
    "c. Uma lista com todas as notas na posição 2;\n",
    "\n",
    "d. A média do aluno na posição 3;\n",
    "\n",
    "e. True ou False, caso a média seja maior que 5 ou não, na posição 4.\n",
    "\n",
    "Dica: Use o que você fez nos exercícios anteriores para criar esse programa."
   ]
  },
  {
   "cell_type": "code",
   "execution_count": 1,
   "metadata": {},
   "outputs": [
    {
     "name": "stdin",
     "output_type": "stream",
     "text": [
      "Digite o nome do aluno:  Giuliana\n",
      "Digite a Idade do aluno: 25\n",
      "Digite quantas provas o aluno fez: 3\n",
      "Digite a 1ª nota do aluno: 9\n",
      "Digite a 2ª nota do aluno: 8\n",
      "Digite a 3ª nota do aluno: 7\n"
     ]
    },
    {
     "name": "stdout",
     "output_type": "stream",
     "text": [
      "[9.0, 8.0, 7.0]\n"
     ]
    },
    {
     "data": {
      "text/plain": [
       "['Giuliana', 25, [9.0, 8.0, 7.0], 8.0, True]"
      ]
     },
     "execution_count": 1,
     "metadata": {},
     "output_type": "execute_result"
    }
   ],
   "source": [
    "notas=[]\n",
    "\n",
    "#Inputs\n",
    "nome=input('Digite o nome do aluno: ')\n",
    "idade=int(input('Digite a Idade do aluno:'))\n",
    "provas=int(input('Digite quantas provas o aluno fez:'))\n",
    "\n",
    "for i in range(provas):\n",
    "    nota=float(input(f'Digite a {i+1}ª nota do aluno:'))\n",
    "    while (nota<0 or nota>10):\n",
    "        nota= float(input(f'Não entendi, digite a {i+1}ª nota do aluno novamente: '))\n",
    "    notas.append(nota)\n",
    "\n",
    "\n",
    "#Calcula a média\n",
    "media=sum(notas)/provas\n",
    "media>5\n",
    "\n",
    "print([nome,idade,notas,float(f'{media:.2}'),media>5])\n"
   ]
  },
  {
   "cell_type": "markdown",
   "metadata": {},
   "source": [
    "## Exercicio16"
   ]
  },
  {
   "cell_type": "code",
   "execution_count": 1,
   "metadata": {},
   "outputs": [
    {
     "name": "stdin",
     "output_type": "stream",
     "text": [
      "Digite o nome do aluno:  giu\n",
      "Digite a Idade do aluno: 25\n",
      "Digite quantas provas o aluno fez: 3\n",
      "Digite a 1ª nota do aluno: 2\n",
      "Digite a 2ª nota do aluno: 3\n",
      "Digite a 3ª nota do aluno: 10\n"
     ]
    },
    {
     "name": "stdout",
     "output_type": "stream",
     "text": [
      "[3.0]\n",
      "['giu', 25, [2.0, 3.0, 10.0], 3.0, False]\n"
     ]
    }
   ],
   "source": [
    "notas=[]\n",
    "\n",
    "#Inputs\n",
    "nome=input('Digite o nome do aluno: ')\n",
    "idade=int(input('Digite a Idade do aluno:'))\n",
    "provas=int(input('Digite quantas provas o aluno fez:'))\n",
    "while provas<=2:\n",
    "    provas=int(input('Não entendi, digite a quantidade de provas novamente: '))\n",
    "\n",
    "for i in range(provas):\n",
    "    nota=float(input(f'Digite a {i+1}ª nota do aluno:'))\n",
    "    while (nota<0 or nota>10):\n",
    "        nota= float(input(f'Não entendi, digite a {i+1}ª nota do aluno novamente: '))\n",
    "    notas.append(nota)\n",
    "notas2=sorted(notas)\n",
    "notas2.pop(0)\n",
    "notas2.pop(-1)\n",
    "print(notas2)\n",
    "#Calcula a média\n",
    "media=sum(notas2)/len(notas2)\n",
    "media>5\n",
    "\n",
    "print([nome,idade,notas,float(f'{media:.2}'),media>5])\n"
   ]
  },
  {
   "cell_type": "markdown",
   "metadata": {},
   "source": [
    "## Exercicio17\n",
    "Desafio 3 - Faça um programa que pede para o usuário digitar o CPF e verifica se ele é válido. Para isso, primeiramente o programa deve multiplicar cada um dos 9 primeiros dígitos do CPF pelos números de 10 a 2 e somar todas as respostas. O resultado deve ser multiplicado por 10 e dividido por 11. O resto dessa divisão deve ser igual ao primeiro dígito verificador (10º dígito). Em seguida, o programa deve multiplicar cada um dos 10 primeiros dígitos do CPF pelos números de 11 a 2 e repetir o procedimento anterior para verificar o segundo dígito verificador.\n",
    "\n",
    "Exemplo:\n",
    "\n",
    "Se o CPF for 286.255.878-87 o programa deve fazer primeiro:\n",
    "\n",
    "    x = (2*10 + 8*9 + 6*8 + 2*7 + 5*6 + 5*5 + 8*4 + 7*3 + 8*2)\n",
    "\n",
    "Em seguida, o programa deve testar se x*10%11 == 8 (o décimo número do CPF). Se sim, o programa deve calcular:\n",
    "\n",
    "    x = (2*11 + 8*10 + 6*9 + 2*8 + 5*7 + 5*6 + 8*5 + 7*4 + 8*3 + 8*2)\n",
    "\n",
    "e verificar se x*10%11 == 7 (o décimo primeiro número do CPF)."
   ]
  },
  {
   "cell_type": "code",
   "execution_count": 3,
   "metadata": {},
   "outputs": [
    {
     "name": "stdin",
     "output_type": "stream",
     "text": [
      "Digite seu CPF: 45172453815\n"
     ]
    },
    {
     "name": "stdout",
     "output_type": "stream",
     "text": [
      "CPF Inválido\n"
     ]
    }
   ],
   "source": [
    "#Listas de multiplicação\n",
    "lista=[10,9,8,7,6,5,4,3,2]\n",
    "lista2=[11,10,9,8,7,6,5,4,3,2]\n",
    "#Pede para o usuário inserir o cpf e verifica se tem 11 digitos\n",
    "cpf=(input('Digite seu CPF:'))\n",
    "while len(list(cpf))!=11:\n",
    "    cpf=input('Digite novamente o CPF: ')\n",
    "#Cria uma lista com cada número do cpf\n",
    "cpf_lista=[int(i) for i in list(cpf)]\n",
    "cpf_lista_2=[int(i) for i in list(cpf)]\n",
    "#Pega os dígitos finais do cpf\n",
    "d1=cpf_lista[-2]\n",
    "d2=cpf_lista[-1]\n",
    "#Retira os digitos finais \n",
    "cpf_lista.pop(-1)\n",
    "cpf_lista.pop(-1)\n",
    "cpf_lista\n",
    "#Retira o digito final da lista 2\n",
    "cpf_lista_2.pop(-1)\n",
    "cpf_lista_2\n",
    "#faz os calculos\n",
    "calc=[elemA*elemB for elemA, elemB in zip(lista, cpf_lista)]\n",
    "x=sum(calc)\n",
    "\n",
    "calc2=[elemA*elemB for elemA, elemB in zip(lista2, cpf_lista_2)]\n",
    "y=sum(calc2)\n",
    "#Faz as condições pra checar a validade do CPF\n",
    "if (x*10)%11==d1:\n",
    "    if (y*10)%11==d2:\n",
    "        print('CPF Válido')\n",
    "    else:\n",
    "        print('CPF Inválido')\n",
    "else:\n",
    "    print('CPF Inválido')\n",
    "\n",
    "\n"
   ]
  }
 ],
 "metadata": {
  "kernelspec": {
   "display_name": "Python 3",
   "language": "python",
   "name": "python3"
  },
  "language_info": {
   "codemirror_mode": {
    "name": "ipython",
    "version": 3
   },
   "file_extension": ".py",
   "mimetype": "text/x-python",
   "name": "python",
   "nbconvert_exporter": "python",
   "pygments_lexer": "ipython3",
   "version": "3.7.6"
  },
  "toc": {
   "base_numbering": 1,
   "nav_menu": {},
   "number_sections": true,
   "sideBar": true,
   "skip_h1_title": false,
   "title_cell": "Table of Contents",
   "title_sidebar": "Contents",
   "toc_cell": false,
   "toc_position": {},
   "toc_section_display": true,
   "toc_window_display": false
  },
  "varInspector": {
   "cols": {
    "lenName": 16,
    "lenType": 16,
    "lenVar": 40
   },
   "kernels_config": {
    "python": {
     "delete_cmd_postfix": "",
     "delete_cmd_prefix": "del ",
     "library": "var_list.py",
     "varRefreshCmd": "print(var_dic_list())"
    },
    "r": {
     "delete_cmd_postfix": ") ",
     "delete_cmd_prefix": "rm(",
     "library": "var_list.r",
     "varRefreshCmd": "cat(var_dic_list()) "
    }
   },
   "types_to_exclude": [
    "module",
    "function",
    "builtin_function_or_method",
    "instance",
    "_Feature"
   ],
   "window_display": false
  }
 },
 "nbformat": 4,
 "nbformat_minor": 5
}

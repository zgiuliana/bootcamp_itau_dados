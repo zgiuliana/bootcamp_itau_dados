{
 "cells": [
  {
   "cell_type": "markdown",
   "id": "91c6b82a",
   "metadata": {},
   "source": [
    "## Exercício 1"
   ]
  },
  {
   "cell_type": "code",
   "execution_count": 1,
   "id": "25f04a01",
   "metadata": {
    "ExecuteTime": {
     "end_time": "2021-07-07T17:41:54.745945Z",
     "start_time": "2021-07-07T17:41:54.734976Z"
    }
   },
   "outputs": [
    {
     "name": "stdout",
     "output_type": "stream",
     "text": [
      "Olá, mundo!\n"
     ]
    }
   ],
   "source": [
    "print('Olá, mundo!')"
   ]
  },
  {
   "cell_type": "markdown",
   "id": "aa7694f9",
   "metadata": {},
   "source": [
    "## Exercício 2"
   ]
  },
  {
   "cell_type": "code",
   "execution_count": 2,
   "id": "91616886",
   "metadata": {
    "ExecuteTime": {
     "end_time": "2021-07-07T17:42:00.492840Z",
     "start_time": "2021-07-07T17:41:54.747941Z"
    }
   },
   "outputs": [
    {
     "name": "stdout",
     "output_type": "stream",
     "text": [
      "Informe um número 13.5\n",
      "O número informado foi  13.5\n"
     ]
    }
   ],
   "source": [
    "#Pede para o usuário informar um número\n",
    "num=input('Informe um número ')\n",
    "#Imprime o numero que o usuário informou\n",
    "print('O número informado foi ',num)"
   ]
  },
  {
   "cell_type": "markdown",
   "id": "22a423ea",
   "metadata": {},
   "source": [
    "## Exercício 3"
   ]
  },
  {
   "cell_type": "code",
   "execution_count": 5,
   "id": "9fbddc29",
   "metadata": {
    "ExecuteTime": {
     "end_time": "2021-07-07T18:39:27.342838Z",
     "start_time": "2021-07-07T18:39:22.445700Z"
    }
   },
   "outputs": [
    {
     "name": "stdout",
     "output_type": "stream",
     "text": [
      "Informe um número 3.5\n",
      "O número informado foi  3.5\n",
      "Informe um número 2\n",
      "O número informado foi  2\n"
     ]
    }
   ],
   "source": [
    "#Pede para o usuário informar um número e transforma em float\n",
    "num=float(input('Informe um número '))\n",
    "print('O número informado foi ',num)\n"
   ]
  },
  {
   "cell_type": "code",
   "execution_count": 5,
   "id": "9a4830c4",
   "metadata": {
    "ExecuteTime": {
     "end_time": "2021-07-07T17:42:29.733321Z",
     "start_time": "2021-07-07T17:42:28.072565Z"
    }
   },
   "outputs": [
    {
     "name": "stdout",
     "output_type": "stream",
     "text": [
      "Informe um número 15\n",
      "O número informado foi  15\n"
     ]
    }
   ],
   "source": [
    "#Pede para o usuário informar um número e transforma em int\n",
    "num=int(input('Informe um número '))\n",
    "print('O número informado foi ',num)"
   ]
  },
  {
   "cell_type": "markdown",
   "id": "34dcf925",
   "metadata": {},
   "source": [
    "## Exercício 4"
   ]
  },
  {
   "cell_type": "code",
   "execution_count": 6,
   "id": "5753baa0",
   "metadata": {
    "ExecuteTime": {
     "end_time": "2021-07-07T17:44:53.613088Z",
     "start_time": "2021-07-07T17:44:50.635817Z"
    }
   },
   "outputs": [
    {
     "name": "stdout",
     "output_type": "stream",
     "text": [
      "Informe um número inteiro 2\n",
      "Informe um número inteiro 3\n",
      "A soma desses números é:  5\n"
     ]
    }
   ],
   "source": [
    "#Pede para o usuário digitar dois números inteiros\n",
    "num1=int(input('Informe um número inteiro '))\n",
    "num2=int(input('Informe um número inteiro '))\n",
    "print('A soma desses números é: ',num1+num2)"
   ]
  },
  {
   "cell_type": "markdown",
   "id": "e2784747",
   "metadata": {},
   "source": [
    "## Exercício 5"
   ]
  },
  {
   "cell_type": "code",
   "execution_count": 23,
   "id": "f05bd50c",
   "metadata": {
    "ExecuteTime": {
     "end_time": "2021-07-07T19:36:24.483132Z",
     "start_time": "2021-07-07T19:36:21.081807Z"
    }
   },
   "outputs": [
    {
     "name": "stdout",
     "output_type": "stream",
     "text": [
      "Informe sua nota do 1º Bimestre: 3\n",
      "Informe sua nota do 2º Bimestre: 4\n",
      "Informe sua nota do 3º Bimestre: 5\n",
      "Informe sua nota do 4º Bimestre: 6.5\n",
      "Sua média é: 4.62\n"
     ]
    }
   ],
   "source": [
    "from functools import reduce\n",
    "#Pede para o aluno informar suas notas bimestrais\n",
    "bi1=float(input('Informe sua nota do 1º Bimestre: '))\n",
    "bi2=float(input('Informe sua nota do 2º Bimestre: '))\n",
    "bi3=float(input('Informe sua nota do 3º Bimestre: '))\n",
    "bi4=float(input('Informe sua nota do 4º Bimestre: '))\n",
    "my_numbers=([bi1, bi2, bi3, bi4])\n",
    "media=reduce(lambda x, y: x + y, my_numbers) / len(my_numbers)\n",
    "print(f'Sua média é: {media:.2f}')"
   ]
  },
  {
   "cell_type": "markdown",
   "id": "6452bd07",
   "metadata": {},
   "source": [
    "## Exercício 6"
   ]
  },
  {
   "cell_type": "code",
   "execution_count": 25,
   "id": "c116bf7a",
   "metadata": {
    "ExecuteTime": {
     "end_time": "2021-07-07T19:37:52.082681Z",
     "start_time": "2021-07-07T19:37:50.272141Z"
    }
   },
   "outputs": [
    {
     "name": "stdout",
     "output_type": "stream",
     "text": [
      "Informe o raio do círculo: 5\n",
      "A área do círculo é aproximadamente: 78.5\n"
     ]
    }
   ],
   "source": [
    "#Pede para o aluno informar o raio do círculo\n",
    "raio=float(input('Informe o raio do círculo: '))\n",
    "area=3.14*(raio**2)\n",
    "print(f'A área do círculo é aproximadamente: {area}')"
   ]
  },
  {
   "cell_type": "markdown",
   "id": "11d6b63f",
   "metadata": {},
   "source": [
    "## Exercício 7"
   ]
  },
  {
   "cell_type": "code",
   "execution_count": 27,
   "id": "b48e85b8",
   "metadata": {
    "ExecuteTime": {
     "end_time": "2021-07-07T19:40:20.102652Z",
     "start_time": "2021-07-07T19:40:14.975758Z"
    }
   },
   "outputs": [
    {
     "name": "stdout",
     "output_type": "stream",
     "text": [
      "Informe quanto você ganha por hora: 3.5\n",
      "Informe quantas horas você trabalhou no mês: 126\n",
      "Seu salário será de: R$ 441.00\n"
     ]
    }
   ],
   "source": [
    "#Pede para o usuário informar quanto ele ganha por hora\n",
    "vlr=float(input('Informe quanto você ganha por hora: '))\n",
    "#Pede para o usuário informar quantas horas que ele trabalhou\n",
    "hr=float(input('Informe quantas horas você trabalhou no mês: '))\n",
    "print(f'Seu salário será de: R$ {vlr*hr:.2f}')"
   ]
  },
  {
   "cell_type": "markdown",
   "id": "05f65edc",
   "metadata": {},
   "source": [
    "## Exercício 8"
   ]
  },
  {
   "cell_type": "code",
   "execution_count": 35,
   "id": "81332c93",
   "metadata": {
    "ExecuteTime": {
     "end_time": "2021-07-07T19:45:06.681498Z",
     "start_time": "2021-07-07T19:45:04.743368Z"
    }
   },
   "outputs": [
    {
     "name": "stdout",
     "output_type": "stream",
     "text": [
      "Informe a temperatura em graus Fahrenheit: 37.4\n",
      "Essa temperatura em Celcius é 3.00ºC \n",
      " Essa temperatura em Kelvin é 276.15K\n"
     ]
    }
   ],
   "source": [
    "#Pede para o usuário informar a temperatura em ºF\n",
    "tempf=float(input('Informe a temperatura em graus Fahrenheit: '))\n",
    "temp=(5*(tempf-32)/9)\n",
    "print(f'Essa temperatura em Celcius é {temp:.2f}ºC \\n Essa temperatura em Kelvin é {temp+273.15:.2f}K')"
   ]
  },
  {
   "cell_type": "code",
   "execution_count": 37,
   "id": "13207db0",
   "metadata": {
    "ExecuteTime": {
     "end_time": "2021-07-07T19:45:59.964002Z",
     "start_time": "2021-07-07T19:45:58.927912Z"
    }
   },
   "outputs": [
    {
     "name": "stdout",
     "output_type": "stream",
     "text": [
      "Informe a temperatura em graus Celcius: 3\n",
      "Essa temperatura em Fahrenheit é 37.40ºF \n",
      " Essa temperatura em Kelvin é 276.15K\n"
     ]
    }
   ],
   "source": [
    "#Pede para o usuário informar a temperatura em ºC\n",
    "temp=float(input('Informe a temperatura em graus Celcius: '))\n",
    "tempf=(9*(temp/5)+32)\n",
    "print(f'Essa temperatura em Fahrenheit é {tempf:.2f}ºF \\n Essa temperatura em Kelvin é {temp+273.15:.2f}K')"
   ]
  },
  {
   "cell_type": "markdown",
   "id": "964fbd45",
   "metadata": {},
   "source": [
    "## Exercício 9"
   ]
  },
  {
   "cell_type": "code",
   "execution_count": 41,
   "id": "f4a2bf66",
   "metadata": {
    "ExecuteTime": {
     "end_time": "2021-07-07T18:28:49.573117Z",
     "start_time": "2021-07-07T18:28:44.708240Z"
    }
   },
   "outputs": [
    {
     "name": "stdout",
     "output_type": "stream",
     "text": [
      "Informe o dia: 10\n",
      "Informe o mês: 11\n",
      "Informe o ano: 2020\n",
      "A data é:  10 / 11 / 2020\n"
     ]
    }
   ],
   "source": [
    "#Pede para o usuário informar o dia\n",
    "d=int(input('Informe o dia: '))\n",
    "m=int(input('Informe o mês: '))\n",
    "a=int(input('Informe o ano: '))\n",
    "if d>=10:\n",
    "    d=d\n",
    "else:\n",
    "    d=\"0\"+str(d)\n",
    "if m>=10:\n",
    "    m=m\n",
    "else:\n",
    "    m=\"0\"+str(m)\n",
    "if a>=2000:\n",
    "    a=a\n",
    "else:\n",
    "    a=\"20\"+str(a)\n",
    "print(\"A data é: \",d,\"/\",m,\"/\",a)"
   ]
  },
  {
   "cell_type": "markdown",
   "id": "b31cb47d",
   "metadata": {},
   "source": [
    "## Exercício 10"
   ]
  },
  {
   "cell_type": "code",
   "execution_count": 4,
   "id": "9ec589bf",
   "metadata": {
    "ExecuteTime": {
     "end_time": "2021-07-07T18:36:57.446885Z",
     "start_time": "2021-07-07T18:36:51.148468Z"
    }
   },
   "outputs": [
    {
     "name": "stdout",
     "output_type": "stream",
     "text": [
      "Informe um número inteiro: 4\n",
      "Informe outro número inteiro: 6\n",
      "Informe um número real: 2.5\n",
      "O produto dobro do primeiro com a metade do segundo:  24.0\n",
      "A soma do triplo do primeiro com o terceiro:  14.5\n",
      "O terceiro elevado ao cubo:  15.625\n"
     ]
    }
   ],
   "source": [
    "#Pede para o aluno informar os números\n",
    "n1=int(input('Informe um número inteiro: '))\n",
    "n2=int(input('Informe outro número inteiro: '))\n",
    "n3=float(input('Informe um número real: '))\n",
    "print(\"O produto dobro do primeiro com a metade do segundo: \",(n1*2)*(n2/2))\n",
    "print(\"A soma do triplo do primeiro com o terceiro: \",(n1*3)+(n3))\n",
    "print(\"O terceiro elevado ao cubo: \",(n3**3))"
   ]
  },
  {
   "cell_type": "markdown",
   "id": "0fa255ed",
   "metadata": {},
   "source": [
    "## Exercício 11"
   ]
  },
  {
   "cell_type": "code",
   "execution_count": 45,
   "id": "7bafea39",
   "metadata": {
    "ExecuteTime": {
     "end_time": "2021-07-07T20:22:14.241989Z",
     "start_time": "2021-07-07T20:22:06.521505Z"
    }
   },
   "outputs": [
    {
     "name": "stdout",
     "output_type": "stream",
     "text": [
      "Informe seu peso: 100\n",
      "Informe sua altura: 1.66\n",
      "Seu IMC é :  36.3 \n",
      "  Esse IMC é classificado como:  Obesidade Grau II (Severa)\n"
     ]
    }
   ],
   "source": [
    "#Pede para o aluno informar os números\n",
    "peso=float(input('Informe seu peso: '))\n",
    "alt=float(input('Informe sua altura: '))\n",
    "imc=(peso/(alt**2))\n",
    "if imc<18.5:\n",
    "    faixa='Abaixo do Peso'\n",
    "elif imc>=18.5 and imc<25:\n",
    "    faixa='Saudável'\n",
    "elif imc>=25 and imc<30:\n",
    "    faixa='Sobrepeso'\n",
    "elif imc>=30 and imc<35:\n",
    "    faixa='Obesidade Grau I'\n",
    "elif imc>=35 and imc<40:\n",
    "    faixa='Obesidade Grau II (Severa)'\n",
    "elif imc>=40:\n",
    "    faixa='Obesidade Grau III (Morbida)'\n",
    "print(\"Seu IMC é : \",\"{:.1f}\".format(imc),\n",
    "     \"\\n\",\" Esse IMC é classificado como: \", faixa)"
   ]
  },
  {
   "cell_type": "markdown",
   "id": "7cf7e30a",
   "metadata": {},
   "source": [
    "## Exercício 12"
   ]
  },
  {
   "cell_type": "code",
   "execution_count": 21,
   "id": "7289bb21",
   "metadata": {
    "ExecuteTime": {
     "end_time": "2021-07-07T19:19:55.778457Z",
     "start_time": "2021-07-07T19:19:53.798698Z"
    }
   },
   "outputs": [
    {
     "name": "stdout",
     "output_type": "stream",
     "text": [
      "Coloque um valor10\n",
      "O novo valor é:  11.5\n"
     ]
    }
   ],
   "source": [
    "#Pede que a pessoa insira um valor\n",
    "vlr=float(input(\"Coloque um valor\"))\n",
    "#imprime o valor adicionado 15%\n",
    "print(\"O novo valor é: \",(vlr+0.15*vlr))"
   ]
  },
  {
   "cell_type": "markdown",
   "id": "ef1e9f44",
   "metadata": {},
   "source": [
    "## Exercício 13"
   ]
  },
  {
   "cell_type": "code",
   "execution_count": 22,
   "id": "c84f0da9",
   "metadata": {
    "ExecuteTime": {
     "end_time": "2021-07-07T19:21:30.943524Z",
     "start_time": "2021-07-07T19:21:29.462251Z"
    }
   },
   "outputs": [
    {
     "name": "stdout",
     "output_type": "stream",
     "text": [
      "Coloque um valor10\n",
      "O novo valor é:  8.5\n"
     ]
    }
   ],
   "source": [
    "#Pede que a pessoa insira um valor\n",
    "vlr=float(input(\"Coloque um valor\"))\n",
    "#imprime o valor reduzido 15%\n",
    "print(\"O novo valor é: \",(vlr-0.15*vlr))"
   ]
  },
  {
   "cell_type": "markdown",
   "id": "23b0b0ae",
   "metadata": {},
   "source": [
    "## Exercício 14"
   ]
  },
  {
   "cell_type": "code",
   "execution_count": 39,
   "id": "c7f0c185",
   "metadata": {
    "ExecuteTime": {
     "end_time": "2021-07-07T19:53:43.675054Z",
     "start_time": "2021-07-07T19:53:35.828202Z"
    }
   },
   "outputs": [
    {
     "name": "stdout",
     "output_type": "stream",
     "text": [
      "Insira a velocidade inicial em m/s: 0\n",
      "Insira a posição inicial em m: 100\n",
      "Insira o tempo em s: 5\n",
      "A posição final de um projétil com velocidade inicial 0.0m/s e posição inicial 100.0m, após 5.0s é -25.0m\n"
     ]
    }
   ],
   "source": [
    "#Pede para o usuário inserir a velocidade inicial\n",
    "v=float(input(\"Insira a velocidade inicial em m/s: \"))\n",
    "#Pede para o usuário inserir a posição inicial\n",
    "y0=float(input(\"Insira a posição inicial em m: \"))\n",
    "#Pede para o usuário inserir o tempo\n",
    "t=float(input(\"Insira o tempo em s: \"))\n",
    "g=-10 #gravidade\n",
    "y=y0+v*t+(g*(t**2)/2) #calculo\n",
    "print(f'A posição final de um projétil com velocidade inicial {v}m/s e posição inicial {y0}m, após {t}s é {y}m')"
   ]
  },
  {
   "cell_type": "markdown",
   "id": "301b87ac",
   "metadata": {},
   "source": [
    "## Exercício 15"
   ]
  },
  {
   "cell_type": "code",
   "execution_count": 44,
   "id": "391809ff",
   "metadata": {
    "ExecuteTime": {
     "end_time": "2021-07-07T19:57:17.808294Z",
     "start_time": "2021-07-07T19:57:17.788370Z"
    }
   },
   "outputs": [
    {
     "data": {
      "text/plain": [
       "'Hoje é 07/Jul/21 e são 16:57:17'"
      ]
     },
     "execution_count": 44,
     "metadata": {},
     "output_type": "execute_result"
    }
   ],
   "source": [
    "import datetime\n",
    "agora=(datetime.datetime.now())\n",
    "\n",
    "formato = 'Hoje é %d/%b/%y e são %H:%M:%S'\n",
    "\n",
    "datetime.datetime.strftime(agora,formato)"
   ]
  }
 ],
 "metadata": {
  "kernelspec": {
   "display_name": "Python 3",
   "language": "python",
   "name": "python3"
  },
  "language_info": {
   "codemirror_mode": {
    "name": "ipython",
    "version": 3
   },
   "file_extension": ".py",
   "mimetype": "text/x-python",
   "name": "python",
   "nbconvert_exporter": "python",
   "pygments_lexer": "ipython3",
   "version": "3.8.8"
  },
  "toc": {
   "base_numbering": 1,
   "nav_menu": {},
   "number_sections": true,
   "sideBar": true,
   "skip_h1_title": false,
   "title_cell": "Table of Contents",
   "title_sidebar": "Contents",
   "toc_cell": false,
   "toc_position": {},
   "toc_section_display": true,
   "toc_window_display": true
  },
  "varInspector": {
   "cols": {
    "lenName": 16,
    "lenType": 16,
    "lenVar": 40
   },
   "kernels_config": {
    "python": {
     "delete_cmd_postfix": "",
     "delete_cmd_prefix": "del ",
     "library": "var_list.py",
     "varRefreshCmd": "print(var_dic_list())"
    },
    "r": {
     "delete_cmd_postfix": ") ",
     "delete_cmd_prefix": "rm(",
     "library": "var_list.r",
     "varRefreshCmd": "cat(var_dic_list()) "
    }
   },
   "types_to_exclude": [
    "module",
    "function",
    "builtin_function_or_method",
    "instance",
    "_Feature"
   ],
   "window_display": false
  }
 },
 "nbformat": 4,
 "nbformat_minor": 5
}

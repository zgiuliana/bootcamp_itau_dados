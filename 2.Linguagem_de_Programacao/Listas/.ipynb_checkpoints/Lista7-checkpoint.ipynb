{
 "cells": [
  {
   "cell_type": "markdown",
   "metadata": {},
   "source": [
    "#### Exercicio 1\n",
    "Faça uma função que recebe um número e imprime seu dobro."
   ]
  },
  {
   "cell_type": "code",
   "execution_count": 4,
   "metadata": {},
   "outputs": [
    {
     "name": "stdin",
     "output_type": "stream",
     "text": [
      "Digite um numero:  3.15\n"
     ]
    },
    {
     "name": "stdout",
     "output_type": "stream",
     "text": [
      "O dobro do número inserido é 6.30\n"
     ]
    }
   ],
   "source": [
    "def dobro(numero):\n",
    "    print(f'O dobro do número inserido é {numero*2:.2f}')\n",
    "numero=float(input('Digite um numero: '))\n",
    "dobro(numero)"
   ]
  },
  {
   "cell_type": "markdown",
   "metadata": {},
   "source": [
    "#### Exercicio 2\n",
    "Faça uma função que recebe o valor do raio de um círculo e retorna o valor do comprimento de sua circunferência: C = 2*pi*r."
   ]
  },
  {
   "cell_type": "code",
   "execution_count": 7,
   "metadata": {},
   "outputs": [
    {
     "name": "stdin",
     "output_type": "stream",
     "text": [
      "Digite o raio:  5\n"
     ]
    },
    {
     "name": "stdout",
     "output_type": "stream",
     "text": [
      "o Comprimento da circunferência é 31.42\n"
     ]
    }
   ],
   "source": [
    "def circulo(numero):\n",
    "    import math\n",
    "    print(f'o Comprimento da circunferência é {numero*2*(math.pi):.2f}')\n",
    "raio=float(input('Digite o raio: '))\n",
    "circulo(raio)"
   ]
  },
  {
   "cell_type": "markdown",
   "metadata": {},
   "source": [
    "#### Exercicio 3\n",
    "Faça uma função para cada operação matemática básica (soma, subtração, multiplicação e divisão). As funções devem receber dois números e retornar o resultado da operação."
   ]
  },
  {
   "cell_type": "code",
   "execution_count": 14,
   "metadata": {},
   "outputs": [
    {
     "data": {
      "text/plain": [
       "0.2"
      ]
     },
     "execution_count": 14,
     "metadata": {},
     "output_type": "execute_result"
    }
   ],
   "source": [
    "#Soma\n",
    "def soma(num1,num2):\n",
    "    num=num1+num2\n",
    "    return num\n",
    "#Subtração\n",
    "def subt(num1,num2):\n",
    "    num=num1-num2\n",
    "    return num\n",
    "#Multiplicação\n",
    "def mult(num1,num2):\n",
    "    num=num1*num2\n",
    "    return num\n",
    "#Divisão\n",
    "def divisao(num1,num2):\n",
    "    if num2==0:\n",
    "        return 'Impossível de realizar'\n",
    "    else:\n",
    "        num=num1/num2\n",
    "        return num\n",
    "#testes\n",
    "soma(1,3)\n",
    "subt(1,3)\n",
    "mult(1,3)\n",
    "divisao(1,5)"
   ]
  },
  {
   "cell_type": "markdown",
   "metadata": {},
   "source": [
    "#### Exercicio 4\n",
    "Faça uma função que recebe um nome e imprime “olá, [nome]”."
   ]
  },
  {
   "cell_type": "code",
   "execution_count": 17,
   "metadata": {},
   "outputs": [
    {
     "name": "stdin",
     "output_type": "stream",
     "text": [
      "Escreva um nome:  giu\n"
     ]
    },
    {
     "name": "stdout",
     "output_type": "stream",
     "text": [
      "Olá, giu\n"
     ]
    }
   ],
   "source": [
    "def saudacao(nome):\n",
    "    print('Olá,',nome)\n",
    "nome=input('Escreva um nome: ')\n",
    "saudacao(nome)"
   ]
  },
  {
   "cell_type": "markdown",
   "metadata": {},
   "source": [
    "#### Exercicio 5\n",
    "Faça uma função que recebe um nome e um horário e imprime “Bom dia, [nome]”, caso seja antes de 12h, “Boa Tarde, [nome]”, caso seja entre 12h e 18h e “Boa noite, [nome]” se for após às 18h."
   ]
  },
  {
   "cell_type": "code",
   "execution_count": 14,
   "metadata": {},
   "outputs": [
    {
     "name": "stdin",
     "output_type": "stream",
     "text": [
      "Escreva um nome:  Giu\n",
      "Escreva que horas são  20\n"
     ]
    },
    {
     "name": "stdout",
     "output_type": "stream",
     "text": [
      "Boa noite, Giu\n"
     ]
    }
   ],
   "source": [
    "def saudacao(nome,hora):\n",
    "    if hora<=12:\n",
    "        print('Bom dia,',nome)\n",
    "    elif hora>=18:\n",
    "        print('Boa noite,',nome)\n",
    "    else:\n",
    "        print('Boa tarde,',nome)\n",
    "nome=input('Escreva um nome: ')\n",
    "hora=int(input('Escreva que horas são '))\n",
    "saudacao(nome,hora)"
   ]
  },
  {
   "cell_type": "markdown",
   "metadata": {},
   "source": [
    "#### Exercicio 6\n",
    "Faça uma função que recebe um número e retorna True se ele é par ou False, se ele é ímpar."
   ]
  },
  {
   "cell_type": "code",
   "execution_count": 24,
   "metadata": {},
   "outputs": [
    {
     "name": "stdin",
     "output_type": "stream",
     "text": [
      "Digite um numero:  5\n"
     ]
    },
    {
     "data": {
      "text/plain": [
       "False"
      ]
     },
     "execution_count": 24,
     "metadata": {},
     "output_type": "execute_result"
    }
   ],
   "source": [
    "def num(numero):\n",
    "    if numero%2==0:\n",
    "        return True\n",
    "    return False\n",
    "numero=int(input('Digite um numero: '))\n",
    "num(numero)"
   ]
  },
  {
   "cell_type": "markdown",
   "metadata": {},
   "source": [
    "#### Exercicio 7\n",
    "Faça uma função que sorteia 10 números aleatórios entre 0 e 100 e retorna o maior entre eles."
   ]
  },
  {
   "cell_type": "code",
   "execution_count": 28,
   "metadata": {},
   "outputs": [
    {
     "name": "stdout",
     "output_type": "stream",
     "text": [
      "[7, 8, 11, 15, 43, 48, 65, 83, 86, 91]\n"
     ]
    },
    {
     "data": {
      "text/plain": [
       "91"
      ]
     },
     "execution_count": 28,
     "metadata": {},
     "output_type": "execute_result"
    }
   ],
   "source": [
    "def sorteio():\n",
    "    import random\n",
    "    lista=[random.randint(1,100) for i in range(10)]\n",
    "    lista=sorted(lista)\n",
    "    print(lista)\n",
    "    return lista[-1]\n",
    "sorteio()"
   ]
  },
  {
   "cell_type": "markdown",
   "metadata": {},
   "source": [
    "#### Exercicio 8\n",
    "Faça uma função que recebe um número n de entrada, sorteia n números aleatórios entre 0 e 100 e retorna a média deles."
   ]
  },
  {
   "cell_type": "code",
   "execution_count": 30,
   "metadata": {},
   "outputs": [
    {
     "name": "stdin",
     "output_type": "stream",
     "text": [
      "Digite a quantidade de numeros desejada:  5\n"
     ]
    },
    {
     "name": "stdout",
     "output_type": "stream",
     "text": [
      "[24, 69, 13, 97, 57]\n"
     ]
    },
    {
     "data": {
      "text/plain": [
       "52.0"
      ]
     },
     "execution_count": 30,
     "metadata": {},
     "output_type": "execute_result"
    }
   ],
   "source": [
    "def sorteio(num):\n",
    "    import random\n",
    "    lista=[random.randint(1,100) for i in range(num)]\n",
    "    media=sum(lista)/len(lista)\n",
    "    return media\n",
    "numero=int(input('Digite a quantidade de numeros desejada: '))\n",
    "sorteio(numero)"
   ]
  },
  {
   "cell_type": "markdown",
   "metadata": {},
   "source": [
    "#### Exercicio 9\n",
    "Faça uma função que recebe uma lista de palavras e retorna uma lista contendo as mesmas palavras da lista anterior, porém escritas em caixa alta."
   ]
  },
  {
   "cell_type": "code",
   "execution_count": 1,
   "metadata": {},
   "outputs": [
    {
     "data": {
      "text/plain": [
       "['AMIGO', 'PARENTE', 'BOOTCAMP']"
      ]
     },
     "execution_count": 1,
     "metadata": {},
     "output_type": "execute_result"
    }
   ],
   "source": [
    "def caixa_alta(lista):\n",
    "    lista2=[]\n",
    "    for element in lista:\n",
    "        elemento=element.upper()\n",
    "        lista2.append(elemento)\n",
    "    return lista2\n",
    "lista=['amigo', 'parente','bootcamp']\n",
    "caixa_alta(lista)"
   ]
  },
  {
   "cell_type": "markdown",
   "metadata": {},
   "source": [
    "#### Exercicio 10\n",
    "Faça uma função que recebe duas listas e retorna a soma item a item dessas listas.\n",
    "\n",
    "Exemplo: Se a função receber as listas [1,4,3] e [3,5,1], então a função deve retornar [1+3, 4+5, 3+1] = [4, 9, 4]."
   ]
  },
  {
   "cell_type": "code",
   "execution_count": 4,
   "metadata": {},
   "outputs": [
    {
     "data": {
      "text/plain": [
       "[3, 10, 12, 14]"
      ]
     },
     "execution_count": 4,
     "metadata": {},
     "output_type": "execute_result"
    }
   ],
   "source": [
    "def zip_lista(lista1,lista2):\n",
    "    lista3=[]\n",
    "    return [(elem1 + elem2) for elem1, elem2 in zip(lista1,lista2)]\n",
    "lista1=[1,7,8,9]\n",
    "lista2=[2,3,4,5]\n",
    "zip_lista(lista1,lista2)\n",
    "        "
   ]
  },
  {
   "cell_type": "markdown",
   "metadata": {},
   "source": [
    "#### Exercicio 11\n",
    "Faça uma função que receba duas listas e retorne o produto item a item dessas listas.\n",
    "\n",
    "Exemplo: Se a função receber as listas [1,4,3] e [3,5,1], então a função deve retornar [1x3, 4x5, 3x1] = [3, 20, 3]."
   ]
  },
  {
   "cell_type": "code",
   "execution_count": 6,
   "metadata": {},
   "outputs": [
    {
     "data": {
      "text/plain": [
       "[2, 21, 32, 45]"
      ]
     },
     "execution_count": 6,
     "metadata": {},
     "output_type": "execute_result"
    }
   ],
   "source": [
    "def zip_lista2(lista1,lista2):\n",
    "    lista3=[]\n",
    "    return [(elem1 * elem2) for elem1, elem2 in zip(lista1,lista2)]\n",
    "lista1=[1,7,8,9]\n",
    "lista2=[2,3,4,5]\n",
    "zip_lista2(lista1,lista2)"
   ]
  },
  {
   "cell_type": "markdown",
   "metadata": {},
   "source": [
    "#### Exercicio 12\n",
    "Faça uma função que recebe um número x e uma lista numérica e retorna uma lista cujos elementos são os itens da lista de entrada multiplicado por x.\n",
    "\n",
    "Exemplo:\n",
    "\n",
    "Se a função receber o número 5 e a lista [3,5,1], então a função deve retornar [5x3, 5x5, 5x1] = [15, 25, 5]."
   ]
  },
  {
   "cell_type": "code",
   "execution_count": 8,
   "metadata": {},
   "outputs": [
    {
     "data": {
      "text/plain": [
       "[7, 14, 21, 28, 35]"
      ]
     },
     "execution_count": 8,
     "metadata": {},
     "output_type": "execute_result"
    }
   ],
   "source": [
    "def lista_mult(num,lista):\n",
    "    return [num*element for element in lista]\n",
    "num=7\n",
    "lista=[1,2,3,4,5]\n",
    "lista_mult(num,lista)"
   ]
  },
  {
   "cell_type": "markdown",
   "metadata": {},
   "source": [
    "#### Exercicio 13\n",
    "Faça uma função que recebe uma lista de números e retorna a soma dos elementos dessa lista."
   ]
  },
  {
   "cell_type": "code",
   "execution_count": 10,
   "metadata": {},
   "outputs": [
    {
     "data": {
      "text/plain": [
       "15"
      ]
     },
     "execution_count": 10,
     "metadata": {},
     "output_type": "execute_result"
    }
   ],
   "source": [
    "def lista_soma(lista):\n",
    "    return sum(lista)\n",
    "lista=[1,2,3,4,5]\n",
    "lista_soma(lista)"
   ]
  },
  {
   "cell_type": "markdown",
   "metadata": {},
   "source": [
    "#### Exercicio 14\n",
    "Faça uma função que recebe uma lista de números e retorna a média aritmética dos elementos dessa lista."
   ]
  },
  {
   "cell_type": "code",
   "execution_count": 11,
   "metadata": {},
   "outputs": [
    {
     "data": {
      "text/plain": [
       "3.0"
      ]
     },
     "execution_count": 11,
     "metadata": {},
     "output_type": "execute_result"
    }
   ],
   "source": [
    "def lista_media(lista):\n",
    "    return sum(lista)/len(lista)\n",
    "lista=[1,2,3,4,5]\n",
    "lista_media(lista)"
   ]
  },
  {
   "cell_type": "markdown",
   "metadata": {},
   "source": [
    "#### Exercicio 15\n",
    "Desafio 1 - Faça uma função que receba um número e calcule seu fatorial."
   ]
  },
  {
   "cell_type": "code",
   "execution_count": 15,
   "metadata": {},
   "outputs": [
    {
     "name": "stdin",
     "output_type": "stream",
     "text": [
      "Digite um número:  3\n"
     ]
    },
    {
     "data": {
      "text/plain": [
       "6"
      ]
     },
     "execution_count": 15,
     "metadata": {},
     "output_type": "execute_result"
    }
   ],
   "source": [
    "def fatorial(n):\n",
    "    i=1\n",
    "    fat=1\n",
    "    while i<=n:\n",
    "        fat=fat*i\n",
    "        i=i+1\n",
    "    return fat\n",
    "n=int(input('Digite um número: '))\n",
    "fatorial(n)"
   ]
  },
  {
   "cell_type": "markdown",
   "metadata": {},
   "source": [
    "#### Exercicio 16\n",
    "Super Desafio! - Repita o exercício anterior usando recursão, ou seja, uma função que chame ela mesma, lembrando que 3! = 3*2!, que 2! = 2*1!, que 1! = 1*0! e que 0! = 1."
   ]
  },
  {
   "cell_type": "code",
   "execution_count": 17,
   "metadata": {},
   "outputs": [
    {
     "name": "stdin",
     "output_type": "stream",
     "text": [
      "Digite um número:  8\n"
     ]
    },
    {
     "data": {
      "text/plain": [
       "40320"
      ]
     },
     "execution_count": 17,
     "metadata": {},
     "output_type": "execute_result"
    }
   ],
   "source": [
    "def fatorial_rec(n):\n",
    "    if n==0 or n==1:\n",
    "        return 1\n",
    "    return n*fatorial(n-1)    \n",
    "n=int(input('Digite um número: '))\n",
    "fatorial_rec(n)"
   ]
  },
  {
   "cell_type": "markdown",
   "metadata": {},
   "source": [
    "#### Exercicio 17\n",
    "Desafio 3 - A sequência Fibonacci é a sequência cujos dois primeiros termos são 1 e os demais são obtidos através da soma de seus dois antecessores, isso é:\n",
    "\n",
    "a. Fibonacci(1) = 1 e Fibonacci(2) = 2;\n",
    "\n",
    "b. dado qualquer número n >= 3, Fibonacci(n) = Fibonacci(n-1) + Fibonacci(n-2)\n",
    "\n",
    "Assim, os 10 primeiros termos da sequência Fibonacci são:\n",
    "\n",
    "1, 1, 2, 3, 5, 8, 13, 21, 34, 55…\n",
    "Faça uma função que receba um número n e calcule o termo de número n da sequência Fibonacci."
   ]
  },
  {
   "cell_type": "code",
   "execution_count": 47,
   "metadata": {},
   "outputs": [
    {
     "name": "stdin",
     "output_type": "stream",
     "text": [
      "Digite um número:  8\n"
     ]
    },
    {
     "name": "stdout",
     "output_type": "stream",
     "text": [
      "O 8º nuúmero da sequencia de Fibonacci é:  21\n"
     ]
    }
   ],
   "source": [
    "#Fiquei na dúvida, pois tem referencias que falam que a sequencia começa no 0 e referencias que falam que começa no 1 \n",
    "def fibonacci(n):\n",
    "    if n==1 or n==2:\n",
    "        return 1\n",
    "    return fibonacci(n-1)+fibonacci(n-2)\n",
    "n=int(input('Digite um número: '))\n",
    "print(f'O {n}º nuúmero da sequencia de Fibonacci é: ',fibonacci(n))"
   ]
  },
  {
   "cell_type": "markdown",
   "metadata": {},
   "source": [
    "#### Exercicio 18\n",
    "Desafio 2 - Faça uma função que recebe duas entradas: um input dado pelo usuário e um string que informa o tipo de dado (\"idade\", \"salário\" ou \"sexo\"), e verifica se os dados digitados foram válidos, usando os seguintes critérios:\n",
    "\n",
    "a. Idade: entre 0 e 150;\n",
    "\n",
    "b. Salário: maior que 0;\n",
    "\n",
    "c. Sexo: M, F ou Outro."
   ]
  },
  {
   "cell_type": "code",
   "execution_count": 13,
   "metadata": {},
   "outputs": [
    {
     "name": "stdin",
     "output_type": "stream",
     "text": [
      "Insira um dado:  sa\n",
      "Informe o tipo de dado (Idade, Salário ou Sexo:  Sexo\n"
     ]
    },
    {
     "name": "stdout",
     "output_type": "stream",
     "text": [
      "Input Inválido\n"
     ]
    }
   ],
   "source": [
    "def dados(dado,string):\n",
    "    if string=='Idade':\n",
    "        idade=int(dado)\n",
    "        if idade>0 and idade<150:\n",
    "            print('Input Válido')\n",
    "        else:\n",
    "            print('Input Inválido')\n",
    "    elif string=='Salário':\n",
    "        salario=float(dado)\n",
    "        if salario>0:\n",
    "            print('Input Válido')\n",
    "        else:\n",
    "            print('Input Inválido')\n",
    "    elif string=='Sexo':\n",
    "        if dado in ('M','F','Outro'):\n",
    "            print('Input Válido')\n",
    "        else:\n",
    "            print('Input Inválido')\n",
    "dado=input('Insira um dado: ')\n",
    "string=input('Informe o tipo de dado (Idade, Salário ou Sexo: ')\n",
    "dados(dado,string)"
   ]
  },
  {
   "cell_type": "markdown",
   "metadata": {},
   "source": [
    "#### Exercicio 19\n",
    "Super Desafio! - Refaça o desafio 3 usando recursão. Fibonacci burra, exercicio 17\n"
   ]
  },
  {
   "cell_type": "code",
   "execution_count": 1,
   "metadata": {},
   "outputs": [
    {
     "name": "stdin",
     "output_type": "stream",
     "text": [
      "Digite um número:  3\n"
     ]
    },
    {
     "name": "stdout",
     "output_type": "stream",
     "text": [
      "O 3º nuúmero da sequencia de Fibonacci é:  2\n"
     ]
    }
   ],
   "source": [
    "#Fiquei na dúvida, pois tem referencias que falam que a sequencia começa no 0 e referencias que falam que começa no 1 \n",
    "def fibonacci(n):\n",
    "    if n==1 or n==2:\n",
    "        return 1\n",
    "    return fibonacci(n-1)+fibonacci(n-2)\n",
    "n=int(input('Digite um número: '))\n",
    "print(f'O {n}º nuúmero da sequencia de Fibonacci é: ',fibonacci(n))"
   ]
  },
  {
   "cell_type": "markdown",
   "metadata": {},
   "source": [
    "#### Exercicio 20\n",
    "Super Desafio! - Faça um jogo de BlackJack usando funções: o BlackJack, ou Vinte e Um, é um jogo em que os jogadores podem comprar cartas livremente, enquanto tiverem menos de 21 pontos. No nosso jogo, o Ás vale um ponto; as cartas de 2 a 10 valem o número de pontos que elas representam; e Valete, Dama e Rei valem 10 pontos cada. Ganha o jogador que tiver o maior número de pontos, desde que este seja menor ou igual a 21. Nosso jogo deve ter as seguintes funções:\n",
    "\n",
    "a. Função principal: a função que vamos chamar para iniciar o jogo. Essa função não irá receber nem retornar nenhuma variável. Ela deve perguntar o número de jogadores participantes e o nome de cada um. Em seguida ela chama as outras funções do jogo.\n",
    "\n",
    "b. Função para criar o baralho: essa função deve criar um baralho (uma lista) com as cartas do baralho.\n",
    "\n",
    "c. Função para a jogada: essa função deve receber o nome do jogador que irá realizar a jogada e, caso ele ainda esteja ativo (tenha menos de 21 pontos e ainda não tenha desistido de comprar cartas) deve perguntar se ele quer comprar uma carta. Se ele responder que sim, a função deve chamar a próxima função para sortear uma carta e somar o valor retornado na pontuação do jogador; se ele responder que não, a função deve desativar o jogador para que ele não possa mais comprar cartas; Essa função só deve ser chamada enquanto houver jogadores ativos.\n",
    "\n",
    "d. Função para o sorteio: essa função retira uma carta aleatória do baralho e retorna o número de pontos que essa carta vale.\n",
    "\n",
    "e. Função verificação: verifica e indica qual/quais jogador/jogadores tem o maior número de pontos, que seja menor ou igual a 21."
   ]
  },
  {
   "cell_type": "code",
   "execution_count": 36,
   "metadata": {},
   "outputs": [
    {
     "name": "stdout",
     "output_type": "stream",
     "text": [
      "O vencedor da partida é Giu com 10 pontos!\n",
      "None\n"
     ]
    }
   ],
   "source": [
    "def verifica(jogadores):\n",
    "    lista=(sorted(jogadores.items(), key=itemgetter(1)))\n",
    "    if len(lista)>1 and lista[-2][1]==lista[-1][1]:\n",
    "        return print('Empate')\n",
    "    else:\n",
    "        vencedor=lista[-1]\n",
    "        return print(f'O vencedor da partida é {vencedor[0]} com {vencedor[1]} pontos!') \n",
    "    \n",
    "#Checa se o jogador está ativo\n",
    "def checa_jogador(jogadores,jogadores_ativos):\n",
    "    if (jogadores_ativos)=={} or len(jogadores)==1:\n",
    "        verifica(jogadores)\n",
    "\n",
    "teste=checa_jogador({'Giu':10},{'Giu':10})\n",
    "print(teste)"
   ]
  },
  {
   "cell_type": "code",
   "execution_count": 38,
   "metadata": {},
   "outputs": [
    {
     "name": "stdin",
     "output_type": "stream",
     "text": [
      "Qual o número de jogadores:  3\n",
      "Qual o nome do jogador 1:  isa\n",
      "Qual o nome do jogador 2:  leo\n",
      "Qual o nome do jogador 3:  giu\n",
      "isa sua pontuação é 0. Você gostaria de comprar uma carta? (S/N)  S\n"
     ]
    },
    {
     "name": "stdout",
     "output_type": "stream",
     "text": [
      "Você tirou a carta 5, essa carta vale 5. Sua nova pontuação é 5\n"
     ]
    },
    {
     "name": "stdin",
     "output_type": "stream",
     "text": [
      "leo sua pontuação é 0. Você gostaria de comprar uma carta? (S/N)  S\n"
     ]
    },
    {
     "name": "stdout",
     "output_type": "stream",
     "text": [
      "Você tirou a carta 7, essa carta vale 7. Sua nova pontuação é 7\n"
     ]
    },
    {
     "name": "stdin",
     "output_type": "stream",
     "text": [
      "giu sua pontuação é 0. Você gostaria de comprar uma carta? (S/N)  S\n"
     ]
    },
    {
     "name": "stdout",
     "output_type": "stream",
     "text": [
      "Você tirou a carta 6, essa carta vale 6. Sua nova pontuação é 6\n"
     ]
    },
    {
     "name": "stdin",
     "output_type": "stream",
     "text": [
      "isa sua pontuação é 5. Você gostaria de comprar uma carta? (S/N)  S\n"
     ]
    },
    {
     "name": "stdout",
     "output_type": "stream",
     "text": [
      "Você tirou a carta J, essa carta vale 10. Sua nova pontuação é 15\n"
     ]
    },
    {
     "name": "stdin",
     "output_type": "stream",
     "text": [
      "leo sua pontuação é 7. Você gostaria de comprar uma carta? (S/N)  S\n"
     ]
    },
    {
     "name": "stdout",
     "output_type": "stream",
     "text": [
      "Você tirou a carta 10, essa carta vale 10. Sua nova pontuação é 17\n"
     ]
    },
    {
     "name": "stdin",
     "output_type": "stream",
     "text": [
      "giu sua pontuação é 6. Você gostaria de comprar uma carta? (S/N)  S\n"
     ]
    },
    {
     "name": "stdout",
     "output_type": "stream",
     "text": [
      "Você tirou a carta J, essa carta vale 10. Sua nova pontuação é 16\n"
     ]
    },
    {
     "name": "stdin",
     "output_type": "stream",
     "text": [
      "isa sua pontuação é 15. Você gostaria de comprar uma carta? (S/N)  S\n"
     ]
    },
    {
     "name": "stdout",
     "output_type": "stream",
     "text": [
      "Você tirou a carta 6, essa carta vale 6. Sua nova pontuação é 21\n"
     ]
    },
    {
     "name": "stdin",
     "output_type": "stream",
     "text": [
      "leo sua pontuação é 17. Você gostaria de comprar uma carta? (S/N)  S\n"
     ]
    },
    {
     "name": "stdout",
     "output_type": "stream",
     "text": [
      "Você tirou a carta 6, essa carta vale 6. Sua nova pontuação é 23\n"
     ]
    },
    {
     "name": "stdin",
     "output_type": "stream",
     "text": [
      "giu sua pontuação é 16. Você gostaria de comprar uma carta? (S/N)  S\n"
     ]
    },
    {
     "name": "stdout",
     "output_type": "stream",
     "text": [
      "Você tirou a carta 4, essa carta vale 4. Sua nova pontuação é 20\n"
     ]
    },
    {
     "name": "stdin",
     "output_type": "stream",
     "text": [
      "isa sua pontuação é 21. Você gostaria de comprar uma carta? (S/N)  N\n",
      "giu sua pontuação é 20. Você gostaria de comprar uma carta? (S/N)  S\n"
     ]
    },
    {
     "name": "stdout",
     "output_type": "stream",
     "text": [
      "Você tirou a carta 2, essa carta vale 2. Sua nova pontuação é 22\n",
      "O vencedor da partida é isa com 21 pontos!\n"
     ]
    }
   ],
   "source": [
    "from random import choice\n",
    "from operator import itemgetter\n",
    "#    Cria uma lista com todas as cartas do baralho\n",
    "#cria um dicionário com as cartas e seus respectivos valores\n",
    "def cria_baralho():\n",
    "    cartas=4*['A','2','3','4','5','6','7','8','9','10','J','Q','K']\n",
    "    return cartas\n",
    "def pontuacao_baralho(cartas):\n",
    "    baralho={}\n",
    "    for elemento in cartas:\n",
    "        if (elemento).isdigit():\n",
    "            baralho[elemento]=int(elemento)\n",
    "        elif elemento=='A':\n",
    "            baralho[elemento]=1\n",
    "        elif elemento in ('J','Q','K'):\n",
    "            baralho[elemento]=10\n",
    "    return baralho\n",
    "\n",
    "    \n",
    "def sorteia_carta(cartas):\n",
    "    carta=choice(cartas)\n",
    "    return carta\n",
    "\n",
    "def verifica(jogadores):\n",
    "    lista=(sorted(jogadores.items(), key=itemgetter(1)))\n",
    "    if len(lista)>1 and lista[-2][1]==lista[-1][1]:\n",
    "        return print('Empate')\n",
    "    else:\n",
    "        vencedor=lista[-1]\n",
    "        return print(f'O vencedor da partida é {vencedor[0]} com {vencedor[1]} pontos!') \n",
    "    \n",
    "#Checa se o jogador está ativo\n",
    "def checa_jogador(jogadores,jogadores_ativos,cartas,baralho):\n",
    "    if (jogadores_ativos)=={} or len(jogadores)==1:\n",
    "        verifica(jogadores)\n",
    "    else:\n",
    "        lista_ativ=[chave for chave, valor in jogadores_ativos.items()]\n",
    "        i=0\n",
    "        while i<len(lista_ativ) and jogadores_ativos!={}:\n",
    "            jog=lista_ativ[i]\n",
    "            escolha=input(f'{jog} sua pontuação é {jogadores_ativos[jog]}. Você gostaria de comprar uma carta? (S/N) ')\n",
    "            if escolha!='S' and escolha!='N':\n",
    "                print ('Opção inválida')\n",
    "            elif escolha=='S':\n",
    "                carta=sorteia_carta(cartas)\n",
    "                pontos=baralho[carta]\n",
    "                jogadores_ativos[jog]+=pontos\n",
    "                cartas.remove(carta)\n",
    "                print(f'Você tirou a carta {carta}, essa carta vale {pontos}. Sua nova pontuação é {jogadores_ativos[jog]}')\n",
    "                jogadores[jog]=jogadores_ativos[jog]\n",
    "                if jogadores_ativos[jog]>21:\n",
    "                    jogadores_ativos.pop(jog)\n",
    "                    jogadores.pop(jog)\n",
    "                i=i+1\n",
    "            elif escolha=='N':\n",
    "                jogadores_ativos.pop(jog)\n",
    "                i=i+1\n",
    "        checa_jogador(jogadores,jogadores_ativos,cartas,baralho)\n",
    "        \n",
    "def principal():\n",
    "    n=int(input('Qual o número de jogadores: '))\n",
    "    i=1\n",
    "    jogadores={}\n",
    "    jogadores_ativos={}\n",
    "    while i<=n:\n",
    "        jogador=input(f'Qual o nome do jogador {i}: ')\n",
    "        jogadores[jogador]=0\n",
    "        jogadores_ativos[jogador]=0\n",
    "        i=i+1\n",
    "\n",
    "        \n",
    "    cartas=cria_baralho()\n",
    "    baralho=pontuacao_baralho(cartas)\n",
    "    checa_jogador(jogadores,jogadores_ativos,cartas,baralho)\n",
    "\n",
    "\n",
    "principal()\n"
   ]
  },
  {
   "cell_type": "markdown",
   "metadata": {},
   "source": [
    "#### Exercicio 21\n",
    "Super desafio! Faça um sistema de cadastro de clientes. Modele cada cliente como uma lista de três elementos: nome, CPF e e-mail.\n",
    "\n",
    "a. Faça uma função que peça o nome, o CPF e o e-mail da pessoa e retorne uma lista contendo esses elementos nessa ordem.\n",
    "\n",
    "b. Os clientes cadastrados devem ser armazenados em uma lista (uma lista de listas, já que cada cliente será uma lista tal como produzido no item a).\n",
    "\n",
    "c. Faça uma função que recebe a lista do item b) e um CPF e, se esse cliente estiver na lista de cadastro, sua função deve devolver a lista de dados desse cliente; caso contrário, sua função deve imprimir “não encontrado”.\n",
    "\n",
    "d. Enquanto não for digitado 0, o seu programa deve continuar rodando. Se digitado 1, seu programa deve cadastrar um novo cliente; se digitado 2, seu programa deve pedir um CPF e procurá-lo na lista de clientes (item c); se digitado 3, seu programa deve imprimir todos os clientes cadastrados."
   ]
  },
  {
   "cell_type": "code",
   "execution_count": 31,
   "metadata": {},
   "outputs": [
    {
     "name": "stdin",
     "output_type": "stream",
     "text": [
      "Escolha uma opção:\n",
      " 0 - Encerrar\n",
      " 1 - Cadastrar novo cliente\n",
      " 2 - Consultar Cliente\n",
      " 3 - Imprimir todos os clientes cadastrados\n",
      " 1\n"
     ]
    },
    {
     "name": "stdout",
     "output_type": "stream",
     "text": [
      "Cadastro de CLientes\n"
     ]
    },
    {
     "name": "stdin",
     "output_type": "stream",
     "text": [
      "Digite o nome a ser cadastrado:  hfdijve\n",
      "Digite o CPF a ser cadastrado:  2\n",
      "Digite o email a ser cadastrado:  efrev\n",
      "Escolha uma opção:\n",
      " 0 - Encerrar\n",
      " 1 - Cadastrar novo cliente\n",
      " 2 - Consultar Cliente\n",
      " 3 - Imprimir todos os clientes cadastrados\n",
      " 2\n"
     ]
    },
    {
     "name": "stdout",
     "output_type": "stream",
     "text": [
      "Busca de CLientes\n"
     ]
    },
    {
     "name": "stdin",
     "output_type": "stream",
     "text": [
      "Digite o CPF a ser buscado:  2\n"
     ]
    },
    {
     "name": "stdout",
     "output_type": "stream",
     "text": [
      "['hfdijve', '2', 'efrev']\n"
     ]
    },
    {
     "name": "stdin",
     "output_type": "stream",
     "text": [
      "Escolha uma opção:\n",
      " 0 - Encerrar\n",
      " 1 - Cadastrar novo cliente\n",
      " 2 - Consultar Cliente\n",
      " 3 - Imprimir todos os clientes cadastrados\n",
      " 2\n"
     ]
    },
    {
     "name": "stdout",
     "output_type": "stream",
     "text": [
      "Busca de CLientes\n"
     ]
    },
    {
     "name": "stdin",
     "output_type": "stream",
     "text": [
      "Digite o CPF a ser buscado:  3\n"
     ]
    },
    {
     "name": "stdout",
     "output_type": "stream",
     "text": [
      "CPF não encontrado\n"
     ]
    },
    {
     "name": "stdin",
     "output_type": "stream",
     "text": [
      "Escolha uma opção:\n",
      " 0 - Encerrar\n",
      " 1 - Cadastrar novo cliente\n",
      " 2 - Consultar Cliente\n",
      " 3 - Imprimir todos os clientes cadastrados\n",
      " 3\n"
     ]
    },
    {
     "name": "stdout",
     "output_type": "stream",
     "text": [
      "Clientes Cadastrados\n",
      "[['hfdijve', '2', 'efrev']]\n"
     ]
    },
    {
     "name": "stdin",
     "output_type": "stream",
     "text": [
      "Escolha uma opção:\n",
      " 0 - Encerrar\n",
      " 1 - Cadastrar novo cliente\n",
      " 2 - Consultar Cliente\n",
      " 3 - Imprimir todos os clientes cadastrados\n",
      " 0\n"
     ]
    }
   ],
   "source": [
    "def busca_cli(lista):\n",
    "    print('Busca de CLientes')\n",
    "    cpf=input('Digite o CPF a ser buscado: ')\n",
    "    for element in lista:\n",
    "        if cpf in element:\n",
    "            return (element)\n",
    "    print ('CPF não encontrado')\n",
    "def cad_cli():\n",
    "    lista=[]\n",
    "    op=1\n",
    "    while op!=0:\n",
    "        op=int(input('Escolha uma opção:\\n 0 - Encerrar\\n 1 - Cadastrar novo cliente\\n 2 - Consultar Cliente\\n 3 - Imprimir todos os clientes cadastrados\\n'))\n",
    "        if op==0:\n",
    "            break\n",
    "        elif op==1:\n",
    "            print('Cadastro de CLientes')\n",
    "            nome=input('Digite o nome a ser cadastrado: ')\n",
    "            cpf=input('Digite o CPF a ser cadastrado: ')\n",
    "            email=input('Digite o email a ser cadastrado: ')\n",
    "            lista_cli=[nome,cpf,email]\n",
    "            lista.append(lista_cli)\n",
    "        elif op==2:\n",
    "            cad=busca_cli(lista)\n",
    "            if cad != None:\n",
    "                print(cad)\n",
    "        elif op==3:\n",
    "            print('Clientes Cadastrados')\n",
    "            print(lista)\n",
    "        else:\n",
    "            print('Opção não disponível')\n",
    "\n",
    "cad_cli()\n",
    "\n"
   ]
  }
 ],
 "metadata": {
  "kernelspec": {
   "display_name": "Python 3",
   "language": "python",
   "name": "python3"
  },
  "language_info": {
   "codemirror_mode": {
    "name": "ipython",
    "version": 3
   },
   "file_extension": ".py",
   "mimetype": "text/x-python",
   "name": "python",
   "nbconvert_exporter": "python",
   "pygments_lexer": "ipython3",
   "version": "3.7.6"
  }
 },
 "nbformat": 4,
 "nbformat_minor": 4
}

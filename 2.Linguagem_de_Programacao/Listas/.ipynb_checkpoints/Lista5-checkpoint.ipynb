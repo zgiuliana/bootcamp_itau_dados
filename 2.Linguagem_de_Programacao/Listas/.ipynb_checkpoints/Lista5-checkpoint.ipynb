{
 "cells": [
  {
   "cell_type": "markdown",
   "metadata": {},
   "source": [
    "## Exercicio1\n",
    "Faça um programa que peça para o usuário digitar uma palavra e imprima cada letra em uma linha."
   ]
  },
  {
   "cell_type": "code",
   "execution_count": null,
   "metadata": {},
   "outputs": [],
   "source": [
    "palavra=input('Digite uma palavra: ')\n",
    "for letra in palavra:\n",
    "    print(letra)"
   ]
  },
  {
   "cell_type": "markdown",
   "metadata": {},
   "source": [
    "## Exercicio2\n",
    "Faça um programa que pede para o usuário digitar uma palavra e cria uma nova string igual, copiando letra por letra a palavra digitada, depois imprima a nova string."
   ]
  },
  {
   "cell_type": "code",
   "execution_count": 5,
   "metadata": {},
   "outputs": [
    {
     "name": "stdin",
     "output_type": "stream",
     "text": [
      "Digite uma palavra:  juliana\n"
     ]
    },
    {
     "data": {
      "text/plain": [
       "'juliana'"
      ]
     },
     "execution_count": 5,
     "metadata": {},
     "output_type": "execute_result"
    }
   ],
   "source": [
    "palavra=input('Digite uma palavra: ')\n",
    "lista=list(palavra)\n",
    "''.join(lista)"
   ]
  },
  {
   "cell_type": "markdown",
   "metadata": {},
   "source": [
    "## Exercicio3\n",
    "Altere o exercício anterior para que a string copiada alterne entre letras maiúsculas e minúsculas.\n",
    "\n",
    "Exemplo: se o usuário digitar \"latex\" o programa deve imprimir \"LaTeX\"."
   ]
  },
  {
   "cell_type": "code",
   "execution_count": 13,
   "metadata": {},
   "outputs": [
    {
     "name": "stdin",
     "output_type": "stream",
     "text": [
      "Digite uma palavra:  latex\n"
     ]
    },
    {
     "data": {
      "text/plain": [
       "'LaTeX'"
      ]
     },
     "execution_count": 13,
     "metadata": {},
     "output_type": "execute_result"
    }
   ],
   "source": [
    "palavra=input('Digite uma palavra: ')\n",
    "\n",
    "lista_palavra=[]\n",
    "lista=list(palavra)\n",
    "for i in range(len(lista)):\n",
    "        if i%2==0:\n",
    "            letra=lista[i].upper()\n",
    "            i=i+1\n",
    "        else:\n",
    "            letra=lista[i].lower()\n",
    "            i=i+1\n",
    "        lista_palavra.append(letra)\n",
    "''.join(lista_palavra)"
   ]
  },
  {
   "cell_type": "markdown",
   "metadata": {},
   "source": [
    "## Exercicio4\n",
    "Faça um programa que pede para o usuário digitar uma palavra e cria uma nova string igual, porém com espaço entre cada letra, depois imprima a nova string:\n",
    "\n",
    "Exemplo: se o usuário digitar \"python\" o programa deve imprimir \"p y t h o n \""
   ]
  },
  {
   "cell_type": "code",
   "execution_count": 14,
   "metadata": {},
   "outputs": [
    {
     "name": "stdin",
     "output_type": "stream",
     "text": [
      "Digite uma palavra:  python\n"
     ]
    },
    {
     "data": {
      "text/plain": [
       "'p y t h o n'"
      ]
     },
     "execution_count": 14,
     "metadata": {},
     "output_type": "execute_result"
    }
   ],
   "source": [
    "palavra=input('Digite uma palavra: ')\n",
    "lista=list(palavra)\n",
    "' '.join(lista)"
   ]
  },
  {
   "cell_type": "markdown",
   "metadata": {},
   "source": [
    "## Exercicio5\n",
    "\n",
    "Enunciado\n",
    "Faça uma função que receba uma string e retorne uma nova string substituindo:\n",
    "\n",
    "'a' por '4'\n",
    "\n",
    "'e' por '3'\n",
    "\n",
    "'I' por '1'\n",
    "\n",
    "'t' por '7'"
   ]
  },
  {
   "cell_type": "code",
   "execution_count": 20,
   "metadata": {},
   "outputs": [
    {
     "name": "stdin",
     "output_type": "stream",
     "text": [
      "Digite uma palavra:  e ai bro\n"
     ]
    },
    {
     "data": {
      "text/plain": [
       "'3 41 bro'"
      ]
     },
     "execution_count": 20,
     "metadata": {},
     "output_type": "execute_result"
    }
   ],
   "source": [
    "def substitui_letras(palavra):\n",
    "    palavra2=(((palavra.replace('a','4')).replace('e','3')).replace('i','1')).replace('t','7')\n",
    "    return palavra2\n",
    "    \n",
    "palavra=input('Digite uma palavra: ')\n",
    "substitui_letras(palavra)"
   ]
  },
  {
   "cell_type": "markdown",
   "metadata": {},
   "source": [
    "## Exercicio6\n",
    "Faça uma função que recebe uma string e retorna ela ao contrário.\n",
    "\n",
    "Exemplo: Recebe \"teste\" e retorna \"etset\"."
   ]
  },
  {
   "cell_type": "code",
   "execution_count": 22,
   "metadata": {},
   "outputs": [
    {
     "name": "stdin",
     "output_type": "stream",
     "text": [
      "Digite uma palavra:  ana\n"
     ]
    },
    {
     "name": "stdout",
     "output_type": "stream",
     "text": [
      "A palavra ana invertida é: ana\n"
     ]
    }
   ],
   "source": [
    "def inverter_string(palavra):\n",
    "    print(f'A palavra {palavra} invertida é: {palavra[::-1]}')\n",
    "palavra=input('Digite uma palavra: ')\n",
    "inverter_string(palavra)"
   ]
  },
  {
   "cell_type": "code",
   "execution_count": 40,
   "metadata": {},
   "outputs": [
    {
     "name": "stdin",
     "output_type": "stream",
     "text": [
      "Digite uma palavra:  yesye\n"
     ]
    },
    {
     "data": {
      "text/plain": [
       "'eysey'"
      ]
     },
     "execution_count": 40,
     "metadata": {},
     "output_type": "execute_result"
    }
   ],
   "source": [
    "def inverter_string(palavra):\n",
    "    return palavra[::-1]\n",
    "palavra=input('Digite uma palavra: ')\n",
    "string_invertida=inverter_string(palavra)\n",
    "string_invertida"
   ]
  },
  {
   "cell_type": "markdown",
   "metadata": {},
   "source": [
    "## Exercicio7\n",
    "Agora faça uma função que recebe uma palavra e diz se ela é um palíndromo, ou seja, se ela é igual a ela mesma ao contrário.\n",
    "\n",
    "Dica: Use a função do exercício 6."
   ]
  },
  {
   "cell_type": "code",
   "execution_count": 48,
   "metadata": {},
   "outputs": [
    {
     "name": "stdin",
     "output_type": "stream",
     "text": [
      "Digite uma palavra:  ana\n"
     ]
    },
    {
     "name": "stdout",
     "output_type": "stream",
     "text": [
      "A palavra ana é um palíndromo\n"
     ]
    }
   ],
   "source": [
    "def palindromo(palavra):\n",
    "    palavra_inv=palavra[::-1]\n",
    "    if palavra==palavra_inv:\n",
    "        print(f'A palavra {palavra} é um palíndromo')\n",
    "    else:\n",
    "        print(f'A palavra {palavra} não é um palíndromo')\n",
    "palavra=input('Digite uma palavra: ')\n",
    "palindromo(palavra)\n"
   ]
  },
  {
   "cell_type": "markdown",
   "metadata": {},
   "source": [
    "## Exercicio8\n",
    "Faça uma função que receba um texto e uma palavra, então verifique se a palavra está no texto, retornando True ou False."
   ]
  },
  {
   "cell_type": "code",
   "execution_count": 1,
   "metadata": {},
   "outputs": [
    {
     "name": "stdin",
     "output_type": "stream",
     "text": [
      "Escreva o texto:  teste de merda@@\n",
      "Qual palavra você quer buscar:  teste\n"
     ]
    },
    {
     "data": {
      "text/plain": [
       "True"
      ]
     },
     "execution_count": 1,
     "metadata": {},
     "output_type": "execute_result"
    }
   ],
   "source": [
    "#importa as bibliotecas\n",
    "import string\n",
    "import unicodedata\n",
    "#cria a função\n",
    "def procura(texto, palavra):\n",
    "    for elemento in texto:\n",
    "        if elemento == palavra:\n",
    "            return True\n",
    "    return False\n",
    "#coleta o texto\n",
    "texto=input('Escreva o texto: ')\n",
    "#Tira as pontuações do texto\n",
    "out = texto.translate(str.maketrans('', '', string.punctuation))\n",
    "texto_fix = unicodedata.normalize(\"NFD\", out).encode(\"ascii\", \"ignore\").decode(\"utf-8\").strip().upper()\n",
    "#Separa as palavras numa lista\n",
    "texto2=texto_fix.split()\n",
    "#coleta a palavra\n",
    "palavra=input('Qual palavra você quer buscar: ')\n",
    "palavra_fix = unicodedata.normalize(\"NFD\", palavra).encode(\"ascii\", \"ignore\").decode(\"utf-8\").strip().upper()\n",
    "#chama a função\n",
    "procura(texto2, palavra_fix)"
   ]
  },
  {
   "cell_type": "markdown",
   "metadata": {},
   "source": [
    "## Exercicio9\n",
    "Faça uma função que receba uma string que contém tanto números quanto letras e caracteres especiais, e que separe as letras em uma variável e os números em outra (os caracteres especiais podem ser descartados). Ao final a função deve imprimir as duas variáveis."
   ]
  },
  {
   "cell_type": "code",
   "execution_count": 2,
   "metadata": {},
   "outputs": [
    {
     "name": "stdin",
     "output_type": "stream",
     "text": [
      "Escreva o frase:  uewfjdsfiwfhsd ofudshjfhweuds 1379284712ediushjfd\n"
     ]
    },
    {
     "name": "stdout",
     "output_type": "stream",
     "text": [
      "lista numeros:  ['1', '3', '7', '9', '2', '8', '4', '7', '1', '2']\n",
      "lista letras:  ['u', 'e', 'w', 'f', 'j', 'd', 's', 'f', 'i', 'w', 'f', 'h', 's', 'd', 'o', 'f', 'u', 'd', 's', 'h', 'j', 'f', 'h', 'w', 'e', 'u', 'd', 's', 'e', 'd', 'i', 'u', 's', 'h', 'j', 'f', 'd']\n"
     ]
    }
   ],
   "source": [
    "numeros = []\n",
    "letras = []\n",
    "frase=input('Escreva o frase: ')\n",
    "\n",
    "for caractere in frase:\n",
    "    if caractere.isdigit() == True:\n",
    "        numeros.append(caractere)\n",
    "    elif caractere.isalpha(): \n",
    "        letras.append(caractere)\n",
    "\n",
    "print('lista numeros: ', numeros)\n",
    "print('lista letras: ', letras)\n"
   ]
  },
  {
   "cell_type": "markdown",
   "metadata": {},
   "source": [
    "## Exercicio10\n",
    "Enunciado\n",
    "Desafio - Faça uma função que receba uma string e uma letra e:\n",
    "\n",
    "a. imprima quantas vezes a letra aparece na string;\n",
    "\n",
    "b. imprima todas as posições em que a letra aparece na string;\n",
    "\n",
    "c. retorne a distância entre a primeira e a última aparição dessa letra na string."
   ]
  },
  {
   "cell_type": "code",
   "execution_count": 5,
   "metadata": {},
   "outputs": [
    {
     "name": "stdin",
     "output_type": "stream",
     "text": [
      "Escreva o frase:  teste\n",
      "Escolha a letra:  t\n"
     ]
    },
    {
     "name": "stdout",
     "output_type": "stream",
     "text": [
      "A letra t aparece 2 vezes na palavra\n",
      "A letra aparece nas porições: [0, 3] \n",
      " A diferença entre essas posições é: 3\n"
     ]
    }
   ],
   "source": [
    "def questao10(palavra, letra):\n",
    "    import unicodedata\n",
    "    lista=list(palavra)\n",
    "    lista_letra=[element for element in lista if element==letra]\n",
    "    if lista_letra==[]:\n",
    "        print('Não tem essa letra no texto')\n",
    "    else:\n",
    "        print(f'A letra {letra} aparece {len(lista_letra)} vezes na palavra')\n",
    "        i=0\n",
    "        lista_pos=[]\n",
    "        while  i<len(lista_letra):\n",
    "            num=lista.index(letra)+i\n",
    "            lista.pop(lista.index(letra))\n",
    "            i=i+1\n",
    "            lista_pos.append(num)\n",
    "        \n",
    "        print(f'A letra aparece nas porições: {lista_pos} \\n A diferença entre essas posições é: {lista_pos[-1]-lista_pos[0]}')\n",
    "    \n",
    "palavra=input('Escreva o frase: ')\n",
    "letra=input('Escolha a letra: ')\n",
    "questao10(palavra,letra)"
   ]
  },
  {
   "cell_type": "markdown",
   "metadata": {},
   "source": [
    "## Exercicio11\n",
    "Super Desafio! - faça uma função que criptografa uma mensagem substituindo cada letra pela letra oposta do dicionário:\n",
    "\n",
    "'a' por 'z'\n",
    "\n",
    "'b' por 'y'\n",
    "\n",
    "'c' por 'x'"
   ]
  },
  {
   "cell_type": "code",
   "execution_count": 63,
   "metadata": {},
   "outputs": [
    {
     "name": "stdin",
     "output_type": "stream",
     "text": [
      "Insira a mensagem a ser criptografada:  abc def\n"
     ]
    },
    {
     "name": "stdout",
     "output_type": "stream",
     "text": [
      "zyx wvu\n"
     ]
    }
   ],
   "source": [
    "def alfabeto(mensagem):\n",
    "    #cria a lista com as letras do alfabeto\n",
    "    import string\n",
    "    i=0\n",
    "    mensagem_final=[]\n",
    "    alf = list(string.ascii_lowercase)\n",
    "    alf2=alf[::-1]\n",
    "    #cria a lista da mensagem\n",
    "    lista=list(mensagem)\n",
    "    for element in lista:\n",
    "        if i<(len(lista)):\n",
    "            if element==' ':\n",
    "                teste=' '     \n",
    "            else:\n",
    "                teste=alf2[alf.index(lista[i])]\n",
    "            i=i+1\n",
    "        mensagem_final.append(teste)\n",
    "    print(''.join(mensagem_final))\n",
    "mensagem1=input('Insira a mensagem a ser criptografada: ')\n",
    "mensagem = unicodedata.normalize(\"NFD\", mensagem1).encode(\"ascii\", \"ignore\").decode(\"utf-8\").strip().lower()\n",
    "alfabeto(mensagem)\n",
    "\n"
   ]
  }
 ],
 "metadata": {
  "kernelspec": {
   "display_name": "Python 3",
   "language": "python",
   "name": "python3"
  },
  "language_info": {
   "codemirror_mode": {
    "name": "ipython",
    "version": 3
   },
   "file_extension": ".py",
   "mimetype": "text/x-python",
   "name": "python",
   "nbconvert_exporter": "python",
   "pygments_lexer": "ipython3",
   "version": "3.7.6"
  }
 },
 "nbformat": 4,
 "nbformat_minor": 4
}

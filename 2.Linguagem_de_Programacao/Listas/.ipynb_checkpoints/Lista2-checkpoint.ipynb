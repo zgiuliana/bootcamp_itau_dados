{
 "cells": [
  {
   "cell_type": "markdown",
   "id": "ef1000c5",
   "metadata": {},
   "source": [
    "## Exercicio1"
   ]
  },
  {
   "cell_type": "code",
   "execution_count": null,
   "id": "9301db09",
   "metadata": {
    "ExecuteTime": {
     "end_time": "2021-07-07T20:58:47.986144Z",
     "start_time": "2021-07-07T20:58:46.619851Z"
    }
   },
   "outputs": [],
   "source": [
    "#Pergunta a idade da pessoa, fixado como inteiro, pois não tem meia idade\n",
    "idade=int(input('Insira a sua idade: '))\n",
    "if idade>=18:\n",
    "    print('Você maior de idade!')\n",
    "else:\n",
    "    print('Você é menor de idade!')"
   ]
  },
  {
   "cell_type": "markdown",
   "id": "4ae3a6ee",
   "metadata": {},
   "source": [
    "## Exercicio2"
   ]
  },
  {
   "cell_type": "code",
   "execution_count": null,
   "id": "12d1cb81",
   "metadata": {
    "ExecuteTime": {
     "end_time": "2021-07-07T21:03:28.048205Z",
     "start_time": "2021-07-07T21:03:25.100266Z"
    }
   },
   "outputs": [],
   "source": [
    "#Pede pra pessoa inserir um número\n",
    "num=float(input('Insira um número: '))\n",
    "if num>=0:\n",
    "    print(f'{num} é um número positivo')\n",
    "else:\n",
    "    print(f'{num} é um número negativo')"
   ]
  },
  {
   "cell_type": "markdown",
   "id": "f746fb55",
   "metadata": {},
   "source": [
    "## Exercício3"
   ]
  },
  {
   "cell_type": "code",
   "execution_count": null,
   "id": "02de7592",
   "metadata": {
    "ExecuteTime": {
     "end_time": "2021-07-08T19:20:03.984079Z",
     "start_time": "2021-07-08T19:19:59.826673Z"
    }
   },
   "outputs": [],
   "source": [
    "num1=float(input('Insira um número '))\n",
    "num2=float(input('Insira outro número '))\n",
    "if num1>=num2:\n",
    "    print(num1)\n",
    "else:\n",
    "    print(num2)"
   ]
  },
  {
   "cell_type": "markdown",
   "id": "3a9c5cfc",
   "metadata": {},
   "source": [
    "## Exercício 4"
   ]
  },
  {
   "cell_type": "code",
   "execution_count": null,
   "id": "6f68c762",
   "metadata": {
    "ExecuteTime": {
     "end_time": "2021-07-08T19:46:57.097491Z",
     "start_time": "2021-07-08T19:46:50.247626Z"
    }
   },
   "outputs": [],
   "source": [
    "nota1=float(input('Insira sua nota do 1º Quad '))\n",
    "nota2=float(input('Insira sua nota do 2º Quad '))\n",
    "nota3=float(input('Insira sua nota do 3º Quad '))\n",
    "media=(nota1+nota2+nota3)/3\n",
    "if media>=6:\n",
    "    print('Aprovado!!')\n",
    "else:\n",
    "    print('Reprovado.')"
   ]
  },
  {
   "cell_type": "markdown",
   "id": "85c614e5",
   "metadata": {},
   "source": [
    "## Exercício 5"
   ]
  },
  {
   "cell_type": "code",
   "execution_count": null,
   "id": "b1e7f231",
   "metadata": {
    "ExecuteTime": {
     "end_time": "2021-07-08T19:55:59.115579Z",
     "start_time": "2021-07-08T19:55:52.804965Z"
    }
   },
   "outputs": [],
   "source": [
    "print('(Questão) Uma pesquisa feita em uma escola, envolvendo 1000 alunos,\\n demonstrou que 25% deles usavam óculos. Quantos alunos usavam óculos',\n",
    "     '\\n a) 150 \\n b) 250 \\n c) 350 \\n d) 450 \\n e) 500')\n",
    "resp=input('Resposta: ')\n",
    "if resp=='b':\n",
    "    print('Resposta correta')\n",
    "else:\n",
    "    print('Resposta incorreta')\n",
    "\n",
    "      "
   ]
  },
  {
   "cell_type": "markdown",
   "id": "d24a4fe7",
   "metadata": {},
   "source": [
    "## Exercício 6"
   ]
  },
  {
   "cell_type": "code",
   "execution_count": 5,
   "id": "9b060500",
   "metadata": {
    "ExecuteTime": {
     "end_time": "2021-07-08T20:09:39.902936Z",
     "start_time": "2021-07-08T20:09:37.718046Z"
    }
   },
   "outputs": [
    {
     "name": "stdout",
     "output_type": "stream",
     "text": [
      "Mora perto da vítima? s\n",
      "Já trabalhou com a vítima? s\n",
      "Telefonou para a vítima? s\n",
      "Esteve no local do crime? s\n",
      "Devia para a vítima? s\n",
      "Pontuação 5. Culpado\n"
     ]
    }
   ],
   "source": [
    "q1=input('Mora perto da vítima? ')\n",
    "q2=input('Já trabalhou com a vítima? ')\n",
    "q3=input('Telefonou para a vítima? ')\n",
    "q4=input('Esteve no local do crime? ')\n",
    "q5=input('Devia para a vítima? ')\n",
    "if q1=='Sim' or q1=='sim' or q1=='SIM' or q1=='s':\n",
    "    p1=1\n",
    "else:\n",
    "    p1=0\n",
    "if q2=='Sim' or q2=='sim' or q2=='SIM' or q2=='s':\n",
    "    p2=1\n",
    "else:\n",
    "    p2=0\n",
    "if q3=='Sim' or q3=='sim' or q3=='SIM' or q3=='s':\n",
    "    p3=1\n",
    "else:\n",
    "    p3=0\n",
    "if q4=='Sim' or q4=='sim' or q4=='SIM' or q4=='s':\n",
    "    p4=1\n",
    "else:\n",
    "    p4=0\n",
    "if q5=='Sim' or q5=='sim' or q5=='SIM' or q5=='s':\n",
    "    p5=1\n",
    "else:\n",
    "    p5=0\n",
    "    \n",
    "p=p1+p2+p3+p4+p5\n",
    "\n",
    "if p==5:\n",
    "    print(f'Pontuação {p}. Culpado')\n",
    "elif p>=3:\n",
    "    print(f'Pontuação {p}. Cúmplice')\n",
    "elif p==2:\n",
    "    print(f'Pontuação {p}. Necessita mais investigação')\n",
    "else:\n",
    "    print(f'Pontuação {p}.Inocente')"
   ]
  }
 ],
 "metadata": {
  "kernelspec": {
   "display_name": "Python 3",
   "language": "python",
   "name": "python3"
  },
  "toc": {
   "base_numbering": 1,
   "nav_menu": {},
   "number_sections": true,
   "sideBar": true,
   "skip_h1_title": false,
   "title_cell": "Table of Contents",
   "title_sidebar": "Contents",
   "toc_cell": false,
   "toc_position": {},
   "toc_section_display": true,
   "toc_window_display": false
  },
  "varInspector": {
   "cols": {
    "lenName": 16,
    "lenType": 16,
    "lenVar": 40
   },
   "kernels_config": {
    "python": {
     "delete_cmd_postfix": "",
     "delete_cmd_prefix": "del ",
     "library": "var_list.py",
     "varRefreshCmd": "print(var_dic_list())"
    },
    "r": {
     "delete_cmd_postfix": ") ",
     "delete_cmd_prefix": "rm(",
     "library": "var_list.r",
     "varRefreshCmd": "cat(var_dic_list()) "
    }
   },
   "types_to_exclude": [
    "module",
    "function",
    "builtin_function_or_method",
    "instance",
    "_Feature"
   ],
   "window_display": false
  }
 },
 "nbformat": 4,
 "nbformat_minor": 5
}

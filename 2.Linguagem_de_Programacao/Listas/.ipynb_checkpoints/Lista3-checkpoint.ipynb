{
 "cells": [
  {
   "cell_type": "markdown",
   "metadata": {},
   "source": [
    "## Exercicio1"
   ]
  },
  {
   "cell_type": "code",
   "execution_count": 2,
   "metadata": {
    "ExecuteTime": {
     "end_time": "2021-07-12T19:42:44.211635Z",
     "start_time": "2021-07-12T19:42:42.863860Z"
    }
   },
   "outputs": [
    {
     "name": "stdin",
     "output_type": "stream",
     "text": [
      "Digite um número:  3\n"
     ]
    },
    {
     "name": "stdout",
     "output_type": "stream",
     "text": [
      "1\n",
      "2\n",
      "3\n"
     ]
    }
   ],
   "source": [
    "num=int(input('Digite um número: '))\n",
    "i=0\n",
    "while i<num:\n",
    "    i=i+1\n",
    "    print(i)"
   ]
  },
  {
   "cell_type": "markdown",
   "metadata": {},
   "source": [
    "## Exercicio2"
   ]
  },
  {
   "cell_type": "code",
   "execution_count": 3,
   "metadata": {
    "ExecuteTime": {
     "end_time": "2021-07-12T18:52:38.919679Z",
     "start_time": "2021-07-12T18:52:37.238921Z"
    }
   },
   "outputs": [
    {
     "name": "stdin",
     "output_type": "stream",
     "text": [
      "Digite um número:  3\n"
     ]
    },
    {
     "name": "stdout",
     "output_type": "stream",
     "text": [
      "6\n"
     ]
    }
   ],
   "source": [
    "n=int(input('Digite um número: '))\n",
    "i=1\n",
    "fat=1\n",
    "while i<=n:\n",
    "    fat=fat*i\n",
    "    i=i+1\n",
    "print(fat)"
   ]
  },
  {
   "cell_type": "markdown",
   "metadata": {},
   "source": [
    "## Exercicio3"
   ]
  },
  {
   "cell_type": "code",
   "execution_count": 4,
   "metadata": {
    "ExecuteTime": {
     "end_time": "2021-07-12T19:05:42.107670Z",
     "start_time": "2021-07-12T19:05:40.779720Z"
    }
   },
   "outputs": [
    {
     "name": "stdin",
     "output_type": "stream",
     "text": [
      "Digite um número:  2\n"
     ]
    },
    {
     "name": "stdout",
     "output_type": "stream",
     "text": [
      "3\n"
     ]
    }
   ],
   "source": [
    "n=int(input('Digite um número: '))\n",
    "i=1\n",
    "soma=0\n",
    "while i<=n:\n",
    "    soma=soma+i\n",
    "    i=i+1\n",
    "print(soma)"
   ]
  },
  {
   "cell_type": "markdown",
   "metadata": {
    "ExecuteTime": {
     "end_time": "2021-07-12T19:03:40.500337Z",
     "start_time": "2021-07-12T19:03:39.476605Z"
    }
   },
   "source": [
    "## Exercicio4"
   ]
  },
  {
   "cell_type": "code",
   "execution_count": 5,
   "metadata": {
    "ExecuteTime": {
     "end_time": "2021-07-12T19:08:57.873994Z",
     "start_time": "2021-07-12T19:08:57.867160Z"
    }
   },
   "outputs": [
    {
     "name": "stdout",
     "output_type": "stream",
     "text": [
      "9x1=9\n",
      "9x2=18\n",
      "9x3=27\n",
      "9x4=36\n",
      "9x5=45\n",
      "9x6=54\n",
      "9x7=63\n",
      "9x8=72\n",
      "9x9=81\n",
      "9x10=90\n"
     ]
    }
   ],
   "source": [
    "i=1\n",
    "while i<=10:\n",
    "    tab=9*i\n",
    "    i=i+1\n",
    "    print(f'9x{i-1}={tab}')"
   ]
  },
  {
   "cell_type": "markdown",
   "metadata": {},
   "source": [
    "## Exercicio5"
   ]
  },
  {
   "cell_type": "code",
   "execution_count": 7,
   "metadata": {
    "ExecuteTime": {
     "end_time": "2021-07-12T19:20:19.959121Z",
     "start_time": "2021-07-12T19:20:18.978577Z"
    }
   },
   "outputs": [
    {
     "name": "stdin",
     "output_type": "stream",
     "text": [
      "Digite um número:  9\n"
     ]
    },
    {
     "name": "stdout",
     "output_type": "stream",
     "text": [
      "Divisor: 1\n",
      "Divisor: 3\n",
      "Total de divisores: 2\n"
     ]
    }
   ],
   "source": [
    "n=int(input('Digite um número: '))\n",
    "i=1\n",
    "soma=0\n",
    "while i<n:\n",
    "    if n%i==0:\n",
    "        print(f'Divisor: {i}')\n",
    "        soma=soma+1\n",
    "    i=i+1\n",
    "print(f'Total de divisores: {soma}')"
   ]
  },
  {
   "cell_type": "markdown",
   "metadata": {},
   "source": [
    "## Exercicio6"
   ]
  },
  {
   "cell_type": "code",
   "execution_count": 9,
   "metadata": {
    "ExecuteTime": {
     "end_time": "2021-07-12T19:25:12.609154Z",
     "start_time": "2021-07-12T19:25:06.727444Z"
    }
   },
   "outputs": [
    {
     "name": "stdin",
     "output_type": "stream",
     "text": [
      "Digite um número:  6\n",
      "Digite um número:  6\n",
      "Digite um número:  5\n",
      "Digite um número:  0\n"
     ]
    },
    {
     "name": "stdout",
     "output_type": "stream",
     "text": [
      "17\n"
     ]
    }
   ],
   "source": [
    "n=10000000\n",
    "i=0\n",
    "while n!=0:\n",
    "    n=int(input('Digite um número: '))\n",
    "    i=i+n\n",
    "print(i)"
   ]
  },
  {
   "cell_type": "markdown",
   "metadata": {},
   "source": [
    "## Exercicio7"
   ]
  },
  {
   "cell_type": "code",
   "execution_count": 11,
   "metadata": {
    "ExecuteTime": {
     "end_time": "2021-07-12T19:39:53.459697Z",
     "start_time": "2021-07-12T19:39:48.130655Z"
    }
   },
   "outputs": [
    {
     "name": "stdout",
     "output_type": "stream",
     "text": [
      "6\n"
     ]
    },
    {
     "name": "stdin",
     "output_type": "stream",
     "text": [
      "Adivinhe o número:  5\n",
      "Sua resposta está errada, tente novamente:  4\n"
     ]
    },
    {
     "name": "stdout",
     "output_type": "stream",
     "text": [
      "6\n"
     ]
    },
    {
     "name": "stdin",
     "output_type": "stream",
     "text": [
      "Sua resposta está errada, tente novamente:  2\n"
     ]
    },
    {
     "name": "stdout",
     "output_type": "stream",
     "text": [
      "6\n"
     ]
    },
    {
     "name": "stdin",
     "output_type": "stream",
     "text": [
      "Sua resposta está errada, tente novamente:  6\n"
     ]
    },
    {
     "name": "stdout",
     "output_type": "stream",
     "text": [
      "6\n",
      "Parabéns você acertou!!\n"
     ]
    }
   ],
   "source": [
    "import random\n",
    "num=random.randint(1,200)\n",
    "i=int(input('Adivinhe o número: '))\n",
    "while num!=i:\n",
    "    i=int(input('Sua resposta está errada, tente novamente: '))\n",
    "    print(num)\n",
    "print('Parabéns você acertou!!')"
   ]
  },
  {
   "cell_type": "markdown",
   "metadata": {},
   "source": [
    "## Exercicio8"
   ]
  },
  {
   "cell_type": "code",
   "execution_count": 17,
   "metadata": {
    "ExecuteTime": {
     "end_time": "2021-07-12T20:26:42.650089Z",
     "start_time": "2021-07-12T20:26:37.608716Z"
    }
   },
   "outputs": [
    {
     "name": "stdin",
     "output_type": "stream",
     "text": [
      "Digite sua idade:  25\n",
      "Digite seu salario: R$  1500\n",
      "Digite seu sexo:  outros\n"
     ]
    },
    {
     "name": "stdout",
     "output_type": "stream",
     "text": [
      "Valor Inválido\n"
     ]
    },
    {
     "name": "stdin",
     "output_type": "stream",
     "text": [
      "Digite seu sexo:  outro\n"
     ]
    }
   ],
   "source": [
    "idade=int(input('Digite sua idade: '))\n",
    "while idade<0 or idade>150:\n",
    "    print('Valor Inválido')\n",
    "    idade=int(input('Digite sua idade: '))\n",
    "salario=int(input('Digite seu salario: R$ '))\n",
    "while salario<0:\n",
    "    print('Valor Inválido')\n",
    "    salario=int(input('Digite seu salario: R$ '))\n",
    "sexo=(input('Digite seu sexo: '))\n",
    "while sexo.upper()!='F' and sexo.upper()!='M' and sexo.upper()!='OUTRO':\n",
    "    print('Valor Inválido')\n",
    "    sexo=(input('Digite seu sexo: '))\n"
   ]
  },
  {
   "cell_type": "markdown",
   "metadata": {},
   "source": [
    "## Exercicio 9"
   ]
  },
  {
   "cell_type": "code",
   "execution_count": 18,
   "metadata": {
    "ExecuteTime": {
     "end_time": "2021-07-12T20:38:57.995530Z",
     "start_time": "2021-07-12T20:38:57.989676Z"
    }
   },
   "outputs": [
    {
     "name": "stdout",
     "output_type": "stream",
     "text": [
      "7.485470860550343\n"
     ]
    }
   ],
   "source": [
    "cont=0\n",
    "soma=0\n",
    "var=1\n",
    "while cont<1000:\n",
    "    soma=soma+(1/var)\n",
    "    var=var+1\n",
    "    cont=cont+1\n",
    "print(soma)"
   ]
  },
  {
   "cell_type": "markdown",
   "metadata": {},
   "source": [
    "## Exercicio 10"
   ]
  },
  {
   "cell_type": "code",
   "execution_count": 19,
   "metadata": {
    "ExecuteTime": {
     "end_time": "2021-07-12T23:42:29.235057Z",
     "start_time": "2021-07-12T23:42:29.230177Z"
    }
   },
   "outputs": [
    {
     "name": "stdout",
     "output_type": "stream",
     "text": [
      "1.7182818284590455\n"
     ]
    }
   ],
   "source": [
    "cont=1\n",
    "soma=0\n",
    "var=1\n",
    "while cont<=1000:\n",
    "    var=var*cont\n",
    "    soma=soma+(1/var)\n",
    "    cont=cont+1\n",
    "    \n",
    "print(soma)"
   ]
  }
 ],
 "metadata": {
  "kernelspec": {
   "display_name": "Python 3",
   "language": "python",
   "name": "python3"
  },
  "language_info": {
   "codemirror_mode": {
    "name": "ipython",
    "version": 3
   },
   "file_extension": ".py",
   "mimetype": "text/x-python",
   "name": "python",
   "nbconvert_exporter": "python",
   "pygments_lexer": "ipython3",
   "version": "3.7.6"
  },
  "toc": {
   "base_numbering": 1,
   "nav_menu": {},
   "number_sections": true,
   "sideBar": true,
   "skip_h1_title": false,
   "title_cell": "Table of Contents",
   "title_sidebar": "Contents",
   "toc_cell": false,
   "toc_position": {},
   "toc_section_display": true,
   "toc_window_display": false
  },
  "varInspector": {
   "cols": {
    "lenName": 16,
    "lenType": 16,
    "lenVar": 40
   },
   "kernels_config": {
    "python": {
     "delete_cmd_postfix": "",
     "delete_cmd_prefix": "del ",
     "library": "var_list.py",
     "varRefreshCmd": "print(var_dic_list())"
    },
    "r": {
     "delete_cmd_postfix": ") ",
     "delete_cmd_prefix": "rm(",
     "library": "var_list.r",
     "varRefreshCmd": "cat(var_dic_list()) "
    }
   },
   "types_to_exclude": [
    "module",
    "function",
    "builtin_function_or_method",
    "instance",
    "_Feature"
   ],
   "window_display": false
  }
 },
 "nbformat": 4,
 "nbformat_minor": 5
}

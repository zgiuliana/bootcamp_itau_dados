{
 "cells": [
  {
   "cell_type": "markdown",
   "metadata": {},
   "source": [
    "## Exercicio 1\n",
    "Crie uma tupla com todos os pares entre 0 e 100 (inclusive)."
   ]
  },
  {
   "cell_type": "code",
   "execution_count": null,
   "metadata": {},
   "outputs": [],
   "source": []
  },
  {
   "cell_type": "code",
   "execution_count": null,
   "metadata": {},
   "outputs": [],
   "source": []
  },
  {
   "cell_type": "code",
   "execution_count": 3,
   "metadata": {},
   "outputs": [
    {
     "name": "stdout",
     "output_type": "stream",
     "text": [
      "(0, 2, 4, 6, 8, 10, 12, 14, 16, 18, 20, 22, 24, 26, 28, 30, 32, 34, 36, 38, 40, 42, 44, 46, 48, 50, 52, 54, 56, 58, 60, 62, 64, 66, 68, 70, 72, 74, 76, 78, 80, 82, 84, 86, 88, 90, 92, 94, 96, 98, 100)\n"
     ]
    }
   ],
   "source": [
    "lista=list(range(101))\n",
    "tupla = tuple([element for element in lista if element%2==0])\n",
    "print(tupla)\n"
   ]
  },
  {
   "cell_type": "markdown",
   "metadata": {},
   "source": [
    "## Exercicio 2\n",
    "Crie uma tupla com todos os números de 0 a 9. Explore a sintaxe: use e depois não use parênteses."
   ]
  },
  {
   "cell_type": "code",
   "execution_count": 2,
   "metadata": {},
   "outputs": [
    {
     "name": "stdout",
     "output_type": "stream",
     "text": [
      "(0, 1, 2, 3, 4, 5, 6, 7, 8, 9)\n"
     ]
    }
   ],
   "source": [
    "lista=list(range(10))\n",
    "tupla = tuple(lista)\n",
    "print(tupla)\n"
   ]
  },
  {
   "cell_type": "markdown",
   "metadata": {},
   "source": [
    "## Exercicio 3\n",
    "Crie uma função que recebe uma lista de números e devolve, nesta ordem, o mínimo, a média, o desvio padrão e o máximo.\n",
    "\n",
    "Dica: Use a biblioteca statistics (import statistics) para calcular o desvio padrão: desvio = statistics.stdev(lista)"
   ]
  },
  {
   "cell_type": "code",
   "execution_count": null,
   "metadata": {},
   "outputs": [],
   "source": [
    "def calc(lista):\n",
    "    import statistics\n",
    "    print(f'O menor valor da lista é: {min(lista)}. \\nA média dos valores da lista é: {sum(lista)/len(lista):.2f}. \\nO desvio padrão dos valores da lista é {statistics.stdev(lista):.2f}. \\nO maior valor da lista é: {max(lista)}.')\n",
    "lista=[1,2,3,4,5]\n",
    "calc(lista)"
   ]
  },
  {
   "cell_type": "markdown",
   "metadata": {},
   "source": [
    "## Exercicio 4\n",
    "Crie uma função que recebe uma lista e retorna True se todos os seus elementos forem numéricos (int, float ou string contendo um int ou float) ou False do contrário. A função deve também retornar a lista tratada: transformar todas as entradas não numéricas em numéricas ou, no melhor caso, devolver a lista apenas."
   ]
  },
  {
   "cell_type": "code",
   "execution_count": 4,
   "metadata": {},
   "outputs": [
    {
     "name": "stdout",
     "output_type": "stream",
     "text": [
      "(False, [1.0, 2.0, 3.5, 3.0])\n",
      "(True, [1.0, 2.0, 3.5, 3.0, 4.0])\n"
     ]
    }
   ],
   "source": [
    "def verifica_lista(lista):\n",
    "    numeros=[]\n",
    "    is_all_number = True \n",
    "    for elemento in lista:\n",
    "        if (type(elemento)==int or type(elemento)==float or type(elemento)==str):\n",
    "            try:\n",
    "                numero=float(elemento)\n",
    "                numeros.append(numero)\n",
    "            except:\n",
    "                is_all_number = False\n",
    "        else:\n",
    "            is_all_number = False\n",
    "    return is_all_number, numeros\n",
    "lista1=[1,2,3.5,'3','a']\n",
    "print(verifica_lista(lista1))\n",
    "lista2=[1,2,3.5,'3','4']\n",
    "print(verifica_lista(lista2))"
   ]
  },
  {
   "cell_type": "markdown",
   "metadata": {},
   "source": [
    "## Exercicio 5\n",
    "Faça uma função que recebe valores a, b e c, resolve a equação quadrática a*x**2 + b*x + c = 0 e retorna:\n",
    "\n",
    "a. o valor de Δ onde Δ = b**2- 4*a*c\n",
    "\n",
    "b. uma tupla com o valor do ponto de mínimo ou máximo: x_m = -b/(2*a) e y_m = -Δ/(4*a);\n",
    "\n",
    "c. uma lista contendo as raízes (a lista pode ser vazia, caso Δ<0; pode conter apenas um elemento, caso Δ = 0; ou conter duas raízes, caso Δ> 0)."
   ]
  },
  {
   "cell_type": "code",
   "execution_count": 14,
   "metadata": {},
   "outputs": [
    {
     "name": "stdout",
     "output_type": "stream",
     "text": [
      "Letra a) Δ=49;\n",
      "Letra b) (-0.75, -6.12);\n",
      "Letra c) [1.0, -2.5].\n"
     ]
    }
   ],
   "source": [
    "def bascara(a,b,c):\n",
    "    import math\n",
    "    delta=(b**2)-4*a*c\n",
    "    x_m=round((-b/(2*a)),2)\n",
    "    y_m=round((-delta/(4*a)),2)\n",
    "    lista=[]\n",
    "    if delta==0:\n",
    "        x=round(((-b)/2*a),2)\n",
    "        lista.append(x)\n",
    "    else:\n",
    "        x1=round(((-b+(math.sqrt(delta)))/(2*a)),2)\n",
    "        x2=round(((-b-(math.sqrt(delta)))/(2*a)),2)\n",
    "        lista=[x1,x2]\n",
    "    return print(f'Letra a) Δ={delta};\\nLetra b) {x_m,y_m};\\nLetra c) {lista}.')\n",
    "a=2\n",
    "b=3\n",
    "c=-5\n",
    "bascara(a,b,c)"
   ]
  },
  {
   "cell_type": "markdown",
   "metadata": {},
   "source": [
    "## Exercicio 6\n",
    "Crie um dicionário cujas chaves são os meses do ano e os valores são a duração (em dias) de cada mês."
   ]
  },
  {
   "cell_type": "code",
   "execution_count": 5,
   "metadata": {},
   "outputs": [],
   "source": [
    "meses={\n",
    "       'Janeiro':31,\n",
    "       'Fevereiro':28,\n",
    "       'Março':31,\n",
    "       'Abril':30,\n",
    "       'Maio':31,\n",
    "       'Junho':30,\n",
    "       'Julho':31,\n",
    "       'Agosto':31,\n",
    "       'Setembro':30,\n",
    "       'Outubro':31,\n",
    "       'Novembro':30,\n",
    "       'Dezembro':31\n",
    "      }"
   ]
  },
  {
   "cell_type": "markdown",
   "metadata": {},
   "source": [
    "## Exercicio 7\n",
    "mprima as chaves seguidas dos seus valores para dicionário criado no exercício anterior.\n",
    "\n",
    "Exemplo:\n",
    "\n",
    "Janeiro - 31\n",
    "\n",
    "Fevereiro - 28\n",
    "\n",
    "Março - 31\n",
    "\n",
    "Etc..."
   ]
  },
  {
   "cell_type": "code",
   "execution_count": 7,
   "metadata": {},
   "outputs": [
    {
     "name": "stdout",
     "output_type": "stream",
     "text": [
      "Janeiro - 31\n",
      "Fevereiro - 28\n",
      "Março - 31\n",
      "Abril - 30\n",
      "Maio - 31\n",
      "Junho - 30\n",
      "Julho - 31\n",
      "Agosto - 31\n",
      "Setembro - 30\n",
      "Outubro - 31\n",
      "Novembro - 30\n",
      "Dezembro - 31\n"
     ]
    }
   ],
   "source": [
    "for chave in meses:\n",
    "    valor = meses[chave]\n",
    "    \n",
    "    print(chave, '-', valor)"
   ]
  },
  {
   "cell_type": "markdown",
   "metadata": {},
   "source": [
    "## Exercicio 8\n",
    "Crie um dicionário para as seguintes relações:\n",
    "\n",
    "‘Banana’: 3.0\n",
    "\n",
    "‘Cebola’: 4.0\n",
    "\n",
    "‘Maçã’: 5.7\n",
    "\n",
    "‘Abacaxi’: 8.0"
   ]
  },
  {
   "cell_type": "code",
   "execution_count": 9,
   "metadata": {},
   "outputs": [
    {
     "data": {
      "text/plain": [
       "{'Banana': 3.0, 'Cebola': 4.0, 'Maça': 5.7, 'Abacaxi': 8.0}"
      ]
     },
     "execution_count": 9,
     "metadata": {},
     "output_type": "execute_result"
    }
   ],
   "source": [
    "frutas={\n",
    "        'Banana':3.0,\n",
    "        'Cebola':4.0,\n",
    "        'Maça':5.7,\n",
    "        'Abacaxi':8.0\n",
    "        }"
   ]
  },
  {
   "cell_type": "markdown",
   "metadata": {},
   "source": [
    "## Exercicio 9\n",
    "Altere o valor da chave ‘Maçã’ no dicionário do exercício anterior para 8.6."
   ]
  },
  {
   "cell_type": "code",
   "execution_count": 10,
   "metadata": {},
   "outputs": [
    {
     "data": {
      "text/plain": [
       "{'Banana': 3.0, 'Cebola': 4.0, 'Maça': 8.6, 'Abacaxi': 8.0}"
      ]
     },
     "execution_count": 10,
     "metadata": {},
     "output_type": "execute_result"
    }
   ],
   "source": [
    "frutas['Maça']=8.6\n",
    "frutas"
   ]
  },
  {
   "cell_type": "markdown",
   "metadata": {},
   "source": [
    "## Exercicio 10\n",
    "Crie uma função que receba os valores do nome, idade e e-mail de uma pessoa e guarde-os em um dicionário com as chaves ‘nome’, ‘idade’ e ‘email’, respectivamente. Sua função deve retornar esse dicionário."
   ]
  },
  {
   "cell_type": "code",
   "execution_count": 12,
   "metadata": {},
   "outputs": [
    {
     "name": "stdin",
     "output_type": "stream",
     "text": [
      "Digite seu nome:  Giuliana\n",
      "Digite sua idade:  25\n",
      "Digite seu email zainottegiuliana\n"
     ]
    },
    {
     "data": {
      "text/plain": [
       "{'nome': 'Giuliana', 'idade': '25', 'email': 'zainottegiuliana'}"
      ]
     },
     "execution_count": 12,
     "metadata": {},
     "output_type": "execute_result"
    }
   ],
   "source": [
    "def dicionario(nome,idade,email):\n",
    "    cadastro={\n",
    "        'nome':nome,\n",
    "        'idade':idade,\n",
    "        'email':email\n",
    "    }\n",
    "    return cadastro\n",
    "    \n",
    "nome=input('Digite seu nome: ')\n",
    "idade=input('Digite sua idade: ')\n",
    "email=input('Digite seu email')\n",
    "dicionario(nome,idade,email)"
   ]
  },
  {
   "cell_type": "markdown",
   "metadata": {},
   "source": [
    "## Exercicio 11\n",
    "Como você armazenaria a seguinte tabela usando apenas dicionários? Tente imprimir o valor correspondente da linha Pedro x Coluna B.\n",
    "\n",
    "Coluna A\tColuna B\n",
    "Maria\t1\t5\n",
    "Pedro\t0.5\t3\n",
    "João\t3.2\t1\n"
   ]
  },
  {
   "cell_type": "code",
   "execution_count": 66,
   "metadata": {},
   "outputs": [
    {
     "data": {
      "text/plain": [
       "3"
      ]
     },
     "execution_count": 66,
     "metadata": {},
     "output_type": "execute_result"
    }
   ],
   "source": [
    "nomes={\n",
    "    'Maria':(1,5),\n",
    "    'Pedro':(0.5,3),\n",
    "    'João':(3.2,1)\n",
    "    }\n",
    "nomes['Pedro'][-1]\n"
   ]
  },
  {
   "cell_type": "markdown",
   "metadata": {},
   "source": [
    "## Exercicio 12\n",
    "Faça uma função que receba uma lista e conte quantas vezes cada elemento apareceu nessa lista. Essa função deverá guardar os dados em um dicionário no qual as chaves são os elementos da lista e os valores são a contagem de quantas vezes esse elemento aparece."
   ]
  },
  {
   "cell_type": "code",
   "execution_count": 20,
   "metadata": {},
   "outputs": [
    {
     "name": "stdout",
     "output_type": "stream",
     "text": [
      "{1: 2, 2: 2, 3: 2, 4: 2, 5: 3, 6: 1}\n"
     ]
    }
   ],
   "source": [
    "def dic_lista(lista):\n",
    "    dicionario={}\n",
    "    for element in dict.fromkeys(lista): #usa a função fromkeys para pegar apenas elementos distintos da lista\n",
    "        dicionario[element]=lista.count(element)\n",
    "    print(dicionario)\n",
    "lista=[1,2,3,4,5,6,1,5,3,2,4,5]\n",
    "dic_lista(lista)"
   ]
  },
  {
   "cell_type": "markdown",
   "metadata": {},
   "source": [
    "## Exercicio 13\n",
    "Faça um programa que fique pedindo uma resposta do usuário, entre 1, 2 e 3. Se o usuário digitar 1, o programa deve cadastrar um novo usuário nos moldes do exercício 10 e guardar esse cadastro num dicionário cuja chave será o CPF da pessoa. Quando o usuário digitar 2, o programa deve imprimir os usuários cadastrados; e se o usuário digitar 3, o programa deve fechar.\n",
    "\n",
    "Exemplo do dicionário:"
   ]
  },
  {
   "cell_type": "code",
   "execution_count": 25,
   "metadata": {},
   "outputs": [
    {
     "name": "stdin",
     "output_type": "stream",
     "text": [
      "Escolha uma opção:\n",
      " 1 - Cadastrar novo usuário \n",
      " 2 - Imprimir usuários cadastrados\n",
      " 3 - Sair\n",
      " 3\n"
     ]
    }
   ],
   "source": [
    "opcao=int(input('Escolha uma opção:\\n 1 - Cadastrar novo usuário \\n 2 - Imprimir usuários cadastrados\\n 3 - Sair\\n'))\n",
    "dicionario={}\n",
    "dicionario2={}\n",
    "while opcao>3 or opcao<1:\n",
    "    opcao=int(input('Opção inválida. Escolha uma opção:\\n 1 - Cadastrar novo usuário \\n 2 - Imprimir usuários cadastrados\\n 3 - Sair\\n'))\n",
    "while opcao>=1 and opcao<3:\n",
    "    while opcao==1:\n",
    "        cpf=input('Digite o CPF: ')\n",
    "        nome=input('Digite o nome: ')\n",
    "        idade=input('Digite a idade:')\n",
    "        email=input('Digite o email: ')\n",
    "        dicionario2={'nome':nome,'idade':idade,'email':email}\n",
    "        dicionario[cpf]=dicionario2\n",
    "        opcao=int(input(' Escolha uma opção novamente:\\n 1 - Cadastrar novo usuário \\n 2 - Imprimir usuários cadastrados\\n 3 - Sair\\n'))\n",
    "    while opcao==2:\n",
    "        print (dicionario)\n",
    "        opcao=int(input(' Escolha uma opção novamente:\\n 1 - Cadastrar novo usuário \\n 2 - Imprimir usuários cadastrados\\n 3 - Sair\\n'))\n",
    "\n",
    "    "
   ]
  },
  {
   "cell_type": "markdown",
   "metadata": {},
   "source": [
    "## Exercicio 14\n",
    "Implemente um sistema de busca para o programa do exercício 11. Isto é, se o usuário digitar 4, procure um determinado usuário pelo seu CPF."
   ]
  },
  {
   "cell_type": "code",
   "execution_count": 26,
   "metadata": {},
   "outputs": [
    {
     "name": "stdin",
     "output_type": "stream",
     "text": [
      "Escolha uma opção:\n",
      " 1 - Cadastrar novo usuário \n",
      " 2 - Imprimir usuários cadastrados\n",
      " 3 - Sair\n",
      " 3\n"
     ]
    }
   ],
   "source": [
    "opcao=int(input('Escolha uma opção:\\n 1 - Cadastrar novo usuário \\n 2 - Imprimir usuários cadastrados\\n 3 - Sair\\n'))\n",
    "dicionario={}\n",
    "dicionario2={}\n",
    "while opcao>4 or opcao<1:\n",
    "    opcao=int(input('Opção inválida. Escolha uma opção:\\n 1 - Cadastrar novo usuário \\n 2 - Imprimir usuários cadastrados\\n 3 - Sair\\n 4 - Consultar CPF\\n'))\n",
    "while opcao>=1 and opcao<=4 and opcao!=3:\n",
    "    while opcao==1:\n",
    "        cpf=input('Digite o CPF: ')\n",
    "        nome=input('Digite o nome: ')\n",
    "        idade=input('Digite a idade:')\n",
    "        email=input('Digite o email: ')\n",
    "        dicionario2={'nome':nome,'idade':idade,'email':email}\n",
    "        dicionario[cpf]=dicionario2\n",
    "        opcao=int(input(' Escolha uma opção novamente:\\n 1 - Cadastrar novo usuário \\n 2 - Imprimir usuários cadastrados\\n 3 - Sair\\n 4 - Consultar CPF\\n'))\n",
    "    while opcao==2:\n",
    "        print (dicionario)\n",
    "        opcao=int(input(' Escolha uma opção novamente:\\n 1 - Cadastrar novo usuário \\n 2 - Imprimir usuários cadastrados\\n 3 - Sair\\n 4 - Consultar CPF\\n'))\n",
    "    while opcao==4:\n",
    "        cpf=input('Digite o CPF: ')\n",
    "        print([dicionario[chave] for chave in dicionario if chave==cpf])\n",
    "        opcao=int(input(' Escolha uma opção novamente:\\n 1 - Cadastrar novo usuário \\n 2 - Imprimir usuários cadastrados\\n 3 - Sair\\n 4 - Consultar CPF\\n'))"
   ]
  },
  {
   "cell_type": "markdown",
   "metadata": {},
   "source": [
    "## Exercicio 15\n",
    "Faça o análogo do exercício 12 para strings: conte quantas vezes cada caracter apareceu nessa string e retorne um dicionário com essa contagem."
   ]
  },
  {
   "cell_type": "code",
   "execution_count": null,
   "metadata": {},
   "outputs": [],
   "source": [
    "def dic_lista(lista):\n",
    "    dicionario={}\n",
    "    for element in dict.fromkeys(lista): #usa a função fromkeys para pegar apenas elementos distintos da lista\n",
    "        dicionario[element]=lista.count(element)\n",
    "    print(dicionario)\n",
    "palavra=input('Digite uma plavra: ')\n",
    "lista=list(palavra)\n",
    "dic_lista(lista)"
   ]
  }
 ],
 "metadata": {
  "kernelspec": {
   "display_name": "Python 3",
   "language": "python",
   "name": "python3"
  },
  "language_info": {
   "codemirror_mode": {
    "name": "ipython",
    "version": 3
   },
   "file_extension": ".py",
   "mimetype": "text/x-python",
   "name": "python",
   "nbconvert_exporter": "python",
   "pygments_lexer": "ipython3",
   "version": "3.7.6"
  }
 },
 "nbformat": 4,
 "nbformat_minor": 5
}

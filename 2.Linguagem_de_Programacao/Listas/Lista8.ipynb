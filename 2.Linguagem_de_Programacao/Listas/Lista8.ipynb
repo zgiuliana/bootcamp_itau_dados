{
 "cells": [
  {
   "cell_type": "markdown",
   "metadata": {},
   "source": [
    "### Exercicio1\n",
    "\n",
    "Crie uma classe Bola cujos atributos são cor e raio. Crie um método que imprime a cor da bola. Crie um método para calcular a área dessa bola. Crie um método para calcular o volume da bola. Crie um objeto dessa classe e calcule a área e o volume, imprimindo ambos em seguida.\n",
    "\n",
    "Obs.:\n",
    "\n",
    "Área da esfera = 4*3.14*r*r;\n",
    "\n",
    "Volume da esfera = 4*3.14*r*r*r/3"
   ]
  },
  {
   "cell_type": "code",
   "execution_count": 1,
   "metadata": {},
   "outputs": [
    {
     "name": "stdout",
     "output_type": "stream",
     "text": [
      "A cor da Esfera é Verde, o raio é 5, a área da Esfera é 314.16 e o Volume da esfera é 523.60\n"
     ]
    }
   ],
   "source": [
    "# Cria a Classe\n",
    "from math import pi\n",
    "class Bola:\n",
    "    def __init__(self,cor,raio):\n",
    "        self.cor=cor\n",
    "        self.raio=raio\n",
    "        \n",
    "    def AreaBola(self):\n",
    "        self.area=4*pi*(self.raio)**2\n",
    "        return self.area\n",
    "    def VolumeBola(self):\n",
    "        volume=self.area*(self.raio/3)\n",
    "        return volume\n",
    "        \n",
    "        \n",
    "# Cria o objeto e imprime        \n",
    "bola1=Bola('Verde',5)\n",
    "print(f'A cor da Esfera é {bola1.cor}, o raio é {bola1.raio}, a área da Esfera é {bola1.AreaBola():.2f} e o Volume da esfera é {bola1.VolumeBola():.2f}')"
   ]
  },
  {
   "cell_type": "markdown",
   "metadata": {},
   "source": [
    "### Exercicio2\n",
    "Crie uma classe Retângulo cujos atributos são lado_a e lado_b. Crie um método para calcular a área desse retângulo. Crie um objeto dessa classe e calcule a área e a imprima em seguida."
   ]
  },
  {
   "cell_type": "code",
   "execution_count": 2,
   "metadata": {},
   "outputs": [
    {
     "name": "stdout",
     "output_type": "stream",
     "text": [
      "A area do retângulo, de lados 5 e 4, é 20.00\n"
     ]
    }
   ],
   "source": [
    "# Cria a Classe\n",
    "class Retangulo:\n",
    "    def __init__(self,lado_a,lado_b):\n",
    "        self.lado_a=lado_a\n",
    "        self.lado_b=lado_b\n",
    "        \n",
    "    def AreaRet(self):\n",
    "        return self.lado_a*self.lado_b\n",
    "\n",
    "# Cria o objeto e imprime       \n",
    "retangulo=Retangulo(5,4)\n",
    "print(f'A area do retângulo, de lados {retangulo.lado_a} e {retangulo.lado_b}, é {retangulo.AreaRet():.2f}')"
   ]
  },
  {
   "cell_type": "markdown",
   "metadata": {},
   "source": [
    "### Exercicio3\n",
    "Crie uma classe Funcionario cujos atributos são nome e e-mail. Guarde as horas trabalhadas em um dicionário cujas chaves são o mês em questão e, em outro dicionário, guarde o salário por hora relativo ao mês em questão. Crie um método que retorna o salário mensal do funcionário."
   ]
  },
  {
   "cell_type": "code",
   "execution_count": 3,
   "metadata": {},
   "outputs": [
    {
     "data": {
      "text/plain": [
       "525.0"
      ]
     },
     "execution_count": 3,
     "metadata": {},
     "output_type": "execute_result"
    }
   ],
   "source": [
    "class Funcionario:\n",
    "    def __init__(self,nome,email):\n",
    "        self.nome=nome\n",
    "        self.email=email\n",
    "        self.horas=0\n",
    "        self.mes=''\n",
    "        self.sal_hora=0\n",
    "    def salario(self,mes,horas,sal_hora):\n",
    "        self.horas=horas\n",
    "        self.mes=mes\n",
    "        self.sal_hora=sal_hora\n",
    "        self.dic1={self.mes:self.horas}\n",
    "        self.dic2={self.mes:self.sal_hora}\n",
    "        return self.horas*self.sal_hora\n",
    "funcionario1=Funcionario('Giuliana','zainottegiuliana')\n",
    "funcionario1.salario('Julho',150,3.5)\n"
   ]
  },
  {
   "cell_type": "markdown",
   "metadata": {},
   "source": [
    "### Exercicio4\n",
    "Crie uma classe Televisor cujos atributos são:\n",
    "\n",
    "a. fabricante;\n",
    "\n",
    "b. modelo;\n",
    "\n",
    "c. canal atual;\n",
    "\n",
    "d. lista de canais; e\n",
    "\n",
    "e. volume.\n",
    "\n",
    "Faça métodos para aumentar/diminuir volume, trocar o canal e sintonizar um novo canal, que adiciona um novo canal à lista de canais (somente se esse canal não estiver nessa lista). No atributo lista de canais, devem estar armazenados todos os canais já sintonizados dessa TV.\n",
    "\n",
    "Obs.: O volume não pode ser menor que zero e maior que cem; só se pode trocar para um canal que já esteja na lista de canais."
   ]
  },
  {
   "cell_type": "code",
   "execution_count": 22,
   "metadata": {},
   "outputs": [
    {
     "data": {
      "text/plain": [
       "0"
      ]
     },
     "execution_count": 22,
     "metadata": {},
     "output_type": "execute_result"
    }
   ],
   "source": [
    "lista=[]\n",
    "len(lista)"
   ]
  },
  {
   "cell_type": "code",
   "execution_count": 1,
   "metadata": {},
   "outputs": [],
   "source": [
    "class Televisor:\n",
    "    def __init__(self,fabricante, modelo):\n",
    "        self.fabricante=fabricante\n",
    "        self.modelo=modelo\n",
    "        self.lista=[]\n",
    "        self.volume=0\n",
    "        self.cnl=''\n",
    "        self.cnl_atual=''\n",
    "    def sintoniza_canal(self,nome):\n",
    "        if len([element for element in self.lista if element==nome])>0:\n",
    "            print('Canal já cadastrado')\n",
    "        else:\n",
    "            self.lista.append(nome)\n",
    "    def troca_canal(self):\n",
    "        cnl=input('Qual canal você gostaria?')\n",
    "        lista=[element for element in self.lista if element==cnl]\n",
    "        if len(lista)>0:\n",
    "            print('Trocando de Canal\\nOK')\n",
    "        else:\n",
    "            print(f'Canal não disponível, os canais disponíveis são: {self.lista}')\n",
    "    def troca_volume(self):\n",
    "        vol=int(input('Digite um volume: '))\n",
    "        if vol>=0 and vol<=100:\n",
    "            self.volume=vol\n",
    "            print('Troca de Volume OK')\n",
    "        else:\n",
    "            print('Volume Inválido')\n",
    "            \n",
    "televisor1=Televisor('Sony','M200X')\n"
   ]
  },
  {
   "cell_type": "code",
   "execution_count": 2,
   "metadata": {},
   "outputs": [
    {
     "name": "stdin",
     "output_type": "stream",
     "text": [
      "Qual canal você gostaria? Globo\n"
     ]
    },
    {
     "name": "stdout",
     "output_type": "stream",
     "text": [
      "Trocando de Canal\n",
      "OK\n"
     ]
    }
   ],
   "source": [
    "televisor1.fabricante\n",
    "televisor1.modelo\n",
    "televisor1.sintoniza_canal('Globo')\n",
    "televisor1.lista\n",
    "televisor1.troca_canal()\n"
   ]
  },
  {
   "cell_type": "code",
   "execution_count": 3,
   "metadata": {},
   "outputs": [
    {
     "name": "stdin",
     "output_type": "stream",
     "text": [
      "Digite um volume:  15\n"
     ]
    },
    {
     "name": "stdout",
     "output_type": "stream",
     "text": [
      "Troca de Volume OK\n"
     ]
    }
   ],
   "source": [
    "televisor1.troca_volume()"
   ]
  },
  {
   "cell_type": "markdown",
   "metadata": {},
   "source": [
    "### Exercicio5\n",
    "Crie uma classe ControleRemoto cujo atributo é televisão (isso é, recebe um objeto da classe do exercício 4). Crie métodos para aumentar/diminuir volume, trocar o canal e sintonizar um novo canal, que adiciona um novo canal à lista de canais (somente se esse canal não estiver nessa lista)."
   ]
  },
  {
   "cell_type": "code",
   "execution_count": 11,
   "metadata": {},
   "outputs": [],
   "source": [
    "class ControleRemoto(Televisor):\n",
    "    def __init__(self,fabricante, modelo):\n",
    "        super().__init__(fabricante, modelo)\n",
    "\n",
    "\n"
   ]
  },
  {
   "cell_type": "code",
   "execution_count": 13,
   "metadata": {},
   "outputs": [
    {
     "name": "stdin",
     "output_type": "stream",
     "text": [
      "Qual canal você gostaria? Globo\n"
     ]
    },
    {
     "name": "stdout",
     "output_type": "stream",
     "text": [
      "Trocando de Canal\n",
      "OK\n"
     ]
    }
   ],
   "source": [
    "controle1=ControleRemoto('LG','2020')\n",
    "controle1.fabricante\n",
    "controle1.modelo\n",
    "controle1.sintoniza_canal('Globo')\n",
    "controle1.lista\n",
    "controle1.troca_canal()"
   ]
  },
  {
   "cell_type": "code",
   "execution_count": 15,
   "metadata": {},
   "outputs": [
    {
     "name": "stdin",
     "output_type": "stream",
     "text": [
      "Digite um volume:  15\n"
     ]
    },
    {
     "name": "stdout",
     "output_type": "stream",
     "text": [
      "Troca de Volume OK\n"
     ]
    }
   ],
   "source": [
    "controle1.troca_volume()"
   ]
  },
  {
   "cell_type": "markdown",
   "metadata": {},
   "source": [
    "### Exercicio6\n",
    "O módulo time possui a função time.sleep(x), que faz seu programa “dormir” por x segundos. Utilizando essa função, crie uma classe Cronômetro e faça um programa que cronometre o tempo."
   ]
  },
  {
   "cell_type": "code",
   "execution_count": 11,
   "metadata": {},
   "outputs": [
    {
     "name": "stdout",
     "output_type": "stream",
     "text": [
      "Time = 0\n",
      "Time = 1\n",
      "Time = 2\n",
      "Time = 3\n",
      "Time = 4\n",
      "Time = 5\n",
      "Time = 6\n",
      "Time = 7\n",
      "Time = 8\n",
      "Time = 9\n",
      "Time = 10\n"
     ]
    }
   ],
   "source": [
    "from time import sleep\n",
    "class Cronometro:\n",
    "    # max_time é um parâmetro que pode definir o tempo total do cronometro\n",
    "    def __init__(self,max_time=None):\n",
    "        self.max_time=max_time\n",
    "    \n",
    "    def initStopwatch(self):\n",
    "        time=0 # tempo do cronometro em segundos\n",
    "        if self.max_time != None:\n",
    "            while time <= self.max_time:\n",
    "                print ('Time =',time)\n",
    "                sleep(1)\n",
    "                time += 1\n",
    "        else:\n",
    "            while True:\n",
    "                print ('Time =',time)\n",
    "                sleep(1)\n",
    "                time+=1\n",
    "                \n",
    "                \n",
    "#cria a classe:\n",
    "cronometro=Cronometro(10)\n",
    "cronometro.initStopwatch()"
   ]
  },
  {
   "cell_type": "markdown",
   "metadata": {},
   "source": [
    "### Exercicio7\n",
    "Crie uma modelagem de classes para uma agenda capaz de armazenar contatos. Através dessa agenda é possível incluir, remover, buscar e listar contatos já cadastrados."
   ]
  },
  {
   "cell_type": "code",
   "execution_count": null,
   "metadata": {},
   "outputs": [],
   "source": [
    "\n",
    "    def opcao(self):\n",
    "        op=int(input('Você gostaria de:\\n 1 - Incluir um contato\\n 2- Remover um contato\\n 3 - Buscar na sua agenda\\n 4 - Listar contatos cadastrados')"
   ]
  },
  {
   "cell_type": "code",
   "execution_count": 102,
   "metadata": {},
   "outputs": [],
   "source": [
    "class Agenda:\n",
    "    def __init__(self):\n",
    "        self.lista={}\n",
    "        self.nome=''\n",
    "        self.telefone=''\n",
    "    def opcao(self):\n",
    "        op=int(input('Você gostaria de:\\n 1 - Incluir um contato\\n 2- Remover um contato\\n 3 - Buscar na sua agenda\\n 4 - Listar contatos cadastrados\\n'))\n",
    "        if op not in (1,2,3,4):\n",
    "            print('Opção Inválida')\n",
    "        elif op==1:\n",
    "            nome=input('Digite o nome do contato novo: ')\n",
    "            telefone=input('Digite o telefone do contato novo: ')\n",
    "            self.lista[nome]=telefone\n",
    "        elif op==2:\n",
    "            nome=input(f'Digite o nome do contato a ser removido:\\n Os contatos disponíveis são {[chave for chave in self.lista.keys()]}:\\n')\n",
    "            self.lista.pop(nome)\n",
    "        elif op==3:\n",
    "            nome=input(f'Digite o nome do contato que você quer buscar:\\n')\n",
    "            if nome not in self.lista:\n",
    "                print('Contato não cadastrado')\n",
    "            else:\n",
    "                print(f'Contato: {nome}\\n\\nTelefone: {self.lista[nome]}')\n",
    "        elif op==4:\n",
    "            for chave in self.lista:\n",
    "                valor = self.lista[chave] # acessando o valor associado à chave\n",
    "                print('Nome:',chave, '→ Telefone:', valor)\n",
    "            \n",
    "agenda1=Agenda()"
   ]
  },
  {
   "cell_type": "code",
   "execution_count": 108,
   "metadata": {},
   "outputs": [
    {
     "name": "stdin",
     "output_type": "stream",
     "text": [
      "Você gostaria de:\n",
      " 1 - Incluir um contato\n",
      " 2- Remover um contato\n",
      " 3 - Buscar na sua agenda\n",
      " 4 - Listar contatos cadastrados\n",
      " 4\n"
     ]
    },
    {
     "name": "stdout",
     "output_type": "stream",
     "text": [
      "Nome: teste → Telefone: 4545\n",
      "Nome: giu → Telefone: 478\n",
      "Nome: leo → Telefone: 774\n",
      "Nome: abc → Telefone: 485\n"
     ]
    }
   ],
   "source": [
    "agenda1.opcao()"
   ]
  },
  {
   "cell_type": "markdown",
   "metadata": {},
   "source": [
    "### Exercicio8\n",
    "Crie uma classe Cliente cujos atributos são nome, idade e e-mail. Construa um método que imprima as informações tal como abaixo:"
   ]
  },
  {
   "cell_type": "code",
   "execution_count": 112,
   "metadata": {},
   "outputs": [
    {
     "name": "stdout",
     "output_type": "stream",
     "text": [
      "Nome: Giuliana\n",
      "\n",
      "Idade: 25\n",
      "\n",
      "E-mail: giuliana.zainotte@gmail.com\n"
     ]
    }
   ],
   "source": [
    "class Cliente:\n",
    "    def __init__(self,nome,idade,email):\n",
    "        self.email=email\n",
    "        self.idade=idade\n",
    "        self.nome=nome\n",
    "        return print(f'Nome: {self.nome}\\n\\nIdade: {self.idade}\\n\\nE-mail: {self.email}')\n",
    "cliente1=Cliente('Giuliana',25,'giuliana.zainotte@gmail.com')"
   ]
  },
  {
   "cell_type": "markdown",
   "metadata": {},
   "source": [
    "### Exercicio9\n",
    "Com base no exercício anterior, crie um sistema de cadastro e a classe Cliente. Seu programa deve perguntar se o usuário quer cadastrar um novo cliente, alterar um cadastro ou sair.\n",
    "\n",
    "Dica: Você pode fazer esse exercício criando uma classe Sistema, que irá controlar o sistema de cadastros. Essa classe deve ter o atributo cadastro e os métodos para imprimir os cadastrados, cadastrar um novo cliente, alterar um cadastro ou sair."
   ]
  },
  {
   "cell_type": "code",
   "execution_count": 2,
   "metadata": {},
   "outputs": [],
   "source": [
    "class Cliente:\n",
    "    def __init__(self,nome,idade,email):\n",
    "        self.email=email\n",
    "        self.idade=idade\n",
    "        self.nome=nome\n"
   ]
  },
  {
   "cell_type": "code",
   "execution_count": 27,
   "metadata": {},
   "outputs": [],
   "source": [
    "class Sistema:\n",
    "    def __init__(self): \n",
    "        self.op=0\n",
    "        self.lista=[]\n",
    "        self.pos_i=0\n",
    "    def opcao(self):\n",
    "        self.op=int(input('Você gostaria de:\\n 1 - Cadastrar novo CLiente\\n 2 - Buscar um CLiente\\n 3 - Sair'))\n",
    "        while self.op!=3:\n",
    "            if self.op==3:\n",
    "                break\n",
    "            elif self.op==1:\n",
    "                nome=input('Digite o Nome do Cliente: ')\n",
    "                idade=input('Digite a idade do Cliente: ')\n",
    "                email=input('Digite o email do Cliente: ')\n",
    "                lista2=[nome,idade,email]\n",
    "                self.lista.append(lista2)\n",
    "                self.op=int(input('Você gostaria de:\\n 1 - Cadastrar novo CLiente\\n 2 - Buscar um CLiente\\n 3 - Sair'))\n",
    "            elif self.op==2:\n",
    "                nome=input('Digite o Nome do Cliente a ser buscado')\n",
    "                for i in range (len(self.lista)): \n",
    "                    for j in range (i):\n",
    "                        if nome in self.lista[i][j]: \n",
    "                            self.pos_i = i \n",
    "                print(self.lista[self.pos_i])\n",
    "                self.op=int(input('Você gostaria de:\\n 1 - Cadastrar novo CLiente\\n 2 - Buscar um CLiente\\n 3 - Sair'))\n",
    "cadastro1=Sistema()"
   ]
  },
  {
   "cell_type": "code",
   "execution_count": 28,
   "metadata": {},
   "outputs": [
    {
     "name": "stdin",
     "output_type": "stream",
     "text": [
      "Você gostaria de:\n",
      " 1 - Cadastrar novo CLiente\n",
      " 2 - Buscar um CLiente\n",
      " 3 - Sair 1\n",
      "Digite o Nome do Cliente:  giu\n",
      "Digite a idade do Cliente:  giu\n",
      "Digite o email do Cliente:  giu\n",
      "Você gostaria de:\n",
      " 1 - Cadastrar novo CLiente\n",
      " 2 - Buscar um CLiente\n",
      " 3 - Sair 1\n",
      "Digite o Nome do Cliente:  teste\n",
      "Digite a idade do Cliente:  teste\n",
      "Digite o email do Cliente:  teste\n",
      "Você gostaria de:\n",
      " 1 - Cadastrar novo CLiente\n",
      " 2 - Buscar um CLiente\n",
      " 3 - Sair 2\n",
      "Digite o Nome do Cliente a ser buscado teste\n"
     ]
    },
    {
     "name": "stdout",
     "output_type": "stream",
     "text": [
      "['teste', 'teste', 'teste']\n"
     ]
    },
    {
     "name": "stdin",
     "output_type": "stream",
     "text": [
      "Você gostaria de:\n",
      " 1 - Cadastrar novo CLiente\n",
      " 2 - Buscar um CLiente\n",
      " 3 - Sair 3\n"
     ]
    }
   ],
   "source": [
    "cadastro1.opcao()"
   ]
  },
  {
   "cell_type": "markdown",
   "metadata": {},
   "source": [
    "### Exercicio10\n",
    "Crie uma classe ContaCorrente com os atributos cliente (que deve ser um objeto da classe Cliente) e saldo. Crie métodos para depósito, saque e transferência. Os métodos de saque e transferência devem verificar se é possível realizar a transação."
   ]
  },
  {
   "cell_type": "code",
   "execution_count": 79,
   "metadata": {},
   "outputs": [],
   "source": [
    "class Cliente:\n",
    "    def __init__(self,nome,idade,email):\n",
    "        self.email=email\n",
    "        self.idade=idade\n",
    "        self.nome=nome\n",
    "class ContaCorrente(Cliente):\n",
    "    def __init__(self,nome,idade,email,saldo):\n",
    "        self.saldo=saldo\n",
    "        super().__init__(nome,idade,email)\n",
    "    def deposito(self,valor):\n",
    "        self.saldo+=valor\n",
    "        print('Novo saldo:',self.saldo)\n",
    "    def saque(self,valor):\n",
    "        if valor>self.saldo:\n",
    "            print('Saldo Insuficiente')\n",
    "        else:\n",
    "            self.saldo-=valor\n",
    "            print('Saque Autorizado!\\nNovo saldo:',self.saldo)\n",
    "    def transferencia(self,valor,ag,cc):\n",
    "        if valor>self.saldo:\n",
    "            print('Saldo Insuficiente')\n",
    "        else:\n",
    "            self.saldo-=valor\n",
    "            print('Transferência Autorizado!\\nNovo saldo:',self.saldo)\n"
   ]
  },
  {
   "cell_type": "code",
   "execution_count": 80,
   "metadata": {},
   "outputs": [],
   "source": [
    "cliente1=ContaCorrente('Giuliana',25,'email',1300)"
   ]
  },
  {
   "cell_type": "code",
   "execution_count": 81,
   "metadata": {},
   "outputs": [
    {
     "name": "stdout",
     "output_type": "stream",
     "text": [
      "Novo saldo: 1600\n"
     ]
    }
   ],
   "source": [
    "cliente1.deposito(300)"
   ]
  },
  {
   "cell_type": "code",
   "execution_count": 82,
   "metadata": {},
   "outputs": [
    {
     "name": "stdout",
     "output_type": "stream",
     "text": [
      "Saque Autorizado!\n",
      "Novo saldo: 400\n"
     ]
    }
   ],
   "source": [
    "cliente1.saque(1200)"
   ]
  },
  {
   "cell_type": "code",
   "execution_count": 86,
   "metadata": {},
   "outputs": [
    {
     "name": "stdout",
     "output_type": "stream",
     "text": [
      "Saldo Insuficiente\n"
     ]
    }
   ],
   "source": [
    "cliente1.transferencia(200,1001,4522)"
   ]
  },
  {
   "cell_type": "markdown",
   "metadata": {},
   "source": [
    "## Exercicio11\n",
    "Crie uma classe Fração cujos atributos são numerador (número de cima) e denominador (número de baixo).\n",
    "\n",
    "Implemente os métodos de adição, subtração, multiplicação, divisão que retornam objetos do tipo Fração.\n",
    "\n",
    "Implemente também o método _ repr _.\n",
    "\n",
    "Implemente métodos para comparação: igualdade (==) e desigualdades (!=, <=, >=, < e >)."
   ]
  },
  {
   "cell_type": "code",
   "execution_count": 157,
   "metadata": {},
   "outputs": [],
   "source": [
    "class Fracao:\n",
    "    def __init__(self,numerador,denominador):\n",
    "        self.numerador=numerador\n",
    "        self.denominador=denominador\n",
    "    def __repr__(self):\n",
    "        return '{:}/{:}'.format(self.numerador, self.denominador)\n",
    "    def __add__(self,outro):\n",
    "        denominador1= self.denominador*outro.denominador\n",
    "        numerador1=(denominador1*self.numerador)+(denominador1*outro.numerador)\n",
    "        return Fracao(denominador=denominador1, numerador=numerador1)\n",
    "    def __sub__(self,outro):\n",
    "        denominador1= self.denominador*outro.denominador\n",
    "        numerador1=(denominador1*self.numerador)-(denominador1*outro.numerador)\n",
    "        return Fracao(denominador=denominador1, numerador=numerador1)\n",
    "    def __mul__(self,outro):\n",
    "        denominador1= self.denominador*outro.denominador\n",
    "        numerador1=(self.numerador)*(outro.numerador)\n",
    "        return Fracao(denominador=denominador1, numerador=numerador1)\n",
    "    def __truediv__(self,outro):\n",
    "        denominador1= self.denominador*outro.numerador\n",
    "        numerador1=(self.numerador)*(outro.denominador)\n",
    "        return Fracao(denominador=denominador1, numerador=numerador1)\n",
    "    def __eq__(self,outro):\n",
    "        if (self.numerador/self.denominador)==(outro.numerador/outro.denominador):\n",
    "            return True\n",
    "        return False\n",
    "    def __ne__(self,outro):\n",
    "        if (self.numerador/self.denominador)!=(outro.numerador/outro.denominador):\n",
    "            return True\n",
    "        return False    \n",
    "    def __gt__(self,outro):\n",
    "        if (self.numerador/self.denominador)>(outro.numerador/outro.denominador):\n",
    "            return True\n",
    "        return False   \n",
    "    def __ge__(self,outro):\n",
    "        if (self.numerador/self.denominador)>=(outro.numerador/outro.denominador):\n",
    "            return True\n",
    "        return False     \n",
    "    def __lt__(self,outro):\n",
    "        if (self.numerador/self.denominador)<(outro.numerador/outro.denominador):\n",
    "            return True\n",
    "        return False     \n",
    "    def __le__(self,outro):\n",
    "        if (self.numerador/self.denominador)<=(outro.numerador/outro.denominador):\n",
    "            return True\n",
    "        return False     \n"
   ]
  },
  {
   "cell_type": "code",
   "execution_count": 149,
   "metadata": {},
   "outputs": [],
   "source": [
    "frac1=Fracao(1,2)\n",
    "frac2=Fracao(3,7)\n",
    "frac3=Fracao(3,7)"
   ]
  },
  {
   "cell_type": "code",
   "execution_count": 158,
   "metadata": {},
   "outputs": [
    {
     "data": {
      "text/plain": [
       "False"
      ]
     },
     "execution_count": 158,
     "metadata": {},
     "output_type": "execute_result"
    }
   ],
   "source": [
    "frac2==frac1"
   ]
  },
  {
   "cell_type": "markdown",
   "metadata": {},
   "source": [
    "### Exercicio12\n",
    "Crie uma classe Data cujos atributos são dia, mês e ano. Implemente métodos _ repr _ e para comparação: igualdade (==) e desigualdades (!=, <=, >=, < e >)."
   ]
  },
  {
   "cell_type": "code",
   "execution_count": 242,
   "metadata": {},
   "outputs": [],
   "source": [
    "class Data:\n",
    "    def __init__(self,dia,mes,ano):\n",
    "        self.dia=dia\n",
    "        self.mes=mes\n",
    "        self.ano=ano\n",
    "    def __repr__(self):\n",
    "        return '{:02d}/{:02d}/{:02d}'.format(self.dia, self.mes,self.ano)\n",
    "\n",
    "    def __eq__(self,outro):\n",
    "        if self.dia==outro.dia and self.mes==outro.mes and self.ano==outro.ano: \n",
    "            return True\n",
    "        return False\n",
    "    def __ne__(self,outro):\n",
    "        if self.dia!=outro.dia or self.mes!=outro.mes or self.ano!=outro.ano:\n",
    "            return True\n",
    "        return False\n",
    "    def __gt__(self,outro):\n",
    "        if self.dia>outro.dia or self.mes>outro.mes or self.ano>outro.ano:\n",
    "            return True\n",
    "        return False\n",
    "    def __ge__(self,outro):\n",
    "        if self.dia>outro.dia or self.mes>outro.mes or self.ano>outro.ano:\n",
    "            return True\n",
    "        elif self.dia==outro.dia and self.mes==outro.mes and self.ano==outro.ano: \n",
    "            return True\n",
    "        return False\n",
    "    def __lt__(self,outro):\n",
    "        if self.dia<outro.dia or self.mes<outro.mes or self.ano<outro.ano:\n",
    "            return True\n",
    "        return False\n",
    "    def __le__(self,outro):\n",
    "        if self.dia<outro.dia or self.mes<outro.mes or self.ano<outro.ano:\n",
    "            return True\n",
    "        elif self.dia==outro.dia and self.mes==outro.mes and self.ano==outro.ano: \n",
    "            return True\n",
    "        return False"
   ]
  },
  {
   "cell_type": "code",
   "execution_count": 262,
   "metadata": {},
   "outputs": [
    {
     "data": {
      "text/plain": [
       "04/02/1996"
      ]
     },
     "execution_count": 262,
     "metadata": {},
     "output_type": "execute_result"
    }
   ],
   "source": [
    "data1=Data(4,2,1996)\n",
    "data2=Data(4,2,1997)\n",
    "data3=Data(1,1,1995)\n",
    "data1"
   ]
  },
  {
   "cell_type": "code",
   "execution_count": 263,
   "metadata": {},
   "outputs": [
    {
     "data": {
      "text/plain": [
       "False"
      ]
     },
     "execution_count": 263,
     "metadata": {},
     "output_type": "execute_result"
    }
   ],
   "source": [
    "data2<=data1"
   ]
  },
  {
   "cell_type": "markdown",
   "metadata": {},
   "source": [
    "### Exercicio13\n",
    "Nos exercícios 1, 2, 3, 4 e 6, implemente o método _ repr _ para exibir as informações desejadas de cada uma das classes."
   ]
  },
  {
   "cell_type": "code",
   "execution_count": 276,
   "metadata": {},
   "outputs": [
    {
     "ename": "SyntaxError",
     "evalue": "keyword can't be an expression (<ipython-input-276-2d157974f970>, line 17)",
     "output_type": "error",
     "traceback": [
      "\u001b[0;36m  File \u001b[0;32m\"<ipython-input-276-2d157974f970>\"\u001b[0;36m, line \u001b[0;32m17\u001b[0m\n\u001b[0;31m    return Bola(self.area*(self.raio/3)=volume)\u001b[0m\n\u001b[0m               ^\u001b[0m\n\u001b[0;31mSyntaxError\u001b[0m\u001b[0;31m:\u001b[0m keyword can't be an expression\n"
     ]
    }
   ],
   "source": [
    "# Exercicio 1\n",
    "# Cria a Classe\n",
    "from math import pi\n",
    "class Bola:\n",
    "    def __init__(self,cor,raio):\n",
    "        self.cor=cor\n",
    "        self.raio=raio\n",
    "        self.area=0\n",
    "        self.volume=0\n",
    "    def __repr__(self):\n",
    "        return '{:.2f}/{:.2f}'.format(self.area, self.volume)\n",
    "    def AreaBola(self):\n",
    "        self.area=4*pi*(self.raio)**2\n",
    "        return self.area\n",
    "    def VolumeBola(self):\n",
    "        volume=self.area*(self.raio/3)\n",
    "        return Bola(volume=volume)     \n",
    "\n",
    "# Cria o objeto e imprime        \n",
    "bola1=Bola('Verde',5)\n",
    "# print(f'A cor da Esfera é {bola1.cor}, o raio é {bola1.raio}, a área da Esfera é {bola1.AreaBola():.2f} e o Volume da esfera é {bola1.VolumeBola():.2f}')\n",
    "# \n",
    "bola1.VolumeBola()\n",
    "# \n"
   ]
  },
  {
   "cell_type": "code",
   "execution_count": 277,
   "metadata": {},
   "outputs": [
    {
     "name": "stdout",
     "output_type": "stream",
     "text": [
      "A area do retângulo, de lados 5 e 4, é 20.00\n"
     ]
    }
   ],
   "source": [
    "# Exercicio 2\n",
    "# Cria a Classe\n",
    "class Retangulo:\n",
    "    def __init__(self,lado_a,lado_b):\n",
    "        self.lado_a=lado_a\n",
    "        self.lado_b=lado_b\n",
    "        \n",
    "    def AreaRet(self):\n",
    "        return self.lado_a*self.lado_b\n",
    "\n",
    "# Cria o objeto e imprime       \n",
    "retangulo=Retangulo(5,4)\n",
    "print(f'A area do retângulo, de lados {retangulo.lado_a} e {retangulo.lado_b}, é {retangulo.AreaRet():.2f}')"
   ]
  },
  {
   "cell_type": "code",
   "execution_count": null,
   "metadata": {},
   "outputs": [],
   "source": [
    "# Exercicio 3\n",
    "class Funcionario:\n",
    "    def __init__(self,nome,email):\n",
    "        self.nome=nome\n",
    "        self.email=email\n",
    "        self.horas=0\n",
    "        self.mes=''\n",
    "        self.sal_hora=0\n",
    "    def salario(self,mes,horas,sal_hora):\n",
    "        self.horas=horas\n",
    "        self.mes=mes\n",
    "        self.sal_hora=sal_hora\n",
    "        self.dic1={self.mes:self.horas}\n",
    "        self.dic2={self.mes:self.sal_hora}\n",
    "        return self.horas*self.sal_hora\n",
    "funcionario1=Funcionario('Giuliana','zainottegiuliana')\n",
    "funcionario1.salario('Julho',150,3.5)"
   ]
  },
  {
   "cell_type": "code",
   "execution_count": null,
   "metadata": {},
   "outputs": [],
   "source": [
    "# Exercicio 4\n",
    "class Televisor:\n",
    "    def __init__(self,fabricante, modelo):\n",
    "        self.fabricante=fabricante\n",
    "        self.modelo=modelo\n",
    "        self.lista=[]\n",
    "        self.volume=0\n",
    "        self.cnl=''\n",
    "        self.cnl_atual=''\n",
    "    def sintoniza_canal(self,nome):\n",
    "        if len([element for element in self.lista if element==nome])>0:\n",
    "            print('Canal já cadastrado')\n",
    "        else:\n",
    "            self.lista.append(nome)\n",
    "    def troca_canal(self):\n",
    "        cnl=input('Qual canal você gostaria?')\n",
    "        lista=[element for element in self.lista if element==cnl]\n",
    "        if len(lista)>0:\n",
    "            print('Trocando de Canal\\nOK')\n",
    "        else:\n",
    "            print(f'Canal não disponível, os canais disponíveis são: {self.lista}')\n",
    "    def troca_volume(self):\n",
    "        vol=int(input('Digite um volume: '))\n",
    "        if vol>=0 and vol<=100:\n",
    "            self.volume=vol\n",
    "            print('Troca de Volume OK')\n",
    "        else:\n",
    "            print('Volume Inválido')\n",
    "            \n",
    "televisor1=Televisor('Sony','M200X')"
   ]
  },
  {
   "cell_type": "code",
   "execution_count": null,
   "metadata": {},
   "outputs": [],
   "source": [
    "# Exercicio 6\n",
    "from time import sleep\n",
    "class Cronometro:\n",
    "    # max_time é um parâmetro que pode definir o tempo total do cronometro\n",
    "    def __init__(self,max_time=None):\n",
    "        self.max_time=max_time\n",
    "    \n",
    "    def initStopwatch(self):\n",
    "        time=0 # tempo do cronometro em segundos\n",
    "        if self.max_time != None:\n",
    "            while time <= self.max_time:\n",
    "                print ('Time =',time)\n",
    "                sleep(1)\n",
    "                time += 1\n",
    "        else:\n",
    "            while True:\n",
    "                print ('Time =',time)\n",
    "                sleep(1)\n",
    "                time+=1\n",
    "                \n",
    "                \n",
    "#cria a classe:\n",
    "cronometro=Cronometro(10)\n",
    "cronometro.initStopwatch()"
   ]
  },
  {
   "cell_type": "markdown",
   "metadata": {},
   "source": [
    "### Exercicio14\n",
    "Faça uma classe ContaVip que difere da ContaCorrente por ter cheque especial (novo atributo) e é filha da classe ContaCorrente. Você precisa implementar os métodos para saque, transferência ou depósito?"
   ]
  },
  {
   "cell_type": "code",
   "execution_count": null,
   "metadata": {},
   "outputs": [],
   "source": [
    "class Cliente:\n",
    "    def __init__(self,nome,idade,email):\n",
    "        self.email=email\n",
    "        self.idade=idade\n",
    "        self.nome=nome\n",
    "class ContaCorrente(Cliente):\n",
    "    def __init__(self,nome,idade,email,saldo):\n",
    "        self.saldo=saldo\n",
    "        super().__init__(nome,idade,email)\n",
    "    def deposito(self,valor):\n",
    "        self.saldo+=valor\n",
    "        print('Novo saldo:',self.saldo)\n",
    "    def saque(self,valor):\n",
    "        if valor>self.saldo:\n",
    "            print('Saldo Insuficiente')\n",
    "        else:\n",
    "            self.saldo-=valor\n",
    "            print('Saque Autorizado!\\nNovo saldo:',self.saldo)\n",
    "    def transferencia(self,valor,ag,cc):\n",
    "        if valor>self.saldo:\n",
    "            print('Saldo Insuficiente')\n",
    "        else:\n",
    "            self.saldo-=valor\n",
    "            print('Transferência Autorizado!\\nNovo saldo:',self.saldo)"
   ]
  },
  {
   "cell_type": "code",
   "execution_count": 290,
   "metadata": {},
   "outputs": [],
   "source": [
    "class ContaVip(ContaCorrente):\n",
    "    def __init__ (self,nome,idade,email,saldo,cheque_especial):\n",
    "        super().__init__(nome,idade,email,saldo)\n",
    "        self.especial=cheque_especial\n",
    "    def cheque_especial(self,valor):\n",
    "        if valor>self.saldo:\n",
    "            self.saldo=self.saldo-valor\n",
    "            self.especial=self.especial+self.saldo\n",
    "            print('Você entrou no Cheque Especial.\\n Seu saldo devedor é: R$',self.saldo,'\\n Você ainda tem: R$',self.especial,'disponíveis no Cheque Especial')\n",
    "\n",
    "        else:\n",
    "            self.cheque_especial-=valor\n",
    "            print('Saque Autorizado!\\nNovo saldo:',self.cheque_especial)\n",
    "#Não preciso implementar os outros métodos, pois eles já estão disponíveis na classe ContaCorrente "
   ]
  },
  {
   "cell_type": "code",
   "execution_count": 291,
   "metadata": {},
   "outputs": [
    {
     "name": "stdout",
     "output_type": "stream",
     "text": [
      "Você entrou no Cheque Especial.\n",
      " Seu saldo devedor é: R$ -2500 \n",
      " Você ainda tem: R$ 500 disponíveis no Cheque Especial\n"
     ]
    }
   ],
   "source": [
    "cliente1=ContaVip('giuliana',25,'email',1500,3000)\n",
    "cliente1.cheque_especial(4000)"
   ]
  },
  {
   "cell_type": "markdown",
   "metadata": {},
   "source": [
    "### Exercicio15\n",
    "Crie uma classe Quadrado, filha da classe Retângulo do exercício 2."
   ]
  },
  {
   "cell_type": "code",
   "execution_count": 292,
   "metadata": {},
   "outputs": [
    {
     "name": "stdout",
     "output_type": "stream",
     "text": [
      "A area do retângulo, de lados 5 e 4, é 20.00\n"
     ]
    }
   ],
   "source": [
    "# Cria a Classe\n",
    "class Retangulo:\n",
    "    def __init__(self,lado_a,lado_b):\n",
    "        self.lado_a=lado_a\n",
    "        self.lado_b=lado_b\n",
    "        \n",
    "    def AreaRet(self):\n",
    "        return self.lado_a*self.lado_b\n",
    "\n",
    "# Cria o objeto e imprime       \n",
    "retangulo=Retangulo(5,4)\n",
    "print(f'A area do retângulo, de lados {retangulo.lado_a} e {retangulo.lado_b}, é {retangulo.AreaRet():.2f}')"
   ]
  },
  {
   "cell_type": "code",
   "execution_count": 294,
   "metadata": {},
   "outputs": [
    {
     "data": {
      "text/plain": [
       "25"
      ]
     },
     "execution_count": 294,
     "metadata": {},
     "output_type": "execute_result"
    }
   ],
   "source": [
    "class Quadrado(Retangulo):\n",
    "    def __init__(self,lado):\n",
    "        lado_a=lado\n",
    "        lado_b=lado\n",
    "        super().__init__(lado_a,lado_b)\n",
    "quadrado1=Quadrado(5)\n",
    "quadrado1.AreaRet()"
   ]
  }
 ],
 "metadata": {
  "kernelspec": {
   "display_name": "Python 3",
   "language": "python",
   "name": "python3"
  },
  "language_info": {
   "codemirror_mode": {
    "name": "ipython",
    "version": 3
   },
   "file_extension": ".py",
   "mimetype": "text/x-python",
   "name": "python",
   "nbconvert_exporter": "python",
   "pygments_lexer": "ipython3",
   "version": "3.7.6"
  }
 },
 "nbformat": 4,
 "nbformat_minor": 4
}

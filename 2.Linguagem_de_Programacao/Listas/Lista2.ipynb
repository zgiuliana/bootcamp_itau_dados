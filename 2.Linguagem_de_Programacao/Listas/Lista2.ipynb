{
 "cells": [
  {
   "cell_type": "markdown",
   "id": "ef1000c5",
   "metadata": {},
   "source": [
    "## Exercicio1"
   ]
  },
  {
   "cell_type": "code",
   "execution_count": null,
   "id": "9301db09",
   "metadata": {
    "ExecuteTime": {
     "end_time": "2021-07-07T20:58:47.986144Z",
     "start_time": "2021-07-07T20:58:46.619851Z"
    }
   },
   "outputs": [],
   "source": [
    "#Pergunta a idade da pessoa, fixado como inteiro, pois não tem meia idade\n",
    "idade=int(input('Insira a sua idade: '))\n",
    "if idade>=18:\n",
    "    print('Você maior de idade!')\n",
    "else:\n",
    "    print('Você é menor de idade!')"
   ]
  },
  {
   "cell_type": "markdown",
   "id": "4ae3a6ee",
   "metadata": {},
   "source": [
    "## Exercicio2"
   ]
  },
  {
   "cell_type": "code",
   "execution_count": null,
   "id": "12d1cb81",
   "metadata": {
    "ExecuteTime": {
     "end_time": "2021-07-07T21:03:28.048205Z",
     "start_time": "2021-07-07T21:03:25.100266Z"
    }
   },
   "outputs": [],
   "source": [
    "#Pede pra pessoa inserir um número\n",
    "num=float(input('Insira um número: '))\n",
    "if num>=0:\n",
    "    print(f'{num} é um número positivo')\n",
    "else:\n",
    "    print(f'{num} é um número negativo')"
   ]
  },
  {
   "cell_type": "markdown",
   "id": "f746fb55",
   "metadata": {},
   "source": [
    "## Exercício3"
   ]
  },
  {
   "cell_type": "code",
   "execution_count": null,
   "id": "02de7592",
   "metadata": {
    "ExecuteTime": {
     "end_time": "2021-07-08T19:20:03.984079Z",
     "start_time": "2021-07-08T19:19:59.826673Z"
    }
   },
   "outputs": [],
   "source": [
    "num1=float(input('Insira um número '))\n",
    "num2=float(input('Insira outro número '))\n",
    "if num1>=num2:\n",
    "    print(num1)\n",
    "else:\n",
    "    print(num2)"
   ]
  },
  {
   "cell_type": "markdown",
   "id": "0f2f7fad",
   "metadata": {},
   "source": [
    "## Exercício 4"
   ]
  },
  {
   "cell_type": "code",
   "execution_count": null,
   "id": "c25e349b",
   "metadata": {
    "ExecuteTime": {
     "end_time": "2021-07-08T19:46:57.097491Z",
     "start_time": "2021-07-08T19:46:50.247626Z"
    }
   },
   "outputs": [],
   "source": [
    "nota1=float(input('Insira sua nota do 1º Quad '))\n",
    "nota2=float(input('Insira sua nota do 2º Quad '))\n",
    "nota3=float(input('Insira sua nota do 3º Quad '))\n",
    "media=(nota1+nota2+nota3)/3\n",
    "if media>=6:\n",
    "    print('Aprovado!!')\n",
    "else:\n",
    "    print('Reprovado.')"
   ]
  },
  {
   "cell_type": "markdown",
   "id": "c1f858c3",
   "metadata": {},
   "source": [
    "## Exercício 5"
   ]
  },
  {
   "cell_type": "code",
   "execution_count": null,
   "id": "e4ab7774",
   "metadata": {
    "ExecuteTime": {
     "end_time": "2021-07-08T19:55:59.115579Z",
     "start_time": "2021-07-08T19:55:52.804965Z"
    }
   },
   "outputs": [],
   "source": [
    "print('(Questão) Uma pesquisa feita em uma escola, envolvendo 1000 alunos,\\n demonstrou que 25% deles usavam óculos. Quantos alunos usavam óculos',\n",
    "     '\\n a) 150 \\n b) 250 \\n c) 350 \\n d) 450 \\n e) 500')\n",
    "resp=input('Resposta: ')\n",
    "if resp=='b':\n",
    "    print('Resposta correta')\n",
    "else:\n",
    "    print('Resposta incorreta')\n",
    "\n",
    "      "
   ]
  },
  {
   "cell_type": "markdown",
   "id": "e6fbe9a8",
   "metadata": {},
   "source": [
    "## Exercício 6"
   ]
  },
  {
   "cell_type": "code",
   "execution_count": 8,
   "id": "aab9e31d",
   "metadata": {
    "ExecuteTime": {
     "end_time": "2021-07-08T20:10:09.498497Z",
     "start_time": "2021-07-08T20:10:04.288452Z"
    }
   },
   "outputs": [
    {
     "name": "stdout",
     "output_type": "stream",
     "text": [
      "Mora perto da vítima? n\n",
      "Já trabalhou com a vítima? n\n",
      "Telefonou para a vítima? n\n",
      "Esteve no local do crime? n\n",
      "Devia para a vítima? s\n",
      "Pontuação 1.Inocente\n"
     ]
    }
   ],
   "source": [
    "q1=input('Mora perto da vítima? ')\n",
    "q2=input('Já trabalhou com a vítima? ')\n",
    "q3=input('Telefonou para a vítima? ')\n",
    "q4=input('Esteve no local do crime? ')\n",
    "q5=input('Devia para a vítima? ')\n",
    "if q1=='Sim' or q1=='sim' or q1=='SIM' or q1=='s':\n",
    "    p1=1\n",
    "else:\n",
    "    p1=0\n",
    "if q2=='Sim' or q2=='sim' or q2=='SIM' or q2=='s':\n",
    "    p2=1\n",
    "else:\n",
    "    p2=0\n",
    "if q3=='Sim' or q3=='sim' or q3=='SIM' or q3=='s':\n",
    "    p3=1\n",
    "else:\n",
    "    p3=0\n",
    "if q4=='Sim' or q4=='sim' or q4=='SIM' or q4=='s':\n",
    "    p4=1\n",
    "else:\n",
    "    p4=0\n",
    "if q5=='Sim' or q5=='sim' or q5=='SIM' or q5=='s':\n",
    "    p5=1\n",
    "else:\n",
    "    p5=0\n",
    "    \n",
    "p=p1+p2+p3+p4+p5\n",
    "\n",
    "if p==5:\n",
    "    print(f'Pontuação {p}. Culpado')\n",
    "elif p>=3:\n",
    "    print(f'Pontuação {p}. Cúmplice')\n",
    "elif p==2:\n",
    "    print(f'Pontuação {p}. Necessita mais investigação')\n",
    "else:\n",
    "    print(f'Pontuação {p}.Inocente')"
   ]
  },
  {
   "cell_type": "markdown",
   "id": "6c8bedd6",
   "metadata": {},
   "source": [
    "## Exercício 7"
   ]
  },
  {
   "cell_type": "code",
   "execution_count": 22,
   "id": "cb9952f3",
   "metadata": {
    "ExecuteTime": {
     "end_time": "2021-07-08T20:19:18.072122Z",
     "start_time": "2021-07-08T20:19:15.114327Z"
    }
   },
   "outputs": [
    {
     "name": "stdout",
     "output_type": "stream",
     "text": [
      "Escolha um número de 1 a 5: 2\n",
      "Errou :(\n"
     ]
    }
   ],
   "source": [
    "import random\n",
    "num=random.randint(1,6)\n",
    "res=int(input('Escolha um número de 1 a 5: '))\n",
    "if res==num:\n",
    "    print('Acertou!!')\n",
    "else:\n",
    "    print('Errou :(')"
   ]
  },
  {
   "cell_type": "markdown",
   "id": "ed78d60e",
   "metadata": {},
   "source": [
    "## Exercício 8"
   ]
  },
  {
   "cell_type": "code",
   "execution_count": 26,
   "id": "28b26150",
   "metadata": {
    "ExecuteTime": {
     "end_time": "2021-07-08T20:24:24.956898Z",
     "start_time": "2021-07-08T20:24:22.812873Z"
    }
   },
   "outputs": [
    {
     "name": "stdout",
     "output_type": "stream",
     "text": [
      "Qual a velocidade? 100\n",
      "O motorista estava acima da velocidade e levará uma multa no valor de R$ 500.00\n"
     ]
    }
   ],
   "source": [
    "v=float(input('Qual a velocidade? '))\n",
    "if v>50:\n",
    "    m=10*(v-50)\n",
    "    print(f'O motorista estava acima da velocidade e levará uma multa no valor de R$ {m:.2f}')\n",
    "else:\n",
    "    print('O motorista não estava acima da velocidade')"
   ]
  },
  {
   "cell_type": "markdown",
   "id": "98d8be0b",
   "metadata": {},
   "source": [
    "## Exercício 9"
   ]
  },
  {
   "cell_type": "code",
   "execution_count": 30,
   "id": "1e52c88b",
   "metadata": {
    "ExecuteTime": {
     "end_time": "2021-07-08T20:27:28.694784Z",
     "start_time": "2021-07-08T20:27:26.877087Z"
    }
   },
   "outputs": [
    {
     "name": "stdout",
     "output_type": "stream",
     "text": [
      "Você tem febre persistente? n\n",
      "Você tem dificuldade para respirarn\n",
      "Fique em casa\n"
     ]
    }
   ],
   "source": [
    "q1=input('Você tem febre persistente? ')\n",
    "q2=input('Você tem dificuldade para respirar')\n",
    "if q1=='s' and q2=='s':\n",
    "    print('Procure um hospital')\n",
    "else:\n",
    "    print('Fique em casa')"
   ]
  }
 ],
 "metadata": {
  "kernelspec": {
   "display_name": "Python 3",
   "language": "python",
   "name": "python3"
  },
  "language_info": {
   "codemirror_mode": {
    "name": "ipython",
    "version": 3
   },
   "file_extension": ".py",
   "mimetype": "text/x-python",
   "name": "python",
   "nbconvert_exporter": "python",
   "pygments_lexer": "ipython3",
   "version": "3.8.8"
  },
  "toc": {
   "base_numbering": 1,
   "nav_menu": {},
   "number_sections": true,
   "sideBar": true,
   "skip_h1_title": false,
   "title_cell": "Table of Contents",
   "title_sidebar": "Contents",
   "toc_cell": false,
   "toc_position": {},
   "toc_section_display": true,
   "toc_window_display": false
  },
  "varInspector": {
   "cols": {
    "lenName": 16,
    "lenType": 16,
    "lenVar": 40
   },
   "kernels_config": {
    "python": {
     "delete_cmd_postfix": "",
     "delete_cmd_prefix": "del ",
     "library": "var_list.py",
     "varRefreshCmd": "print(var_dic_list())"
    },
    "r": {
     "delete_cmd_postfix": ") ",
     "delete_cmd_prefix": "rm(",
     "library": "var_list.r",
     "varRefreshCmd": "cat(var_dic_list()) "
    }
   },
   "types_to_exclude": [
    "module",
    "function",
    "builtin_function_or_method",
    "instance",
    "_Feature"
   ],
   "window_display": false
  }
 },
 "nbformat": 4,
 "nbformat_minor": 5
}

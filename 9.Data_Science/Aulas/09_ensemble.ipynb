{
 "cells": [
  {
   "cell_type": "markdown",
   "id": "a7870542",
   "metadata": {},
   "source": [
    "# Métodos de Ensemble\n"
   ]
  },
  {
   "cell_type": "markdown",
   "id": "d204c3e0",
   "metadata": {},
   "source": [
    "## Instabilidade"
   ]
  },
  {
   "cell_type": "markdown",
   "id": "cce43bf5",
   "metadata": {},
   "source": [
    "Vamos montar um modelo clássico para identificação de mensagens de spam. O modelo consiste em contar quantas vezes uma determinada palavra aparece na mensagem e classificá-la como spam ou não. **O foco da aula não é o modelo, mas estudar a estabilidade dele!**"
   ]
  },
  {
   "cell_type": "markdown",
   "id": "b1dc9835",
   "metadata": {},
   "source": [
    "### Coleta e limpeza de dados"
   ]
  },
  {
   "cell_type": "code",
   "execution_count": 1,
   "id": "464ff350",
   "metadata": {
    "ExecuteTime": {
     "end_time": "2021-08-31T13:59:39.973175Z",
     "start_time": "2021-08-31T13:59:36.371196Z"
    }
   },
   "outputs": [],
   "source": [
    "import pandas as pd\n",
    "import string\n",
    "import seaborn as sns\n",
    "import matplotlib.pyplot as plt\n",
    "import numpy as np"
   ]
  },
  {
   "cell_type": "code",
   "execution_count": 2,
   "id": "a707ff5f",
   "metadata": {
    "ExecuteTime": {
     "end_time": "2021-08-31T13:59:43.722999Z",
     "start_time": "2021-08-31T13:59:43.669310Z"
    }
   },
   "outputs": [
    {
     "data": {
      "text/html": [
       "<div>\n",
       "<style scoped>\n",
       "    .dataframe tbody tr th:only-of-type {\n",
       "        vertical-align: middle;\n",
       "    }\n",
       "\n",
       "    .dataframe tbody tr th {\n",
       "        vertical-align: top;\n",
       "    }\n",
       "\n",
       "    .dataframe thead th {\n",
       "        text-align: right;\n",
       "    }\n",
       "</style>\n",
       "<table border=\"1\" class=\"dataframe\">\n",
       "  <thead>\n",
       "    <tr style=\"text-align: right;\">\n",
       "      <th></th>\n",
       "      <th>type</th>\n",
       "      <th>text</th>\n",
       "    </tr>\n",
       "  </thead>\n",
       "  <tbody>\n",
       "    <tr>\n",
       "      <th>0</th>\n",
       "      <td>ham</td>\n",
       "      <td>Hope you are having a good week. Just checking in</td>\n",
       "    </tr>\n",
       "    <tr>\n",
       "      <th>1</th>\n",
       "      <td>ham</td>\n",
       "      <td>K..give back my thanks.</td>\n",
       "    </tr>\n",
       "    <tr>\n",
       "      <th>2</th>\n",
       "      <td>ham</td>\n",
       "      <td>Am also doing in cbe only. But have to pay.</td>\n",
       "    </tr>\n",
       "    <tr>\n",
       "      <th>3</th>\n",
       "      <td>spam</td>\n",
       "      <td>complimentary 4 STAR Ibiza Holiday or £10,000 ...</td>\n",
       "    </tr>\n",
       "    <tr>\n",
       "      <th>4</th>\n",
       "      <td>spam</td>\n",
       "      <td>okmail: Dear Dave this is your final notice to...</td>\n",
       "    </tr>\n",
       "  </tbody>\n",
       "</table>\n",
       "</div>"
      ],
      "text/plain": [
       "   type                                               text\n",
       "0   ham  Hope you are having a good week. Just checking in\n",
       "1   ham                            K..give back my thanks.\n",
       "2   ham        Am also doing in cbe only. But have to pay.\n",
       "3  spam  complimentary 4 STAR Ibiza Holiday or £10,000 ...\n",
       "4  spam  okmail: Dear Dave this is your final notice to..."
      ]
     },
     "execution_count": 2,
     "metadata": {},
     "output_type": "execute_result"
    }
   ],
   "source": [
    "# dataset de mensagens de email\n",
    "df = pd.read_csv('../datasets/spam_ham.csv')\n",
    "\n",
    "df.head()\n"
   ]
  },
  {
   "cell_type": "code",
   "execution_count": 3,
   "id": "14cb2823",
   "metadata": {
    "ExecuteTime": {
     "end_time": "2021-08-31T13:59:44.670184Z",
     "start_time": "2021-08-31T13:59:44.577047Z"
    }
   },
   "outputs": [
    {
     "data": {
      "text/html": [
       "<div>\n",
       "<style scoped>\n",
       "    .dataframe tbody tr th:only-of-type {\n",
       "        vertical-align: middle;\n",
       "    }\n",
       "\n",
       "    .dataframe tbody tr th {\n",
       "        vertical-align: top;\n",
       "    }\n",
       "\n",
       "    .dataframe thead th {\n",
       "        text-align: right;\n",
       "    }\n",
       "</style>\n",
       "<table border=\"1\" class=\"dataframe\">\n",
       "  <thead>\n",
       "    <tr style=\"text-align: right;\">\n",
       "      <th></th>\n",
       "      <th>type</th>\n",
       "      <th>text</th>\n",
       "      <th>text_clean</th>\n",
       "    </tr>\n",
       "  </thead>\n",
       "  <tbody>\n",
       "    <tr>\n",
       "      <th>0</th>\n",
       "      <td>ham</td>\n",
       "      <td>Hope you are having a good week. Just checking in</td>\n",
       "      <td>hope you are having a good week  just checking in</td>\n",
       "    </tr>\n",
       "    <tr>\n",
       "      <th>1</th>\n",
       "      <td>ham</td>\n",
       "      <td>K..give back my thanks.</td>\n",
       "      <td>k  give back my thanks</td>\n",
       "    </tr>\n",
       "    <tr>\n",
       "      <th>2</th>\n",
       "      <td>ham</td>\n",
       "      <td>Am also doing in cbe only. But have to pay.</td>\n",
       "      <td>am also doing in cbe only  but have to pay</td>\n",
       "    </tr>\n",
       "    <tr>\n",
       "      <th>3</th>\n",
       "      <td>spam</td>\n",
       "      <td>complimentary 4 STAR Ibiza Holiday or £10,000 ...</td>\n",
       "      <td>complimentary  star ibiza holiday or £  cash n...</td>\n",
       "    </tr>\n",
       "    <tr>\n",
       "      <th>4</th>\n",
       "      <td>spam</td>\n",
       "      <td>okmail: Dear Dave this is your final notice to...</td>\n",
       "      <td>okmail  dear dave this is your final notice to...</td>\n",
       "    </tr>\n",
       "  </tbody>\n",
       "</table>\n",
       "</div>"
      ],
      "text/plain": [
       "   type                                               text  \\\n",
       "0   ham  Hope you are having a good week. Just checking in   \n",
       "1   ham                            K..give back my thanks.   \n",
       "2   ham        Am also doing in cbe only. But have to pay.   \n",
       "3  spam  complimentary 4 STAR Ibiza Holiday or £10,000 ...   \n",
       "4  spam  okmail: Dear Dave this is your final notice to...   \n",
       "\n",
       "                                          text_clean  \n",
       "0  hope you are having a good week  just checking in  \n",
       "1                            k  give back my thanks   \n",
       "2        am also doing in cbe only  but have to pay   \n",
       "3  complimentary  star ibiza holiday or £  cash n...  \n",
       "4  okmail  dear dave this is your final notice to...  "
      ]
     },
     "execution_count": 3,
     "metadata": {},
     "output_type": "execute_result"
    }
   ],
   "source": [
    "# um pouco de preprocessamento\n",
    "\n",
    "def clean_text(df_input, column_to_clean):\n",
    "    \n",
    "    # converte para letras minusculas\n",
    "    df_input['text_clean'] = df_input[column_to_clean].str.lower()\n",
    "    \n",
    "    # remove pontução\n",
    "    remover = f\"[{string.punctuation}]\"\n",
    "    df_input['text_clean'] = df_input['text_clean'].str.replace(remover, ' ', regex=True)\n",
    "    \n",
    "    # remove numeros\n",
    "    numeros = f\"[1234567890]\"\n",
    "    df_input['text_clean'] = df_input['text_clean'].str.replace(numeros, '', regex=True)\n",
    "    \n",
    "    return df_input['text_clean']\n",
    "\n",
    "# criar coluna text clean\n",
    "df['text_clean'] = clean_text(df, 'text')\n",
    "\n",
    "df.head()"
   ]
  },
  {
   "cell_type": "code",
   "execution_count": null,
   "id": "4ba645a1",
   "metadata": {},
   "outputs": [],
   "source": []
  },
  {
   "cell_type": "markdown",
   "id": "6b3ae34c",
   "metadata": {},
   "source": [
    "### Divisão do dataset"
   ]
  },
  {
   "cell_type": "code",
   "execution_count": 4,
   "id": "82fa3b8d",
   "metadata": {
    "ExecuteTime": {
     "end_time": "2021-08-31T13:59:47.967013Z",
     "start_time": "2021-08-31T13:59:46.113966Z"
    }
   },
   "outputs": [],
   "source": [
    "from sklearn.feature_extraction.text import CountVectorizer \n",
    "from sklearn.model_selection import train_test_split\n",
    "\n",
    "def create_train_test_sets(df_input, semente):\n",
    "    X = df_input['text_clean'].copy()\n",
    "    y = df_input['type'].map({'ham':0, 'spam': 1})\n",
    "\n",
    "\n",
    "    X_treino_bruto, X_teste_bruto, y_treino_, y_teste_ = train_test_split(X, y, \n",
    "                                                                          test_size=0.3, \n",
    "                                                                          random_state=semente)\n",
    "    # preparação para a aula de NLP - exercicío do WordCount\n",
    "    bag_of_words = CountVectorizer(max_features=100)\n",
    "    bag_of_words.fit(X_treino_bruto)\n",
    "    \n",
    "    X_treino_ = bag_of_words.transform(X_treino_bruto)\n",
    "    X_teste_ = bag_of_words.transform(X_teste_bruto)\n",
    "    \n",
    "    return X_treino_, X_teste_, y_treino_, y_teste_\n",
    "\n",
    "# cria os datasets de treino e teste na prática\n",
    "X_treino, X_teste, y_treino, y_teste = create_train_test_sets(df, 13)"
   ]
  },
  {
   "cell_type": "code",
   "execution_count": 5,
   "id": "c0b22238",
   "metadata": {},
   "outputs": [
    {
     "name": "stdout",
     "output_type": "stream",
     "text": [
      "(3891,) (1668,)\n"
     ]
    }
   ],
   "source": [
    "print(y_treino.shape,y_teste.shape,)"
   ]
  },
  {
   "cell_type": "code",
   "execution_count": 6,
   "id": "6473188c-9313-457e-a831-d99971d3992c",
   "metadata": {},
   "outputs": [
    {
     "data": {
      "text/plain": [
       "matrix([[0, 0, 0, ..., 0, 0, 0],\n",
       "        [0, 0, 0, ..., 0, 0, 0],\n",
       "        [1, 0, 1, ..., 0, 2, 0],\n",
       "        ...,\n",
       "        [0, 0, 0, ..., 0, 0, 0],\n",
       "        [0, 0, 0, ..., 0, 1, 0],\n",
       "        [0, 0, 0, ..., 0, 0, 2]])"
      ]
     },
     "execution_count": 6,
     "metadata": {},
     "output_type": "execute_result"
    }
   ],
   "source": [
    "X_treino.todense()"
   ]
  },
  {
   "cell_type": "code",
   "execution_count": 7,
   "id": "41af8db9-9319-4f3f-a67d-7438645d49c1",
   "metadata": {},
   "outputs": [
    {
     "data": {
      "text/plain": [
       "'sir  i have been late in paying rent for the past few months and had to pay a      charge  i felt it would be inconsiderate of me to nag about something you give at great cost to yourself and that s why i didnt speak up  i however am in a recession and wont be able to pay the charge this month hence my askin well ahead of month s end  can you please help  thanks'"
      ]
     },
     "execution_count": 7,
     "metadata": {},
     "output_type": "execute_result"
    }
   ],
   "source": [
    "df.loc[1830,'text_clean']"
   ]
  },
  {
   "cell_type": "markdown",
   "id": "6963906c",
   "metadata": {},
   "source": [
    "### Função para avaliar o modelo"
   ]
  },
  {
   "cell_type": "code",
   "execution_count": 8,
   "id": "a5d99236",
   "metadata": {
    "ExecuteTime": {
     "end_time": "2021-08-31T13:59:47.982250Z",
     "start_time": "2021-08-31T13:59:47.970805Z"
    }
   },
   "outputs": [],
   "source": [
    "def evaluate_model(df_input, modelo, scoring_function, semente):\n",
    "    \n",
    "    X_treino_, X_teste_, y_treino_, y_teste_ = create_train_test_sets(df_input, semente)\n",
    "    \n",
    "    modelo.fit(X_treino_, y_treino_)\n",
    "    \n",
    "    y_pred = modelo.predict_proba(X_teste_)\n",
    "    \n",
    "    score = scoring_function(y_teste_, y_pred[:,1])\n",
    "    \n",
    "    return score\n",
    "    "
   ]
  },
  {
   "cell_type": "code",
   "execution_count": 9,
   "id": "6e74a167",
   "metadata": {},
   "outputs": [],
   "source": [
    "from sklearn.tree import DecisionTreeClassifier\n",
    "from sklearn.metrics import roc_auc_score"
   ]
  },
  {
   "cell_type": "code",
   "execution_count": 10,
   "id": "09250900-d880-4d61-9aea-ddc7398dddfc",
   "metadata": {},
   "outputs": [
    {
     "data": {
      "text/plain": [
       "0.8966712898751733"
      ]
     },
     "execution_count": 10,
     "metadata": {},
     "output_type": "execute_result"
    }
   ],
   "source": [
    "tree_model=DecisionTreeClassifier(random_state=2)\n",
    "\n",
    "X_treino, X_teste, y_treino, y_teste = create_train_test_sets(df, semente=13)\n",
    "\n",
    "tree_model.fit(X_treino, y_treino)\n",
    "\n",
    "y_pred=tree_model.predict_proba(X_teste)\n",
    "\n",
    "score=roc_auc_score(y_teste,y_pred[:,1])\n",
    "score"
   ]
  },
  {
   "cell_type": "code",
   "execution_count": 11,
   "id": "005f4a45-f782-4f68-a337-84ea2bc9948e",
   "metadata": {},
   "outputs": [
    {
     "data": {
      "text/plain": [
       "0.8966712898751733"
      ]
     },
     "execution_count": 11,
     "metadata": {},
     "output_type": "execute_result"
    }
   ],
   "source": [
    "tree_model=DecisionTreeClassifier(random_state=2)\n",
    "evaluate_model(df,tree_model,roc_auc_score,13)"
   ]
  },
  {
   "cell_type": "markdown",
   "id": "cd9518f1",
   "metadata": {},
   "source": [
    "### O que acontece quando mudamos os dados de treino?"
   ]
  },
  {
   "cell_type": "code",
   "execution_count": 12,
   "id": "50df3fa4",
   "metadata": {
    "ExecuteTime": {
     "end_time": "2021-08-31T13:59:48.814531Z",
     "start_time": "2021-08-31T13:59:48.205861Z"
    }
   },
   "outputs": [
    {
     "data": {
      "text/plain": [
       "0.8860721407033215"
      ]
     },
     "execution_count": 12,
     "metadata": {},
     "output_type": "execute_result"
    }
   ],
   "source": [
    "# decision tree classifier\n",
    "evaluate_model(df,tree_model,roc_auc_score,42)"
   ]
  },
  {
   "cell_type": "code",
   "execution_count": 13,
   "id": "653b62e2",
   "metadata": {},
   "outputs": [
    {
     "data": {
      "text/plain": [
       "0.8928489439853076"
      ]
     },
     "execution_count": 13,
     "metadata": {},
     "output_type": "execute_result"
    }
   ],
   "source": [
    "evaluate_model(df,tree_model,roc_auc_score,85)"
   ]
  },
  {
   "cell_type": "code",
   "execution_count": 14,
   "id": "2eb7ddb0-6076-44a9-a11b-1f2233fd2f6c",
   "metadata": {},
   "outputs": [
    {
     "data": {
      "text/plain": [
       "0.891400896920794"
      ]
     },
     "execution_count": 14,
     "metadata": {},
     "output_type": "execute_result"
    }
   ],
   "source": [
    "evaluate_model(df,tree_model,roc_auc_score,100)"
   ]
  },
  {
   "cell_type": "code",
   "execution_count": 15,
   "id": "3bb5fb69-a8db-4572-b5fa-dbe1312fa478",
   "metadata": {},
   "outputs": [
    {
     "data": {
      "text/plain": [
       "[0, 1, 2, 3, 4, 5, 6, 7, 8, 9, 10, 11, 12, 13, 14]"
      ]
     },
     "execution_count": 15,
     "metadata": {},
     "output_type": "execute_result"
    }
   ],
   "source": [
    "sementes=[semente for semente in range(15)]\n",
    "sementes"
   ]
  },
  {
   "cell_type": "code",
   "execution_count": 16,
   "id": "e5b19b08-7bd4-4539-a5ba-37d7e8cd5b51",
   "metadata": {},
   "outputs": [
    {
     "data": {
      "text/plain": [
       "[0.9074436810243223,\n",
       " 0.8927344809109568,\n",
       " 0.8813116216683711,\n",
       " 0.8954288323165107,\n",
       " 0.8736636635718588,\n",
       " 0.9032948924027762,\n",
       " 0.909859062170706,\n",
       " 0.9104271727155647,\n",
       " 0.880179398148148,\n",
       " 0.8856000027014979,\n",
       " 0.8892384692384693,\n",
       " 0.9009227069393045,\n",
       " 0.909213193236464,\n",
       " 0.8966712898751733,\n",
       " 0.9058040982727176]"
      ]
     },
     "execution_count": 16,
     "metadata": {},
     "output_type": "execute_result"
    }
   ],
   "source": [
    "scores=[evaluate_model(df, tree_model, roc_auc_score, semente=i) for i in sementes]\n",
    "scores"
   ]
  },
  {
   "cell_type": "code",
   "execution_count": 17,
   "id": "92c671b4-21a2-4593-be3a-8f714daae560",
   "metadata": {},
   "outputs": [
    {
     "data": {
      "text/plain": [
       "<matplotlib.axes._subplots.AxesSubplot at 0x7f99f5107d50>"
      ]
     },
     "execution_count": 17,
     "metadata": {},
     "output_type": "execute_result"
    },
    {
     "data": {
      "image/png": "[encoded data removed]",
      "text/plain": [
       "<Figure size 432x288 with 1 Axes>"
      ]
     },
     "metadata": {
      "needs_background": "light"
     },
     "output_type": "display_data"
    }
   ],
   "source": [
    "sns.lineplot(x=sementes,y=scores)"
   ]
  },
  {
   "cell_type": "markdown",
   "id": "e2b028bb-79ea-4bc0-a685-15ec25609a8b",
   "metadata": {},
   "source": [
    "**Para pensar:** só mudamos quais emails estamos usando para treinar e a performance está instável!"
   ]
  },
  {
   "cell_type": "markdown",
   "id": "61daa5db",
   "metadata": {},
   "source": [
    "### Enfim, as instabilidade!"
   ]
  },
  {
   "cell_type": "code",
   "execution_count": 18,
   "id": "54a24a9f",
   "metadata": {
    "ExecuteTime": {
     "end_time": "2021-08-31T13:59:56.400195Z",
     "start_time": "2021-08-31T13:59:56.390204Z"
    }
   },
   "outputs": [],
   "source": [
    "# função que sumariza QUASE TODOS os passos acima\n",
    "\n",
    "def plot_scores(quantidade, modelo_eval, score_eval):\n",
    "    sementes = [i for i in range(quantidade)]\n",
    "    scores = [evaluate_model(df, modelo=modelo_eval, scoring_function=score_eval, semente=j) for j in sementes]\n",
    "    \n",
    "    sns.lineplot(x=sementes, y=scores)\n",
    "    print(f\"média: {np.mean(scores)}, desvio padrão: {np.std(scores)}\")"
   ]
  },
  {
   "cell_type": "code",
   "execution_count": 19,
   "id": "2c25f985",
   "metadata": {},
   "outputs": [
    {
     "name": "stdout",
     "output_type": "stream",
     "text": [
      "média: 0.8961195043461896, desvio padrão: 0.011574075616600933\n"
     ]
    },
    {
     "data": {
      "image/png": "[encoded data removed]",
      "text/plain": [
       "<Figure size 432x288 with 1 Axes>"
      ]
     },
     "metadata": {
      "needs_background": "light"
     },
     "output_type": "display_data"
    }
   ],
   "source": [
    "plot_scores(15,tree_model,roc_auc_score)"
   ]
  },
  {
   "cell_type": "markdown",
   "id": "b807b0ff",
   "metadata": {},
   "source": [
    "# Bagging\n",
    "Um meio de evitar a instabilidade é treinar diversos modelos **em paralelo** com **amostras** dos dados (técnia de **bootstrapping**) e combinar a decisão de todos eles no final. No caso de *regressão* fazemos a **média** dos resultados e para *classificação*, uma **votação**.\n",
    "\n",
    "* Bootstrapping: Amostragem dos dados com reposição\n",
    "* Modelos em paralelo: um modelo é idependente do outro\n",
    "* Weak learner: Conjunto de amostra de dados + instancia do modelo\n",
    "\n",
    "\n",
    "<img src=\"images/bagging_sketch.png\">"
   ]
  },
  {
   "cell_type": "code",
   "execution_count": 27,
   "id": "a38334f5",
   "metadata": {
    "ExecuteTime": {
     "end_time": "2021-08-31T14:05:31.723100Z",
     "start_time": "2021-08-31T14:05:31.718098Z"
    }
   },
   "outputs": [
    {
     "data": {
      "text/plain": [
       "0.8875639782504634"
      ]
     },
     "execution_count": 27,
     "metadata": {},
     "output_type": "execute_result"
    }
   ],
   "source": [
    "# implementação do BaggingClassifier no sklearn\n",
    "from sklearn.ensemble import BaggingClassifier\n",
    "from sklearn.linear_model import LogisticRegression\n",
    "\n",
    "modelo=LogisticRegression()\n",
    "\n",
    "bc= BaggingClassifier(base_estimator=modelo, n_estimators=10,max_samples=1.0, random_state=9)\n",
    "\n",
    "bc.fit(X_treino,y_treino)\n",
    "\n",
    "y_pred=bc.predict(X_teste)\n",
    "\n",
    "roc_auc_score(y_teste,y_pred)"
   ]
  },
  {
   "cell_type": "code",
   "execution_count": 33,
   "id": "2424e66a",
   "metadata": {
    "ExecuteTime": {
     "end_time": "2021-08-31T14:05:37.859910Z",
     "start_time": "2021-08-31T14:05:37.848191Z"
    }
   },
   "outputs": [
    {
     "name": "stdout",
     "output_type": "stream",
     "text": [
      "média: 0.9684035442241576, desvio padrão: 0.006351766915157323\n"
     ]
    },
    {
     "data": {
      "image/png": "[encoded data removed]",
      "text/plain": [
       "<Figure size 432x288 with 1 Axes>"
      ]
     },
     "metadata": {
      "needs_background": "light"
     },
     "output_type": "display_data"
    }
   ],
   "source": [
    "# será que é mais estável?\n",
    "modelo=LogisticRegression()\n",
    "bc= BaggingClassifier(base_estimator=modelo, n_estimators=10,max_samples=1.0,max_features=1.0, random_state=9)\n",
    "plot_scores(quantidade=15,modelo_eval=bc,score_eval=roc_auc_score)\n"
   ]
  },
  {
   "cell_type": "code",
   "execution_count": 30,
   "id": "2cff2343-7ffe-4a55-8228-3a38122f690c",
   "metadata": {
    "ExecuteTime": {
     "end_time": "2021-08-31T14:05:37.859910Z",
     "start_time": "2021-08-31T14:05:37.848191Z"
    }
   },
   "outputs": [
    {
     "name": "stdout",
     "output_type": "stream",
     "text": [
      "média: 0.9540891390867523, desvio padrão: 0.010027531767909029\n"
     ]
    },
    {
     "data": {
      "image/png": "[encoded data removed]",
      "text/plain": [
       "<Figure size 432x288 with 1 Axes>"
      ]
     },
     "metadata": {
      "needs_background": "light"
     },
     "output_type": "display_data"
    }
   ],
   "source": [
    "# será que é mais estável?\n",
    "modelo=DecisionTreeClassifier()\n",
    "bc= BaggingClassifier(base_estimator=modelo, n_estimators=10,max_samples=1.0,max_features=1.0, random_state=9)\n",
    "plot_scores(quantidade=15,modelo_eval=bc,score_eval=roc_auc_score)\n"
   ]
  },
  {
   "cell_type": "code",
   "execution_count": 35,
   "id": "a50ac807-9315-49e6-a8ff-ef7905cc784f",
   "metadata": {
    "ExecuteTime": {
     "end_time": "2021-08-31T14:05:37.859910Z",
     "start_time": "2021-08-31T14:05:37.848191Z"
    }
   },
   "outputs": [
    {
     "name": "stdout",
     "output_type": "stream",
     "text": [
      "média: 0.9704933212285861, desvio padrão: 0.008133116757579469\n"
     ]
    },
    {
     "data": {
      "image/png": "[encoded data removed]",
      "text/plain": [
       "<Figure size 432x288 with 1 Axes>"
      ]
     },
     "metadata": {
      "needs_background": "light"
     },
     "output_type": "display_data"
    }
   ],
   "source": [
    "# será que é mais estável?\n",
    "modelo=DecisionTreeClassifier()\n",
    "bc= BaggingClassifier(base_estimator=modelo, n_estimators=20,max_samples=0.7,max_features=0.6, random_state=9)\n",
    "plot_scores(quantidade=15,modelo_eval=bc,score_eval=roc_auc_score)\n"
   ]
  },
  {
   "cell_type": "markdown",
   "id": "918850b8",
   "metadata": {},
   "source": [
    "**Para pensar:** Qual o custo da estabilidade trazida pelo bagging?\n",
    "> Estabilidade aumenta com o aumento de weak learners, porém também aumenta o tempo de processamento  "
   ]
  },
  {
   "cell_type": "code",
   "execution_count": 45,
   "id": "40b19dd4-6198-4a8f-bbac-bb43d0768c80",
   "metadata": {
    "ExecuteTime": {
     "end_time": "2021-08-31T13:09:36.883250Z",
     "start_time": "2021-08-31T13:09:36.871655Z"
    }
   },
   "outputs": [
    {
     "name": "stdout",
     "output_type": "stream",
     "text": [
      "2.75 s ± 241 ms per loop (mean ± std. dev. of 7 runs, 1 loop each)\n"
     ]
    }
   ],
   "source": [
    "%%timeit\n",
    "\n",
    "modelo=DecisionTreeClassifier()\n",
    "\n",
    "bc= BaggingClassifier(base_estimator=modelo, n_estimators=100,max_samples=1.0, random_state=9)\n",
    "\n",
    "bc.fit(X_treino,y_treino)\n",
    "\n",
    "y_pred=bc.predict(X_teste)\n",
    "\n",
    "roc_auc_score(y_teste,y_pred)"
   ]
  },
  {
   "cell_type": "markdown",
   "id": "0bd48035",
   "metadata": {},
   "source": [
    "## Bagging of trees: **Random Forest**\n",
    "\n",
    "Aplica a técnica de bootstrapping para criar diversas árvores!\n",
    "\n",
    "- cada árvore é um weak learned! \n",
    "\n",
    "<img src=\"images/random_forest.png\">"
   ]
  },
  {
   "cell_type": "code",
   "execution_count": 37,
   "id": "c2af0fb8",
   "metadata": {
    "ExecuteTime": {
     "end_time": "2021-08-31T14:06:13.913560Z",
     "start_time": "2021-08-31T14:06:13.904666Z"
    }
   },
   "outputs": [],
   "source": [
    "# implementação do random forest no sklearn\n",
    "from sklearn.ensemble import RandomForestClassifier"
   ]
  },
  {
   "cell_type": "markdown",
   "id": "679d2c01-d2e7-44af-abc9-99ee2c0af735",
   "metadata": {},
   "source": [
    ">A implementação do Random Forest é muito mais eficiente do que implementar um bagging de árvores na mão"
   ]
  },
  {
   "cell_type": "code",
   "execution_count": 44,
   "id": "f1331518",
   "metadata": {
    "ExecuteTime": {
     "end_time": "2021-08-31T14:02:12.779655Z",
     "start_time": "2021-08-31T14:01:41.785654Z"
    }
   },
   "outputs": [
    {
     "name": "stdout",
     "output_type": "stream",
     "text": [
      "735 ms ± 106 ms per loop (mean ± std. dev. of 7 runs, 1 loop each)\n"
     ]
    }
   ],
   "source": [
    "%%timeit\n",
    "rfc=RandomForestClassifier(n_estimators=100, random_state=9)\n",
    "rfc.fit(X_treino,y_treino)\n",
    "y_pred=rfc.predict(X_teste)\n",
    "\n",
    "roc_auc_score(y_teste,y_pred)"
   ]
  },
  {
   "cell_type": "code",
   "execution_count": 43,
   "id": "e79bc463",
   "metadata": {
    "ExecuteTime": {
     "end_time": "2021-08-31T14:02:26.737303Z",
     "start_time": "2021-08-31T14:02:12.781692Z"
    }
   },
   "outputs": [
    {
     "name": "stdout",
     "output_type": "stream",
     "text": [
      "média: 0.9742440486355727, desvio padrão: 0.0062596190210580235\n"
     ]
    },
    {
     "data": {
      "image/png": "[encoded data removed]",
      "text/plain": [
       "<Figure size 432x288 with 1 Axes>"
      ]
     },
     "metadata": {
      "needs_background": "light"
     },
     "output_type": "display_data"
    }
   ],
   "source": [
    "plot_scores(quantidade=15,modelo_eval=rfc,score_eval=roc_auc_score)"
   ]
  },
  {
   "cell_type": "code",
   "execution_count": null,
   "id": "3de9659a",
   "metadata": {},
   "outputs": [],
   "source": []
  },
  {
   "cell_type": "markdown",
   "id": "689a39c7",
   "metadata": {},
   "source": [
    "# Boosting"
   ]
  },
  {
   "cell_type": "markdown",
   "id": "1ae0b47b",
   "metadata": {},
   "source": [
    "Ao contrário do bagging, o método de boosting treina diversos modelos **em sequência**. \n",
    "\n",
    "<img src=\"images/boosting.png\">\n",
    "\n"
   ]
  },
  {
   "cell_type": "markdown",
   "id": "c3b6d9f0",
   "metadata": {},
   "source": [
    "\n",
    "Essa técnica usa todos os dados e a cada iteração atribui diferentes pesos (importâncias) para os pontos que são classificados erroneamente (pode se tornar obcecado por outilers!). \n",
    "\n",
    "<img src=\"images/boosting1.jpeg\">"
   ]
  },
  {
   "cell_type": "markdown",
   "id": "fbb6a777",
   "metadata": {},
   "source": [
    "<img src=\"https://i.stack.imgur.com/mQ9Np.png\"/>"
   ]
  },
  {
   "cell_type": "code",
   "execution_count": null,
   "id": "2b21cbfa",
   "metadata": {},
   "outputs": [],
   "source": []
  },
  {
   "cell_type": "markdown",
   "id": "642a2f17",
   "metadata": {},
   "source": [
    "## Entendo os pesos!"
   ]
  },
  {
   "cell_type": "code",
   "execution_count": 46,
   "id": "08f993a1",
   "metadata": {
    "ExecuteTime": {
     "end_time": "2021-08-31T14:02:27.094170Z",
     "start_time": "2021-08-31T14:02:26.746203Z"
    }
   },
   "outputs": [
    {
     "data": {
      "text/plain": [
       "Text(0, 0.5, 'a_m')"
      ]
     },
     "execution_count": 46,
     "metadata": {},
     "output_type": "execute_result"
    },
    {
     "data": {
      "image/png": "[encoded data removed]",
      "text/plain": [
       "<Figure size 432x288 with 1 Axes>"
      ]
     },
     "metadata": {
      "needs_background": "light"
     },
     "output_type": "display_data"
    }
   ],
   "source": [
    "err_m = np.sort(np.random.random(100))\n",
    "\n",
    "def a_m(x):\n",
    "    return np.log((1-x)/x)\n",
    "\n",
    "plt.plot(err_m, a_m(err_m))\n",
    "plt.xlabel('err_m')\n",
    "plt.ylabel('a_m')"
   ]
  },
  {
   "cell_type": "code",
   "execution_count": null,
   "id": "54d0bac8",
   "metadata": {},
   "outputs": [],
   "source": []
  },
  {
   "cell_type": "markdown",
   "id": "2c6cd33d",
   "metadata": {},
   "source": [
    "## Algoritimos de boosting"
   ]
  },
  {
   "cell_type": "markdown",
   "id": "aefa4502",
   "metadata": {},
   "source": [
    "### [AdaBoost](https://en.wikipedia.org/wiki/AdaBoost): Adaptative boosting"
   ]
  },
  {
   "cell_type": "code",
   "execution_count": 50,
   "id": "5512783e",
   "metadata": {
    "ExecuteTime": {
     "end_time": "2021-08-31T14:02:27.354849Z",
     "start_time": "2021-08-31T14:02:27.098368Z"
    }
   },
   "outputs": [],
   "source": [
    "from sklearn.ensemble import AdaBoostClassifier,AdaBoostRegressor"
   ]
  },
  {
   "cell_type": "code",
   "execution_count": 51,
   "id": "0cc81e1d",
   "metadata": {
    "ExecuteTime": {
     "end_time": "2021-08-31T14:02:27.934287Z",
     "start_time": "2021-08-31T14:02:27.361678Z"
    }
   },
   "outputs": [
    {
     "data": {
      "text/plain": [
       "0.8159420912449523"
      ]
     },
     "execution_count": 51,
     "metadata": {},
     "output_type": "execute_result"
    }
   ],
   "source": [
    "modelo=LogisticRegression()\n",
    "\n",
    "abc=AdaBoostClassifier(base_estimator=modelo, n_estimators=50, random_state=9)\n",
    "\n",
    "abc.fit(X_treino,y_treino)\n",
    "\n",
    "y_pred=abc.predict(X_teste)\n",
    "\n",
    "roc_auc_score(y_teste,y_pred)"
   ]
  },
  {
   "cell_type": "code",
   "execution_count": 53,
   "id": "62b7f405",
   "metadata": {},
   "outputs": [
    {
     "name": "stdout",
     "output_type": "stream",
     "text": [
      "média: 0.9675669201145948, desvio padrão: 0.005713056799854984\n"
     ]
    },
    {
     "data": {
      "image/png": "[encoded data removed]",
      "text/plain": [
       "<Figure size 432x288 with 1 Axes>"
      ]
     },
     "metadata": {
      "needs_background": "light"
     },
     "output_type": "display_data"
    }
   ],
   "source": [
    "modelo=LogisticRegression()\n",
    "abc=AdaBoostClassifier(base_estimator=modelo, n_estimators=50, random_state=9)\n",
    "\n",
    "plot_scores(quantidade=15,modelo_eval=modelo, score_eval=roc_auc_score)"
   ]
  },
  {
   "cell_type": "code",
   "execution_count": 54,
   "id": "ce2cef63-bf61-4ce1-b06b-9cf0ee42f30d",
   "metadata": {},
   "outputs": [
    {
     "name": "stdout",
     "output_type": "stream",
     "text": [
      "média: 0.8978600191896847, desvio padrão: 0.015559177010852385\n"
     ]
    },
    {
     "data": {
      "image/png": "[encoded data removed]",
      "text/plain": [
       "<Figure size 432x288 with 1 Axes>"
      ]
     },
     "metadata": {
      "needs_background": "light"
     },
     "output_type": "display_data"
    }
   ],
   "source": [
    "modelo=DecisionTreeClassifier()\n",
    "abc=AdaBoostClassifier(base_estimator=modelo, n_estimators=50, random_state=9)\n",
    "\n",
    "plot_scores(quantidade=15,modelo_eval=modelo, score_eval=roc_auc_score)"
   ]
  },
  {
   "cell_type": "markdown",
   "id": "02b6db08",
   "metadata": {},
   "source": [
    "### [LightGBM](https://lightgbm.readthedocs.io/en/latest/Installation-Guide.html): Light Gradient Boosting Machine\n",
    ">Ele vai tentando diminuir o erro, é um algoritmo de árvore\n",
    "\n",
    "pip install lightgbm\n",
    "\n",
    "> **USADO NO ITAÚ**"
   ]
  },
  {
   "cell_type": "code",
   "execution_count": 48,
   "id": "bc4a5dbd-8354-41a2-9370-abcc3dce2904",
   "metadata": {},
   "outputs": [],
   "source": [
    "#!pip install lightgbm"
   ]
  },
  {
   "cell_type": "code",
   "execution_count": 56,
   "id": "d5d43288",
   "metadata": {
    "ExecuteTime": {
     "end_time": "2021-08-31T14:02:30.090799Z",
     "start_time": "2021-08-31T14:02:27.941284Z"
    }
   },
   "outputs": [
    {
     "data": {
      "text/plain": [
       "0.917712002749377"
      ]
     },
     "execution_count": 56,
     "metadata": {},
     "output_type": "execute_result"
    }
   ],
   "source": [
    "from lightgbm import LGBMClassifier\n",
    "\n",
    "lgbm = LGBMClassifier()\n",
    "\n",
    "lgbm.fit(X_treino*1.0, y_treino*1.0) #Multiplicamos por 1.0 pq precisa ser float \n",
    "\n",
    "y_pred = lgbm.predict(X_teste*1.0)\n",
    "\n",
    "roc_auc_score(y_teste, y_pred)"
   ]
  },
  {
   "cell_type": "code",
   "execution_count": 64,
   "id": "343056a5",
   "metadata": {},
   "outputs": [],
   "source": [
    "# plot_scores(quantidade=15*1.0,modelo_eval=lgbm, score_eval=roc_auc_score)"
   ]
  },
  {
   "cell_type": "markdown",
   "id": "02e87fbc",
   "metadata": {},
   "source": [
    "### [Xgboost](https://xgboost.readthedocs.io/en/latest/): Extreme gradient boosting\n",
    "> É um algoritmo de árvore\n",
    "\n",
    "pip install xgboost"
   ]
  },
  {
   "cell_type": "code",
   "execution_count": 58,
   "id": "c04bdb62-ed76-40b8-a386-eba08b87c51f",
   "metadata": {},
   "outputs": [],
   "source": [
    "# !pip install xgboost"
   ]
  },
  {
   "cell_type": "code",
   "execution_count": 60,
   "id": "9363738a",
   "metadata": {
    "ExecuteTime": {
     "end_time": "2021-08-31T14:02:31.405526Z",
     "start_time": "2021-08-31T14:02:30.093214Z"
    }
   },
   "outputs": [
    {
     "name": "stderr",
     "output_type": "stream",
     "text": [
      "/home/zgiuliana/anaconda3/lib/python3.7/site-packages/xgboost/sklearn.py:1146: UserWarning: The use of label encoder in XGBClassifier is deprecated and will be removed in a future release. To remove this warning, do the following: 1) Pass option use_label_encoder=False when constructing XGBClassifier object; and 2) Encode your labels (y) as integers starting with 0, i.e. 0, 1, 2, ..., [num_class - 1].\n",
      "  warnings.warn(label_encoder_deprecation_msg, UserWarning)\n"
     ]
    },
    {
     "name": "stdout",
     "output_type": "stream",
     "text": [
      "[12:34:32] WARNING: ../src/learner.cc:1095: Starting in XGBoost 1.3.0, the default evaluation metric used with the objective 'binary:logistic' was changed from 'error' to 'logloss'. Explicitly set eval_metric if you'd like to restore the old behavior.\n"
     ]
    },
    {
     "data": {
      "text/plain": [
       "0.9170185214733715"
      ]
     },
     "execution_count": 60,
     "metadata": {},
     "output_type": "execute_result"
    }
   ],
   "source": [
    "from xgboost import XGBClassifier\n",
    "\n",
    "xgc = XGBClassifier(verbosity=1)\n",
    "\n",
    "xgc.fit(X_treino, y_treino)\n",
    "\n",
    "y_pred = xgc.predict(X_teste)\n",
    "\n",
    "roc_auc_score(y_teste, y_pred)"
   ]
  },
  {
   "cell_type": "code",
   "execution_count": null,
   "id": "599e4671",
   "metadata": {},
   "outputs": [],
   "source": [
    "plot_scores(quantidade=15,modelo_eval=modelo, score_eval=roc_auc_score)"
   ]
  },
  {
   "cell_type": "markdown",
   "id": "3233eb9f",
   "metadata": {},
   "source": [
    "# Bonus: Stacking models\n",
    "\n",
    "Para expandir nosso horizonte, vamos estender as idéais acima para a combinação de diferentes modelos, técnica conhecida como [Stacking](https://scikit-learn.org/stable/modules/generated/sklearn.ensemble.StackingClassifier.html)."
   ]
  },
  {
   "cell_type": "code",
   "execution_count": 63,
   "id": "f03147a2",
   "metadata": {
    "ExecuteTime": {
     "end_time": "2021-08-31T14:02:32.676415Z",
     "start_time": "2021-08-31T14:02:31.407526Z"
    }
   },
   "outputs": [
    {
     "data": {
      "text/plain": [
       "0.9044376664661913"
      ]
     },
     "execution_count": 63,
     "metadata": {},
     "output_type": "execute_result"
    }
   ],
   "source": [
    "from sklearn.ensemble import StackingClassifier\n",
    "from sklearn.neighbors import KNeighborsClassifier\n",
    "from sklearn.svm import SVC\n",
    "\n",
    "\n",
    "nosso_estimator = [\n",
    "    ('lr', LogisticRegression()),\n",
    "    ('tree', DecisionTreeClassifier())\n",
    "]\n",
    "\n",
    "sc = StackingClassifier(estimators=nosso_estimator, final_estimator=KNeighborsClassifier(), cv=7)\n",
    "\n",
    "sc.fit(X_treino, y_treino)\n",
    "\n",
    "y_pred = sc.predict(X_teste)\n",
    "roc_auc_score(y_teste, y_pred)"
   ]
  },
  {
   "cell_type": "code",
   "execution_count": null,
   "id": "b31b6107",
   "metadata": {},
   "outputs": [],
   "source": []
  }
 ],
 "metadata": {
  "kernelspec": {
   "display_name": "Python 3",
   "language": "python",
   "name": "python3"
  },
  "language_info": {
   "codemirror_mode": {
    "name": "ipython",
    "version": 3
   },
   "file_extension": ".py",
   "mimetype": "text/x-python",
   "name": "python",
   "nbconvert_exporter": "python",
   "pygments_lexer": "ipython3",
   "version": "3.8.8"
  },
  "latex_envs": {
   "LaTeX_envs_menu_present": true,
   "autoclose": false,
   "autocomplete": true,
   "bibliofile": "biblio.bib",
   "cite_by": "apalike",
   "current_citInitial": 1,
   "eqLabelWithNumbers": true,
   "eqNumInitial": 1,
   "hotkeys": {
    "equation": "Ctrl-E",
    "itemize": "Ctrl-I"
   },
   "labels_anchors": false,
   "latex_user_defs": false,
   "report_style_numbering": false,
   "user_envs_cfg": false
  },
  "toc": {
   "base_numbering": 1,
   "nav_menu": {},
   "number_sections": true,
   "sideBar": true,
   "skip_h1_title": false,
   "title_cell": "Table of Contents",
   "title_sidebar": "Contents",
   "toc_cell": false,
   "toc_position": {
    "height": "calc(100% - 180px)",
    "left": "10px",
    "top": "150px",
    "width": "256.875px"
   },
   "toc_section_display": true,
   "toc_window_display": true
  },
  "varInspector": {
   "cols": {
    "lenName": 16,
    "lenType": 16,
    "lenVar": 40
   },
   "kernels_config": {
    "python": {
     "delete_cmd_postfix": "",
     "delete_cmd_prefix": "del ",
     "library": "var_list.py",
     "varRefreshCmd": "print(var_dic_list())"
    },
    "r": {
     "delete_cmd_postfix": ") ",
     "delete_cmd_prefix": "rm(",
     "library": "var_list.r",
     "varRefreshCmd": "cat(var_dic_list()) "
    }
   },
   "types_to_exclude": [
    "module",
    "function",
    "builtin_function_or_method",
    "instance",
    "_Feature"
   ],
   "window_display": false
  }
 },
 "nbformat": 4,
 "nbformat_minor": 5
}

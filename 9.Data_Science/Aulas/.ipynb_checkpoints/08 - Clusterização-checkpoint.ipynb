{
 "cells": [
  {
   "cell_type": "markdown",
   "metadata": {},
   "source": [
    "# Algoritmos de Clusterização"
   ]
  },
  {
   "cell_type": "markdown",
   "metadata": {},
   "source": [
    "## Mudando o Dataset..."
   ]
  },
  {
   "cell_type": "markdown",
   "metadata": {},
   "source": [
    "## Aprendizados Supervisionado vs. Não supervisionado"
   ]
  },
  {
   "cell_type": "markdown",
   "metadata": {},
   "source": [
    "* Supervisionado: variável respostas classificada (labeled target)\n",
    "* **Não**-supervisionado: variável resposta **não** classificada ou não definida.\n",
    "\n",
    "<img src=images/sup-vs-unsup.png>"
   ]
  },
  {
   "cell_type": "markdown",
   "metadata": {},
   "source": [
    "Na prática:\n",
    "\n",
    "<img src= images/clustering.jpg>"
   ]
  },
  {
   "cell_type": "markdown",
   "metadata": {},
   "source": [
    "## K-Means\n",
    "\n",
    "1. Escolha aleatória de N exemplos do conjunto de dados que serão os centróides iniciais;\n",
    "2. Por meio de uma métrica de proximidade, assimila cada instância do conjunto de dados a um centróide;\n",
    "3. Cria novos N centróides baseado na média de todos os exemplos associados a um centróide específico.\n",
    "\n",
    "\n",
    "> [Gif animado](https://commons.wikimedia.org/wiki/File:K-means_convergence.gif)  \n",
    "> [Vídeo explicativo](https://youtu.be/QXOkPvFM6NU?t=244)"
   ]
  },
  {
   "cell_type": "code",
   "execution_count": 1,
   "metadata": {},
   "outputs": [
    {
     "ename": "ModuleNotFoundError",
     "evalue": "No module named 'mlxtend'",
     "output_type": "error",
     "traceback": [
      "\u001b[1;31m---------------------------------------------------------------------------\u001b[0m",
      "\u001b[1;31mModuleNotFoundError\u001b[0m                       Traceback (most recent call last)",
      "\u001b[1;32m<ipython-input-1-42566c44080e>\u001b[0m in \u001b[0;36m<module>\u001b[1;34m\u001b[0m\n\u001b[0;32m      3\u001b[0m \u001b[1;32mimport\u001b[0m \u001b[0mmatplotlib\u001b[0m\u001b[1;33m.\u001b[0m\u001b[0mpyplot\u001b[0m \u001b[1;32mas\u001b[0m \u001b[0mplt\u001b[0m\u001b[1;33m\u001b[0m\u001b[1;33m\u001b[0m\u001b[0m\n\u001b[0;32m      4\u001b[0m \u001b[1;32mfrom\u001b[0m \u001b[0msklearn\u001b[0m\u001b[1;33m.\u001b[0m\u001b[0mcluster\u001b[0m \u001b[1;32mimport\u001b[0m \u001b[0mKMeans\u001b[0m\u001b[1;33m\u001b[0m\u001b[1;33m\u001b[0m\u001b[0m\n\u001b[1;32m----> 5\u001b[1;33m \u001b[1;32mfrom\u001b[0m \u001b[0mmlxtend\u001b[0m\u001b[1;33m.\u001b[0m\u001b[0mplotting\u001b[0m \u001b[1;32mimport\u001b[0m \u001b[0mplot_decision_regions\u001b[0m\u001b[1;33m\u001b[0m\u001b[1;33m\u001b[0m\u001b[0m\n\u001b[0m\u001b[0;32m      6\u001b[0m \u001b[1;33m\u001b[0m\u001b[0m\n\u001b[0;32m      7\u001b[0m \u001b[1;32mfrom\u001b[0m \u001b[0msklearn\u001b[0m\u001b[1;33m.\u001b[0m\u001b[0mdatasets\u001b[0m \u001b[1;32mimport\u001b[0m \u001b[0mmake_blobs\u001b[0m\u001b[1;33m,\u001b[0m \u001b[0mmake_moons\u001b[0m\u001b[1;33m\u001b[0m\u001b[1;33m\u001b[0m\u001b[0m\n",
      "\u001b[1;31mModuleNotFoundError\u001b[0m: No module named 'mlxtend'"
     ]
    }
   ],
   "source": [
    "import numpy as np\n",
    "import pandas as pd\n",
    "import matplotlib.pyplot as plt\n",
    "from sklearn.cluster import KMeans\n",
    "from mlxtend.plotting import plot_decision_regions\n",
    "\n",
    "from sklearn.datasets import make_blobs, make_moons"
   ]
  },
  {
   "cell_type": "markdown",
   "metadata": {},
   "source": [
    "### X_blobs e y_blobs\n",
    "\n",
    "- X_blobs: as variáveis de entrada (as coordenadas dos pontos)\n",
    "- y_blobs: as variáveis de saída (resposta) - o cluster ao qual cada ponto pertence"
   ]
  },
  {
   "cell_type": "code",
   "execution_count": null,
   "metadata": {},
   "outputs": [],
   "source": [
    "n_centers = 5\n",
    "X_blobs, y_blobs = make_blobs(n_samples = 100, n_features = 2, cluster_std = 1., \n",
    "                              centers = n_centers, random_state=42)\n",
    "\n",
    "for i in range(n_centers):\n",
    "    plt.scatter(X_blobs[y_blobs == i, 0], X_blobs[y_blobs == i, 1])\n",
    "\n",
    "plt.xlabel('X1')\n",
    "plt.ylabel('X2')\n",
    "plt.show()"
   ]
  },
  {
   "cell_type": "code",
   "execution_count": null,
   "metadata": {},
   "outputs": [],
   "source": [
    "plt.scatter(X_blobs[:,0], X_blobs[:,1])"
   ]
  },
  {
   "cell_type": "code",
   "execution_count": null,
   "metadata": {},
   "outputs": [],
   "source": [
    "y_blobs"
   ]
  },
  {
   "cell_type": "markdown",
   "metadata": {
    "tags": []
   },
   "source": [
    "### Aplicando o K-means"
   ]
  },
  {
   "cell_type": "code",
   "execution_count": null,
   "metadata": {},
   "outputs": [],
   "source": [
    "# como modelar? ==>> padrão sklearn!\n",
    "km=KMeans(n_clusters=5)\n",
    "\n",
    "km.fit(X_blobs) # Diferença! Não passamos a variável resposta (target)"
   ]
  },
  {
   "cell_type": "code",
   "execution_count": null,
   "metadata": {},
   "outputs": [],
   "source": [
    "# mas então, o que o predict faz?\n",
    "y_pred=km.predict(X_blobs)\n",
    "y_pred"
   ]
  },
  {
   "cell_type": "code",
   "execution_count": null,
   "metadata": {},
   "outputs": [],
   "source": [
    "# Vamos visualizar a região de decisão do K-means\n",
    "plot_decision_regions(X_blobs,y_pred,clf=km)"
   ]
  },
  {
   "cell_type": "markdown",
   "metadata": {},
   "source": [
    "### Métodos do [K-means](https://scikit-learn.org/stable/modules/clustering.html#k-means):\n",
    "- cluster centers\n",
    "- inertia"
   ]
  },
  {
   "cell_type": "code",
   "execution_count": null,
   "metadata": {},
   "outputs": [],
   "source": [
    "# Visualizando os centróides\n",
    "km.cluster_centers_"
   ]
  },
  {
   "cell_type": "code",
   "execution_count": null,
   "metadata": {},
   "outputs": [],
   "source": [
    "plt.scatter(km.cluster_centers_[:,0],km.cluster_centers_[:,1],marker='x',s=100)"
   ]
  },
  {
   "cell_type": "code",
   "execution_count": null,
   "metadata": {},
   "outputs": [],
   "source": [
    "plt.scatter(X_blobs[:,0], X_blobs[:,1])\n",
    "plt.scatter(km.cluster_centers_[:,0],km.cluster_centers_[:,1],marker='x',s=200,color='red')"
   ]
  },
  {
   "cell_type": "code",
   "execution_count": null,
   "metadata": {},
   "outputs": [],
   "source": [
    "# sum(distância do centroide para cada ponto do seu cluster)²\n",
    "km.inertia_"
   ]
  },
  {
   "cell_type": "code",
   "execution_count": null,
   "metadata": {},
   "outputs": [],
   "source": [
    "# E, se utilizássemos 100 centros, ao invés de 5?\n",
    "km=KMeans(n_clusters=100)\n",
    "\n",
    "km.fit(X_blobs)\n",
    "print('inercia:',km.inertia_)\n",
    "plt.scatter(X_blobs[:,0], X_blobs[:,1],alpha=0.8,c='black')\n",
    "plt.scatter(km.cluster_centers_[:,0],km.cluster_centers_[:,1],marker='x',s=200,color='red')"
   ]
  },
  {
   "cell_type": "markdown",
   "metadata": {},
   "source": [
    "### Qual o melhor número de centros?\n",
    "**O método do cotovelo** (elbow method)"
   ]
  },
  {
   "cell_type": "code",
   "execution_count": null,
   "metadata": {},
   "outputs": [],
   "source": [
    "inercias=[]\n",
    "range_centers=list(range(2,15))\n",
    "for i in range_centers:\n",
    "    km=KMeans(n_clusters=i)\n",
    "    km.fit(X_blobs)\n",
    "    inercias.append(km.inertia_)"
   ]
  },
  {
   "cell_type": "code",
   "execution_count": null,
   "metadata": {},
   "outputs": [],
   "source": [
    "inercias"
   ]
  },
  {
   "cell_type": "code",
   "execution_count": null,
   "metadata": {},
   "outputs": [],
   "source": [
    "range_centers"
   ]
  },
  {
   "cell_type": "code",
   "execution_count": null,
   "metadata": {},
   "outputs": [],
   "source": [
    "plt.figure(figsize=(16,7))\n",
    "plt.plot(range_centers,inercias)\n",
    "plt.xlabel('Quantidade de clusters')\n",
    "plt.ylabel('Inercia')\n",
    "plt.xticks(range_centers)\n",
    "plt.show()"
   ]
  },
  {
   "cell_type": "markdown",
   "metadata": {},
   "source": [
    "**Encontrar o último ponto antes de a linha ficar plana!**\n",
    "\n",
    "Nem sempre é fácil decidir!"
   ]
  },
  {
   "cell_type": "markdown",
   "metadata": {},
   "source": [
    "### Para praticar: aplique o K-means ao dataset da Iris"
   ]
  },
  {
   "cell_type": "code",
   "execution_count": null,
   "metadata": {},
   "outputs": [],
   "source": []
  },
  {
   "cell_type": "code",
   "execution_count": null,
   "metadata": {},
   "outputs": [],
   "source": []
  },
  {
   "cell_type": "code",
   "execution_count": null,
   "metadata": {},
   "outputs": [],
   "source": []
  },
  {
   "cell_type": "code",
   "execution_count": null,
   "metadata": {},
   "outputs": [],
   "source": []
  },
  {
   "cell_type": "code",
   "execution_count": null,
   "metadata": {},
   "outputs": [],
   "source": []
  },
  {
   "cell_type": "code",
   "execution_count": null,
   "metadata": {},
   "outputs": [],
   "source": []
  },
  {
   "cell_type": "code",
   "execution_count": null,
   "metadata": {},
   "outputs": [],
   "source": []
  },
  {
   "cell_type": "code",
   "execution_count": null,
   "metadata": {},
   "outputs": [],
   "source": []
  },
  {
   "cell_type": "code",
   "execution_count": null,
   "metadata": {},
   "outputs": [],
   "source": []
  },
  {
   "cell_type": "code",
   "execution_count": null,
   "metadata": {},
   "outputs": [],
   "source": []
  },
  {
   "cell_type": "markdown",
   "metadata": {},
   "source": [
    "### Mudando o Dataset..."
   ]
  },
  {
   "cell_type": "code",
   "execution_count": null,
   "metadata": {},
   "outputs": [],
   "source": [
    "from sklearn.datasets import make_moons\n",
    "\n",
    "X_moon,y_moon=make_moons(n_samples=500,noise=0.1,random_state=0)\n",
    "\n",
    "plt.scatter(X_moon[:,0],X_moon[:,1])\n",
    "plt.xlabel('X1')\n",
    "plt.xlabel('X2')\n",
    "plt.show()"
   ]
  },
  {
   "cell_type": "markdown",
   "metadata": {},
   "source": [
    "### APlicando o K-means nesse dataset"
   ]
  },
  {
   "cell_type": "code",
   "execution_count": null,
   "metadata": {},
   "outputs": [],
   "source": [
    "km_moon = KMeans(n_clusters=2)\n",
    "\n",
    "km_moon.fit(X_moon)\n",
    "\n",
    "y_pred = km_moon.predict(X_moon)\n",
    "\n",
    "# plot features X1 e X2 marcadas com a \"cor\" da previsão do modelo KMeans\n",
    "plt.scatter(X_moon[:,0], X_moon[:,1], c=y_pred) \n",
    "\n",
    "# plot centroids\n",
    "plt.scatter(km_moon.cluster_centers_[:,0], km_moon.cluster_centers_[:,1], marker='x', s=200, c='black')\n",
    "\n",
    "plt.show()"
   ]
  },
  {
   "cell_type": "markdown",
   "metadata": {},
   "source": [
    "Comparando o gráfico original e o predito, você pode concluir que a clusterização foi boa? \n",
    "Resposta abaixo!"
   ]
  },
  {
   "cell_type": "markdown",
   "metadata": {},
   "source": [
    "### Reintroduzindo as labels: impossível na vida real!\n",
    "-  É um grande desafio avaliar modelos de clusterização"
   ]
  },
  {
   "cell_type": "code",
   "execution_count": null,
   "metadata": {},
   "outputs": [],
   "source": [
    "# dataset original com as classificações que foram ocultadas no primeiro gráfico\n",
    "plt.scatter(X_moon[:,0], X_moon[:,1], c=y_moon)"
   ]
  },
  {
   "cell_type": "markdown",
   "metadata": {},
   "source": [
    "## DBSCAN: Density-based spatial clustering\n",
    "\n",
    "1. Dado um ponto p, encontra todos os pontos q que estão a uma distância igual ou inferior a $\\varepsilon$ de p;\n",
    "2. Repete o processo para todos os pontos encontrados, e para todos os pontos novos, recursivamente, determinando assim um grupo;\n",
    "3. Procura um ponto ainda não visitado para iniciar um novo grupo e repetir os passos 1 e 2.\n",
    "4. Determina como ruído os pontos que não fazem parte de nenhum grupo."
   ]
  },
  {
   "cell_type": "code",
   "execution_count": null,
   "metadata": {},
   "outputs": [],
   "source": [
    "from sklearn.cluster import DBSCAN\n",
    "\n",
    "dbs = DBSCAN(eps=0.18, min_samples=5)\n",
    "\n",
    "y_pred = dbs.fit_predict(X_moon) # fit_predict: método para treinar o modelo e fazer o predict\n",
    "\n",
    "## construção do plot mais intuitiva\n",
    "df_moon = pd.DataFrame(X_moon, columns=['X1', 'X2'])\n",
    "df_moon['predict_dbscan'] = y_pred\n",
    "\n",
    "plt.scatter(df_moon['X1'], df_moon['X2'], c=df_moon['predict_dbscan'])\n",
    "\n",
    "df_moon"
   ]
  },
  {
   "cell_type": "code",
   "execution_count": null,
   "metadata": {},
   "outputs": [],
   "source": [
    "plt.figure(figsize=(20, 10))\n",
    "plt.scatter(X_moon[:,0], X_moon[:,1], c=y_pred)"
   ]
  },
  {
   "cell_type": "code",
   "execution_count": null,
   "metadata": {},
   "outputs": [],
   "source": [
    "df_moon['predict_dbscan'].unique()"
   ]
  }
 ],
 "metadata": {
  "kernelspec": {
   "display_name": "Python 3",
   "language": "python",
   "name": "python3"
  },
  "language_info": {
   "codemirror_mode": {
    "name": "ipython",
    "version": 3
   },
   "file_extension": ".py",
   "mimetype": "text/x-python",
   "name": "python",
   "nbconvert_exporter": "python",
   "pygments_lexer": "ipython3",
   "version": "3.8.8"
  }
 },
 "nbformat": 4,
 "nbformat_minor": 4
}

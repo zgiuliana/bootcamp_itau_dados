{
 "cells": [
  {
   "cell_type": "markdown",
   "metadata": {
    "tags": []
   },
   "source": [
    "# Aula 01 - Introdução à Data Science e Machine Learning\n",
    "---\n",
    "\n",
    "<img src=\"https://selecao-stg.letscode.com.br/favicon.png\" style=\"position: absolute; top: 1.2rem; right: 2rem; width: 50px\" />\n",
    "\n",
    "**Data Science** é o estudo disciplinado dos dados e informações inerentes ao negócio e todas as visões que podem cercar um determinado assunto. É uma ciência que estuda as informações, seu processo de captura, transformação, geração e, posteriormente, análise de dados. A ciência de dados envolve diversas disciplinas:\n",
    "\n",
    "- Necessidade de Negócio\n",
    "- Matemática\n",
    "- Estatística\n",
    "- Computação\n",
    "\n",
    "## Inteligência Artificial\n",
    "\n",
    "### Agindo como humano\n",
    "\n",
    "- Teste de Turing\n",
    "    > O computador passará no teste se um interrogador humano, depois de propor algumas perguntas por escrito, não conseguir descobrir se as respostas escritas vêm de uma pessoa ou de um computador\n",
    "- NLP\n",
    "- Visão Computacional\n",
    "- Aprendizagem Constante\n",
    "\n",
    "### Pensando como humano\n",
    "\n",
    "- Necessário entender como um humano pensa\n",
    "- Pensamento humano é objetivo?\n",
    "- Pensar racionalmente\n",
    "- Agir racionalmente\n",
    "    - Agentes racionais\n",
    "    - Um agente racional é aquele que age para alcançar o melhor resultado ou, quando há incerteza, o melhor resultado esperado.\n",
    "    - Foco do curso (e de boa parte da inteligência artificial aplicada a ciência de dados)\n",
    "\n",
    "## Aprendizagem de Máquina\n",
    "\n",
    "> \"Há muitas definições, mas podemos considerar que o aprendizado de máquina se refere à criação e ao uso de modelos que aprendem com dados.\" (Joel Grus)\n",
    "\n",
    "O objetivo é utilizar dados existentes para desenvolver modelos e prever vários resultados para novos dados, como:\n",
    "\n",
    "- Se um e-mail é spam ou não;\n",
    "- Se uma transação com cartão de crédito é fraudulenta;\n",
    "- Qual anúncio tem maior probabilidade de ser clicado por um comprador;\n",
    "- Qual seleção ganhará a Copa do Mundo.\n",
    "\n",
    "\n",
    "#### Aprender com o passado (dados)\n",
    "\n",
    "- Termos importantes\n",
    "    - Variável Explicativa/Atributos/Features\n",
    "    - Variável Resposta/Alvo/Target\n",
    "    - Modelo/Equação\n",
    "- Exemplo na Economia (concessão de crédito para pessoas físicas)\n",
    "- Exemplo na Medicina (determinar pneumonia a partir de imagens de raio-x pulmonares)\n",
    "\n",
    "### Tipos de Aprendizagem\n",
    "\n",
    "- Aprendizagem Supervisionada\n",
    "- Aprendizagem Não Supervisionada\n",
    "- Aprendizagem Por Reforço  \n",
    "    a. [Locomoção](https://www.youtube.com/watch?v=pgaEE27nsQw&t=55s)  \n",
    "    b. [Super MarI/O](https://www.youtube.com/watch?v=qv6UVOQ0F44)  \n",
    "\n",
    "<img src=\"https://uploads-ssl.webflow.com/5e6b6ac0d1fd2b1f242cc0cb/5f21624674afa6da3a14f2bc_5eac34e859ca9bde47911ce5_Untitled-5.jpg\" style=\"width: 50%; display: block; margin: 2rem 1.6rem; border-radius: 7px;\"/>"
   ]
  },
  {
   "cell_type": "markdown",
   "metadata": {
    "tags": []
   },
   "source": [
    "## Conhecendo o Scikit-Learning\n",
    "---\n",
    "\n",
    "<img style=\"width: 400px; margin: 2rem\" src=\"https://upload.wikimedia.org/wikipedia/commons/thumb/0/05/Scikit_learn_logo_small.svg/1200px-Scikit_learn_logo_small.svg.png\" />\n",
    "\n",
    "- Visite a [documentação](https://scikit-learn.org/stable/index.html) do Scikit Learn\n",
    "\n",
    "### Carregando dados do scikit-learn"
   ]
  },
  {
   "cell_type": "code",
   "execution_count": null,
   "metadata": {},
   "outputs": [],
   "source": []
  }
 ],
 "metadata": {
  "kernelspec": {
   "display_name": "Python 3",
   "language": "python",
   "name": "python3"
  },
  "language_info": {
   "codemirror_mode": {
    "name": "ipython",
    "version": 3
   },
   "file_extension": ".py",
   "mimetype": "text/x-python",
   "name": "python",
   "nbconvert_exporter": "python",
   "pygments_lexer": "ipython3",
   "version": "3.8.10"
  }
 },
 "nbformat": 4,
 "nbformat_minor": 4
}

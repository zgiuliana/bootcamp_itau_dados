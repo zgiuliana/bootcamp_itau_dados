{
 "cells": [
  {
   "cell_type": "markdown",
   "id": "80b27bb4",
   "metadata": {},
   "source": [
    "# Revisão"
   ]
  },
  {
   "attachments": {},
   "cell_type": "markdown",
   "id": "db48cfb4",
   "metadata": {},
   "source": [
    "> "
   ]
  },
  {
   "cell_type": "markdown",
   "id": "3dc67a04",
   "metadata": {},
   "source": [
    "# Aula 03: Agregando e Sumarizando\n"
   ]
  },
  {
   "cell_type": "markdown",
   "id": "cb257677",
   "metadata": {},
   "source": [
    "Na aula de hoje iremos aplicar todos conceitos vistos até agora e aprender a sumarizar a agregar informações."
   ]
  },
  {
   "cell_type": "markdown",
   "id": "3a79b60a",
   "metadata": {},
   "source": [
    "[Material](https://docs.google.com/presentation/d/1BQX-cfkF11uLLS1PMAwyX0Ga3p59Gksff8KSpZe8S94/edit#slide=id.ge43d54be65_0_128)"
   ]
  },
  {
   "cell_type": "markdown",
   "id": "08b41322",
   "metadata": {},
   "source": [
    "# Habilidades a serem desenvolvidas"
   ]
  },
  {
   "cell_type": "markdown",
   "id": "65b8af27",
   "metadata": {},
   "source": [
    "Ao final da aula, o aluno deve:\n",
    "1. Saber sumarizar informações;\n",
    "1. Usar o COUNT, MIN, MAX, AVG e ROUND;\n",
    "1. Entender como usar outras funções que não foram apresentadas;\n",
    "1. Saber agregar informações com o GROUP BY;\n",
    "1. Filtrar informações agregadas com o HAVING;"
   ]
  },
  {
   "cell_type": "markdown",
   "id": "d16e38de",
   "metadata": {},
   "source": [
    "# SQL: Sumarizando"
   ]
  },
  {
   "cell_type": "markdown",
   "id": "04daf75c",
   "metadata": {},
   "source": [
    "## COUNT\n",
    "Quantas linhas temos na tabela order_details?"
   ]
  },
  {
   "cell_type": "markdown",
   "id": "0619643f",
   "metadata": {},
   "source": [
    "    SELECT COUNT(*) from order_details;\n",
    "\n",
    "    SELECT COUNT(discount) from order_details;"
   ]
  },
  {
   "cell_type": "markdown",
   "id": "105f6420",
   "metadata": {},
   "source": [
    "## MIN\n",
    "Qual o valor_unitário mais barato?"
   ]
  },
  {
   "cell_type": "markdown",
   "id": "19fc2c48",
   "metadata": {},
   "source": [
    "    SELECT MIN(unit_price) from order_details;"
   ]
  },
  {
   "cell_type": "markdown",
   "id": "5150f196",
   "metadata": {},
   "source": [
    "## MAX\n",
    "Qual o valor_unitário mais caro?"
   ]
  },
  {
   "cell_type": "markdown",
   "id": "657bb9d6",
   "metadata": {},
   "source": [
    "    SELECT MAX(unit_price) from order_details;"
   ]
  },
  {
   "cell_type": "markdown",
   "id": "58b13860",
   "metadata": {},
   "source": [
    "## AVG\n",
    "Qual a média dos valores unitários?"
   ]
  },
  {
   "cell_type": "markdown",
   "id": "d2c0393a",
   "metadata": {},
   "source": [
    "    SELECT AVG(unit_price) from order_details;"
   ]
  },
  {
   "cell_type": "markdown",
   "id": "07516eb6",
   "metadata": {},
   "source": [
    "## ROUND"
   ]
  },
  {
   "cell_type": "markdown",
   "id": "316e9834",
   "metadata": {},
   "source": [
    "Qual a média dos valores unitários com duas casas decimais?"
   ]
  },
  {
   "cell_type": "markdown",
   "id": "2d95a3ca",
   "metadata": {},
   "source": [
    "    SELECT ROUND(AVG(unit_price)::numeric, 2) from order_details;"
   ]
  },
  {
   "cell_type": "markdown",
   "id": "4430ad82",
   "metadata": {},
   "source": [
    "## SUM "
   ]
  },
  {
   "cell_type": "markdown",
   "id": "9ac00301",
   "metadata": {},
   "source": [
    "Qual a soma de todos os valores unitários?"
   ]
  },
  {
   "cell_type": "markdown",
   "id": "d8d698db",
   "metadata": {},
   "source": [
    "    SELECT SUM(unit_price) from order_details;"
   ]
  },
  {
   "cell_type": "markdown",
   "id": "9effe3e9",
   "metadata": {},
   "source": [
    "Qual o valor total de todas as ordens sem desconto?"
   ]
  },
  {
   "cell_type": "markdown",
   "id": "3f6d0dd2",
   "metadata": {},
   "source": [
    "    SELECT  ROUND(SUM(unit_price * quantity)::numeric, 2) from order_details;"
   ]
  },
  {
   "cell_type": "markdown",
   "id": "57512ecf",
   "metadata": {},
   "source": [
    "Qual o valor total de todas as ordens **com** desconto?"
   ]
  },
  {
   "cell_type": "markdown",
   "id": "211e0864",
   "metadata": {},
   "source": [
    "    SELECT  ROUND(SUM( (unit_price * quantity))::numeric, 2) preco_cheio,\n",
    "            ROUND(SUM( (unit_price * quantity)*(1-discount))::numeric, 2) as preco_desconto \n",
    "    from order_details;"
   ]
  },
  {
   "cell_type": "markdown",
   "id": "0a046a1f",
   "metadata": {},
   "source": [
    "# SQL: Agregando"
   ]
  },
  {
   "cell_type": "markdown",
   "id": "16049bbb",
   "metadata": {},
   "source": [
    "## GROUP BY\n",
    "Permite agregar as sumarizações acima por grupos de dados!"
   ]
  },
  {
   "cell_type": "markdown",
   "id": "9956eabd",
   "metadata": {},
   "source": [
    "Qual a soma dos valores unitários de cada ordem?"
   ]
  },
  {
   "cell_type": "markdown",
   "id": "4ce0f1e3",
   "metadata": {},
   "source": [
    "    SELECT order_id, SUM(unit_price) \n",
    "    from order_details\n",
    "    GROUP by order_id\n",
    "    ORDER By order_id;\n",
    "\n",
    "    -- validação de dados e queries\n",
    "    select sum(unit_price) from order_details\n",
    "    where order_id = 10248;\n",
    "\n",
    "    SELECT order_id, SUM(unit_price) \n",
    "    from order_details\n",
    "    where order_id = 10248\n",
    "    GROUP by order_id;"
   ]
  },
  {
   "cell_type": "markdown",
   "id": "1439187b",
   "metadata": {},
   "source": [
    "Quantas unidades de cada produto foram vendidas?"
   ]
  },
  {
   "cell_type": "markdown",
   "id": "09bedffc",
   "metadata": {},
   "source": [
    "    SELECT product_id, SUM(quantity)\n",
    "    FROM order_details\n",
    "    GROUP BY product_id;"
   ]
  },
  {
   "cell_type": "markdown",
   "id": "b34a58e5",
   "metadata": {},
   "source": [
    "Ordene a lista acima!"
   ]
  },
  {
   "cell_type": "markdown",
   "id": "8b25b862",
   "metadata": {},
   "source": [
    "    SELECT product_id, SUM(quantity)\n",
    "    FROM order_details\n",
    "    GROUP BY product_id\n",
    "    ORDER BY product_id;\n",
    "\n",
    "    -- equivalente\n",
    "    SELECT product_id, SUM(quantity)\n",
    "    FROM order_details\n",
    "    GROUP BY product_id\n",
    "    ORDER BY 1;\n",
    "\n",
    "    -- ordene pela soma\n",
    "    SELECT product_id, SUM(quantity)\n",
    "    FROM order_details\n",
    "    GROUP BY product_id\n",
    "    ORDER BY SUM(quantity);\n",
    "\n",
    "    SELECT product_id, SUM(quantity)\n",
    "    FROM order_details\n",
    "    GROUP BY product_id\n",
    "    ORDER BY 2;\n",
    "\n",
    "    SELECT product_id, SUM(quantity) as soma\n",
    "    FROM order_details\n",
    "    GROUP BY product_id\n",
    "    ORDER BY soma;\n"
   ]
  },
  {
   "cell_type": "markdown",
   "id": "adbe8ff7",
   "metadata": {},
   "source": [
    "## HAVING\n",
    "Funcionamento similiar ao `WHERE`, mas aplicado à agreações o invés de colunas."
   ]
  },
  {
   "cell_type": "markdown",
   "id": "a6dbebf2",
   "metadata": {},
   "source": [
    "Selecione todas os id's de ordens que tenham valor total acima de 10_000."
   ]
  },
  {
   "cell_type": "markdown",
   "id": "e21442cc",
   "metadata": {},
   "source": [
    "    SELECT order_id, SUM(unit_price * quantity) as valor_total\n",
    "    FROM order_details\n",
    "    GROUP BY order_id\n",
    "    HAVING SUM(unit_price * quantity) > 10000;"
   ]
  },
  {
   "cell_type": "markdown",
   "id": "262d5ecd",
   "metadata": {},
   "source": [
    "# Exercícios"
   ]
  },
  {
   "cell_type": "markdown",
   "id": "667d4de1",
   "metadata": {},
   "source": [
    "Enviar para o email filipe.furlan@letcode.com.br até **2021/07/31** um arquivo de texto (`785_firstname_lastname_aula03.sql`) com a resolução dos exercicios abaixo.\n",
    "\n",
    "IMPORTANTE: Inserir uma linha de comentário `-- exercicio XX` (XX = 1, 2A, 2B etc) antes de cada solução."
   ]
  },
  {
   "cell_type": "markdown",
   "id": "8685c8a9",
   "metadata": {},
   "source": [
    "1. Da tabela territories:\n",
    "    1. Quantos territórios temos ao todo?\n",
    "    1. Quantos territórios por região?\n",
    "1. Selecione da tabela empolyees:\n",
    "    1. Quantos empregados reportam para cada chefe?\n",
    "    1. Quantos empregados em cada cidade?\n",
    "1. Selecione da tabela order_details:\n",
    "    1. Quantas unidades forem vendidas por ordem?\n",
    "    1. Qual o valor total de cada ordem?\n",
    "    1. Qual o produto mais vendido?\n",
    "    1. Selecione ordens que tenham menos de três produtos.\n",
    "1. Selecione da tabels orders:\n",
    "    1. Qual cliente realizou mais ordens?\n",
    "    1. Qual cliente realizou menos ordens?\n",
    "    1. Quantas ordems foram feitas por mês?\n",
    "    1. Qual o tempo de envio por cliente?\n",
    "    1. Faça uma lista ordenada dos países que receberam mais ordens.\n",
    "    1. Qual o tempo máximo de envio por cidade?\n",
    "    1. Quanto cada cliente gastou em frete?\n",
    "    1. Qual o custo total de cada tipo de frete?\n",
    "    1. Quanto cada cliente gastou em casa tipo de frete?\n",
    "1. Selecione da tabela suppliers:\n",
    "    1. Uma lista com os países que mais tem fornecedores.\n",
    "1. Selecione da tabela products:\n",
    "    1. Uma lista com o número de produtos por fornecedore.\n",
    "    1. Oderne a lista acima em ordem decrescente.\n",
    "    1. Uma lista com o número de produtos por fornecedors por categoria.\n",
    "    1. Quantos produtos foram descontinuados.\n",
    "    1. Fornecedores com estoque baixo (soma de unidades < 20).\n",
    "    1. A média do valor total de cada categória.\n",
    "    1. O valor do produto mais barato, mais caro e a média dos valores unitários por fornecedor e categoria. \n",
    "    \n",
    "    "
   ]
  },
  {
   "cell_type": "code",
   "execution_count": null,
   "id": "7122859e",
   "metadata": {},
   "outputs": [],
   "source": []
  }
 ],
 "metadata": {
  "kernelspec": {
   "display_name": "Python 3",
   "language": "python",
   "name": "python3"
  },
  "language_info": {
   "codemirror_mode": {
    "name": "ipython",
    "version": 3
   },
   "file_extension": ".py",
   "mimetype": "text/x-python",
   "name": "python",
   "nbconvert_exporter": "python",
   "pygments_lexer": "ipython3",
   "version": "3.8.8"
  },
  "toc": {
   "base_numbering": 1,
   "nav_menu": {},
   "number_sections": true,
   "sideBar": true,
   "skip_h1_title": false,
   "title_cell": "Table of Contents",
   "title_sidebar": "Contents",
   "toc_cell": false,
   "toc_position": {},
   "toc_section_display": true,
   "toc_window_display": true
  }
 },
 "nbformat": 4,
 "nbformat_minor": 5
}

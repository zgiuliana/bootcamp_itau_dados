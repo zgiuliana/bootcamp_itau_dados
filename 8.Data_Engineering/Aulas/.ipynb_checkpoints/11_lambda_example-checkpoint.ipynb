{
 "cells": [
  {
   "cell_type": "code",
   "execution_count": 1,
   "id": "f3dfadf3",
   "metadata": {
    "ExecuteTime": {
     "end_time": "2021-09-03T20:17:34.784607Z",
     "start_time": "2021-09-03T20:17:34.657722Z"
    }
   },
   "outputs": [],
   "source": [
    "import requests"
   ]
  },
  {
   "cell_type": "code",
   "execution_count": 9,
   "id": "47fae77a",
   "metadata": {
    "ExecuteTime": {
     "end_time": "2021-09-03T20:19:36.402832Z",
     "start_time": "2021-09-03T20:19:36.390884Z"
    }
   },
   "outputs": [],
   "source": [
    "url='https://ahh46a73ej.execute-api.us-east-1.amazonaws.com/default/Aula785'\n",
    "url2='https://tas3hv8uq3.execute-api.sa-east-1.amazonaws.com/default/aula_785'"
   ]
  },
  {
   "cell_type": "code",
   "execution_count": 13,
   "id": "9d42138e",
   "metadata": {
    "ExecuteTime": {
     "end_time": "2021-09-03T20:21:13.331379Z",
     "start_time": "2021-09-03T20:21:12.635102Z"
    }
   },
   "outputs": [
    {
     "data": {
      "text/plain": [
       "<Response [200]>"
      ]
     },
     "execution_count": 13,
     "metadata": {},
     "output_type": "execute_result"
    }
   ],
   "source": [
    "response=requests.get(url)\n",
    "response"
   ]
  },
  {
   "cell_type": "code",
   "execution_count": 14,
   "id": "7acc91de",
   "metadata": {
    "ExecuteTime": {
     "end_time": "2021-09-03T20:21:15.582774Z",
     "start_time": "2021-09-03T20:21:15.562836Z"
    }
   },
   "outputs": [
    {
     "data": {
      "text/plain": [
       "{'Date': 'Fri, 03 Sep 2021 20:21:09 GMT', 'Content-Type': 'application/json', 'Content-Length': '15', 'Connection': 'keep-alive', 'x-amzn-RequestId': '0f9ec6ca-3873-4bde-b1c4-6dbdf8403dd1', 'x-amz-apigw-id': 'FGmEbHA1IAMF5Hg=', 'X-Amzn-Trace-Id': 'Root=1-613283b5-438ae8c11ebc2d4e3cc0ada5;Sampled=0'}"
      ]
     },
     "execution_count": 14,
     "metadata": {},
     "output_type": "execute_result"
    }
   ],
   "source": [
    "response.headers"
   ]
  },
  {
   "cell_type": "code",
   "execution_count": 15,
   "id": "d3c4669e",
   "metadata": {
    "ExecuteTime": {
     "end_time": "2021-09-03T20:21:32.373997Z",
     "start_time": "2021-09-03T20:21:32.356046Z"
    }
   },
   "outputs": [
    {
     "data": {
      "text/plain": [
       "'Fri, 03 Sep 2021 20:21:09 GMT'"
      ]
     },
     "execution_count": 15,
     "metadata": {},
     "output_type": "execute_result"
    }
   ],
   "source": [
    "response.headers['Date']"
   ]
  },
  {
   "cell_type": "code",
   "execution_count": 16,
   "id": "38b35436",
   "metadata": {
    "ExecuteTime": {
     "end_time": "2021-09-03T20:21:46.877347Z",
     "start_time": "2021-09-03T20:21:46.859396Z"
    }
   },
   "outputs": [
    {
     "data": {
      "text/plain": [
       "'Root=1-613283b5-438ae8c11ebc2d4e3cc0ada5;Sampled=0'"
      ]
     },
     "execution_count": 16,
     "metadata": {},
     "output_type": "execute_result"
    }
   ],
   "source": [
    "response.headers['X-Amzn-Trace-Id']"
   ]
  },
  {
   "cell_type": "code",
   "execution_count": 18,
   "id": "c19742ae",
   "metadata": {
    "ExecuteTime": {
     "end_time": "2021-09-03T20:22:04.280272Z",
     "start_time": "2021-09-03T20:22:04.271285Z"
    }
   },
   "outputs": [
    {
     "data": {
      "text/plain": [
       "[2, 4, 5, 6, 7]"
      ]
     },
     "execution_count": 18,
     "metadata": {},
     "output_type": "execute_result"
    }
   ],
   "source": [
    "response.json()"
   ]
  },
  {
   "cell_type": "code",
   "execution_count": 19,
   "id": "c0cfc0dc",
   "metadata": {
    "ExecuteTime": {
     "end_time": "2021-09-03T20:22:23.442029Z",
     "start_time": "2021-09-03T20:22:23.429073Z"
    }
   },
   "outputs": [
    {
     "data": {
      "text/plain": [
       "[2, 4, 5, 6, 7]"
      ]
     },
     "execution_count": 19,
     "metadata": {},
     "output_type": "execute_result"
    }
   ],
   "source": [
    "lista=response.json()\n",
    "lista"
   ]
  },
  {
   "cell_type": "code",
   "execution_count": 20,
   "id": "abdf0f0d",
   "metadata": {
    "ExecuteTime": {
     "end_time": "2021-09-03T20:22:45.148747Z",
     "start_time": "2021-09-03T20:22:45.138774Z"
    }
   },
   "outputs": [],
   "source": [
    "lista.append(8)"
   ]
  },
  {
   "cell_type": "code",
   "execution_count": 21,
   "id": "5a5fe6aa",
   "metadata": {
    "ExecuteTime": {
     "end_time": "2021-09-03T20:22:46.015134Z",
     "start_time": "2021-09-03T20:22:46.008147Z"
    }
   },
   "outputs": [
    {
     "data": {
      "text/plain": [
       "[2, 4, 5, 6, 7, 8]"
      ]
     },
     "execution_count": 21,
     "metadata": {},
     "output_type": "execute_result"
    }
   ],
   "source": [
    "lista"
   ]
  },
  {
   "cell_type": "code",
   "execution_count": 23,
   "id": "fcc19ab6",
   "metadata": {
    "ExecuteTime": {
     "end_time": "2021-09-03T20:35:26.532357Z",
     "start_time": "2021-09-03T20:35:15.115702Z"
    }
   },
   "outputs": [
    {
     "name": "stdout",
     "output_type": "stream",
     "text": [
      "Collecting boto3\n",
      "  Downloading boto3-1.18.36-py3-none-any.whl (131 kB)\n",
      "Collecting jmespath<1.0.0,>=0.7.1\n",
      "  Downloading jmespath-0.10.0-py2.py3-none-any.whl (24 kB)\n",
      "Collecting s3transfer<0.6.0,>=0.5.0\n",
      "  Downloading s3transfer-0.5.0-py3-none-any.whl (79 kB)\n",
      "Collecting botocore<1.22.0,>=1.21.36\n",
      "  Downloading botocore-1.21.36-py3-none-any.whl (7.9 MB)\n",
      "Requirement already satisfied: urllib3<1.27,>=1.25.4 in c:\\users\\giuliana\\anaconda3\\lib\\site-packages (from botocore<1.22.0,>=1.21.36->boto3) (1.26.4)\n",
      "Requirement already satisfied: python-dateutil<3.0.0,>=2.1 in c:\\users\\giuliana\\anaconda3\\lib\\site-packages (from botocore<1.22.0,>=1.21.36->boto3) (2.8.1)\n",
      "Requirement already satisfied: six>=1.5 in c:\\users\\giuliana\\anaconda3\\lib\\site-packages (from python-dateutil<3.0.0,>=2.1->botocore<1.22.0,>=1.21.36->boto3) (1.15.0)\n",
      "Installing collected packages: jmespath, botocore, s3transfer, boto3\n",
      "Successfully installed boto3-1.18.36 botocore-1.21.36 jmespath-0.10.0 s3transfer-0.5.0\n"
     ]
    }
   ],
   "source": [
    "!pip install boto3"
   ]
  },
  {
   "cell_type": "code",
   "execution_count": 22,
   "id": "6c730259",
   "metadata": {
    "ExecuteTime": {
     "end_time": "2021-09-03T20:35:00.344049Z",
     "start_time": "2021-09-03T20:35:00.331082Z"
    }
   },
   "outputs": [
    {
     "ename": "ModuleNotFoundError",
     "evalue": "No module named 'boto3'",
     "output_type": "error",
     "traceback": [
      "\u001b[1;31m---------------------------------------------------------------------------\u001b[0m",
      "\u001b[1;31mModuleNotFoundError\u001b[0m                       Traceback (most recent call last)",
      "\u001b[1;32m<ipython-input-22-5c43c86c018e>\u001b[0m in \u001b[0;36m<module>\u001b[1;34m\u001b[0m\n\u001b[1;32m----> 1\u001b[1;33m \u001b[1;32mimport\u001b[0m \u001b[0mboto3\u001b[0m\u001b[1;33m\u001b[0m\u001b[1;33m\u001b[0m\u001b[0m\n\u001b[0m",
      "\u001b[1;31mModuleNotFoundError\u001b[0m: No module named 'boto3'"
     ]
    }
   ],
   "source": [
    "import boto3"
   ]
  },
  {
   "cell_type": "code",
   "execution_count": null,
   "id": "ce8072c5",
   "metadata": {},
   "outputs": [],
   "source": []
  },
  {
   "cell_type": "code",
   "execution_count": null,
   "id": "1763e3be",
   "metadata": {},
   "outputs": [],
   "source": []
  },
  {
   "cell_type": "code",
   "execution_count": null,
   "id": "6006a4b5",
   "metadata": {},
   "outputs": [],
   "source": []
  },
  {
   "cell_type": "code",
   "execution_count": null,
   "id": "d9365df8",
   "metadata": {},
   "outputs": [],
   "source": []
  }
 ],
 "metadata": {
  "kernelspec": {
   "display_name": "Python 3",
   "language": "python",
   "name": "python3"
  },
  "language_info": {
   "codemirror_mode": {
    "name": "ipython",
    "version": 3
   },
   "file_extension": ".py",
   "mimetype": "text/x-python",
   "name": "python",
   "nbconvert_exporter": "python",
   "pygments_lexer": "ipython3",
   "version": "3.8.8"
  },
  "latex_envs": {
   "LaTeX_envs_menu_present": true,
   "autoclose": false,
   "autocomplete": true,
   "bibliofile": "biblio.bib",
   "cite_by": "apalike",
   "current_citInitial": 1,
   "eqLabelWithNumbers": true,
   "eqNumInitial": 1,
   "hotkeys": {
    "equation": "Ctrl-E",
    "itemize": "Ctrl-I"
   },
   "labels_anchors": false,
   "latex_user_defs": false,
   "report_style_numbering": false,
   "user_envs_cfg": false
  },
  "toc": {
   "base_numbering": 1,
   "nav_menu": {},
   "number_sections": true,
   "sideBar": true,
   "skip_h1_title": false,
   "title_cell": "Table of Contents",
   "title_sidebar": "Contents",
   "toc_cell": false,
   "toc_position": {},
   "toc_section_display": true,
   "toc_window_display": false
  },
  "varInspector": {
   "cols": {
    "lenName": 16,
    "lenType": 16,
    "lenVar": 40
   },
   "kernels_config": {
    "python": {
     "delete_cmd_postfix": "",
     "delete_cmd_prefix": "del ",
     "library": "var_list.py",
     "varRefreshCmd": "print(var_dic_list())"
    },
    "r": {
     "delete_cmd_postfix": ") ",
     "delete_cmd_prefix": "rm(",
     "library": "var_list.r",
     "varRefreshCmd": "cat(var_dic_list()) "
    }
   },
   "types_to_exclude": [
    "module",
    "function",
    "builtin_function_or_method",
    "instance",
    "_Feature"
   ],
   "window_display": false
  }
 },
 "nbformat": 4,
 "nbformat_minor": 5
}

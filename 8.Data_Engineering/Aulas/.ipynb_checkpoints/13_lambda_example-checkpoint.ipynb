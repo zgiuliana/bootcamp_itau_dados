{
 "cells": [
  {
   "cell_type": "markdown",
   "id": "17da33ac",
   "metadata": {},
   "source": [
    "# lambda function"
   ]
  },
  {
   "cell_type": "markdown",
   "id": "fba94534",
   "metadata": {},
   "source": [
    "## Criar lambda `aula_785` no console da AWS"
   ]
  },
  {
   "cell_type": "code",
   "execution_count": 34,
   "id": "f68932e2",
   "metadata": {
    "ExecuteTime": {
     "end_time": "2021-09-08T18:26:29.785572Z",
     "start_time": "2021-09-08T18:26:29.770948Z"
    }
   },
   "outputs": [],
   "source": [
    "# codigo da funcao lambada\n",
    "\n",
    "import json\n",
    "import numpy as np \n",
    "\n",
    "def hello_turma():\n",
    "    return 'Ola'\n",
    "    \n",
    "def lambda_handler(event, context):\n",
    "    \n",
    "    soma = 2+2\n",
    "    \n",
    "    potencia = soma**5\n",
    "    \n",
    "    lista = [2,4,5,6,7]\n",
    "    \n",
    "    texto = hello_turma()\n",
    "    \n",
    "    dicionario = {\n",
    "        'Logica': 9.0,\n",
    "        'BD': 9.5\n",
    "    }\n",
    "    \n",
    "    maximo = np.max(lista)\n",
    "    \n",
    "    return {\n",
    "        'statusCode': 200,\n",
    "        'body': json.dumps(f'{maximo}')\n",
    "    }\n",
    "\n",
    "\n",
    "\n",
    "def outra_funcao(event, context):\n",
    "    \n",
    "    return {\n",
    "        'statusCode': 200,\n",
    "        'body': json.dumps('Esse veio da outra funcao')\n",
    "    }    "
   ]
  },
  {
   "cell_type": "code",
   "execution_count": null,
   "id": "12feaa90",
   "metadata": {},
   "outputs": [],
   "source": []
  },
  {
   "cell_type": "markdown",
   "id": "dd2f184a",
   "metadata": {},
   "source": [
    "## Adicionar `trigger` (gatilho) API rest\n",
    "\n",
    "- e colar a URL abaixo"
   ]
  },
  {
   "cell_type": "code",
   "execution_count": 4,
   "id": "de0f5edf",
   "metadata": {
    "ExecuteTime": {
     "end_time": "2021-09-08T19:10:46.871584Z",
     "start_time": "2021-09-08T19:10:46.865262Z"
    }
   },
   "outputs": [],
   "source": [
    "url = 'https://tas3hv8uq3.execute-api.sa-east-1.amazonaws.com/default/aula_785'"
   ]
  },
  {
   "cell_type": "code",
   "execution_count": null,
   "id": "b30431f3",
   "metadata": {},
   "outputs": [],
   "source": []
  },
  {
   "cell_type": "markdown",
   "id": "d85d9355",
   "metadata": {},
   "source": [
    "## acessar lambda"
   ]
  },
  {
   "cell_type": "code",
   "execution_count": 5,
   "id": "49d97f92",
   "metadata": {
    "ExecuteTime": {
     "end_time": "2021-09-08T19:10:55.814407Z",
     "start_time": "2021-09-08T19:10:55.689582Z"
    }
   },
   "outputs": [],
   "source": [
    "import requests"
   ]
  },
  {
   "cell_type": "code",
   "execution_count": 12,
   "id": "8e116083",
   "metadata": {
    "ExecuteTime": {
     "end_time": "2021-09-08T19:12:27.376613Z",
     "start_time": "2021-09-08T19:12:27.233515Z"
    }
   },
   "outputs": [
    {
     "data": {
      "text/plain": [
       "<Response [200]>"
      ]
     },
     "execution_count": 12,
     "metadata": {},
     "output_type": "execute_result"
    }
   ],
   "source": [
    "response = requests.get(url)\n",
    "response"
   ]
  },
  {
   "cell_type": "code",
   "execution_count": 7,
   "id": "e490a872",
   "metadata": {
    "ExecuteTime": {
     "end_time": "2021-09-08T19:11:20.792236Z",
     "start_time": "2021-09-08T19:11:20.786075Z"
    }
   },
   "outputs": [
    {
     "data": {
      "text/plain": [
       "{'Date': 'Wed, 08 Sep 2021 19:11:05 GMT', 'Content-Type': 'application/json', 'Content-Length': '3', 'Connection': 'keep-alive', 'x-amzn-RequestId': '59d8d330-b719-4665-a764-874a2e5a5eb7', 'x-amz-apigw-id': 'FW6fSFIMGjQFQFw=', 'X-Amzn-Trace-Id': 'Root=1-61390ac8-636477833fa3f5de67b15c87;Sampled=0'}"
      ]
     },
     "execution_count": 7,
     "metadata": {},
     "output_type": "execute_result"
    }
   ],
   "source": [
    "response.headers"
   ]
  },
  {
   "cell_type": "code",
   "execution_count": 8,
   "id": "e4b1d3e9",
   "metadata": {
    "ExecuteTime": {
     "end_time": "2021-09-08T19:11:26.068777Z",
     "start_time": "2021-09-08T19:11:26.051268Z"
    }
   },
   "outputs": [
    {
     "data": {
      "text/plain": [
       "'Wed, 08 Sep 2021 19:11:05 GMT'"
      ]
     },
     "execution_count": 8,
     "metadata": {},
     "output_type": "execute_result"
    }
   ],
   "source": [
    "response.headers['Date']"
   ]
  },
  {
   "cell_type": "code",
   "execution_count": 9,
   "id": "91d880cb",
   "metadata": {
    "ExecuteTime": {
     "end_time": "2021-09-08T19:11:27.633372Z",
     "start_time": "2021-09-08T19:11:27.622196Z"
    }
   },
   "outputs": [
    {
     "data": {
      "text/plain": [
       "'59d8d330-b719-4665-a764-874a2e5a5eb7'"
      ]
     },
     "execution_count": 9,
     "metadata": {},
     "output_type": "execute_result"
    }
   ],
   "source": [
    "response.headers['x-amzn-RequestId']"
   ]
  },
  {
   "cell_type": "code",
   "execution_count": 13,
   "id": "c5b20aab",
   "metadata": {
    "ExecuteTime": {
     "end_time": "2021-09-08T19:12:32.930553Z",
     "start_time": "2021-09-08T19:12:32.919566Z"
    }
   },
   "outputs": [
    {
     "data": {
      "text/plain": [
       "[2, 4, 5, 6, 7]"
      ]
     },
     "execution_count": 13,
     "metadata": {},
     "output_type": "execute_result"
    }
   ],
   "source": [
    "response.json()"
   ]
  },
  {
   "cell_type": "code",
   "execution_count": 14,
   "id": "894509bb",
   "metadata": {
    "ExecuteTime": {
     "end_time": "2021-09-08T19:12:58.666060Z",
     "start_time": "2021-09-08T19:12:58.657036Z"
    }
   },
   "outputs": [
    {
     "data": {
      "text/plain": [
       "[2, 4, 5, 6, 7, 8]"
      ]
     },
     "execution_count": 14,
     "metadata": {},
     "output_type": "execute_result"
    }
   ],
   "source": []
  },
  {
   "cell_type": "markdown",
   "id": "4c54dfd3",
   "metadata": {},
   "source": [
    "## Trocar o campo `body` para retornar outras funções e testar"
   ]
  },
  {
   "cell_type": "markdown",
   "id": "acb8c966",
   "metadata": {},
   "source": [
    "### output = lista"
   ]
  },
  {
   "cell_type": "code",
   "execution_count": 10,
   "id": "b184148f",
   "metadata": {
    "ExecuteTime": {
     "end_time": "2021-09-03T20:21:49.271974Z",
     "start_time": "2021-09-03T20:21:49.253851Z"
    }
   },
   "outputs": [
    {
     "data": {
      "text/plain": [
       "[2, 4, 5, 6, 7]"
      ]
     },
     "execution_count": 10,
     "metadata": {},
     "output_type": "execute_result"
    }
   ],
   "source": [
    "lista = response.json()\n",
    "lista"
   ]
  },
  {
   "cell_type": "code",
   "execution_count": 15,
   "id": "972af3cc",
   "metadata": {
    "ExecuteTime": {
     "end_time": "2021-09-08T19:13:40.869171Z",
     "start_time": "2021-09-08T19:13:40.858173Z"
    }
   },
   "outputs": [
    {
     "data": {
      "text/plain": [
       "[2, 4, 5, 6, 7, 8]"
      ]
     },
     "execution_count": 15,
     "metadata": {},
     "output_type": "execute_result"
    }
   ],
   "source": [
    "lista.append(8)\n",
    "lista"
   ]
  },
  {
   "cell_type": "code",
   "execution_count": null,
   "id": "74543ccb",
   "metadata": {},
   "outputs": [],
   "source": []
  },
  {
   "cell_type": "markdown",
   "id": "a2c5fe74",
   "metadata": {},
   "source": [
    "### output = dicionario"
   ]
  },
  {
   "cell_type": "code",
   "execution_count": 16,
   "id": "ad83b362",
   "metadata": {
    "ExecuteTime": {
     "end_time": "2021-09-08T19:14:16.100497Z",
     "start_time": "2021-09-08T19:14:14.978566Z"
    }
   },
   "outputs": [
    {
     "data": {
      "text/plain": [
       "{'Logica': 9.0, 'BD': 9.5}"
      ]
     },
     "execution_count": 16,
     "metadata": {},
     "output_type": "execute_result"
    }
   ],
   "source": [
    "response = requests.get(url)\n",
    "response.json()"
   ]
  },
  {
   "cell_type": "code",
   "execution_count": 17,
   "id": "a66eddb0",
   "metadata": {
    "ExecuteTime": {
     "end_time": "2021-09-08T19:14:24.335341Z",
     "start_time": "2021-09-08T19:14:24.325315Z"
    }
   },
   "outputs": [
    {
     "data": {
      "text/plain": [
       "9.5"
      ]
     },
     "execution_count": 17,
     "metadata": {},
     "output_type": "execute_result"
    }
   ],
   "source": [
    "dic = response.json()\n",
    "dic['BD']"
   ]
  },
  {
   "cell_type": "code",
   "execution_count": null,
   "id": "36bd7436",
   "metadata": {},
   "outputs": [],
   "source": []
  },
  {
   "cell_type": "markdown",
   "id": "f8911864",
   "metadata": {},
   "source": [
    "## Biblioteca para intergir com AWS: `boto3`"
   ]
  },
  {
   "cell_type": "code",
   "execution_count": 16,
   "id": "b10533b8",
   "metadata": {
    "ExecuteTime": {
     "end_time": "2021-09-03T20:34:48.924440Z",
     "start_time": "2021-09-03T20:34:48.753141Z"
    }
   },
   "outputs": [],
   "source": [
    "import boto3"
   ]
  },
  {
   "cell_type": "code",
   "execution_count": 29,
   "id": "e8c95208",
   "metadata": {
    "ExecuteTime": {
     "end_time": "2021-09-08T12:19:46.738429Z",
     "start_time": "2021-09-08T12:19:46.722276Z"
    }
   },
   "outputs": [],
   "source": [
    "# pip install boto3"
   ]
  },
  {
   "cell_type": "code",
   "execution_count": null,
   "id": "0545c344",
   "metadata": {},
   "outputs": [],
   "source": []
  },
  {
   "cell_type": "markdown",
   "id": "d4d187f2",
   "metadata": {},
   "source": [
    "# Passar input pra lambda"
   ]
  },
  {
   "cell_type": "markdown",
   "id": "2e93840d",
   "metadata": {},
   "source": [
    "## Criar lambda `aula_785_1` no console da AWS"
   ]
  },
  {
   "cell_type": "code",
   "execution_count": 2,
   "id": "433118a3",
   "metadata": {
    "ExecuteTime": {
     "end_time": "2021-09-08T18:33:04.546829Z",
     "start_time": "2021-09-08T18:33:04.538796Z"
    }
   },
   "outputs": [],
   "source": [
    "# codigo da lambda: quatro operações matemáticas entre dois números\n",
    "\n",
    "import json\n",
    "\n",
    "def lambda_handler(event, context):\n",
    "    \n",
    "    data = event # para testar no console\n",
    "    \n",
    "    data = json.loads(event['body']) # para executar no script\n",
    "    \n",
    "    \n",
    "    \n",
    "    n1 = data['num1']\n",
    "    n2 = data['num2']\n",
    "    \n",
    "    soma = n1 + n2 \n",
    "    subtracao = n1 - n2\n",
    "    produto = n1 * n2 \n",
    "    divisao = n1 / n2\n",
    "    \n",
    "    dict_saida = {'soma': soma,\n",
    "                'subtracao': subtracao,\n",
    "                'produto': produto,\n",
    "                'divisao': divisao,\n",
    "                'texto': f'Os numeros sao {n1} e {n2}.'\n",
    "        }\n",
    "        \n",
    "    return {\n",
    "        'statusCode': 200,\n",
    "        'body': json.dumps(dict_saida)\n",
    "    }\n"
   ]
  },
  {
   "cell_type": "code",
   "execution_count": null,
   "id": "02704bd2",
   "metadata": {},
   "outputs": [],
   "source": []
  },
  {
   "cell_type": "markdown",
   "id": "7f8e0a71",
   "metadata": {},
   "source": [
    "## Adicionar `trigger` (gatilho) API rest\n",
    "\n",
    "- colar URL abaixo"
   ]
  },
  {
   "cell_type": "code",
   "execution_count": 24,
   "id": "ed40f288",
   "metadata": {
    "ExecuteTime": {
     "end_time": "2021-09-08T19:46:55.056314Z",
     "start_time": "2021-09-08T19:46:55.052312Z"
    }
   },
   "outputs": [],
   "source": [
    "url = 'https://5769uwzlb5.execute-api.sa-east-1.amazonaws.com/default/aula_785_1'"
   ]
  },
  {
   "cell_type": "code",
   "execution_count": null,
   "id": "db08aeb3",
   "metadata": {},
   "outputs": [],
   "source": []
  },
  {
   "cell_type": "markdown",
   "id": "37f57c54",
   "metadata": {},
   "source": [
    "## Passar inputs e coletar outputs"
   ]
  },
  {
   "cell_type": "code",
   "execution_count": 36,
   "id": "3dfacf4b",
   "metadata": {
    "ExecuteTime": {
     "end_time": "2021-09-08T19:50:10.771383Z",
     "start_time": "2021-09-08T19:50:10.766384Z"
    }
   },
   "outputs": [],
   "source": [
    "# criar dados entrada\n",
    "\n",
    "dict_entradas = {\n",
    "    'num1': 8,\n",
    "    'num2': 5\n",
    "}"
   ]
  },
  {
   "cell_type": "code",
   "execution_count": 48,
   "id": "03fe0383",
   "metadata": {
    "ExecuteTime": {
     "end_time": "2021-09-08T20:09:45.586193Z",
     "start_time": "2021-09-08T20:09:45.213103Z"
    }
   },
   "outputs": [
    {
     "data": {
      "text/plain": [
       "<Response [200]>"
      ]
     },
     "execution_count": 48,
     "metadata": {},
     "output_type": "execute_result"
    }
   ],
   "source": [
    "response = requests.post(url, json=dict_entradas)\n",
    "response"
   ]
  },
  {
   "cell_type": "code",
   "execution_count": 49,
   "id": "54056fd3",
   "metadata": {
    "ExecuteTime": {
     "end_time": "2021-09-08T20:09:45.940225Z",
     "start_time": "2021-09-08T20:09:45.925683Z"
    }
   },
   "outputs": [
    {
     "data": {
      "text/plain": [
       "{'soma': 13,\n",
       " 'subtracao': 3,\n",
       " 'produto': 40,\n",
       " 'divisao': 1.6,\n",
       " 'texto': 'Os numeros sao 8 e 5.'}"
      ]
     },
     "execution_count": 49,
     "metadata": {},
     "output_type": "execute_result"
    }
   ],
   "source": [
    "resposta = response.json()\n",
    "resposta"
   ]
  },
  {
   "cell_type": "code",
   "execution_count": 54,
   "id": "c4414d02",
   "metadata": {
    "ExecuteTime": {
     "end_time": "2021-09-08T20:19:56.190678Z",
     "start_time": "2021-09-08T20:19:56.180714Z"
    }
   },
   "outputs": [
    {
     "name": "stdout",
     "output_type": "stream",
     "text": [
      "Os numeros sao 8 e 5.\n",
      "A soma é 13.\n",
      "A subtracao é 3.\n",
      "A produto é 40.\n",
      "A divisao é 1.6.\n",
      "A texto é Os numeros sao 8 e 5..\n"
     ]
    }
   ],
   "source": [
    "print(resposta['texto'])\n",
    "for key in resposta.keys():\n",
    "    print(f'A {key} é {resposta[key]}.')"
   ]
  },
  {
   "cell_type": "code",
   "execution_count": null,
   "id": "9d8231b8",
   "metadata": {},
   "outputs": [],
   "source": []
  },
  {
   "cell_type": "markdown",
   "id": "bb11e63c",
   "metadata": {},
   "source": [
    "# Para amanhã"
   ]
  },
  {
   "cell_type": "markdown",
   "id": "1b348de2",
   "metadata": {},
   "source": [
    "Instalar:\n",
    "\n",
    "1. [AWS CLI](https://aws.amazon.com/pt/cli/)\n",
    "1. [AWS SAM CLI](https://docs.aws.amazon.com/serverless-application-model/latest/developerguide/serverless-sam-cli-install-windows.html) - e siga os passos de configuração."
   ]
  },
  {
   "cell_type": "code",
   "execution_count": null,
   "id": "43f04ce0",
   "metadata": {},
   "outputs": [],
   "source": []
  }
 ],
 "metadata": {
  "kernelspec": {
   "display_name": "Python 3",
   "language": "python",
   "name": "python3"
  },
  "language_info": {
   "codemirror_mode": {
    "name": "ipython",
    "version": 3
   },
   "file_extension": ".py",
   "mimetype": "text/x-python",
   "name": "python",
   "nbconvert_exporter": "python",
   "pygments_lexer": "ipython3",
   "version": "3.8.8"
  },
  "toc": {
   "base_numbering": 1,
   "nav_menu": {},
   "number_sections": true,
   "sideBar": true,
   "skip_h1_title": false,
   "title_cell": "Table of Contents",
   "title_sidebar": "Contents",
   "toc_cell": false,
   "toc_position": {},
   "toc_section_display": true,
   "toc_window_display": true
  }
 },
 "nbformat": 4,
 "nbformat_minor": 5
}

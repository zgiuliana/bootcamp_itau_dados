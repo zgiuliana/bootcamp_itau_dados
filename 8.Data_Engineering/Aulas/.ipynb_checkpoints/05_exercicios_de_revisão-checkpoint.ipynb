{
 "cells": [
  {
   "cell_type": "markdown",
   "id": "9701d9b4",
   "metadata": {},
   "source": [
    "# Data Warehouse"
   ]
  },
  {
   "cell_type": "markdown",
   "id": "f0afc3ff",
   "metadata": {},
   "source": [
    "Vamos criar nossa Data Warehouse com os arquivos da pasta `data`. \n",
    "\n",
    "1. Carregue os arquivos da pasta `data` em `'Documents/dados_hr'`.\n",
    "1. Crie uma base de dados chamada `hr` no `hive`.\n",
    "1. Para cada arquivo, crie uma tabela externa na base `hr` de mesmo nome no `hive`.\n",
    "    1. Como você faria para criar tabelas internas?\n",
    "    1. Como você trata arquivos com e sem `headers`?\n",
    "1. Selecione todos os dados de cada tabela para verificar que o processo funcionou."
   ]
  },
  {
   "cell_type": "markdown",
   "id": "3b80a4fc",
   "metadata": {},
   "source": [
    "# Hive / beeline"
   ]
  },
  {
   "cell_type": "markdown",
   "id": "0cd37be1",
   "metadata": {},
   "source": [
    "1. Em quantos países a empresa está presente, de acordo com os dados da tabela `location`?\n",
    "1. Em quais cidades inglesas e alemãs a empresa está presente?\n",
    "1. Faça um relatório que traga o primeiro nome colaborador e o número de dependentes (colaborador | dependentes). Importante que os colaboradores que não tem dependentes também apareçam na lista. A lista deve ser ordenada pelo número de dependentes, do maior para o menor e em seguida por ordem alfabética.\n",
    "1. A empresa está passando por uma reestruturação e precisa saber quantos funcionários estão alocados em cada departamento, bem como o total e a média de salários deles. Faça um relatório no formato nome_departamento | numero_funcionarios | salario_total | salario_medio ordenado por salario medio, do maior para o menor. Os números decimais devem conter duas casas após a virgula.\n",
    "1. Faça um relatório que apresente o número de funcionários, o salario total e médio por departamento e país.\n",
    "1. Traga o valor acumulado por departamento de cada pais ."
   ]
  },
  {
   "cell_type": "markdown",
   "id": "52cd0bd5",
   "metadata": {},
   "source": [
    "# Para entregar"
   ]
  },
  {
   "cell_type": "markdown",
   "id": "bb34e844",
   "metadata": {
    "ExecuteTime": {
     "end_time": "2021-08-25T18:57:38.886782Z",
     "start_time": "2021-08-25T18:57:38.879921Z"
    }
   },
   "source": [
    "Exercícios 4 e 6 da seção 2 Hive/beeline."
   ]
  },
  {
   "cell_type": "code",
   "execution_count": null,
   "id": "68cc59ee",
   "metadata": {},
   "outputs": [],
   "source": []
  }
 ],
 "metadata": {
  "kernelspec": {
   "display_name": "Python 3",
   "language": "python",
   "name": "python3"
  },
  "language_info": {
   "codemirror_mode": {
    "name": "ipython",
    "version": 3
   },
   "file_extension": ".py",
   "mimetype": "text/x-python",
   "name": "python",
   "nbconvert_exporter": "python",
   "pygments_lexer": "ipython3",
   "version": "3.8.8"
  },
  "toc": {
   "base_numbering": 1,
   "nav_menu": {},
   "number_sections": true,
   "sideBar": true,
   "skip_h1_title": false,
   "title_cell": "Table of Contents",
   "title_sidebar": "Contents",
   "toc_cell": false,
   "toc_position": {
    "height": "calc(100% - 180px)",
    "left": "10px",
    "top": "150px",
    "width": "317px"
   },
   "toc_section_display": true,
   "toc_window_display": true
  },
  "varInspector": {
   "cols": {
    "lenName": 16,
    "lenType": 16,
    "lenVar": 40
   },
   "kernels_config": {
    "python": {
     "delete_cmd_postfix": "",
     "delete_cmd_prefix": "del ",
     "library": "var_list.py",
     "varRefreshCmd": "print(var_dic_list())"
    },
    "r": {
     "delete_cmd_postfix": ") ",
     "delete_cmd_prefix": "rm(",
     "library": "var_list.r",
     "varRefreshCmd": "cat(var_dic_list()) "
    }
   },
   "types_to_exclude": [
    "module",
    "function",
    "builtin_function_or_method",
    "instance",
    "_Feature"
   ],
   "window_display": false
  }
 },
 "nbformat": 4,
 "nbformat_minor": 5
}

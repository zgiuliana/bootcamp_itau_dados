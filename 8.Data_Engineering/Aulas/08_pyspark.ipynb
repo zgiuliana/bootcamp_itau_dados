{
 "cells": [
  {
   "cell_type": "markdown",
   "id": "be6e9a75",
   "metadata": {},
   "source": [
    "# Aula 8 - Pyspark"
   ]
  },
  {
   "cell_type": "markdown",
   "id": "778ff1e0",
   "metadata": {},
   "source": [
    "## Revisão"
   ]
  },
  {
   "cell_type": "markdown",
   "id": "563b5d8b",
   "metadata": {},
   "source": [
    "### Acessar um tabela Hive via pyspark"
   ]
  },
  {
   "cell_type": "markdown",
   "id": "67742b90",
   "metadata": {},
   "source": [
    "Criar o contexto `HiveContext`:\n",
    "\n",
    "    from pyspark.sql import HiveContext\n",
    "    contexto = HiveContext(sc)\n",
    "\n",
    "\n",
    "Conectar o banco de dados na tabela:\n",
    "\n",
    "    banco = contexto.table(\"hr.jobs\")\n",
    "    banco.show()\n",
    "\n",
    "Vamos registra a tabela no spark para ficar disponível para execução de querys\n",
    "\n",
    "    banco.registerTempTable(\"jobs\")\n",
    "    contexto.sql('Select * from jobs').show()\n",
    "    contexto.sql('Select *  from jobs order by salario_max DESC limit 1').show()"
   ]
  },
  {
   "cell_type": "code",
   "execution_count": 26,
   "id": "e35e6059",
   "metadata": {
    "ExecuteTime": {
     "end_time": "2021-08-27T20:45:32.245447Z",
     "start_time": "2021-08-27T20:45:32.239585Z"
    }
   },
   "outputs": [],
   "source": [
    "from pyspark.sql import HiveContext\n",
    "contexto = HiveContext(sc)"
   ]
  },
  {
   "cell_type": "code",
   "execution_count": 27,
   "id": "50ccb469",
   "metadata": {},
   "outputs": [
    {
     "data": {
      "text/plain": [
       "<bound method SQLContext.tableNames of <pyspark.sql.context.HiveContext object at 0x7f5035beea50>>"
      ]
     },
     "execution_count": 27,
     "metadata": {},
     "output_type": "execute_result"
    }
   ],
   "source": [
    "contexto.tableNames"
   ]
  },
  {
   "cell_type": "markdown",
   "id": "91a3b7a9",
   "metadata": {},
   "source": [
    "### Criar um dataframe"
   ]
  },
  {
   "cell_type": "markdown",
   "id": "f9aaff03",
   "metadata": {},
   "source": [
    "A variável `jobs` é nosso dataframe\n",
    "\n",
    "    jobs = contexto.sql(\"select * from jobs\") \n",
    "    jobs.show()\n",
    "    "
   ]
  },
  {
   "cell_type": "markdown",
   "id": "9ee9391f",
   "metadata": {},
   "source": [
    "### Alguns comandos"
   ]
  },
  {
   "cell_type": "markdown",
   "id": "837aee3b",
   "metadata": {},
   "source": [
    "  \n",
    "    jobs.show()\n",
    "    jobs.printSchema()\n",
    "    jobs.select('job_title').show()\n",
    "    jobs.select('job_title', 'salario_max').show()\n",
    "    jobs.select('salario_max').distinct().show()\n",
    "    jobs.select('salario_max').distinct().count().show()\n",
    "   "
   ]
  },
  {
   "cell_type": "code",
   "execution_count": null,
   "id": "0da38f93",
   "metadata": {},
   "outputs": [],
   "source": []
  },
  {
   "cell_type": "markdown",
   "id": "2aa92315",
   "metadata": {},
   "source": [
    "# Iniciando o pyspark"
   ]
  },
  {
   "cell_type": "markdown",
   "id": "26f9e6c5",
   "metadata": {},
   "source": [
    "Para instalar `pyspark` localmente, execute em uma célula:\n",
    "\n",
    "    pip install pyspark\n",
    "    \n",
    "    \n",
    "**ATENÇÂO:** Se a célula abaixo falhar, pode ser necessário instalar o Java na sua máquina e reiniciar o computador!\n",
    "\n",
    "[Download Java para Windows](https://www.java.com/pt-BR/download/ie_manual.jsp?locale=pt_BR)"
   ]
  },
  {
   "cell_type": "code",
   "execution_count": null,
   "id": "a63ab95a",
   "metadata": {},
   "outputs": [],
   "source": []
  },
  {
   "cell_type": "markdown",
   "id": "f7916a5a",
   "metadata": {},
   "source": [
    "Para que o pyspark funcione, é preciso criar e configurar um ambiente."
   ]
  },
  {
   "cell_type": "code",
   "execution_count": 1,
   "id": "e33f1069",
   "metadata": {
    "ExecuteTime": {
     "end_time": "2021-08-27T19:32:47.920759Z",
     "start_time": "2021-08-27T19:32:44.211252Z"
    }
   },
   "outputs": [],
   "source": [
    "# importar as funções\n",
    "from pyspark import sql, SparkContext, HiveContext\n",
    "\n",
    "# criar o sparkcontext\n",
    "sc = SparkContext()\n",
    "\n",
    "# criar a sessão spark\n",
    "spark = sql.SparkSession(sc)"
   ]
  },
  {
   "cell_type": "code",
   "execution_count": 2,
   "id": "40e27a8b",
   "metadata": {
    "ExecuteTime": {
     "end_time": "2021-08-27T19:34:36.272428Z",
     "start_time": "2021-08-27T19:34:36.256827Z"
    }
   },
   "outputs": [
    {
     "data": {
      "text/html": [
       "\n",
       "        <div>\n",
       "            <p><b>SparkContext</b></p>\n",
       "\n",
       "            <p><a href=\"http://LAPTOP-DSIGSC0F.mshome.net:4040\">Spark UI</a></p>\n",
       "\n",
       "            <dl>\n",
       "              <dt>Version</dt>\n",
       "                <dd><code>v3.1.2</code></dd>\n",
       "              <dt>Master</dt>\n",
       "                <dd><code>local[*]</code></dd>\n",
       "              <dt>AppName</dt>\n",
       "                <dd><code>pyspark-shell</code></dd>\n",
       "            </dl>\n",
       "        </div>\n",
       "        "
      ],
      "text/plain": [
       "<SparkContext master=local[*] appName=pyspark-shell>"
      ]
     },
     "execution_count": 2,
     "metadata": {},
     "output_type": "execute_result"
    }
   ],
   "source": [
    "sc"
   ]
  },
  {
   "cell_type": "code",
   "execution_count": 3,
   "id": "1dba6b1e",
   "metadata": {
    "ExecuteTime": {
     "end_time": "2021-08-27T19:37:50.593026Z",
     "start_time": "2021-08-27T19:37:49.896326Z"
    }
   },
   "outputs": [
    {
     "data": {
      "text/html": [
       "\n",
       "            <div>\n",
       "                <p><b>SparkSession - in-memory</b></p>\n",
       "                \n",
       "        <div>\n",
       "            <p><b>SparkContext</b></p>\n",
       "\n",
       "            <p><a href=\"http://LAPTOP-DSIGSC0F.mshome.net:4040\">Spark UI</a></p>\n",
       "\n",
       "            <dl>\n",
       "              <dt>Version</dt>\n",
       "                <dd><code>v3.1.2</code></dd>\n",
       "              <dt>Master</dt>\n",
       "                <dd><code>local[*]</code></dd>\n",
       "              <dt>AppName</dt>\n",
       "                <dd><code>pyspark-shell</code></dd>\n",
       "            </dl>\n",
       "        </div>\n",
       "        \n",
       "            </div>\n",
       "        "
      ],
      "text/plain": [
       "<pyspark.sql.session.SparkSession at 0x1e359371910>"
      ]
     },
     "execution_count": 3,
     "metadata": {},
     "output_type": "execute_result"
    }
   ],
   "source": [
    "spark"
   ]
  },
  {
   "cell_type": "code",
   "execution_count": 4,
   "id": "4bcda679",
   "metadata": {
    "ExecuteTime": {
     "end_time": "2021-08-27T19:38:31.161778Z",
     "start_time": "2021-08-27T19:38:31.140261Z"
    }
   },
   "outputs": [
    {
     "data": {
      "text/plain": [
       "<pyspark.conf.SparkConf at 0x1e35a323df0>"
      ]
     },
     "execution_count": 4,
     "metadata": {},
     "output_type": "execute_result"
    }
   ],
   "source": [
    "sc.getConf()"
   ]
  },
  {
   "cell_type": "markdown",
   "id": "8803b4a0",
   "metadata": {},
   "source": [
    "# Acessar arquivo csv com pyspark "
   ]
  },
  {
   "cell_type": "markdown",
   "id": "8afb0522",
   "metadata": {},
   "source": [
    "## Criar uma variável RDD a partir do CSV"
   ]
  },
  {
   "cell_type": "code",
   "execution_count": 8,
   "id": "547a54a7",
   "metadata": {
    "ExecuteTime": {
     "end_time": "2021-08-27T19:41:35.146934Z",
     "start_time": "2021-08-27T19:41:34.604012Z"
    }
   },
   "outputs": [
    {
     "data": {
      "text/plain": [
       "['1,Public Accountant,4200.00,9000.00',\n",
       " '2,Accounting Manager,8200.00,16000.00',\n",
       " '3,Administration Assistant,3000.00,6000.00',\n",
       " '4,President,20000.00,40000.00',\n",
       " '5,Administration Vice President,15000.00,30000.00',\n",
       " '6,Accountant,4200.00,9000.00',\n",
       " '7,Finance Manager,8200.00,16000.00',\n",
       " '8,Human Resources Representative,4000.00,9000.00',\n",
       " '9,Programmer,4000.00,10000.00',\n",
       " '10,Marketing Manager,9000.00,15000.00',\n",
       " '11,Marketing Representative,4000.00,9000.00',\n",
       " '12,Public Relations Representative,4500.00,10500.00',\n",
       " '13,Purchasing Clerk,2500.00,5500.00',\n",
       " '14,Purchasing Manager,8000.00,15000.00',\n",
       " '15,Sales Manager,10000.00,20000.00',\n",
       " '16,Sales Representative,6000.00,12000.00',\n",
       " '17,Shipping Clerk,2500.00,5500.00',\n",
       " '18,Stock Clerk,2000.00,5000.00',\n",
       " '19,Stock Manager,5500.00,8500.00']"
      ]
     },
     "execution_count": 8,
     "metadata": {},
     "output_type": "execute_result"
    }
   ],
   "source": [
    "jobs = sc.textFile('data/jobs.csv')\n",
    "jobs.collect()"
   ]
  },
  {
   "cell_type": "code",
   "execution_count": null,
   "id": "04e0b569",
   "metadata": {},
   "outputs": [],
   "source": []
  },
  {
   "cell_type": "markdown",
   "id": "5f044346",
   "metadata": {},
   "source": [
    "## Acessar um arquivo csv via pyspark"
   ]
  },
  {
   "cell_type": "code",
   "execution_count": 12,
   "id": "d60bcea5",
   "metadata": {
    "ExecuteTime": {
     "end_time": "2021-08-27T19:44:04.096217Z",
     "start_time": "2021-08-27T19:44:03.883378Z"
    }
   },
   "outputs": [
    {
     "name": "stdout",
     "output_type": "stream",
     "text": [
      "+----------+------------+---------+\n",
      "|country_id|country_name|region_id|\n",
      "+----------+------------+---------+\n",
      "|        AR|   Argentina|        2|\n",
      "|        AU|   Australia|        3|\n",
      "|        BE|     Belgium|        1|\n",
      "|        BR|      Brazil|        2|\n",
      "|        CA|      Canada|        2|\n",
      "|        CH| Switzerland|        1|\n",
      "|        CN|       China|        3|\n",
      "|        DE|     Germany|        1|\n",
      "|        DK|     Denmark|        1|\n",
      "|        EG|       Egypt|        4|\n",
      "|        FR|      France|        1|\n",
      "|        HK|    HongKong|        3|\n",
      "|        IL|      Israel|        4|\n",
      "|        IN|       India|        3|\n",
      "|        IT|       Italy|        1|\n",
      "|        JP|       Japan|        3|\n",
      "|        KW|      Kuwait|        4|\n",
      "|        MX|      Mexico|        2|\n",
      "|        NG|     Nigeria|        4|\n",
      "|        NL| Netherlands|        1|\n",
      "+----------+------------+---------+\n",
      "only showing top 20 rows\n",
      "\n"
     ]
    }
   ],
   "source": [
    "# ler tabela countries\n",
    "countries = spark.read.csv('data/countries.csv', header=True)\n",
    "countries.show()"
   ]
  },
  {
   "cell_type": "code",
   "execution_count": null,
   "id": "a89f1d00",
   "metadata": {},
   "outputs": [],
   "source": []
  },
  {
   "cell_type": "markdown",
   "id": "8e792930",
   "metadata": {},
   "source": [
    "## Adicionar headers quando não estão presentes no arquivo"
   ]
  },
  {
   "cell_type": "code",
   "execution_count": 13,
   "id": "f0bcc133",
   "metadata": {
    "ExecuteTime": {
     "end_time": "2021-08-27T19:44:49.922493Z",
     "start_time": "2021-08-27T19:44:49.639837Z"
    }
   },
   "outputs": [
    {
     "name": "stdout",
     "output_type": "stream",
     "text": [
      "+---+--------------------+--------+--------+\n",
      "|_c0|                 _c1|     _c2|     _c3|\n",
      "+---+--------------------+--------+--------+\n",
      "|  1|   Public Accountant| 4200.00| 9000.00|\n",
      "|  2|  Accounting Manager| 8200.00|16000.00|\n",
      "|  3|Administration As...| 3000.00| 6000.00|\n",
      "|  4|           President|20000.00|40000.00|\n",
      "|  5|Administration Vi...|15000.00|30000.00|\n",
      "|  6|          Accountant| 4200.00| 9000.00|\n",
      "|  7|     Finance Manager| 8200.00|16000.00|\n",
      "|  8|Human Resources R...| 4000.00| 9000.00|\n",
      "|  9|          Programmer| 4000.00|10000.00|\n",
      "| 10|   Marketing Manager| 9000.00|15000.00|\n",
      "| 11|Marketing Represe...| 4000.00| 9000.00|\n",
      "| 12|Public Relations ...| 4500.00|10500.00|\n",
      "| 13|    Purchasing Clerk| 2500.00| 5500.00|\n",
      "| 14|  Purchasing Manager| 8000.00|15000.00|\n",
      "| 15|       Sales Manager|10000.00|20000.00|\n",
      "| 16|Sales Representative| 6000.00|12000.00|\n",
      "| 17|      Shipping Clerk| 2500.00| 5500.00|\n",
      "| 18|         Stock Clerk| 2000.00| 5000.00|\n",
      "| 19|       Stock Manager| 5500.00| 8500.00|\n",
      "+---+--------------------+--------+--------+\n",
      "\n"
     ]
    }
   ],
   "source": [
    "# ler arquivo jobs\n",
    "jobs = spark.read.csv('data/jobs.csv')\n",
    "jobs.show()"
   ]
  },
  {
   "cell_type": "code",
   "execution_count": 14,
   "id": "b479b13d",
   "metadata": {
    "ExecuteTime": {
     "end_time": "2021-08-27T19:54:02.845799Z",
     "start_time": "2021-08-27T19:54:02.677700Z"
    }
   },
   "outputs": [
    {
     "name": "stdout",
     "output_type": "stream",
     "text": [
      "+------+--------------------+-----------+-----------+\n",
      "|indice|           job_title|salario_min|salario_max|\n",
      "+------+--------------------+-----------+-----------+\n",
      "|     1|   Public Accountant|     4200.0|     9000.0|\n",
      "|     2|  Accounting Manager|     8200.0|    16000.0|\n",
      "|     3|Administration As...|     3000.0|     6000.0|\n",
      "|     4|           President|    20000.0|    40000.0|\n",
      "|     5|Administration Vi...|    15000.0|    30000.0|\n",
      "|     6|          Accountant|     4200.0|     9000.0|\n",
      "|     7|     Finance Manager|     8200.0|    16000.0|\n",
      "|     8|Human Resources R...|     4000.0|     9000.0|\n",
      "|     9|          Programmer|     4000.0|    10000.0|\n",
      "|    10|   Marketing Manager|     9000.0|    15000.0|\n",
      "|    11|Marketing Represe...|     4000.0|     9000.0|\n",
      "|    12|Public Relations ...|     4500.0|    10500.0|\n",
      "|    13|    Purchasing Clerk|     2500.0|     5500.0|\n",
      "|    14|  Purchasing Manager|     8000.0|    15000.0|\n",
      "|    15|       Sales Manager|    10000.0|    20000.0|\n",
      "|    16|Sales Representative|     6000.0|    12000.0|\n",
      "|    17|      Shipping Clerk|     2500.0|     5500.0|\n",
      "|    18|         Stock Clerk|     2000.0|     5000.0|\n",
      "|    19|       Stock Manager|     5500.0|     8500.0|\n",
      "+------+--------------------+-----------+-----------+\n",
      "\n"
     ]
    }
   ],
   "source": [
    "# importar arquivos de suporte\n",
    "from pyspark.sql.types import StructType, StringType, IntegerType, FloatType\n",
    "\n",
    "# criar schema\n",
    "schema_ = StructType() \\\n",
    "        .add('indice', IntegerType(), True) \\\n",
    "        .add('job_title', StringType(), True) \\\n",
    "        .add('salario_min', FloatType(), True) \\\n",
    "        .add('salario_max', FloatType(), True)\n",
    "\n",
    "# ler o arquivo\n",
    "df = spark.read.csv('data/jobs.csv', schema=schema_)\n",
    "df.show()"
   ]
  },
  {
   "cell_type": "code",
   "execution_count": null,
   "id": "6b742149",
   "metadata": {},
   "outputs": [],
   "source": []
  },
  {
   "cell_type": "markdown",
   "id": "9ed9a9b1",
   "metadata": {},
   "source": [
    "# Analíses com pyspark"
   ]
  },
  {
   "cell_type": "markdown",
   "id": "ef252d5e",
   "metadata": {},
   "source": [
    "## select"
   ]
  },
  {
   "cell_type": "code",
   "execution_count": 16,
   "id": "ecf38780",
   "metadata": {
    "ExecuteTime": {
     "end_time": "2021-08-27T20:07:33.235184Z",
     "start_time": "2021-08-27T20:07:33.118526Z"
    },
    "scrolled": true
   },
   "outputs": [
    {
     "name": "stdout",
     "output_type": "stream",
     "text": [
      "+--------------------+-----------+\n",
      "|           job_title|salario_max|\n",
      "+--------------------+-----------+\n",
      "|   Public Accountant|     9000.0|\n",
      "|  Accounting Manager|    16000.0|\n",
      "|Administration As...|     6000.0|\n",
      "|           President|    40000.0|\n",
      "|Administration Vi...|    30000.0|\n",
      "|          Accountant|     9000.0|\n",
      "|     Finance Manager|    16000.0|\n",
      "|Human Resources R...|     9000.0|\n",
      "|          Programmer|    10000.0|\n",
      "|   Marketing Manager|    15000.0|\n",
      "|Marketing Represe...|     9000.0|\n",
      "|Public Relations ...|    10500.0|\n",
      "|    Purchasing Clerk|     5500.0|\n",
      "|  Purchasing Manager|    15000.0|\n",
      "|       Sales Manager|    20000.0|\n",
      "|Sales Representative|    12000.0|\n",
      "|      Shipping Clerk|     5500.0|\n",
      "|         Stock Clerk|     5000.0|\n",
      "|       Stock Manager|     8500.0|\n",
      "+--------------------+-----------+\n",
      "\n"
     ]
    }
   ],
   "source": [
    "df.select('job_title', 'salario_max').show()"
   ]
  },
  {
   "cell_type": "code",
   "execution_count": null,
   "id": "764b79fb",
   "metadata": {},
   "outputs": [],
   "source": []
  },
  {
   "cell_type": "markdown",
   "id": "fb108918",
   "metadata": {},
   "source": [
    "## filter e/ou where"
   ]
  },
  {
   "cell_type": "code",
   "execution_count": 18,
   "id": "9e6c7e62",
   "metadata": {
    "ExecuteTime": {
     "end_time": "2021-08-27T20:08:33.306217Z",
     "start_time": "2021-08-27T20:08:33.162646Z"
    }
   },
   "outputs": [
    {
     "name": "stdout",
     "output_type": "stream",
     "text": [
      "+------+--------------------+-----------+-----------+\n",
      "|indice|           job_title|salario_min|salario_max|\n",
      "+------+--------------------+-----------+-----------+\n",
      "|     4|           President|    20000.0|    40000.0|\n",
      "|     5|Administration Vi...|    15000.0|    30000.0|\n",
      "+------+--------------------+-----------+-----------+\n",
      "\n"
     ]
    }
   ],
   "source": [
    "df.filter(df.salario_min>=15000).show()"
   ]
  },
  {
   "cell_type": "code",
   "execution_count": 19,
   "id": "5ddcce04",
   "metadata": {
    "ExecuteTime": {
     "end_time": "2021-08-27T20:09:04.693539Z",
     "start_time": "2021-08-27T20:09:04.566686Z"
    }
   },
   "outputs": [
    {
     "name": "stdout",
     "output_type": "stream",
     "text": [
      "+------+--------------------+-----------+-----------+\n",
      "|indice|           job_title|salario_min|salario_max|\n",
      "+------+--------------------+-----------+-----------+\n",
      "|     1|   Public Accountant|     4200.0|     9000.0|\n",
      "|     2|  Accounting Manager|     8200.0|    16000.0|\n",
      "|     3|Administration As...|     3000.0|     6000.0|\n",
      "|     6|          Accountant|     4200.0|     9000.0|\n",
      "|     7|     Finance Manager|     8200.0|    16000.0|\n",
      "|     8|Human Resources R...|     4000.0|     9000.0|\n",
      "|     9|          Programmer|     4000.0|    10000.0|\n",
      "|    10|   Marketing Manager|     9000.0|    15000.0|\n",
      "|    11|Marketing Represe...|     4000.0|     9000.0|\n",
      "|    12|Public Relations ...|     4500.0|    10500.0|\n",
      "|    13|    Purchasing Clerk|     2500.0|     5500.0|\n",
      "|    14|  Purchasing Manager|     8000.0|    15000.0|\n",
      "|    15|       Sales Manager|    10000.0|    20000.0|\n",
      "|    16|Sales Representative|     6000.0|    12000.0|\n",
      "|    17|      Shipping Clerk|     2500.0|     5500.0|\n",
      "|    18|         Stock Clerk|     2000.0|     5000.0|\n",
      "|    19|       Stock Manager|     5500.0|     8500.0|\n",
      "+------+--------------------+-----------+-----------+\n",
      "\n"
     ]
    }
   ],
   "source": [
    "df.where(df.salario_min < 15000).show()"
   ]
  },
  {
   "cell_type": "code",
   "execution_count": 20,
   "id": "1c32e208",
   "metadata": {
    "ExecuteTime": {
     "end_time": "2021-08-27T20:09:47.728861Z",
     "start_time": "2021-08-27T20:09:47.630611Z"
    }
   },
   "outputs": [
    {
     "name": "stdout",
     "output_type": "stream",
     "text": [
      "+------+--------------------+-----------+-----------+\n",
      "|indice|           job_title|salario_min|salario_max|\n",
      "+------+--------------------+-----------+-----------+\n",
      "|     4|           President|    20000.0|    40000.0|\n",
      "|     5|Administration Vi...|    15000.0|    30000.0|\n",
      "+------+--------------------+-----------+-----------+\n",
      "\n"
     ]
    }
   ],
   "source": [
    "df_min = df.filter(df.salario_min>=15000)\n",
    "df_min.show()"
   ]
  },
  {
   "cell_type": "code",
   "execution_count": 22,
   "id": "bd92c3c0",
   "metadata": {
    "ExecuteTime": {
     "end_time": "2021-08-27T20:10:43.690789Z",
     "start_time": "2021-08-27T20:10:43.555179Z"
    }
   },
   "outputs": [
    {
     "name": "stdout",
     "output_type": "stream",
     "text": [
      "+--------------------+\n",
      "|           job_title|\n",
      "+--------------------+\n",
      "|Administration Vi...|\n",
      "+--------------------+\n",
      "\n"
     ]
    }
   ],
   "source": [
    "df_min.select('job_title').where(df.salario_min == 15000).show()"
   ]
  },
  {
   "cell_type": "markdown",
   "id": "dc6eb23f",
   "metadata": {},
   "source": [
    "## sum, min, max, mean"
   ]
  },
  {
   "cell_type": "code",
   "execution_count": 25,
   "id": "f8ea8691",
   "metadata": {
    "ExecuteTime": {
     "end_time": "2021-08-27T20:12:59.286917Z",
     "start_time": "2021-08-27T20:12:58.922383Z"
    }
   },
   "outputs": [
    {
     "name": "stdout",
     "output_type": "stream",
     "text": [
      "+----------------+\n",
      "|sum(salario_min)|\n",
      "+----------------+\n",
      "|        124800.0|\n",
      "+----------------+\n",
      "\n"
     ]
    }
   ],
   "source": [
    "df.select('salario_min').groupby().sum().show()"
   ]
  },
  {
   "cell_type": "code",
   "execution_count": 26,
   "id": "94be8113",
   "metadata": {
    "ExecuteTime": {
     "end_time": "2021-08-27T20:13:27.781454Z",
     "start_time": "2021-08-27T20:13:27.630825Z"
    }
   },
   "outputs": [
    {
     "name": "stdout",
     "output_type": "stream",
     "text": [
      "+----------------+\n",
      "|sum(salario_min)|\n",
      "+----------------+\n",
      "|         35000.0|\n",
      "+----------------+\n",
      "\n"
     ]
    }
   ],
   "source": [
    "df_min.select('salario_min').groupby().sum().show()"
   ]
  },
  {
   "cell_type": "code",
   "execution_count": 27,
   "id": "6ffac19d",
   "metadata": {
    "ExecuteTime": {
     "end_time": "2021-08-27T20:14:10.676755Z",
     "start_time": "2021-08-27T20:14:10.524322Z"
    }
   },
   "outputs": [
    {
     "name": "stdout",
     "output_type": "stream",
     "text": [
      "+------------------+\n",
      "|  avg(salario_max)|\n",
      "+------------------+\n",
      "|13210.526315789473|\n",
      "+------------------+\n",
      "\n"
     ]
    }
   ],
   "source": [
    "df.select('salario_max').groupby().mean().show()"
   ]
  },
  {
   "cell_type": "code",
   "execution_count": 28,
   "id": "bbdf89c0",
   "metadata": {
    "ExecuteTime": {
     "end_time": "2021-08-27T20:15:44.842717Z",
     "start_time": "2021-08-27T20:15:44.822242Z"
    }
   },
   "outputs": [
    {
     "ename": "AttributeError",
     "evalue": "'GroupedData' object has no attribute 'stddev'",
     "output_type": "error",
     "traceback": [
      "\u001b[1;31m---------------------------------------------------------------------------\u001b[0m",
      "\u001b[1;31mAttributeError\u001b[0m                            Traceback (most recent call last)",
      "\u001b[1;32m<ipython-input-28-048dde1be641>\u001b[0m in \u001b[0;36m<module>\u001b[1;34m\u001b[0m\n\u001b[1;32m----> 1\u001b[1;33m \u001b[0mdf\u001b[0m\u001b[1;33m.\u001b[0m\u001b[0mselect\u001b[0m\u001b[1;33m(\u001b[0m\u001b[1;34m'salario_max'\u001b[0m\u001b[1;33m)\u001b[0m\u001b[1;33m.\u001b[0m\u001b[0mgroupby\u001b[0m\u001b[1;33m(\u001b[0m\u001b[1;33m)\u001b[0m\u001b[1;33m.\u001b[0m\u001b[0mstddev\u001b[0m\u001b[1;33m(\u001b[0m\u001b[1;33m)\u001b[0m\u001b[1;33m.\u001b[0m\u001b[0mshow\u001b[0m\u001b[1;33m(\u001b[0m\u001b[1;33m)\u001b[0m\u001b[1;33m\u001b[0m\u001b[1;33m\u001b[0m\u001b[0m\n\u001b[0m",
      "\u001b[1;31mAttributeError\u001b[0m: 'GroupedData' object has no attribute 'stddev'"
     ]
    }
   ],
   "source": [
    "df.select('salario_max').groupby().stddev().show()"
   ]
  },
  {
   "cell_type": "markdown",
   "id": "eeb3091c",
   "metadata": {},
   "source": [
    "## agg"
   ]
  },
  {
   "cell_type": "code",
   "execution_count": 29,
   "id": "ecee0718",
   "metadata": {
    "ExecuteTime": {
     "end_time": "2021-08-27T20:16:47.366151Z",
     "start_time": "2021-08-27T20:16:47.183190Z"
    }
   },
   "outputs": [
    {
     "name": "stdout",
     "output_type": "stream",
     "text": [
      "+-------------------+\n",
      "|stddev(salario_max)|\n",
      "+-------------------+\n",
      "|  8876.178778483585|\n",
      "+-------------------+\n",
      "\n"
     ]
    }
   ],
   "source": [
    "df.agg({'salario_max': 'stddev'}).show()"
   ]
  },
  {
   "cell_type": "code",
   "execution_count": 32,
   "id": "1d3ac547",
   "metadata": {
    "ExecuteTime": {
     "end_time": "2021-08-27T20:17:48.284605Z",
     "start_time": "2021-08-27T20:17:48.149534Z"
    }
   },
   "outputs": [
    {
     "name": "stdout",
     "output_type": "stream",
     "text": [
      "+------------------+\n",
      "|  avg(salario_max)|\n",
      "+------------------+\n",
      "|13210.526315789473|\n",
      "+------------------+\n",
      "\n"
     ]
    }
   ],
   "source": [
    "df.agg({'salario_max': 'mean'}).show()"
   ]
  },
  {
   "cell_type": "markdown",
   "id": "8bb6e4c0",
   "metadata": {},
   "source": [
    "## [join](https://spark.apache.org/docs/latest/api/python/reference/api/pyspark.sql.DataFrame.join.html)\n",
    "\n"
   ]
  },
  {
   "cell_type": "code",
   "execution_count": 33,
   "id": "020f412e",
   "metadata": {
    "ExecuteTime": {
     "end_time": "2021-08-27T20:22:37.160976Z",
     "start_time": "2021-08-27T20:22:36.849402Z"
    }
   },
   "outputs": [
    {
     "name": "stdout",
     "output_type": "stream",
     "text": [
      "+-----------+-----------+----------+--------------------+------------+----------+------+--------+----------+-------------+\n",
      "|employee_id| first_name| last_name|               email|phone_number| hire_date|job_id|  salary|manager_id|department_id|\n",
      "+-----------+-----------+----------+--------------------+------------+----------+------+--------+----------+-------------+\n",
      "|        100|     Steven|      King|steven.king@sqltu...|515.123.4567|1987-06-17|     4|24000.00|      null|            9|\n",
      "|        101|      Neena|   Kochhar|neena.kochhar@sql...|515.123.4568|1989-09-21|     5|17000.00|       100|            9|\n",
      "|        102|        Lex|   De Haan|lex.de haan@sqltu...|515.123.4569|1993-01-13|     5|17000.00|       100|            9|\n",
      "|        103|  Alexander|    Hunold|alexander.hunold@...|590.423.4567|1990-01-03|     9| 9000.00|       102|            6|\n",
      "|        104|      Bruce|     Ernst|bruce.ernst@sqltu...|590.423.4568|1991-05-21|     9| 6000.00|       103|            6|\n",
      "|        105|      David|    Austin|david.austin@sqlt...|590.423.4569|1997-06-25|     9| 4800.00|       103|            6|\n",
      "|        106|      Valli| Pataballa|valli.pataballa@s...|590.423.4560|1998-02-05|     9| 4800.00|       103|            6|\n",
      "|        107|      Diana|   Lorentz|diana.lorentz@sql...|590.423.5567|1999-02-07|     9| 4200.00|       103|            6|\n",
      "|        108|      Nancy| Greenberg|nancy.greenberg@s...|515.124.4569|1994-08-17|     7|12000.00|       101|           10|\n",
      "|        109|     Daniel|    Faviet|daniel.faviet@sql...|515.124.4169|1994-08-16|     6| 9000.00|       108|           10|\n",
      "|        110|       John|      Chen|john.chen@sqltuto...|515.124.4269|1997-09-28|     6| 8200.00|       108|           10|\n",
      "|        111|     Ismael|   Sciarra|ismael.sciarra@sq...|515.124.4369|1997-09-30|     6| 7700.00|       108|           10|\n",
      "|        112|Jose Manuel|     Urman|jose manuel.urman...|515.124.4469|1998-03-07|     6| 7800.00|       108|           10|\n",
      "|        113|       Luis|      Popp|luis.popp@sqltuto...|515.124.4567|1999-12-07|     6| 6900.00|       108|           10|\n",
      "|        114|        Den|  Raphaely|den.raphaely@sqlt...|515.127.4561|1994-12-07|    14|11000.00|       100|            3|\n",
      "|        115|  Alexander|      Khoo|alexander.khoo@sq...|515.127.4562|1995-05-18|    13| 3100.00|       114|            3|\n",
      "|        116|     Shelli|     Baida|shelli.baida@sqlt...|515.127.4563|1997-12-24|    13| 2900.00|       114|            3|\n",
      "|        117|      Sigal|    Tobias|sigal.tobias@sqlt...|515.127.4564|1997-07-24|    13| 2800.00|       114|            3|\n",
      "|        118|        Guy|    Himuro|guy.himuro@sqltut...|515.127.4565|1998-11-15|    13| 2600.00|       114|            3|\n",
      "|        119|      Karen|Colmenares|karen.colmenares@...|515.127.4566|1999-08-10|    13| 2500.00|       114|            3|\n",
      "+-----------+-----------+----------+--------------------+------------+----------+------+--------+----------+-------------+\n",
      "only showing top 20 rows\n",
      "\n"
     ]
    }
   ],
   "source": [
    "# ler tabela employees\n",
    "df_emp = spark.read.csv('data/employees.csv', header=True)\n",
    "df_emp.show()"
   ]
  },
  {
   "cell_type": "code",
   "execution_count": 35,
   "id": "ac9891ca",
   "metadata": {
    "ExecuteTime": {
     "end_time": "2021-08-27T20:25:38.060491Z",
     "start_time": "2021-08-27T20:25:37.828196Z"
    }
   },
   "outputs": [
    {
     "name": "stdout",
     "output_type": "stream",
     "text": [
      "+-----------+--------+--------------------+-----------+\n",
      "| first_name|  salary|           job_title|salario_max|\n",
      "+-----------+--------+--------------------+-----------+\n",
      "|     Steven|24000.00|           President|    40000.0|\n",
      "|      Neena|17000.00|Administration Vi...|    30000.0|\n",
      "|        Lex|17000.00|Administration Vi...|    30000.0|\n",
      "|  Alexander| 9000.00|          Programmer|    10000.0|\n",
      "|      Bruce| 6000.00|          Programmer|    10000.0|\n",
      "|      David| 4800.00|          Programmer|    10000.0|\n",
      "|      Valli| 4800.00|          Programmer|    10000.0|\n",
      "|      Diana| 4200.00|          Programmer|    10000.0|\n",
      "|      Nancy|12000.00|     Finance Manager|    16000.0|\n",
      "|     Daniel| 9000.00|          Accountant|     9000.0|\n",
      "|       John| 8200.00|          Accountant|     9000.0|\n",
      "|     Ismael| 7700.00|          Accountant|     9000.0|\n",
      "|Jose Manuel| 7800.00|          Accountant|     9000.0|\n",
      "|       Luis| 6900.00|          Accountant|     9000.0|\n",
      "|        Den|11000.00|  Purchasing Manager|    15000.0|\n",
      "|  Alexander| 3100.00|    Purchasing Clerk|     5500.0|\n",
      "|     Shelli| 2900.00|    Purchasing Clerk|     5500.0|\n",
      "|      Sigal| 2800.00|    Purchasing Clerk|     5500.0|\n",
      "|        Guy| 2600.00|    Purchasing Clerk|     5500.0|\n",
      "|      Karen| 2500.00|    Purchasing Clerk|     5500.0|\n",
      "+-----------+--------+--------------------+-----------+\n",
      "only showing top 20 rows\n",
      "\n"
     ]
    }
   ],
   "source": [
    "# join\n",
    "df_join = df_emp.join(df, on=df_emp.job_id==df.indice, how='left' )\n",
    "df_join.select(df_emp.first_name, df_emp.salary, df.job_title, df.salario_max).show()"
   ]
  },
  {
   "cell_type": "code",
   "execution_count": null,
   "id": "4a80c420",
   "metadata": {},
   "outputs": [],
   "source": []
  },
  {
   "cell_type": "markdown",
   "id": "84c43bdb",
   "metadata": {},
   "source": [
    "## toPandas"
   ]
  },
  {
   "cell_type": "code",
   "execution_count": 36,
   "id": "a93cddbf",
   "metadata": {
    "ExecuteTime": {
     "end_time": "2021-08-27T20:27:15.141258Z",
     "start_time": "2021-08-27T20:27:14.640077Z"
    }
   },
   "outputs": [
    {
     "data": {
      "text/html": [
       "<div>\n",
       "<style scoped>\n",
       "    .dataframe tbody tr th:only-of-type {\n",
       "        vertical-align: middle;\n",
       "    }\n",
       "\n",
       "    .dataframe tbody tr th {\n",
       "        vertical-align: top;\n",
       "    }\n",
       "\n",
       "    .dataframe thead th {\n",
       "        text-align: right;\n",
       "    }\n",
       "</style>\n",
       "<table border=\"1\" class=\"dataframe\">\n",
       "  <thead>\n",
       "    <tr style=\"text-align: right;\">\n",
       "      <th></th>\n",
       "      <th>indice</th>\n",
       "      <th>job_title</th>\n",
       "      <th>salario_min</th>\n",
       "      <th>salario_max</th>\n",
       "    </tr>\n",
       "  </thead>\n",
       "  <tbody>\n",
       "    <tr>\n",
       "      <th>0</th>\n",
       "      <td>1</td>\n",
       "      <td>Public Accountant</td>\n",
       "      <td>4200.0</td>\n",
       "      <td>9000.0</td>\n",
       "    </tr>\n",
       "    <tr>\n",
       "      <th>1</th>\n",
       "      <td>2</td>\n",
       "      <td>Accounting Manager</td>\n",
       "      <td>8200.0</td>\n",
       "      <td>16000.0</td>\n",
       "    </tr>\n",
       "    <tr>\n",
       "      <th>2</th>\n",
       "      <td>3</td>\n",
       "      <td>Administration Assistant</td>\n",
       "      <td>3000.0</td>\n",
       "      <td>6000.0</td>\n",
       "    </tr>\n",
       "    <tr>\n",
       "      <th>3</th>\n",
       "      <td>4</td>\n",
       "      <td>President</td>\n",
       "      <td>20000.0</td>\n",
       "      <td>40000.0</td>\n",
       "    </tr>\n",
       "    <tr>\n",
       "      <th>4</th>\n",
       "      <td>5</td>\n",
       "      <td>Administration Vice President</td>\n",
       "      <td>15000.0</td>\n",
       "      <td>30000.0</td>\n",
       "    </tr>\n",
       "    <tr>\n",
       "      <th>5</th>\n",
       "      <td>6</td>\n",
       "      <td>Accountant</td>\n",
       "      <td>4200.0</td>\n",
       "      <td>9000.0</td>\n",
       "    </tr>\n",
       "    <tr>\n",
       "      <th>6</th>\n",
       "      <td>7</td>\n",
       "      <td>Finance Manager</td>\n",
       "      <td>8200.0</td>\n",
       "      <td>16000.0</td>\n",
       "    </tr>\n",
       "    <tr>\n",
       "      <th>7</th>\n",
       "      <td>8</td>\n",
       "      <td>Human Resources Representative</td>\n",
       "      <td>4000.0</td>\n",
       "      <td>9000.0</td>\n",
       "    </tr>\n",
       "    <tr>\n",
       "      <th>8</th>\n",
       "      <td>9</td>\n",
       "      <td>Programmer</td>\n",
       "      <td>4000.0</td>\n",
       "      <td>10000.0</td>\n",
       "    </tr>\n",
       "    <tr>\n",
       "      <th>9</th>\n",
       "      <td>10</td>\n",
       "      <td>Marketing Manager</td>\n",
       "      <td>9000.0</td>\n",
       "      <td>15000.0</td>\n",
       "    </tr>\n",
       "    <tr>\n",
       "      <th>10</th>\n",
       "      <td>11</td>\n",
       "      <td>Marketing Representative</td>\n",
       "      <td>4000.0</td>\n",
       "      <td>9000.0</td>\n",
       "    </tr>\n",
       "    <tr>\n",
       "      <th>11</th>\n",
       "      <td>12</td>\n",
       "      <td>Public Relations Representative</td>\n",
       "      <td>4500.0</td>\n",
       "      <td>10500.0</td>\n",
       "    </tr>\n",
       "    <tr>\n",
       "      <th>12</th>\n",
       "      <td>13</td>\n",
       "      <td>Purchasing Clerk</td>\n",
       "      <td>2500.0</td>\n",
       "      <td>5500.0</td>\n",
       "    </tr>\n",
       "    <tr>\n",
       "      <th>13</th>\n",
       "      <td>14</td>\n",
       "      <td>Purchasing Manager</td>\n",
       "      <td>8000.0</td>\n",
       "      <td>15000.0</td>\n",
       "    </tr>\n",
       "    <tr>\n",
       "      <th>14</th>\n",
       "      <td>15</td>\n",
       "      <td>Sales Manager</td>\n",
       "      <td>10000.0</td>\n",
       "      <td>20000.0</td>\n",
       "    </tr>\n",
       "    <tr>\n",
       "      <th>15</th>\n",
       "      <td>16</td>\n",
       "      <td>Sales Representative</td>\n",
       "      <td>6000.0</td>\n",
       "      <td>12000.0</td>\n",
       "    </tr>\n",
       "    <tr>\n",
       "      <th>16</th>\n",
       "      <td>17</td>\n",
       "      <td>Shipping Clerk</td>\n",
       "      <td>2500.0</td>\n",
       "      <td>5500.0</td>\n",
       "    </tr>\n",
       "    <tr>\n",
       "      <th>17</th>\n",
       "      <td>18</td>\n",
       "      <td>Stock Clerk</td>\n",
       "      <td>2000.0</td>\n",
       "      <td>5000.0</td>\n",
       "    </tr>\n",
       "    <tr>\n",
       "      <th>18</th>\n",
       "      <td>19</td>\n",
       "      <td>Stock Manager</td>\n",
       "      <td>5500.0</td>\n",
       "      <td>8500.0</td>\n",
       "    </tr>\n",
       "  </tbody>\n",
       "</table>\n",
       "</div>"
      ],
      "text/plain": [
       "    indice                        job_title  salario_min  salario_max\n",
       "0        1                Public Accountant       4200.0       9000.0\n",
       "1        2               Accounting Manager       8200.0      16000.0\n",
       "2        3         Administration Assistant       3000.0       6000.0\n",
       "3        4                        President      20000.0      40000.0\n",
       "4        5    Administration Vice President      15000.0      30000.0\n",
       "5        6                       Accountant       4200.0       9000.0\n",
       "6        7                  Finance Manager       8200.0      16000.0\n",
       "7        8   Human Resources Representative       4000.0       9000.0\n",
       "8        9                       Programmer       4000.0      10000.0\n",
       "9       10                Marketing Manager       9000.0      15000.0\n",
       "10      11         Marketing Representative       4000.0       9000.0\n",
       "11      12  Public Relations Representative       4500.0      10500.0\n",
       "12      13                 Purchasing Clerk       2500.0       5500.0\n",
       "13      14               Purchasing Manager       8000.0      15000.0\n",
       "14      15                    Sales Manager      10000.0      20000.0\n",
       "15      16             Sales Representative       6000.0      12000.0\n",
       "16      17                   Shipping Clerk       2500.0       5500.0\n",
       "17      18                      Stock Clerk       2000.0       5000.0\n",
       "18      19                    Stock Manager       5500.0       8500.0"
      ]
     },
     "execution_count": 36,
     "metadata": {},
     "output_type": "execute_result"
    }
   ],
   "source": [
    "df_pandas = df.toPandas()\n",
    "df_pandas"
   ]
  },
  {
   "cell_type": "code",
   "execution_count": 38,
   "id": "467b1f0d",
   "metadata": {
    "ExecuteTime": {
     "end_time": "2021-08-27T20:27:35.083382Z",
     "start_time": "2021-08-27T20:27:35.072641Z"
    }
   },
   "outputs": [
    {
     "data": {
      "text/html": [
       "<div>\n",
       "<style scoped>\n",
       "    .dataframe tbody tr th:only-of-type {\n",
       "        vertical-align: middle;\n",
       "    }\n",
       "\n",
       "    .dataframe tbody tr th {\n",
       "        vertical-align: top;\n",
       "    }\n",
       "\n",
       "    .dataframe thead th {\n",
       "        text-align: right;\n",
       "    }\n",
       "</style>\n",
       "<table border=\"1\" class=\"dataframe\">\n",
       "  <thead>\n",
       "    <tr style=\"text-align: right;\">\n",
       "      <th></th>\n",
       "      <th>salario_max</th>\n",
       "    </tr>\n",
       "  </thead>\n",
       "  <tbody>\n",
       "    <tr>\n",
       "      <th>0</th>\n",
       "      <td>9000.0</td>\n",
       "    </tr>\n",
       "    <tr>\n",
       "      <th>1</th>\n",
       "      <td>16000.0</td>\n",
       "    </tr>\n",
       "    <tr>\n",
       "      <th>2</th>\n",
       "      <td>6000.0</td>\n",
       "    </tr>\n",
       "    <tr>\n",
       "      <th>3</th>\n",
       "      <td>40000.0</td>\n",
       "    </tr>\n",
       "    <tr>\n",
       "      <th>4</th>\n",
       "      <td>30000.0</td>\n",
       "    </tr>\n",
       "    <tr>\n",
       "      <th>5</th>\n",
       "      <td>9000.0</td>\n",
       "    </tr>\n",
       "    <tr>\n",
       "      <th>6</th>\n",
       "      <td>16000.0</td>\n",
       "    </tr>\n",
       "    <tr>\n",
       "      <th>7</th>\n",
       "      <td>9000.0</td>\n",
       "    </tr>\n",
       "    <tr>\n",
       "      <th>8</th>\n",
       "      <td>10000.0</td>\n",
       "    </tr>\n",
       "    <tr>\n",
       "      <th>9</th>\n",
       "      <td>15000.0</td>\n",
       "    </tr>\n",
       "    <tr>\n",
       "      <th>10</th>\n",
       "      <td>9000.0</td>\n",
       "    </tr>\n",
       "    <tr>\n",
       "      <th>11</th>\n",
       "      <td>10500.0</td>\n",
       "    </tr>\n",
       "    <tr>\n",
       "      <th>12</th>\n",
       "      <td>5500.0</td>\n",
       "    </tr>\n",
       "    <tr>\n",
       "      <th>13</th>\n",
       "      <td>15000.0</td>\n",
       "    </tr>\n",
       "    <tr>\n",
       "      <th>14</th>\n",
       "      <td>20000.0</td>\n",
       "    </tr>\n",
       "    <tr>\n",
       "      <th>15</th>\n",
       "      <td>12000.0</td>\n",
       "    </tr>\n",
       "    <tr>\n",
       "      <th>16</th>\n",
       "      <td>5500.0</td>\n",
       "    </tr>\n",
       "    <tr>\n",
       "      <th>17</th>\n",
       "      <td>5000.0</td>\n",
       "    </tr>\n",
       "    <tr>\n",
       "      <th>18</th>\n",
       "      <td>8500.0</td>\n",
       "    </tr>\n",
       "  </tbody>\n",
       "</table>\n",
       "</div>"
      ],
      "text/plain": [
       "    salario_max\n",
       "0        9000.0\n",
       "1       16000.0\n",
       "2        6000.0\n",
       "3       40000.0\n",
       "4       30000.0\n",
       "5        9000.0\n",
       "6       16000.0\n",
       "7        9000.0\n",
       "8       10000.0\n",
       "9       15000.0\n",
       "10       9000.0\n",
       "11      10500.0\n",
       "12       5500.0\n",
       "13      15000.0\n",
       "14      20000.0\n",
       "15      12000.0\n",
       "16       5500.0\n",
       "17       5000.0\n",
       "18       8500.0"
      ]
     },
     "execution_count": 38,
     "metadata": {},
     "output_type": "execute_result"
    }
   ],
   "source": [
    "df_pandas[['salario_max']]"
   ]
  },
  {
   "cell_type": "code",
   "execution_count": null,
   "id": "22b293e5",
   "metadata": {},
   "outputs": [],
   "source": []
  },
  {
   "cell_type": "markdown",
   "id": "b77009a1",
   "metadata": {},
   "source": [
    "# Comparando pandas e pyspark (local)"
   ]
  },
  {
   "cell_type": "markdown",
   "id": "931accc1",
   "metadata": {},
   "source": [
    "## Pandas"
   ]
  },
  {
   "cell_type": "code",
   "execution_count": 39,
   "id": "eda8dcbc",
   "metadata": {
    "ExecuteTime": {
     "end_time": "2021-08-27T20:28:17.682667Z",
     "start_time": "2021-08-27T20:28:13.946565Z"
    }
   },
   "outputs": [
    {
     "name": "stdout",
     "output_type": "stream",
     "text": [
      "45.8 µs ± 1.95 µs per loop (mean ± std. dev. of 7 runs, 10000 loops each)\n"
     ]
    }
   ],
   "source": [
    "%%timeit\n",
    "df_pandas['salario_max'].sum()"
   ]
  },
  {
   "cell_type": "markdown",
   "id": "f4e1ac39",
   "metadata": {},
   "source": [
    "## Pyspark"
   ]
  },
  {
   "cell_type": "code",
   "execution_count": 41,
   "id": "5efff194",
   "metadata": {
    "ExecuteTime": {
     "end_time": "2021-08-27T20:28:52.816939Z",
     "start_time": "2021-08-27T20:28:48.572084Z"
    }
   },
   "outputs": [
    {
     "name": "stdout",
     "output_type": "stream",
     "text": [
      "4.96 ms ± 368 µs per loop (mean ± std. dev. of 7 runs, 100 loops each)\n"
     ]
    }
   ],
   "source": [
    "%%timeit\n",
    "df.agg({'salario_max': 'mean'})"
   ]
  },
  {
   "cell_type": "markdown",
   "id": "04fd7879",
   "metadata": {},
   "source": [
    "## Conclusão"
   ]
  },
  {
   "cell_type": "code",
   "execution_count": 42,
   "id": "23ed0221",
   "metadata": {
    "ExecuteTime": {
     "end_time": "2021-08-27T20:30:21.241177Z",
     "start_time": "2021-08-27T20:30:21.237271Z"
    }
   },
   "outputs": [],
   "source": [
    "# 4960 microsegundos\n",
    "\n",
    "# fator: 100"
   ]
  },
  {
   "cell_type": "code",
   "execution_count": null,
   "id": "1bcab2d7",
   "metadata": {},
   "outputs": [],
   "source": []
  },
  {
   "cell_type": "markdown",
   "id": "2297d0bd",
   "metadata": {},
   "source": [
    "# GHP"
   ]
  },
  {
   "cell_type": "code",
   "execution_count": null,
   "id": "7d36824d",
   "metadata": {},
   "outputs": [],
   "source": [
    "from bifrost.hadoop import Hadoop\n",
    "\n",
    "ghp = Hadoop(database='ghp_que_voce_quer', password=getpass.getpass(prompt='Digite a senha: '))\n",
    "df = ghp.query('SELECT ....')\n"
   ]
  }
 ],
 "metadata": {
  "kernelspec": {
   "display_name": "Python 3",
   "language": "python",
   "name": "python3"
  },
  "language_info": {
   "codemirror_mode": {
    "name": "ipython",
    "version": 3
   },
   "file_extension": ".py",
   "mimetype": "text/x-python",
   "name": "python",
   "nbconvert_exporter": "python",
   "pygments_lexer": "ipython3",
   "version": "3.8.8"
  },
  "latex_envs": {
   "LaTeX_envs_menu_present": true,
   "autoclose": false,
   "autocomplete": true,
   "bibliofile": "biblio.bib",
   "cite_by": "apalike",
   "current_citInitial": 1,
   "eqLabelWithNumbers": true,
   "eqNumInitial": 1,
   "hotkeys": {
    "equation": "Ctrl-E",
    "itemize": "Ctrl-I"
   },
   "labels_anchors": false,
   "latex_user_defs": false,
   "report_style_numbering": false,
   "user_envs_cfg": false
  },
  "toc": {
   "base_numbering": 1,
   "nav_menu": {},
   "number_sections": true,
   "sideBar": true,
   "skip_h1_title": false,
   "title_cell": "Table of Contents",
   "title_sidebar": "Contents",
   "toc_cell": false,
   "toc_position": {
    "height": "calc(100% - 180px)",
    "left": "10px",
    "top": "150px",
    "width": "307.2px"
   },
   "toc_section_display": true,
   "toc_window_display": true
  },
  "varInspector": {
   "cols": {
    "lenName": 16,
    "lenType": 16,
    "lenVar": 40
   },
   "kernels_config": {
    "python": {
     "delete_cmd_postfix": "",
     "delete_cmd_prefix": "del ",
     "library": "var_list.py",
     "varRefreshCmd": "print(var_dic_list())"
    },
    "r": {
     "delete_cmd_postfix": ") ",
     "delete_cmd_prefix": "rm(",
     "library": "var_list.r",
     "varRefreshCmd": "cat(var_dic_list()) "
    }
   },
   "types_to_exclude": [
    "module",
    "function",
    "builtin_function_or_method",
    "instance",
    "_Feature"
   ],
   "window_display": false
  }
 },
 "nbformat": 4,
 "nbformat_minor": 5
}

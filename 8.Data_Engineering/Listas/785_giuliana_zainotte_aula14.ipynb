{
 "cells": [
  {
   "cell_type": "markdown",
   "id": "6424bf75",
   "metadata": {},
   "source": [
    "# Exercicios\n",
    "\n",
    "Os exercícios 1.1 e 1.2 podem ser realizados de forma complementar, ou seja, devem ser realizados em paralelo."
   ]
  },
  {
   "cell_type": "code",
   "execution_count": null,
   "id": "e8a1c180",
   "metadata": {},
   "outputs": [],
   "source": []
  },
  {
   "cell_type": "markdown",
   "id": "fc24546c",
   "metadata": {},
   "source": [
    "# **Crie uma função lambda na AWS de nome `785_firstname_lastname_aula14`. Essa função deverá:**\n",
    "1. Receber como entrada peso (kg), altura (m) e idade (anos) de uma pessoa.\n",
    "1. Calcular o Indíce de Massa Corporal: IMC = peso / altura^2.\n",
    "1. Avaliar a faixa de de classificação de acordo com a tabela:\n",
    "| Classificação | Faixa |\n",
    "|--------|---------|\n",
    "| Muito abaixo do peso\t|menor que  16,9 kg/m2 |\n",
    "| Abaixo do peso\t| 17 a 18,4 kg/m2\t|\n",
    "| Peso normal\t| 18,5 a 24,9 kg/m2\t| \n",
    "| Acima do peso\t| 25 a 29,9 kg/m2\t|\n",
    "|Obesidade Grau I\t| 30 a 34,9 kg/m2 |\t\n",
    "|Obesidade Grau II\t| 35 a 40 kg/m2\t|\n",
    "|Obesidade Grau III |\tmaior que 40 kg/m2 |\n",
    "1. Retornar o IMC e a classificação para o programa principal.\n",
    "1. Quando a lambda estiver pronta, copie e cole o código abaixo."
   ]
  },
  {
   "cell_type": "raw",
   "id": "5f3f0649-86bd-415d-b0de-0b7998c37b1f",
   "metadata": {
    "ExecuteTime": {
     "end_time": "2021-09-08T16:46:53.259851Z",
     "start_time": "2021-09-08T16:46:53.256853Z"
    }
   },
   "source": [
    "# código da função lambda\n",
    "import json\n",
    "\n",
    "def lambda_handler(event, context):\n",
    "    \n",
    "    data = event # para testar no console\n",
    "    \n",
    "    data = json.loads(event['body']) # para executar no script\n",
    "    \n",
    "    \n",
    "    \n",
    "    peso = data['peso']\n",
    "    altura = data['altura']\n",
    "    idade = data['idade']\n",
    "    \n",
    "    imc=peso/(altura**2)\n",
    "    \n",
    "    if imc<17:\n",
    "        classific='Muito abaixo do peso'\n",
    "    elif imc>=17 and imc<18.5:\n",
    "        classific='Abaixo do peso'\n",
    "    elif imc>=18.5 and imc<25:\n",
    "        classific='Peso normal'\n",
    "    elif imc>=25 and imc<30:\n",
    "        classific='Acima do peso'\n",
    "    elif imc>=30 and imc<35:\n",
    "        classific='Obesidade Grau I'\n",
    "    elif imc>=35 and imc<40:\n",
    "        classific='Obesidade Grau II'\n",
    "    else:\n",
    "        classific='Obesidade Grau III'\n",
    "    \n",
    "        # TODO: write code...\n",
    "    \n",
    "    dict_saida = {'IMC': imc,\n",
    "                'Classificação': classific,\n",
    "                }\n",
    "        \n",
    "    return {\n",
    "        'statusCode': 200,\n",
    "        'body': json.dumps(dict_saida)\n",
    "    }"
   ]
  },
  {
   "cell_type": "code",
   "execution_count": null,
   "id": "e6c738d0",
   "metadata": {},
   "outputs": [],
   "source": []
  },
  {
   "cell_type": "markdown",
   "id": "12d13338",
   "metadata": {},
   "source": [
    "## \n",
    "**Renomeie o notebook `785_firstname_lastname_aula14.ipynb`  com seus dados e crie um código que:**\n",
    "1. Faça a leitura dos dados da pessoa, conferindo os valores de entrada (peso em kg, altura em m e idade em anos).\n",
    "1. Passe os dados de entrada para a lambda.\n",
    "1. Extraia a resposta da requisição da lambda.\n",
    "1. Imprima uma mensagem com o valor do IMC e a classificação correspondente."
   ]
  },
  {
   "cell_type": "markdown",
   "id": "4f1ad409",
   "metadata": {},
   "source": [
    "### código:"
   ]
  },
  {
   "cell_type": "code",
   "execution_count": 1,
   "id": "9de66056-faf2-425c-a586-a9aa76c1b2fa",
   "metadata": {},
   "outputs": [],
   "source": [
    "import boto3\n",
    "import requests"
   ]
  },
  {
   "cell_type": "code",
   "execution_count": 2,
   "id": "10377a75-4778-4cf6-83d7-4bb9e41d8aaa",
   "metadata": {},
   "outputs": [],
   "source": [
    "def valida_peso():\n",
    "    peso=float(input('Digite o Peso (kg):\\n'))\n",
    "    while peso<0 or peso>300:\n",
    "        print('Peso inválido')\n",
    "        peso=float(input('Digite o Peso (kg):\\n'))\n",
    "    return peso\n",
    "def valida_altura():\n",
    "    altura=float(input('Digite o Altura (m):\\n'))\n",
    "    while altura<0 or altura>2.5:\n",
    "        print('Altura inválida')\n",
    "        altura=float(input('Digite o Altura (m):\\n'))\n",
    "    return altura\n",
    "def valida_idade():\n",
    "    idade=int(input('Digite a Idade (m):\\n'))       \n",
    "    if idade<0:\n",
    "        print('Idade inválida')\n",
    "        idade=int(input('Digite a Idade (m):\\n'))\n",
    "    elif idade<20 and idade>0:\n",
    "        print('Obs.: Para essa idade não é recomendado o uso do IMC')\n",
    "    return idade\n"
   ]
  },
  {
   "cell_type": "code",
   "execution_count": 3,
   "id": "488b8fa6",
   "metadata": {},
   "outputs": [],
   "source": [
    "def imc():\n",
    "    url='https://sno7vsjdyc.execute-api.us-east-1.amazonaws.com/default/imc'\n",
    "    opcao='1000'\n",
    "    while opcao!='2':\n",
    "        opcao=(input('Você gostaria de:\\n1. Consultar um IMC\\n2.Sair\\n'))\n",
    "        if opcao=='2':\n",
    "            break   \n",
    "        elif opcao=='1':    \n",
    "            dict_entradas = {\n",
    "            'peso': valida_peso(),\n",
    "            'altura': valida_altura(),\n",
    "            'idade':valida_idade()\n",
    "            }\n",
    "            response = requests.post(url, json=dict_entradas)\n",
    "            resposta = response.json()\n",
    "            imc=resposta['IMC']\n",
    "            classific=resposta['Classificação']\n",
    "            print(f'O IMC é: {imc:.1f}\\nClassificado como: {classific}')\n",
    "        else:\n",
    "            print('Opção Inválida')\n",
    "\n",
    "        "
   ]
  },
  {
   "cell_type": "code",
   "execution_count": 4,
   "id": "423c5f61-bb2c-4c23-b51b-9dbeb2d6390f",
   "metadata": {},
   "outputs": [
    {
     "name": "stdin",
     "output_type": "stream",
     "text": [
      "Você gostaria de:\n",
      "1. Consultar um IMC\n",
      "2.Sair\n",
      " 1\n",
      "Digite o Peso (kg):\n",
      " 72\n",
      "Digite o Altura (m):\n",
      " 1.65\n",
      "Digite a Idade (m):\n",
      " 10\n"
     ]
    },
    {
     "name": "stdout",
     "output_type": "stream",
     "text": [
      "Para essa idade não é recomendado o uso do IMC\n",
      "O IMC é: 26.4\n",
      "Classificado como: Acima do peso\n"
     ]
    },
    {
     "name": "stdin",
     "output_type": "stream",
     "text": [
      "Você gostaria de:\n",
      "1. Consultar um IMC\n",
      "2.Sair\n",
      " 2\n"
     ]
    }
   ],
   "source": [
    "imc()"
   ]
  },
  {
   "cell_type": "markdown",
   "id": "1ac26a48",
   "metadata": {},
   "source": [
    "## \n",
    "**Descreva pelo menos um processo que poderia ser melhorado / automatizado com o uso de lambdas em seu departamento.**"
   ]
  },
  {
   "cell_type": "markdown",
   "id": "725669e1-5189-4421-b18e-514122a32b38",
   "metadata": {},
   "source": [
    "Hoje processamos cada informação com um código diferente, em um processo manual, o que dificulta muito quando precisamos modificar alguma coisa. Poderíamos criar uma função lambda que recebe o dado de entrada, independente do produto, e aplique as regras de negócio. Que seria usado agendado, ao invés de manual."
   ]
  }
 ],
 "metadata": {
  "kernelspec": {
   "display_name": "Python 3",
   "language": "python",
   "name": "python3"
  },
  "language_info": {
   "codemirror_mode": {
    "name": "ipython",
    "version": 3
   },
   "file_extension": ".py",
   "mimetype": "text/x-python",
   "name": "python",
   "nbconvert_exporter": "python",
   "pygments_lexer": "ipython3",
   "version": "3.8.8"
  },
  "latex_envs": {
   "LaTeX_envs_menu_present": true,
   "autoclose": false,
   "autocomplete": true,
   "bibliofile": "biblio.bib",
   "cite_by": "apalike",
   "current_citInitial": 1,
   "eqLabelWithNumbers": true,
   "eqNumInitial": 1,
   "hotkeys": {
    "equation": "Ctrl-E",
    "itemize": "Ctrl-I"
   },
   "labels_anchors": false,
   "latex_user_defs": false,
   "report_style_numbering": false,
   "user_envs_cfg": false
  },
  "toc": {
   "base_numbering": 1,
   "nav_menu": {},
   "number_sections": true,
   "sideBar": true,
   "skip_h1_title": false,
   "title_cell": "Table of Contents",
   "title_sidebar": "Contents",
   "toc_cell": false,
   "toc_position": {},
   "toc_section_display": true,
   "toc_window_display": false
  },
  "varInspector": {
   "cols": {
    "lenName": 16,
    "lenType": 16,
    "lenVar": 40
   },
   "kernels_config": {
    "python": {
     "delete_cmd_postfix": "",
     "delete_cmd_prefix": "del ",
     "library": "var_list.py",
     "varRefreshCmd": "print(var_dic_list())"
    },
    "r": {
     "delete_cmd_postfix": ") ",
     "delete_cmd_prefix": "rm(",
     "library": "var_list.r",
     "varRefreshCmd": "cat(var_dic_list()) "
    }
   },
   "types_to_exclude": [
    "module",
    "function",
    "builtin_function_or_method",
    "instance",
    "_Feature"
   ],
   "window_display": false
  }
 },
 "nbformat": 4,
 "nbformat_minor": 5
}

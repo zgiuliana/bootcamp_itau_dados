{
 "cells": [
  {
   "cell_type": "markdown",
   "id": "78975570",
   "metadata": {},
   "source": [
    "# Projeto final do Modulo de Data Engineering\n",
    "\n",
    "\n",
    "## Data de Entrega: \n",
    "09/09/2021\n",
    "\n",
    "email: filipe.furlam@letscode.com.br\n",
    "\n",
    "Envie o notebook preenchido, inclusive com anexos.\n",
    "\n",
    "\n",
    "# Proposta\n",
    "\n",
    "Fazer análise dos resultados de partidas de futebol existentes no arquivo `data/results.csv`\n",
    "\n",
    "\n",
    "O dataset foi retirado do desafio existente no kaggel.\n",
    "\n",
    "https://www.kaggle.com/martj42/international-football-results-from-1872-to-2017\n",
    "\n",
    "\n",
    "\n",
    "| Campo Arquivo  | Campo Hive           | Tipo    | Descrição                                                              |\n",
    "|----------------|----------------------|---------|------------------------------------------------------------------------|\n",
    "| date           | Data                 | date    | quando jogo ocorreu                                                    |\n",
    "| home_teamName  | equipe_mandante      | string  | equipe da casa                                                         |\n",
    "| away_teamName  | equipe_visitante     | string  | equipe visitante                                                       |\n",
    "| home_scoreHome | gol_equipe_mandante  | int     | pontuação equipe da casa                                               |\n",
    "| away_scoreAway | gol_equipe_visitante | int     | pontuação equipe visitante                                             |\n",
    "| tournamentName | torneio              | string  | torneio                                                                |\n",
    "| cityCity       | cidade               | string  | onde o jogo aconteceu                                                  |\n",
    "| countryCountry | pais                 | string  | onde a partida ocorreu                                                 |\n",
    "| neutralTRUE    | fora_pais            | boolean | se o jogo ocorreu fora do país da equipe da casa, FALSE caso contrário |\n"
   ]
  },
  {
   "cell_type": "markdown",
   "id": "df77d4ab",
   "metadata": {},
   "source": [
    "\n",
    "# Carregado arquivos no Hive (5.0)"
   ]
  },
  {
   "cell_type": "markdown",
   "id": "94bd3b5d",
   "metadata": {
    "ExecuteTime": {
     "end_time": "2021-08-30T17:26:50.717755Z",
     "start_time": "2021-08-30T17:26:50.713782Z"
    }
   },
   "source": [
    "1. Importar o arquivo `result.csv` para o HDFS.\n",
    "\n",
    "2. Criar uma tabela no Hive com o nome `resultado`, onde seja possível realizar consultas no arquivo `result.csv`.\n",
    "    - O nome das colunas devem respeitar o tipo e a nomenclatura informada acima."
   ]
  },
  {
   "cell_type": "markdown",
   "id": "1e474897",
   "metadata": {
    "ExecuteTime": {
     "end_time": "2021-08-30T17:25:35.472084Z",
     "start_time": "2021-08-30T17:25:35.459085Z"
    }
   },
   "source": [
    "Reposta 1 e 2 (enviar o código com todos os passos para crição da tabela):\n",
    ">\n",
    "    "
   ]
  },
  {
   "attachments": {},
   "cell_type": "markdown",
   "id": "b608d910",
   "metadata": {},
   "source": [
    "**Exercício 1**\n",
    "1. Criar diretório do HDFS\n",
    "    -  hdfs dfs -mkdir /user/cloudera/projeto\n",
    "2. Mover o arquivo result.csv para o HDFS\n",
    "    - hdfs dfs -put /home/cloudera/Documents/projeto/results.csv /user/cloudera/projeto\n",
    "**Exercício 2**\n",
    "1. Entrar no beeline\n",
    "    -  beeline -u \"jdbc:hive2://quickstart.cloudera:10000/default\"\n",
    "2. Criar um database\n",
    "    - create database if not exists projeto location '/user/cloudera/projeto';\n",
    "3. Usar o Database\n",
    "    - use projeto;\n",
    "4. Subir a tabela no Hive\n",
    "    \n",
    "    create external table resultado\n",
    "    \n",
    "    (\n",
    "    \n",
    "    Data date,\n",
    "    \n",
    "    equipe_mandante string,\n",
    "    \n",
    "    equipe_visitante string,\n",
    "    \n",
    "    gol_equipe_mandante int,\n",
    "    \n",
    "    gol_equipe_visitante int,\n",
    "    \n",
    "    torneio string,\n",
    "    \n",
    "    cidade string,\n",
    "    \n",
    "    pais string,\n",
    "    \n",
    "    fora_pais boolean\n",
    "    \n",
    "    )      \n",
    "    \n",
    "    ROW FORMAT DELIMITED\n",
    "    \n",
    "    FIELDS TERMINATED BY ','\n",
    "    \n",
    "    STORED AS TEXTFILE\n",
    "    \n",
    "    LOCATION '/user/cloudera/projeto'\n",
    "    \n",
    "    tblproperties (\"skip.header.line.count\"=\"1\");"
   ]
  },
  {
   "cell_type": "markdown",
   "id": "8ded98ef",
   "metadata": {},
   "source": [
    "3. Executar uma query simples no HUE ou CLI retornando as 5 primeiras linhas da tabela criada.\n"
   ]
  },
  {
   "cell_type": "markdown",
   "id": "6bd90bab",
   "metadata": {},
   "source": [
    "Resposta 3 (print da query e resulado **OU** somente a query):\n",
    "> SELECT * from resultado\n",
    "    LIMIT 5"
   ]
  },
  {
   "cell_type": "markdown",
   "id": "4035eeed",
   "metadata": {},
   "source": [
    "# Análise com Spark (5.0)\n",
    "Realizar análise utilizando `Spark`. Opções:\n",
    "\n",
    "a. Conectar o Spark à tabela Hive criada acima; \n",
    "    \n",
    "    AJUDA: copiar o hive-site.xml para o conf do Spark.\n",
    "    ```\n",
    "    sudo cp /etc/hive/conf/hive-site.xml /etc/spark/conf/\n",
    "    ```\n",
    "    AJUDA: Para ler a tabela Hive e criar o dataframe, utilize o script abaixo:\n",
    "    ```\n",
    "    from pyspark.sql import HiveContext\n",
    "    h = HiveContext(sc)\n",
    "    df = h.sql(\"select * from default.resultado\")\n",
    "    ```\n",
    "\n",
    "**OU**\n",
    "\n",
    "\n",
    "b. Realizar localmente no seu computador. Nesse caso, leia diretamente o arquivo results.csv no notebook.\n",
    "\n",
    "\n",
    "Após a criação do dataframe, responda as questões abaixo.\n",
    "1. quantos registro existem no dataframe?\n",
    "1. quantas equipes únicas mandantes existem no dataframe?\n",
    "1. quantas vezes as equipes mandantes saíram vitoriosas?\n",
    "1. quantas vezes as equipes visitantes saíram vitoriosas?\n",
    "1. quantas partidas resultaram em empate:\n",
    "1. crie uma tabela partida_pais com o total de partida em cadas país\n",
    "    1.  em qual país teve mais partidas?"
   ]
  },
  {
   "cell_type": "code",
   "execution_count": 1,
   "id": "ac5f56a0",
   "metadata": {
    "ExecuteTime": {
     "end_time": "2021-09-04T21:42:21.379042Z",
     "start_time": "2021-09-04T21:42:02.817003Z"
    }
   },
   "outputs": [],
   "source": [
    "#  importar as funções\n",
    "from pyspark import sql, SparkContext, HiveContext\n",
    "\n",
    "\n",
    "# criar o sparkcontext\n",
    "sc = SparkContext()\n",
    "\n",
    "# criar a sessão spark\n",
    "spark = sql.SparkSession(sc)"
   ]
  },
  {
   "cell_type": "code",
   "execution_count": 2,
   "id": "169e27e3",
   "metadata": {
    "ExecuteTime": {
     "end_time": "2021-09-04T21:42:37.243750Z",
     "start_time": "2021-09-04T21:42:37.221229Z"
    }
   },
   "outputs": [],
   "source": [
    "from pyspark.sql.types import StructType, StringType, IntegerType, FloatType\n",
    "from pyspark.sql.functions import col"
   ]
  },
  {
   "cell_type": "code",
   "execution_count": 11,
   "id": "249daf76",
   "metadata": {
    "ExecuteTime": {
     "end_time": "2021-09-04T21:48:17.457297Z",
     "start_time": "2021-09-04T21:48:17.416140Z"
    }
   },
   "outputs": [],
   "source": [
    "schema_ = StructType() \\\n",
    "        .add('Data', StringType(), True) \\\n",
    "        .add('equipe_mandante', StringType(), True) \\\n",
    "        .add('equipe_visitante', StringType(), True) \\\n",
    "        .add('gol_equipe_mandante', IntegerType(), True)\\\n",
    "        .add('gol_equipe_visitante', IntegerType(), True)\\\n",
    "        .add('torneio', StringType(), True)\\\n",
    "        .add('cidade', StringType(), True)\\\n",
    "        .add('pais', StringType(), True)\\\n",
    "        .add('fora_pais', StringType(), True)\n",
    "resultado = spark.read.csv('../Aulas/data/results.csv', schema=schema_,header=True)"
   ]
  },
  {
   "cell_type": "code",
   "execution_count": 13,
   "id": "bd9e58a8",
   "metadata": {
    "ExecuteTime": {
     "end_time": "2021-09-04T21:48:31.907789Z",
     "start_time": "2021-09-04T21:48:31.393556Z"
    }
   },
   "outputs": [
    {
     "data": {
      "text/plain": [
       "38900"
      ]
     },
     "execution_count": 13,
     "metadata": {},
     "output_type": "execute_result"
    }
   ],
   "source": [
    "# 1: quantos registro existem no dataframe?\n",
    "resultado.count()"
   ]
  },
  {
   "cell_type": "code",
   "execution_count": 17,
   "id": "2133a21e",
   "metadata": {
    "ExecuteTime": {
     "end_time": "2021-09-04T21:51:30.216612Z",
     "start_time": "2021-09-04T21:51:28.964425Z"
    }
   },
   "outputs": [
    {
     "data": {
      "text/plain": [
       "241"
      ]
     },
     "execution_count": 17,
     "metadata": {},
     "output_type": "execute_result"
    }
   ],
   "source": [
    "# 2: quantas equipes únicas mandantes existem no dataframe?\n",
    "resultado.select('equipe_mandante').distinct().count()"
   ]
  },
  {
   "cell_type": "code",
   "execution_count": 20,
   "id": "b1cba143",
   "metadata": {
    "ExecuteTime": {
     "end_time": "2021-09-04T21:54:22.402643Z",
     "start_time": "2021-09-04T21:54:22.103986Z"
    }
   },
   "outputs": [
    {
     "data": {
      "text/plain": [
       "18917"
      ]
     },
     "execution_count": 20,
     "metadata": {},
     "output_type": "execute_result"
    }
   ],
   "source": [
    "# 3: quantas vezes as equipes mandantes saíram vitoriosas?\n",
    "# vitoria=gols_mandante>gols_visitante\n",
    "resultado.filter(resultado.gol_equipe_mandante>resultado.gol_equipe_visitante).count()"
   ]
  },
  {
   "cell_type": "code",
   "execution_count": 21,
   "id": "7a01d31f",
   "metadata": {
    "ExecuteTime": {
     "end_time": "2021-09-04T21:54:49.951948Z",
     "start_time": "2021-09-04T21:54:49.698022Z"
    }
   },
   "outputs": [
    {
     "data": {
      "text/plain": [
       "10964"
      ]
     },
     "execution_count": 21,
     "metadata": {},
     "output_type": "execute_result"
    }
   ],
   "source": [
    "# 4: quantas vezes as equipes visitantes saíram vitoriosas?\n",
    "# vitoria=gols_visitante>gols_mandante\n",
    "resultado.filter(resultado.gol_equipe_mandante<resultado.gol_equipe_visitante).count()"
   ]
  },
  {
   "cell_type": "code",
   "execution_count": 22,
   "id": "a7c9d138",
   "metadata": {
    "ExecuteTime": {
     "end_time": "2021-09-04T21:55:00.633228Z",
     "start_time": "2021-09-04T21:55:00.383371Z"
    }
   },
   "outputs": [
    {
     "data": {
      "text/plain": [
       "9019"
      ]
     },
     "execution_count": 22,
     "metadata": {},
     "output_type": "execute_result"
    }
   ],
   "source": [
    "# 5: quantas partidas resultaram em empate:\n",
    "resultado.filter(resultado.gol_equipe_mandante==resultado.gol_equipe_visitante).count()"
   ]
  },
  {
   "cell_type": "code",
   "execution_count": 99,
   "id": "89385491",
   "metadata": {
    "ExecuteTime": {
     "end_time": "2021-09-04T22:35:19.845898Z",
     "start_time": "2021-09-04T22:35:19.105078Z"
    }
   },
   "outputs": [
    {
     "data": {
      "text/plain": [
       "'USA'"
      ]
     },
     "execution_count": 99,
     "metadata": {},
     "output_type": "execute_result"
    }
   ],
   "source": [
    "# 6: crie uma tabela partida_pais com o total de partida em cadas país\n",
    "#    a) em qual país teve mais partidas?\n",
    "partida_pais=resultado.select('pais').groupby('pais').count()\n",
    "partida_pais.sort('count',ascending=0).head(1)[0][0]"
   ]
  }
 ],
 "metadata": {
  "kernelspec": {
   "display_name": "Python 3",
   "language": "python",
   "name": "python3"
  },
  "language_info": {
   "codemirror_mode": {
    "name": "ipython",
    "version": 3
   },
   "file_extension": ".py",
   "mimetype": "text/x-python",
   "name": "python",
   "nbconvert_exporter": "python",
   "pygments_lexer": "ipython3",
   "version": "3.8.8"
  },
  "latex_envs": {
   "LaTeX_envs_menu_present": true,
   "autoclose": false,
   "autocomplete": true,
   "bibliofile": "biblio.bib",
   "cite_by": "apalike",
   "current_citInitial": 1,
   "eqLabelWithNumbers": true,
   "eqNumInitial": 1,
   "hotkeys": {
    "equation": "Ctrl-E",
    "itemize": "Ctrl-I"
   },
   "labels_anchors": false,
   "latex_user_defs": false,
   "report_style_numbering": false,
   "user_envs_cfg": false
  },
  "toc": {
   "base_numbering": 1,
   "nav_menu": {},
   "number_sections": true,
   "sideBar": true,
   "skip_h1_title": false,
   "title_cell": "Table of Contents",
   "title_sidebar": "Contents",
   "toc_cell": false,
   "toc_position": {},
   "toc_section_display": true,
   "toc_window_display": true
  },
  "varInspector": {
   "cols": {
    "lenName": 16,
    "lenType": 16,
    "lenVar": 40
   },
   "kernels_config": {
    "python": {
     "delete_cmd_postfix": "",
     "delete_cmd_prefix": "del ",
     "library": "var_list.py",
     "varRefreshCmd": "print(var_dic_list())"
    },
    "r": {
     "delete_cmd_postfix": ") ",
     "delete_cmd_prefix": "rm(",
     "library": "var_list.r",
     "varRefreshCmd": "cat(var_dic_list()) "
    }
   },
   "types_to_exclude": [
    "module",
    "function",
    "builtin_function_or_method",
    "instance",
    "_Feature"
   ],
   "window_display": false
  }
 },
 "nbformat": 4,
 "nbformat_minor": 5
}

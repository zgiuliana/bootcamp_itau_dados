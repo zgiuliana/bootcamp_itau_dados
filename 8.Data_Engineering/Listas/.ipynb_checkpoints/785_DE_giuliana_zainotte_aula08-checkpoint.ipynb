{
 "cells": [
  {
   "cell_type": "markdown",
   "id": "790750a4",
   "metadata": {},
   "source": [
    "# Exercícios\n",
    "\n",
    "Enviar para o email filipe.furlan@letscode.com.br até **2021/09/04** o notebook (`785_DE_firstname_lastname_aula08.ipynb`) com a resolução dos exercicios abaixo."
   ]
  },
  {
   "cell_type": "markdown",
   "id": "6641f7fc",
   "metadata": {},
   "source": [
    "Use os arquivos da pasta `data` e crie um dataframe do spark para cada arquivo. **Usando os comandos do pyspark**, resolva os problemas abaixo. "
   ]
  },
  {
   "cell_type": "code",
   "execution_count": 1,
   "id": "1ab237ef",
   "metadata": {
    "ExecuteTime": {
     "end_time": "2021-09-04T20:51:30.822986Z",
     "start_time": "2021-09-04T20:51:19.557484Z"
    }
   },
   "outputs": [],
   "source": [
    "#  importar as funções\n",
    "from pyspark import sql, SparkContext, HiveContext\n",
    "\n",
    "\n",
    "# criar o sparkcontext\n",
    "sc = SparkContext()\n",
    "\n",
    "# criar a sessão spark\n",
    "spark = sql.SparkSession(sc)"
   ]
  },
  {
   "cell_type": "code",
   "execution_count": 2,
   "id": "12f81bf9-b1de-4d39-8543-aa0753a1a6be",
   "metadata": {
    "ExecuteTime": {
     "end_time": "2021-09-04T20:51:30.835673Z",
     "start_time": "2021-09-04T20:51:30.824938Z"
    }
   },
   "outputs": [],
   "source": [
    "from pyspark.sql.types import StructType, StringType, IntegerType, FloatType\n",
    "from pyspark.sql.functions import col"
   ]
  },
  {
   "cell_type": "code",
   "execution_count": 3,
   "id": "071545fc-dd06-4e4c-b2aa-53e18f0b99ff",
   "metadata": {
    "ExecuteTime": {
     "end_time": "2021-09-04T20:51:39.080933Z",
     "start_time": "2021-09-04T20:51:30.838602Z"
    }
   },
   "outputs": [],
   "source": [
    "#importa todas as tabelas\n",
    "employees = spark.read.csv('../Aulas/data/employees.csv', header=True)\n",
    "dependents = spark.read.csv('../Aulas/data/dependents.csv', header=True)\n",
    "countries=spark.read.csv('../Aulas/data/countries.csv', header=True)\n",
    "departments=spark.read.csv('../Aulas/data/departments.csv', header=True)\n",
    "\n",
    "schema_ = StructType() \\\n",
    "        .add('location_id', IntegerType(), True) \\\n",
    "        .add('adress', StringType(), True) \\\n",
    "        .add('complement', StringType(), True) \\\n",
    "        .add('city', StringType(), True)\\\n",
    "        .add('state', StringType(), True)\\\n",
    "        .add('country_id', StringType(), True)\n",
    "locations = spark.read.csv('../Aulas/data/locations.csv', schema=schema_)\n",
    "\n",
    "schema_ = StructType() \\\n",
    "        .add('job_id', IntegerType(), True) \\\n",
    "        .add('cargo', StringType(), True) \\\n",
    "        .add('min_sal', FloatType(), True) \\\n",
    "        .add('max_sal', FloatType(), True)\n",
    "jobs=spark.read.csv('../Aulas/data/jobs.csv', schema=schema_)\n",
    "\n",
    "schema_ = StructType() \\\n",
    "        .add('region_id', IntegerType(), True) \\\n",
    "        .add('regiao', StringType(), True)\n",
    "regions=spark.read.csv('../Aulas/data/regions.csv', schema=schema_)\n"
   ]
  },
  {
   "cell_type": "markdown",
   "id": "b1a1f175",
   "metadata": {},
   "source": [
    "## Para entregar"
   ]
  },
  {
   "cell_type": "markdown",
   "id": "f2a3e25f",
   "metadata": {},
   "source": [
    "1. Qual a média de salário dos programadores?\n",
    "1. Quantos funcionários recebem o salário mínimo da função?\n",
    "1. Quantos funcionários recebem o salário máximo da função?\n",
    "\n",
    "4. Traga o valor acumulado por departamento de cada pais."
   ]
  },
  {
   "cell_type": "code",
   "execution_count": 4,
   "id": "29bc3f19",
   "metadata": {
    "ExecuteTime": {
     "end_time": "2021-09-04T20:51:40.304838Z",
     "start_time": "2021-09-04T20:51:39.082899Z"
    }
   },
   "outputs": [
    {
     "name": "stdout",
     "output_type": "stream",
     "text": [
      "+-----------+\n",
      "|avg(salary)|\n",
      "+-----------+\n",
      "|     5760.0|\n",
      "+-----------+\n",
      "\n"
     ]
    }
   ],
   "source": [
    "# 1\n",
    "df_join = employees.join(jobs, on=employees.job_id==jobs.job_id, how='left').na.fill(value=0).where(jobs.cargo == 'Programmer').agg({'salary':'mean'}).show()"
   ]
  },
  {
   "cell_type": "code",
   "execution_count": 5,
   "id": "d502074c",
   "metadata": {
    "ExecuteTime": {
     "end_time": "2021-09-04T20:51:40.752830Z",
     "start_time": "2021-09-04T20:51:40.306789Z"
    }
   },
   "outputs": [
    {
     "data": {
      "text/plain": [
       "1"
      ]
     },
     "execution_count": 5,
     "metadata": {},
     "output_type": "execute_result"
    }
   ],
   "source": [
    "# 2\n",
    "employees.join(jobs, on=employees.job_id==jobs.job_id, how='left').na.fill(value=0).where(employees.salary == jobs.min_sal).count()"
   ]
  },
  {
   "cell_type": "code",
   "execution_count": 6,
   "id": "97800571",
   "metadata": {
    "ExecuteTime": {
     "end_time": "2021-09-04T20:51:41.093448Z",
     "start_time": "2021-09-04T20:51:40.754777Z"
    }
   },
   "outputs": [
    {
     "data": {
      "text/plain": [
       "1"
      ]
     },
     "execution_count": 6,
     "metadata": {},
     "output_type": "execute_result"
    }
   ],
   "source": [
    "# 3\n",
    "employees.join(jobs, on=employees.job_id==jobs.job_id, how='left').na.fill(value=0).where(employees.salary == jobs.max_sal).count()"
   ]
  },
  {
   "cell_type": "code",
   "execution_count": 7,
   "id": "8f196044",
   "metadata": {
    "ExecuteTime": {
     "end_time": "2021-09-04T20:51:42.886361Z",
     "start_time": "2021-09-04T20:51:41.095398Z"
    }
   },
   "outputs": [
    {
     "name": "stdout",
     "output_type": "stream",
     "text": [
      "+--------------------+----------------+-----------+\n",
      "|        country_name| department_name|sum(salary)|\n",
      "+--------------------+----------------+-----------+\n",
      "|              Canada|       Marketing|    19000.0|\n",
      "|             Germany|Public Relations|    10000.0|\n",
      "|      United Kingdom| Human Resources|     6500.0|\n",
      "|      United Kingdom|           Sales|    57700.0|\n",
      "|United States of ...|      Accounting|    20300.0|\n",
      "|United States of ...|  Administration|     4400.0|\n",
      "|United States of ...|       Executive|    58000.0|\n",
      "|United States of ...|         Finance|    51600.0|\n",
      "|United States of ...|              IT|    28800.0|\n",
      "|United States of ...|      Purchasing|    24900.0|\n",
      "|United States of ...|        Shipping|    41200.0|\n",
      "+--------------------+----------------+-----------+\n",
      "\n"
     ]
    }
   ],
   "source": [
    "# 4\n",
    "df_join = locations.join(countries, on=locations.country_id==countries.country_id, how='left')\\\n",
    "                    .join(departments, on=locations.location_id==departments.location_id, how='left')\\\n",
    "                    .join(employees, on=departments.department_id==employees.department_id, how='left')\n",
    "df_join.select('country_name','department_name','salary').groupby('country_name','department_name').agg({'salary':'sum'}).sort(['country_name','department_name'],ascending=[1,1]).show()"
   ]
  }
 ],
 "metadata": {
  "kernelspec": {
   "display_name": "Python 3",
   "language": "python",
   "name": "python3"
  },
  "language_info": {
   "codemirror_mode": {
    "name": "ipython",
    "version": 3
   },
   "file_extension": ".py",
   "mimetype": "text/x-python",
   "name": "python",
   "nbconvert_exporter": "python",
   "pygments_lexer": "ipython3",
   "version": "3.8.8"
  },
  "latex_envs": {
   "LaTeX_envs_menu_present": true,
   "autoclose": false,
   "autocomplete": true,
   "bibliofile": "biblio.bib",
   "cite_by": "apalike",
   "current_citInitial": 1,
   "eqLabelWithNumbers": true,
   "eqNumInitial": 1,
   "hotkeys": {
    "equation": "Ctrl-E",
    "itemize": "Ctrl-I"
   },
   "labels_anchors": false,
   "latex_user_defs": false,
   "report_style_numbering": false,
   "user_envs_cfg": false
  },
  "toc": {
   "base_numbering": 1,
   "nav_menu": {},
   "number_sections": true,
   "sideBar": true,
   "skip_h1_title": false,
   "title_cell": "Table of Contents",
   "title_sidebar": "Contents",
   "toc_cell": false,
   "toc_position": {},
   "toc_section_display": true,
   "toc_window_display": false
  },
  "varInspector": {
   "cols": {
    "lenName": 16,
    "lenType": 16,
    "lenVar": 40
   },
   "kernels_config": {
    "python": {
     "delete_cmd_postfix": "",
     "delete_cmd_prefix": "del ",
     "library": "var_list.py",
     "varRefreshCmd": "print(var_dic_list())"
    },
    "r": {
     "delete_cmd_postfix": ") ",
     "delete_cmd_prefix": "rm(",
     "library": "var_list.r",
     "varRefreshCmd": "cat(var_dic_list()) "
    }
   },
   "types_to_exclude": [
    "module",
    "function",
    "builtin_function_or_method",
    "instance",
    "_Feature"
   ],
   "window_display": false
  }
 },
 "nbformat": 4,
 "nbformat_minor": 5
}

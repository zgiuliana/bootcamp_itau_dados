{
 "cells": [
  {
   "cell_type": "code",
   "execution_count": 33,
   "metadata": {},
   "outputs": [],
   "source": [
    "from scipy.stats import norm\n",
    "import numpy as np\n",
    "from scipy.stats import t as t_student"
   ]
  },
  {
   "cell_type": "markdown",
   "metadata": {
    "tags": []
   },
   "source": [
    "### 1\n",
    "Se uma amostra aleatória n=250, tem uma média amostral de 51,3 e uma desvio padrão populacional de σ=2. Construa o intervalo com 95% de confiança para a média populacional μ."
   ]
  },
  {
   "cell_type": "code",
   "execution_count": 2,
   "metadata": {},
   "outputs": [
    {
     "name": "stdout",
     "output_type": "stream",
     "text": [
      "(51.05, 51.55)\n",
      "(51.052081987078175, 51.54791801292182)\n"
     ]
    }
   ],
   "source": [
    "\n",
    "n=250\n",
    "media_amostra=51.3\n",
    "sigma=2\n",
    "confianca=0.95\n",
    "significancia=1-confianca\n",
    "probabilidade=confianca+significancia/2\n",
    "z=norm.ppf(probabilidade)\n",
    "e=z*sigma/np.sqrt(n)\n",
    "lm_s=media_amostra+e\n",
    "lm_i=media_amostra-e\n",
    "print((round(lm_i,2),round(lm_s,2)))\n",
    "print(norm.interval(alpha=confianca,loc=media_amostra,\\\n",
    "              scale=sigma/(np.sqrt(n))))\n"
   ]
  },
  {
   "cell_type": "markdown",
   "metadata": {
    "tags": []
   },
   "source": [
    "### 2\n",
    "Sabe-se que a vida em horas de um bulbo de lâmpada de 75 W é distribuída de forma aproximadamente normal com desvio padrão de σ = 25. Uma amostra aleatória de 200 bulbos tem uma vida media de 1.014 horas. Construa um intervalo de confiança de 95% para a vida média."
   ]
  },
  {
   "cell_type": "code",
   "execution_count": 3,
   "metadata": {},
   "outputs": [
    {
     "name": "stdout",
     "output_type": "stream",
     "text": [
      "(1011.46, 1016.54)\n",
      "(1010.5352404391258, 1017.4647595608742)\n"
     ]
    }
   ],
   "source": [
    "sigma=25\n",
    "n=200\n",
    "media_amostra=1014\n",
    "confianca=0.95\n",
    "significancia=confianca-1\n",
    "probabilidade=confianca+significancia/2\n",
    "z=norm.ppf(probabilidade)\n",
    "e=z*sigma/np.sqrt(n)\n",
    "lm_s=media_amostra+e\n",
    "lm_i=media_amostra-e\n",
    "print((round(lm_i,2),round(lm_s,2)))\n",
    "print(norm.interval(alpha=confianca,loc=media_amostra,\\\n",
    "              scale=sigma/(np.sqrt(n))))"
   ]
  },
  {
   "cell_type": "markdown",
   "metadata": {
    "tags": []
   },
   "source": [
    "### 3\n",
    "Qual deve ser o tamanho da amostra para que o intervalo com 99,5% de confiança para a média populacional tenha uma semi-amplitude (ou erro) não superior a 1,5? Sabe-se que a variância populacional é de 23."
   ]
  },
  {
   "cell_type": "code",
   "execution_count": 21,
   "metadata": {},
   "outputs": [
    {
     "data": {
      "text/plain": [
       "80.54537211658509"
      ]
     },
     "execution_count": 21,
     "metadata": {},
     "output_type": "execute_result"
    }
   ],
   "source": [
    "confianca=0.995\n",
    "significancia=1-confianca\n",
    "probabilidade=confianca+significancia/2\n",
    "e=1.5\n",
    "var=23\n",
    "#var=sigma²\n",
    "sigma=np.sqrt(var)\n",
    "z=norm.ppf(probabilidade)\n",
    "n=(z*sigma/e)**2\n",
    "n"
   ]
  },
  {
   "cell_type": "markdown",
   "metadata": {},
   "source": [
    "### 4\n",
    "Uma marca particular de margarina diet foi analisada para determinar o nível em porcentagem de ácidos graxos insaturados. Uma amostra de seis pacotes resultou nos seguintes dados: 16,8; 17,2; 17,4; 16,9; 16,5 e 17,1. Encontre o intervalo de confiança de 99% para a amostra."
   ]
  },
  {
   "cell_type": "code",
   "execution_count": 45,
   "metadata": {},
   "outputs": [
    {
     "name": "stdout",
     "output_type": "stream",
     "text": [
      "(16.87, 17.1)\n",
      "16.983333333333334\n"
     ]
    }
   ],
   "source": [
    "# para amostras com menos de 30 elementos, usamos t_student\n",
    "amostra=[16.8,17.2,17.4,16.9,16.5,17.1]\n",
    "graus_de_liberdade=len(amostra)-1\n",
    "confianca=0.99\n",
    "significancia=confianca-1\n",
    "media_amostra=np.mean(amostra)\n",
    "sigma_amostra=np.std(amostra)\n",
    "probabilidade=confianca+significancia/2\n",
    "t_alpha=t_student.ppf(probabilidade,graus_de_liberdade)\n",
    "e=t_alpha*sigma_amostra/np.sqrt(n)\n",
    "lm_s=media_amostra+e\n",
    "lm_i=media_amostra-e\n",
    "print((round(lm_i,2),round(lm_s,2)))\n",
    "\n",
    "print(media_amostra)"
   ]
  },
  {
   "cell_type": "markdown",
   "metadata": {},
   "source": [
    "### 5\n",
    "Uma amostra piloto com 12 elementos tem média de 6,7 e desvio padrão de 1,7. Qual deve ser o tamanho da amostra para que a semi amplitude do intervalo de 99,5% de confiança da média populacional não seja superior a 0,8."
   ]
  },
  {
   "cell_type": "code",
   "execution_count": 46,
   "metadata": {},
   "outputs": [
    {
     "data": {
      "text/plain": [
       "36.0"
      ]
     },
     "execution_count": 46,
     "metadata": {},
     "output_type": "execute_result"
    }
   ],
   "source": [
    "# Errado, pq a amostra é menor que 30 então tem que usar o T_student\n",
    "mu=6.7\n",
    "sigma=1.7\n",
    "e=0.8\n",
    "confianca=0.995\n",
    "significancia=1-confianca\n",
    "probabilidade=confianca+significancia/2\n",
    "z=norm.ppf(probabilidade)\n",
    "n=round((z*sigma/e)**2)\n",
    "n\n"
   ]
  },
  {
   "cell_type": "code",
   "execution_count": 42,
   "metadata": {},
   "outputs": [
    {
     "data": {
      "text/plain": [
       "55.0"
      ]
     },
     "execution_count": 42,
     "metadata": {},
     "output_type": "execute_result"
    }
   ],
   "source": [
    "# para amostras com menos de 30 elementos, usamos t_student\n",
    "graus_de_liberdade=11\n",
    "mu=6.7\n",
    "sigma=1.7\n",
    "e=0.8\n",
    "confianca=0.995\n",
    "significancia=1-confianca\n",
    "probabilidade=confianca+significancia/2\n",
    "t_alpha=t_student.ppf(probabilidade,graus_de_liberdade)\n",
    "n=round((t_alpha*sigma/e)**2)\n",
    "n"
   ]
  },
  {
   "cell_type": "markdown",
   "metadata": {},
   "source": [
    "### 6\n",
    "Calcular o intervalo de confiança de 95% para a seguinte amostra, com variância populacional desconhecida:\n",
    "\n",
    "19,8; 18,5; 17,6; 16,7; 15,8; 15,4; 14,1; 13,6; 11,9; 11,4; 11,4; 8,8; 7,5; 15,4; 15,4; 19,5; 14,9; 12,7; 11,9; 11,4; 10,1; 7,9"
   ]
  },
  {
   "cell_type": "code",
   "execution_count": 51,
   "metadata": {},
   "outputs": [
    {
     "name": "stdout",
     "output_type": "stream",
     "text": [
      "(11.98, 15.16)\n",
      "13.571428571428571\n"
     ]
    }
   ],
   "source": [
    "# para amostras com menos de 30 elementos, usamos t_student\n",
    "amostra=[19.8,18.5,17.6,15.8,15.4,14.1,13.6,11.9,11.4,11.4,8.8,7.5,15.4,15.4,19.5,14.9,12.7,11.9,11.4,10.1,7.9]\n",
    "graus_de_liberdade=len(amostra)-1\n",
    "n=len(amostra)\n",
    "confianca=0.95\n",
    "significancia=1-confianca\n",
    "probabilidade=confianca+significancia/2\n",
    "t_alpha=t_student.ppf(probabilidade,graus_de_liberdade)\n",
    "media_amostra=np.mean(amostra)\n",
    "sigma_amostra=np.std(amostra)\n",
    "e=t_alpha*sigma_amostra/np.sqrt(n)\n",
    "lm_s=media_amostra+e\n",
    "lm_i=media_amostra-e\n",
    "print((round(lm_i,2),round(lm_s,2)))\n"
   ]
  }
 ],
 "metadata": {
  "kernelspec": {
   "display_name": "Python 3",
   "language": "python",
   "name": "python3"
  },
  "language_info": {
   "codemirror_mode": {
    "name": "ipython",
    "version": 3
   },
   "file_extension": ".py",
   "mimetype": "text/x-python",
   "name": "python",
   "nbconvert_exporter": "python",
   "pygments_lexer": "ipython3",
   "version": "3.8.8"
  }
 },
 "nbformat": 4,
 "nbformat_minor": 4
}

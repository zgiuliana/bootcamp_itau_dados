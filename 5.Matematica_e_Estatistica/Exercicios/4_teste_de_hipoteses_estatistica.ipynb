{
 "cells": [
  {
   "cell_type": "code",
   "execution_count": 1,
   "metadata": {},
   "outputs": [],
   "source": [
    "import numpy as np\n",
    "import pandas as pd\n",
    "import seaborn as sns\n",
    "from scipy.stats import norm\n",
    "from scipy.stats import t as t_student\n",
    "sns.set()"
   ]
  },
  {
   "cell_type": "markdown",
   "metadata": {},
   "source": [
    "![Áreas de Aceitação e Rejeição](https://caelum-online-public.s3.amazonaws.com/1229-estatistica-parte3/01/img002.png)"
   ]
  },
  {
   "cell_type": "markdown",
   "metadata": {},
   "source": [
    "<img src='https://caelum-online-public.s3.amazonaws.com/1229-estatistica-parte3/01/img003.png' width=70%>"
   ]
  },
  {
   "cell_type": "markdown",
   "metadata": {
    "tags": []
   },
   "source": [
    "# 1\n",
    "Um fabricante de farinha afirma que a quantidade média de farinha nas embalagens de seu principal produto é de 500 g. Um teste de pesagem em 30 embalagens amostradas ao acaso mostrou um peso médio igual à 485 g. Estudos anteriores afirmam que a distribuição dos pesos segue uma normal e que o desvio padrão populacional é igual a 20 g. Considerando um nível de significância igual a 5%, responda as seguintes questões:\n",
    "\n",
    "1) Qual a hipótese nula a ser testada?\n",
    ">* $H_0: \\mu = 500$\n",
    "2) Qual o valor da estatística de teste?\n",
    "> -4.107919181288746\n",
    "3) Qual a conclusão do teste?\n",
    "> Rejeita H0"
   ]
  },
  {
   "cell_type": "markdown",
   "metadata": {
    "jp-MarkdownHeadingCollapsed": true,
    "tags": []
   },
   "source": [
    "### Passo 1 - formulação das hipóteses $H_0$ e $H_1$\n",
    "\n",
    "* Lembre-se, a hipótese nula sempre contém a alegação de igualdade\n",
    ">* $H_0: \\mu = 500$\n",
    ">* $H_1: \\mu \\neq 500$"
   ]
  },
  {
   "cell_type": "markdown",
   "metadata": {
    "tags": []
   },
   "source": [
    "### Passo 2 - escolha da distribuição amostral adequada\n",
    "O tamanho da amostra é maior que 30?\n",
    "> Sim, n=30\n",
    "\n",
    "O desvio padrão populacional é conhecido?\n",
    "> Não, temos apenas o desvio da amostra\n",
    "\n",
    "Distribuição escolhida\n",
    ">$\\bar{x} \\pm z \\frac{s}{\\sqrt{n}}$"
   ]
  },
  {
   "cell_type": "markdown",
   "metadata": {},
   "source": [
    "### Passo 3 - fixação da significância do teste ($\\alpha$)"
   ]
  },
  {
   "cell_type": "code",
   "execution_count": 2,
   "metadata": {},
   "outputs": [
    {
     "data": {
      "text/plain": [
       "1.959963984540054"
      ]
     },
     "execution_count": 2,
     "metadata": {},
     "output_type": "execute_result"
    }
   ],
   "source": [
    "significancia=0.05\n",
    "confianca=1-significancia\n",
    "probabilidade=confianca+significancia/2\n",
    "z_alpha_2=norm.ppf(probabilidade)\n",
    "z_alpha_2"
   ]
  },
  {
   "cell_type": "markdown",
   "metadata": {},
   "source": [
    "### Passo 4 - cálculo da estatística-teste"
   ]
  },
  {
   "cell_type": "code",
   "execution_count": 65,
   "metadata": {},
   "outputs": [
    {
     "data": {
      "text/plain": [
       "-4.107919181288746"
      ]
     },
     "execution_count": 65,
     "metadata": {},
     "output_type": "execute_result"
    }
   ],
   "source": [
    "x_bar=485\n",
    "mu0=500\n",
    "s=20\n",
    "n=30\n",
    "z=(x_bar-mu0)/(s/np.sqrt(n))\n",
    "z"
   ]
  },
  {
   "cell_type": "code",
   "execution_count": 66,
   "metadata": {},
   "outputs": [
    {
     "name": "stdout",
     "output_type": "stream",
     "text": [
      "H0: rejeitado\n"
     ]
    }
   ],
   "source": [
    "# rejeitar se z<=z_alpha ou z>=z_alpha\n",
    "if z<=z_alpha_2 or z>=z_alpha_2:\n",
    "    print('H0: rejeitado')\n",
    "else:\n",
    "    print('H0: confirmado')\n"
   ]
  },
  {
   "cell_type": "markdown",
   "metadata": {},
   "source": [
    "# 2\n",
    "Considere novamente os dados do exercício anterior. Um fabricante de farinha afirma que a quantidade média de farinha nas embalagens de seu principal produto é de 500 g. Um teste de pesagem em 30 embalagens amostradas ao acaso mostrou um peso médio igual à 485 g. Estudos anteriores afirmam que a distribuição dos pesos segue uma normal e que o desvio padrão populacional é igual a 20 g. Com um nível de significância igual a 5%, teste a hipótese nula de que a média do processo é igual a 500 g e marque a alternativa que indica o p-valor do teste aplicado (considere somente 5 casas decimais)."
   ]
  },
  {
   "cell_type": "code",
   "execution_count": 67,
   "metadata": {},
   "outputs": [
    {
     "name": "stdout",
     "output_type": "stream",
     "text": [
      "4e-05\n"
     ]
    },
    {
     "data": {
      "text/plain": [
       "3.992397476901338e-05"
      ]
     },
     "execution_count": 67,
     "metadata": {},
     "output_type": "execute_result"
    }
   ],
   "source": [
    "# survival function\n",
    "p=norm.sf(abs(z))*2\n",
    "print(round(p,5))\n",
    "norm.cdf(z)*2\n"
   ]
  },
  {
   "cell_type": "markdown",
   "metadata": {},
   "source": [
    "# 3\n",
    "A empresa Limpa Esgoto garante ser capaz de realizar o tratamento de esgoto e obter, no máximo, 150 g de impurezas para cada mil litros de esgoto tratado. Vinte amostras de mil litros de esgoto apresentaram, em média, 230 g de impurezas e desvio padrão amostral igual a 90 g.\n",
    "\n",
    "Assumindo alfa igual a 5% e população normalmente distribuída, seria possível discordar da empresa Limpa Esgoto? Assinale a alternativa que apresenta a estatística de teste e a decisão correta do teste."
   ]
  },
  {
   "cell_type": "markdown",
   "metadata": {
    "tags": []
   },
   "source": [
    "### Passo 1 - formulação das hipóteses $H_0$ e $H_1$\n",
    "\n",
    "* Lembre-se, a hipótese nula sempre contém a alegação de igualdade\n",
    "> $H_0: \\mu \\leq 150$  \n",
    "> $H_1: \\mu > 150$"
   ]
  },
  {
   "cell_type": "markdown",
   "metadata": {
    "tags": []
   },
   "source": [
    "### Passo 2 - escolha da distribuição amostral adequada\n",
    "O tamanho da amostra é maior que 30?\n",
    "> Não, n=20\n",
    "\n",
    "O desvio padrão populacional é conhecido?\n",
    "> Não, temos apenas o desvio da amostra\n",
    "\n",
    "Distribuição escolhida\n",
    ">$\\bar{x} \\pm t \\frac{s}{\\sqrt{n}}$"
   ]
  },
  {
   "cell_type": "code",
   "execution_count": 6,
   "metadata": {},
   "outputs": [],
   "source": [
    "n=20\n",
    "s=90\n",
    "significancia=0.05\n",
    "confianca=1-significancia\n",
    "media_amostra=230\n",
    "mu0=150"
   ]
  },
  {
   "cell_type": "markdown",
   "metadata": {
    "tags": []
   },
   "source": [
    "### Passo 3 - fixação da significância do teste ($\\alpha$)"
   ]
  },
  {
   "cell_type": "code",
   "execution_count": 7,
   "metadata": {},
   "outputs": [
    {
     "data": {
      "text/plain": [
       "1.729132811521367"
      ]
     },
     "execution_count": 7,
     "metadata": {},
     "output_type": "execute_result"
    }
   ],
   "source": [
    "graus_de_liberdade=n-1\n",
    "significancia=0.05\n",
    "confianca=1-significancia\n",
    "probabilidade=confianca\n",
    "t_alpha=t_student.ppf(probabilidade,graus_de_liberdade)\n",
    "t_alpha"
   ]
  },
  {
   "cell_type": "markdown",
   "metadata": {
    "tags": []
   },
   "source": [
    "### Passo 4 - cálculo da estatística-teste"
   ]
  },
  {
   "cell_type": "code",
   "execution_count": 8,
   "metadata": {},
   "outputs": [
    {
     "data": {
      "text/plain": [
       "3.9752"
      ]
     },
     "execution_count": 8,
     "metadata": {},
     "output_type": "execute_result"
    }
   ],
   "source": [
    "x_bar=media_amostra\n",
    "mu0=mu0\n",
    "s=s\n",
    "n=n\n",
    "t=(x_bar-mu0)/(s/np.sqrt(n))\n",
    "round(t,4)"
   ]
  },
  {
   "cell_type": "code",
   "execution_count": 9,
   "metadata": {},
   "outputs": [
    {
     "name": "stdout",
     "output_type": "stream",
     "text": [
      "H0: rejeitado\n"
     ]
    }
   ],
   "source": [
    "\n",
    "# rejeitar se t>=t_alpha\n",
    "if t>=t_alpha:\n",
    "    print('H0: rejeitado')\n",
    "else:\n",
    "    print('H0: confirmado')"
   ]
  },
  {
   "cell_type": "markdown",
   "metadata": {
    "tags": []
   },
   "source": [
    "# 4\n",
    "A pizzaria Muito Queijo alega que a quantidade de queijo em suas pizzas tamanho família é de, no mínimo, 350 g. Uma amostra de 35 pizzas tamanho família revelou uma média de 330 g de queijo por pizza. O desvio padrão amostral foi de 80 g.\n",
    "\n",
    "Assumindo alfa igual a 5% e população normalmente distribuída, seria possível discordar da alegação da pizzaria? Assinale a alternativa que apresenta a estatística de teste e a decisão correta do teste."
   ]
  },
  {
   "cell_type": "markdown",
   "metadata": {
    "jp-MarkdownHeadingCollapsed": true,
    "tags": []
   },
   "source": [
    "### Passo 1 - formulação das hipóteses $H_0$ e $H_1$\n",
    "\n",
    "* Lembre-se, a hipótese nula sempre contém a alegação de igualdade\n",
    "> $H_0: \\mu \\geq 350$  \n",
    "> $H_1: \\mu < 350$"
   ]
  },
  {
   "cell_type": "markdown",
   "metadata": {
    "tags": []
   },
   "source": [
    "### Passo 2 - escolha da distribuição amostral adequada\n",
    "O tamanho da amostra é maior que 30?\n",
    "> Sim, n=35\n",
    "\n",
    "O desvio padrão populacional é conhecido?\n",
    "> Não, temos apenas o desvio da amostra\n",
    "\n",
    "Distribuição escolhida\n",
    ">$\\bar{x} \\pm z \\frac{s}{\\sqrt{n}}$"
   ]
  },
  {
   "cell_type": "markdown",
   "metadata": {
    "tags": []
   },
   "source": [
    "### Passo 3 - fixação da significância do teste ($\\alpha$)"
   ]
  },
  {
   "cell_type": "code",
   "execution_count": 52,
   "metadata": {},
   "outputs": [
    {
     "data": {
      "text/plain": [
       "-1.6448536269514729"
      ]
     },
     "execution_count": 52,
     "metadata": {},
     "output_type": "execute_result"
    }
   ],
   "source": [
    "mu0=350\n",
    "n=35\n",
    "x_bar=330\n",
    "s=80\n",
    "significancia=0.05\n",
    "confianca=1-significancia\n",
    "probabilidade=confianca\n",
    "z_alpha=norm.ppf(significancia)\n",
    "z_alpha"
   ]
  },
  {
   "cell_type": "markdown",
   "metadata": {
    "tags": []
   },
   "source": [
    "### Passo 4 - cálculo da estatística-teste"
   ]
  },
  {
   "cell_type": "code",
   "execution_count": 53,
   "metadata": {},
   "outputs": [
    {
     "data": {
      "text/plain": [
       "-1.479"
      ]
     },
     "execution_count": 53,
     "metadata": {},
     "output_type": "execute_result"
    }
   ],
   "source": [
    "\n",
    "z=(x_bar-mu0)/(s/np.sqrt(n))\n",
    "round(z,4)"
   ]
  },
  {
   "cell_type": "code",
   "execution_count": 55,
   "metadata": {},
   "outputs": [
    {
     "name": "stdout",
     "output_type": "stream",
     "text": [
      "H0: confirmado\n"
     ]
    }
   ],
   "source": [
    "# rejeitar se z<=z_alpha\n",
    "\n",
    "if z<=z_alpha:\n",
    "    print('H0: rejeitado')\n",
    "else:\n",
    "    print('H0: confirmado')"
   ]
  },
  {
   "attachments": {
    "63d7213b-0759-4330-a5cc-65d404cadfd9.png": {
     "image/png": "[encoded data removed]"
    }
   },
   "cell_type": "markdown",
   "metadata": {},
   "source": [
    "# 6\n",
    "Um fabricante de cosméticos afirma que a adição de um novo composto químico em sua linha de shampoos consegue promover em mais de 2 centímetros o crescimento dos fios de cabelo em um período de 60 dias. Duas amostras de pessoas foram selecionadas e testadas, uma utilizando o shampoo novo (com o composto) e a outra com o shampoo antigo (sem o composto).\n",
    "\n",
    "Os resultados (crescimento dos fios de cabelo em centímetros) podem ser verificados na tabela abaixo:\n",
    "\n",
    "![image.png](attachment:63d7213b-0759-4330-a5cc-65d404cadfd9.png)"
   ]
  },
  {
   "cell_type": "markdown",
   "metadata": {},
   "source": [
    "Assumindo um nível de confiança de 95% e considerando que as populações se distribuem como uma normal, podemos acreditar na afirmação do fabricante do shampoo? Assinale a alternativa que apresenta a estatística de teste e a decisão correta do teste.\n",
    "\n",
    "Um pouco mais de teoria: como se trata de um problema um pouco diferente do apresentado em nossa aula, vamos esclarecer alguns pontos para ajudar na solução:\n",
    "\n",
    "1) Em testes entre duas amostras, quando realizamos a escolha da distribuição amostral adequada (passo 2) e perguntamos se n ≥ 30, temos que considerar que n = n1 + n2, onde n1 é o tamanho da primeira amostra e n2 o tamanho da segunda;\n",
    "\n",
    "2) Quando n1 + n2 ≥ 30, utilizamos z (normal), e quando n1 + n2 < 30, σ não for conhecido e as populações forem normalmente distribuídas, utilizamos t (t-Student);\n",
    "\n",
    "3) Quando utilizamos a tabela t de Student, em teste de duas amostras, os graus de liberdade são obtidos da seguinte forma: n1 + n2 - 2;\n",
    "\n",
    "4) Quando o problema nos pergunta se podemos acreditar na afirmação do fabricante, está nos indicando o que devemos testar, ou seja, a nossa hipótese alternativa (H1), que no caso é:\n",
    "\n",
    "Onde:\n",
    "\n",
    "μ1 = Crescimento médio dos cabelos com o uso do novo shampoo μ2 = Crescimento médio dos cabelos com o uso do shampoo antigo."
   ]
  },
  {
   "cell_type": "markdown",
   "metadata": {
    "tags": []
   },
   "source": [
    "### Passo 1 - formulação das hipóteses $H_0$ e $H_1$\n",
    "\n",
    "* Lembre-se, a hipótese nula sempre contém a alegação de igualdade\n",
    "> $H_0: \\mu_1-\\mu_2 \\leq 2$  \n",
    "> $H_1: \\mu_1-\\mu_2 > 2$"
   ]
  },
  {
   "cell_type": "markdown",
   "metadata": {
    "tags": []
   },
   "source": [
    "### Passo 2 - escolha da distribuição amostral adequada\n",
    "O tamanho da amostra é maior que 30?\n",
    "> Não, n=20\n",
    "\n",
    "O desvio padrão populacional é conhecido?\n",
    "> Não, temos apenas o desvio da amostra\n",
    "\n",
    "Distribuição escolhida\n",
    ">$\\bar{x} \\pm t \\frac{s}{\\sqrt{n}}$"
   ]
  },
  {
   "cell_type": "code",
   "execution_count": 48,
   "metadata": {},
   "outputs": [
    {
     "data": {
      "text/plain": [
       "0.4546060565661952"
      ]
     },
     "execution_count": 48,
     "metadata": {},
     "output_type": "execute_result"
    }
   ],
   "source": [
    "s_n=[3.4,4.9,2.8,5.5,3.7,2.5,4.3,4.6,3.7,3.4]\n",
    "s_a=[0.3,1.2,1.2,1.7,1.1,0.6,1.2,1.5,0.5,0.7]\n",
    "sn=pd.DataFrame(s_n,columns=['Shampoo Novo'])\n",
    "sa=pd.DataFrame(s_a,columns=['Shampoo Antigo'])\n",
    "n=len(sa)+len(sn)\n",
    "n1=len(sn)\n",
    "n2=len(sa)\n",
    "graus_de_liberdade=n-2\n",
    "confianca=0.95\n",
    "significancia=1-confianca\n",
    "x_bar1=sn['Shampoo Novo'].mean()\n",
    "x_bar2=sa['Shampoo Antigo'].mean()\n",
    "sigma1=sn['Shampoo Novo'].std()\n",
    "sigma2=sa['Shampoo Antigo'].std()\n",
    "D0=2\n",
    "sigma2"
   ]
  },
  {
   "cell_type": "markdown",
   "metadata": {
    "tags": []
   },
   "source": [
    "### Passo 3 - fixação da significância do teste ($\\alpha$)"
   ]
  },
  {
   "cell_type": "code",
   "execution_count": 49,
   "metadata": {},
   "outputs": [
    {
     "data": {
      "text/plain": [
       "1.7340636066175354"
      ]
     },
     "execution_count": 49,
     "metadata": {},
     "output_type": "execute_result"
    }
   ],
   "source": [
    "probabilidade=confianca\n",
    "t_alpha=t_student.ppf(probabilidade,graus_de_liberdade)\n",
    "t_alpha"
   ]
  },
  {
   "cell_type": "markdown",
   "metadata": {
    "tags": []
   },
   "source": [
    "### Passo 4 - cálculo da estatística-teste"
   ]
  },
  {
   "cell_type": "code",
   "execution_count": 50,
   "metadata": {},
   "outputs": [
    {
     "data": {
      "text/plain": [
       "2.6646"
      ]
     },
     "execution_count": 50,
     "metadata": {},
     "output_type": "execute_result"
    }
   ],
   "source": [
    "t=((x_bar1-x_bar2)-D0)/np.sqrt(((sigma1**2)/n1)+((sigma2**2)/n2))\n",
    "round(t,4)\n"
   ]
  },
  {
   "cell_type": "code",
   "execution_count": 51,
   "metadata": {},
   "outputs": [
    {
     "data": {
      "text/plain": [
       "True"
      ]
     },
     "execution_count": 51,
     "metadata": {},
     "output_type": "execute_result"
    }
   ],
   "source": [
    "# rejeitar se z>=z_alpha\n",
    "t>=t_alpha\n",
    "#Rejeita"
   ]
  }
 ],
 "metadata": {
  "kernelspec": {
   "display_name": "Python 3",
   "language": "python",
   "name": "python3"
  },
  "language_info": {
   "codemirror_mode": {
    "name": "ipython",
    "version": 3
   },
   "file_extension": ".py",
   "mimetype": "text/x-python",
   "name": "python",
   "nbconvert_exporter": "python",
   "pygments_lexer": "ipython3",
   "version": "3.8.8"
  }
 },
 "nbformat": 4,
 "nbformat_minor": 4
}

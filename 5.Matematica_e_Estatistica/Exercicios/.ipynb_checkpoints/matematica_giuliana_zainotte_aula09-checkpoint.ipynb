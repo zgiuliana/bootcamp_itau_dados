{
 "cells": [
  {
   "cell_type": "markdown",
   "id": "fdc83acd",
   "metadata": {},
   "source": [
    "# Exercício"
   ]
  },
  {
   "cell_type": "markdown",
   "id": "270715e9",
   "metadata": {},
   "source": [
    "Enviar para o email filipe.furlan@letscode.com.br até **2021/08/12** o notebook (`matematica_firtsname_lastname_aula09.ipynb`) com a resolução dos exercicios abaixo."
   ]
  },
  {
   "cell_type": "code",
   "execution_count": 5,
   "id": "9659bb84-f489-4d9d-b122-d2ae1388aa01",
   "metadata": {},
   "outputs": [],
   "source": [
    "import numpy as np\n",
    "import pandas as pd\n",
    "import matplotlib.pyplot as plt\n",
    "import seaborn as sns\n",
    "import plotly.express as px\n",
    "import plotly.io as pio\n",
    "import scipy.stats as stats\n",
    "\n",
    "pio.templates.default = 'plotly_dark'"
   ]
  },
  {
   "cell_type": "markdown",
   "id": "5f1f0eef",
   "metadata": {},
   "source": [
    "# Relembrando o Teorema Central do Limite (TCL ou CLT)\n",
    "\n",
    "Seja uma amostra aleatória ($x_1, x_2, \\cdots, x_n$) de uma variável aleatória $X$ com qualquer distribuição, média $\\mu$ e desvio padrão $\\sigma$. A medida que $n$ cresce, a distribuição de probabilidade da média amostral, $\\overline{X}$, se aproxima de uma Normal com média $\\mu$ e desvio padrão $\\frac{\\sigma}{\\sqrt{n}}$. Isto é $\\overline{X} \\sim N (\\mu, \\sigma^2/n)$. Se a transformação a baixo for realizada, então $Z \\sim N (0,1)$.\n",
    "\n",
    "$$Z = \\frac{\\overline{X} -\\mu}{\\sigma/\\sqrt{n}} $$\n",
    "\n"
   ]
  },
  {
   "cell_type": "markdown",
   "id": "229db7bd",
   "metadata": {
    "colab_type": "text",
    "id": "QpgTvbISG3GU"
   },
   "source": [
    "O **Teorema do Limite Central** afirma que, com o aumento do tamanho da amostra, a distribuição das médias amostrais se aproxima de uma distribuição normal com média igual à média da população e desvio padrão igual ao desvio padrão da variável original dividido pela raiz quadrada do tamanho da amostra. Este fato é assegurado para $n$ maior ou igual a 30."
   ]
  },
  {
   "cell_type": "markdown",
   "id": "cf77001e",
   "metadata": {
    "colab_type": "text",
    "id": "ZIAr6is3wEMp"
   },
   "source": [
    "$$\\sigma_\\bar{x} = \\frac{\\sigma}{\\sqrt{n}}$$\n",
    "\n",
    "O desvio padrão das médias amostrais é conhecido como **erro padrão da média**"
   ]
  },
  {
   "cell_type": "markdown",
   "id": "f1d23e75",
   "metadata": {
    "colab_type": "text",
    "id": "eFtSo6H0iz7z"
   },
   "source": [
    "# Carregando os dados"
   ]
  },
  {
   "cell_type": "code",
   "execution_count": 6,
   "id": "77b9e95a",
   "metadata": {
    "ExecuteTime": {
     "end_time": "2021-08-06T17:17:36.351607Z",
     "start_time": "2021-08-06T17:17:35.197722Z"
    }
   },
   "outputs": [],
   "source": [
    "import pandas as pd"
   ]
  },
  {
   "cell_type": "code",
   "execution_count": 7,
   "id": "1085126c",
   "metadata": {
    "ExecuteTime": {
     "end_time": "2021-08-06T17:18:13.014817Z",
     "start_time": "2021-08-06T17:18:12.902326Z"
    }
   },
   "outputs": [],
   "source": [
    "df = pd.read_csv('../datasets/pnad_2015.csv')"
   ]
  },
  {
   "cell_type": "code",
   "execution_count": 8,
   "id": "046cfab5",
   "metadata": {
    "ExecuteTime": {
     "end_time": "2021-08-06T17:18:14.440265Z",
     "start_time": "2021-08-06T17:18:14.393875Z"
    }
   },
   "outputs": [
    {
     "data": {
      "text/html": [
       "<div>\n",
       "<style scoped>\n",
       "    .dataframe tbody tr th:only-of-type {\n",
       "        vertical-align: middle;\n",
       "    }\n",
       "\n",
       "    .dataframe tbody tr th {\n",
       "        vertical-align: top;\n",
       "    }\n",
       "\n",
       "    .dataframe thead th {\n",
       "        text-align: right;\n",
       "    }\n",
       "</style>\n",
       "<table border=\"1\" class=\"dataframe\">\n",
       "  <thead>\n",
       "    <tr style=\"text-align: right;\">\n",
       "      <th></th>\n",
       "      <th>UF</th>\n",
       "      <th>Sexo</th>\n",
       "      <th>Idade</th>\n",
       "      <th>Cor</th>\n",
       "      <th>Anos de Estudo</th>\n",
       "      <th>Renda</th>\n",
       "      <th>Altura</th>\n",
       "    </tr>\n",
       "  </thead>\n",
       "  <tbody>\n",
       "    <tr>\n",
       "      <th>0</th>\n",
       "      <td>11</td>\n",
       "      <td>0</td>\n",
       "      <td>23</td>\n",
       "      <td>8</td>\n",
       "      <td>12</td>\n",
       "      <td>800</td>\n",
       "      <td>1.603808</td>\n",
       "    </tr>\n",
       "    <tr>\n",
       "      <th>1</th>\n",
       "      <td>11</td>\n",
       "      <td>1</td>\n",
       "      <td>23</td>\n",
       "      <td>2</td>\n",
       "      <td>12</td>\n",
       "      <td>1150</td>\n",
       "      <td>1.739790</td>\n",
       "    </tr>\n",
       "    <tr>\n",
       "      <th>2</th>\n",
       "      <td>11</td>\n",
       "      <td>1</td>\n",
       "      <td>35</td>\n",
       "      <td>8</td>\n",
       "      <td>15</td>\n",
       "      <td>880</td>\n",
       "      <td>1.760444</td>\n",
       "    </tr>\n",
       "    <tr>\n",
       "      <th>3</th>\n",
       "      <td>11</td>\n",
       "      <td>0</td>\n",
       "      <td>46</td>\n",
       "      <td>2</td>\n",
       "      <td>6</td>\n",
       "      <td>3500</td>\n",
       "      <td>1.783158</td>\n",
       "    </tr>\n",
       "    <tr>\n",
       "      <th>4</th>\n",
       "      <td>11</td>\n",
       "      <td>1</td>\n",
       "      <td>47</td>\n",
       "      <td>8</td>\n",
       "      <td>9</td>\n",
       "      <td>150</td>\n",
       "      <td>1.690631</td>\n",
       "    </tr>\n",
       "  </tbody>\n",
       "</table>\n",
       "</div>"
      ],
      "text/plain": [
       "   UF  Sexo  Idade  Cor  Anos de Estudo  Renda    Altura\n",
       "0  11     0     23    8              12    800  1.603808\n",
       "1  11     1     23    2              12   1150  1.739790\n",
       "2  11     1     35    8              15    880  1.760444\n",
       "3  11     0     46    2               6   3500  1.783158\n",
       "4  11     1     47    8               9    150  1.690631"
      ]
     },
     "execution_count": 8,
     "metadata": {},
     "output_type": "execute_result"
    }
   ],
   "source": [
    "df.head()"
   ]
  },
  {
   "cell_type": "markdown",
   "id": "1aa4e4ed",
   "metadata": {},
   "source": [
    "# Exercício 1\n",
    "\n",
    "1. Calcule a média (mu) e o desvio padrão (sigma) da idade dos brasileiros.\n",
    "1. Faça um histograma das idades.\n",
    "1. Encontre o número de amostras $N$ e o tamanho amostral $n$ que comprovem a validade do TLC com um erro absoluto menor que 0.05.\n",
    "    - calcule a média das médias $\\bar{x}$;\n",
    "    - erro = ($\\bar{x}$ - mu) / mu.\n",
    "1. Para os valores de $N$ e $n$ encontrados acima, qual o erro do desvio padrão do TLC ($\\sigma_X$) comparado com o valor real?\n",
    "1. Faça um histograma (barras) da média das médias."
   ]
  },
  {
   "cell_type": "code",
   "execution_count": 9,
   "id": "a60c289b-e706-44bb-a646-b4aed7b8cdf3",
   "metadata": {},
   "outputs": [],
   "source": [
    "# Questão 1\n",
    "mu=np.mean(df['Idade'])\n",
    "sigma=np.std(df['Idade'])\n"
   ]
  },
  {
   "cell_type": "code",
   "execution_count": 10,
   "id": "c7872f05-6082-4240-b88c-1b70f6521892",
   "metadata": {},
   "outputs": [
    {
     "data": {
      "text/plain": [
       "<matplotlib.axes._subplots.AxesSubplot at 0x7f622e3eb950>"
      ]
     },
     "execution_count": 10,
     "metadata": {},
     "output_type": "execute_result"
    },
    {
     "data": {
      "image/png": "[encoded data removed]",
      "text/plain": [
       "<Figure size 432x288 with 1 Axes>"
      ]
     },
     "metadata": {
      "needs_background": "light"
     },
     "output_type": "display_data"
    }
   ],
   "source": [
    "# Questão 2\n",
    "sns.histplot(data=df,x= 'Idade',kde=True)"
   ]
  },
  {
   "cell_type": "code",
   "execution_count": 13,
   "id": "730a14dc-b00c-4939-b9aa-071c6b97a90d",
   "metadata": {},
   "outputs": [
    {
     "name": "stdout",
     "output_type": "stream",
     "text": [
      "N=  50, n =  100, 0.0030\n",
      "N=  50, n =  500, 0.0012\n",
      "N=  50, n = 1000, 0.0022\n",
      "N= 100, n =  100, 0.0012\n",
      "N= 100, n =  500, 0.0007\n",
      "N= 100, n = 1000, 0.0012\n",
      "N= 500, n =  100, 0.0006\n",
      "N= 500, n =  500, 0.0008\n",
      "N= 500, n = 1000, 0.0007\n",
      "N=1000, n =  100, 0.0012\n",
      "N=1000, n =  500, 0.0005\n",
      "N=1000, n = 1000, 0.0002\n"
     ]
    }
   ],
   "source": [
    "#Questão 3\n",
    "N_list=[50,100,500,1000] # amostras\n",
    "n_list=[100,500,1000] # tamanho amostral\n",
    "\n",
    "\n",
    "for N in N_list:\n",
    "    for n in n_list:\n",
    "        means=[df['Idade'].sample(n=n,replace=True).mean() for i in range(N)]\n",
    "        x_bar=np.mean(means) #media das medias\n",
    "        sigma_bar=np.std(means)\n",
    "        erro_abs=round(abs((x_bar-mu)/mu),4)\n",
    "        if erro_abs<0.005:\n",
    "            print(f'N={N:4}, n = {n:4}, {erro_abs:5.4f}')"
   ]
  },
  {
   "cell_type": "code",
   "execution_count": 21,
   "id": "53c933b4-4787-4e0b-836d-03783a168832",
   "metadata": {},
   "outputs": [
    {
     "data": {
      "text/plain": [
       "0.9684"
      ]
     },
     "execution_count": 21,
     "metadata": {},
     "output_type": "execute_result"
    }
   ],
   "source": [
    "#Questão 4\n",
    "N=500\n",
    "n=1000\n",
    "sigma_x=sigma/np.sqrt(n)\n",
    "erro=round(abs((sigma_x-sigma)/sigma),4)\n",
    "erro"
   ]
  },
  {
   "cell_type": "code",
   "execution_count": 14,
   "id": "f57d08ef",
   "metadata": {},
   "outputs": [
    {
     "data": {
      "text/plain": [
       "<matplotlib.axes._subplots.AxesSubplot at 0x7f622c215fd0>"
      ]
     },
     "execution_count": 14,
     "metadata": {},
     "output_type": "execute_result"
    },
    {
     "data": {
      "image/png": "[encoded data removed]",
      "text/plain": [
       "<Figure size 432x288 with 1 Axes>"
      ]
     },
     "metadata": {
      "needs_background": "light"
     },
     "output_type": "display_data"
    }
   ],
   "source": [
    "#Questão 5\n",
    "means=[df['Idade'].sample(n=n,replace=True).mean() for i in range(N)]\n",
    "sns.histplot(means,kde=True)"
   ]
  },
  {
   "cell_type": "markdown",
   "id": "6ba2ccb5",
   "metadata": {
    "colab": {
     "base_uri": "https://localhost:8080/",
     "height": 34
    },
    "colab_type": "code",
    "id": "IQ7wC-Nkiy75",
    "outputId": "c70c88bd-52f6-41fd-a29d-a88f1641072e"
   },
   "source": [
    "# Exercício 2"
   ]
  },
  {
   "cell_type": "markdown",
   "id": "4fbeed4c",
   "metadata": {},
   "source": [
    "Considerando a renda dos brasileiros que ganham até R$ 25.000,00.\n",
    "\n",
    "1. Faça um histograma dos valores de renda.\n",
    "1. Usando os valores de $N$ e $n$ encontrados acima, calcule a média ($\\bar{x}$) e o desvio padrão ($\\sigma_X$) das médias.\n",
    "1. Qual o erro dos resultados acima comparados com o valor da população?"
   ]
  },
  {
   "cell_type": "code",
   "execution_count": 22,
   "id": "fc326f95",
   "metadata": {},
   "outputs": [
    {
     "data": {
      "text/plain": [
       "<matplotlib.axes._subplots.AxesSubplot at 0x7f622c1909d0>"
      ]
     },
     "execution_count": 22,
     "metadata": {},
     "output_type": "execute_result"
    },
    {
     "data": {
      "image/png": "[encoded data removed]",
      "text/plain": [
       "<Figure size 432x288 with 1 Axes>"
      ]
     },
     "metadata": {
      "needs_background": "light"
     },
     "output_type": "display_data"
    }
   ],
   "source": [
    "#Questão 1\n",
    "sns.histplot(df['Renda'],kde=True)"
   ]
  },
  {
   "cell_type": "code",
   "execution_count": 26,
   "id": "e9362aa4-492c-4116-90ca-da68e6b30ac5",
   "metadata": {
    "tags": []
   },
   "outputs": [
    {
     "name": "stdout",
     "output_type": "stream",
     "text": [
      "2001.97 103.78\n"
     ]
    },
    {
     "data": {
      "text/plain": [
       "<matplotlib.axes._subplots.AxesSubplot at 0x7f6219960f10>"
      ]
     },
     "execution_count": 26,
     "metadata": {},
     "output_type": "execute_result"
    },
    {
     "data": {
      "image/png": "[encoded data removed]",
      "text/plain": [
       "<Figure size 432x288 with 1 Axes>"
      ]
     },
     "metadata": {
      "needs_background": "light"
     },
     "output_type": "display_data"
    }
   ],
   "source": [
    "#Questão 2\n",
    "n=1000\n",
    "N=500\n",
    "sigma=df['Renda'].std()\n",
    "mu=df['Renda'].mean()\n",
    "means=[df['Renda'].sample(n=n,replace=True).mean() for i in range(N)]\n",
    "x_bar=np.mean(means) #media das medias\n",
    "sigma_bar=np.std(means)\n",
    "print(round(x_bar,2),round(sigma_bar,2))\n",
    "sns.histplot(means,kde=True)"
   ]
  },
  {
   "cell_type": "code",
   "execution_count": 28,
   "id": "c4943dd2-1925-4f52-9569-b034f7a7920a",
   "metadata": {},
   "outputs": [
    {
     "name": "stdout",
     "output_type": "stream",
     "text": [
      "1.58 101.81\n"
     ]
    }
   ],
   "source": [
    "erro_medias=round(abs(mu-x_bar),4)\n",
    "erro_sigma=round(abs(sigma-sigma_bar),4)/np.sqrt(n)\n",
    "print(round(erro_medias,2),round(erro_sigma,2))"
   ]
  },
  {
   "cell_type": "markdown",
   "id": "113fd5d9",
   "metadata": {},
   "source": [
    "# Exercício 3"
   ]
  },
  {
   "cell_type": "markdown",
   "id": "45c3863d",
   "metadata": {},
   "source": [
    "Até aqui, usamos os valores reais da população para mostrar a validade do TLC. Explique brevemente como você usaria as técnicas de amostragem e o TLC para estimar o valor de um parâmetro desconhecido, por exemplo, o tempo médio de espera na fila para atendimento nos caixas do banco."
   ]
  },
  {
   "cell_type": "code",
   "execution_count": null,
   "id": "617fdcdc",
   "metadata": {},
   "outputs": [],
   "source": []
  }
 ],
 "metadata": {
  "kernelspec": {
   "display_name": "Python 3",
   "language": "python",
   "name": "python3"
  },
  "language_info": {
   "codemirror_mode": {
    "name": "ipython",
    "version": 3
   },
   "file_extension": ".py",
   "mimetype": "text/x-python",
   "name": "python",
   "nbconvert_exporter": "python",
   "pygments_lexer": "ipython3",
   "version": "3.7.6"
  },
  "toc": {
   "base_numbering": 1,
   "nav_menu": {},
   "number_sections": true,
   "sideBar": true,
   "skip_h1_title": false,
   "title_cell": "Table of Contents",
   "title_sidebar": "Contents",
   "toc_cell": false,
   "toc_position": {},
   "toc_section_display": true,
   "toc_window_display": true
  }
 },
 "nbformat": 4,
 "nbformat_minor": 5
}

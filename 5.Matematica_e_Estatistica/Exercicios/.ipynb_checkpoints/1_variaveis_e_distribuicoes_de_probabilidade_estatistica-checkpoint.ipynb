{
 "cells": [
  {
   "cell_type": "markdown",
   "metadata": {},
   "source": [
    "### 1\n",
    "As alternativas abaixo descrevem as características básicas de um experimento binomial. Marque a alternativa correta.\n",
    "- Os ensaios são dependentes.\n",
    ">\n",
    "- A probabilidade de sucesso é representada por p e a de fracasso por 1 + p = q. Estas probabilidades não se modificam de ensaio para ensaio\n",
    ">\n",
    "- Somente dois resultados são possíveis.\n",
    ">\n",
    "#### Características Importantes\n",
    "1. Realização de $n$ ensaios idênticos.\n",
    "\n",
    "2. Os ensaios são independentes.\n",
    "\n",
    "3. Somente dois resultados são possíveis, exemplo: Verdadeiro ou falso; Cara ou coroa; Sucesso ou fracasso.\n",
    "\n",
    "4. A probabilidade de sucesso é representada por $p$ e a de fracasso por $1-p=q$. Estas probabilidades não se modificam de ensaio para ensaio.\n",
    "##### **Resposta**: somente dois resultados são possíveis"
   ]
  },
  {
   "cell_type": "markdown",
   "metadata": {},
   "source": [
    "### 2\n",
    "Uma moeda, perfeitamente equilibrada, é lançada para o alto quatro vezes. Utilizando a distribuição binomial, obtenha a probabilidade de a moeda cair com a face coroa voltada para cima duas vezes."
   ]
  },
  {
   "cell_type": "code",
   "execution_count": 2,
   "metadata": {},
   "outputs": [
    {
     "data": {
      "text/plain": [
       "0.3750000000000001"
      ]
     },
     "execution_count": 2,
     "metadata": {},
     "output_type": "execute_result"
    }
   ],
   "source": [
    "from scipy.stats import binom\n",
    "n = 4 # lançamentos da moeda\n",
    "k = 2 # número de sucessos (caras obtidas)\n",
    "p = 0.5 # probabilidade de sucesso (obter cara)\n",
    "binom.pmf(k=k, n=n, p=p)"
   ]
  },
  {
   "cell_type": "markdown",
   "metadata": {},
   "source": [
    "### 3\n",
    "Um dado, perfeitamente equilibrado, é lançado para o alto dez vezes. Utilizando a distribuição binomial, obtenha a probabilidade de o dado cair com o número cinco voltado para cima pelo menos três vezes.\n",
    "> **errado**"
   ]
  },
  {
   "cell_type": "code",
   "execution_count": 13,
   "metadata": {},
   "outputs": [
    {
     "data": {
      "text/plain": [
       "15.5"
      ]
     },
     "execution_count": 13,
     "metadata": {},
     "output_type": "execute_result"
    }
   ],
   "source": [
    "from scipy.stats import binom\n",
    "n = 10 # lançamentos do+-*+ dados\n",
    "k = 3 # número de sucessos (caras obtidas)\n",
    "p = 1/6 # probabilidade de sucesso (obter cara)\n",
    "round(binom.pmf(k=k, n=n, p=p)*100,2)\n"
   ]
  },
  {
   "cell_type": "markdown",
   "metadata": {},
   "source": [
    "### 4\n",
    "Suponha que a probabilidade de um casal ter filhos com olhos azuis seja de 22%. Em 50 famílias, com 3 crianças cada uma, quantas podemos esperar que tenham dois filhos com olhos azuis?"
   ]
  },
  {
   "cell_type": "code",
   "execution_count": 4,
   "metadata": {},
   "outputs": [
    {
     "data": {
      "text/plain": [
       "5.66"
      ]
     },
     "execution_count": 4,
     "metadata": {},
     "output_type": "execute_result"
    }
   ],
   "source": [
    "from scipy.stats import binom\n",
    "n = 3 # lançamentos da moeda\n",
    "k = 2 # número de sucessos (caras obtidas)\n",
    "p = 0.22 # probabilidade de sucesso (obter cara)\n",
    "probabilidade=(binom.pmf(k=k, n=n, p=p))\n",
    "round(probabilidade*50,2)"
   ]
  },
  {
   "cell_type": "markdown",
   "metadata": {},
   "source": [
    "### 5\n",
    "As alternativas abaixo descrevem as características básicas de um experimento Poisson. Marque aquela que está correta.\n",
    "- O número de ocorrências em determinado intervalo é dependente do número de ocorrências em outros intervalos\n",
    ">**Falso**\n",
    "- A probabilidade de uma ocorrência pode variar em todo o intervalo observado\n",
    ">**Falso**\n",
    "- O número de ocorrências em determinado intervalo é independente do número de ocorrências em outros intervalos\n",
    ">**Verdadeiro**\n",
    "#### Características Importantes\n",
    "\n",
    "1. A probabilidade de uma ocorrência é a mesma em todo o intervalo observado.\n",
    "2. O número de ocorrências em determinado intervalo é independente do número de ocorrências em outros intervalos.\n",
    "3. A probabilidade de uma ocorrência é a mesma em intervalos de igual comprimento."
   ]
  },
  {
   "cell_type": "markdown",
   "metadata": {},
   "source": [
    "### 6\n",
    "O número médio de clientes que entram em uma padaria por hora é igual a 20. Obtenha a probabilidade de, na próxima hora, entrarem exatamente 25 clientes."
   ]
  },
  {
   "cell_type": "code",
   "execution_count": 2,
   "metadata": {},
   "outputs": [
    {
     "data": {
      "text/plain": [
       "4.46"
      ]
     },
     "execution_count": 2,
     "metadata": {},
     "output_type": "execute_result"
    }
   ],
   "source": [
    "from scipy.stats import poisson\n",
    "mu=20 # numero de clientes por hora\n",
    "k=25 # número de ocorrências que queremos obter no período\n",
    "round(poisson.pmf(k=k,mu=mu)*100,2)"
   ]
  },
  {
   "cell_type": "markdown",
   "metadata": {},
   "source": [
    "### 7\n",
    "Sobre a distribuição normal, avalie as afirmativas abaixo:\n",
    "\n",
    "1) A distribuição normal é definida por sua média e desvio padrão\n",
    ">**Certa**\n",
    "2) A distribuição normal é simétrica em torno da média\n",
    ">**Certa**\n",
    "3) O desvio padrão define o achatamento e largura da curva da distribuição normal\n",
    ">**Certa**\n",
    "\n",
    "Quais estão corretas?\n",
    "\n",
    "#### Características importantes\n",
    "\n",
    "1. É simétrica em torno da média;\n",
    "\n",
    "2. A área sob a curva corresponde à proporção 1 ou 100%;\n",
    "\n",
    "3. As medidas de tendência central (média, mediana e moda) apresentam o mesmo valor;\n",
    "\n",
    "4. Os extremos da curva tendem ao infinito em ambas as direções e, teoricamente, jamais tocam o eixo $x$;\n",
    "\n",
    "5. O desvio padrão define o achatamento e largura da distribuição. Curvas mais largas e mais achatadas apresentam valores maiores de desvio padrão;\n",
    "\n",
    "6. A distribuição é definida por sua média e desvio padrão;\n",
    "\n",
    "7. A probabilidade sempre será igual à área sob a curva, delimitada pelos limites inferior e superior."
   ]
  },
  {
   "cell_type": "markdown",
   "metadata": {},
   "source": [
    "### 8\n",
    "A aplicação de uma prova de estatística em um concurso apresentou um conjunto de notas normalmente distribuídas. Verificou-se que o conjunto de notas tinha média 70 e desvio padrão de 5 pontos.\n",
    "Qual a probabilidade de um aluno, selecionado ao acaso, ter nota menor que 85?"
   ]
  },
  {
   "cell_type": "code",
   "execution_count": 9,
   "metadata": {},
   "outputs": [
    {
     "data": {
      "text/plain": [
       "99.87"
      ]
     },
     "execution_count": 9,
     "metadata": {},
     "output_type": "execute_result"
    }
   ],
   "source": [
    "from scipy.stats import norm\n",
    "mu=70\n",
    "sigma=5\n",
    "x_bar=85\n",
    "z=(x_bar-mu)/sigma\n",
    "round(norm.cdf(z)*100,2)\n"
   ]
  },
  {
   "cell_type": "markdown",
   "metadata": {},
   "source": [
    "### 9\n",
    "O faturamento diário de um motorista de aplicativo segue uma distribuição aproximadamente normal, com média R 300,00 e desvio padrão igual a R 50,00. Obtenha as probabilidades de que, em um dia aleatório, o motorista ganhe:\n",
    "1. Entre R$ 250,00 e R$ 350,00\n",
    "2. Entre R$ 400,00 e R$ 500,00"
   ]
  },
  {
   "cell_type": "code",
   "execution_count": 18,
   "metadata": {},
   "outputs": [
    {
     "name": "stdout",
     "output_type": "stream",
     "text": [
      "68.27 %\n",
      "2.27 %\n"
     ]
    }
   ],
   "source": [
    "mu=300\n",
    "sigma=50\n",
    "x1=350\n",
    "x2=250\n",
    "z1=(x1-mu)/sigma\n",
    "z2=(x2-mu)/sigma\n",
    "print(round((norm.cdf(z1)-norm.cdf(z2))*100,2),'%')\n",
    "\n",
    "mu=300\n",
    "sigma=50\n",
    "x1=500\n",
    "x2=400\n",
    "z1=(x1-mu)/sigma\n",
    "z2=(x2-mu)/sigma\n",
    "print(round((norm.cdf(z1)-norm.cdf(z2))*100,2),'%')"
   ]
  },
  {
   "cell_type": "markdown",
   "metadata": {},
   "source": [
    "### 3\n",
    "O Inmetro verificou que as lâmpadas incandescentes da fabricante XPTO apresentam uma vida útil normalmente distribuída, com média igual a 720 dias e desvio padrão igual a 30 dias. Calcule a probabilidade de uma lâmpada, escolhida ao acaso, durar:\n",
    "1) Entre 650 e 750 dias\n",
    "2) Mais que 800 dias\n",
    "3) Menos que 700 dias"
   ]
  },
  {
   "cell_type": "code",
   "execution_count": 23,
   "metadata": {},
   "outputs": [
    {
     "name": "stdout",
     "output_type": "stream",
     "text": [
      "83.15 %\n",
      "0.38 %\n",
      "25.25 %\n"
     ]
    }
   ],
   "source": [
    "mu=720\n",
    "sigma=30\n",
    "# 1\n",
    "x1=750\n",
    "x2=650\n",
    "z1=(x1-mu)/sigma\n",
    "z2=(x2-mu)/sigma\n",
    "print(round((norm.cdf(z1)-norm.cdf(z2))*100,2),'%')\n",
    "\n",
    "# 2\n",
    "x=800\n",
    "z=(x-mu)/sigma\n",
    "print(round((norm.sf(z))*100,2),'%')\n",
    "\n",
    "# 3\n",
    "x=700\n",
    "z=(x-mu)/sigma\n",
    "print(round((norm.cdf(z))*100,2),'%')"
   ]
  }
 ],
 "metadata": {
  "kernelspec": {
   "display_name": "Python 3",
   "language": "python",
   "name": "python3"
  },
  "language_info": {
   "codemirror_mode": {
    "name": "ipython",
    "version": 3
   },
   "file_extension": ".py",
   "mimetype": "text/x-python",
   "name": "python",
   "nbconvert_exporter": "python",
   "pygments_lexer": "ipython3",
   "version": "3.7.6"
  }
 },
 "nbformat": 4,
 "nbformat_minor": 4
}

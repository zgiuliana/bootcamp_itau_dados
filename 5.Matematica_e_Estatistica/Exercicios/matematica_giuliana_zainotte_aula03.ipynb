{
 "cells": [
  {
   "cell_type": "markdown",
   "id": "0d5f297e",
   "metadata": {},
   "source": [
    "# Exercicios"
   ]
  },
  {
   "cell_type": "markdown",
   "id": "c448583c",
   "metadata": {},
   "source": [
    "Enviar para o email filipe.furlan@letscode.com.br até **2021/08/06** o notebook (`matematica_firtsname_lastname_aula03.ipynb`) com a resolução dos exercicios abaixo."
   ]
  },
  {
   "cell_type": "markdown",
   "id": "b699078b",
   "metadata": {},
   "source": [
    "1. Existem quantos arranjos lineares diferentes das letras A,B,C,D,E,F para os quais A e B estão uma do lado da outra."
   ]
  },
  {
   "cell_type": "code",
   "execution_count": 8,
   "id": "206638fe",
   "metadata": {},
   "outputs": [
    {
     "data": {
      "text/plain": [
       "240"
      ]
     },
     "execution_count": 8,
     "metadata": {},
     "output_type": "execute_result"
    }
   ],
   "source": [
    "#Permutação\n",
    "def fatorial(n):\n",
    "    if n == 1:\n",
    "        return n\n",
    "    else:\n",
    "        return n * fatorial(n-1)\n",
    "p=fatorial(2)*fatorial(5)\n",
    "p\n",
    "#Considerei AB como uma única \"letra\", dessa forma fiz uma permutação de 4, como podemos ter AB e BA para cada opção, multipliquei por fatorial de 2"
   ]
  },
  {
   "cell_type": "markdown",
   "id": "00bd8aac",
   "metadata": {},
   "source": [
    "2. João, Juliano, Jonas e Jackes formaram uma banda com quatro instrumentos. Se cada um é capaz de tocar todos instrumentos, quantas diferentes combinações é possivel se realizar?"
   ]
  },
  {
   "cell_type": "code",
   "execution_count": 9,
   "id": "e67cfec8",
   "metadata": {},
   "outputs": [
    {
     "data": {
      "text/plain": [
       "24"
      ]
     },
     "execution_count": 9,
     "metadata": {},
     "output_type": "execute_result"
    }
   ],
   "source": [
    "# O número de objetos é igual ao número de posições: Sim\n",
    "#Permutação\n",
    "p=fatorial(4)\n",
    "p"
   ]
  },
  {
   "cell_type": "markdown",
   "id": "c4449231",
   "metadata": {},
   "source": [
    "3. Por muitos anos, os códigos telefônicos de área nos EUA e no Canadá eram formados por uma sequência de 3 algarismos. O primeiro algarismo era um inteiro entre 2 e 9, o segundo algarismo era entre 0 e 1, e o terceiro digito era um inteiro entre 1 e 9. Quantos códigos da área eram possíveis? Quantos códigos de área começando com um 4 eram possíveis?"
   ]
  },
  {
   "cell_type": "code",
   "execution_count": 10,
   "id": "7110ade1",
   "metadata": {},
   "outputs": [
    {
     "name": "stdout",
     "output_type": "stream",
     "text": [
      "q1: 144\n",
      "q2: 18\n"
     ]
    }
   ],
   "source": [
    "print('q1:',8*2*9)\n",
    "print('q2:',1*2*9)"
   ]
  },
  {
   "cell_type": "markdown",
   "id": "b7a5b8a7",
   "metadata": {},
   "source": [
    "4. De quantas maneiras diferentes 3 garotos e 3 garotas podem sentar-se em fila?"
   ]
  },
  {
   "cell_type": "code",
   "execution_count": 11,
   "id": "b789a582",
   "metadata": {},
   "outputs": [
    {
     "name": "stdout",
     "output_type": "stream",
     "text": [
      "20.0\n"
     ]
    }
   ],
   "source": [
    "# O número de objetos é igual ao número de posições: Sim\n",
    "#Permutação\n",
    "def permutacao_com_2_repeticao(n,k1,k2):\n",
    "    return fatorial(n) / (fatorial(k1)*fatorial(k2))\n",
    "print(permutacao_com_2_repeticao(6,3,3))"
   ]
  },
  {
   "cell_type": "markdown",
   "id": "35006659",
   "metadata": {},
   "source": [
    "5. De quantas formas podemos formar um comitê de 7 pessoas, formado por 2 petistas, 2 democratas e 3 peemedebistas escolhidos de um grupo de 5 petistas, 6 democratas, e 4 peemedebistas?"
   ]
  },
  {
   "cell_type": "code",
   "execution_count": 12,
   "id": "22a79e7a",
   "metadata": {},
   "outputs": [
    {
     "name": "stdout",
     "output_type": "stream",
     "text": [
      "Resposta 600.0\n"
     ]
    }
   ],
   "source": [
    "# O número de objetos é igual ao número de posições: Não\n",
    "# A ordem importa: Não\n",
    "# Combinação\n",
    "# 3 combinações\n",
    "def combinacao(n,k):\n",
    "    return fatorial(n) / (fatorial(k) * fatorial(n-k))\n",
    "print('Resposta',combinacao(5,2)*combinacao(6,2)*combinacao(4,3))"
   ]
  },
  {
   "cell_type": "markdown",
   "id": "3affe19a",
   "metadata": {},
   "source": [
    "6. Quantos arranjos diferentes podem ser feitos a partir de:\n",
    "\n",
    "    a) sorte  \n",
    "    b) mississipi  \n",
    "    c) arranjo"
   ]
  },
  {
   "cell_type": "code",
   "execution_count": 13,
   "id": "c0f5d1e2",
   "metadata": {},
   "outputs": [
    {
     "name": "stdout",
     "output_type": "stream",
     "text": [
      "Letra a) 120\n",
      "letra b) 6300.0\n",
      "letra c) 1260.0\n"
     ]
    }
   ],
   "source": [
    "# O número de objetos é igual ao número de posições: Sim\n",
    "# Permutação \n",
    "#letra a) Sem repetição\n",
    "print('Letra a)',fatorial(5))\n",
    "#letra b) Com Repetição - 2 Repetições\n",
    "print('letra b)',permutacao_com_2_repeticao(10,4,4))\n",
    "#letra c) Com Repetição- 2 Repetições\n",
    "print('letra c)',permutacao_com_2_repeticao(7,2,2))"
   ]
  },
  {
   "cell_type": "markdown",
   "id": "4028d68f",
   "metadata": {},
   "source": [
    "7. Uma pessoa tem 8 amigos dos quais 5 serão convidados para uma festa.\n",
    "\n",
    "    a) Quantas escolhas existem se dois dos amigos estiverem brigados e por esse motivo não puderem comparecer?  \n",
    "    b) quantas escolhas existem se dois amigos puderem ir apenas se forem juntos?"
   ]
  },
  {
   "cell_type": "code",
   "execution_count": 14,
   "id": "87bb299f",
   "metadata": {},
   "outputs": [
    {
     "name": "stdout",
     "output_type": "stream",
     "text": [
      "letra a) 46.0\n",
      "letra b) 10.0\n"
     ]
    }
   ],
   "source": [
    "# letra a) Acho que a pergunta é: 2 amigos não podem comparecer *juntos*\n",
    "print('letra a)',combinacao(8,5)-combinacao(5,2))\n",
    "print('letra b)',combinacao(5,2))"
   ]
  },
  {
   "cell_type": "markdown",
   "id": "08c48e9e",
   "metadata": {},
   "source": [
    "8. Uma moeda está viciada: a chance de se obter uma cara usando ela é de 0,6. Qual probabilidade de essa moeda apresentar, em qualquer ordem, 3 caras e 7 coroas."
   ]
  },
  {
   "cell_type": "code",
   "execution_count": 52,
   "id": "93f540c0",
   "metadata": {},
   "outputs": [
    {
     "name": "stdout",
     "output_type": "stream",
     "text": [
      "A probabilidade é: 4.25 %\n"
     ]
    }
   ],
   "source": [
    "from itertools import product\n",
    "\n",
    "espaco = product(['C', 'K'], repeat=10)\n",
    "\n",
    "eventos = []\n",
    "probas = []\n",
    "contagem={}\n",
    "suporte=[]\n",
    "prob_suporte=[]\n",
    "\n",
    "prob_cara = 0.6\n",
    "prob_coroa = 1 - prob_cara\n",
    "\n",
    "for evento in espaco:\n",
    "    \n",
    "    n_caras = evento.count('C')\n",
    "    n_coroas = evento.count('K')\n",
    "    eventos.append(evento)\n",
    "    prob_evento = prob_cara**n_caras * prob_coroa**n_coroas\n",
    "    probas.append(prob_evento)\n",
    "    if n_caras==3:\n",
    "        suporte.append(evento)\n",
    "        prob_suporte.append(prob_evento)\n",
    "        \n",
    "print('A probabilidade é:',round(sum(prob_suporte)*100,2),'%')"
   ]
  },
  {
   "cell_type": "code",
   "execution_count": 49,
   "id": "92da15fe",
   "metadata": {},
   "outputs": [
    {
     "name": "stdout",
     "output_type": "stream",
     "text": [
      "A probabilidade é: 4.25 %\n"
     ]
    }
   ],
   "source": [
    "from scipy.stats import binom\n",
    "n = 10 # lançamentos da moeda\n",
    "k = 3 # número de sucessos (caras obtidas)\n",
    "p = 0.6 # probabilidade de sucesso (obter cara)\n",
    "print('A probabilidade é:',round(binom.pmf(k=k, n=n, p=p)*100,2),'%')"
   ]
  },
  {
   "cell_type": "code",
   "execution_count": 53,
   "id": "bb1296c1",
   "metadata": {},
   "outputs": [
    {
     "name": "stdout",
     "output_type": "stream",
     "text": [
      "A probabilidade é: 4.25 %\n"
     ]
    }
   ],
   "source": [
    "n = 10 # lançamentos da moeda\n",
    "k = 7 # número de sucessos (coroas obtidas)\n",
    "p = 0.4 # probabilidade de sucesso (obter coroa)\n",
    "print('A probabilidade é:',round(binom.pmf(k=k, n=n, p=p)*100,2),'%')"
   ]
  },
  {
   "cell_type": "markdown",
   "id": "c762d337",
   "metadata": {},
   "source": [
    "9. Uma companhia multinacional tem três fábricas que produzem o mesmo tipo de produto. A fábrica I é responsável por 30% do total produzido, a fábrica II produz 45% do total, e o restante vem da fábrica III. Cada uma das fábricas, no entanto, produz uma proporção de produtos que não atendem aos padrões estabelecidos pelas normas internacionais. Tais produtos são considerados \"defeituosos\" e correspondem a 1%, 2% e 1,5%, respectivamente, dos totais produzidos por fábrica.  No centro de distribuição, é feito o controle de qualidade da produção combinada das fábricas.\n",
    "\n",
    "    a. Qual é a probabilidade de encontrar um produto defeituoso durante a inspeção de qualidade?  \n",
    "    b. Se durante a inspeção encontrarmos um produto defeituoso, qual é a probabilidade de que ele tenha sido produzino na Fábrica II?\n",
    "    \n",
    "Pode entregar na de bayes"
   ]
  },
  {
   "cell_type": "markdown",
   "id": "090956fc",
   "metadata": {},
   "source": [
    "- letra a)\n",
    "\n",
    "Seja:\n",
    "     - A é um produto defeituoso\n",
    "     - F1 é a Fabrica 1\n",
    "     - F2 é a Fabrica 2\n",
    "     - F3 é a fabrica 3\n",
    "$$ P(A)= {P(A|F1)}{P(F1)}+{P(A|F2)}{P(F2)}+{P(A|F3)}{P(F3)} $$\n"
   ]
  },
  {
   "cell_type": "code",
   "execution_count": 68,
   "id": "d3da8f34",
   "metadata": {},
   "outputs": [
    {
     "name": "stdout",
     "output_type": "stream",
     "text": [
      "A probabilidade de encontrar um produto defeituoso é: 1.57 %\n"
     ]
    }
   ],
   "source": [
    "P_A=0.3*0.01+0.45*0.02+0.25*0.015\n",
    "print('A probabilidade de encontrar um produto defeituoso é:',round(P_A*100,2),'%')"
   ]
  },
  {
   "cell_type": "markdown",
   "id": "1a22c832",
   "metadata": {},
   "source": [
    "- letra b)\n",
    "\n",
    "Usando o teorema de Bayes (Sabendo que o produto é defeituoso, qual a probabilidade de ele ser da fabrica 2)\n",
    "\n",
    "$$ P(F2|A)= \\frac{P(A|F2)*P(F2)}{P(A)} $$"
   ]
  },
  {
   "cell_type": "code",
   "execution_count": 71,
   "id": "06d05927",
   "metadata": {},
   "outputs": [
    {
     "name": "stdout",
     "output_type": "stream",
     "text": [
      "A probabilidade de encontrar um produto defeituoso produzido na fábrica 2 é: 57.14 %\n"
     ]
    }
   ],
   "source": [
    "P_F2_A=0.02*0.45/P_A\n",
    "print('A probabilidade de encontrar um produto defeituoso produzido na fábrica 2 é:',round(P_F2_A*100,2),'%')"
   ]
  }
 ],
 "metadata": {
  "kernelspec": {
   "display_name": "Python 3",
   "language": "python",
   "name": "python3"
  },
  "language_info": {
   "codemirror_mode": {
    "name": "ipython",
    "version": 3
   },
   "file_extension": ".py",
   "mimetype": "text/x-python",
   "name": "python",
   "nbconvert_exporter": "python",
   "pygments_lexer": "ipython3",
   "version": "3.8.8"
  },
  "toc": {
   "base_numbering": 1,
   "nav_menu": {},
   "number_sections": true,
   "sideBar": true,
   "skip_h1_title": false,
   "title_cell": "Table of Contents",
   "title_sidebar": "Contents",
   "toc_cell": false,
   "toc_position": {},
   "toc_section_display": true,
   "toc_window_display": false
  },
  "varInspector": {
   "cols": {
    "lenName": 16,
    "lenType": 16,
    "lenVar": 40
   },
   "kernels_config": {
    "python": {
     "delete_cmd_postfix": "",
     "delete_cmd_prefix": "del ",
     "library": "var_list.py",
     "varRefreshCmd": "print(var_dic_list())"
    },
    "r": {
     "delete_cmd_postfix": ") ",
     "delete_cmd_prefix": "rm(",
     "library": "var_list.r",
     "varRefreshCmd": "cat(var_dic_list()) "
    }
   },
   "types_to_exclude": [
    "module",
    "function",
    "builtin_function_or_method",
    "instance",
    "_Feature"
   ],
   "window_display": false
  }
 },
 "nbformat": 4,
 "nbformat_minor": 5
}

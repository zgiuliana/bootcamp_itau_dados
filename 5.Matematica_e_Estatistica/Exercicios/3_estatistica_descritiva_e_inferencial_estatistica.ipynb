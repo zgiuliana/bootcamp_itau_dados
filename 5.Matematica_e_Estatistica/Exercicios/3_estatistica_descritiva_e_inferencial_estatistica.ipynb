{
 "cells": [
  {
   "cell_type": "code",
   "execution_count": 12,
   "metadata": {},
   "outputs": [],
   "source": [
    "from scipy.stats import norm\n",
    "import numpy as np\n",
    "import pandas as pd\n",
    "import random\n",
    "from sklearn import datasets\n",
    "import matplotlib.pyplot as plt\n",
    "import seaborn as sns\n",
    "from random import sample\n",
    "plt.style.use('seaborn-whitegrid')"
   ]
  },
  {
   "cell_type": "markdown",
   "metadata": {},
   "source": [
    "### 1\n",
    "Em uma determinada população, utilizando-se técnicas de amostragem, constatou-se que a altura média das pessoas é de 168cm, com uma margem de erro de 10cm para mais ou para menos. Assinale a alternativa que mais corretamente interpreta esse resultado\n",
    "\n",
    "Alternativas\n",
    "- A probabilidade de o intervalo [158cm, 178cm] conter a média de altura da amostra é de 95%\n",
    "> errado\n",
    "- Em 95% das amostras obtidas, se esse processo fosse repetido um número grande de vezes, obteríamos como estimativa o valor de 168cm, com uma margem de erro de 10cm\n",
    "> errado\n",
    "- A probabilidade de um habitante dessa população ter entre 158cm e 178cm de altura é de 95%\n",
    "> errado\n",
    "- Existe uma chance de 95% de a altura média da população estar entre 158cm e 178cm\n",
    "> certo"
   ]
  },
  {
   "cell_type": "code",
   "execution_count": 4,
   "metadata": {},
   "outputs": [
    {
     "name": "stdout",
     "output_type": "stream",
     "text": [
      "158 178\n"
     ]
    }
   ],
   "source": [
    "confianca=0.95\n",
    "significancia=1-confianca\n",
    "probabilidade=confianca+significancia/2\n",
    "media_amostral=168\n",
    "e=10\n",
    "z=norm.ppf(probabilidade)\n",
    "limite_inferior=media_amostral-e\n",
    "limite_superior=media_amostral+e\n",
    "print(limite_inferior,limite_superior)"
   ]
  },
  {
   "cell_type": "markdown",
   "metadata": {},
   "source": [
    "### 3\n",
    "Para uma amostra contendo os seguintes valores: [1, 4, 5, 6, 10], estime a variância populacional"
   ]
  },
  {
   "cell_type": "code",
   "execution_count": 26,
   "metadata": {},
   "outputs": [
    {
     "data": {
      "text/plain": [
       "5.2"
      ]
     },
     "execution_count": 26,
     "metadata": {},
     "output_type": "execute_result"
    }
   ],
   "source": [
    "amostra=[1,4,5,6,10]\n",
    "n=len(amostra)\n",
    "media_amostra=np.mean(amostra)\n",
    "sigma_amostra=np.std(amostra)\n",
    "np.var(amostra)\n",
    "media_amostra"
   ]
  }
 ],
 "metadata": {
  "kernelspec": {
   "display_name": "Python 3",
   "language": "python",
   "name": "python3"
  },
  "language_info": {
   "codemirror_mode": {
    "name": "ipython",
    "version": 3
   },
   "file_extension": ".py",
   "mimetype": "text/x-python",
   "name": "python",
   "nbconvert_exporter": "python",
   "pygments_lexer": "ipython3",
   "version": "3.8.8"
  }
 },
 "nbformat": 4,
 "nbformat_minor": 4
}

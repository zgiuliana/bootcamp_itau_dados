{
 "cells": [
  {
   "cell_type": "markdown",
   "id": "bc58a8c6-43b6-41d2-8483-8b8f4cc24578",
   "metadata": {},
   "source": [
    "**Exercícios:** Enviar para o email filipe.furlan@letscode.com.br até **2021/08/09** o notebook (`matematica_firtsname_lastname_05_teorema_de_bayes.ipynb`) com a resolução dos exercicios abaixo."
   ]
  },
  {
   "cell_type": "markdown",
   "id": "ae89516f-1a9e-4726-bc53-2672eaea2dff",
   "metadata": {
    "ExecuteTime": {
     "end_time": "2021-08-02T14:01:02.776808Z",
     "start_time": "2021-08-02T14:01:02.764235Z"
    }
   },
   "source": [
    "Quando dois eventos são dependentes, temos que a probabilidade do evento A ocorrer, sabendo que o evento B ocorreu é dada por\n",
    "\n",
    "$$P(A|B)= \\frac{P(A\\cap B)}{P(B)}, $$\n",
    "\n",
    "que pode ser reescrita como\n",
    "\n",
    "\\begin{equation}\n",
    "P(A\\cap B) = P(A|B) × P(B). \\label{pab}\\tag{1}\n",
    "\\end{equation}\n",
    "\n",
    "Da mesma forma, podemos calcular a probabilidade do evento B ocorrer, dada a ocorrência de A com a expressão\n",
    "\n",
    "\\begin{equation}\n",
    "P(B \\cap A) = P(B|A) × P(A). \\label{pba}\\tag{2}\n",
    "\\end{equation}\n",
    "\n",
    "Igualando as Eqs. (\\ref{pab}) e (\\ref{pba}), encontramos a expressão matemática do teorema de Bayes\n",
    "\n",
    "\\begin{equation}\n",
    "P(A|B) = \\frac{P(B|A) × P(A)}{P(B)}, \\label{bayes}\n",
    "\\end{equation}\n",
    "\n",
    "que descreve a probabilidade de um evento, baseado em um conhecimento *a priori* que pode estar relacionado ao evento. Os termos dessa expressão são definidos como:\n",
    "\n",
    "- $P(A)$ e $P(B)$ são as probabilidades a priori de $A$ e $B$;\n",
    "- $P(A\\mid B)$ é a probabilidade a posteriori (probabilidade condicionada) de $A$ condicional a $B$;\n",
    "- $P(B\\mid A)$ é a probabilidade a posteriori (probabilidade condicionada) de $B$ condicional a $A$."
   ]
  },
  {
   "cell_type": "code",
   "execution_count": null,
   "id": "28a78da8-77da-42d9-9be8-b6d2c19fae83",
   "metadata": {},
   "outputs": [],
   "source": []
  },
  {
   "cell_type": "markdown",
   "id": "469c817f-a9f2-49de-9982-0eaaa53fc295",
   "metadata": {},
   "source": [
    "## Exemplo: Teste de drogas\n",
    "\n",
    "\\*encontrado [aqui](https://pt.wikipedia.org/wiki/Teorema_de_Bayes)"
   ]
  },
  {
   "cell_type": "markdown",
   "id": "0bc4daf4-fa1b-4913-9391-20ddc2af13cd",
   "metadata": {},
   "source": [
    "Seja um teste de drogas 99% sensível e 99% específico. Isto é, o teste produzirá 99% de resultados verdadeiros positivos para usuários de drogas e 99% de resultados verdadeiros negativos para não-usuários de drogas. Suponha que 0,5% das pessoas são usuárias de drogas. \n",
    "\n",
    "1. Se um indivíduo selecionado aleatoriamente testar positivo, qual a probabilidade de ele ser usuário de drogas? Isto é, qual a probabilidade de não se cometer um falso positivo?\n",
    "\n",
    "2. Caso o resultado não seja satisfatório, como melhorá-lo?"
   ]
  },
  {
   "cell_type": "markdown",
   "id": "3eaa94ed-9b87-4536-81e2-0de9844c70f4",
   "metadata": {},
   "source": [
    "### Teste"
   ]
  },
  {
   "cell_type": "markdown",
   "id": "00c4090a-9181-4622-922c-ad9e77708d47",
   "metadata": {},
   "source": [
    "|                | Usuário       | Não Usuário       |\n",
    "|----------------|---------------|-------------------|\n",
    "| Teste positivo | 99 %          |  1 %              |\n",
    "| Teste Negativo |  1 %          | 99 %              |"
   ]
  },
  {
   "cell_type": "markdown",
   "id": "2ada222d-19bb-4b9f-bae2-5c63db021a94",
   "metadata": {
    "ExecuteTime": {
     "end_time": "2021-08-02T16:10:45.312563Z",
     "start_time": "2021-08-02T16:10:45.300784Z"
    }
   },
   "source": [
    "### Na prática"
   ]
  },
  {
   "cell_type": "markdown",
   "id": "312738ac-53bc-4762-829f-727cfdd10725",
   "metadata": {},
   "source": [
    "   <center><img src=\"../images/Bayes_theorem_drugs_example_tree.png\" width=\"60%\" /></center>"
   ]
  },
  {
   "cell_type": "markdown",
   "id": "bc86a040-a383-4cfe-a2c9-0ddf5b0f689c",
   "metadata": {},
   "source": [
    "### Resolvendo"
   ]
  },
  {
   "cell_type": "markdown",
   "id": "12a93674-f893-4fb3-b258-8c85ad5c96d0",
   "metadata": {},
   "source": [
    "**1. Se um indivíduo selecionado aleatoriamente testar positivo, qual a probabilidade de ele ser usuário de drogas? Isto é, qual a probabilidade de não se cometer um falso positivo?**\n"
   ]
  },
  {
   "cell_type": "markdown",
   "id": "4e13dce8-8fa8-4917-b96a-f28f3f9bf687",
   "metadata": {},
   "source": [
    "Teorema de Bayes: $P(A|B) = \\frac{P(B|A) × P(A)}{P(B)}$"
   ]
  },
  {
   "cell_type": "markdown",
   "id": "ff821020-04ec-4780-9953-86e726a5b8df",
   "metadata": {},
   "source": [
    "A = U  \n",
    "B = +\n",
    "\n",
    "$P(U|+) = \\frac{P(+|U) × P(U)}{P(+)}$\n",
    "\n",
    "Do diagrama, temos que $P(+|U) × P(U) = 0,5\\% x 99\\% = 0,495\\%$. \n",
    "\n",
    "Ainda no diagrama e usando a expressão da prob. condicional, temos que\n",
    "\n",
    "$P(+) = P(+ \\cap U) + P(+ \\cap \\bar{U}) = P(+|U)P(U) + P(+|\\bar{U})P(\\bar{U}) = 0.495\\% + 0.995\\%$"
   ]
  },
  {
   "cell_type": "code",
   "execution_count": 2,
   "id": "455431df-8e9f-421e-8deb-e19e3b3ebecc",
   "metadata": {
    "ExecuteTime": {
     "end_time": "2021-08-02T19:32:39.800494Z",
     "start_time": "2021-08-02T19:32:39.783976Z"
    }
   },
   "outputs": [
    {
     "data": {
      "text/plain": [
       "33.22147651006711"
      ]
     },
     "execution_count": 2,
     "metadata": {},
     "output_type": "execute_result"
    }
   ],
   "source": [
    "P_pos_u = 0.495\n",
    "\n",
    "P_pos_nu = 0.995\n",
    "\n",
    "P_u_pos = P_pos_u / (P_pos_u + P_pos_nu)\n",
    "\n",
    "P_u_pos * 100"
   ]
  },
  {
   "cell_type": "markdown",
   "id": "7e10288f-3d7d-447c-b2f8-89fb481a061a",
   "metadata": {},
   "source": [
    "**2. Caso o resultado não seja satisfatório, como melhorá-lo?**\n",
    "\n",
    "    A. Aumentando a especificidade:\n",
    "    \n",
    "    B. Aumentando a sensibilidade:"
   ]
  },
  {
   "cell_type": "code",
   "execution_count": 3,
   "id": "82cc078a-3c37-45fa-9589-7ac7f186d0d5",
   "metadata": {
    "ExecuteTime": {
     "end_time": "2021-08-02T19:37:05.236661Z",
     "start_time": "2021-08-02T19:37:05.229393Z"
    }
   },
   "outputs": [
    {
     "data": {
      "text/plain": [
       "33.22147651006711"
      ]
     },
     "execution_count": 3,
     "metadata": {},
     "output_type": "execute_result"
    }
   ],
   "source": [
    "# especificidade: VP\n",
    "VP = 0.99\n",
    "\n",
    "# sensibilidade: FP\n",
    "FP = 0.01\n",
    "\n",
    "P_pos_u  = 0.005 * VP\n",
    "P_pos_nu = 0.995 * FP\n",
    "\n",
    "P_u_pos = P_pos_u / (P_pos_u + P_pos_nu)\n",
    "\n",
    "P_u_pos * 100"
   ]
  },
  {
   "cell_type": "code",
   "execution_count": 4,
   "id": "523f96fc-d23b-4dd1-afd1-1db3d528f278",
   "metadata": {
    "ExecuteTime": {
     "end_time": "2021-08-02T19:38:18.820419Z",
     "start_time": "2021-08-02T19:38:18.806432Z"
    }
   },
   "outputs": [
    {
     "data": {
      "text/plain": [
       "33.44481605351171"
      ]
     },
     "execution_count": 4,
     "metadata": {},
     "output_type": "execute_result"
    }
   ],
   "source": [
    "# A. Aumentando a especificidade\n",
    "\n",
    "# o teste identifica todos os usuários\n",
    "\n",
    "# especificidade: VP\n",
    "VP = 1\n",
    "\n",
    "# sensibilidade: FP\n",
    "FP = 0.01\n",
    "\n",
    "P_pos_u  = 0.005 * VP\n",
    "P_pos_nu = 0.995 * FP\n",
    "\n",
    "P_u_pos = P_pos_u / (P_pos_u + P_pos_nu)\n",
    "\n",
    "P_u_pos * 100"
   ]
  },
  {
   "cell_type": "code",
   "execution_count": 5,
   "id": "49f93039-6351-4bba-80e1-759ebc537741",
   "metadata": {
    "ExecuteTime": {
     "end_time": "2021-08-02T19:39:14.126643Z",
     "start_time": "2021-08-02T19:39:14.120644Z"
    }
   },
   "outputs": [
    {
     "data": {
      "text/plain": [
       "49.874055415617136"
      ]
     },
     "execution_count": 5,
     "metadata": {},
     "output_type": "execute_result"
    }
   ],
   "source": [
    "# B. Aumentando a sensibilidade\n",
    "\n",
    "# o teste identifica todos os usuários\n",
    "\n",
    "# especificidade: VP\n",
    "VP = 0.99\n",
    "\n",
    "# sensibilidade: FP\n",
    "FP = 0.005\n",
    "\n",
    "P_pos_u  = 0.005 * VP\n",
    "P_pos_nu = 0.995 * FP\n",
    "\n",
    "P_u_pos = P_pos_u / (P_pos_u + P_pos_nu)\n",
    "\n",
    "P_u_pos * 100"
   ]
  },
  {
   "cell_type": "markdown",
   "id": "ce27a939-562e-4300-b392-02cc02fe8cf1",
   "metadata": {},
   "source": [
    "## Exercício: Teste para doenças"
   ]
  },
  {
   "cell_type": "markdown",
   "id": "d13061bc-82e7-4e55-b8b2-d10b15aae910",
   "metadata": {},
   "source": [
    "Consideremos que 1% das pessoas possui esta doença e, logo, 99% das pessoas não a possui. O teste detecta a doença em pessoas efetivamente doentes 90% das vezes e, consequentemente, não detecta a doença em pessoas doentes em 10% dos casos. Em pessoas não doentes, o teste detecta a doença (erradamente) `em 5% dos casos` e não detecta em 95% dos casos.\n",
    "\n",
    "1. Agora, vamos supor que você fez o teste e o resultado deu positivo. Como devemos interpretar este resultado?\n",
    "1. Como melhorar esse resultado?"
   ]
  },
  {
   "cell_type": "markdown",
   "id": "5c05ea22-10ba-4d08-add7-33788ff1c293",
   "metadata": {},
   "source": [
    "### Teste\n"
   ]
  },
  {
   "cell_type": "markdown",
   "id": "aef482b4-7af0-4d36-a3fe-ba40c0115ccd",
   "metadata": {},
   "source": [
    "|                | Pessoa Doente | Pessoa Não Doente |\n",
    "|----------------|---------------|-------------------|\n",
    "| Teste positivo | 90 %          | 5 %               |\n",
    "| Teste Negativo | 10 %          | 95 %              |"
   ]
  },
  {
   "cell_type": "markdown",
   "id": "8a1f4d89-786c-45c2-a3aa-266044117180",
   "metadata": {},
   "source": [
    "### Na prática"
   ]
  },
  {
   "cell_type": "markdown",
   "id": "623f31ce-2685-4bdb-b993-4cc382eb67bf",
   "metadata": {},
   "source": [
    "> "
   ]
  },
  {
   "cell_type": "markdown",
   "id": "8e8db567-93a8-4fa4-bff3-2098c2f8262c",
   "metadata": {},
   "source": [
    "### Resolvendo\n"
   ]
  },
  {
   "cell_type": "markdown",
   "id": "de190876-b6ab-4fab-81a5-a430bd63c00b",
   "metadata": {},
   "source": [
    "$P(D|+) = \\frac{P(+|D) × P(D)}{P(+)}$\n",
    "\n",
    "$P(+) = P(+|D) × P(D) + P(+|ND) × P(ND)$\n",
    "\n",
    "Onde:\n",
    "- P(D|+): probabilidade de estar doente, dado que o teste deu positivo.\n",
    "- P(+|D): probabilidade de o teste dar positivo em uma pessoa que está doente (informação sabida *a priori*).\n",
    "- P(+): Probabilidade do teste dar positivo.\n",
    "- P(D): Probabilidade da pessoa estar doente (na população geral).\n",
    "- P(ND): Probabilidade da pessão não estar doente (na população em geral)."
   ]
  },
  {
   "cell_type": "code",
   "execution_count": 2,
   "id": "8d69a840-7972-43dc-a725-0ba089f97f54",
   "metadata": {},
   "outputs": [
    {
     "name": "stdout",
     "output_type": "stream",
     "text": [
      "A probabilidade de a pessoa estar doente, dado que o teste deu positivo é 15.38%\n"
     ]
    }
   ],
   "source": [
    "p_maisd=0.9\n",
    "p_d=0.01\n",
    "p_nd=0.99\n",
    "p_maisnd=0.05\n",
    "p_mais=p_maisd*p_d+p_maisnd*p_nd\n",
    "p_dmais=p_maisd*p_d/p_mais\n",
    "\n",
    "print(f'A probabilidade de a pessoa estar doente, dado que o teste deu positivo é {round(p_dmais*100,2)}%')\n"
   ]
  },
  {
   "cell_type": "code",
   "execution_count": 7,
   "id": "439900c7-6694-4980-947b-13a43eaa03e5",
   "metadata": {},
   "outputs": [
    {
     "name": "stdout",
     "output_type": "stream",
     "text": [
      "Aumentando a especificidade, a probabilidade de a pessoa estar doente, dado que o teste deu positivo é 15.13%\n",
      "Aumentando a sensibilidade, a probabilidade de a pessoa estar doente, dado que o teste deu positivo é 94.79%\n"
     ]
    }
   ],
   "source": [
    "# especificidade: VP = verdadeiro ṕositivo\n",
    "VP = 0.9 #p_maisd\n",
    "\n",
    "# sensibilidade: FP = falso positivo\n",
    "FP = 0.05 #p_maisnd\n",
    "\n",
    "# A. Aumentando a especificidade\n",
    "# especificidade: VP\n",
    "VP = 1\n",
    "\n",
    "# sensibilidade: FP\n",
    "FP = 0.05\n",
    "\n",
    "p_mais=VP*p_d+FP*p_nd\n",
    "p_dmais=p_maisd*p_d/p_mais\n",
    "print(f'Aumentando a especificidade, a probabilidade de a pessoa estar doente, dado que o teste deu positivo é {round(p_dmais*100,2)}%')\n",
    "\n",
    "# B. Aumentando a sensibilidade\n",
    "# especificidade: VP\n",
    "VP = 0.9\n",
    "\n",
    "# sensibilidade: FP\n",
    "FP = 0.0005\n",
    "\n",
    "p_mais=VP*p_d+FP*p_nd\n",
    "p_dmais=p_maisd*p_d/p_mais\n",
    "p_dmais\n",
    "print(f'Aumentando a sensibilidade, a probabilidade de a pessoa estar doente, dado que o teste deu positivo é {round(p_dmais*100,2)}%')"
   ]
  },
  {
   "cell_type": "markdown",
   "id": "6805a870-ca44-46e9-91f2-5e411f0b862c",
   "metadata": {},
   "source": [
    "## Exercício: Controle de qualidade"
   ]
  },
  {
   "cell_type": "markdown",
   "id": "d65338bc-3c92-45ea-8351-3e4bc61b3747",
   "metadata": {},
   "source": [
    "Uma companhia multinacional tem três fábricas que produzem o mesmo tipo de produto. A fábrica I é responsável por 30% do total produzido, a fábrica II produz 45% do total, e o restante vem da fábrica III. Cada uma das fábricas, no entanto, produz uma proporção de produtos que não atendem aos padrões estabelecidos pelas normas internacionais. Tais produtos são considerados \"defeituosos\" e correspondem a 1%, 2% e 1,5%, respectivamente, dos totais produzidos por fábrica.\n",
    "\n",
    "No centro de distribuição, é feito o controle de qualidade da produção combinada das fábricas.\n",
    "\n",
    "1. Qual é a probabilidade de encontrar um produto defeituoso durante a inspeção de qualidade?\n",
    "2. Se durante a inspeção encontrarmos um produto defeituoso, qual é a probabilidade de que ele tenha sido produzino na Fábrica II?"
   ]
  },
  {
   "cell_type": "markdown",
   "id": "9db79879-3b1a-41c9-acca-53979b209be5",
   "metadata": {},
   "source": [
    "- letra a)\n",
    "\n",
    "Seja:\n",
    "     - A é um produto defeituoso\n",
    "     - F1 é a Fabrica 1\n",
    "     - F2 é a Fabrica 2\n",
    "     - F3 é a fabrica 3\n",
    "$$ P(A)= {P(A|F1)}{P(F1)}+{P(A|F2)}{P(F2)}+{P(A|F3)}{P(F3)} $$\n"
   ]
  },
  {
   "cell_type": "code",
   "execution_count": 68,
   "id": "8e966ce4-404b-45c7-9d2d-543672653465",
   "metadata": {},
   "outputs": [
    {
     "name": "stdout",
     "output_type": "stream",
     "text": [
      "A probabilidade de encontrar um produto defeituoso é: 1.57 %\n"
     ]
    }
   ],
   "source": [
    "P_A=0.3*0.01+0.45*0.02+0.25*0.015\n",
    "print('A probabilidade de encontrar um produto defeituoso é:',round(P_A*100,2),'%')"
   ]
  },
  {
   "cell_type": "markdown",
   "id": "fa26f7e8-143d-42f7-8e5b-8353f34554b2",
   "metadata": {},
   "source": [
    "- letra b)\n",
    "\n",
    "Usando o teorema de Bayes (Sabendo que o produto é defeituoso, qual a probabilidade de ele ser da fabrica 2)\n",
    "\n",
    "$$ P(F2|A)= \\frac{P(A|F2)*P(F2)}{P(A)} $$"
   ]
  },
  {
   "cell_type": "code",
   "execution_count": 71,
   "id": "d8976c1e-6123-48aa-9f80-d17144612502",
   "metadata": {},
   "outputs": [
    {
     "name": "stdout",
     "output_type": "stream",
     "text": [
      "A probabilidade de encontrar um produto defeituoso produzido na fábrica 2 é: 57.14 %\n"
     ]
    }
   ],
   "source": [
    "P_F2_A=0.02*0.45/P_A\n",
    "print('A probabilidade de encontrar um produto defeituoso produzido na fábrica 2 é:',round(P_F2_A*100,2),'%')"
   ]
  }
 ],
 "metadata": {
  "kernelspec": {
   "display_name": "Python 3",
   "language": "python",
   "name": "python3"
  },
  "language_info": {
   "codemirror_mode": {
    "name": "ipython",
    "version": 3
   },
   "file_extension": ".py",
   "mimetype": "text/x-python",
   "name": "python",
   "nbconvert_exporter": "python",
   "pygments_lexer": "ipython3",
   "version": "3.8.8"
  },
  "toc": {
   "base_numbering": 1,
   "nav_menu": {},
   "number_sections": true,
   "sideBar": true,
   "skip_h1_title": false,
   "title_cell": "Table of Contents",
   "title_sidebar": "Contents",
   "toc_cell": false,
   "toc_position": {
    "height": "calc(100% - 180px)",
    "left": "10px",
    "top": "150px",
    "width": "269.2px"
   },
   "toc_section_display": true,
   "toc_window_display": true
  },
  "varInspector": {
   "cols": {
    "lenName": 16,
    "lenType": 16,
    "lenVar": 40
   },
   "kernels_config": {
    "python": {
     "delete_cmd_postfix": "",
     "delete_cmd_prefix": "del ",
     "library": "var_list.py",
     "varRefreshCmd": "print(var_dic_list())"
    },
    "r": {
     "delete_cmd_postfix": ") ",
     "delete_cmd_prefix": "rm(",
     "library": "var_list.r",
     "varRefreshCmd": "cat(var_dic_list()) "
    }
   },
   "types_to_exclude": [
    "module",
    "function",
    "builtin_function_or_method",
    "instance",
    "_Feature"
   ],
   "window_display": false
  }
 },
 "nbformat": 4,
 "nbformat_minor": 5
}

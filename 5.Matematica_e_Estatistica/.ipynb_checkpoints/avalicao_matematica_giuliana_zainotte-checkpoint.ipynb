{
 "cells": [
  {
   "cell_type": "code",
   "execution_count": 1,
   "metadata": {
    "ExecuteTime": {
     "end_time": "2021-08-19T19:09:15.482035Z",
     "start_time": "2021-08-19T19:09:08.182005Z"
    }
   },
   "outputs": [],
   "source": [
    "import numpy as np\n",
    "import pandas as pd\n",
    "import random\n",
    "from sklearn import datasets\n",
    "import matplotlib.pyplot as plt\n",
    "import seaborn as sns\n",
    "from random import sample\n",
    "from scipy.stats import norm\n",
    "import numpy as np\n",
    "from scipy.stats import t as t_student\n",
    "plt.style.use('seaborn-whitegrid')"
   ]
  },
  {
   "cell_type": "markdown",
   "metadata": {},
   "source": [
    "# AEACNA - Matemática\n",
    "Atividade Especial para Acompanhamento Continuo do Nivel de Aprendizagem"
   ]
  },
  {
   "cell_type": "markdown",
   "metadata": {},
   "source": [
    "## Instruções\n",
    "\n",
    "1. Enviar para o email filipe.furlan@letscode.com.br até **2021/08/17 as 16:00** o notebook preenchido (avalicao_matematica_firstname_lastname.ipynb) com a resolução dos exercicios abaixo.\n",
    "\n",
    "\n",
    "2. Atividade individual com consulta ao material das aulas e livros/links de referência.\n"
   ]
  },
  {
   "cell_type": "markdown",
   "metadata": {},
   "source": [
    "# Questão 01 - 2,0 / 1.9"
   ]
  },
  {
   "cell_type": "markdown",
   "metadata": {},
   "source": [
    "Carregue os dados do dataset [`car_details`](https://s3-sa-east-1.amazonaws.com/lcpi/4fbc4943-7af3-4c42-9a21-4d9eb121a28d.csv) e, em seguida:\n",
    "\n",
    "a. Classifique as variáveis do dataset como quantitativas (contínua/discreta) ou qualitativas (ordinal/nominal);  \n",
    "b. Obtenha a média, a mediana e a moda das variáveis quantitativas e, em seguida, classifique cada uma dessas variáveis quanto à sua simetria.  \n",
    "c. Calcule os percentis do preço de venda dos carros. Em seguida, indique o percentual dos carros que podem ser adquiridos por um preço de até R\\\\$ 120.000,00.  \n",
    "d. Crie uma tabela de distribuição de frequências para a informação do preço de venda dos carros. Para isso, defina o número de classes, utilizando a Regra de Sturges."
   ]
  },
  {
   "cell_type": "code",
   "execution_count": 2,
   "metadata": {
    "ExecuteTime": {
     "end_time": "2021-08-19T19:09:15.547428Z",
     "start_time": "2021-08-19T19:09:15.483988Z"
    }
   },
   "outputs": [
    {
     "data": {
      "text/html": [
       "<div>\n",
       "<style scoped>\n",
       "    .dataframe tbody tr th:only-of-type {\n",
       "        vertical-align: middle;\n",
       "    }\n",
       "\n",
       "    .dataframe tbody tr th {\n",
       "        vertical-align: top;\n",
       "    }\n",
       "\n",
       "    .dataframe thead th {\n",
       "        text-align: right;\n",
       "    }\n",
       "</style>\n",
       "<table border=\"1\" class=\"dataframe\">\n",
       "  <thead>\n",
       "    <tr style=\"text-align: right;\">\n",
       "      <th></th>\n",
       "      <th>name</th>\n",
       "      <th>year</th>\n",
       "      <th>selling_price</th>\n",
       "      <th>km_driven</th>\n",
       "      <th>fuel</th>\n",
       "      <th>seller_type</th>\n",
       "      <th>transmission</th>\n",
       "      <th>owner</th>\n",
       "    </tr>\n",
       "  </thead>\n",
       "  <tbody>\n",
       "    <tr>\n",
       "      <th>0</th>\n",
       "      <td>Maruti 800 AC</td>\n",
       "      <td>2007</td>\n",
       "      <td>60000</td>\n",
       "      <td>70000</td>\n",
       "      <td>Petrol</td>\n",
       "      <td>Individual</td>\n",
       "      <td>Manual</td>\n",
       "      <td>First Owner</td>\n",
       "    </tr>\n",
       "    <tr>\n",
       "      <th>1</th>\n",
       "      <td>Maruti Wagon R LXI Minor</td>\n",
       "      <td>2007</td>\n",
       "      <td>135000</td>\n",
       "      <td>50000</td>\n",
       "      <td>Petrol</td>\n",
       "      <td>Individual</td>\n",
       "      <td>Manual</td>\n",
       "      <td>First Owner</td>\n",
       "    </tr>\n",
       "    <tr>\n",
       "      <th>2</th>\n",
       "      <td>Hyundai Verna 1.6 SX</td>\n",
       "      <td>2012</td>\n",
       "      <td>600000</td>\n",
       "      <td>100000</td>\n",
       "      <td>Diesel</td>\n",
       "      <td>Individual</td>\n",
       "      <td>Manual</td>\n",
       "      <td>First Owner</td>\n",
       "    </tr>\n",
       "    <tr>\n",
       "      <th>3</th>\n",
       "      <td>Datsun RediGO T Option</td>\n",
       "      <td>2017</td>\n",
       "      <td>250000</td>\n",
       "      <td>46000</td>\n",
       "      <td>Petrol</td>\n",
       "      <td>Individual</td>\n",
       "      <td>Manual</td>\n",
       "      <td>First Owner</td>\n",
       "    </tr>\n",
       "    <tr>\n",
       "      <th>4</th>\n",
       "      <td>Honda Amaze VX i-DTEC</td>\n",
       "      <td>2014</td>\n",
       "      <td>450000</td>\n",
       "      <td>141000</td>\n",
       "      <td>Diesel</td>\n",
       "      <td>Individual</td>\n",
       "      <td>Manual</td>\n",
       "      <td>Second Owner</td>\n",
       "    </tr>\n",
       "  </tbody>\n",
       "</table>\n",
       "</div>"
      ],
      "text/plain": [
       "                       name  year  selling_price  km_driven    fuel  \\\n",
       "0             Maruti 800 AC  2007          60000      70000  Petrol   \n",
       "1  Maruti Wagon R LXI Minor  2007         135000      50000  Petrol   \n",
       "2      Hyundai Verna 1.6 SX  2012         600000     100000  Diesel   \n",
       "3    Datsun RediGO T Option  2017         250000      46000  Petrol   \n",
       "4     Honda Amaze VX i-DTEC  2014         450000     141000  Diesel   \n",
       "\n",
       "  seller_type transmission         owner  \n",
       "0  Individual       Manual   First Owner  \n",
       "1  Individual       Manual   First Owner  \n",
       "2  Individual       Manual   First Owner  \n",
       "3  Individual       Manual   First Owner  \n",
       "4  Individual       Manual  Second Owner  "
      ]
     },
     "execution_count": 2,
     "metadata": {},
     "output_type": "execute_result"
    }
   ],
   "source": [
    "import pandas as pd\n",
    "df = pd.read_csv('../datasets/car_details.csv')\n",
    "df.head()\n"
   ]
  },
  {
   "cell_type": "markdown",
   "metadata": {},
   "source": [
    "### Letra a) 0.44 \n",
    "1. ***Qualitativa Ordinal:***\n",
    "\n",
    " 1. ***Qualitativa Nominal:***\n",
    "    - name\n",
    "    - fuel\n",
    "    - seller_type\n",
    "    - owner -> ordinal\n",
    "    - transmission\n",
    " 1. ***Quantitativa Contínua:***\n",
    "    - selling_price\n",
    "    - km_driven\n",
    "    \n",
    " 1. ***Quantitativa Discretas:***\n",
    "    - year\n"
   ]
  },
  {
   "cell_type": "markdown",
   "metadata": {},
   "source": [
    "### Letra b) 0.5"
   ]
  },
  {
   "cell_type": "code",
   "execution_count": 3,
   "metadata": {
    "ExecuteTime": {
     "end_time": "2021-08-19T19:09:16.140835Z",
     "start_time": "2021-08-19T19:09:15.550356Z"
    }
   },
   "outputs": [
    {
     "name": "stdout",
     "output_type": "stream",
     "text": [
      "2013.0907834101383 2014.0 0    2017\n",
      "dtype: int64\n"
     ]
    },
    {
     "data": {
      "text/plain": [
       "<AxesSubplot:xlabel='year', ylabel='Count'>"
      ]
     },
     "execution_count": 3,
     "metadata": {},
     "output_type": "execute_result"
    },
    {
     "data": {
      "image/png": "[encoded data removed]",
      "text/plain": [
       "<Figure size 432x288 with 1 Axes>"
      ]
     },
     "metadata": {},
     "output_type": "display_data"
    }
   ],
   "source": [
    "# year\n",
    "# media\n",
    "media=df['year'].mean()\n",
    "# mediana\n",
    "mediana=df['year'].median()\n",
    "# moda\n",
    "moda=df['year'].mode()\n",
    "print(media,mediana,moda)\n",
    "sns.histplot(df['year'],kde=True)\n",
    "# Assimétrica a esquerda"
   ]
  },
  {
   "cell_type": "code",
   "execution_count": 4,
   "metadata": {
    "ExecuteTime": {
     "end_time": "2021-08-19T19:09:16.776316Z",
     "start_time": "2021-08-19T19:09:16.143768Z"
    }
   },
   "outputs": [
    {
     "name": "stdout",
     "output_type": "stream",
     "text": [
      "504127.3117511521 350000.0 0    300000\n",
      "dtype: int64\n"
     ]
    },
    {
     "data": {
      "text/plain": [
       "<AxesSubplot:xlabel='selling_price', ylabel='Count'>"
      ]
     },
     "execution_count": 4,
     "metadata": {},
     "output_type": "execute_result"
    },
    {
     "data": {
      "image/png": "[encoded data removed]",
      "text/plain": [
       "<Figure size 432x288 with 1 Axes>"
      ]
     },
     "metadata": {},
     "output_type": "display_data"
    }
   ],
   "source": [
    "# selling_price\n",
    "# media\n",
    "media=df['selling_price'].mean()\n",
    "# mediana\n",
    "mediana=df['selling_price'].median()\n",
    "# moda\n",
    "moda=df['selling_price'].mode()\n",
    "print(media,mediana,moda)\n",
    "sns.histplot(df['selling_price'],kde=True)\n",
    "# Assimétrica a direita\n",
    "        "
   ]
  },
  {
   "cell_type": "code",
   "execution_count": 5,
   "metadata": {
    "ExecuteTime": {
     "end_time": "2021-08-19T19:09:17.439548Z",
     "start_time": "2021-08-19T19:09:16.779232Z"
    }
   },
   "outputs": [
    {
     "name": "stdout",
     "output_type": "stream",
     "text": [
      "66215.77741935484 60000.0 0    70000\n",
      "dtype: int64\n"
     ]
    },
    {
     "data": {
      "text/plain": [
       "<AxesSubplot:xlabel='km_driven', ylabel='Count'>"
      ]
     },
     "execution_count": 5,
     "metadata": {},
     "output_type": "execute_result"
    },
    {
     "data": {
      "image/png": "[encoded data removed]",
      "text/plain": [
       "<Figure size 432x288 with 1 Axes>"
      ]
     },
     "metadata": {},
     "output_type": "display_data"
    }
   ],
   "source": [
    "# km_driven\n",
    "# media\n",
    "media=df['km_driven'].mean()\n",
    "# mediana\n",
    "mediana=df['km_driven'].median()\n",
    "# moda\n",
    "moda=df['km_driven'].mode()\n",
    "print(media,mediana,moda)\n",
    "sns.histplot(df['km_driven'],kde=True)\n",
    "# Assimétrica a direita"
   ]
  },
  {
   "cell_type": "markdown",
   "metadata": {},
   "source": [
    "### Letra c) 0.5\n"
   ]
  },
  {
   "cell_type": "code",
   "execution_count": 6,
   "metadata": {
    "ExecuteTime": {
     "end_time": "2021-08-19T19:09:17.454188Z",
     "start_time": "2021-08-19T19:09:17.441530Z"
    }
   },
   "outputs": [
    {
     "data": {
      "text/plain": [
       "0.11    120000.0\n",
       "Name: selling_price, dtype: float64"
      ]
     },
     "execution_count": 6,
     "metadata": {},
     "output_type": "execute_result"
    }
   ],
   "source": [
    "# Percentis\n",
    "percentis=df['selling_price'].quantile([i/100 for i in range(1, 101)])\n",
    "percentis[percentis == 120000]"
   ]
  },
  {
   "cell_type": "markdown",
   "metadata": {},
   "source": [
    "### Letra d) 0.5\n",
    "#### Regra de Sturges\n",
    "\n",
    "$$k = 1 + \\frac{10}{3}\\log_{10}n$$\n",
    "\n",
    "- $k$ é o número de classes  \n",
    "- $n$ é o número de amostras"
   ]
  },
  {
   "cell_type": "code",
   "execution_count": 7,
   "metadata": {
    "ExecuteTime": {
     "end_time": "2021-08-19T19:09:17.512667Z",
     "start_time": "2021-08-19T19:09:17.456140Z"
    }
   },
   "outputs": [
    {
     "data": {
      "text/html": [
       "<div>\n",
       "<style scoped>\n",
       "    .dataframe tbody tr th:only-of-type {\n",
       "        vertical-align: middle;\n",
       "    }\n",
       "\n",
       "    .dataframe tbody tr th {\n",
       "        vertical-align: top;\n",
       "    }\n",
       "\n",
       "    .dataframe thead th {\n",
       "        text-align: right;\n",
       "    }\n",
       "</style>\n",
       "<table border=\"1\" class=\"dataframe\">\n",
       "  <thead>\n",
       "    <tr style=\"text-align: right;\">\n",
       "      <th></th>\n",
       "      <th>Frequência Absoluta (fi)</th>\n",
       "      <th>Frequência Relativa (fri)</th>\n",
       "      <th>Frequência Percentual (fp)</th>\n",
       "      <th>Frequência acumuluda % (pa)</th>\n",
       "    </tr>\n",
       "  </thead>\n",
       "  <tbody>\n",
       "    <tr>\n",
       "      <th>(11120.0, 703076.923]</th>\n",
       "      <td>3571</td>\n",
       "      <td>0.822811</td>\n",
       "      <td>82.281106</td>\n",
       "      <td>82.281106</td>\n",
       "    </tr>\n",
       "    <tr>\n",
       "      <th>(703076.923, 1386153.846]</th>\n",
       "      <td>578</td>\n",
       "      <td>0.133180</td>\n",
       "      <td>13.317972</td>\n",
       "      <td>95.599078</td>\n",
       "    </tr>\n",
       "    <tr>\n",
       "      <th>(1386153.846, 2069230.769]</th>\n",
       "      <td>96</td>\n",
       "      <td>0.022120</td>\n",
       "      <td>2.211982</td>\n",
       "      <td>97.811060</td>\n",
       "    </tr>\n",
       "    <tr>\n",
       "      <th>(2069230.769, 2752307.692]</th>\n",
       "      <td>39</td>\n",
       "      <td>0.008986</td>\n",
       "      <td>0.898618</td>\n",
       "      <td>98.709677</td>\n",
       "    </tr>\n",
       "    <tr>\n",
       "      <th>(3435384.615, 4118461.538]</th>\n",
       "      <td>18</td>\n",
       "      <td>0.004147</td>\n",
       "      <td>0.414747</td>\n",
       "      <td>99.124424</td>\n",
       "    </tr>\n",
       "    <tr>\n",
       "      <th>(2752307.692, 3435384.615]</th>\n",
       "      <td>15</td>\n",
       "      <td>0.003456</td>\n",
       "      <td>0.345622</td>\n",
       "      <td>99.470046</td>\n",
       "    </tr>\n",
       "    <tr>\n",
       "      <th>(4801538.462, 5484615.385]</th>\n",
       "      <td>11</td>\n",
       "      <td>0.002535</td>\n",
       "      <td>0.253456</td>\n",
       "      <td>99.723502</td>\n",
       "    </tr>\n",
       "    <tr>\n",
       "      <th>(4118461.538, 4801538.462]</th>\n",
       "      <td>9</td>\n",
       "      <td>0.002074</td>\n",
       "      <td>0.207373</td>\n",
       "      <td>99.930876</td>\n",
       "    </tr>\n",
       "    <tr>\n",
       "      <th>(5484615.385, 6167692.308]</th>\n",
       "      <td>1</td>\n",
       "      <td>0.000230</td>\n",
       "      <td>0.023041</td>\n",
       "      <td>99.953917</td>\n",
       "    </tr>\n",
       "    <tr>\n",
       "      <th>(7533846.154, 8216923.077]</th>\n",
       "      <td>1</td>\n",
       "      <td>0.000230</td>\n",
       "      <td>0.023041</td>\n",
       "      <td>99.976959</td>\n",
       "    </tr>\n",
       "    <tr>\n",
       "      <th>(8216923.077, 8900000.0]</th>\n",
       "      <td>1</td>\n",
       "      <td>0.000230</td>\n",
       "      <td>0.023041</td>\n",
       "      <td>100.000000</td>\n",
       "    </tr>\n",
       "    <tr>\n",
       "      <th>(6167692.308, 6850769.231]</th>\n",
       "      <td>0</td>\n",
       "      <td>0.000000</td>\n",
       "      <td>0.000000</td>\n",
       "      <td>100.000000</td>\n",
       "    </tr>\n",
       "    <tr>\n",
       "      <th>(6850769.231, 7533846.154]</th>\n",
       "      <td>0</td>\n",
       "      <td>0.000000</td>\n",
       "      <td>0.000000</td>\n",
       "      <td>100.000000</td>\n",
       "    </tr>\n",
       "  </tbody>\n",
       "</table>\n",
       "</div>"
      ],
      "text/plain": [
       "                            Frequência Absoluta (fi)  \\\n",
       "(11120.0, 703076.923]                           3571   \n",
       "(703076.923, 1386153.846]                        578   \n",
       "(1386153.846, 2069230.769]                        96   \n",
       "(2069230.769, 2752307.692]                        39   \n",
       "(3435384.615, 4118461.538]                        18   \n",
       "(2752307.692, 3435384.615]                        15   \n",
       "(4801538.462, 5484615.385]                        11   \n",
       "(4118461.538, 4801538.462]                         9   \n",
       "(5484615.385, 6167692.308]                         1   \n",
       "(7533846.154, 8216923.077]                         1   \n",
       "(8216923.077, 8900000.0]                           1   \n",
       "(6167692.308, 6850769.231]                         0   \n",
       "(6850769.231, 7533846.154]                         0   \n",
       "\n",
       "                            Frequência Relativa (fri)  \\\n",
       "(11120.0, 703076.923]                        0.822811   \n",
       "(703076.923, 1386153.846]                    0.133180   \n",
       "(1386153.846, 2069230.769]                   0.022120   \n",
       "(2069230.769, 2752307.692]                   0.008986   \n",
       "(3435384.615, 4118461.538]                   0.004147   \n",
       "(2752307.692, 3435384.615]                   0.003456   \n",
       "(4801538.462, 5484615.385]                   0.002535   \n",
       "(4118461.538, 4801538.462]                   0.002074   \n",
       "(5484615.385, 6167692.308]                   0.000230   \n",
       "(7533846.154, 8216923.077]                   0.000230   \n",
       "(8216923.077, 8900000.0]                     0.000230   \n",
       "(6167692.308, 6850769.231]                   0.000000   \n",
       "(6850769.231, 7533846.154]                   0.000000   \n",
       "\n",
       "                            Frequência Percentual (fp)  \\\n",
       "(11120.0, 703076.923]                        82.281106   \n",
       "(703076.923, 1386153.846]                    13.317972   \n",
       "(1386153.846, 2069230.769]                    2.211982   \n",
       "(2069230.769, 2752307.692]                    0.898618   \n",
       "(3435384.615, 4118461.538]                    0.414747   \n",
       "(2752307.692, 3435384.615]                    0.345622   \n",
       "(4801538.462, 5484615.385]                    0.253456   \n",
       "(4118461.538, 4801538.462]                    0.207373   \n",
       "(5484615.385, 6167692.308]                    0.023041   \n",
       "(7533846.154, 8216923.077]                    0.023041   \n",
       "(8216923.077, 8900000.0]                      0.023041   \n",
       "(6167692.308, 6850769.231]                    0.000000   \n",
       "(6850769.231, 7533846.154]                    0.000000   \n",
       "\n",
       "                            Frequência acumuluda % (pa)  \n",
       "(11120.0, 703076.923]                         82.281106  \n",
       "(703076.923, 1386153.846]                     95.599078  \n",
       "(1386153.846, 2069230.769]                    97.811060  \n",
       "(2069230.769, 2752307.692]                    98.709677  \n",
       "(3435384.615, 4118461.538]                    99.124424  \n",
       "(2752307.692, 3435384.615]                    99.470046  \n",
       "(4801538.462, 5484615.385]                    99.723502  \n",
       "(4118461.538, 4801538.462]                    99.930876  \n",
       "(5484615.385, 6167692.308]                    99.953917  \n",
       "(7533846.154, 8216923.077]                    99.976959  \n",
       "(8216923.077, 8900000.0]                     100.000000  \n",
       "(6167692.308, 6850769.231]                   100.000000  \n",
       "(6850769.231, 7533846.154]                   100.000000  "
      ]
     },
     "execution_count": 7,
     "metadata": {},
     "output_type": "execute_result"
    }
   ],
   "source": [
    "# 1. Definir o numero de amostras n\n",
    "n = df.shape[0]\n",
    "# 2. calcular o k\n",
    "k = int(round(1 + 10 / 3 * np.log10(n)))\n",
    "# 3. criar categorias usando o cut\n",
    "# 4. criar uma coluna com os BINS na tabela df\n",
    "df['bins'] = pd.cut(x=df['selling_price'], bins=k)\n",
    "# 3. calcula as frequencias\n",
    "fi = df['bins'].value_counts()\n",
    "fri = df['bins'].value_counts(normalize=True)\n",
    "fp = fri * 100\n",
    "fa = fp.cumsum()\n",
    "# 5. cria a tabela de frequencias\n",
    "dist_freq_selling_price_bin = pd.DataFrame({'Frequência Absoluta (fi)': fi, \n",
    "                                  'Frequência Relativa (fri)': fri,\n",
    "                                  'Frequência Percentual (fp)': fp,\n",
    "                                    'Frequência acumuluda % (pa)': fa})\n",
    "dist_freq_selling_price_bin"
   ]
  },
  {
   "cell_type": "markdown",
   "metadata": {},
   "source": [
    "# Questão 02 - 2,0 / 2.0\n"
   ]
  },
  {
   "cell_type": "markdown",
   "metadata": {},
   "source": [
    "\n",
    "De 50.000 válvulas fabricadas por uma companhia retira-se uma amostra de 400 válvulas, e obtém a vida média de 800 horas e o desvio padrão de 100 horas.\n",
    "\n",
    "a. Qual o intervalo de conﬁança de 99% para a vida média da população? Explique com suas palavras o que esse intervalo de confiança significa.  \n",
    "b. Que tamanho deve ter a amostra para que o erro máximo seja de 7,84 horas, com uma confiança de 95%?  "
   ]
  },
  {
   "cell_type": "markdown",
   "metadata": {},
   "source": [
    "### Letra a)"
   ]
  },
  {
   "cell_type": "code",
   "execution_count": 8,
   "metadata": {
    "ExecuteTime": {
     "end_time": "2021-08-19T19:09:17.530238Z",
     "start_time": "2021-08-19T19:09:17.516571Z"
    }
   },
   "outputs": [
    {
     "name": "stdout",
     "output_type": "stream",
     "text": [
      "(787.12, 812.88)\n",
      "A média de vida média das válvulas está entre 787.12 e 812.88 com 99 % de certeza\n"
     ]
    }
   ],
   "source": [
    "n=400\n",
    "media_amostra=800\n",
    "sigma=100\n",
    "confianca=0.99\n",
    "significancia=1-confianca\n",
    "probabilidade=confianca+significancia/2\n",
    "z=norm.ppf(probabilidade)\n",
    "e=z*sigma/np.sqrt(n)\n",
    "lm_s=media_amostra+e\n",
    "lm_i=media_amostra-e\n",
    "print((round(lm_i,2),round(lm_s,2)))\n",
    "print(f'A média de vida média das válvulas está entre {round(lm_i,2)} e {round(lm_s,2)} com 99 % de certeza')"
   ]
  },
  {
   "cell_type": "markdown",
   "metadata": {},
   "source": [
    "### Letra b)"
   ]
  },
  {
   "cell_type": "code",
   "execution_count": 9,
   "metadata": {
    "ExecuteTime": {
     "end_time": "2021-08-19T19:09:17.543903Z",
     "start_time": "2021-08-19T19:09:17.533162Z"
    }
   },
   "outputs": [
    {
     "name": "stdout",
     "output_type": "stream",
     "text": [
      "O tamanho da amostra deve ser 625\n"
     ]
    }
   ],
   "source": [
    "mu=media_amostra\n",
    "e=7.84\n",
    "confianca=0.95\n",
    "significancia=1-confianca\n",
    "probabilidade=confianca+significancia/2\n",
    "z=norm.ppf(probabilidade)\n",
    "n=round((z*sigma/e)**2)\n",
    "print(f'O tamanho da amostra deve ser {n}')"
   ]
  },
  {
   "cell_type": "markdown",
   "metadata": {},
   "source": [
    "# Questão 03 - 2,0 / 2.0\n"
   ]
  },
  {
   "cell_type": "markdown",
   "metadata": {},
   "source": [
    "Na indústria cerâmica, avalia-se sistematicamente a resistência de amostras de massas cerâmicas, após o processo de queima. Dessas avaliações, sabe-se que certo tipo de massa tem resistência mecânica aproximadamente normal, com **média populacional de 53 MPa** e **variância populacional de 16 MPa²**. Após a troca de alguns fornecedores de matérias-primas, deseja-se **verificar se houve alteração na qualidade** (se a média deixou de ser 53 MPa). Uma **amostra de 15** corpos de prova de massa cerâmica acusou **média igual a 50 MPa**. Qual é a conclusão ao nível de significância de 5%?"
   ]
  },
  {
   "cell_type": "markdown",
   "metadata": {},
   "source": [
    " ## Passo 1 - formulação das hipóteses $H_0$ e $H_1$\n",
    "\n",
    "* Lembre-se, a hipótese nula sempre contém a alegação de igualdade\n",
    ">* $H_0: \\mu = 53$\n",
    ">* $H_1: \\mu \\neq 53$\n",
    "\n",
    "### Passo 2 - escolha da distribuição amostral adequada\n",
    "O tamanho da amostra é maior que 30?\n",
    "> Não, n=15\n",
    "\n",
    "O desvio padrão populacional é conhecido?\n",
    "> Sim\n",
    "\n",
    "Distribuição escolhida\n",
    ">$\\bar{x} \\pm z \\frac{\\sigma}{\\sqrt{n}}$"
   ]
  },
  {
   "cell_type": "code",
   "execution_count": 21,
   "metadata": {
    "ExecuteTime": {
     "end_time": "2021-08-19T19:13:32.794232Z",
     "start_time": "2021-08-19T19:13:32.783470Z"
    }
   },
   "outputs": [
    {
     "name": "stdout",
     "output_type": "stream",
     "text": [
      "H0: rejeitado.\n",
      "Houve Alteração da Qualidade.\n",
      "-2.904737509655563 1.959963984540054 -1.959963984540054\n"
     ]
    }
   ],
   "source": [
    "mu0=53\n",
    "var=16\n",
    "sigma=np.sqrt(var)\n",
    "n=15\n",
    "x_bar=50\n",
    "graus_de_liberdade=n-1\n",
    "significancia=0.05\n",
    "confianca=1-significancia\n",
    "probabilidade=confianca+significancia/2\n",
    "z_alpha=norm.ppf(probabilidade)\n",
    "z=(x_bar-mu0)/(sigma/np.sqrt(n))\n",
    "# rejeitar se z<=-z_alpha or z>=z_alpha\n",
    "if z<=-z_alpha or z>=z_alpha:\n",
    "    print('H0: rejeitado.\\nHouve Alteração da Qualidade.')\n",
    "else:\n",
    "    print('H0: confirmado\\nHouve Alteração da Qualidade.')"
   ]
  },
  {
   "cell_type": "markdown",
   "metadata": {},
   "source": [
    "# Questão 04 - 2,0 / 2.0"
   ]
  },
  {
   "cell_type": "markdown",
   "metadata": {},
   "source": [
    "Você é um pesquisador que estuda o mercado de trabalho brasileiro e resolve estudar as diferenças salariais dos trabalhadores dos estados do Rio de Janeiro e de São Paulo. Durante sua pesquisa você verifica que, aparentemente, os rendimentos dos trabalhadores no estado do Rio de Janeiro são mais baixos que os rendimentos dos trabalhadores no estado de São Paulo. Para confirmar esta conclusão realize um teste de hipótese de comparação de médias em cima de duas amostras de trabalhadores dos dois estados. Siga as seguintes etapas:\n",
    "\n",
    "- Selecione duas amostras de **500 trabalhadores** para cada um dos dois estados (variável UF) para realizar o teste. Utilize o **parâmetro random_state=101**.\n",
    "- Considere o **nível de significância de 5%**.\n",
    "- Teste a hipótese de que a **renda média dos trabalhadores do Rio de Janeiro é menor que a renda média dos trabalhadores de São Paulo**.\n",
    "\n",
    "> [Link para o dataset](https://s3-sa-east-1.amazonaws.com/lcpi/360d2eaa-970a-4204-8004-53bb42af101a.csv).\n",
    "\n",
    "> **OBS.:** Os dados da dataset referentes à UF foram convertidos (de categóricos para numéricos), portanto, utilize a tabela abaixo para identificar SP e RJ:\n",
    "\n",
    "|Código|Descrição|\n",
    "|---|---|\n",
    "|11|Rondônia|\n",
    "|12|Acre|\n",
    "|13|Amazonas|\n",
    "|14|Roraima|\n",
    "|15|Pará|\n",
    "|16|Amapá|\n",
    "|17|Tocantins|\n",
    "|21|Maranhão|\n",
    "|22|Piauí|\n",
    "|23|Ceará|\n",
    "|24|Rio Grande do Norte|\n",
    "|25|Paraíba|\n",
    "|26|Pernambuco|\n",
    "|27|Alagoas|\n",
    "|28|Sergipe|\n",
    "|29|Bahia|\n",
    "|31|Minas Gerais|\n",
    "|32|Espírito Santo|\n",
    "|33|Rio de Janeiro|\n",
    "|35|São Paulo|\n",
    "|41|Paraná|\n",
    "|42|Santa Catarina|\n",
    "|43|Rio Grande do Sul|\n",
    "|50|Mato Grosso do Sul|\n",
    "|51|Mato Grosso|\n",
    "|52|Goiás|\n",
    "|53|Distrito Federal|"
   ]
  },
  {
   "cell_type": "code",
   "execution_count": 11,
   "metadata": {
    "ExecuteTime": {
     "end_time": "2021-08-19T19:09:17.665930Z",
     "start_time": "2021-08-19T19:09:17.564397Z"
    }
   },
   "outputs": [
    {
     "data": {
      "text/html": [
       "<div>\n",
       "<style scoped>\n",
       "    .dataframe tbody tr th:only-of-type {\n",
       "        vertical-align: middle;\n",
       "    }\n",
       "\n",
       "    .dataframe tbody tr th {\n",
       "        vertical-align: top;\n",
       "    }\n",
       "\n",
       "    .dataframe thead th {\n",
       "        text-align: right;\n",
       "    }\n",
       "</style>\n",
       "<table border=\"1\" class=\"dataframe\">\n",
       "  <thead>\n",
       "    <tr style=\"text-align: right;\">\n",
       "      <th></th>\n",
       "      <th>UF</th>\n",
       "      <th>Sexo</th>\n",
       "      <th>Idade</th>\n",
       "      <th>Cor</th>\n",
       "      <th>Anos de Estudo</th>\n",
       "      <th>Renda</th>\n",
       "      <th>Altura</th>\n",
       "    </tr>\n",
       "  </thead>\n",
       "  <tbody>\n",
       "    <tr>\n",
       "      <th>0</th>\n",
       "      <td>11</td>\n",
       "      <td>0</td>\n",
       "      <td>23</td>\n",
       "      <td>8</td>\n",
       "      <td>12</td>\n",
       "      <td>800</td>\n",
       "      <td>1.603808</td>\n",
       "    </tr>\n",
       "    <tr>\n",
       "      <th>1</th>\n",
       "      <td>11</td>\n",
       "      <td>1</td>\n",
       "      <td>23</td>\n",
       "      <td>2</td>\n",
       "      <td>12</td>\n",
       "      <td>1150</td>\n",
       "      <td>1.739790</td>\n",
       "    </tr>\n",
       "    <tr>\n",
       "      <th>2</th>\n",
       "      <td>11</td>\n",
       "      <td>1</td>\n",
       "      <td>35</td>\n",
       "      <td>8</td>\n",
       "      <td>15</td>\n",
       "      <td>880</td>\n",
       "      <td>1.760444</td>\n",
       "    </tr>\n",
       "    <tr>\n",
       "      <th>3</th>\n",
       "      <td>11</td>\n",
       "      <td>0</td>\n",
       "      <td>46</td>\n",
       "      <td>2</td>\n",
       "      <td>6</td>\n",
       "      <td>3500</td>\n",
       "      <td>1.783158</td>\n",
       "    </tr>\n",
       "    <tr>\n",
       "      <th>4</th>\n",
       "      <td>11</td>\n",
       "      <td>1</td>\n",
       "      <td>47</td>\n",
       "      <td>8</td>\n",
       "      <td>9</td>\n",
       "      <td>150</td>\n",
       "      <td>1.690631</td>\n",
       "    </tr>\n",
       "  </tbody>\n",
       "</table>\n",
       "</div>"
      ],
      "text/plain": [
       "   UF  Sexo  Idade  Cor  Anos de Estudo  Renda    Altura\n",
       "0  11     0     23    8              12    800  1.603808\n",
       "1  11     1     23    2              12   1150  1.739790\n",
       "2  11     1     35    8              15    880  1.760444\n",
       "3  11     0     46    2               6   3500  1.783158\n",
       "4  11     1     47    8               9    150  1.690631"
      ]
     },
     "execution_count": 11,
     "metadata": {},
     "output_type": "execute_result"
    }
   ],
   "source": [
    "df = pd.read_csv('../datasets/pnad_2015.csv')\n",
    "df.head()"
   ]
  },
  {
   "cell_type": "code",
   "execution_count": 12,
   "metadata": {
    "ExecuteTime": {
     "end_time": "2021-08-19T19:09:17.683476Z",
     "start_time": "2021-08-19T19:09:17.667853Z"
    }
   },
   "outputs": [],
   "source": [
    "df_sp=df[df['UF']==35].sample(500,random_state=101)\n",
    "df_rj=df[df['UF']==33].sample(500,random_state=101)"
   ]
  },
  {
   "cell_type": "markdown",
   "metadata": {},
   "source": [
    "### Passo 1 - formulação das hipóteses $H_0$ e $H_1$\n",
    "\n",
    "* Lembre-se, a hipótese nula sempre contém a alegação de igualdade\n",
    ">* $H_0: \\mu_s \\leq \\mu_r$ ou $H_0: \\mu_s - \\mu_r \\leq 0$\n",
    ">* $H_1: \\mu_s > \\mu_r$ ou $H_1: \\mu_s - \\mu_r > 0$\n",
    "\n",
    "### Passo 2 - escolha da distribuição amostral adequada\n",
    "O tamanho da amostra é maior que 30?\n",
    "> sim, n_r=500, n_s=500 então n=1000\n",
    "\n",
    "O desvio padrão populacional é conhecido?\n",
    "> Não, temos apenas o desvio das amostras\n",
    "\n",
    "Distribuição escolhida\n",
    ">$\\bar{x} \\pm z \\frac{s}{\\sqrt{n}}$"
   ]
  },
  {
   "cell_type": "code",
   "execution_count": 13,
   "metadata": {
    "ExecuteTime": {
     "end_time": "2021-08-19T19:09:17.699083Z",
     "start_time": "2021-08-19T19:09:17.687373Z"
    },
    "tags": []
   },
   "outputs": [
    {
     "name": "stdout",
     "output_type": "stream",
     "text": [
      "H0: Rejeitado. Logo, a renda média dos trabalhadores do Rio de Janeiro é menor que a renda média dos trabalhadores de São Paulo\n"
     ]
    }
   ],
   "source": [
    "media_sp=df_sp['Renda'].mean()\n",
    "sigma_sp=df_sp['Renda'].std()\n",
    "media_rj=df_rj['Renda'].mean()\n",
    "sigma_rj=df_rj['Renda'].std()\n",
    "n=len(df_sp)+len(df_rj)\n",
    "nsp=len(df_sp)\n",
    "nrj=len(df_rj)\n",
    "graus_de_liberdade=n-2\n",
    "significancia=0.05\n",
    "confianca=1-significancia\n",
    "D0=0\n",
    "\n",
    "probabilidade=confianca\n",
    "# na tabela z_alpha=2.33\n",
    "z_alpha=norm.ppf(probabilidade,)\n",
    "z_alpha\n",
    "z = ((media_sp-media_rj)-D0)/np.sqrt(((sigma_sp**2)/nsp)+((sigma_rj**2)/nrj))\n",
    "if z>=z_alpha:\n",
    "    print('H0: Rejeitado. Logo, a renda média dos trabalhadores do Rio de Janeiro é menor que a renda média dos trabalhadores de São Paulo')\n",
    "else:\n",
    "    print('H0: Aceito. Logo, a renda média dos trabalhadores do Rio de Janeiro é maior ou igual que a renda média dos trabalhadores de São Paulo')"
   ]
  },
  {
   "cell_type": "markdown",
   "metadata": {},
   "source": [
    "# Questão 05 - 2,0 / 1.5\n",
    "\n",
    "- não respondeu a d. :(\n",
    "- gostei da resolução! :)"
   ]
  },
  {
   "cell_type": "markdown",
   "metadata": {},
   "source": [
    "Após a finalização de um curso técnico, um estudante pediu a seu professor uma carta de recomendação para o primeiro emprego. Uma pesquisa de mercado aponta que há 80% de chances de obter o trabalho se receber uma recomendação excelente (E), 40% de chances se a recomendação for boa (B) e apenas 10% de chances se for fraca (F). \n",
    "\n",
    "Conversando com ex-alunos, o estudante estimou que as chances de receber uma recomendação excelente (E), boa (B) e fraca (F) são, respectivamente, 70%, 20% e 10%.\n",
    "\n",
    "Calcule a probabilidade:\n",
    "\n",
    "a. de que ele vá receber uma oferta de trabalho.  \n",
    "b. de a recomendação ter sido fraca, boa ou excelente dado que ele recebeu a oferta de trabalho.  \n",
    "c. de a recomendação ter sido fraca, boa ou excelente dado que ele **não** recebeu a oferta de trabalho.  \n",
    "d. As probabilidades de 70%, 20% e 10% respectivamente estimadas para a recomendação ser excelente (E), boa (B) ou fraca (F) foram alteradas nos dois itens acima, para mais ou para menos em função dos resultados que elas produziram. Como você explica a lógica dessas modificações?"
   ]
  },
  {
   "cell_type": "markdown",
   "metadata": {},
   "source": [
    "- $P(E)=0.7$\n",
    "- $P(B)=0.2$\n",
    "- $P(F)=0.1$\n",
    "- $P(O|E)=0.8$\n",
    "- $P(O|B)=0.4$\n",
    "- $P(O|F)=0.1$\n",
    "### Letra a)\n",
    "- Pela lei da probabilidade total:\n",
    "$$ P(O)=P(E)*P(O|E)+P(B)*P(O|B)+P(R)*P(O|R)$$"
   ]
  },
  {
   "cell_type": "code",
   "execution_count": 14,
   "metadata": {
    "ExecuteTime": {
     "end_time": "2021-08-19T19:09:17.709820Z",
     "start_time": "2021-08-19T19:09:17.701034Z"
    }
   },
   "outputs": [
    {
     "name": "stdout",
     "output_type": "stream",
     "text": [
      "A probabilidade de ele receber uma proposta de trabalho é: 65.00%\n"
     ]
    }
   ],
   "source": [
    "p_e=0.7\n",
    "p_b=0.2\n",
    "p_f=0.1\n",
    "p_oe=0.8\n",
    "p_ob=0.4\n",
    "p_of=0.1\n",
    "p_o=(p_e*p_oe)+(p_b*p_ob)+(p_f*p_of)\n",
    "print(f'A probabilidade de ele receber uma proposta de trabalho é: {p_o*100:.2f}%')"
   ]
  },
  {
   "cell_type": "markdown",
   "metadata": {},
   "source": [
    "### Letra b)\n",
    "\n",
    "### Teorema de Bayes\n",
    "\\begin{equation}\n",
    "P(A|B) = \\frac{P(B|A) × P(A)}{P(B)}, \\label{bayes}\n",
    "\\end{equation}\n",
    "- $P(E|O) = \\frac{P(O|E) × P(E)}{P(O)}$\n",
    "- $P(B|O) = \\frac{P(O|B) × P(B)}{P(O)}$\n",
    "- $P(F|O) = \\frac{P(O|F) × P(F)}{P(O)}$"
   ]
  },
  {
   "cell_type": "code",
   "execution_count": 15,
   "metadata": {
    "ExecuteTime": {
     "end_time": "2021-08-19T19:09:17.721531Z",
     "start_time": "2021-08-19T19:09:17.713724Z"
    }
   },
   "outputs": [
    {
     "name": "stdout",
     "output_type": "stream",
     "text": [
      "Probabilidade de a recomendação ter sido excelente dado que ele recebeu a oferta de trabalho: 86.15%\n",
      "Probabilidade de a recomendação ter sido boa dado que ele recebeu a oferta de trabalho: 12.31%\n",
      "Probabilidade de a recomendação ter sido fraca dado que ele recebeu a oferta de trabalho: 1.54%\n"
     ]
    }
   ],
   "source": [
    "p_eo=p_oe*p_e/p_o\n",
    "p_bo=p_ob*p_b/p_o\n",
    "p_fo=p_of*p_f/p_o\n",
    "print(f'Probabilidade de a recomendação ter sido excelente dado que ele recebeu a oferta de trabalho: {p_eo*100:.2f}%')\n",
    "print(f'Probabilidade de a recomendação ter sido boa dado que ele recebeu a oferta de trabalho: {p_bo*100:.2f}%')\n",
    "print(f'Probabilidade de a recomendação ter sido fraca dado que ele recebeu a oferta de trabalho: {p_fo*100:.2f}%')"
   ]
  },
  {
   "cell_type": "markdown",
   "metadata": {},
   "source": [
    "### Letra c)"
   ]
  },
  {
   "cell_type": "code",
   "execution_count": 16,
   "metadata": {
    "ExecuteTime": {
     "end_time": "2021-08-19T19:09:17.733287Z",
     "start_time": "2021-08-19T19:09:17.723482Z"
    }
   },
   "outputs": [
    {
     "name": "stdout",
     "output_type": "stream",
     "text": [
      "Probabilidade de a recomendação ter sido excelente dado que ele não recebeu a oferta de trabalho: 13.85%\n",
      "Probabilidade de a recomendação ter sido boa dado que ele não recebeu a oferta de trabalho: 87.69%\n",
      "Probabilidade de a recomendação ter sido fraca dado que ele não recebeu a oferta de trabalho: 98.46%\n"
     ]
    }
   ],
   "source": [
    "np_eo=1-p_eo\n",
    "np_bo=1-p_bo\n",
    "np_fo=1-p_fo\n",
    "print(f'Probabilidade de a recomendação ter sido excelente dado que ele não recebeu a oferta de trabalho: {np_eo*100:.2f}%')\n",
    "print(f'Probabilidade de a recomendação ter sido boa dado que ele não recebeu a oferta de trabalho: {np_bo*100:.2f}%')\n",
    "print(f'Probabilidade de a recomendação ter sido fraca dado que ele não recebeu a oferta de trabalho: {np_fo*100:.2f}%')\n"
   ]
  },
  {
   "cell_type": "markdown",
   "metadata": {},
   "source": [
    "### Letra d)\n",
    "d. As probabilidades de 70%, 20% e 10% respectivamente estimadas para a recomendação ser excelente (E), boa (B) ou fraca (F) foram alteradas nos dois itens acima, para mais ou para menos em função dos resultados que elas produziram. Como você explica a lógica dessas modificações?"
   ]
  },
  {
   "cell_type": "code",
   "execution_count": null,
   "metadata": {},
   "outputs": [],
   "source": []
  },
  {
   "cell_type": "markdown",
   "metadata": {},
   "source": [
    "# Nota: 9.4"
   ]
  },
  {
   "cell_type": "code",
   "execution_count": null,
   "metadata": {},
   "outputs": [],
   "source": []
  }
 ],
 "metadata": {
  "kernelspec": {
   "display_name": "Python 3",
   "language": "python",
   "name": "python3"
  },
  "language_info": {
   "codemirror_mode": {
    "name": "ipython",
    "version": 3
   },
   "file_extension": ".py",
   "mimetype": "text/x-python",
   "name": "python",
   "nbconvert_exporter": "python",
   "pygments_lexer": "ipython3",
   "version": "3.8.8"
  },
  "toc": {
   "base_numbering": 1,
   "nav_menu": {},
   "number_sections": true,
   "sideBar": true,
   "skip_h1_title": false,
   "title_cell": "Table of Contents",
   "title_sidebar": "Contents",
   "toc_cell": false,
   "toc_position": {
    "height": "calc(100% - 180px)",
    "left": "10px",
    "top": "150px",
    "width": "328px"
   },
   "toc_section_display": true,
   "toc_window_display": true
  },
  "varInspector": {
   "cols": {
    "lenName": 16,
    "lenType": 16,
    "lenVar": 40
   },
   "kernels_config": {
    "python": {
     "delete_cmd_postfix": "",
     "delete_cmd_prefix": "del ",
     "library": "var_list.py",
     "varRefreshCmd": "print(var_dic_list())"
    },
    "r": {
     "delete_cmd_postfix": ") ",
     "delete_cmd_prefix": "rm(",
     "library": "var_list.r",
     "varRefreshCmd": "cat(var_dic_list()) "
    }
   },
   "types_to_exclude": [
    "module",
    "function",
    "builtin_function_or_method",
    "instance",
    "_Feature"
   ],
   "window_display": false
  }
 },
 "nbformat": 4,
 "nbformat_minor": 4
}

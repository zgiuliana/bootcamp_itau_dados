{
 "cells": [
  {
   "cell_type": "markdown",
   "id": "c2d8aa29",
   "metadata": {},
   "source": [
    "# Central Limit Theorem (CLT)"
   ]
  },
  {
   "cell_type": "markdown",
   "id": "da4651a7",
   "metadata": {},
   "source": [
    "## Objetivo"
   ]
  },
  {
   "cell_type": "markdown",
   "id": "8404bf2a",
   "metadata": {},
   "source": [
    "1. Entender o funcionamento do [Teorema Central do Limite](https://pt.wikipedia.org/wiki/Teorema_central_do_limite) na prática."
   ]
  },
  {
   "cell_type": "code",
   "execution_count": 1,
   "id": "76bddc67",
   "metadata": {},
   "outputs": [],
   "source": [
    "import numpy as np\n",
    "import pandas as pd\n",
    "import random\n",
    "from sklearn import datasets\n",
    "import matplotlib.pyplot as plt\n",
    "import seaborn as sns\n",
    "from random import sample\n",
    "plt.style.use('seaborn-whitegrid')"
   ]
  },
  {
   "cell_type": "markdown",
   "id": "df5d8295",
   "metadata": {},
   "source": [
    "## O teorema"
   ]
  },
  {
   "cell_type": "markdown",
   "id": "0602c377",
   "metadata": {},
   "source": [
    "Para uma determinada população, meça uma característica de cada individuo (peso, altura, renda, idade, tamanho etc.).\n",
    "\n",
    "\n",
    "\n",
    "O CLT diz afirma que quando o tamanho da amostra aumenta, a distribuição amostral da sua média aproxima-se cada vez mais de uma distribuição normal. Este resultado é fundamental na teoria da inferência estatística.\n",
    "\n",
    "É importante observar que o CLT é válido **qualquer que seja a distribuição inicial dos dados!**\n",
    "\n",
    "\n",
    "![clt](../images/640px-IllustrationCentralTheorem.png)"
   ]
  },
  {
   "cell_type": "code",
   "execution_count": 2,
   "id": "461d7b54",
   "metadata": {},
   "outputs": [
    {
     "data": {
      "text/html": [
       "<div>\n",
       "<style scoped>\n",
       "    .dataframe tbody tr th:only-of-type {\n",
       "        vertical-align: middle;\n",
       "    }\n",
       "\n",
       "    .dataframe tbody tr th {\n",
       "        vertical-align: top;\n",
       "    }\n",
       "\n",
       "    .dataframe thead th {\n",
       "        text-align: right;\n",
       "    }\n",
       "</style>\n",
       "<table border=\"1\" class=\"dataframe\">\n",
       "  <thead>\n",
       "    <tr style=\"text-align: right;\">\n",
       "      <th></th>\n",
       "      <th>total_bill</th>\n",
       "      <th>tip</th>\n",
       "      <th>sex</th>\n",
       "      <th>smoker</th>\n",
       "      <th>day</th>\n",
       "      <th>time</th>\n",
       "      <th>size</th>\n",
       "    </tr>\n",
       "  </thead>\n",
       "  <tbody>\n",
       "    <tr>\n",
       "      <th>0</th>\n",
       "      <td>16.99</td>\n",
       "      <td>1.01</td>\n",
       "      <td>Female</td>\n",
       "      <td>No</td>\n",
       "      <td>Sun</td>\n",
       "      <td>Dinner</td>\n",
       "      <td>2</td>\n",
       "    </tr>\n",
       "    <tr>\n",
       "      <th>1</th>\n",
       "      <td>10.34</td>\n",
       "      <td>1.66</td>\n",
       "      <td>Male</td>\n",
       "      <td>No</td>\n",
       "      <td>Sun</td>\n",
       "      <td>Dinner</td>\n",
       "      <td>3</td>\n",
       "    </tr>\n",
       "    <tr>\n",
       "      <th>2</th>\n",
       "      <td>21.01</td>\n",
       "      <td>3.50</td>\n",
       "      <td>Male</td>\n",
       "      <td>No</td>\n",
       "      <td>Sun</td>\n",
       "      <td>Dinner</td>\n",
       "      <td>3</td>\n",
       "    </tr>\n",
       "    <tr>\n",
       "      <th>3</th>\n",
       "      <td>23.68</td>\n",
       "      <td>3.31</td>\n",
       "      <td>Male</td>\n",
       "      <td>No</td>\n",
       "      <td>Sun</td>\n",
       "      <td>Dinner</td>\n",
       "      <td>2</td>\n",
       "    </tr>\n",
       "    <tr>\n",
       "      <th>4</th>\n",
       "      <td>24.59</td>\n",
       "      <td>3.61</td>\n",
       "      <td>Female</td>\n",
       "      <td>No</td>\n",
       "      <td>Sun</td>\n",
       "      <td>Dinner</td>\n",
       "      <td>4</td>\n",
       "    </tr>\n",
       "  </tbody>\n",
       "</table>\n",
       "</div>"
      ],
      "text/plain": [
       "   total_bill   tip     sex smoker  day    time  size\n",
       "0       16.99  1.01  Female     No  Sun  Dinner     2\n",
       "1       10.34  1.66    Male     No  Sun  Dinner     3\n",
       "2       21.01  3.50    Male     No  Sun  Dinner     3\n",
       "3       23.68  3.31    Male     No  Sun  Dinner     2\n",
       "4       24.59  3.61  Female     No  Sun  Dinner     4"
      ]
     },
     "execution_count": 2,
     "metadata": {},
     "output_type": "execute_result"
    }
   ],
   "source": [
    "df = sns.load_dataset('tips')\n",
    "df.head()"
   ]
  },
  {
   "cell_type": "markdown",
   "id": "f5f000dd",
   "metadata": {},
   "source": [
    "Seja uma amostra aleatória ($x_1, x_2, \\cdots, x_n$) de uma variável aleatória $X$ com qualquer distribuição, média $\\mu$ e desvio padrão $\\sigma$. \n",
    "\n",
    "A medida que $n$ cresce, a distribuição de probabilidade da média amostral, $\\overline{X}$, se aproxima de uma Normal com média $\\mu$ e desvio padrão $\\frac{\\sigma}{\\sqrt{n}}$. Isto é $\\overline{X} \\sim N (\\mu, \\sigma^2/n)$.\n",
    "\n",
    "Se a transformação a baixo for realizada, então $Z \\sim N (0,1)$.\n",
    "\n",
    "$$Z = \\frac{\\overline{X} -\\mu}{\\sigma/\\sqrt{n}} $$\n"
   ]
  },
  {
   "cell_type": "code",
   "execution_count": null,
   "id": "a7743aa6",
   "metadata": {},
   "outputs": [],
   "source": []
  },
  {
   "cell_type": "markdown",
   "id": "d5b8a137",
   "metadata": {},
   "source": [
    "O **Teorema Central do Limite** afirma que, com o aumento do tamanho da amostra, a distribuição das médias amostrais se aproxima de uma distribuição normal com média igual à média da população e desvio padrão igual ao desvio padrão da variável original dividido pela raiz quadrada do tamanho da amostra. \n",
    "\n",
    "Este fato é assegurado para $n$ maior ou igual a 30.\n",
    "\n",
    "$$\\sigma_\\bar{x} = \\frac{\\sigma}{\\sqrt{n}}$$\n",
    "\n",
    "O desvio padrão das médias amostrais é conhecido como **erro padrão da média**"
   ]
  },
  {
   "cell_type": "code",
   "execution_count": null,
   "id": "90f7134a",
   "metadata": {},
   "outputs": [],
   "source": []
  },
  {
   "cell_type": "markdown",
   "id": "3370682b",
   "metadata": {},
   "source": [
    "# Valores de referência"
   ]
  },
  {
   "cell_type": "code",
   "execution_count": 3,
   "id": "36278300",
   "metadata": {
    "ExecuteTime": {
     "end_time": "2021-08-06T14:52:45.214199Z",
     "start_time": "2021-08-06T14:52:44.161305Z"
    }
   },
   "outputs": [],
   "source": [
    "import numpy as np\n",
    "import pandas as pd\n",
    "import seaborn as sns\n",
    "import scipy.stats as stats\n",
    "import matplotlib.pyplot as plt"
   ]
  },
  {
   "cell_type": "code",
   "execution_count": 4,
   "id": "17bd2782",
   "metadata": {
    "ExecuteTime": {
     "end_time": "2021-08-06T14:53:05.416537Z",
     "start_time": "2021-08-06T14:53:05.386568Z"
    }
   },
   "outputs": [],
   "source": [
    "df = sns.load_dataset('tips')"
   ]
  },
  {
   "cell_type": "markdown",
   "id": "e55767fe",
   "metadata": {},
   "source": [
    "1. Calcule a média (mu) e o desvio padrão (sigma) das gorjetas do dataset `tips`. "
   ]
  },
  {
   "cell_type": "code",
   "execution_count": 5,
   "id": "0526c3eb",
   "metadata": {
    "ExecuteTime": {
     "end_time": "2021-08-06T16:34:57.693542Z",
     "start_time": "2021-08-06T16:34:57.679160Z"
    }
   },
   "outputs": [
    {
     "name": "stdout",
     "output_type": "stream",
     "text": [
      "2.9982786885245902 1.3836381890011826\n"
     ]
    }
   ],
   "source": [
    "mu=df['tip'].mean()\n",
    "sigma=df['tip'].std()\n",
    "print(mu,sigma)"
   ]
  },
  {
   "cell_type": "markdown",
   "id": "c893a753",
   "metadata": {},
   "source": [
    "2. Faça o histograma das gorjetas. Ele parece uma curva normal?"
   ]
  },
  {
   "cell_type": "code",
   "execution_count": 6,
   "id": "de2266c6",
   "metadata": {
    "ExecuteTime": {
     "end_time": "2021-08-06T15:44:22.518269Z",
     "start_time": "2021-08-06T15:44:21.913614Z"
    }
   },
   "outputs": [
    {
     "data": {
      "text/plain": [
       "<AxesSubplot:xlabel='tip', ylabel='Count'>"
      ]
     },
     "execution_count": 6,
     "metadata": {},
     "output_type": "execute_result"
    },
    {
     "data": {
      "image/png": "[encoded data removed]",
      "text/plain": [
       "<Figure size 432x288 with 1 Axes>"
      ]
     },
     "metadata": {},
     "output_type": "display_data"
    }
   ],
   "source": [
    "sns.histplot(data=df,x='tip',kde=True)"
   ]
  },
  {
   "cell_type": "markdown",
   "id": "4172feca",
   "metadata": {},
   "source": [
    "# Amostragem"
   ]
  },
  {
   "cell_type": "markdown",
   "id": "9a97cf7a",
   "metadata": {},
   "source": [
    "## Sem repetição"
   ]
  },
  {
   "cell_type": "markdown",
   "id": "a0ffc0c0",
   "metadata": {},
   "source": [
    "1. Selecione aleatóriamente e **sem repetição** 10 linhas do dataset e calcule a média da amostra $\\bar{x}$."
   ]
  },
  {
   "cell_type": "code",
   "execution_count": 7,
   "id": "c5222d6d",
   "metadata": {
    "ExecuteTime": {
     "end_time": "2021-08-06T15:52:50.018731Z",
     "start_time": "2021-08-06T15:52:50.005170Z"
    }
   },
   "outputs": [
    {
     "data": {
      "text/plain": [
       "3.2630000000000003"
      ]
     },
     "execution_count": 7,
     "metadata": {},
     "output_type": "execute_result"
    }
   ],
   "source": [
    "df['tip'].sample(n=10,replace=False).mean()"
   ]
  },
  {
   "cell_type": "markdown",
   "id": "d4c5b8cb",
   "metadata": {},
   "source": [
    "## Com repetição"
   ]
  },
  {
   "cell_type": "markdown",
   "id": "5dee3a6f",
   "metadata": {},
   "source": [
    "1. Selecione aleatóriamente e **com reposição** 1000 linhas do dataset e calcule a média da amostra $\\bar{x}$."
   ]
  },
  {
   "cell_type": "code",
   "execution_count": 8,
   "id": "49504e46",
   "metadata": {
    "ExecuteTime": {
     "end_time": "2021-08-06T15:54:15.203693Z",
     "start_time": "2021-08-06T15:54:15.189707Z"
    }
   },
   "outputs": [
    {
     "data": {
      "text/plain": [
       "3.018060000000001"
      ]
     },
     "execution_count": 8,
     "metadata": {},
     "output_type": "execute_result"
    }
   ],
   "source": [
    "df['tip'].sample(n=1000,replace=True).mean()"
   ]
  },
  {
   "cell_type": "markdown",
   "id": "0f41188b",
   "metadata": {},
   "source": [
    "2. Quantas linhas temos no dataset?"
   ]
  },
  {
   "cell_type": "code",
   "execution_count": 9,
   "id": "afdc0820",
   "metadata": {
    "ExecuteTime": {
     "end_time": "2021-08-06T17:06:20.290205Z",
     "start_time": "2021-08-06T17:06:20.269288Z"
    }
   },
   "outputs": [
    {
     "data": {
      "text/plain": [
       "(244, 7)"
      ]
     },
     "execution_count": 9,
     "metadata": {},
     "output_type": "execute_result"
    }
   ],
   "source": [
    "df.shape"
   ]
  },
  {
   "cell_type": "markdown",
   "id": "5a600578",
   "metadata": {},
   "source": [
    "# Média das médias"
   ]
  },
  {
   "cell_type": "markdown",
   "id": "35236e28",
   "metadata": {},
   "source": [
    "Crie uma lista `means` que armazene as médias de $N$ amostras de tamanho amostral $n$.\n",
    "\n",
    "Começe com $N = 10$ amostras de tamanho $n = 5$.\n",
    "\n",
    "1. Na mesma célula, faça um gráfico da distribuição de `means`. \n",
    "1. Mantenha $n$ constante e aumente $N$. O que você observa?\n",
    "1. Mantenha $N$ constante e aumente $n$. O que você observa?"
   ]
  },
  {
   "cell_type": "code",
   "execution_count": 10,
   "id": "aa4c88b7",
   "metadata": {
    "ExecuteTime": {
     "end_time": "2021-08-06T16:03:25.482805Z",
     "start_time": "2021-08-06T16:03:25.052473Z"
    }
   },
   "outputs": [
    {
     "data": {
      "text/plain": [
       "<AxesSubplot:ylabel='Count'>"
      ]
     },
     "execution_count": 10,
     "metadata": {},
     "output_type": "execute_result"
    },
    {
     "data": {
      "image/png": "[encoded data removed]",
      "text/plain": [
       "<Figure size 432x288 with 1 Axes>"
      ]
     },
     "metadata": {},
     "output_type": "display_data"
    }
   ],
   "source": [
    "N=10 # amostras\n",
    "n=5 # tamanho amostral\n",
    "\n",
    "means=[df['tip'].sample(n=n,replace=True).mean() for i in range(N)]\n",
    "sns.histplot(means,kde=True)"
   ]
  },
  {
   "cell_type": "code",
   "execution_count": 11,
   "id": "274521f4",
   "metadata": {},
   "outputs": [
    {
     "data": {
      "text/plain": [
       "<AxesSubplot:ylabel='Count'>"
      ]
     },
     "execution_count": 11,
     "metadata": {},
     "output_type": "execute_result"
    },
    {
     "data": {
      "image/png": "[encoded data removed]",
      "text/plain": [
       "<Figure size 432x288 with 1 Axes>"
      ]
     },
     "metadata": {},
     "output_type": "display_data"
    }
   ],
   "source": [
    "N=1000 # amostras\n",
    "n=5 # tamanho amostral\n",
    "\n",
    "means=[df['tip'].sample(n=n,replace=True).mean() for i in range(N)]\n",
    "sns.histplot(means,kde=True)"
   ]
  },
  {
   "cell_type": "code",
   "execution_count": 12,
   "id": "96b27ef6",
   "metadata": {
    "ExecuteTime": {
     "end_time": "2021-08-06T16:22:23.735785Z",
     "start_time": "2021-08-06T16:22:22.019827Z"
    }
   },
   "outputs": [
    {
     "data": {
      "text/plain": [
       "<AxesSubplot:ylabel='Count'>"
      ]
     },
     "execution_count": 12,
     "metadata": {},
     "output_type": "execute_result"
    },
    {
     "data": {
      "image/png": "[encoded data removed]",
      "text/plain": [
       "<Figure size 432x288 with 1 Axes>"
      ]
     },
     "metadata": {},
     "output_type": "display_data"
    }
   ],
   "source": [
    "N=10 # amostras\n",
    "n=1000 # tamanho amostral\n",
    "\n",
    "means=[df['tip'].sample(n=n,replace=True).mean() for i in range(N)]\n",
    "sns.histplot(means,kde=True)"
   ]
  },
  {
   "cell_type": "code",
   "execution_count": 13,
   "id": "2a1c7c8a",
   "metadata": {},
   "outputs": [
    {
     "data": {
      "text/plain": [
       "<AxesSubplot:ylabel='Count'>"
      ]
     },
     "execution_count": 13,
     "metadata": {},
     "output_type": "execute_result"
    },
    {
     "data": {
      "image/png": "[encoded data removed]",
      "text/plain": [
       "<Figure size 432x288 with 1 Axes>"
      ]
     },
     "metadata": {},
     "output_type": "display_data"
    }
   ],
   "source": [
    "N=1000 # amostras\n",
    "n=1000 # tamanho amostral\n",
    "\n",
    "means=[df['tip'].sample(n=n,replace=True).mean() for i in range(N)]\n",
    "sns.histplot(means,kde=True)"
   ]
  },
  {
   "cell_type": "markdown",
   "id": "1ec94d56",
   "metadata": {},
   "source": [
    "# CLT na prática"
   ]
  },
  {
   "cell_type": "markdown",
   "id": "ab010546",
   "metadata": {},
   "source": [
    "1. Faça uma grade com 6 distribuições para  $ n \\in \\{ 1, 5, 50, 100, 500, 1000 \\}$."
   ]
  },
  {
   "cell_type": "code",
   "execution_count": 14,
   "id": "7ca80543",
   "metadata": {},
   "outputs": [
    {
     "data": {
      "image/png": "[encoded data removed]",
      "text/plain": [
       "<Figure size 1008x576 with 6 Axes>"
      ]
     },
     "metadata": {},
     "output_type": "display_data"
    }
   ],
   "source": [
    "N=1000 # amostras\n",
    "n_list=[1,5,50,100,500,1000] # tamanho amostral\n",
    "\n",
    "fig,axes=plt.subplots(2,3,figsize=(14,8))\n",
    "\n",
    "for n,ax in zip(n_list, axes.flat):\n",
    "    means=[df['tip'].sample(n=n,replace=True).mean() for i in range(N)]\n",
    "    sns.histplot(means,kde=True,ax=ax)\n",
    "    ax.set_title(f'n={n}')\n",
    "    ax.set_xlim(1,6)\n",
    "    ax.set_xlabel('médias')\n",
    "plt.tight_layout()"
   ]
  },
  {
   "cell_type": "markdown",
   "id": "56d836d7",
   "metadata": {},
   "source": [
    "# Verificando o CLT"
   ]
  },
  {
   "cell_type": "markdown",
   "id": "1c0c12ba",
   "metadata": {},
   "source": [
    "Vamos verificar o Teorema do Limite Central computacionalmente:\n",
    "\n",
    "Para cada valor de $n$:\n",
    "- Compare `mu` com a média das médias $\\bar{x}$;\n",
    "- Compare `sigma` com o desvio padrão das médias (não esqueça o fator $\\sqrt{n}$)."
   ]
  },
  {
   "cell_type": "code",
   "execution_count": 15,
   "id": "2f193b73",
   "metadata": {
    "ExecuteTime": {
     "end_time": "2021-08-06T16:20:53.549958Z",
     "start_time": "2021-08-06T16:20:51.027951Z"
    }
   },
   "outputs": [
    {
     "name": "stdout",
     "output_type": "stream",
     "text": [
      "n =    1, 0.1942,0.0906\n",
      "n =    5, 0.0505,0.3176\n",
      "n =   50, 0.0053,0.1664\n",
      "n =  100, 0.0002,0.1241\n",
      "n =  500, 0.0057,0.0589\n",
      "n = 1000, 0.0006,0.0424\n"
     ]
    }
   ],
   "source": [
    "N=100 # amostras\n",
    "n_list=[1,5,50,100,500,1000] # tamanho amostral\n",
    "\n",
    "\n",
    "\n",
    "for n in n_list:\n",
    "    means=[df['tip'].sample(n=n,replace=True).mean() for i in range(N)]\n",
    "    x_bar=np.mean(means) #media das medias\n",
    "    sigma_bar=np.std(means)\n",
    "    erro_medias=round(abs(mu-x_bar),4)\n",
    "    erro_sigma=round(abs(sigma-sigma_bar),4)/np.sqrt(n)\n",
    "    print(f'n = {n:4}, {erro_medias:5.4f},{erro_sigma:5.4f}')"
   ]
  },
  {
   "cell_type": "code",
   "execution_count": null,
   "id": "d557a236",
   "metadata": {},
   "outputs": [],
   "source": []
  },
  {
   "cell_type": "markdown",
   "id": "30231b50",
   "metadata": {},
   "source": [
    "# Exemplo"
   ]
  },
  {
   "cell_type": "markdown",
   "id": "abe326f8",
   "metadata": {},
   "source": [
    "Imagine que você seja um garçon e que em determinado período tenha sido designado pelo gerente para atender 100 mesas. O valor médio da conta de suas mesas deu R$ 18,00 (`target`). Qual a chance disso acontecer?"
   ]
  },
  {
   "cell_type": "markdown",
   "id": "f5349f6a",
   "metadata": {},
   "source": [
    "Vamos supor que coletemos uma amostra de 100 contas da nossa população global com $\\mu$ and $\\sigma$ \n",
    "e que o valor médio das contas $\\mu_x$ seja R$ 18,00.\n",
    "\n",
    "Como seria o formato da distribuição das médias se nós repetissemos o processo de amostragem diversas vezes? Pense na forma, média e desvio padrão."
   ]
  },
  {
   "cell_type": "markdown",
   "id": "50614212",
   "metadata": {},
   "source": [
    "1. Faça um gráfico da distribuição da média das contas de 100 mesas aleatórias. Use stats.norm pra facilitar!\n",
    "1. Acrescente um ponto com a média das suas 100 mesas. O que vc pode concluir?"
   ]
  },
  {
   "cell_type": "code",
   "execution_count": 16,
   "id": "7c0c03f1",
   "metadata": {
    "ExecuteTime": {
     "end_time": "2021-08-06T16:35:53.102981Z",
     "start_time": "2021-08-06T16:35:52.748692Z"
    }
   },
   "outputs": [
    {
     "data": {
      "text/plain": [
       "<matplotlib.collections.PathCollection at 0x20212a7a280>"
      ]
     },
     "execution_count": 16,
     "metadata": {},
     "output_type": "execute_result"
    },
    {
     "data": {
      "image/png": "[encoded data removed]",
      "text/plain": [
       "<Figure size 432x288 with 1 Axes>"
      ]
     },
     "metadata": {},
     "output_type": "display_data"
    }
   ],
   "source": [
    "mu = df['total_bill'].mean()\n",
    "sigma = df['total_bill'].std()\n",
    "\n",
    "n=100\n",
    "target=18\n",
    "x=np.linspace(10,30,100)\n",
    "\n",
    "y=stats.norm.pdf(x,loc=mu,scale=(sigma/np.sqrt(n)))\n",
    "plt.plot(x,y)\n",
    "plt.scatter(target,stats.norm.pdf(target,loc=mu,scale=(sigma/np.sqrt(n))),c='r')"
   ]
  },
  {
   "cell_type": "markdown",
   "id": "0a0bd919",
   "metadata": {},
   "source": [
    "Nos vemos claramente que tal cenário é improvável. Vamos calcular a probabilidade."
   ]
  },
  {
   "cell_type": "code",
   "execution_count": 17,
   "id": "75270b56",
   "metadata": {
    "ExecuteTime": {
     "end_time": "2021-08-06T16:52:48.704067Z",
     "start_time": "2021-08-06T16:52:48.690600Z"
    }
   },
   "outputs": [
    {
     "data": {
      "text/plain": [
       "0.022421007000834076"
      ]
     },
     "execution_count": 17,
     "metadata": {},
     "output_type": "execute_result"
    }
   ],
   "source": [
    "stats.norm.cdf(target,loc=mu,scale=(sigma/np.sqrt(n)))"
   ]
  },
  {
   "cell_type": "code",
   "execution_count": null,
   "id": "4c9267bc",
   "metadata": {},
   "outputs": [],
   "source": []
  },
  {
   "cell_type": "markdown",
   "id": "c1d47f00",
   "metadata": {},
   "source": [
    "## Calcule usando o z-teste"
   ]
  },
  {
   "cell_type": "markdown",
   "id": "2c91f0e5",
   "metadata": {},
   "source": [
    "$$z={x-\\mu  \\over \\sigma }$$"
   ]
  },
  {
   "cell_type": "markdown",
   "id": "e1502435",
   "metadata": {},
   "source": [
    "1. Calcule Z para o valor de R$ 18,00. "
   ]
  },
  {
   "cell_type": "code",
   "execution_count": 18,
   "id": "d921ae6c",
   "metadata": {
    "ExecuteTime": {
     "end_time": "2021-08-06T16:55:36.347727Z",
     "start_time": "2021-08-06T16:55:36.333011Z"
    }
   },
   "outputs": [
    {
     "data": {
      "text/plain": [
       "-0.20061334299144332"
      ]
     },
     "execution_count": 18,
     "metadata": {},
     "output_type": "execute_result"
    }
   ],
   "source": [
    "z=(target-mu)/sigma\n",
    "z"
   ]
  },
  {
   "cell_type": "code",
   "execution_count": null,
   "id": "56958ed6",
   "metadata": {},
   "outputs": [],
   "source": []
  },
  {
   "cell_type": "markdown",
   "id": "c6391f6f",
   "metadata": {},
   "source": [
    "Faça um gráfico da distribuição normal (0, 1) e inclua um ponto vermelho para o target (use a funcão `pdf`)."
   ]
  },
  {
   "cell_type": "code",
   "execution_count": null,
   "id": "96afa2c9",
   "metadata": {
    "ExecuteTime": {
     "end_time": "2021-08-06T16:58:06.734434Z",
     "start_time": "2021-08-06T16:58:06.316401Z"
    }
   },
   "outputs": [],
   "source": []
  },
  {
   "cell_type": "markdown",
   "id": "527e11f4",
   "metadata": {},
   "source": [
    "**Conclusão:** "
   ]
  },
  {
   "cell_type": "code",
   "execution_count": null,
   "id": "3fd1cf88",
   "metadata": {},
   "outputs": [],
   "source": []
  },
  {
   "cell_type": "markdown",
   "id": "b7ca7cc1",
   "metadata": {},
   "source": [
    "# Mais inforações\n",
    "\n",
    "- [StatQuest - Probability vs Likelihood](https://www.youtube.com/watch?v=pYxNSUDSFH4)\n",
    "- [StatQuest - Central Limit Theorem](https://www.youtube.com/watch?v=YAlJCEDH2uY)\n",
    "- [3blue1brown - Bayes Theorem](https://www.youtube.com/watch?v=HZGCoVF3YvM)"
   ]
  },
  {
   "cell_type": "code",
   "execution_count": null,
   "id": "abf0f76f",
   "metadata": {},
   "outputs": [],
   "source": []
  }
 ],
 "metadata": {
  "kernelspec": {
   "display_name": "Python 3",
   "language": "python",
   "name": "python3"
  },
  "language_info": {
   "codemirror_mode": {
    "name": "ipython",
    "version": 3
   },
   "file_extension": ".py",
   "mimetype": "text/x-python",
   "name": "python",
   "nbconvert_exporter": "python",
   "pygments_lexer": "ipython3",
   "version": "3.7.6"
  },
  "toc": {
   "base_numbering": 1,
   "nav_menu": {},
   "number_sections": true,
   "sideBar": true,
   "skip_h1_title": false,
   "title_cell": "Table of Contents",
   "title_sidebar": "Contents",
   "toc_cell": false,
   "toc_position": {},
   "toc_section_display": true,
   "toc_window_display": true
  }
 },
 "nbformat": 4,
 "nbformat_minor": 5
}

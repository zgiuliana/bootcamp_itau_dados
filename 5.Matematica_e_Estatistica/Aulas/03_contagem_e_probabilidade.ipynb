{
 "cells": [
  {
   "cell_type": "markdown",
   "metadata": {},
   "source": [
    "# Aula 02 - Princípio da Contagem e Probabilidade\n",
    "---\n",
    "\n",
    "## Objetivos\n",
    "\n",
    "O objetivo desta aula é introduzir a ideia de probabilidade, probabilidade condicional e independencia."
   ]
  },
  {
   "cell_type": "markdown",
   "metadata": {},
   "source": [
    "\n",
    "## Bibliotecas usadas\n",
    "\n",
    "- ?\n"
   ]
  },
  {
   "cell_type": "code",
   "execution_count": 1,
   "metadata": {
    "ExecuteTime": {
     "end_time": "2021-07-30T15:23:10.874133Z",
     "start_time": "2021-07-30T15:23:09.779450Z"
    }
   },
   "outputs": [],
   "source": [
    "import pandas as pd\n",
    "import numpy as np "
   ]
  },
  {
   "cell_type": "markdown",
   "metadata": {},
   "source": [
    "# Probabilidade: combinação e permutação \n",
    "\n",
    "## Princípio Básico da Contagem\n",
    "\n",
    "É o princípio utilizado para encontrar o número de possibilidades para um evento constituído de $n$ etapas. Para isso, as etapas devem ser sucessivas e independentes. Se a primeira etapa do evento possui $x$ possibilidades e a segunda etapa é constituída de $y$ possibilidades, então existem $x \\times y$ possibilidades. Portanto, o princípio fundamental da contagem é **a multiplicação das opções dadas para determinar o total de possibilidades**.\n",
    "\n",
    "<center><img src=\"../images/permutacao.png\" width=\"40%\" style=\"background-color: #eee; padding: 30px; border-radius: 20px; margin: 30px 0\" /></center>  \n",
    "\n",
    "### Exemplos\n",
    "\n",
    "- $Ex_1$.: O grêmio da faculdade é formado por 3 calouros, 4 estudantes do segundo ano, 5 estudantes do terceiro ano e 2 formandos. Quantos subcomitês podemos formar? (supondo temos um representante de cada categoria no subcomitê)\n",
    "\n",
    "- $Ex_2$.: De quantos modos distintos eu posso ir a uma festa, se tenho: 5 camisas, 3 calças e dois pares de sapatos?\n",
    "\n",
    "- $Ex_3$.: Quantas diferentes placas de automóvel com  caracteres são possíveis se os 3 primeiros campos forem ocupados por letras e os 4 campos finais por números?\n",
    "\n",
    "- $Ex_4$.: No exemplo anterior quantas placas de automóvel seriam possíveis se a repetição entre letras ou número fosse proibida?\n",
    "\n",
    "- $Ex_5$.: Uma sala possui 3 portas. De quantas maneiras a sala pode **estar aberta**?\n",
    "\n",
    "- $Ex_5$.: A Sra. Jones possui dez livros que pretende colocar em sua prateleira. Destes, quatro são de matemática, três são de química, dois são de história e um é um livro de línguas. A Sra. Jones deseja arranjá-los de forma que todos os livros que tratam do mesmo assunto permaneçam juntos na prateleira. Quantos diferentes arranjos são possíveis?"
   ]
  },
  {
   "cell_type": "code",
   "execution_count": 63,
   "metadata": {
    "ExecuteTime": {
     "end_time": "2021-07-30T15:23:10.890052Z",
     "start_time": "2021-07-30T15:23:10.877355Z"
    }
   },
   "outputs": [
    {
     "name": "stdout",
     "output_type": "stream",
     "text": [
      "Ex1:  120\n",
      "Ex2:  30\n",
      "Ex3:  175760000\n"
     ]
    }
   ],
   "source": [
    "# Ex1\n",
    "print('Ex1: ', 3*4*5*2)\n",
    "\n",
    "# Ex2\n",
    "print('Ex2: ', 5*3*2)\n",
    "\n",
    "# Ex3\n",
    "print('Ex3: ', 26*26*26*10*10*10*10) ## 26**3 * 10**4"
   ]
  },
  {
   "cell_type": "code",
   "execution_count": null,
   "metadata": {},
   "outputs": [],
   "source": []
  },
  {
   "cell_type": "markdown",
   "metadata": {},
   "source": [
    "## Permutação\n",
    "---\n",
    "\n",
    "Nesta seção, discutiremos grupos de objetos exclusivos nos quais **a ordem é importante**.\n",
    "\n",
    "### Definição de permutação\n",
    "\n",
    "Considerando uma sequência ordenada qualquer com um número \"n\" de elementos distintos, qualquer outra sequência formada pelos mesmos “n” elementos reordenados é chamada de permutação.\n",
    "    \n",
    "### Permutação simples:\n",
    "\n",
    "**Um arranjo de objetos sem repetição, onde a ordem é importante.**\n",
    "    \n",
    "    \n",
    "Matematicamente, temos:\n",
    "    \n",
    "$$ P_n = n\\cdot (n-1)\\cdot (n-2)\\cdot (n-3) ... \\, 3 \\cdot 2 \\cdot 1 = n! $$\n",
    "    \n",
    "    \n",
    "- $Ex_1$.: Uma turma de teoria de probabilidade é formada por 6 homens e 4 mulheres. Aplica-se uma prova e os estudantes são classificados de acordo com seu desempenho. Suponha que nenhum tenha tirado a mesma nota. Se os homens forem classificados apenas entre si e as mulheres apenas entre si, quantas diferentes classificações são possíveis?\n",
    "\n",
    "- $Ex_2$.: Cinco amigos querem sentar em um sofá para tirar uma foto. De quantas formas diferentes eles podem aparecer na foto, a depender da posição em que eles se acomodem no sofá?\n",
    "\n",
    "\n",
    "\n"
   ]
  },
  {
   "cell_type": "code",
   "execution_count": 64,
   "metadata": {
    "ExecuteTime": {
     "end_time": "2021-07-30T15:23:28.121335Z",
     "start_time": "2021-07-30T15:23:28.104302Z"
    }
   },
   "outputs": [
    {
     "name": "stdout",
     "output_type": "stream",
     "text": [
      "720\n",
      "24\n"
     ]
    },
    {
     "data": {
      "text/plain": [
       "744"
      ]
     },
     "execution_count": 64,
     "metadata": {},
     "output_type": "execute_result"
    }
   ],
   "source": [
    "# Ex1\n",
    "\n",
    "## homens\n",
    "class_homens = 6*5*4*3*2*1 # 6! = 6*5*4*3*2*1\n",
    "print(class_homens)\n",
    "\n",
    "## meninas\n",
    "class_meninas = 4*3*2*1\n",
    "print(class_meninas)\n",
    "\n",
    "class_homens + class_meninas"
   ]
  },
  {
   "cell_type": "code",
   "execution_count": 65,
   "metadata": {
    "ExecuteTime": {
     "end_time": "2021-07-30T15:23:28.755033Z",
     "start_time": "2021-07-30T15:23:28.736509Z"
    }
   },
   "outputs": [
    {
     "data": {
      "text/plain": [
       "120"
      ]
     },
     "execution_count": 65,
     "metadata": {},
     "output_type": "execute_result"
    }
   ],
   "source": [
    "# Ex2\n",
    "\n",
    "amigos = 5*4*3*2*1\n",
    "amigos"
   ]
  },
  {
   "cell_type": "markdown",
   "metadata": {},
   "source": [
    "### Permutação com repetição:\n",
    "\n",
    "**Vamos agora determinar o número de permutações de um conjunto de n objetos quando não for possível distinguir certos objetos de outros.**\n",
    "      \n",
    "**Exemplos**\n",
    "\n",
    "1. Quantos diferentes arranjos de letras podem ser formados a partir das letras AAB?\n",
    "2. Quantos diferentes arranjos de letras podem ser formados a partir da palavra MAPA?\n",
    "\n",
    "*Respostas*\n",
    "\n",
    "1. $P_{3}^{2} = \\frac{3!}{2!} = \\frac{6}{2} = 3$\n",
    "2. $P_{4}^{2} = \\frac{4!}{2!} = \\frac{24}{2} = 12$\n",
    "\n",
    "**Outro Exemplo**: Um torneio de xadrez tem 10 competidores, dos quais 4 são russos, 3 estadunidenses, 2 ingleses e 1 brasileiro. Se o resultado listar apenas a nacionalidade são possiveis quantos resultados diferentes?\n",
    "      \n",
    "*Fórmula:*\n",
    "     $$P_{n}^{r,s,\\dots} = \\frac{n!}{r!s!\\dots} $$"
   ]
  },
  {
   "cell_type": "code",
   "execution_count": 69,
   "metadata": {
    "ExecuteTime": {
     "end_time": "2021-07-30T15:24:11.513541Z",
     "start_time": "2021-07-30T15:24:11.492820Z"
    }
   },
   "outputs": [
    {
     "ename": "IndentationError",
     "evalue": "expected an indented block (<ipython-input-69-4565eab1adb4>, line 7)",
     "output_type": "error",
     "traceback": [
      "\u001b[1;36m  File \u001b[1;32m\"<ipython-input-69-4565eab1adb4>\"\u001b[1;36m, line \u001b[1;32m7\u001b[0m\n\u001b[1;33m    def permutacao_sem_repeticao(n):\u001b[0m\n\u001b[1;37m    ^\u001b[0m\n\u001b[1;31mIndentationError\u001b[0m\u001b[1;31m:\u001b[0m expected an indented block\n"
     ]
    }
   ],
   "source": [
    "## defina as funções \n",
    "\n",
    "def fatorial(n):\n",
    "\n",
    "\n",
    "    \n",
    "def permutacao_sem_repeticao(n):\n",
    "\n",
    "    \n"
   ]
  },
  {
   "cell_type": "code",
   "execution_count": 70,
   "metadata": {
    "ExecuteTime": {
     "end_time": "2021-07-30T15:24:11.984535Z",
     "start_time": "2021-07-30T15:24:11.973072Z"
    }
   },
   "outputs": [],
   "source": [
    "def fatorial(n):\n",
    "    if n == 1:\n",
    "        return n\n",
    "    else:\n",
    "        return n * fatorial(n-1)"
   ]
  },
  {
   "cell_type": "code",
   "execution_count": 71,
   "metadata": {
    "ExecuteTime": {
     "end_time": "2021-07-30T15:24:17.059503Z",
     "start_time": "2021-07-30T15:24:17.041615Z"
    }
   },
   "outputs": [
    {
     "data": {
      "text/plain": [
       "24"
      ]
     },
     "execution_count": 71,
     "metadata": {},
     "output_type": "execute_result"
    }
   ],
   "source": [
    "fatorial(4)"
   ]
  },
  {
   "cell_type": "code",
   "execution_count": 72,
   "metadata": {
    "ExecuteTime": {
     "end_time": "2021-07-30T15:24:17.255842Z",
     "start_time": "2021-07-30T15:24:17.245371Z"
    }
   },
   "outputs": [],
   "source": [
    "def permutacao_sem_repeticao(n):\n",
    "    return fatorial(n)"
   ]
  },
  {
   "cell_type": "markdown",
   "metadata": {},
   "source": [
    "## Arranjo\n",
    "---\n",
    "\n",
    "Arranjos são agrupamentos formados com $p$ elementos de um conjunto de $n$ elementos. Arranjos são como permutações, trocas de posição entre os elementos. Mas no caso dos arranjos, são escolhidos $p$ elementos para ocupar as posições ordenadas. Os arranjos são um caso particular de permutações, já que $p \\leq n$.\n",
    "\n",
    "Matematicamente, temos:\n",
    "\n",
    "$$A_{n}^{p} = \\frac{n!}{(n - p)!}$$\n",
    "\n",
    "- $Ex_1$.: Cinco amigos querem sentar em um sofá para tirar uma foto. De quantas formas diferentes eles podem aparecer na foto, considerando um sofá de 3 lugares, a depender da posição em que eles se acomodem no sofá?\n",
    "\n",
    "- $Ex_2$.: Você tem um site no qual os usuários podem se registrar. Eles precisam fornecer uma senha que precise ter exatamente 8 caracteres e os caracteres não podem ser repetidos. Determine quantas combinações para senhas são possíveis. Primeiro, precisamos determinar quantos caracteres e dígitos existem no alfabeto português:\n",
    "\n",
    "    - o número de letras: 26\n",
    "    - o número de dígitos: 10\n",
    "\n",
    "\n"
   ]
  },
  {
   "cell_type": "code",
   "execution_count": 73,
   "metadata": {
    "ExecuteTime": {
     "end_time": "2021-07-30T15:24:17.579953Z",
     "start_time": "2021-07-30T15:24:17.572143Z"
    }
   },
   "outputs": [],
   "source": [
    "def arranjo(n,p):\n",
    "    return fatorial(n) / fatorial(n-p)\n"
   ]
  },
  {
   "cell_type": "code",
   "execution_count": 74,
   "metadata": {
    "ExecuteTime": {
     "end_time": "2021-07-30T15:24:17.737839Z",
     "start_time": "2021-07-30T15:24:17.725725Z"
    }
   },
   "outputs": [
    {
     "data": {
      "text/plain": [
       "60.0"
      ]
     },
     "execution_count": 74,
     "metadata": {},
     "output_type": "execute_result"
    }
   ],
   "source": [
    "#Ex 1\n",
    "arranjo(5,3)"
   ]
  },
  {
   "cell_type": "code",
   "execution_count": 75,
   "metadata": {
    "ExecuteTime": {
     "end_time": "2021-07-30T15:24:17.921349Z",
     "start_time": "2021-07-30T15:24:17.902184Z"
    }
   },
   "outputs": [
    {
     "data": {
      "text/plain": [
       "1220096908800.0"
      ]
     },
     "execution_count": 75,
     "metadata": {},
     "output_type": "execute_result"
    }
   ],
   "source": [
    "# Ex2\n",
    "arranjo(36,8)"
   ]
  },
  {
   "cell_type": "code",
   "execution_count": null,
   "metadata": {},
   "outputs": [],
   "source": []
  },
  {
   "cell_type": "markdown",
   "metadata": {},
   "source": [
    "## Combinação \n",
    "---\n",
    "\n",
    "<center><img src=\"../images/Combination.png\" width=\"30%\" style=\"background-color: #eee; padding: 30px; border-radius: 20px; margin: 30px 0\" /></center>  \n",
    "\n",
    "Na combinação simples, **a ordem dos elementos no agrupamento não interfere**. São arranjos que se diferenciam somente pela natureza de seus elementos. Portanto, se temos um conjunto A formado por n elementos tomados p a p, qualquer subconjunto de A formado por p elementos será uma combinação.\n",
    "\n",
    "**Exemplo:** Quando temos 5 itens (A, B, C, D, E), quantos grupos de 3 letras conseguimos selecionar? Pense no caso que quando for selecionado ABC, ACB, BAC, BCA, CAB, CBA temos o mesmo grupo sendo contado 6 vezes.\n",
    "    \n",
    "Podemos pensar em:\n",
    "    \n",
    "$$5 * 4 * 3$$\n",
    "\n",
    "mas, como a permutação é limitada por r  dividimos pela quantidade de vezes que um elemento se repete:\n",
    "    \n",
    "$$\\frac{5 * 4 * 3}{3 * 2 * 1 * 2}$$\n",
    "\n",
    "Matematicamente, temos:\n",
    "\n",
    "$$C_{n}^{k} = \\frac{n!}{k! \\cdot (n - k)!}$$"
   ]
  },
  {
   "cell_type": "code",
   "execution_count": 76,
   "metadata": {
    "ExecuteTime": {
     "end_time": "2021-07-30T15:24:18.565448Z",
     "start_time": "2021-07-30T15:24:18.556324Z"
    }
   },
   "outputs": [],
   "source": [
    "def combinacao(n,k):\n",
    "    return fatorial(n) / (fatorial(k) * fatorial(n-k))"
   ]
  },
  {
   "cell_type": "code",
   "execution_count": 77,
   "metadata": {
    "ExecuteTime": {
     "end_time": "2021-07-30T15:24:18.844431Z",
     "start_time": "2021-07-30T15:24:18.832054Z"
    }
   },
   "outputs": [
    {
     "data": {
      "text/plain": [
       "10.0"
      ]
     },
     "execution_count": 77,
     "metadata": {},
     "output_type": "execute_result"
    }
   ],
   "source": [
    "combinacao(5,3)"
   ]
  },
  {
   "cell_type": "code",
   "execution_count": 78,
   "metadata": {
    "ExecuteTime": {
     "end_time": "2021-07-30T15:24:19.103961Z",
     "start_time": "2021-07-30T15:24:19.095741Z"
    }
   },
   "outputs": [
    {
     "data": {
      "text/plain": [
       "60.0"
      ]
     },
     "execution_count": 78,
     "metadata": {},
     "output_type": "execute_result"
    }
   ],
   "source": [
    "arranjo(5,3)"
   ]
  },
  {
   "cell_type": "code",
   "execution_count": null,
   "metadata": {},
   "outputs": [],
   "source": []
  },
  {
   "cell_type": "markdown",
   "metadata": {},
   "source": [
    "# Probabilidade: conceitos introdutórios \n",
    "\n",
    "## Espaço amostral\n",
    "\n",
    "**definição**: Chamamos de espaço amostral ao conjunto de todos os resultados possíveis de um certo fenômeno aleatório. Ele é muitas vezes representado pela letra grega $\\Omega$. Os subconjuntos de $\\Omega$ são denominados eventos e representados pelas letras latinas maiúsculas $A, B, \\dots$ . O conjunto vazio é denotado por $\\emptyset$.\n",
    "\n",
    "A união de dois eventos A e B, denotado por $A \\cup B$ representa a ocorrência de pelo menos um dos eventos A ou B. \n",
    "\n",
    "A intersecção do evento A com B, denotado por $A \\cap B$ é a ocorrência simultanea de A e B \n",
    "\n",
    "Dois eventos A e B são disjuntos ou mutualmente exclusivos quando não têm elemento em comum. Isto é, $A \\cap B$ =  $\\emptyset$.\n",
    "\n",
    "\n",
    "<center><img src=\"../images/conjuntos.png\" width=\"300\" height=\"350\" /></center>\n",
    "\n",
    "Caso dois eventos sejam disjuntos, mas a sua união seja igual à todo o Espaço Amostral, significa que eles são complementares. Ou seja, eles são os únicos eventos possíveis de ocorrer. Matematicamente, se $A \\cap B = \\emptyset$ e $A \\cup B = \\Omega$, então os eventos são complementares. O complementar de A será representado por $A^{c}$. Nesse caso, então, $A^{c} = B$ e $B^{c} = A$.\n",
    "\n",
    "\n",
    "**Definição 2.1: Probabilidade**\n",
    "\n",
    "Podemos definir então uma função `P(.)` denominada probabilidade se satisfaz as seguintes condições:\n",
    "    \n",
    "1. A probabilidade de um evento é sempre um número entre 0 e 1. Ou seja, $0 \\leq P(A) \\leq 1$.\n",
    "\n",
    "\n",
    "2. A Probabilidade de ocorrer algo dentro do Espaço Amostral é 1. Ou seja, $ P(\\Omega) = 1$.\n",
    "\n",
    "3. A Probabilidade de ocorrer a união de todos os Pontos Amostrais é igual à soma da Probabilidade de ocorrer cada um dos Pontos Amostrais. Ou seja:\n",
    "\n",
    "$$\n",
    "    \\sum_{w\\in \\Omega} P{(w)} = P\\left(\\bigcup_{w\\in \\Omega} \\{w\\}\\right)\n",
    "$$\n",
    "\n",
    "\n",
    "## Como definir a probabilidade dos elementos do espaço amostral?\n",
    "\n",
    "A primeira parte consiste na atribuição de probabilidades. Por exemplo, baseando-se em características teóricas da realização do fenômeno. Por exemplo, ao lançarmos um dado, temos o espaço amostral $\\omega={1,2,3,4,5,6}$.Admitindo que o dado foi construído de forma homogênea e com medidas rigorosamente simétricas , não temos nenhuma razão para privilegiar essa ou aquela face. Assim consideramos $p(1)=p(2)=p(3)\\dots$\n",
    "\n",
    "**Exemplos:** \n",
    "\n",
    "1. Lançamos uma moeda duas vezes, se C indicar cara e K indicar coroa, então, temos um espaço amostral:\n",
    "    \n",
    "$$\\Omega=[CC,CK,KC,KK]$$\n",
    "\n",
    "\n",
    "> Se designarmos por A o evento que consiste na obtenção de face iguais nos dois lançamentos, então: \n",
    "\n",
    "$$ P(A) = P(CC) + P(KK) = \\frac{1}{4} + \\frac{1}{4} = \\frac{2}{4} = 0.5 $$ \n",
    "\n",
    "2. Uma Fábrica produz um determinado artigo. Da linha de produção são retirados 3 artigos, e cada um é classificado como bom (B), ou defeituoso (D). Um espaço amostral do experimento é:\n",
    "    \n",
    "$$ \\Omega = [BBB,BBD,BDB,DBB,DDB,DBD,BDD,DDD] $$\n",
    "\n",
    "\n",
    "> Se designarmos por A o evento que consiste em obter dois artigos defeituosos:\n",
    "\n",
    "$$ P(A) = P(DDB) + P(DBD) + P(BDD) = \\frac{1}{8} + \\frac{1}{8} + \\frac{1}{8} = \\frac{3}{8} = 0.375 $$ \n",
    "\n",
    "3. Considere o experimento que consiste em retirar uma lâmpada de um lote e medir seu tempo de vida antes de queimar. Um espaço amostral conveniente será:\n",
    "    \n",
    "$$ \\Omega = [t], \\quad \\textrm{em que}, t \\geq 0 $$\n"
   ]
  },
  {
   "cell_type": "markdown",
   "metadata": {},
   "source": [
    "### Usando as ferramentas do python"
   ]
  },
  {
   "cell_type": "code",
   "execution_count": 1,
   "metadata": {
    "ExecuteTime": {
     "end_time": "2021-07-30T19:25:57.495697Z",
     "start_time": "2021-07-30T19:25:57.470853Z"
    }
   },
   "outputs": [],
   "source": [
    "from itertools import permutations, combinations, combinations_with_replacement, product"
   ]
  },
  {
   "cell_type": "code",
   "execution_count": 80,
   "metadata": {
    "ExecuteTime": {
     "end_time": "2021-07-30T15:24:20.153294Z",
     "start_time": "2021-07-30T15:24:20.137374Z"
    }
   },
   "outputs": [
    {
     "name": "stdout",
     "output_type": "stream",
     "text": [
      "('C', 'C')\n",
      "('C', 'K')\n",
      "('K', 'C')\n",
      "('K', 'K')\n"
     ]
    }
   ],
   "source": [
    "# espaço amostral para duas moedas: product\n",
    "espaco = product(['C', 'K'], repeat=2)\n",
    "\n",
    "for evento in espaco:\n",
    "    print(evento)"
   ]
  },
  {
   "cell_type": "code",
   "execution_count": 81,
   "metadata": {
    "ExecuteTime": {
     "end_time": "2021-07-30T15:24:20.342689Z",
     "start_time": "2021-07-30T15:24:20.327799Z"
    }
   },
   "outputs": [
    {
     "name": "stdout",
     "output_type": "stream",
     "text": [
      "('B', 'B', 'B')\n",
      "('B', 'B', 'D')\n",
      "('B', 'D', 'B')\n",
      "('B', 'D', 'D')\n",
      "('D', 'B', 'B')\n",
      "('D', 'B', 'D')\n",
      "('D', 'D', 'B')\n",
      "('D', 'D', 'D')\n"
     ]
    }
   ],
   "source": [
    "# espaço amostral para três produtos bons ou defeituosos: product\n",
    "espaco = product('BD', repeat=3)\n",
    "\n",
    "for evento in espaco:\n",
    "    print(evento)"
   ]
  },
  {
   "cell_type": "code",
   "execution_count": 82,
   "metadata": {
    "ExecuteTime": {
     "end_time": "2021-07-30T15:24:20.520392Z",
     "start_time": "2021-07-30T15:24:20.505870Z"
    }
   },
   "outputs": [
    {
     "name": "stdout",
     "output_type": "stream",
     "text": [
      "('1', '1')\n",
      "('1', '2')\n",
      "('1', '3')\n",
      "('1', '4')\n",
      "('1', '5')\n",
      "('1', '6')\n",
      "('2', '1')\n",
      "('2', '2')\n",
      "('2', '3')\n",
      "('2', '4')\n",
      "('2', '5')\n",
      "('2', '6')\n",
      "('3', '1')\n",
      "('3', '2')\n",
      "('3', '3')\n",
      "('3', '4')\n",
      "('3', '5')\n",
      "('3', '6')\n",
      "('4', '1')\n",
      "('4', '2')\n",
      "('4', '3')\n",
      "('4', '4')\n",
      "('4', '5')\n",
      "('4', '6')\n",
      "('5', '1')\n",
      "('5', '2')\n",
      "('5', '3')\n",
      "('5', '4')\n",
      "('5', '5')\n",
      "('5', '6')\n",
      "('6', '1')\n",
      "('6', '2')\n",
      "('6', '3')\n",
      "('6', '4')\n",
      "('6', '5')\n",
      "('6', '6')\n"
     ]
    }
   ],
   "source": [
    "# espaço amostral para dois dados: product\n",
    "espaco = product('123456', repeat=2)\n",
    "\n",
    "for evento in espaco:\n",
    "    print(evento)"
   ]
  },
  {
   "cell_type": "code",
   "execution_count": null,
   "metadata": {},
   "outputs": [],
   "source": []
  },
  {
   "cell_type": "markdown",
   "metadata": {},
   "source": [
    "### Espaço amostral com eventos não uniformes"
   ]
  },
  {
   "cell_type": "markdown",
   "metadata": {},
   "source": [
    "**Ex1:** Qual a probabilidade de cada evento possível no espaço amostral de dois lançamentos de uma moeda justa?\n",
    "> 1/4"
   ]
  },
  {
   "cell_type": "code",
   "execution_count": 2,
   "metadata": {
    "ExecuteTime": {
     "end_time": "2021-07-30T19:26:13.386803Z",
     "start_time": "2021-07-30T19:26:13.373263Z"
    }
   },
   "outputs": [
    {
     "name": "stdout",
     "output_type": "stream",
     "text": [
      "('C', 'C')\n",
      "('C', 'K')\n",
      "('K', 'C')\n",
      "('K', 'K')\n"
     ]
    }
   ],
   "source": [
    "espaco = product(['C', 'K'], repeat=2)\n",
    "\n",
    "for evento in espaco:\n",
    "    print(evento)"
   ]
  },
  {
   "cell_type": "markdown",
   "metadata": {},
   "source": [
    "**Ex2:** Qual a probabilidade de cada evento possível no espaço amostral de dois lançamentos de uma moeda que mostra cara 60% das vezes?\n",
    "> "
   ]
  },
  {
   "cell_type": "code",
   "execution_count": 7,
   "metadata": {
    "ExecuteTime": {
     "end_time": "2021-07-30T19:38:05.268499Z",
     "start_time": "2021-07-30T19:38:05.259961Z"
    }
   },
   "outputs": [
    {
     "name": "stdout",
     "output_type": "stream",
     "text": [
      "('C', 'C') 0.36\n",
      "('C', 'K') 0.24\n",
      "('K', 'C') 0.24\n",
      "('K', 'K') 0.16000000000000003\n"
     ]
    }
   ],
   "source": [
    "espaco = product(['C', 'K'], repeat=2)\n",
    "\n",
    "eventos = []\n",
    "probas = []\n",
    "\n",
    "prob_cara = 0.6\n",
    "prob_coroa = 1 - prob_cara\n",
    "\n",
    "for evento in espaco:\n",
    "    \n",
    "    n_caras = evento.count('C')\n",
    "    n_coroas = evento.count('K')\n",
    "    \n",
    "    eventos.append(evento)\n",
    "    \n",
    "    prob_evento = prob_cara**n_caras * prob_coroa**n_coroas\n",
    "    \n",
    "    probas.append(prob_evento)\n",
    "    \n",
    "    print(evento, prob_evento)\n",
    "    \n"
   ]
  },
  {
   "cell_type": "markdown",
   "metadata": {},
   "source": [
    "**Ex3:** Qual a probabilidade de cada evento possível no espaço amostral de dois lançamentos de uma moeda que mostar coroa 60% das vezes?\n",
    " >"
   ]
  },
  {
   "cell_type": "code",
   "execution_count": 8,
   "metadata": {
    "ExecuteTime": {
     "end_time": "2021-07-30T19:38:57.367244Z",
     "start_time": "2021-07-30T19:38:57.361243Z"
    }
   },
   "outputs": [
    {
     "name": "stdout",
     "output_type": "stream",
     "text": [
      "('C', 'C') 0.16000000000000003\n",
      "('C', 'K') 0.24\n",
      "('K', 'C') 0.24\n",
      "('K', 'K') 0.36\n"
     ]
    }
   ],
   "source": [
    "espaco = product(['C', 'K'], repeat=2)\n",
    "\n",
    "eventos = []\n",
    "probas = []\n",
    "\n",
    "prob_cara = 0.4\n",
    "prob_coroa = 1 - prob_cara\n",
    "\n",
    "for evento in espaco:\n",
    "    \n",
    "    n_caras = evento.count('C')\n",
    "    n_coroas = evento.count('K')\n",
    "    \n",
    "    eventos.append(evento)\n",
    "    \n",
    "    prob_evento = prob_cara**n_caras * prob_coroa**n_coroas\n",
    "    \n",
    "    probas.append(prob_evento)\n",
    "    \n",
    "    print(evento, prob_evento)"
   ]
  },
  {
   "cell_type": "markdown",
   "metadata": {},
   "source": [
    "**Desfio:** Como reproduzir os resultados acima usando os conceitos de permutação, arranjo, etc....?\n",
    "> Uma moeda está viciada: a chance de se obter uma cara usando ela é de 0,6. Qual probabilidade de essa moeda apresentar, em qualquer ordem, 3 caras e 7 coroas.\n",
    "\n",
    ">"
   ]
  },
  {
   "cell_type": "code",
   "execution_count": null,
   "metadata": {},
   "outputs": [],
   "source": []
  },
  {
   "cell_type": "markdown",
   "metadata": {},
   "source": [
    "## Propriedades da União e Intersecção\n",
    "---\n",
    "\n",
    "Vamos supor a tabela abaixo  para idades\n",
    "\n",
    "| idade | $n_{i}$ | $F_{i}$ | $f_{ac}$ |\n",
    "|-------|---------|---------|----------|\n",
    "| 17    | 9       |         |          |\n",
    "| 18    | 22      |         |          |\n",
    "| 19    | 7       |         |          |\n",
    "| 20    | 4       |         |          |\n",
    "| 21    | 3       |         |          |\n",
    "| 22    | 0       |         |          |\n",
    "| 23    | 2       |         |          |\n",
    "| 24    | 1       |         |          |\n",
    "| 25    | 2       |         |          |\n",
    "|-------|---------|---------|----------|\n",
    "| total |   n=50  |    1    |          |\n",
    "|-------|---------|---------|----------|\n",
    "\n",
    "Qual nosso espaço amostral ? \n",
    "> $\\Omega = [17, 18, 19, 20, 21, 22, 23, 24, 25]$\n",
    "\n",
    "Quais são as probabilidades associadas ?\n",
    "> Probas = [9/50, 22/50, 7/50, 4/50, 3/50, 0, 2/50, 1/50, 2/50]\n",
    "\n",
    "P(17) = ? \n",
    "> 9/50\n"
   ]
  },
  {
   "cell_type": "code",
   "execution_count": null,
   "metadata": {},
   "outputs": [],
   "source": []
  },
  {
   "cell_type": "markdown",
   "metadata": {},
   "source": [
    "### Probabilidade de união de eventos\n",
    "\n",
    "A probabilidade de união de eventos é calculada através da regra da adição de probabilidades apresentada abaixo :\n",
    "\n",
    "$$ P(A \\cup B) = P(A) + P(B) - P ( A \\cap B) $$\n",
    "\n",
    "Temos também a definição de que um evento pode ser definido pela não ocorrência dele, ou seja, $$A^{c}$$ é a não ocorrência de A. Logo,\n",
    "\n",
    "$$P(A) = 1 - P(A^{c})$$\n",
    "\n",
    "\n",
    "Se isso é correto, então: $P(A) + P(A^{c}) = 1$.\n",
    "\n",
    "Podemos visualizar por:\n",
    "\n",
    "$$P (A \\cup A^{c}) = P(A) + P(A^{c}) - P(A\\cap A^{c}) $$\n",
    "\n",
    "$$P (A \\cup A^{c}) = 1 $$"
   ]
  },
  {
   "cell_type": "markdown",
   "metadata": {},
   "source": [
    "**Exemplo:** Qual chance de jogar um dado e obter um número par **OU** um número maior que 3.\n",
    "\n",
    "> P(n_par) = 1/2  \n",
    "> P(n>3) = 1/2  \n",
    "> P(intersecção) = 1 / 3  \n",
    "> P(n_par ou n > 3) = $P(n_{par} \\cup n>3)$ = 1/2 + 1/2 - 1/3 = 2/3  "
   ]
  },
  {
   "cell_type": "code",
   "execution_count": null,
   "metadata": {},
   "outputs": [],
   "source": []
  },
  {
   "cell_type": "markdown",
   "metadata": {},
   "source": [
    "# Probabilidade condicional e Independência\n",
    "---\n",
    "\n",
    "![venn](../images/venn.gif)\n"
   ]
  },
  {
   "cell_type": "markdown",
   "metadata": {},
   "source": [
    "## Eventos independentes \n",
    "\n",
    "Quanto a ocorrência de um evento não intefere na ocorrência do outro, e vice-versa. Em outras palavras, quando a probabilidade de ocorrência de um evento A, não alterar a probabilidade de ocorrência de um evento B, e vice-versa.\n",
    "\n",
    "$Ex_1:$ Qual a probabilida de tirar coroa no lançamento de uma moeda e 5 num dado? "
   ]
  },
  {
   "cell_type": "markdown",
   "metadata": {},
   "source": [
    "P(coroa) = 1/2  \n",
    "P(5 no dado) = 1/6  \n",
    "P(cora e 5) = 1/2 * 1/6 = 1/12"
   ]
  },
  {
   "cell_type": "markdown",
   "metadata": {},
   "source": [
    "Qual o espaço amostral dos eventos?\n",
    "\n",
    "    coroa 1\n",
    "    coroa 2\n",
    "    .\n",
    "    .\n",
    "    .\n",
    "    coroa 6\n",
    "    cara 1\n",
    "    .\n",
    "    .\n",
    "    .\n",
    "    cara 6"
   ]
  },
  {
   "cell_type": "code",
   "execution_count": null,
   "metadata": {},
   "outputs": [],
   "source": []
  },
  {
   "cell_type": "markdown",
   "metadata": {},
   "source": [
    "## Eventos dependentes\n",
    "Para eventos dependentes, o cálculo da Probabilidade muda. Vamos estabelecer que:\n",
    "\n",
    "$P(A|B)$ -> Probabilidade condicional de A dado B, ou seja, probabilidade do evento A ocorrer, dado que ocorreu o evento B\n",
    "\n",
    "$P(A \\cap B)$ -> Como já vimos, é a probabilidade dos dois eventos ocorrerem\n",
    "\n",
    "\n",
    "Para eventos dependentes, Temos a seguinte função:\n",
    "\n",
    "$$P(A|B)= \\frac{P(A\\cap B)}{P(B)}$$\n",
    "\n",
    "\n",
    "\n",
    "$$ P(A|B) = \\frac{\\frac{A \\cap B}{\\omega}}{\\frac{B}{\\omega}}$$\n",
    "\n",
    "\n",
    "\n",
    "E algumas vezes, passamos P(B) para o outro lado da igualdade, e a equação fica assim:\n",
    "\n",
    "$$P(A\\cap B) = P(A|B) × P(B)$$\n",
    "\n",
    "### Exemplos\n",
    "\n",
    "$Ex_1$.: Uma moeda é lançada duas vezes, sucessivamente. Qual é a probabilidade de tirarmos cara no segundo lançamento, sabendo que foi obtido coroa no primeiro?\n",
    "\n"
   ]
  },
  {
   "cell_type": "code",
   "execution_count": 9,
   "metadata": {
    "ExecuteTime": {
     "end_time": "2021-07-30T19:57:16.731806Z",
     "start_time": "2021-07-30T19:57:16.718283Z"
    }
   },
   "outputs": [
    {
     "name": "stdout",
     "output_type": "stream",
     "text": [
      "('C', 'C')\n",
      "('C', 'K')\n",
      "('K', 'C')\n",
      "('K', 'K')\n"
     ]
    }
   ],
   "source": [
    "espaco = product(['C', 'K'], repeat=2)\n",
    "\n",
    "for evento in espaco:\n",
    "    print(evento)"
   ]
  },
  {
   "cell_type": "markdown",
   "metadata": {},
   "source": [
    "Resposta:\n",
    "> 1/2"
   ]
  },
  {
   "cell_type": "code",
   "execution_count": null,
   "metadata": {},
   "outputs": [],
   "source": []
  },
  {
   "cell_type": "markdown",
   "metadata": {},
   "source": [
    "$Ex_2$.: De uma urna com 4 bolas brancas e 6 bolas pretas, retiram-se 2 bolas, sucessivamente, e sem reposição. Qual é a probabilidade de:\n",
    "\n",
    "1. Ambas serem brancas?\n",
    "2. A segunda ser branca?\n",
    "3. A 1ª ser branca, sabendo que a 2ª é branca?\n"
   ]
  },
  {
   "cell_type": "markdown",
   "metadata": {},
   "source": [
    "Ex2 - 1:\n",
    "\n",
    "$P(B,B) = \\frac{4}{10} x \\frac{3}{9} = \\frac{12}{90} = \\frac{2}{15} $ "
   ]
  },
  {
   "cell_type": "markdown",
   "metadata": {},
   "source": [
    "Ex2 - 2:\n",
    "\n",
    "$P(?,B) = P(B,B) + P(P,B) = \\frac{2}{15} + \\frac{6}{10}x\\frac{4}{9} = \\frac{2}{15} + \\frac{4}{15} = \\frac{2}{5} $\n",
    "\n"
   ]
  },
  {
   "cell_type": "markdown",
   "metadata": {},
   "source": [
    "Ex2-3:\n",
    "\n",
    "$P(B_1 | B_2) = \\frac{P(B_1 \\cap B_2)}{P(B_2)}$\n",
    "\n",
    "$P(B_2) = P(?,B) = \\frac{2}{5}$\n",
    "\n",
    "$P(B_1 \\cap B_2) = P(B,B) = \\frac{2}{15} $\n",
    "\n",
    "$P(B_1 | B_2) = \\frac{2}{15} x \\frac{5}{2} = \\frac{1}{3}$"
   ]
  },
  {
   "cell_type": "code",
   "execution_count": null,
   "metadata": {},
   "outputs": [],
   "source": []
  },
  {
   "cell_type": "markdown",
   "metadata": {},
   "source": [
    "\n",
    "\n",
    "## Diferença entre eventos dependentes e independentes\n",
    "\n",
    "**Abaixo está um código para criar dados falsos sobre a quantidade de coisas que as pessoas compram, de acordo com a faixa etária**.\n",
    "\n",
    "Ele gera 100.000 \"pessoas\" aleatórias e as atribui aleatoriamente como tendo entre 20, 30, 40, 50, 60 ou 70 anos.\n",
    "\n",
    "Em seguida, atribui uma menor probabilidade de os jovens comprarem coisas.\n",
    "\n",
    "No final, temos dois dicionários Python:\n",
    "\n",
    "- \"totais\" contém o número total de pessoas em cada faixa etária. \n",
    "- \"compras\" contém o número total de itens comprados por pessoas em cada faixa etária. \n",
    "- O total geral de compras é total de compras. \n",
    "- número total de pessoas é 100.000.\n",
    "\n",
    "Vamos executá-lo e dar uma olhada:"
   ]
  },
  {
   "cell_type": "code",
   "execution_count": 10,
   "metadata": {
    "ExecuteTime": {
     "end_time": "2021-07-30T20:34:29.773033Z",
     "start_time": "2021-07-30T20:34:29.001848Z"
    }
   },
   "outputs": [],
   "source": [
    "from numpy import random\n",
    "random.seed(0)\n",
    "\n",
    "totals = {20:0, 30:0, 40:0, 50:0, 60:0, 70:0}\n",
    "compras = {20:0, 30:0, 40:0, 50:0, 60:0, 70:0}\n",
    "total_compras = 0\n",
    "for _ in range(100000):\n",
    "    Decada_ano = random.choice([20, 30, 40, 50, 60, 70])\n",
    "    Probabilidade_compra = float(Decada_ano) / 100.0 ## por exemplo quem nasceu na decada 20/100\n",
    "    totals[Decada_ano] += 1\n",
    "    if (random.random() < Probabilidade_compra):\n",
    "        total_compras += 1\n",
    "        compras[Decada_ano] += 1"
   ]
  },
  {
   "cell_type": "code",
   "execution_count": 11,
   "metadata": {
    "ExecuteTime": {
     "end_time": "2021-07-30T20:34:31.113483Z",
     "start_time": "2021-07-30T20:34:31.101483Z"
    }
   },
   "outputs": [
    {
     "data": {
      "text/plain": [
       "{20: 16576, 30: 16619, 40: 16632, 50: 16805, 60: 16664, 70: 16704}"
      ]
     },
     "execution_count": 11,
     "metadata": {},
     "output_type": "execute_result"
    }
   ],
   "source": [
    "totals"
   ]
  },
  {
   "cell_type": "code",
   "execution_count": 12,
   "metadata": {
    "ExecuteTime": {
     "end_time": "2021-07-30T20:34:31.740256Z",
     "start_time": "2021-07-30T20:34:31.731255Z"
    }
   },
   "outputs": [
    {
     "data": {
      "text/plain": [
       "{20: 3392, 30: 4974, 40: 6670, 50: 8319, 60: 9944, 70: 11713}"
      ]
     },
     "execution_count": 12,
     "metadata": {},
     "output_type": "execute_result"
    }
   ],
   "source": [
    "compras"
   ]
  },
  {
   "cell_type": "code",
   "execution_count": 13,
   "metadata": {
    "ExecuteTime": {
     "end_time": "2021-07-30T20:35:24.793629Z",
     "start_time": "2021-07-30T20:35:24.780607Z"
    }
   },
   "outputs": [
    {
     "data": {
      "text/plain": [
       "45012"
      ]
     },
     "execution_count": 13,
     "metadata": {},
     "output_type": "execute_result"
    }
   ],
   "source": [
    "total_compras"
   ]
  },
  {
   "cell_type": "markdown",
   "metadata": {},
   "source": [
    "    Primeiro vamos calcular P (C | I), onde C é \"compra\" e I é \"você está na casa dos 30 anos\". A probabilidade de alguém na casa dos 30 anos comprar alguma coisa é apenas a porcentagem de quantas pessoas de 30 anos compraram alguma coisa, dada por P_I."
   ]
  },
  {
   "cell_type": "code",
   "execution_count": 15,
   "metadata": {
    "ExecuteTime": {
     "end_time": "2021-07-30T20:39:10.454057Z",
     "start_time": "2021-07-30T20:39:10.450232Z"
    }
   },
   "outputs": [
    {
     "name": "stdout",
     "output_type": "stream",
     "text": [
      "P(30's): 0.29929598652145134\n"
     ]
    }
   ],
   "source": [
    "P_I = compras[30]/totals[30]\n",
    "print(\"P(30's): \" +  str(P_I))"
   ]
  },
  {
   "cell_type": "code",
   "execution_count": 16,
   "metadata": {
    "ExecuteTime": {
     "end_time": "2021-07-30T20:42:55.605611Z",
     "start_time": "2021-07-30T20:42:55.597570Z"
    }
   },
   "outputs": [
    {
     "name": "stdout",
     "output_type": "stream",
     "text": [
      "P(compras | 30s): 0.11050386563583045\n"
     ]
    }
   ],
   "source": [
    "P_CI = compras[30] / total_compras\n",
    "print('P(compras | 30s): ' + str(P_CI))"
   ]
  },
  {
   "cell_type": "markdown",
   "metadata": {},
   "source": [
    "    Podemos calcular tambem a probabilidade de comprar alguma coisa:"
   ]
  },
  {
   "cell_type": "code",
   "execution_count": 24,
   "metadata": {
    "ExecuteTime": {
     "end_time": "2021-07-30T20:45:43.559233Z",
     "start_time": "2021-07-30T20:45:43.553820Z"
    }
   },
   "outputs": [
    {
     "name": "stdout",
     "output_type": "stream",
     "text": [
      "P(total_compras):0.45012\n"
     ]
    }
   ],
   "source": [
    "P_C = total_compras / 100_000\n",
    "print(\"P(total_compras):\" + str(P_C))"
   ]
  },
  {
   "cell_type": "markdown",
   "metadata": {},
   "source": [
    "    Se C e I fossem independentes, esperaríamos que P (C | I) fosse aproximadamente o mesmo que P (C). Mas eles não são; P_C é 0,45 e P (C | I) é 0,11. Então, isso nos diz que C e I são dependentes (o que sabemos que são neste exemplo).\n",
    "\n",
    "    O que é P (I) P (C)?"
   ]
  },
  {
   "cell_type": "code",
   "execution_count": 25,
   "metadata": {
    "ExecuteTime": {
     "end_time": "2021-07-30T20:46:48.043496Z",
     "start_time": "2021-07-30T20:46:48.034494Z"
    }
   },
   "outputs": [
    {
     "name": "stdout",
     "output_type": "stream",
     "text": [
      "P(30's)P(total_compras)0.1347191094530357\n"
     ]
    }
   ],
   "source": [
    "print(\"P(30's)P(total_compras)\" + str(P_I * P_C))"
   ]
  },
  {
   "cell_type": "markdown",
   "metadata": {},
   "source": [
    "     P (C, I) é diferente de P (C | I). \n",
    "\n",
    "     P (C, I) seria a probabilidade de você estar na casa dos 30 anos e comprar algo (comparado com a poluação total)."
   ]
  },
  {
   "cell_type": "code",
   "execution_count": null,
   "metadata": {},
   "outputs": [],
   "source": []
  },
  {
   "cell_type": "markdown",
   "metadata": {},
   "source": [
    "# Teorema de Bayes\n",
    "O **Teorema de Bayes** é um conceito importantíssimo da probabilidade e uma das ferramentas mais importantes de serem aprendidas para um Cientista de Dados. Este já foi usado em diversas aplicações reais, como por exemplo a classificação de um email como spam ou não. O Teorema de Bayes é uma forma de calcular probabilidades condicionais de forma reversa.\n",
    "\n",
    "Vamos considerar o clássico exemplo para explicar o teorema. Temos uma determinada doença A, e um teste T utilizado para detectar esta doença. O teste não é 100% confiável, indicando pessoas que não tem a doença como doentes (falsos positivos) e não detectando a doença em pessoas que a possuem (falsos negativos), como ilustra a figura abaixo: \n",
    "\n",
    "\n",
    "<center><img src=\"../images/bayes_teste.jpg\" width=\"80%\" /></center>\n",
    "\n",
    "\n",
    "Consideremos que 1% das pessoas possui esta doença e, logo, 99% das pessoas não a possui. O teste detecta a doença em pessoas efetivamente doentes 90% das vezes e, consequentemente, não detecta a doença em pessoas doentes em 10% dos casos. Em pessoas não doentes, o teste detecta a doença (erradamente) `em 5% dos casos` e não detecta em 95% dos casos. Podemos resumir desta forma:\n",
    "\n",
    "|                | Pessoa Doente | Pessoa Não Doente |\n",
    "|----------------|---------------|-------------------|\n",
    "| Teste positivo | 90 %          | 5 %               |\n",
    "| Teste Negativo | 10 %          | 95 %              |\n",
    "\n",
    "**Agora, vamos supor que você fez o teste e o resultado deu positivo. Como devemos interpretar este resultado?**\n",
    "\n",
    "Obviamente, existe uma chance de você possuir a doença e uma chance de não possuir. A chance de você ter a doença e o teste detecta-la (verdadeiro positivo) é igual a chance de você ter a doença multiplicado pela chance do teste ter dado positivo corretamente. \n",
    "\n",
    "Analogamente, a chance de você não ter a doença e o teste detecta-la mesmo assim (falso positivo) é igual a chance de você não ter a doença multiplicado pela chance do teste ter dado positivo incorretamente, e assim por diante, para todos os resultados. Atualizamos então a tabela, que fica assim:\n",
    "\n",
    "|                | Pessoa Doente                            | Pessoa Não Doente                               |\n",
    "|----------------|------------------------------------------|-------------------------------------------------|\n",
    "| Teste positivo | Prob Doente e teste pos: 1% × 90% = 0,9% | Prob Não Doente e teste pos: 99% × 5% = 4,95%   |\n",
    "| Teste Negativo | Prob Doente e teste neg: 1% × 10% = 0,1% | Prob Não Doente e teste neg: 99% × 95% = 94,05% |\n",
    "\n",
    "Estas então são nossas probabilidades para cada evento. Note que, se somadas, o resultado é 1, ou 100%. Mas agora temos uma dúvida. Se nosso teste deu positivo, qual a chance de termos a doença? \n",
    "\n",
    "Considerando o cálculo básico de probabilidade, temos que a chance de ter a doença é igual à chance do evento desejado dividido por todas as possibilidades. O evento desejado é um positivo verdadeiro, ou seja, teste positivo e a pessoa com doença. Para este caso, a probabilidade é de 0,9%. \n",
    "\n",
    "O total de possibilidades com relação ao teste positivo seria a soma da probabilidade de “Doente e teste pos” (verdadeiro positivo) com “Não Doente e teste pos” (falso positivo), que resultará em 0,9% + 4,95%, igual a 5,85%. \n",
    "\n",
    "Fazendo toda a conta então, nossa chance de ter a doença se temos um teste positivo é de 0,9%/5,85% = 0.1538, ou 15,38%. É uma chance bem mais baixa do que imaginamos apenas ao olhar para o problema e para a suposta precisão do teste.\n",
    "\n",
    "## Formulação matemática\n",
    "\n",
    "* P(D|A) = Probabilidade de ter a doença dado um teste positivo (este é a probabilidade que desejamos saber)\n",
    "\n",
    "* P(D) = Probabilidade da pessoa ter a doença = 1%\n",
    "\n",
    "* P(A|D) = Probabilidade de um teste positivo se a pessoa tem a doença = 0,9% (\n",
    "\n",
    "* P(A|¬D) = Probabilidade de um teste positivo se a pessoa não tem a doença = 4,95%\n",
    "\n",
    "    **O Teorema de bayes diz que :**\n",
    "    \n",
    "    \n",
    "$$ P(D|A) = \\frac{P(A|D) * P(D)}{P(A|D) * P(D)  + P(A|nao D) * P(nao D)}    $$\n",
    "\n",
    "\n",
    "Um excelente video ilustrativo pode ser encontrado [aqui](https://www.youtube.com/watch?v=HZGCoVF3YvM&t=0s)."
   ]
  },
  {
   "cell_type": "code",
   "execution_count": null,
   "metadata": {
    "ExecuteTime": {
     "end_time": "2021-07-28T17:37:33.408044Z",
     "start_time": "2021-07-28T17:37:33.391764Z"
    }
   },
   "outputs": [],
   "source": [
    "# A probabilidade de uma pessoa ter certa doença A é de 1%\n",
    "# consequentemente, a probabilidade de não ter a doença é de 99%\n",
    "\n",
    "\n",
    "# Um teste T para detectar a doença não é 100% confiável, detectando\n",
    "# a doença em pessoas não doentes e não detectando em pessoas doentes\n",
    "\n",
    "# O teste detecta a doença em pessoas doentes em 90% dos casos\n",
    "# e não detecta a doença em pessoas doentes em 10% dos casos\n",
    "\n",
    "\n",
    "# O teste detecta a doença em pessoas não doentes em 5% dos casos\n",
    "# e não detecta a doença em pessoas não doentes em 95% dos casos\n",
    "\n",
    "\n",
    "# Verdadeiro positivo: chance de ter a doença e o teste dar positivo\n",
    "\n",
    "\n",
    "# Verdadeiro negativo: chance de não ter a doença e o teste dar negativo\n",
    "\n",
    "# Falso positivo: chance de não ter a doença e o teste dar positivo\n",
    "\n",
    "# Falso negativo: chance de ter a doença e o teste dar negativo\n",
    "\n",
    "\n",
    "# Fizemos o teste e o resultado foi positivo. Qual a chance de eu ter a doença?\n",
    "# Teorema de Bayes: P(D|A) = (P(A|D) * P(D)) / (P(A|D) * P(D) + P(A|¬D) * P(¬D))\n",
    "\n"
   ]
  },
  {
   "cell_type": "markdown",
   "metadata": {},
   "source": [
    "## Exemplo\n",
    "\n",
    "Uma companhia multinacional tem três fábricas que produzem o mesmo tipo de produto. A fábrica I é responsável por 30% do total produzido, a fábrica II produz 45% do total, e o restante vem da fábrica III. Cada uma das fábricas, no entanto, produz uma proporção de produtos que não atendem aos padrões estabelecidos pelas normas internacionais. Tais produtos são considerados \"defeituosos\" e correspondem a 1%, 2% e 1,5%, respectivamente, dos totais produzidos por fábrica.\n",
    "\n",
    "No centro de distribuição, é feito o controle de qualidade da produção combinada das fábricas.\n",
    "\n",
    "1. Qual é a probabilidade de encontrar um produto defeituoso durante a inspeção de qualidade?\n",
    "2. Se durante a inspeção encontrarmos um produto defeituoso, qual é a probabilidade de que ele tenha sido produzino na Fábrica II?"
   ]
  },
  {
   "cell_type": "code",
   "execution_count": null,
   "metadata": {},
   "outputs": [],
   "source": []
  }
 ],
 "metadata": {
  "kernelspec": {
   "display_name": "Python 3",
   "language": "python",
   "name": "python3"
  },
  "language_info": {
   "codemirror_mode": {
    "name": "ipython",
    "version": 3
   },
   "file_extension": ".py",
   "mimetype": "text/x-python",
   "name": "python",
   "nbconvert_exporter": "python",
   "pygments_lexer": "ipython3",
   "version": "3.8.8"
  },
  "toc": {
   "base_numbering": 1,
   "nav_menu": {},
   "number_sections": true,
   "sideBar": true,
   "skip_h1_title": false,
   "title_cell": "Table of Contents",
   "title_sidebar": "Contents",
   "toc_cell": false,
   "toc_position": {
    "height": "calc(100% - 180px)",
    "left": "10px",
    "top": "150px",
    "width": "282.2px"
   },
   "toc_section_display": true,
   "toc_window_display": true
  },
  "varInspector": {
   "cols": {
    "lenName": 16,
    "lenType": 16,
    "lenVar": 40
   },
   "kernels_config": {
    "python": {
     "delete_cmd_postfix": "",
     "delete_cmd_prefix": "del ",
     "library": "var_list.py",
     "varRefreshCmd": "print(var_dic_list())"
    },
    "r": {
     "delete_cmd_postfix": ") ",
     "delete_cmd_prefix": "rm(",
     "library": "var_list.r",
     "varRefreshCmd": "cat(var_dic_list()) "
    }
   },
   "types_to_exclude": [
    "module",
    "function",
    "builtin_function_or_method",
    "instance",
    "_Feature"
   ],
   "window_display": false
  }
 },
 "nbformat": 4,
 "nbformat_minor": 4
}

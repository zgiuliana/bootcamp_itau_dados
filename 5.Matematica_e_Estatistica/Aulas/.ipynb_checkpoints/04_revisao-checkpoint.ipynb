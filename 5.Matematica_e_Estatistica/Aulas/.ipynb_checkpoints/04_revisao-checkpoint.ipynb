{
 "cells": [
  {
   "cell_type": "markdown",
   "id": "eac52314",
   "metadata": {},
   "source": [
    "# Revisão"
   ]
  },
  {
   "cell_type": "markdown",
   "id": "319fe374",
   "metadata": {
    "heading_collapsed": true
   },
   "source": [
    "## Probabilidades"
   ]
  },
  {
   "cell_type": "markdown",
   "id": "fe54b77a",
   "metadata": {
    "hidden": true
   },
   "source": [
    "![fraction_joke](../images/fraction_joke.jpg)"
   ]
  },
  {
   "cell_type": "code",
   "execution_count": null,
   "id": "0bfefcff",
   "metadata": {
    "hidden": true
   },
   "outputs": [],
   "source": []
  },
  {
   "cell_type": "markdown",
   "id": "faad0d46",
   "metadata": {
    "heading_collapsed": true
   },
   "source": [
    "## Análise combinatoria"
   ]
  },
  {
   "cell_type": "markdown",
   "id": "1d9df5e5",
   "metadata": {
    "hidden": true
   },
   "source": [
    "\n",
    "![analise_combinatoria](../images/analise_combinatoria.png)"
   ]
  },
  {
   "cell_type": "code",
   "execution_count": null,
   "id": "12c9aba5",
   "metadata": {
    "hidden": true
   },
   "outputs": [],
   "source": []
  },
  {
   "cell_type": "markdown",
   "id": "27b036b9",
   "metadata": {
    "heading_collapsed": true
   },
   "source": [
    "## Exercícios"
   ]
  },
  {
   "cell_type": "markdown",
   "id": "45d4d2df",
   "metadata": {
    "hidden": true
   },
   "source": [
    ">"
   ]
  },
  {
   "cell_type": "code",
   "execution_count": null,
   "id": "cda89733",
   "metadata": {
    "hidden": true
   },
   "outputs": [],
   "source": []
  }
 ],
 "metadata": {
  "kernelspec": {
   "display_name": "Python 3",
   "language": "python",
   "name": "python3"
  },
  "language_info": {
   "codemirror_mode": {
    "name": "ipython",
    "version": 3
   },
   "file_extension": ".py",
   "mimetype": "text/x-python",
   "name": "python",
   "nbconvert_exporter": "python",
   "pygments_lexer": "ipython3",
   "version": "3.8.8"
  },
  "toc": {
   "base_numbering": 1,
   "nav_menu": {},
   "number_sections": true,
   "sideBar": true,
   "skip_h1_title": false,
   "title_cell": "Table of Contents",
   "title_sidebar": "Contents",
   "toc_cell": false,
   "toc_position": {},
   "toc_section_display": true,
   "toc_window_display": true
  }
 },
 "nbformat": 4,
 "nbformat_minor": 5
}

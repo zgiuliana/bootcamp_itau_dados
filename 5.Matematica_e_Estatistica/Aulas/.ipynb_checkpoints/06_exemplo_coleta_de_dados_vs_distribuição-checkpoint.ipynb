{
 "cells": [
  {
   "cell_type": "code",
   "execution_count": 1,
   "id": "895655b3",
   "metadata": {
    "ExecuteTime": {
     "end_time": "2021-08-03T20:46:36.722813Z",
     "start_time": "2021-08-03T20:46:36.713127Z"
    }
   },
   "outputs": [],
   "source": [
    "alturas = [1.65, 1.53, 1.65, 1.56, 1.70, 1.86, 1.63, 1.85, 1.56, 1.63, 1.83, 1.85, 1.58, 1.71, 1.81, 1.70, 1.75, 1.90]"
   ]
  },
  {
   "cell_type": "code",
   "execution_count": 3,
   "id": "73c20881",
   "metadata": {
    "ExecuteTime": {
     "end_time": "2021-08-03T20:48:03.942556Z",
     "start_time": "2021-08-03T20:48:03.932590Z"
    }
   },
   "outputs": [
    {
     "name": "stdout",
     "output_type": "stream",
     "text": [
      "1.71 0.12\n"
     ]
    }
   ],
   "source": [
    "import numpy as np\n",
    "\n",
    "media = round(np.mean(alturas),2)\n",
    "\n",
    "sigma = round(np.std(alturas), 2)\n",
    "\n",
    "print(media, sigma)"
   ]
  },
  {
   "cell_type": "code",
   "execution_count": 4,
   "id": "6b0557a9",
   "metadata": {
    "ExecuteTime": {
     "end_time": "2021-08-03T20:48:57.512002Z",
     "start_time": "2021-08-03T20:48:57.187316Z"
    }
   },
   "outputs": [],
   "source": [
    "from scipy.stats import norm"
   ]
  },
  {
   "cell_type": "code",
   "execution_count": 5,
   "id": "6202eed8",
   "metadata": {
    "ExecuteTime": {
     "end_time": "2021-08-03T20:51:16.854012Z",
     "start_time": "2021-08-03T20:51:16.841011Z"
    }
   },
   "outputs": [],
   "source": [
    "def f(x, mu, sigma):\n",
    "    return 1/np.sqrt(2*np.pi*sigma)*np.exp(-0.5*((x-mu)/sigma)**2)"
   ]
  },
  {
   "cell_type": "code",
   "execution_count": 6,
   "id": "f136cab7",
   "metadata": {
    "ExecuteTime": {
     "end_time": "2021-08-03T20:51:31.094825Z",
     "start_time": "2021-08-03T20:51:30.340509Z"
    }
   },
   "outputs": [],
   "source": [
    "import seaborn as sns"
   ]
  },
  {
   "cell_type": "code",
   "execution_count": 12,
   "id": "d090c4d2",
   "metadata": {
    "ExecuteTime": {
     "end_time": "2021-08-03T20:53:18.927441Z",
     "start_time": "2021-08-03T20:53:18.910412Z"
    }
   },
   "outputs": [
    {
     "data": {
      "text/plain": [
       "array([1.        , 1.02020202, 1.04040404, 1.06060606, 1.08080808,\n",
       "       1.1010101 , 1.12121212, 1.14141414, 1.16161616, 1.18181818,\n",
       "       1.2020202 , 1.22222222, 1.24242424, 1.26262626, 1.28282828,\n",
       "       1.3030303 , 1.32323232, 1.34343434, 1.36363636, 1.38383838,\n",
       "       1.4040404 , 1.42424242, 1.44444444, 1.46464646, 1.48484848,\n",
       "       1.50505051, 1.52525253, 1.54545455, 1.56565657, 1.58585859,\n",
       "       1.60606061, 1.62626263, 1.64646465, 1.66666667, 1.68686869,\n",
       "       1.70707071, 1.72727273, 1.74747475, 1.76767677, 1.78787879,\n",
       "       1.80808081, 1.82828283, 1.84848485, 1.86868687, 1.88888889,\n",
       "       1.90909091, 1.92929293, 1.94949495, 1.96969697, 1.98989899,\n",
       "       2.01010101, 2.03030303, 2.05050505, 2.07070707, 2.09090909,\n",
       "       2.11111111, 2.13131313, 2.15151515, 2.17171717, 2.19191919,\n",
       "       2.21212121, 2.23232323, 2.25252525, 2.27272727, 2.29292929,\n",
       "       2.31313131, 2.33333333, 2.35353535, 2.37373737, 2.39393939,\n",
       "       2.41414141, 2.43434343, 2.45454545, 2.47474747, 2.49494949,\n",
       "       2.51515152, 2.53535354, 2.55555556, 2.57575758, 2.5959596 ,\n",
       "       2.61616162, 2.63636364, 2.65656566, 2.67676768, 2.6969697 ,\n",
       "       2.71717172, 2.73737374, 2.75757576, 2.77777778, 2.7979798 ,\n",
       "       2.81818182, 2.83838384, 2.85858586, 2.87878788, 2.8989899 ,\n",
       "       2.91919192, 2.93939394, 2.95959596, 2.97979798, 3.        ])"
      ]
     },
     "execution_count": 12,
     "metadata": {},
     "output_type": "execute_result"
    }
   ],
   "source": [
    "x = np.linspace(1, 3, 100)\n",
    "x"
   ]
  },
  {
   "cell_type": "code",
   "execution_count": 13,
   "id": "dd3f341e",
   "metadata": {
    "ExecuteTime": {
     "end_time": "2021-08-03T20:53:19.541262Z",
     "start_time": "2021-08-03T20:53:19.361084Z"
    }
   },
   "outputs": [
    {
     "data": {
      "text/plain": [
       "<AxesSubplot:>"
      ]
     },
     "execution_count": 13,
     "metadata": {},
     "output_type": "execute_result"
    },
    {
     "data": {
      "image/png": "[encoded data removed]",
      "text/plain": [
       "<Figure size 432x288 with 1 Axes>"
      ]
     },
     "metadata": {
      "needs_background": "light"
     },
     "output_type": "display_data"
    }
   ],
   "source": [
    "sns.lineplot(x=x, y=f(x, media, sigma))"
   ]
  },
  {
   "cell_type": "markdown",
   "id": "a5ac99ec",
   "metadata": {},
   "source": [
    "Qual a probabilidade de alguem da nossa sala medir 1.75 m?"
   ]
  },
  {
   "cell_type": "code",
   "execution_count": 14,
   "id": "699d4309",
   "metadata": {
    "ExecuteTime": {
     "end_time": "2021-08-03T20:55:33.751183Z",
     "start_time": "2021-08-03T20:55:33.745058Z"
    }
   },
   "outputs": [
    {
     "data": {
      "text/plain": [
       "0.33333333333333365"
      ]
     },
     "execution_count": 14,
     "metadata": {},
     "output_type": "execute_result"
    }
   ],
   "source": [
    "x = 1.75\n",
    "Z = (x - media)/sigma\n",
    "Z"
   ]
  },
  {
   "cell_type": "markdown",
   "id": "86e1413a",
   "metadata": {},
   "source": [
    "Resposta: 0.6293"
   ]
  },
  {
   "cell_type": "code",
   "execution_count": 15,
   "id": "786f256c",
   "metadata": {
    "ExecuteTime": {
     "end_time": "2021-08-03T20:58:02.429299Z",
     "start_time": "2021-08-03T20:58:02.417524Z"
    }
   },
   "outputs": [
    {
     "data": {
      "text/plain": [
       "0.6305586598182364"
      ]
     },
     "execution_count": 15,
     "metadata": {},
     "output_type": "execute_result"
    }
   ],
   "source": [
    "norm.cdf(Z)"
   ]
  },
  {
   "cell_type": "code",
   "execution_count": null,
   "id": "5e096f81",
   "metadata": {},
   "outputs": [],
   "source": []
  }
 ],
 "metadata": {
  "kernelspec": {
   "display_name": "Python 3",
   "language": "python",
   "name": "python3"
  },
  "language_info": {
   "codemirror_mode": {
    "name": "ipython",
    "version": 3
   },
   "file_extension": ".py",
   "mimetype": "text/x-python",
   "name": "python",
   "nbconvert_exporter": "python",
   "pygments_lexer": "ipython3",
   "version": "3.8.8"
  },
  "toc": {
   "base_numbering": 1,
   "nav_menu": {},
   "number_sections": true,
   "sideBar": true,
   "skip_h1_title": false,
   "title_cell": "Table of Contents",
   "title_sidebar": "Contents",
   "toc_cell": false,
   "toc_position": {},
   "toc_section_display": true,
   "toc_window_display": false
  }
 },
 "nbformat": 4,
 "nbformat_minor": 5
}

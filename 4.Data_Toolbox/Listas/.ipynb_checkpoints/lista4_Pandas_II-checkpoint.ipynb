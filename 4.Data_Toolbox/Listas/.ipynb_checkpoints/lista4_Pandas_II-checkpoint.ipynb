{
 "cells": [
  {
   "cell_type": "code",
   "execution_count": 21,
   "id": "160c59fe-0f4f-4cf6-8771-3f6230e64356",
   "metadata": {},
   "outputs": [],
   "source": [
    "import numpy as np\n",
    "import pandas as pd"
   ]
  },
  {
   "cell_type": "markdown",
   "id": "90c0c86f-5532-444b-9986-41942fbee2c3",
   "metadata": {},
   "source": [
    "#### 1\n"
   ]
  },
  {
   "cell_type": "code",
   "execution_count": 2,
   "id": "befd7c9e-b8ce-4ab8-a96d-f85c89893510",
   "metadata": {},
   "outputs": [],
   "source": [
    "df_avocado=pd.read_csv('../Datasets/avocado.csv')\n",
    "tipos = pd.Series(np.random.randint(0, 2, df_avocado.shape[0]))\n",
    "tipos = tipos.map({0: 'convencional', 1:'orgânico'})\n",
    "df_type=pd.DataFrame(data=tipos,columns=['Tipo'])\n",
    "df_full=pd.merge(df_avocado,df_type, on=df_avocado.index).drop('key_0', axis=1)\n",
    "df_full.to_csv('../Datasets/avocado_full.csv',index=False)"
   ]
  },
  {
   "cell_type": "code",
   "execution_count": null,
   "id": "e6421b9d-ab3a-475f-9614-861b7e97aa96",
   "metadata": {},
   "outputs": [],
   "source": []
  },
  {
   "cell_type": "markdown",
   "id": "7a765a05-063c-402f-b129-b5001d950183",
   "metadata": {},
   "source": [
    "#### 2\n",
    "Enunciado\n",
    "Carregue o arquivo csv que você salvou na questão anterior e, em seguida, obtenha o que é solicitado nos itens elencados abaixo:\n",
    "\n",
    "(a) A quantidade de abacates do tipo convecional e do tipo orgânico.\n",
    "\n",
    "(b) A quantidade de registros (linhas) de abacates vendidos para cada região.\n",
    "\n",
    "(c) Para que todos os labels das colunas fiquem padronizados, renomeie aqueles que estão iniciando em letra minúscula para que iniciem em letra maiúscula.\n",
    "\n",
    "(d) Uma vez que você já possui uma coluna com a data, remova a coluna que apresenta o ano."
   ]
  },
  {
   "cell_type": "code",
   "execution_count": 4,
   "id": "1f318020-0323-4f40-87b5-e2e16a19fcf2",
   "metadata": {},
   "outputs": [
    {
     "name": "stdout",
     "output_type": "stream",
     "text": [
      "letra a)\n",
      "               Total Volume\n",
      "Tipo                      \n",
      "convencional  7.703967e+09\n",
      "orgânico      7.819436e+09\n",
      "letra b)\n",
      " Northeast              338\n",
      "Tampa                  338\n",
      "DallasFtWorth          338\n",
      "Sacramento             338\n",
      "Southeast              338\n",
      "Philadelphia           338\n",
      "SanDiego               338\n",
      "RaleighGreensboro      338\n",
      "SanFrancisco           338\n",
      "Pittsburgh             338\n",
      "CincinnatiDayton       338\n",
      "Houston                338\n",
      "SouthCarolina          338\n",
      "Midsouth               338\n",
      "NorthernNewEngland     338\n",
      "Portland               338\n",
      "LasVegas               338\n",
      "HarrisburgScranton     338\n",
      "Orlando                338\n",
      "West                   338\n",
      "NewOrleansMobile       338\n",
      "RichmondNorfolk        338\n",
      "California             338\n",
      "GreatLakes             338\n",
      "Boise                  338\n",
      "Atlanta                338\n",
      "Seattle                338\n",
      "Indianapolis           338\n",
      "Chicago                338\n",
      "Nashville              338\n",
      "BaltimoreWashington    338\n",
      "LosAngeles             338\n",
      "SouthCentral           338\n",
      "TotalUS                338\n",
      "Charlotte              338\n",
      "Roanoke                338\n",
      "Louisville             338\n",
      "Denver                 338\n",
      "Albany                 338\n",
      "GrandRapids            338\n",
      "Detroit                338\n",
      "NewYork                338\n",
      "StLouis                338\n",
      "MiamiFtLauderdale      338\n",
      "PhoenixTucson          338\n",
      "Spokane                338\n",
      "Boston                 338\n",
      "Jacksonville           338\n",
      "BuffaloRochester       338\n",
      "Syracuse               338\n",
      "Plains                 338\n",
      "HartfordSpringfield    338\n",
      "Columbus               338\n",
      "WestTexNewMexico       335\n",
      "Name: region, dtype: int64\n"
     ]
    }
   ],
   "source": [
    "df=pd.read_csv('../Datasets/avocado_full.csv')\n",
    "print('letra a)\\n',df.groupby('Tipo').agg({'Total Volume': np.sum}))\n",
    "print('letra b)\\n',pd.value_counts(df['region']))\n",
    "df.rename(columns={'year': 'Year','region':'Region'},inplace=True)\n",
    "df.drop('Year',axis=1,inplace=True)"
   ]
  },
  {
   "cell_type": "markdown",
   "id": "0d97e89b-b009-44ba-8b6d-77fc9bcd3990",
   "metadata": {},
   "source": [
    "#### 3\n",
    "Carregue, em um objeto DataFrame, o mesmo dataset que você salvou na questão Q1, agrupe os dados do DF pelo tipo do abacate e, em seguida, obtenha:\n",
    "\n",
    "(a) A volume total de abacates vendidos para cada tipo.\n",
    "\n",
    "(b) O preço médio dos abacates vendidos para cada tipo."
   ]
  },
  {
   "cell_type": "code",
   "execution_count": 5,
   "id": "8ecb3506-f685-4d90-b28d-f9306b6a752a",
   "metadata": {},
   "outputs": [
    {
     "name": "stdout",
     "output_type": "stream",
     "text": [
      "letra a)\n",
      " Tipo\n",
      "convencional    7.703967e+09\n",
      "orgânico        7.819436e+09\n",
      "Name: Total Volume, dtype: float64\n",
      "letra b)\n",
      " Tipo\n",
      "convencional    1.402556\n",
      "orgânico        1.409346\n",
      "Name: AveragePrice, dtype: float64\n"
     ]
    }
   ],
   "source": [
    "df=pd.read_csv('../Datasets/avocado_full.csv')\n",
    "print('letra a)\\n',df.groupby('Tipo').sum()['Total Volume'])\n",
    "print('letra b)\\n',df.groupby('Tipo').mean()['AveragePrice'])"
   ]
  },
  {
   "cell_type": "markdown",
   "id": "199886b2-4eec-4c4c-a266-207bc89c6ccb",
   "metadata": {},
   "source": [
    "#### 4\n",
    "O arquivo googleplaystore.csv é um dataset que contém diversas informações sobre aplicativos disponíveis para download na Google Play Store. Você deve utilizar esse dataset para fazer o mesmo que foi solicitado na questão anterior. Ou seja, carregue-o em um objeto DataFrame e verifique os dados contidos nas colunas desse DF. Logo após, verifique se existem dados duplicados e/ou ausentes nesse dataset.\n",
    "\n",
    "Caso existam dados duplicados, remova-os. Caso existam dados ausentes, você pode removê-los ou pensar em alguma maneira de preenchê-los."
   ]
  },
  {
   "cell_type": "code",
   "execution_count": null,
   "id": "b5f77814-fdb6-4908-b58a-3d03ed252691",
   "metadata": {},
   "outputs": [
    {
     "name": "stdout",
     "output_type": "stream",
     "text": [
      "<class 'pandas.core.frame.DataFrame'>\n",
      "Int64Index: 10358 entries, 0 to 10840\n",
      "Data columns (total 13 columns):\n",
      " #   Column          Non-Null Count  Dtype  \n",
      "---  ------          --------------  -----  \n",
      " 0   App             10358 non-null  object \n",
      " 1   Category        10358 non-null  object \n",
      " 2   Rating          8893 non-null   float64\n",
      " 3   Reviews         10358 non-null  object \n",
      " 4   Size            10358 non-null  object \n",
      " 5   Installs        10358 non-null  object \n",
      " 6   Type            10358 non-null  object \n",
      " 7   Price           10358 non-null  object \n",
      " 8   Content Rating  10358 non-null  object \n",
      " 9   Genres          10358 non-null  object \n",
      " 10  Last Updated    10358 non-null  object \n",
      " 11  Current Ver     10358 non-null  object \n",
      " 12  Android Ver     10358 non-null  object \n",
      "dtypes: float64(1), object(12)\n",
      "memory usage: 1.1+ MB\n"
     ]
    }
   ],
   "source": [
    "df.info()"
   ]
  },
  {
   "cell_type": "code",
   "execution_count": 66,
   "id": "abd666f6-e6db-4515-aa4c-a5a738c89d3d",
   "metadata": {},
   "outputs": [
    {
     "name": "stdout",
     "output_type": "stream",
     "text": [
      "Qtd Linhas Duplicadas\n",
      " 483\n",
      "Qtd Linhas Duplicadas após tratamento\n",
      " 0\n",
      "Qtd Registros nulos em cada coluna\n",
      " App                  0\n",
      "Category             0\n",
      "Rating            1465\n",
      "Reviews              0\n",
      "Size                 0\n",
      "Installs             0\n",
      "Type                 1\n",
      "Price                0\n",
      "Content Rating       1\n",
      "Genres               0\n",
      "Last Updated         0\n",
      "Current Ver          8\n",
      "Android Ver          3\n",
      "dtype: int64\n",
      "Qtd Registros nulos após o tratamento\n",
      " App               0\n",
      "Category          0\n",
      "Rating            0\n",
      "Reviews           0\n",
      "Size              0\n",
      "Installs          0\n",
      "Type              0\n",
      "Price             0\n",
      "Content Rating    0\n",
      "Genres            0\n",
      "Last Updated      0\n",
      "Current Ver       0\n",
      "Android Ver       0\n",
      "dtype: int64\n"
     ]
    }
   ],
   "source": [
    "df=pd.read_csv('../Datasets/googleplaystore.csv')\n",
    "print('Qtd Linhas Duplicadas\\n',df.duplicated().sum())\n",
    "df.drop_duplicates(inplace=True)\n",
    "print('Qtd Linhas Duplicadas após tratamento\\n',df.duplicated().sum())\n",
    "print('Qtd Registros nulos em cada coluna\\n',df.isnull().sum())\n",
    "\n",
    "df['Type'].value_counts(normalize=True)\n",
    "df['Type'] = df['Type'].fillna('Free')\n",
    "\n",
    "df['Content Rating'].value_counts(normalize=True)\n",
    "df['Content Rating'] = df['Content Rating'].fillna('Everyone')\n",
    "\n",
    "df['Current Ver'].value_counts(normalize=True)\n",
    "df['Current Ver'] = df['Current Ver'].fillna('Varies with device')\n",
    "\n",
    "\n",
    "df['Android Ver'].value_counts(normalize=True)\n",
    "df['Android Ver'] = df['Android Ver'].fillna('Varies with device')\n",
    "#substitui o rating pela mediana\n",
    "df['Rating'] = df['Rating'].fillna(df['Rating'].median())\n",
    "print('Qtd Registros nulos após o tratamento\\n',df.isnull().sum())\n"
   ]
  },
  {
   "cell_type": "markdown",
   "id": "2362d179-5d13-4359-be26-872054ad375e",
   "metadata": {},
   "source": [
    "#### 5\n",
    "O arquivo houses_to_rent.csv consiste em um dataset que contém dados sobre casas para alugar no Brasil. Carregue-o em um objeto DataFrame e verifique os dados contidos nas colunas desse DF (você pode utilizar os métodos head, tail e info). Logo após, verifique se existem dados duplicados e/ou ausentes nesse dataset.\n",
    "\n",
    "Caso existam dados duplicados, remova-os. Caso existam dados ausentes, você pode removê-los ou pensar em alguma maneira de preenchê-los."
   ]
  },
  {
   "cell_type": "code",
   "execution_count": 74,
   "id": "bb2ea839-00f0-4077-a9a9-e3a77ca38c3b",
   "metadata": {},
   "outputs": [
    {
     "name": "stdout",
     "output_type": "stream",
     "text": [
      "           city  area  rooms  bathroom  parking spaces floor     animal  \\\n",
      "0     São Paulo    70      2         1               1     7      acept   \n",
      "1     São Paulo   320      4         4               0    20      acept   \n",
      "2  Porto Alegre    80      1         1               1     6      acept   \n",
      "3  Porto Alegre    51      2         1               0     2      acept   \n",
      "4     São Paulo    25      1         1               0     1  not acept   \n",
      "\n",
      "       furniture  hoa (R$)  rent amount (R$)  property tax (R$)  \\\n",
      "0      furnished      2065              3300                211   \n",
      "1  not furnished      1200              4960               1750   \n",
      "2  not furnished      1000              2800                  0   \n",
      "3  not furnished       270              1112                 22   \n",
      "4  not furnished         0               800                 25   \n",
      "\n",
      "   fire insurance (R$)  total (R$)  \n",
      "0                   42        5618  \n",
      "1                   63        7973  \n",
      "2                   41        3841  \n",
      "3                   17        1421  \n",
      "4                   11         836  \n",
      "Qtd Linhas Duplicadas\n",
      " 358\n",
      "Qtd Linhas Duplicadas após tratamento\n",
      " 0\n",
      "Qtd Registros nulos em cada coluna\n",
      " city                   0\n",
      "area                   0\n",
      "rooms                  0\n",
      "bathroom               0\n",
      "parking spaces         0\n",
      "floor                  0\n",
      "animal                 0\n",
      "furniture              0\n",
      "hoa (R$)               0\n",
      "rent amount (R$)       0\n",
      "property tax (R$)      0\n",
      "fire insurance (R$)    0\n",
      "total (R$)             0\n",
      "dtype: int64\n"
     ]
    },
    {
     "data": {
      "text/plain": [
       "(10334, 13)"
      ]
     },
     "execution_count": 74,
     "metadata": {},
     "output_type": "execute_result"
    }
   ],
   "source": [
    "df=pd.read_csv('../Datasets/houses_to_rent.csv')\n",
    "print(df.head(5))\n",
    "print('Qtd Linhas Duplicadas\\n',df.duplicated().sum())\n",
    "df.drop_duplicates(inplace=True)\n",
    "print('Qtd Linhas Duplicadas após tratamento\\n',df.duplicated().sum())\n",
    "print('Qtd Registros nulos em cada coluna\\n',df.isnull().sum())\n",
    "#Como não tem registros nulos, não fiz nenhum outro tratamento além da retirada dos nulos\n"
   ]
  }
 ],
 "metadata": {
  "kernelspec": {
   "display_name": "Python 3",
   "language": "python",
   "name": "python3"
  },
  "language_info": {
   "codemirror_mode": {
    "name": "ipython",
    "version": 3
   },
   "file_extension": ".py",
   "mimetype": "text/x-python",
   "name": "python",
   "nbconvert_exporter": "python",
   "pygments_lexer": "ipython3",
   "version": "3.7.6"
  }
 },
 "nbformat": 4,
 "nbformat_minor": 5
}

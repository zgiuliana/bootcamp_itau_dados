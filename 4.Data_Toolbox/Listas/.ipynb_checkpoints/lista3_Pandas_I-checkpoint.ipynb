{
 "cells": [
  {
   "cell_type": "code",
   "execution_count": 1,
   "metadata": {},
   "outputs": [],
   "source": [
    "import pandas as pd\n",
    "import numpy as np"
   ]
  },
  {
   "cell_type": "markdown",
   "metadata": {},
   "source": [
    "#### 1\n",
    "\n",
    "Em um concurso público foram contabilizados os números de pessoas inscritas (até a data inicialmente estabelecida para a inscrição) segundo os níveis de escolaridade: fundamental completo, médio completo, superior completo e pós-graduação completa. Segue abaixo a tabela com os valores observados.\n",
    "\n",
    "Nível de escolaridade\tInscritos\n",
    "\n",
    "Fundamental completo\t451\n",
    "\n",
    "Médio completo\t627\n",
    "\n",
    "Superior completo\t292\n",
    "\n",
    "Pós-graduação completa\t95\n",
    "\n",
    "Com base na tabela acima, crie uma Series com esses valores e calcule:\n",
    "\n",
    "(a) O número total de inscritos\n",
    "\n",
    "(b) Número inscritos que possuem, pelo menos, o superior completo.\n",
    "\n",
    "(c) Suponha que a inscrição foi prorrogada e, com isso, foi obtido um número adicional de inscrições: 68, 93, 22 e 0 inscritos a mais em cada uma das categorias de escolaridade apresentados na tabela acima (na mesma ordem). Assim, crie uma nova Series com esses valores.\n",
    "\n",
    "(d) Utilizando as duas Series que você tem, calcule o número total de inscritos após a prorrogação do período de inscrições."
   ]
  },
  {
   "cell_type": "code",
   "execution_count": 16,
   "metadata": {},
   "outputs": [
    {
     "name": "stdout",
     "output_type": "stream",
     "text": [
      "letra a) 1465\n",
      "letra b) 387\n",
      "letra c)\n",
      " Fundamental completo      68\n",
      "Médio completo            93\n",
      "Superior completo         22\n",
      "Pós-graduação completa     0\n",
      "dtype: int64\n",
      "letra d)\n",
      " Fundamental completo      519\n",
      "Médio completo            720\n",
      "Superior completo         314\n",
      "Pós-graduação completa     95\n",
      "dtype: int64\n"
     ]
    }
   ],
   "source": [
    "series1=pd.Series(data=[451,627,292,95],index=['Fundamental completo ','Médio completo','Superior completo','Pós-graduação completa'])\n",
    "\n",
    "print('letra a)',series1.sum())\n",
    "\n",
    "series2=series1[(series1.index=='Superior completo') | (series1.index=='Pós-graduação completa')]\n",
    "print('letra b)',series2.sum())\n",
    "\n",
    "series3=pd.Series(data=[68,93,22,0],index=['Fundamental completo ','Médio completo','Superior completo','Pós-graduação completa'])\n",
    "print('letra c)\\n',series3)\n",
    "\n",
    "series4=series1.add(series_new,fill_value=0)\n",
    "print('letra d)\\n',series4)"
   ]
  },
  {
   "cell_type": "markdown",
   "metadata": {},
   "source": [
    "#### 2\n",
    "Uma turma de cinco alunos foi submetida a uma avaliação e a nota de cada um dos alunos é apresentada na tabela abaixo:\n",
    "\n",
    "Nome do Aluno\tNota\n",
    "Wilfred\t2\n",
    "Abbie\t7\n",
    "Harry\t5.5\n",
    "Julia\t10\n",
    "Carrie\t6.2\n",
    "(a) Crie uma Series com os valores da tabela acima.\n",
    "(b) Retorne o número de alunos que foram aprovados (considerando que a nota mínima para a aprovação é 7).\n",
    "(c) Qual foi a nota média da turma.\n",
    "(d) Obtenha o nome dos alunos que tiraram notas acima da média da turma."
   ]
  },
  {
   "cell_type": "code",
   "execution_count": 30,
   "metadata": {},
   "outputs": [
    {
     "name": "stdout",
     "output_type": "stream",
     "text": [
      "letra a)\n",
      "Wilfred     2.0\n",
      "Abbie       7.0\n",
      "Harry       5.5\n",
      "Julia      10.0\n",
      "Carrie      6.2\n",
      "dtype: float64\n",
      "letra b) o número de alunos aprovados é: 2\n",
      "letra c) A média dos alunos é: 6.14\n",
      "letra d) Os Alunos que tiraram notas acima da média foram: ['Abbie', 'Julia', 'Carrie']\n"
     ]
    }
   ],
   "source": [
    "series2=pd.Series(data=[2,7,5.5,10,6.2],index=['Wilfred','Abbie','Harry','Julia','Carrie'])\n",
    "print(f'letra a)\\n{series2}')\n",
    "print('letra b) o número de alunos aprovados é:',len(series2[series2>=7]))\n",
    "print('letra c) A média dos alunos é:',series2.mean())\n",
    "print('letra d) Os Alunos que tiraram notas acima da média foram:',series2[series2>=series2.mean()].index.to_list())\n"
   ]
  },
  {
   "cell_type": "markdown",
   "metadata": {},
   "source": [
    "### 3\n",
    "Crie um objeto DataFrame que contenha os dados da tabela abaixo, os quais se referem ao peso, altura e idade de cinco pessoas:\n",
    "\n",
    "Peso (kg)\tAltura (cm)\tIdade\n",
    "72\t180\t31\n",
    "80\t170\t21\n",
    "60\t175\t16\n",
    "90\t174\t28\n",
    "100\t185\t23\n",
    "Com base no DataFrame criado, realize o que pedido nos itens abaixo:\n",
    "\n",
    "(a) Visualize apenas os dados da coluna que contém a altura das pessoas.\n",
    "(b) Obtenha a idade média das pessoas.\n",
    "(c) Obtenha os dados das pessoas que estão abaixo da altura média.\n",
    "(d) Crie um nova coluna no DataFrame que contenha o IMC (Índice de Massa Corporal) de cada pessoa.\n",
    "(e) Remova a coluna que contém a idade das pessoas.\n",
    "(f) Salve esses dados do DataFrame em um arquivo csv."
   ]
  },
  {
   "cell_type": "code",
   "execution_count": 56,
   "metadata": {},
   "outputs": [
    {
     "name": "stdout",
     "output_type": "stream",
     "text": [
      "letra a)\n",
      " 0    180\n",
      "1    170\n",
      "2    175\n",
      "3    174\n",
      "4    185\n",
      "Name: Altura (cm), dtype: int64\n",
      "letra b) 23.8\n",
      "letra c)\n",
      "    Peso (kg)  Altura (cm)  Idade\n",
      "1         80          170     21\n",
      "2         60          175     16\n",
      "3         90          174     28\n"
     ]
    }
   ],
   "source": [
    "#Cria o data frame\n",
    "dl= {\n",
    "    'Peso (kg)': [72, 80, 60,90,100],\n",
    "    'Altura (cm)': [180, 170, 175,174,185],\n",
    "    'Idade': [31,21,16,28,23]\n",
    "}\n",
    "df=pd.DataFrame(dl)\n",
    "#letra a)\n",
    "print('letra a)\\n',df['Altura (cm)'])\n",
    "print('letra b)',df['Idade'].mean())\n",
    "\n",
    "print('letra c)\\n',df[df['Altura (cm)'] < df['Altura (cm)'].mean()])\n",
    "#letra d\n",
    "df['IMC'] = round(df['Peso (kg)'] / (df['Altura (cm)'] / 100)**2,2)\n",
    "#letra e\n",
    "df.drop('Idade', axis=1, inplace=True)\n",
    "#letra f\n",
    "df.to_csv('../Datasets/lista_pd1_ex_3.csv',index=False)"
   ]
  },
  {
   "cell_type": "markdown",
   "metadata": {},
   "source": [
    "#### 4\n",
    "\n",
    "Carregue, em um objeto DataFrame, o arquivo CSV que você salvou no item (f) da questão anterior. Em seguida,\n",
    "\n",
    "(a) Crie uma nova coluna que contenha o nome das pessoas (sinta-se à vontade para atribuir os nomes que preferir).\n",
    "\n",
    "(b) Defina a nova coluna criada (com os nomes) como o índice (index) do seu DataFrame.\n",
    "\n",
    "(c) Obtenha o nome das pessoas que são classificadas com Sobrepeso (IMC entre 25 e 29,9)."
   ]
  },
  {
   "cell_type": "code",
   "execution_count": 72,
   "metadata": {},
   "outputs": [
    {
     "name": "stdout",
     "output_type": "stream",
     "text": [
      "['Maria', 'Luiza', 'Caio']\n"
     ]
    }
   ],
   "source": [
    "df=pd.read_csv('../Datasets/lista_pd1_ex_3.csv')\n",
    "# letra a\n",
    "df['Nome']=['João','Maria','José','Luiza','Caio']\n",
    "# letra b\n",
    "df.set_index(['Nome'], inplace=True)\n",
    "# letra c\n",
    "sobrepeso=df[(df['IMC']>=25) & (df['IMC']<=29.9)].index.to_list()\n",
    "print(sobrepeso)"
   ]
  },
  {
   "cell_type": "markdown",
   "metadata": {},
   "source": [
    "Carregue, em um objeto DataFrame, o mesmo dataset que você salvou na Questão 3. Em seguida,\n",
    "\n",
    "(a) Adicione uma nova coluna nesse DF chamada Classificação, que contenha a classificação de cada indivíduo, de acordo com o seu IMC. Para isso, consulte a tabela abaixo.\n",
    "\n",
    "IMC\tClassificação\tObesidade (grau)\n",
    "Menor que 18,5\tMagreza\t0\n",
    "Entre 18,5 e 24,9\tNormal\t0\n",
    "Entre 25,0 e 29,9\tSobrepeso\tI\n",
    "Entre 30,0 e 39,9\tObesidade\tII\n",
    "Maior que 40,0\tObesidade Grave\tIII\n",
    "(b) Salve em DataFrame no formato xlsx."
   ]
  },
  {
   "cell_type": "code",
   "execution_count": 78,
   "metadata": {},
   "outputs": [],
   "source": [
    "df=pd.read_csv('../Datasets/lista_pd1_ex_3.csv')\n",
    "def f(row):\n",
    "    if row['IMC'] < 18.5:\n",
    "        val = 'Magreza'\n",
    "    elif row['IMC'] >= 18.5 and row['IMC']<25:\n",
    "        val = 'Normal'\n",
    "    elif row['IMC'] >= 25 and row['IMC']<30:\n",
    "        val = 'Sobrepeso'\n",
    "    elif row['IMC'] >= 30 and row['IMC']<40:\n",
    "        val = 'Obesidade'\n",
    "    else:\n",
    "        val='Obesidade Grave'\n",
    "    return val\n",
    "df['Classificação'] = df.apply(f, axis=1)\n",
    "df.to_excel('../Datasets/lista_pd1_ex_5.xlsx',index=False)"
   ]
  }
 ],
 "metadata": {
  "kernelspec": {
   "display_name": "Python 3",
   "language": "python",
   "name": "python3"
  },
  "language_info": {
   "codemirror_mode": {
    "name": "ipython",
    "version": 3
   },
   "file_extension": ".py",
   "mimetype": "text/x-python",
   "name": "python",
   "nbconvert_exporter": "python",
   "pygments_lexer": "ipython3",
   "version": "3.7.6"
  }
 },
 "nbformat": 4,
 "nbformat_minor": 5
}

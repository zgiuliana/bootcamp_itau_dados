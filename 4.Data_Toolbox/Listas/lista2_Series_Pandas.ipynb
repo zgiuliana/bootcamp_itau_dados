{
 "cells": [
  {
   "cell_type": "code",
   "execution_count": 1,
   "metadata": {},
   "outputs": [],
   "source": [
    "import numpy as np\n",
    "import pandas as pd"
   ]
  },
  {
   "cell_type": "markdown",
   "metadata": {},
   "source": [
    "##### 1\n",
    "Crie uma Series com os índices registrados pelo TIOBE Index para as top 10 linguagens de programação. Os índices da Series devem ser os nomes das linguagens, e os valores devem ser as taxas de popularidade de cada respectiva linguagem de programação. Em seguida, utilize os métodos da Series para:\n",
    "\n",
    "- Exibir os cinco primeiros valores da Series\n",
    "- Exibir os cinco últimos valores da Series"
   ]
  },
  {
   "cell_type": "code",
   "execution_count": 3,
   "metadata": {},
   "outputs": [
    {
     "name": "stdout",
     "output_type": "stream",
     "text": [
      "Letra a)\n",
      " C         12.57%\n",
      "Python    11.86%\n",
      "Java      10.43%\n",
      "C++        7.36%\n",
      "C#         5.14%\n",
      "dtype: object\n",
      "Letra b)\n",
      " Visual Basic         4.67%\n",
      "JavaScript           2.95%\n",
      "PHP                  2.19%\n",
      "Assembly language    2.03%\n",
      "SQL                  1.47%\n",
      "dtype: object\n"
     ]
    }
   ],
   "source": [
    "lista_tabelas = pd.read_html('https://www.tiobe.com/tiobe-index/')\n",
    "tiobe=lista_tabelas[0]\n",
    "tiobe_final=tiobe.head(10)\n",
    "serie=pd.Series(data=tiobe_final['Ratings'].tolist(), index=tiobe_final['Programming Language.1'].tolist())\n",
    "print('Letra a)\\n',serie.head(5))\n",
    "print('Letra b)\\n',serie.tail(5))"
   ]
  },
  {
   "cell_type": "markdown",
   "metadata": {},
   "source": [
    "##### 2\n",
    "Crie uma Series com os 11 primeiros termos da sequência de Fibonacci. Utilize letras (em ordem alfabética) como os índices da Series. Em seguida, obtenha apenas aqueles elementos que forem superiores a 10 e inferiores a 50.\n",
    "\n",
    "Sequência de Fibonacci: 0, 1, 1, 2, 3, 5, 8, 13, 21, 34, 55..."
   ]
  },
  {
   "cell_type": "code",
   "execution_count": 4,
   "metadata": {},
   "outputs": [
    {
     "data": {
      "text/plain": [
       "h    13\n",
       "i    21\n",
       "j    34\n",
       "dtype: int64"
      ]
     },
     "execution_count": 4,
     "metadata": {},
     "output_type": "execute_result"
    }
   ],
   "source": [
    "import string\n",
    "def fibonacci(n):\n",
    "    if n==1:\n",
    "        return 0\n",
    "    elif n==2:\n",
    "        return 1\n",
    "    return fibonacci(n-1)+fibonacci(n-2)\n",
    "num=11\n",
    "seq=[]\n",
    "lista=list(range(1,num+1))\n",
    "seq=[fibonacci(n) for n in lista]\n",
    "\n",
    "alf = list(string.ascii_lowercase)[0:11]\n",
    "serie2=pd.Series(data=seq, index=alf)\n",
    "serie2[(serie2 > 10) & (serie2 < 50)]"
   ]
  },
  {
   "cell_type": "markdown",
   "metadata": {},
   "source": [
    "##### 3\n",
    "Crie um programa para calcular a média e o desvio padrão de uma series. "
   ]
  },
  {
   "cell_type": "code",
   "execution_count": 5,
   "metadata": {},
   "outputs": [
    {
     "name": "stdout",
     "output_type": "stream",
     "text": [
      "A média é: 13.0\n",
      "O desvio Padrão é: 16.61\n"
     ]
    }
   ],
   "source": [
    "def fibonacci(n):\n",
    "    if n==1:\n",
    "        return 0\n",
    "    elif n==2:\n",
    "        return 1\n",
    "    return fibonacci(n-1)+fibonacci(n-2)\n",
    "num=11\n",
    "seq=[]\n",
    "lista=list(range(1,num+1))\n",
    "seq=[fibonacci(n) for n in lista]\n",
    "serie3=pd.Series(data=seq)\n",
    "print('A média é:',serie3.mean())\n",
    "print('O desvio Padrão é:',round(np.std(serie3),2))\n"
   ]
  },
  {
   "cell_type": "markdown",
   "metadata": {},
   "source": [
    "##### 4\n",
    "Crie um array com 20 números aleatórios inteiros entre 1 e 5. Em seguida, calcule a frequência (percentual) de cada valor específico da Series."
   ]
  },
  {
   "cell_type": "code",
   "execution_count": 6,
   "metadata": {},
   "outputs": [
    {
     "data": {
      "text/plain": [
       "1    0.30\n",
       "2    0.15\n",
       "3    0.20\n",
       "4    0.30\n",
       "5    0.05\n",
       "dtype: float64"
      ]
     },
     "execution_count": 6,
     "metadata": {},
     "output_type": "execute_result"
    }
   ],
   "source": [
    "arr=np.random.randint(1, 6, 20)\n",
    "serie4=pd.Series(data=arr)\n",
    "serie4.value_counts(normalize=True, sort=False)"
   ]
  },
  {
   "cell_type": "markdown",
   "metadata": {},
   "source": [
    "##### 5\n",
    "Crie um programa para mostrar qual é o valor mais frequente de uma series e, em seguida, substitua todos os demais valores dela por \"Outro valor\".\n",
    "\n",
    "substituir na série original "
   ]
  },
  {
   "cell_type": "code",
   "execution_count": 76,
   "metadata": {},
   "outputs": [
    {
     "data": {
      "text/plain": [
       "0     Outro Valor\n",
       "1     Outro Valor\n",
       "2               2\n",
       "3               2\n",
       "4     Outro Valor\n",
       "5               2\n",
       "6     Outro Valor\n",
       "7     Outro Valor\n",
       "8     Outro Valor\n",
       "9     Outro Valor\n",
       "10    Outro Valor\n",
       "11    Outro Valor\n",
       "12    Outro Valor\n",
       "13              2\n",
       "14              2\n",
       "15    Outro Valor\n",
       "16    Outro Valor\n",
       "17    Outro Valor\n",
       "18              2\n",
       "19              2\n",
       "dtype: object"
      ]
     },
     "execution_count": 76,
     "metadata": {},
     "output_type": "execute_result"
    }
   ],
   "source": [
    "#cria uma series de 20 inteiros entre 1 e 6\n",
    "arr=np.random.randint(1, 6, 20)\n",
    "serie4=pd.Series(data=arr)\n",
    "\n",
    "# Calcula as frequências\n",
    "freq=serie4.value_counts(normalize=True, sort=True)\n",
    "# cria uma serie nova com apenas as maiores frequencias\n",
    "freq2=freq[freq == freq.max()]\n",
    "# cria uma lista com os indices mais frequentes\n",
    "lista=freq2.index\n",
    "#transforma a series para uma lista\n",
    "lista2=serie4.to_list()\n",
    "#compara o valor da series principal com aqueles que tem a maior frequencia e cria uma lista\n",
    "#Se o valor for o de maior sequencia dá append no valor, senão dá append em 'Outro Valor'\n",
    "final=[]\n",
    "for elemento1 in lista:\n",
    "    for elemento2 in lista2:\n",
    "        if elemento1==elemento2:\n",
    "            final.append(elemento2)\n",
    "        else:\n",
    "            final.append('Outro Valor')\n",
    "# Cria a series nova\n",
    "series5=pd.Series(data=final)\n",
    "series5\n"
   ]
  },
  {
   "cell_type": "markdown",
   "metadata": {},
   "source": [
    "##### 6\n",
    "Crie um array com números entre 1 e 10, com passo 1. Em seguida, embaralhe esses números utilizando o método shuffle do Numpy. Crie uma lista com o fatorial desses números, nessa nova ordem (após o embaralhamento). Por fim, crie uma Series cujo os valores são os fatoriais (embaralhados) e os índices são os números associados ao fatorial.\n",
    "\n",
    "Exemplo de saída\n",
    "\n",
    "3           6\n",
    "5         120\n",
    "1           1\n",
    "9      362880\n",
    "4          24\n",
    "7        5040\n",
    "10    3628800\n",
    "2           2\n",
    "6         720\n",
    "8       40320\n",
    "dtype: int64"
   ]
  },
  {
   "cell_type": "code",
   "execution_count": 77,
   "metadata": {},
   "outputs": [
    {
     "data": {
      "text/plain": [
       "6         720\n",
       "8       40320\n",
       "9      362880\n",
       "3           6\n",
       "4          24\n",
       "5         120\n",
       "10    3628800\n",
       "1           1\n",
       "2           2\n",
       "7        5040\n",
       "dtype: int64"
      ]
     },
     "execution_count": 77,
     "metadata": {},
     "output_type": "execute_result"
    }
   ],
   "source": [
    "def fatorial(n):\n",
    "    if n == 1:\n",
    "        return n\n",
    "    else:\n",
    "        return n * fatorial(n-1)\n",
    "\n",
    "arr=np.arange(1,11)\n",
    "np.random.shuffle(arr)\n",
    "\n",
    "lista=[fatorial(n) for n in arr]\n",
    "\n",
    "serie6=pd.Series(data=lista, index=arr)\n",
    "\n",
    "serie6"
   ]
  }
 ],
 "metadata": {
  "kernelspec": {
   "display_name": "Python 3",
   "language": "python",
   "name": "python3"
  },
  "language_info": {
   "codemirror_mode": {
    "name": "ipython",
    "version": 3
   },
   "file_extension": ".py",
   "mimetype": "text/x-python",
   "name": "python",
   "nbconvert_exporter": "python",
   "pygments_lexer": "ipython3",
   "version": "3.7.6"
  }
 },
 "nbformat": 4,
 "nbformat_minor": 5
}

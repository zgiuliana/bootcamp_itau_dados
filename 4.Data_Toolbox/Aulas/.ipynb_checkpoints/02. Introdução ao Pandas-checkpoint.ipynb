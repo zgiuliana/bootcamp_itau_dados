{
 "cells": [
  {
   "cell_type": "markdown",
   "metadata": {},
   "source": [
    "# Aula 02 - Numpy II & Introdução à Biblioteca do Pandas\n",
    "---\n",
    "\n",
    "<img src=\"https://lc-public-assets.s3.sa-east-1.amazonaws.com/images/Logos/logoLcPng.webp\" width=\"220px\" style=\"position: absolute; top: 15px; right: 20px; border-radius: 5px;\" />\n",
    "\n",
    "## Numpy - Parte II"
   ]
  },
  {
   "cell_type": "code",
   "execution_count": 1,
   "metadata": {},
   "outputs": [],
   "source": [
    "import numpy as np"
   ]
  },
  {
   "cell_type": "code",
   "execution_count": 2,
   "metadata": {},
   "outputs": [],
   "source": [
    "array = np.random.randint(1, 10, 50)"
   ]
  },
  {
   "cell_type": "code",
   "execution_count": 3,
   "metadata": {},
   "outputs": [],
   "source": [
    "import statistics as st"
   ]
  },
  {
   "cell_type": "code",
   "execution_count": 4,
   "metadata": {},
   "outputs": [
    {
     "data": {
      "text/plain": [
       "4"
      ]
     },
     "execution_count": 4,
     "metadata": {},
     "output_type": "execute_result"
    }
   ],
   "source": [
    "st.mode(array)"
   ]
  },
  {
   "cell_type": "markdown",
   "metadata": {},
   "source": [
    "## Revisão...\n",
    "\n",
    "### LC | Numpy\n",
    "\n",
    "#### Questão 01\n",
    "\n",
    "Crie uma lista do Python que contenha 10 inteiros aleatórios (entre 0 e 100). Em seguida, a partir da lista criada anteriormente, crie um array do Numpy, utilizando a função `array`."
   ]
  },
  {
   "cell_type": "code",
   "execution_count": 8,
   "metadata": {},
   "outputs": [
    {
     "data": {
      "text/plain": [
       "array([98, 21, 51,  1, 82, 87, 85, 72,  1, 21])"
      ]
     },
     "execution_count": 8,
     "metadata": {},
     "output_type": "execute_result"
    }
   ],
   "source": [
    "from random import randint\n",
    "\n",
    "lista_aleatorios = [randint(1, 100) for _ in range(10)]\n",
    "\n",
    "np.array(lista_aleatorios)"
   ]
  },
  {
   "cell_type": "markdown",
   "metadata": {},
   "source": [
    "#### Questão 02\n",
    "\n",
    "Crie um array com 10 elementos (iniciando em zero), em que os elementos tenham um intervalo de 3 unidades entre si."
   ]
  },
  {
   "cell_type": "code",
   "execution_count": 11,
   "metadata": {},
   "outputs": [
    {
     "name": "stdout",
     "output_type": "stream",
     "text": [
      "[ 0  3  6  9 12 15 18 21 24 27]\n",
      "Tamanho do array: 10\n"
     ]
    }
   ],
   "source": [
    "array = np.arange(0, 30, 3)\n",
    "\n",
    "print(array)\n",
    "print('Tamanho do array:', len(array))"
   ]
  },
  {
   "cell_type": "markdown",
   "metadata": {},
   "source": [
    "#### Questão 03\n",
    "\n",
    "Crie um array com 40 elementos entre 0 e π."
   ]
  },
  {
   "cell_type": "code",
   "execution_count": 12,
   "metadata": {},
   "outputs": [
    {
     "data": {
      "text/plain": [
       "3.141592653589793"
      ]
     },
     "execution_count": 12,
     "metadata": {},
     "output_type": "execute_result"
    }
   ],
   "source": [
    "np.pi"
   ]
  },
  {
   "cell_type": "code",
   "execution_count": 17,
   "metadata": {},
   "outputs": [
    {
     "data": {
      "text/plain": [
       "array([0.        , 0.08055366, 0.16110732, 0.24166097, 0.32221463,\n",
       "       0.40276829, 0.48332195, 0.5638756 , 0.64442926, 0.72498292,\n",
       "       0.80553658, 0.88609024, 0.96664389, 1.04719755, 1.12775121,\n",
       "       1.20830487, 1.28885852, 1.36941218, 1.44996584, 1.5305195 ,\n",
       "       1.61107316, 1.69162681, 1.77218047, 1.85273413, 1.93328779,\n",
       "       2.01384144, 2.0943951 , 2.17494876, 2.25550242, 2.33605608,\n",
       "       2.41660973, 2.49716339, 2.57771705, 2.65827071, 2.73882436,\n",
       "       2.81937802, 2.89993168, 2.98048534, 3.061039  , 3.14159265])"
      ]
     },
     "execution_count": 17,
     "metadata": {},
     "output_type": "execute_result"
    }
   ],
   "source": [
    "np.linspace(0, np.pi, 40)"
   ]
  },
  {
   "cell_type": "markdown",
   "metadata": {},
   "source": [
    "#### Questão 04\n",
    "\n",
    "Crie um array com 40 elementos, todos iguais a 6."
   ]
  },
  {
   "cell_type": "code",
   "execution_count": 18,
   "metadata": {},
   "outputs": [
    {
     "data": {
      "text/plain": [
       "array([6, 6, 6, 6, 6, 6, 6, 6, 6, 6, 6, 6, 6, 6, 6, 6, 6, 6, 6, 6, 6, 6,\n",
       "       6, 6, 6, 6, 6, 6, 6, 6, 6, 6, 6, 6, 6, 6, 6, 6, 6, 6])"
      ]
     },
     "execution_count": 18,
     "metadata": {},
     "output_type": "execute_result"
    }
   ],
   "source": [
    "np.full(40, 6)"
   ]
  },
  {
   "cell_type": "code",
   "execution_count": 19,
   "metadata": {},
   "outputs": [
    {
     "data": {
      "text/plain": [
       "array([[6, 6, 6, 6, 6],\n",
       "       [6, 6, 6, 6, 6],\n",
       "       [6, 6, 6, 6, 6],\n",
       "       [6, 6, 6, 6, 6],\n",
       "       [6, 6, 6, 6, 6],\n",
       "       [6, 6, 6, 6, 6],\n",
       "       [6, 6, 6, 6, 6],\n",
       "       [6, 6, 6, 6, 6]])"
      ]
     },
     "execution_count": 19,
     "metadata": {},
     "output_type": "execute_result"
    }
   ],
   "source": [
    "np.full((8, 5), 6)"
   ]
  },
  {
   "cell_type": "code",
   "execution_count": 20,
   "metadata": {},
   "outputs": [
    {
     "data": {
      "text/plain": [
       "array([6., 6., 6., 6., 6., 6., 6., 6., 6., 6., 6., 6., 6., 6., 6., 6., 6.,\n",
       "       6., 6., 6., 6., 6., 6., 6., 6., 6., 6., 6., 6., 6., 6., 6., 6., 6.,\n",
       "       6., 6., 6., 6., 6., 6.])"
      ]
     },
     "execution_count": 20,
     "metadata": {},
     "output_type": "execute_result"
    }
   ],
   "source": [
    "np.ones(40) * 6"
   ]
  },
  {
   "cell_type": "code",
   "execution_count": 22,
   "metadata": {},
   "outputs": [
    {
     "data": {
      "text/plain": [
       "array([[6., 6., 6., 6., 6.],\n",
       "       [6., 6., 6., 6., 6.],\n",
       "       [6., 6., 6., 6., 6.],\n",
       "       [6., 6., 6., 6., 6.],\n",
       "       [6., 6., 6., 6., 6.],\n",
       "       [6., 6., 6., 6., 6.],\n",
       "       [6., 6., 6., 6., 6.],\n",
       "       [6., 6., 6., 6., 6.]])"
      ]
     },
     "execution_count": 22,
     "metadata": {},
     "output_type": "execute_result"
    }
   ],
   "source": [
    "np.zeros((8, 5)) + 6"
   ]
  },
  {
   "cell_type": "markdown",
   "metadata": {},
   "source": [
    "## Continuando..."
   ]
  },
  {
   "cell_type": "markdown",
   "metadata": {},
   "source": [
    "#### `np.repeat`"
   ]
  },
  {
   "cell_type": "code",
   "execution_count": 23,
   "metadata": {},
   "outputs": [
    {
     "data": {
      "text/plain": [
       "array([ 0,  3,  6,  9, 12, 15, 18, 21, 24, 27])"
      ]
     },
     "execution_count": 23,
     "metadata": {},
     "output_type": "execute_result"
    }
   ],
   "source": [
    "array"
   ]
  },
  {
   "cell_type": "code",
   "execution_count": 24,
   "metadata": {},
   "outputs": [
    {
     "data": {
      "text/plain": [
       "array([ 0,  0,  0,  3,  3,  3,  6,  6,  6,  9,  9,  9, 12, 12, 12, 15, 15,\n",
       "       15, 18, 18, 18, 21, 21, 21, 24, 24, 24, 27, 27, 27])"
      ]
     },
     "execution_count": 24,
     "metadata": {},
     "output_type": "execute_result"
    }
   ],
   "source": [
    "np.repeat(array, 3)"
   ]
  },
  {
   "cell_type": "code",
   "execution_count": null,
   "metadata": {},
   "outputs": [],
   "source": []
  },
  {
   "cell_type": "code",
   "execution_count": null,
   "metadata": {},
   "outputs": [],
   "source": []
  },
  {
   "cell_type": "markdown",
   "metadata": {},
   "source": [
    "#### `reshape`"
   ]
  },
  {
   "cell_type": "code",
   "execution_count": 25,
   "metadata": {},
   "outputs": [
    {
     "data": {
      "text/plain": [
       "array([ 8,  6,  1,  7,  9,  8,  6,  7,  1,  7, 10,  7,  8,  4,  4,  1,  2,\n",
       "        1,  6,  1])"
      ]
     },
     "execution_count": 25,
     "metadata": {},
     "output_type": "execute_result"
    }
   ],
   "source": [
    "array = np.random.randint(1, 11, 20)\n",
    "\n",
    "array"
   ]
  },
  {
   "cell_type": "code",
   "execution_count": 27,
   "metadata": {},
   "outputs": [
    {
     "data": {
      "text/plain": [
       "array([[ 8,  6,  1,  7],\n",
       "       [ 9,  8,  6,  7],\n",
       "       [ 1,  7, 10,  7],\n",
       "       [ 8,  4,  4,  1],\n",
       "       [ 2,  1,  6,  1]])"
      ]
     },
     "execution_count": 27,
     "metadata": {},
     "output_type": "execute_result"
    }
   ],
   "source": [
    "# Gostaria de converter o array acima (20 elementos) para uma matriz [5 x 4]\n",
    "\n",
    "matriz = array.reshape((5, 4))\n",
    "\n",
    "matriz"
   ]
  },
  {
   "cell_type": "markdown",
   "metadata": {},
   "source": [
    "#### `np.transpose`"
   ]
  },
  {
   "cell_type": "code",
   "execution_count": 28,
   "metadata": {},
   "outputs": [
    {
     "data": {
      "text/plain": [
       "array([[ 8,  9,  1,  8,  2],\n",
       "       [ 6,  8,  7,  4,  1],\n",
       "       [ 1,  6, 10,  4,  6],\n",
       "       [ 7,  7,  7,  1,  1]])"
      ]
     },
     "execution_count": 28,
     "metadata": {},
     "output_type": "execute_result"
    }
   ],
   "source": [
    "np.transpose(matriz)"
   ]
  },
  {
   "cell_type": "code",
   "execution_count": 29,
   "metadata": {},
   "outputs": [
    {
     "data": {
      "text/plain": [
       "array([[ 8,  9,  1,  8,  2],\n",
       "       [ 6,  8,  7,  4,  1],\n",
       "       [ 1,  6, 10,  4,  6],\n",
       "       [ 7,  7,  7,  1,  1]])"
      ]
     },
     "execution_count": 29,
     "metadata": {},
     "output_type": "execute_result"
    }
   ],
   "source": [
    "matriz.T"
   ]
  },
  {
   "cell_type": "markdown",
   "metadata": {},
   "source": [
    "#### `np.vstack`"
   ]
  },
  {
   "cell_type": "code",
   "execution_count": 31,
   "metadata": {},
   "outputs": [
    {
     "data": {
      "text/plain": [
       "array([8, 6, 1, 7, 9])"
      ]
     },
     "execution_count": 31,
     "metadata": {},
     "output_type": "execute_result"
    }
   ],
   "source": [
    "sub_array = array[:5]\n",
    "\n",
    "sub_array"
   ]
  },
  {
   "cell_type": "code",
   "execution_count": 33,
   "metadata": {},
   "outputs": [
    {
     "data": {
      "text/plain": [
       "array([[8, 6, 1, 7, 9],\n",
       "       [8, 6, 1, 7, 9],\n",
       "       [8, 6, 1, 7, 9]])"
      ]
     },
     "execution_count": 33,
     "metadata": {},
     "output_type": "execute_result"
    }
   ],
   "source": [
    "np.vstack((sub_array, sub_array, sub_array))"
   ]
  },
  {
   "cell_type": "code",
   "execution_count": 35,
   "metadata": {},
   "outputs": [
    {
     "data": {
      "text/plain": [
       "array([[8, 6, 1, 7, 9],\n",
       "       [8, 6, 1, 7, 9]])"
      ]
     },
     "execution_count": 35,
     "metadata": {},
     "output_type": "execute_result"
    }
   ],
   "source": [
    "np.vstack((sub_array, sub_array))"
   ]
  },
  {
   "cell_type": "code",
   "execution_count": 39,
   "metadata": {},
   "outputs": [
    {
     "data": {
      "text/plain": [
       "array([[ 8,  6,  1,  7],\n",
       "       [ 9,  8,  6,  7],\n",
       "       [ 1,  7, 10,  7],\n",
       "       [ 8,  4,  4,  1],\n",
       "       [ 2,  1,  6,  1],\n",
       "       [ 8,  6,  1,  7],\n",
       "       [ 9,  8,  6,  7],\n",
       "       [ 1,  7, 10,  7],\n",
       "       [ 8,  4,  4,  1],\n",
       "       [ 2,  1,  6,  1]])"
      ]
     },
     "execution_count": 39,
     "metadata": {},
     "output_type": "execute_result"
    }
   ],
   "source": [
    "np.vstack((matriz, matriz))"
   ]
  },
  {
   "cell_type": "markdown",
   "metadata": {},
   "source": [
    "#### `np.hstack`"
   ]
  },
  {
   "cell_type": "code",
   "execution_count": 36,
   "metadata": {},
   "outputs": [
    {
     "data": {
      "text/plain": [
       "array([8, 6, 1, 7, 9, 8, 6, 1, 7, 9])"
      ]
     },
     "execution_count": 36,
     "metadata": {},
     "output_type": "execute_result"
    }
   ],
   "source": [
    "np.hstack((sub_array, sub_array))"
   ]
  },
  {
   "cell_type": "code",
   "execution_count": 37,
   "metadata": {},
   "outputs": [
    {
     "data": {
      "text/plain": [
       "array([[ 8,  6,  1,  7],\n",
       "       [ 9,  8,  6,  7],\n",
       "       [ 1,  7, 10,  7],\n",
       "       [ 8,  4,  4,  1],\n",
       "       [ 2,  1,  6,  1]])"
      ]
     },
     "execution_count": 37,
     "metadata": {},
     "output_type": "execute_result"
    }
   ],
   "source": [
    "matriz"
   ]
  },
  {
   "cell_type": "code",
   "execution_count": 38,
   "metadata": {},
   "outputs": [
    {
     "data": {
      "text/plain": [
       "array([[ 8,  6,  1,  7,  8,  6,  1,  7],\n",
       "       [ 9,  8,  6,  7,  9,  8,  6,  7],\n",
       "       [ 1,  7, 10,  7,  1,  7, 10,  7],\n",
       "       [ 8,  4,  4,  1,  8,  4,  4,  1],\n",
       "       [ 2,  1,  6,  1,  2,  1,  6,  1]])"
      ]
     },
     "execution_count": 38,
     "metadata": {},
     "output_type": "execute_result"
    }
   ],
   "source": [
    "np.hstack((matriz, matriz))"
   ]
  },
  {
   "cell_type": "markdown",
   "metadata": {},
   "source": [
    "### 7. Operações com Arrays\n",
    "\n",
    "> [Funções matemáticas do Numpy](https://numpy.org/doc/stable/reference/routines.math.html)"
   ]
  },
  {
   "cell_type": "code",
   "execution_count": 43,
   "metadata": {},
   "outputs": [
    {
     "data": {
      "text/plain": [
       "array([ 8,  6,  1,  7,  9,  8,  6,  7,  1,  7, 10,  7,  8,  4,  4,  1,  2,\n",
       "        1,  6,  1])"
      ]
     },
     "execution_count": 43,
     "metadata": {},
     "output_type": "execute_result"
    }
   ],
   "source": [
    "array"
   ]
  },
  {
   "cell_type": "code",
   "execution_count": 41,
   "metadata": {},
   "outputs": [
    {
     "data": {
      "text/plain": [
       "array([10,  8,  3,  9, 11, 10,  8,  9,  3,  9, 12,  9, 10,  6,  6,  3,  4,\n",
       "        3,  8,  3])"
      ]
     },
     "execution_count": 41,
     "metadata": {},
     "output_type": "execute_result"
    }
   ],
   "source": [
    "# Somando um array com uma constante\n",
    "\n",
    "array + 2"
   ]
  },
  {
   "cell_type": "code",
   "execution_count": 42,
   "metadata": {},
   "outputs": [
    {
     "data": {
      "text/plain": [
       "array([16, 12,  2, 14, 18, 16, 12, 14,  2, 14, 20, 14, 16,  8,  8,  2,  4,\n",
       "        2, 12,  2])"
      ]
     },
     "execution_count": 42,
     "metadata": {},
     "output_type": "execute_result"
    }
   ],
   "source": [
    "# Operações entre arrays: elemento a elemento (os arrays devem ter o mesmo shape)\n",
    "\n",
    "array + array"
   ]
  },
  {
   "cell_type": "code",
   "execution_count": 46,
   "metadata": {},
   "outputs": [
    {
     "data": {
      "text/plain": [
       "array([ 64,  36,   1,  49,  81,  64,  36,  49,   1,  49, 100,  49,  64,\n",
       "        16,  16,   1,   4,   1,  36,   1])"
      ]
     },
     "execution_count": 46,
     "metadata": {},
     "output_type": "execute_result"
    }
   ],
   "source": [
    "array * array"
   ]
  },
  {
   "cell_type": "code",
   "execution_count": 44,
   "metadata": {},
   "outputs": [
    {
     "data": {
      "text/plain": [
       "array([8, 6, 1, 7, 9])"
      ]
     },
     "execution_count": 44,
     "metadata": {},
     "output_type": "execute_result"
    }
   ],
   "source": [
    "sub_array"
   ]
  },
  {
   "cell_type": "code",
   "execution_count": 45,
   "metadata": {},
   "outputs": [
    {
     "ename": "ValueError",
     "evalue": "operands could not be broadcast together with shapes (5,) (20,) ",
     "output_type": "error",
     "traceback": [
      "\u001b[0;31m---------------------------------------------------------------------------\u001b[0m",
      "\u001b[0;31mValueError\u001b[0m                                Traceback (most recent call last)",
      "\u001b[0;32m<ipython-input-45-1da813c41c91>\u001b[0m in \u001b[0;36m<module>\u001b[0;34m\u001b[0m\n\u001b[0;32m----> 1\u001b[0;31m \u001b[0msub_array\u001b[0m \u001b[0;34m+\u001b[0m \u001b[0marray\u001b[0m\u001b[0;34m\u001b[0m\u001b[0;34m\u001b[0m\u001b[0m\n\u001b[0m",
      "\u001b[0;31mValueError\u001b[0m: operands could not be broadcast together with shapes (5,) (20,) "
     ]
    }
   ],
   "source": [
    "sub_array + array"
   ]
  },
  {
   "cell_type": "code",
   "execution_count": 48,
   "metadata": {},
   "outputs": [
    {
     "data": {
      "text/plain": [
       "array([[ 64,  36,   1,  49],\n",
       "       [ 81,  64,  36,  49],\n",
       "       [  1,  49, 100,  49],\n",
       "       [ 64,  16,  16,   1],\n",
       "       [  4,   1,  36,   1]])"
      ]
     },
     "execution_count": 48,
     "metadata": {},
     "output_type": "execute_result"
    }
   ],
   "source": [
    "# (2, 5) x (5, 4) >> (2, 4)\n",
    "\n",
    "matriz * matriz"
   ]
  },
  {
   "cell_type": "code",
   "execution_count": 51,
   "metadata": {},
   "outputs": [
    {
     "data": {
      "text/plain": [
       "array([[ 8,  6,  1,  7],\n",
       "       [ 9,  8,  6,  7],\n",
       "       [ 1,  7, 10,  7],\n",
       "       [ 8,  4,  4,  1],\n",
       "       [ 2,  1,  6,  1]])"
      ]
     },
     "execution_count": 51,
     "metadata": {},
     "output_type": "execute_result"
    }
   ],
   "source": [
    "matriz # (5, 4)"
   ]
  },
  {
   "cell_type": "code",
   "execution_count": 52,
   "metadata": {},
   "outputs": [
    {
     "data": {
      "text/plain": [
       "array([[ 8,  9,  1,  8,  2],\n",
       "       [ 6,  8,  7,  4,  1],\n",
       "       [ 1,  6, 10,  4,  6],\n",
       "       [ 7,  7,  7,  1,  1]])"
      ]
     },
     "execution_count": 52,
     "metadata": {},
     "output_type": "execute_result"
    }
   ],
   "source": [
    "matriz.T # (4, 5)"
   ]
  },
  {
   "cell_type": "code",
   "execution_count": 50,
   "metadata": {},
   "outputs": [
    {
     "data": {
      "text/plain": [
       "array([[150, 175, 109,  99,  35],\n",
       "       [175, 230, 174, 135,  69],\n",
       "       [109, 174, 199,  83,  76],\n",
       "       [ 99, 135,  83,  97,  45],\n",
       "       [ 35,  69,  76,  45,  42]])"
      ]
     },
     "execution_count": 50,
     "metadata": {},
     "output_type": "execute_result"
    }
   ],
   "source": [
    "# (5, 4) x (4, 5) >> (5, 5)\n",
    "matriz.dot(matriz.T)"
   ]
  },
  {
   "cell_type": "code",
   "execution_count": 53,
   "metadata": {},
   "outputs": [
    {
     "data": {
      "text/plain": [
       "array([ 0.98935825, -0.2794155 ,  0.84147098,  0.6569866 ,  0.41211849,\n",
       "        0.98935825, -0.2794155 ,  0.6569866 ,  0.84147098,  0.6569866 ,\n",
       "       -0.54402111,  0.6569866 ,  0.98935825, -0.7568025 , -0.7568025 ,\n",
       "        0.84147098,  0.90929743,  0.84147098, -0.2794155 ,  0.84147098])"
      ]
     },
     "execution_count": 53,
     "metadata": {},
     "output_type": "execute_result"
    }
   ],
   "source": [
    "np.sin(array)"
   ]
  },
  {
   "cell_type": "markdown",
   "metadata": {},
   "source": [
    "### 8. Máscaras\n",
    "\n",
    "Filtragem de dados."
   ]
  },
  {
   "cell_type": "code",
   "execution_count": 40,
   "metadata": {},
   "outputs": [
    {
     "data": {
      "text/plain": [
       "array([ 8,  6,  1,  7,  9,  8,  6,  7,  1,  7, 10,  7,  8,  4,  4,  1,  2,\n",
       "        1,  6,  1])"
      ]
     },
     "execution_count": 40,
     "metadata": {},
     "output_type": "execute_result"
    }
   ],
   "source": [
    "array"
   ]
  },
  {
   "cell_type": "code",
   "execution_count": 54,
   "metadata": {},
   "outputs": [
    {
     "data": {
      "text/plain": [
       "array([10,  8,  3,  9, 11, 10,  8,  9,  3,  9, 12,  9, 10,  6,  6,  3,  4,\n",
       "        3,  8,  3])"
      ]
     },
     "execution_count": 54,
     "metadata": {},
     "output_type": "execute_result"
    }
   ],
   "source": [
    "array + 2"
   ]
  },
  {
   "cell_type": "code",
   "execution_count": 56,
   "metadata": {},
   "outputs": [
    {
     "data": {
      "text/plain": [
       "array([ True,  True, False,  True,  True,  True,  True,  True, False,\n",
       "        True,  True,  True,  True, False, False, False, False, False,\n",
       "        True, False])"
      ]
     },
     "execution_count": 56,
     "metadata": {},
     "output_type": "execute_result"
    }
   ],
   "source": [
    "# Máscara\n",
    "\n",
    "array > 5"
   ]
  },
  {
   "cell_type": "code",
   "execution_count": 57,
   "metadata": {},
   "outputs": [
    {
     "data": {
      "text/plain": [
       "array([8, 6, 1, 7, 9])"
      ]
     },
     "execution_count": 57,
     "metadata": {},
     "output_type": "execute_result"
    }
   ],
   "source": [
    "sub_array"
   ]
  },
  {
   "cell_type": "code",
   "execution_count": 60,
   "metadata": {},
   "outputs": [
    {
     "data": {
      "text/plain": [
       "array([8, 1, 7])"
      ]
     },
     "execution_count": 60,
     "metadata": {},
     "output_type": "execute_result"
    }
   ],
   "source": [
    "sub_array[[True, False, True, True, False]]"
   ]
  },
  {
   "cell_type": "code",
   "execution_count": 61,
   "metadata": {},
   "outputs": [
    {
     "data": {
      "text/plain": [
       "array([ 8,  6,  7,  9,  8,  6,  7,  7, 10,  7,  8,  6])"
      ]
     },
     "execution_count": 61,
     "metadata": {},
     "output_type": "execute_result"
    }
   ],
   "source": [
    "array[array > 5]"
   ]
  },
  {
   "cell_type": "code",
   "execution_count": 62,
   "metadata": {},
   "outputs": [
    {
     "data": {
      "text/plain": [
       "array([6, 7, 6, 7, 7, 7, 6])"
      ]
     },
     "execution_count": 62,
     "metadata": {},
     "output_type": "execute_result"
    }
   ],
   "source": [
    "array[(array > 5) & (array < 8)]"
   ]
  },
  {
   "cell_type": "code",
   "execution_count": 64,
   "metadata": {},
   "outputs": [
    {
     "data": {
      "text/plain": [
       "array([ 1,  9,  1, 10,  1,  1,  1])"
      ]
     },
     "execution_count": 64,
     "metadata": {},
     "output_type": "execute_result"
    }
   ],
   "source": [
    "array[(array < 2) | (array > 8)]"
   ]
  },
  {
   "cell_type": "markdown",
   "metadata": {},
   "source": [
    "## Introdução ao Pandas\n",
    "\n",
    "- O Pandas é uma biblioteca do Python que fornece ferramentas de **análise de dados** e **estruturas de dados** de alta performance e *fáceis de usar*.\n",
    "- Por ser a principal e mais completa biblioteca para estes objetivos, o Pandas é *fundamental para Análise de Dados*.\n",
    "- É muito comum que os dados que analisamos estejam dispostos em formato de tabelas, sobretudo, quando falamos em análise estatística de dados.\n",
    "- Esses dados, no formato de tabela, podem apresentar, por exemplo, colunas que trazem diferentes atributos do dado, e linhas que trazem um conjunto de observações.\n",
    "    - Para exemplificar, [veja esse dataset](https://en.wikipedia.org/wiki/Iris_flower_data_set).\n",
    "    \n",
    "Para nos ajudar a lidar com esses dados em formato de tabelas, o Pandas nos fornece um objeto, chamado DataFrame, que é capaz de armazenar e manipular esse tipo de dado de uma forma equivalente às planilhas de Excel.\n",
    "\n",
    "### Instalação e importação"
   ]
  },
  {
   "cell_type": "code",
   "execution_count": 65,
   "metadata": {},
   "outputs": [
    {
     "name": "stdout",
     "output_type": "stream",
     "text": [
      "Requirement already satisfied: pandas in /home/walisson/.local/lib/python3.8/site-packages (1.3.1)\n",
      "Requirement already satisfied: numpy>=1.17.3 in /usr/lib/python3/dist-packages (from pandas) (1.17.4)\n",
      "Requirement already satisfied: pytz>=2017.3 in /usr/lib/python3/dist-packages (from pandas) (2019.3)\n",
      "Requirement already satisfied: python-dateutil>=2.7.3 in /usr/lib/python3/dist-packages (from pandas) (2.7.3)\n"
     ]
    }
   ],
   "source": [
    "!pip install pandas"
   ]
  },
  {
   "cell_type": "code",
   "execution_count": 66,
   "metadata": {},
   "outputs": [],
   "source": [
    "import pandas as pd"
   ]
  },
  {
   "cell_type": "markdown",
   "metadata": {},
   "source": [
    "## Series\n",
    "\n",
    "A `Series` é como uma coluna ou uma linha do nosso DataFrame (tabela). Embora possa parecer que esse objeto é idêntico a um Numpy array, ele possui atributos distintos, os quais vamos estudar agora.\n",
    "\n",
    "#### Criando a primeira `Series`"
   ]
  },
  {
   "cell_type": "code",
   "execution_count": 69,
   "metadata": {},
   "outputs": [],
   "source": [
    "serie = pd.Series([2320, 5430, 8300, 4560, 3768])"
   ]
  },
  {
   "cell_type": "code",
   "execution_count": 70,
   "metadata": {},
   "outputs": [
    {
     "data": {
      "text/plain": [
       "0    2320\n",
       "1    5430\n",
       "2    8300\n",
       "3    4560\n",
       "4    3768\n",
       "dtype: int64"
      ]
     },
     "execution_count": 70,
     "metadata": {},
     "output_type": "execute_result"
    }
   ],
   "source": [
    "serie"
   ]
  },
  {
   "cell_type": "markdown",
   "metadata": {},
   "source": [
    "#### `type`"
   ]
  },
  {
   "cell_type": "code",
   "execution_count": 71,
   "metadata": {},
   "outputs": [
    {
     "data": {
      "text/plain": [
       "pandas.core.series.Series"
      ]
     },
     "execution_count": 71,
     "metadata": {},
     "output_type": "execute_result"
    }
   ],
   "source": [
    "type(serie)"
   ]
  },
  {
   "cell_type": "markdown",
   "metadata": {},
   "source": [
    "#### Atributos importantes: `index` e `values`"
   ]
  },
  {
   "cell_type": "code",
   "execution_count": 72,
   "metadata": {},
   "outputs": [
    {
     "data": {
      "text/plain": [
       "RangeIndex(start=0, stop=5, step=1)"
      ]
     },
     "execution_count": 72,
     "metadata": {},
     "output_type": "execute_result"
    }
   ],
   "source": [
    "serie.index"
   ]
  },
  {
   "cell_type": "code",
   "execution_count": 73,
   "metadata": {},
   "outputs": [
    {
     "data": {
      "text/plain": [
       "array([2320, 5430, 8300, 4560, 3768])"
      ]
     },
     "execution_count": 73,
     "metadata": {},
     "output_type": "execute_result"
    }
   ],
   "source": [
    "serie.values"
   ]
  },
  {
   "cell_type": "markdown",
   "metadata": {},
   "source": [
    "#### Definindo os índice da Series"
   ]
  },
  {
   "cell_type": "code",
   "execution_count": 74,
   "metadata": {},
   "outputs": [],
   "source": [
    "serie2 = pd.Series(data=[2320, 5430, 8300, 4560, 3768], index=['seg', 'ter', 'qua', 'qui', 'sex'])"
   ]
  },
  {
   "cell_type": "code",
   "execution_count": 75,
   "metadata": {},
   "outputs": [
    {
     "data": {
      "text/plain": [
       "seg    2320\n",
       "ter    5430\n",
       "qua    8300\n",
       "qui    4560\n",
       "sex    3768\n",
       "dtype: int64"
      ]
     },
     "execution_count": 75,
     "metadata": {},
     "output_type": "execute_result"
    }
   ],
   "source": [
    "serie2"
   ]
  },
  {
   "cell_type": "code",
   "execution_count": 76,
   "metadata": {},
   "outputs": [
    {
     "data": {
      "text/plain": [
       "10    2320\n",
       "11    5430\n",
       "12    8300\n",
       "13    4560\n",
       "14    3768\n",
       "dtype: int64"
      ]
     },
     "execution_count": 76,
     "metadata": {},
     "output_type": "execute_result"
    }
   ],
   "source": [
    "pd.Series(data=[2320, 5430, 8300, 4560, 3768], index=range(10, 15))"
   ]
  },
  {
   "cell_type": "code",
   "execution_count": 77,
   "metadata": {},
   "outputs": [
    {
     "data": {
      "text/plain": [
       "['a', 'b', 'c', 'd', 'e']"
      ]
     },
     "execution_count": 77,
     "metadata": {},
     "output_type": "execute_result"
    }
   ],
   "source": [
    "'a b c d e'.split()"
   ]
  },
  {
   "cell_type": "code",
   "execution_count": 78,
   "metadata": {},
   "outputs": [],
   "source": [
    "serie2 = pd.Series(data=[2320, 5430, 8300, 4560, 3768], index='seg ter qua qui sex'.split())"
   ]
  },
  {
   "cell_type": "code",
   "execution_count": 79,
   "metadata": {},
   "outputs": [
    {
     "data": {
      "text/plain": [
       "seg    2320\n",
       "ter    5430\n",
       "qua    8300\n",
       "qui    4560\n",
       "sex    3768\n",
       "dtype: int64"
      ]
     },
     "execution_count": 79,
     "metadata": {},
     "output_type": "execute_result"
    }
   ],
   "source": [
    "serie2"
   ]
  },
  {
   "cell_type": "code",
   "execution_count": 82,
   "metadata": {},
   "outputs": [
    {
     "data": {
      "text/plain": [
       "Index(['seg', 'ter', 'qua', 'qui', 'sex'], dtype='object')"
      ]
     },
     "execution_count": 82,
     "metadata": {},
     "output_type": "execute_result"
    }
   ],
   "source": [
    "serie2.index"
   ]
  },
  {
   "cell_type": "code",
   "execution_count": 83,
   "metadata": {},
   "outputs": [
    {
     "data": {
      "text/plain": [
       "array([2320, 5430, 8300, 4560, 3768])"
      ]
     },
     "execution_count": 83,
     "metadata": {},
     "output_type": "execute_result"
    }
   ],
   "source": [
    "serie2.values"
   ]
  },
  {
   "cell_type": "markdown",
   "metadata": {},
   "source": [
    "## Principais Métodos\n",
    "\n",
    "#### Estatísticos\n",
    "\n",
    "- `max`\n",
    "- `min`\n",
    "- `sum`\n",
    "- `mean`\n",
    "- `median`\n",
    "- `std`\n",
    "- `var`\n",
    "- `mode`\n",
    "- `describe`"
   ]
  },
  {
   "cell_type": "code",
   "execution_count": 84,
   "metadata": {},
   "outputs": [
    {
     "data": {
      "text/plain": [
       "seg    2320\n",
       "ter    5430\n",
       "qua    8300\n",
       "qui    4560\n",
       "sex    3768\n",
       "dtype: int64"
      ]
     },
     "execution_count": 84,
     "metadata": {},
     "output_type": "execute_result"
    }
   ],
   "source": [
    "serie2"
   ]
  },
  {
   "cell_type": "code",
   "execution_count": 85,
   "metadata": {},
   "outputs": [
    {
     "data": {
      "text/plain": [
       "8300"
      ]
     },
     "execution_count": 85,
     "metadata": {},
     "output_type": "execute_result"
    }
   ],
   "source": [
    "serie2.max()"
   ]
  },
  {
   "cell_type": "code",
   "execution_count": 86,
   "metadata": {},
   "outputs": [
    {
     "data": {
      "text/plain": [
       "2"
      ]
     },
     "execution_count": 86,
     "metadata": {},
     "output_type": "execute_result"
    }
   ],
   "source": [
    "serie2.argmax()"
   ]
  },
  {
   "cell_type": "code",
   "execution_count": 87,
   "metadata": {},
   "outputs": [
    {
     "data": {
      "text/plain": [
       "2320"
      ]
     },
     "execution_count": 87,
     "metadata": {},
     "output_type": "execute_result"
    }
   ],
   "source": [
    "serie2.min()"
   ]
  },
  {
   "cell_type": "code",
   "execution_count": 88,
   "metadata": {},
   "outputs": [
    {
     "data": {
      "text/plain": [
       "24378"
      ]
     },
     "execution_count": 88,
     "metadata": {},
     "output_type": "execute_result"
    }
   ],
   "source": [
    "serie2.sum()"
   ]
  },
  {
   "cell_type": "code",
   "execution_count": 89,
   "metadata": {},
   "outputs": [
    {
     "data": {
      "text/plain": [
       "4875.6"
      ]
     },
     "execution_count": 89,
     "metadata": {},
     "output_type": "execute_result"
    }
   ],
   "source": [
    "serie2.mean()"
   ]
  },
  {
   "cell_type": "code",
   "execution_count": 90,
   "metadata": {},
   "outputs": [
    {
     "data": {
      "text/plain": [
       "4560.0"
      ]
     },
     "execution_count": 90,
     "metadata": {},
     "output_type": "execute_result"
    }
   ],
   "source": [
    "serie2.median()"
   ]
  },
  {
   "cell_type": "code",
   "execution_count": 91,
   "metadata": {},
   "outputs": [
    {
     "data": {
      "text/plain": [
       "2229.9858295513895"
      ]
     },
     "execution_count": 91,
     "metadata": {},
     "output_type": "execute_result"
    }
   ],
   "source": [
    "serie2.std() # desvio padrão"
   ]
  },
  {
   "cell_type": "code",
   "execution_count": 92,
   "metadata": {},
   "outputs": [
    {
     "data": {
      "text/plain": [
       "4972836.8"
      ]
     },
     "execution_count": 92,
     "metadata": {},
     "output_type": "execute_result"
    }
   ],
   "source": [
    "serie2.var() # variância"
   ]
  },
  {
   "cell_type": "code",
   "execution_count": 93,
   "metadata": {},
   "outputs": [
    {
     "data": {
      "text/plain": [
       "0    2320\n",
       "1    3768\n",
       "2    4560\n",
       "3    5430\n",
       "4    8300\n",
       "dtype: int64"
      ]
     },
     "execution_count": 93,
     "metadata": {},
     "output_type": "execute_result"
    }
   ],
   "source": [
    "serie2.mode()"
   ]
  },
  {
   "cell_type": "code",
   "execution_count": 94,
   "metadata": {},
   "outputs": [
    {
     "data": {
      "text/plain": [
       "count       5.00000\n",
       "mean     4875.60000\n",
       "std      2229.98583\n",
       "min      2320.00000\n",
       "25%      3768.00000\n",
       "50%      4560.00000\n",
       "75%      5430.00000\n",
       "max      8300.00000\n",
       "dtype: float64"
      ]
     },
     "execution_count": 94,
     "metadata": {},
     "output_type": "execute_result"
    }
   ],
   "source": [
    "serie2.describe()"
   ]
  },
  {
   "cell_type": "markdown",
   "metadata": {},
   "source": [
    "#### `head` e `tail`"
   ]
  },
  {
   "cell_type": "code",
   "execution_count": 97,
   "metadata": {},
   "outputs": [
    {
     "data": {
      "text/plain": [
       "seg    2320\n",
       "ter    5430\n",
       "qua    8300\n",
       "dtype: int64"
      ]
     },
     "execution_count": 97,
     "metadata": {},
     "output_type": "execute_result"
    }
   ],
   "source": [
    "serie2.head(3)"
   ]
  },
  {
   "cell_type": "code",
   "execution_count": 98,
   "metadata": {},
   "outputs": [
    {
     "data": {
      "text/plain": [
       "qui    4560\n",
       "sex    3768\n",
       "dtype: int64"
      ]
     },
     "execution_count": 98,
     "metadata": {},
     "output_type": "execute_result"
    }
   ],
   "source": [
    "serie2.tail(2)"
   ]
  },
  {
   "cell_type": "code",
   "execution_count": 99,
   "metadata": {},
   "outputs": [
    {
     "data": {
      "text/plain": [
       "seg    2320\n",
       "ter    5430\n",
       "qua    8300\n",
       "qui    4560\n",
       "sex    3768\n",
       "dtype: int64"
      ]
     },
     "execution_count": 99,
     "metadata": {},
     "output_type": "execute_result"
    }
   ],
   "source": [
    "serie2.head()"
   ]
  },
  {
   "cell_type": "code",
   "execution_count": 100,
   "metadata": {},
   "outputs": [
    {
     "data": {
      "text/plain": [
       "seg    2320\n",
       "ter    5430\n",
       "qua    8300\n",
       "qui    4560\n",
       "sex    3768\n",
       "dtype: int64"
      ]
     },
     "execution_count": 100,
     "metadata": {},
     "output_type": "execute_result"
    }
   ],
   "source": [
    "serie2.tail()"
   ]
  },
  {
   "cell_type": "markdown",
   "metadata": {},
   "source": [
    "#### `unique` e `value_counts`"
   ]
  },
  {
   "cell_type": "code",
   "execution_count": 105,
   "metadata": {},
   "outputs": [
    {
     "data": {
      "text/plain": [
       "0    10\n",
       "1    15\n",
       "2    15\n",
       "3    12\n",
       "4    11\n",
       "dtype: int64"
      ]
     },
     "execution_count": 105,
     "metadata": {},
     "output_type": "execute_result"
    }
   ],
   "source": [
    "series = pd.Series(data=np.random.randint(10, 20, 50))\n",
    "\n",
    "series.head()"
   ]
  },
  {
   "cell_type": "code",
   "execution_count": 106,
   "metadata": {},
   "outputs": [
    {
     "data": {
      "text/plain": [
       "array([10, 15, 12, 11, 13, 17, 18, 19, 16, 14])"
      ]
     },
     "execution_count": 106,
     "metadata": {},
     "output_type": "execute_result"
    }
   ],
   "source": [
    "series.unique()"
   ]
  },
  {
   "cell_type": "code",
   "execution_count": 114,
   "metadata": {},
   "outputs": [
    {
     "data": {
      "text/plain": [
       "[10, 11, 12, 13, 14, 15, 16, 17, 18, 19]"
      ]
     },
     "execution_count": 114,
     "metadata": {},
     "output_type": "execute_result"
    }
   ],
   "source": [
    "sorted(series.unique())"
   ]
  },
  {
   "cell_type": "code",
   "execution_count": 107,
   "metadata": {},
   "outputs": [
    {
     "data": {
      "text/plain": [
       "12    7\n",
       "13    7\n",
       "17    7\n",
       "18    6\n",
       "15    5\n",
       "19    5\n",
       "11    4\n",
       "10    3\n",
       "16    3\n",
       "14    3\n",
       "dtype: int64"
      ]
     },
     "execution_count": 107,
     "metadata": {},
     "output_type": "execute_result"
    }
   ],
   "source": [
    "series.value_counts()"
   ]
  },
  {
   "cell_type": "code",
   "execution_count": 111,
   "metadata": {},
   "outputs": [
    {
     "data": {
      "text/plain": [
       "12    14.0\n",
       "13    14.0\n",
       "17    14.0\n",
       "18    12.0\n",
       "15    10.0\n",
       "19    10.0\n",
       "11     8.0\n",
       "10     6.0\n",
       "16     6.0\n",
       "14     6.0\n",
       "dtype: float64"
      ]
     },
     "execution_count": 111,
     "metadata": {},
     "output_type": "execute_result"
    }
   ],
   "source": [
    "series.value_counts() / len(series) * 100"
   ]
  },
  {
   "cell_type": "code",
   "execution_count": 108,
   "metadata": {},
   "outputs": [
    {
     "data": {
      "text/plain": [
       "50"
      ]
     },
     "execution_count": 108,
     "metadata": {},
     "output_type": "execute_result"
    }
   ],
   "source": [
    "len(series)"
   ]
  },
  {
   "cell_type": "code",
   "execution_count": 113,
   "metadata": {},
   "outputs": [
    {
     "data": {
      "text/plain": [
       "10    0.06\n",
       "15    0.10\n",
       "12    0.14\n",
       "11    0.08\n",
       "13    0.14\n",
       "17    0.14\n",
       "18    0.12\n",
       "19    0.10\n",
       "16    0.06\n",
       "14    0.06\n",
       "dtype: float64"
      ]
     },
     "execution_count": 113,
     "metadata": {},
     "output_type": "execute_result"
    }
   ],
   "source": [
    "series.value_counts(normalize=True, sort=False)"
   ]
  },
  {
   "cell_type": "markdown",
   "metadata": {},
   "source": [
    "#### `sort_values`"
   ]
  },
  {
   "cell_type": "code",
   "execution_count": 117,
   "metadata": {},
   "outputs": [
    {
     "data": {
      "text/plain": [
       "0     10\n",
       "47    10\n",
       "24    10\n",
       "4     11\n",
       "27    11\n",
       "dtype: int64"
      ]
     },
     "execution_count": 117,
     "metadata": {},
     "output_type": "execute_result"
    }
   ],
   "source": [
    "series.sort_values().head()"
   ]
  },
  {
   "cell_type": "code",
   "execution_count": null,
   "metadata": {},
   "outputs": [],
   "source": []
  },
  {
   "cell_type": "markdown",
   "metadata": {},
   "source": [
    "### Operações Matemáticas"
   ]
  },
  {
   "cell_type": "code",
   "execution_count": 119,
   "metadata": {
    "collapsed": true,
    "jupyter": {
     "outputs_hidden": true
    },
    "tags": []
   },
   "outputs": [
    {
     "data": {
      "text/plain": [
       "0     0\n",
       "1     5\n",
       "2     5\n",
       "3     2\n",
       "4     1\n",
       "5     2\n",
       "6     3\n",
       "7     2\n",
       "8     7\n",
       "9     8\n",
       "10    9\n",
       "11    5\n",
       "12    2\n",
       "13    8\n",
       "14    7\n",
       "15    8\n",
       "16    6\n",
       "17    3\n",
       "18    7\n",
       "19    4\n",
       "20    2\n",
       "21    3\n",
       "22    7\n",
       "23    9\n",
       "24    0\n",
       "25    5\n",
       "26    8\n",
       "27    1\n",
       "28    8\n",
       "29    9\n",
       "30    3\n",
       "31    8\n",
       "32    3\n",
       "33    1\n",
       "34    1\n",
       "35    7\n",
       "36    4\n",
       "37    7\n",
       "38    3\n",
       "39    9\n",
       "40    5\n",
       "41    6\n",
       "42    6\n",
       "43    2\n",
       "44    7\n",
       "45    2\n",
       "46    3\n",
       "47    0\n",
       "48    9\n",
       "49    4\n",
       "dtype: int64"
      ]
     },
     "execution_count": 119,
     "metadata": {},
     "output_type": "execute_result"
    }
   ],
   "source": [
    "series - 10"
   ]
  },
  {
   "cell_type": "code",
   "execution_count": 120,
   "metadata": {
    "collapsed": true,
    "jupyter": {
     "outputs_hidden": true
    },
    "tags": []
   },
   "outputs": [
    {
     "data": {
      "text/plain": [
       "0     20\n",
       "1     30\n",
       "2     30\n",
       "3     24\n",
       "4     22\n",
       "5     24\n",
       "6     26\n",
       "7     24\n",
       "8     34\n",
       "9     36\n",
       "10    38\n",
       "11    30\n",
       "12    24\n",
       "13    36\n",
       "14    34\n",
       "15    36\n",
       "16    32\n",
       "17    26\n",
       "18    34\n",
       "19    28\n",
       "20    24\n",
       "21    26\n",
       "22    34\n",
       "23    38\n",
       "24    20\n",
       "25    30\n",
       "26    36\n",
       "27    22\n",
       "28    36\n",
       "29    38\n",
       "30    26\n",
       "31    36\n",
       "32    26\n",
       "33    22\n",
       "34    22\n",
       "35    34\n",
       "36    28\n",
       "37    34\n",
       "38    26\n",
       "39    38\n",
       "40    30\n",
       "41    32\n",
       "42    32\n",
       "43    24\n",
       "44    34\n",
       "45    24\n",
       "46    26\n",
       "47    20\n",
       "48    38\n",
       "49    28\n",
       "dtype: int64"
      ]
     },
     "execution_count": 120,
     "metadata": {},
     "output_type": "execute_result"
    }
   ],
   "source": [
    "series + series"
   ]
  },
  {
   "cell_type": "code",
   "execution_count": 122,
   "metadata": {},
   "outputs": [
    {
     "data": {
      "text/plain": [
       "0    2320\n",
       "1    5430\n",
       "2    8300\n",
       "3    4560\n",
       "4    3768\n",
       "dtype: int64"
      ]
     },
     "execution_count": 122,
     "metadata": {},
     "output_type": "execute_result"
    }
   ],
   "source": [
    "serie"
   ]
  },
  {
   "cell_type": "code",
   "execution_count": 123,
   "metadata": {},
   "outputs": [
    {
     "data": {
      "text/plain": [
       "seg    2320\n",
       "ter    5430\n",
       "qua    8300\n",
       "qui    4560\n",
       "sex    3768\n",
       "dtype: int64"
      ]
     },
     "execution_count": 123,
     "metadata": {},
     "output_type": "execute_result"
    }
   ],
   "source": [
    "serie2"
   ]
  },
  {
   "cell_type": "code",
   "execution_count": 121,
   "metadata": {},
   "outputs": [
    {
     "data": {
      "text/plain": [
       "0     NaN\n",
       "1     NaN\n",
       "2     NaN\n",
       "3     NaN\n",
       "4     NaN\n",
       "qua   NaN\n",
       "qui   NaN\n",
       "seg   NaN\n",
       "sex   NaN\n",
       "ter   NaN\n",
       "dtype: float64"
      ]
     },
     "execution_count": 121,
     "metadata": {},
     "output_type": "execute_result"
    }
   ],
   "source": [
    "serie2 + serie"
   ]
  },
  {
   "cell_type": "code",
   "execution_count": 124,
   "metadata": {},
   "outputs": [
    {
     "data": {
      "text/plain": [
       "qua    16600.0\n",
       "qui        NaN\n",
       "seg     4640.0\n",
       "sex        NaN\n",
       "ter    10860.0\n",
       "dtype: float64"
      ]
     },
     "execution_count": 124,
     "metadata": {},
     "output_type": "execute_result"
    }
   ],
   "source": [
    "serie2 + serie2['seg':'qua']"
   ]
  },
  {
   "cell_type": "markdown",
   "metadata": {},
   "source": [
    "### Indexação e Slices"
   ]
  },
  {
   "cell_type": "code",
   "execution_count": null,
   "metadata": {},
   "outputs": [],
   "source": []
  },
  {
   "cell_type": "code",
   "execution_count": null,
   "metadata": {},
   "outputs": [],
   "source": []
  },
  {
   "cell_type": "code",
   "execution_count": null,
   "metadata": {},
   "outputs": [],
   "source": []
  },
  {
   "cell_type": "code",
   "execution_count": null,
   "metadata": {},
   "outputs": [],
   "source": []
  },
  {
   "cell_type": "markdown",
   "metadata": {},
   "source": [
    "### Máscaras"
   ]
  },
  {
   "cell_type": "code",
   "execution_count": null,
   "metadata": {},
   "outputs": [],
   "source": []
  },
  {
   "cell_type": "code",
   "execution_count": null,
   "metadata": {},
   "outputs": [],
   "source": []
  },
  {
   "cell_type": "markdown",
   "metadata": {},
   "source": [
    "### Operações com Series"
   ]
  },
  {
   "cell_type": "code",
   "execution_count": null,
   "metadata": {},
   "outputs": [],
   "source": []
  },
  {
   "cell_type": "code",
   "execution_count": null,
   "metadata": {},
   "outputs": [],
   "source": []
  },
  {
   "cell_type": "code",
   "execution_count": null,
   "metadata": {},
   "outputs": [],
   "source": []
  },
  {
   "cell_type": "markdown",
   "metadata": {},
   "source": [
    "## DataFrames\n",
    "---\n",
    "\n",
    "- [Criação de DataFrames](https://walissonsilva.com/blog/diferentes-formas-de-criar-um-dataframe)\n",
    "- Acesso aos dados\n",
    "    - Acessando coluna(s)\n",
    "    - Acessando um elemento específico\n",
    "    - Acessando linha(s)\n",
    "    - `loc` e `iloc`\n",
    "- Criando novas colunas\n",
    "- `reset_index` e `set_index`\n",
    "- Carregando e Salvando Datasets\n",
    "    - Conhecendo o [Kaggle](https://www.kaggle.com/)\n",
    "    - CSV\n",
    "    - XLSX\n",
    "    - HTML  \n",
    "    - ..."
   ]
  },
  {
   "cell_type": "code",
   "execution_count": null,
   "metadata": {},
   "outputs": [],
   "source": []
  }
 ],
 "metadata": {
  "kernelspec": {
   "display_name": "Python 3",
   "language": "python",
   "name": "python3"
  },
  "language_info": {
   "codemirror_mode": {
    "name": "ipython",
    "version": 3
   },
   "file_extension": ".py",
   "mimetype": "text/x-python",
   "name": "python",
   "nbconvert_exporter": "python",
   "pygments_lexer": "ipython3",
   "version": "3.8.10"
  }
 },
 "nbformat": 4,
 "nbformat_minor": 4
}
